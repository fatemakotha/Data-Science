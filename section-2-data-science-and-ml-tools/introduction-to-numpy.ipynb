{
  "cells": [
    {
      "cell_type": "markdown",
      "metadata": {
        "id": "B3fgRwj6F_h4"
      },
      "source": [
        "# A Quick Introduction to Numerical Data Manipulation with Python and NumPy\n",
        "\n",
        "\n",
        "## What is NumPy?\n",
        "\n",
        "[NumPy](https://docs.scipy.org/doc/numpy/index.html) stands for numerical Python. It's the backbone of all kinds of scientific and numerical computing in Python.\n",
        "\n",
        "And since machine learning is all about turning data into numbers and then figuring out the patterns, NumPy often comes into play.\n",
        "\n",
        "<img src=\"https://github.com/mrdbourke/zero-to-mastery-ml/blob/master/images/numpy-6-step-ml-framework-tools-numpy-highlight.png?raw=1\" alt=\"a 6 step machine learning framework along will tools you can use for each step\" width=\"700\"/>\n",
        "\n",
        "## Why NumPy?\n",
        "\n",
        "You can do numerical calculations using pure Python. In the beginning, you might think Python is fast but once your data gets large, you'll start to notice slow downs.\n",
        "\n",
        "One of the main reasons you use NumPy is because it's fast. Behind the scenes, the code has been optimized to run using C. Which is another programming language, which can do things much faster than Python.\n",
        "\n",
        "The benefit of this being behind the scenes is you don't need to know any C to take advantage of it. You can write your numerical computations in Python using NumPy and get the added speed benefits.\n",
        "\n",
        "If your curious as to what causes this speed benefit, it's a process called vectorization. [Vectorization](https://en.wikipedia.org/wiki/Vectorization) aims to do calculations by avoiding loops as loops can create potential bottlenecks.\n",
        "\n",
        "NumPy achieves vectorization through a process called [broadcasting](https://docs.scipy.org/doc/numpy/user/basics.broadcasting.html#module-numpy.doc.broadcasting).\n",
        "\n",
        "\n",
        "## What does this notebook cover?\n",
        "\n",
        "The NumPy library is very capable. However, learning everything off by heart isn't necessary. Instead, this notebook focuses on the main concepts of NumPy and the `ndarray` datatype.\n",
        "\n",
        "You can think of the `ndarray` datatype as a very flexible array of numbers.\n",
        "\n",
        "More specifically, we'll look at:\n",
        "* NumPy datatypes & attributes\n",
        "* Creating arrays\n",
        "* Viewing arrays & matrices (indexing)\n",
        "* Manipulating & comparing arrays\n",
        "* Sorting arrays\n",
        "* Use cases (examples of turning things into numbers)\n",
        "\n",
        "After going through it, you'll have the base knolwedge of NumPy you need to keep moving forward.\n",
        "\n",
        "## Where can I get help?\n",
        "If you get stuck or think of something you'd like to do which this notebook doesn't cover, don't fear!\n",
        "\n",
        "The recommended steps you take are:\n",
        "1. **Try it** - Since NumPy is very friendly, your first step should be to use what you know and try figure out the answer to your own question (getting it wrong is part of the process). If in doubt, run your code.\n",
        "2. **Search for it** - If trying it on your own doesn't work, since someone else has probably tried to do something similar, try searching for your problem. You'll likely end up in 1 of 2 places:\n",
        "    * [NumPy documentation](https://docs.scipy.org/doc/numpy/index.html) - the ground truth for everything NumPy, this resource covers all of the NumPy functionality.\n",
        "    * [Stack Overflow](https://stackoverflow.com/) - this is the developers Q&A hub, it's full of questions and answers of different problems across a wide range of software development topics and chances are, there's one related to your problem.\n",
        "    \n",
        "An example of searching for a NumPy function might be:\n",
        "\n",
        "> \"how to find unique elements in a numpy array\"\n",
        "\n",
        "Searching this on Google leads to the NumPy documentation for the `np.uniquie()` function: https://docs.scipy.org/doc/numpy/reference/generated/numpy.unique.html\n",
        "\n",
        "The next steps here are to read through the documentation, check the examples and see if they line up to the problem you're trying to solve. If they do, **rewrite the code** to suit your needs, run it, and see what the outcomes are.\n",
        "\n",
        "3. **Ask for help** - If you've been through the above 2 steps and you're still stuck, you might want to ask your question on [Stack Overflow](https://www.stackoverflow.com). Be as specific as possible and provide details on what you've tried.\n",
        "\n",
        "Remember, you don't have to learn all of the functions off by heart to begin with. \n",
        "\n",
        "What's most important is continually asking yourself, \"what am I trying to do with the data?\".\n",
        "\n",
        "Start by answering that question and then practicing finding the code which does it.\n",
        "\n",
        "Let's get started."
      ]
    },
    {
      "cell_type": "markdown",
      "metadata": {
        "id": "8wSAbsORF_iA"
      },
      "source": [
        "## 0. Importing NumPy\n",
        "\n",
        "To get started using NumPy, the first step is to import it. \n",
        "\n",
        "The most common way (and method you should use) is to import NumPy as the abbreviation `np`.\n",
        "\n",
        "If you see the letters `np` used anywhere in machine learning or data science, it's probably referring to the NumPy library."
      ]
    },
    {
      "cell_type": "code",
      "execution_count": 1,
      "metadata": {
        "id": "QrK0Sg0CF_iB"
      },
      "outputs": [],
      "source": [
        "import numpy as np"
      ]
    },
    {
      "cell_type": "markdown",
      "metadata": {
        "id": "uPRowTStF_iB"
      },
      "source": [
        "## 1. DataTypes and attributes\n",
        "\n",
        "**NOTE:** Important to remember the main type in NumPy is `ndarray`, even seemingly different kinds of arrays are still `ndarray`'s. This means an operation you do on one array, will work on another. ndarray is an n dimentional array"
      ]
    },
    {
      "cell_type": "code",
      "execution_count": 2,
      "metadata": {
        "id": "mnStEWJeF_iB"
      },
      "outputs": [],
      "source": [
        "# 1-dimensonal array, also referred to as a vector\n",
        "a1 = np.array([1, 2, 3])\n",
        "\n",
        "# 2-dimensional array, also referred to as matrix\n",
        "a2 = np.array([[1, 2.0, 3.3],\n",
        "               [4, 5, 6.5]])\n",
        "\n",
        "# 3-dimensional array, also referred to as a matrix\n",
        "a3 = np.array([[[1, 2, 3],\n",
        "                [4, 5, 6],\n",
        "                [7, 8, 9]],\n",
        "                [[10, 11, 12],\n",
        "                 [13, 14, 15],\n",
        "                 [16, 17, 18]]])"
      ]
    },
    {
      "cell_type": "code",
      "execution_count": 12,
      "metadata": {
        "colab": {
          "base_uri": "https://localhost:8080/"
        },
        "id": "u9bwBp4aF_iC",
        "outputId": "38875dd7-a6f8-472e-9f9b-f5a843f823f7"
      },
      "outputs": [
        {
          "output_type": "execute_result",
          "data": {
            "text/plain": [
              "((3,), 1, dtype('int64'), 3, numpy.ndarray)"
            ]
          },
          "metadata": {},
          "execution_count": 12
        }
      ],
      "source": [
        "a1.shape, a1.ndim, a1.dtype, a1.size, type(a1) \n",
        "#in the output:\n",
        "#((3,), 1, dtype('int64'), 3, numpy.ndarray)\n",
        "#shape, dimention, datatypeofEachitem, noOfEntries, type ****\n",
        "#we know the shape is 1,3 but numpy doesn't mention the 3 !!"
      ]
    },
    {
      "cell_type": "code",
      "execution_count": 13,
      "metadata": {
        "colab": {
          "base_uri": "https://localhost:8080/"
        },
        "id": "jbF5Hsu2F_iC",
        "outputId": "5dcfaafd-ea2f-4c5d-d12b-bd7c69c5aaf9"
      },
      "outputs": [
        {
          "output_type": "execute_result",
          "data": {
            "text/plain": [
              "((2, 3), 2, dtype('float64'), 6, numpy.ndarray)"
            ]
          },
          "metadata": {},
          "execution_count": 13
        }
      ],
      "source": [
        "a2.shape, a2.ndim, a2.dtype, a2.size, type(a2)"
      ]
    },
    {
      "cell_type": "code",
      "execution_count": 14,
      "metadata": {
        "colab": {
          "base_uri": "https://localhost:8080/"
        },
        "id": "Q0wjvpywF_iC",
        "outputId": "e41c99a8-caa8-459e-8312-1fa05970086f"
      },
      "outputs": [
        {
          "output_type": "execute_result",
          "data": {
            "text/plain": [
              "((2, 3, 3), 3, dtype('int64'), 18, numpy.ndarray)"
            ]
          },
          "metadata": {},
          "execution_count": 14
        }
      ],
      "source": [
        "a3.shape, a3.ndim, a3.dtype, a3.size, type(a3)"
      ]
    },
    {
      "cell_type": "code",
      "execution_count": 15,
      "metadata": {
        "colab": {
          "base_uri": "https://localhost:8080/"
        },
        "id": "DKicbKA-F_iD",
        "outputId": "31d7fbc7-3218-4b49-e4dc-d3083abe9800"
      },
      "outputs": [
        {
          "output_type": "execute_result",
          "data": {
            "text/plain": [
              "array([1, 2, 3])"
            ]
          },
          "metadata": {},
          "execution_count": 15
        }
      ],
      "source": [
        "a1"
      ]
    },
    {
      "cell_type": "code",
      "execution_count": 16,
      "metadata": {
        "colab": {
          "base_uri": "https://localhost:8080/"
        },
        "id": "m-nedaSGF_iD",
        "outputId": "ab46ff3c-765f-46c4-c3b8-a836c8c03f5e"
      },
      "outputs": [
        {
          "output_type": "execute_result",
          "data": {
            "text/plain": [
              "array([[1. , 2. , 3.3],\n",
              "       [4. , 5. , 6.5]])"
            ]
          },
          "metadata": {},
          "execution_count": 16
        }
      ],
      "source": [
        "a2"
      ]
    },
    {
      "cell_type": "code",
      "execution_count": 17,
      "metadata": {
        "colab": {
          "base_uri": "https://localhost:8080/"
        },
        "id": "Aw235RNYF_iD",
        "outputId": "19f8057f-b132-43c9-a128-fec96d9c20cf"
      },
      "outputs": [
        {
          "output_type": "execute_result",
          "data": {
            "text/plain": [
              "array([[[ 1,  2,  3],\n",
              "        [ 4,  5,  6],\n",
              "        [ 7,  8,  9]],\n",
              "\n",
              "       [[10, 11, 12],\n",
              "        [13, 14, 15],\n",
              "        [16, 17, 18]]])"
            ]
          },
          "metadata": {},
          "execution_count": 17
        }
      ],
      "source": [
        "a3"
      ]
    },
    {
      "cell_type": "markdown",
      "metadata": {
        "id": "gSeSj4sDF_iD"
      },
      "source": [
        "### Anatomy of an array\n",
        "\n",
        "<img src=\"https://github.com/mrdbourke/zero-to-mastery-ml/blob/master/images/numpy-anatomy-of-an-array-updated.png?raw=1\" alt=\"anatomy of a numpy array\"/>\n",
        "\n",
        "Key terms:\n",
        "* **Array** - A list of numbers, can be multi-dimensional.\n",
        "* **Scalar** - A single number (e.g. `7`).\n",
        "* **Vector** - A list of numbers with 1-dimesion (e.g. `np.array([1, 2, 3])`).\n",
        "* **Matrix** - A (usually) multi-deminsional list of numbers (e.g. `np.array([[1, 2, 3], [4, 5, 6]])`)."
      ]
    },
    {
      "cell_type": "markdown",
      "metadata": {
        "id": "bo3fJ3tVF_iD"
      },
      "source": [
        "### **Create *pandas* DataFrame out of NumPy arrays**\n",
        "\n",
        "This is to examplify how NumPy is the backbone of many other libraries."
      ]
    },
    {
      "cell_type": "code",
      "source": [
        "import pandas as pd"
      ],
      "metadata": {
        "id": "uSZn9vXOJ0b1"
      },
      "execution_count": 19,
      "outputs": []
    },
    {
      "cell_type": "code",
      "source": [
        "data = pd.DataFrame(a2)\n",
        "data"
      ],
      "metadata": {
        "id": "fD5rbLj7J27w",
        "outputId": "e1723dd6-60ab-43cd-94d6-c1ae02e10084",
        "colab": {
          "base_uri": "https://localhost:8080/",
          "height": 112
        }
      },
      "execution_count": 21,
      "outputs": [
        {
          "output_type": "execute_result",
          "data": {
            "text/plain": [
              "     0    1    2\n",
              "0  1.0  2.0  3.3\n",
              "1  4.0  5.0  6.5"
            ],
            "text/html": [
              "\n",
              "  <div id=\"df-95c23520-f0c8-48f1-a4c1-225b28add028\">\n",
              "    <div class=\"colab-df-container\">\n",
              "      <div>\n",
              "<style scoped>\n",
              "    .dataframe tbody tr th:only-of-type {\n",
              "        vertical-align: middle;\n",
              "    }\n",
              "\n",
              "    .dataframe tbody tr th {\n",
              "        vertical-align: top;\n",
              "    }\n",
              "\n",
              "    .dataframe thead th {\n",
              "        text-align: right;\n",
              "    }\n",
              "</style>\n",
              "<table border=\"1\" class=\"dataframe\">\n",
              "  <thead>\n",
              "    <tr style=\"text-align: right;\">\n",
              "      <th></th>\n",
              "      <th>0</th>\n",
              "      <th>1</th>\n",
              "      <th>2</th>\n",
              "    </tr>\n",
              "  </thead>\n",
              "  <tbody>\n",
              "    <tr>\n",
              "      <th>0</th>\n",
              "      <td>1.0</td>\n",
              "      <td>2.0</td>\n",
              "      <td>3.3</td>\n",
              "    </tr>\n",
              "    <tr>\n",
              "      <th>1</th>\n",
              "      <td>4.0</td>\n",
              "      <td>5.0</td>\n",
              "      <td>6.5</td>\n",
              "    </tr>\n",
              "  </tbody>\n",
              "</table>\n",
              "</div>\n",
              "      <button class=\"colab-df-convert\" onclick=\"convertToInteractive('df-95c23520-f0c8-48f1-a4c1-225b28add028')\"\n",
              "              title=\"Convert this dataframe to an interactive table.\"\n",
              "              style=\"display:none;\">\n",
              "        \n",
              "  <svg xmlns=\"http://www.w3.org/2000/svg\" height=\"24px\"viewBox=\"0 0 24 24\"\n",
              "       width=\"24px\">\n",
              "    <path d=\"M0 0h24v24H0V0z\" fill=\"none\"/>\n",
              "    <path d=\"M18.56 5.44l.94 2.06.94-2.06 2.06-.94-2.06-.94-.94-2.06-.94 2.06-2.06.94zm-11 1L8.5 8.5l.94-2.06 2.06-.94-2.06-.94L8.5 2.5l-.94 2.06-2.06.94zm10 10l.94 2.06.94-2.06 2.06-.94-2.06-.94-.94-2.06-.94 2.06-2.06.94z\"/><path d=\"M17.41 7.96l-1.37-1.37c-.4-.4-.92-.59-1.43-.59-.52 0-1.04.2-1.43.59L10.3 9.45l-7.72 7.72c-.78.78-.78 2.05 0 2.83L4 21.41c.39.39.9.59 1.41.59.51 0 1.02-.2 1.41-.59l7.78-7.78 2.81-2.81c.8-.78.8-2.07 0-2.86zM5.41 20L4 18.59l7.72-7.72 1.47 1.35L5.41 20z\"/>\n",
              "  </svg>\n",
              "      </button>\n",
              "      \n",
              "  <style>\n",
              "    .colab-df-container {\n",
              "      display:flex;\n",
              "      flex-wrap:wrap;\n",
              "      gap: 12px;\n",
              "    }\n",
              "\n",
              "    .colab-df-convert {\n",
              "      background-color: #E8F0FE;\n",
              "      border: none;\n",
              "      border-radius: 50%;\n",
              "      cursor: pointer;\n",
              "      display: none;\n",
              "      fill: #1967D2;\n",
              "      height: 32px;\n",
              "      padding: 0 0 0 0;\n",
              "      width: 32px;\n",
              "    }\n",
              "\n",
              "    .colab-df-convert:hover {\n",
              "      background-color: #E2EBFA;\n",
              "      box-shadow: 0px 1px 2px rgba(60, 64, 67, 0.3), 0px 1px 3px 1px rgba(60, 64, 67, 0.15);\n",
              "      fill: #174EA6;\n",
              "    }\n",
              "\n",
              "    [theme=dark] .colab-df-convert {\n",
              "      background-color: #3B4455;\n",
              "      fill: #D2E3FC;\n",
              "    }\n",
              "\n",
              "    [theme=dark] .colab-df-convert:hover {\n",
              "      background-color: #434B5C;\n",
              "      box-shadow: 0px 1px 3px 1px rgba(0, 0, 0, 0.15);\n",
              "      filter: drop-shadow(0px 1px 2px rgba(0, 0, 0, 0.3));\n",
              "      fill: #FFFFFF;\n",
              "    }\n",
              "  </style>\n",
              "\n",
              "      <script>\n",
              "        const buttonEl =\n",
              "          document.querySelector('#df-95c23520-f0c8-48f1-a4c1-225b28add028 button.colab-df-convert');\n",
              "        buttonEl.style.display =\n",
              "          google.colab.kernel.accessAllowed ? 'block' : 'none';\n",
              "\n",
              "        async function convertToInteractive(key) {\n",
              "          const element = document.querySelector('#df-95c23520-f0c8-48f1-a4c1-225b28add028');\n",
              "          const dataTable =\n",
              "            await google.colab.kernel.invokeFunction('convertToInteractive',\n",
              "                                                     [key], {});\n",
              "          if (!dataTable) return;\n",
              "\n",
              "          const docLinkHtml = 'Like what you see? Visit the ' +\n",
              "            '<a target=\"_blank\" href=https://colab.research.google.com/notebooks/data_table.ipynb>data table notebook</a>'\n",
              "            + ' to learn more about interactive tables.';\n",
              "          element.innerHTML = '';\n",
              "          dataTable['output_type'] = 'display_data';\n",
              "          await google.colab.output.renderOutput(dataTable, element);\n",
              "          const docLink = document.createElement('div');\n",
              "          docLink.innerHTML = docLinkHtml;\n",
              "          element.appendChild(docLink);\n",
              "        }\n",
              "      </script>\n",
              "    </div>\n",
              "  </div>\n",
              "  "
            ]
          },
          "metadata": {},
          "execution_count": 21
        }
      ]
    },
    {
      "cell_type": "code",
      "source": [
        "sample_array = np.array([1, 2, 3])\n",
        "sample_array"
      ],
      "metadata": {
        "id": "0yBSv5-4KXD_",
        "outputId": "6f73df08-304a-450d-ea75-665ea8b3dca7",
        "colab": {
          "base_uri": "https://localhost:8080/"
        }
      },
      "execution_count": 22,
      "outputs": [
        {
          "output_type": "execute_result",
          "data": {
            "text/plain": [
              "array([1, 2, 3])"
            ]
          },
          "metadata": {},
          "execution_count": 22
        }
      ]
    },
    {
      "cell_type": "markdown",
      "source": [
        "##**Create an array filled with ones:**"
      ],
      "metadata": {
        "id": "xoXXBoT_Kwbh"
      }
    },
    {
      "cell_type": "code",
      "source": [
        "ones = np.ones((2, 3))#2 rows 3 columns\n",
        "ones"
      ],
      "metadata": {
        "id": "4x2xxOBCKwHG",
        "outputId": "4603dcc9-b997-4e80-c2b8-89e42534dbd9",
        "colab": {
          "base_uri": "https://localhost:8080/"
        }
      },
      "execution_count": 25,
      "outputs": [
        {
          "output_type": "execute_result",
          "data": {
            "text/plain": [
              "array([[1., 1., 1.],\n",
              "       [1., 1., 1.]])"
            ]
          },
          "metadata": {},
          "execution_count": 25
        }
      ]
    },
    {
      "cell_type": "code",
      "source": [
        "type(ones)"
      ],
      "metadata": {
        "id": "Jf961DZMKgob",
        "outputId": "c06ad250-c358-489b-9c7d-898efe73a6c6",
        "colab": {
          "base_uri": "https://localhost:8080/"
        }
      },
      "execution_count": 26,
      "outputs": [
        {
          "output_type": "execute_result",
          "data": {
            "text/plain": [
              "numpy.ndarray"
            ]
          },
          "metadata": {},
          "execution_count": 26
        }
      ]
    },
    {
      "cell_type": "code",
      "source": [
        "zeros = np.zeros((2, 5))\n",
        "zeros"
      ],
      "metadata": {
        "id": "uacCHJo5LKYe",
        "outputId": "724e411d-8169-4245-cdaf-dbccfe96cb4b",
        "colab": {
          "base_uri": "https://localhost:8080/"
        }
      },
      "execution_count": 28,
      "outputs": [
        {
          "output_type": "execute_result",
          "data": {
            "text/plain": [
              "array([[0., 0., 0., 0., 0.],\n",
              "       [0., 0., 0., 0., 0.]])"
            ]
          },
          "metadata": {},
          "execution_count": 28
        }
      ]
    },
    {
      "cell_type": "markdown",
      "source": [
        "##**Create range arrays**"
      ],
      "metadata": {
        "id": "2v8Sl7B6LtW_"
      }
    },
    {
      "cell_type": "code",
      "source": [
        "random_array = np.random.randint(0, 10, size=(3, 5))#start of numbers, stop of numbers i.e. 1-10(exclusive of 10), and size 3/5 i.e. 3 rows, 5 columns\n",
        "random_array"
      ],
      "metadata": {
        "id": "4pd_pPQiLsZu",
        "outputId": "e3d77215-5bbe-45af-fe7e-9b0274fe6173",
        "colab": {
          "base_uri": "https://localhost:8080/"
        }
      },
      "execution_count": 36,
      "outputs": [
        {
          "output_type": "execute_result",
          "data": {
            "text/plain": [
              "array([[1, 5, 5, 0, 3],\n",
              "       [5, 8, 5, 8, 0],\n",
              "       [9, 2, 5, 5, 6]])"
            ]
          },
          "metadata": {},
          "execution_count": 36
        }
      ]
    },
    {
      "cell_type": "code",
      "source": [
        "random_array_2 = np.random.random((5, 3))\n",
        "random_array_2"
      ],
      "metadata": {
        "id": "Cbs_aqiyMtlI",
        "outputId": "7d7061ba-87b2-4d7a-c0c7-b8661e198800",
        "colab": {
          "base_uri": "https://localhost:8080/"
        }
      },
      "execution_count": 45,
      "outputs": [
        {
          "output_type": "execute_result",
          "data": {
            "text/plain": [
              "array([[0.96293171, 0.71251458, 0.27072228],\n",
              "       [0.12391064, 0.00755516, 0.64412831],\n",
              "       [0.4105428 , 0.56675741, 0.51268209],\n",
              "       [0.07951076, 0.6646942 , 0.45817237],\n",
              "       [0.99942892, 0.09665408, 0.90709457]])"
            ]
          },
          "metadata": {},
          "execution_count": 45
        }
      ]
    },
    {
      "cell_type": "code",
      "source": [
        "random_array_2.shape"
      ],
      "metadata": {
        "id": "LK3CE8bBM4HN",
        "outputId": "dfd6e752-e53e-474c-ab8e-8ea5184f1538",
        "colab": {
          "base_uri": "https://localhost:8080/"
        }
      },
      "execution_count": 43,
      "outputs": [
        {
          "output_type": "execute_result",
          "data": {
            "text/plain": [
              "(5, 3)"
            ]
          },
          "metadata": {},
          "execution_count": 43
        }
      ]
    },
    {
      "cell_type": "code",
      "execution_count": 46,
      "metadata": {
        "colab": {
          "base_uri": "https://localhost:8080/",
          "height": 206
        },
        "id": "enUnxzGkF_iE",
        "outputId": "a2eef235-bfce-41b5-de3a-53ffd4d9e53c"
      },
      "outputs": [
        {
          "output_type": "execute_result",
          "data": {
            "text/plain": [
              "   a  b  c\n",
              "0  5  7  9\n",
              "1  4  4  1\n",
              "2  5  9  2\n",
              "3  6  4  7\n",
              "4  8  1  6"
            ],
            "text/html": [
              "\n",
              "  <div id=\"df-5d01976b-d419-4a9c-b798-3fa57cdba5bc\">\n",
              "    <div class=\"colab-df-container\">\n",
              "      <div>\n",
              "<style scoped>\n",
              "    .dataframe tbody tr th:only-of-type {\n",
              "        vertical-align: middle;\n",
              "    }\n",
              "\n",
              "    .dataframe tbody tr th {\n",
              "        vertical-align: top;\n",
              "    }\n",
              "\n",
              "    .dataframe thead th {\n",
              "        text-align: right;\n",
              "    }\n",
              "</style>\n",
              "<table border=\"1\" class=\"dataframe\">\n",
              "  <thead>\n",
              "    <tr style=\"text-align: right;\">\n",
              "      <th></th>\n",
              "      <th>a</th>\n",
              "      <th>b</th>\n",
              "      <th>c</th>\n",
              "    </tr>\n",
              "  </thead>\n",
              "  <tbody>\n",
              "    <tr>\n",
              "      <th>0</th>\n",
              "      <td>5</td>\n",
              "      <td>7</td>\n",
              "      <td>9</td>\n",
              "    </tr>\n",
              "    <tr>\n",
              "      <th>1</th>\n",
              "      <td>4</td>\n",
              "      <td>4</td>\n",
              "      <td>1</td>\n",
              "    </tr>\n",
              "    <tr>\n",
              "      <th>2</th>\n",
              "      <td>5</td>\n",
              "      <td>9</td>\n",
              "      <td>2</td>\n",
              "    </tr>\n",
              "    <tr>\n",
              "      <th>3</th>\n",
              "      <td>6</td>\n",
              "      <td>4</td>\n",
              "      <td>7</td>\n",
              "    </tr>\n",
              "    <tr>\n",
              "      <th>4</th>\n",
              "      <td>8</td>\n",
              "      <td>1</td>\n",
              "      <td>6</td>\n",
              "    </tr>\n",
              "  </tbody>\n",
              "</table>\n",
              "</div>\n",
              "      <button class=\"colab-df-convert\" onclick=\"convertToInteractive('df-5d01976b-d419-4a9c-b798-3fa57cdba5bc')\"\n",
              "              title=\"Convert this dataframe to an interactive table.\"\n",
              "              style=\"display:none;\">\n",
              "        \n",
              "  <svg xmlns=\"http://www.w3.org/2000/svg\" height=\"24px\"viewBox=\"0 0 24 24\"\n",
              "       width=\"24px\">\n",
              "    <path d=\"M0 0h24v24H0V0z\" fill=\"none\"/>\n",
              "    <path d=\"M18.56 5.44l.94 2.06.94-2.06 2.06-.94-2.06-.94-.94-2.06-.94 2.06-2.06.94zm-11 1L8.5 8.5l.94-2.06 2.06-.94-2.06-.94L8.5 2.5l-.94 2.06-2.06.94zm10 10l.94 2.06.94-2.06 2.06-.94-2.06-.94-.94-2.06-.94 2.06-2.06.94z\"/><path d=\"M17.41 7.96l-1.37-1.37c-.4-.4-.92-.59-1.43-.59-.52 0-1.04.2-1.43.59L10.3 9.45l-7.72 7.72c-.78.78-.78 2.05 0 2.83L4 21.41c.39.39.9.59 1.41.59.51 0 1.02-.2 1.41-.59l7.78-7.78 2.81-2.81c.8-.78.8-2.07 0-2.86zM5.41 20L4 18.59l7.72-7.72 1.47 1.35L5.41 20z\"/>\n",
              "  </svg>\n",
              "      </button>\n",
              "      \n",
              "  <style>\n",
              "    .colab-df-container {\n",
              "      display:flex;\n",
              "      flex-wrap:wrap;\n",
              "      gap: 12px;\n",
              "    }\n",
              "\n",
              "    .colab-df-convert {\n",
              "      background-color: #E8F0FE;\n",
              "      border: none;\n",
              "      border-radius: 50%;\n",
              "      cursor: pointer;\n",
              "      display: none;\n",
              "      fill: #1967D2;\n",
              "      height: 32px;\n",
              "      padding: 0 0 0 0;\n",
              "      width: 32px;\n",
              "    }\n",
              "\n",
              "    .colab-df-convert:hover {\n",
              "      background-color: #E2EBFA;\n",
              "      box-shadow: 0px 1px 2px rgba(60, 64, 67, 0.3), 0px 1px 3px 1px rgba(60, 64, 67, 0.15);\n",
              "      fill: #174EA6;\n",
              "    }\n",
              "\n",
              "    [theme=dark] .colab-df-convert {\n",
              "      background-color: #3B4455;\n",
              "      fill: #D2E3FC;\n",
              "    }\n",
              "\n",
              "    [theme=dark] .colab-df-convert:hover {\n",
              "      background-color: #434B5C;\n",
              "      box-shadow: 0px 1px 3px 1px rgba(0, 0, 0, 0.15);\n",
              "      filter: drop-shadow(0px 1px 2px rgba(0, 0, 0, 0.3));\n",
              "      fill: #FFFFFF;\n",
              "    }\n",
              "  </style>\n",
              "\n",
              "      <script>\n",
              "        const buttonEl =\n",
              "          document.querySelector('#df-5d01976b-d419-4a9c-b798-3fa57cdba5bc button.colab-df-convert');\n",
              "        buttonEl.style.display =\n",
              "          google.colab.kernel.accessAllowed ? 'block' : 'none';\n",
              "\n",
              "        async function convertToInteractive(key) {\n",
              "          const element = document.querySelector('#df-5d01976b-d419-4a9c-b798-3fa57cdba5bc');\n",
              "          const dataTable =\n",
              "            await google.colab.kernel.invokeFunction('convertToInteractive',\n",
              "                                                     [key], {});\n",
              "          if (!dataTable) return;\n",
              "\n",
              "          const docLinkHtml = 'Like what you see? Visit the ' +\n",
              "            '<a target=\"_blank\" href=https://colab.research.google.com/notebooks/data_table.ipynb>data table notebook</a>'\n",
              "            + ' to learn more about interactive tables.';\n",
              "          element.innerHTML = '';\n",
              "          dataTable['output_type'] = 'display_data';\n",
              "          await google.colab.output.renderOutput(dataTable, element);\n",
              "          const docLink = document.createElement('div');\n",
              "          docLink.innerHTML = docLinkHtml;\n",
              "          element.appendChild(docLink);\n",
              "        }\n",
              "      </script>\n",
              "    </div>\n",
              "  </div>\n",
              "  "
            ]
          },
          "metadata": {},
          "execution_count": 46
        }
      ],
      "source": [
        "\n",
        "df = pd.DataFrame(np.random.randint(10, size=(5, 3)), \n",
        "                                    columns=['a', 'b', 'c'])\n",
        "df"
      ]
    },
    {
      "cell_type": "code",
      "execution_count": 47,
      "metadata": {
        "colab": {
          "base_uri": "https://localhost:8080/"
        },
        "id": "ovTLRp_OF_iE",
        "outputId": "3bcfb0d2-fe34-4748-a0b6-ec569dd8a02a"
      },
      "outputs": [
        {
          "output_type": "execute_result",
          "data": {
            "text/plain": [
              "array([[1. , 2. , 3.3],\n",
              "       [4. , 5. , 6.5]])"
            ]
          },
          "metadata": {},
          "execution_count": 47
        }
      ],
      "source": [
        "a2"
      ]
    },
    {
      "cell_type": "code",
      "execution_count": 48,
      "metadata": {
        "colab": {
          "base_uri": "https://localhost:8080/",
          "height": 112
        },
        "id": "fiuLzs34F_iE",
        "outputId": "a3550f5f-da93-4aa7-a1b2-ec128e135e51"
      },
      "outputs": [
        {
          "output_type": "execute_result",
          "data": {
            "text/plain": [
              "     0    1    2\n",
              "0  1.0  2.0  3.3\n",
              "1  4.0  5.0  6.5"
            ],
            "text/html": [
              "\n",
              "  <div id=\"df-3292c601-2385-43e8-a398-7ee3e89d8d58\">\n",
              "    <div class=\"colab-df-container\">\n",
              "      <div>\n",
              "<style scoped>\n",
              "    .dataframe tbody tr th:only-of-type {\n",
              "        vertical-align: middle;\n",
              "    }\n",
              "\n",
              "    .dataframe tbody tr th {\n",
              "        vertical-align: top;\n",
              "    }\n",
              "\n",
              "    .dataframe thead th {\n",
              "        text-align: right;\n",
              "    }\n",
              "</style>\n",
              "<table border=\"1\" class=\"dataframe\">\n",
              "  <thead>\n",
              "    <tr style=\"text-align: right;\">\n",
              "      <th></th>\n",
              "      <th>0</th>\n",
              "      <th>1</th>\n",
              "      <th>2</th>\n",
              "    </tr>\n",
              "  </thead>\n",
              "  <tbody>\n",
              "    <tr>\n",
              "      <th>0</th>\n",
              "      <td>1.0</td>\n",
              "      <td>2.0</td>\n",
              "      <td>3.3</td>\n",
              "    </tr>\n",
              "    <tr>\n",
              "      <th>1</th>\n",
              "      <td>4.0</td>\n",
              "      <td>5.0</td>\n",
              "      <td>6.5</td>\n",
              "    </tr>\n",
              "  </tbody>\n",
              "</table>\n",
              "</div>\n",
              "      <button class=\"colab-df-convert\" onclick=\"convertToInteractive('df-3292c601-2385-43e8-a398-7ee3e89d8d58')\"\n",
              "              title=\"Convert this dataframe to an interactive table.\"\n",
              "              style=\"display:none;\">\n",
              "        \n",
              "  <svg xmlns=\"http://www.w3.org/2000/svg\" height=\"24px\"viewBox=\"0 0 24 24\"\n",
              "       width=\"24px\">\n",
              "    <path d=\"M0 0h24v24H0V0z\" fill=\"none\"/>\n",
              "    <path d=\"M18.56 5.44l.94 2.06.94-2.06 2.06-.94-2.06-.94-.94-2.06-.94 2.06-2.06.94zm-11 1L8.5 8.5l.94-2.06 2.06-.94-2.06-.94L8.5 2.5l-.94 2.06-2.06.94zm10 10l.94 2.06.94-2.06 2.06-.94-2.06-.94-.94-2.06-.94 2.06-2.06.94z\"/><path d=\"M17.41 7.96l-1.37-1.37c-.4-.4-.92-.59-1.43-.59-.52 0-1.04.2-1.43.59L10.3 9.45l-7.72 7.72c-.78.78-.78 2.05 0 2.83L4 21.41c.39.39.9.59 1.41.59.51 0 1.02-.2 1.41-.59l7.78-7.78 2.81-2.81c.8-.78.8-2.07 0-2.86zM5.41 20L4 18.59l7.72-7.72 1.47 1.35L5.41 20z\"/>\n",
              "  </svg>\n",
              "      </button>\n",
              "      \n",
              "  <style>\n",
              "    .colab-df-container {\n",
              "      display:flex;\n",
              "      flex-wrap:wrap;\n",
              "      gap: 12px;\n",
              "    }\n",
              "\n",
              "    .colab-df-convert {\n",
              "      background-color: #E8F0FE;\n",
              "      border: none;\n",
              "      border-radius: 50%;\n",
              "      cursor: pointer;\n",
              "      display: none;\n",
              "      fill: #1967D2;\n",
              "      height: 32px;\n",
              "      padding: 0 0 0 0;\n",
              "      width: 32px;\n",
              "    }\n",
              "\n",
              "    .colab-df-convert:hover {\n",
              "      background-color: #E2EBFA;\n",
              "      box-shadow: 0px 1px 2px rgba(60, 64, 67, 0.3), 0px 1px 3px 1px rgba(60, 64, 67, 0.15);\n",
              "      fill: #174EA6;\n",
              "    }\n",
              "\n",
              "    [theme=dark] .colab-df-convert {\n",
              "      background-color: #3B4455;\n",
              "      fill: #D2E3FC;\n",
              "    }\n",
              "\n",
              "    [theme=dark] .colab-df-convert:hover {\n",
              "      background-color: #434B5C;\n",
              "      box-shadow: 0px 1px 3px 1px rgba(0, 0, 0, 0.15);\n",
              "      filter: drop-shadow(0px 1px 2px rgba(0, 0, 0, 0.3));\n",
              "      fill: #FFFFFF;\n",
              "    }\n",
              "  </style>\n",
              "\n",
              "      <script>\n",
              "        const buttonEl =\n",
              "          document.querySelector('#df-3292c601-2385-43e8-a398-7ee3e89d8d58 button.colab-df-convert');\n",
              "        buttonEl.style.display =\n",
              "          google.colab.kernel.accessAllowed ? 'block' : 'none';\n",
              "\n",
              "        async function convertToInteractive(key) {\n",
              "          const element = document.querySelector('#df-3292c601-2385-43e8-a398-7ee3e89d8d58');\n",
              "          const dataTable =\n",
              "            await google.colab.kernel.invokeFunction('convertToInteractive',\n",
              "                                                     [key], {});\n",
              "          if (!dataTable) return;\n",
              "\n",
              "          const docLinkHtml = 'Like what you see? Visit the ' +\n",
              "            '<a target=\"_blank\" href=https://colab.research.google.com/notebooks/data_table.ipynb>data table notebook</a>'\n",
              "            + ' to learn more about interactive tables.';\n",
              "          element.innerHTML = '';\n",
              "          dataTable['output_type'] = 'display_data';\n",
              "          await google.colab.output.renderOutput(dataTable, element);\n",
              "          const docLink = document.createElement('div');\n",
              "          docLink.innerHTML = docLinkHtml;\n",
              "          element.appendChild(docLink);\n",
              "        }\n",
              "      </script>\n",
              "    </div>\n",
              "  </div>\n",
              "  "
            ]
          },
          "metadata": {},
          "execution_count": 48
        }
      ],
      "source": [
        "df2 = pd.DataFrame(a2)\n",
        "df2"
      ]
    },
    {
      "cell_type": "markdown",
      "metadata": {
        "id": "mWjLcyvCF_iE"
      },
      "source": [
        "## 2. Creating arrays\n",
        "\n",
        "* `np.array()`\n",
        "* `np.ones()`\n",
        "* `np.zeros()`\n",
        "* `np.random.rand(5, 3)`\n",
        "* `np.random.randint(10, size=5)`\n",
        "* `np.random.seed()` - pseudo random numbers\n",
        "* Searching the documentation example (finding `np.unique()` and using it)"
      ]
    },
    {
      "cell_type": "code",
      "execution_count": 49,
      "metadata": {
        "colab": {
          "base_uri": "https://localhost:8080/"
        },
        "id": "HEf7a5JJF_iE",
        "outputId": "fa0a2fbe-f66b-49bc-bfd6-8102f381a30b"
      },
      "outputs": [
        {
          "output_type": "execute_result",
          "data": {
            "text/plain": [
              "array([1, 2, 3])"
            ]
          },
          "metadata": {},
          "execution_count": 49
        }
      ],
      "source": [
        "# Create a simple array\n",
        "simple_array = np.array([1, 2, 3])\n",
        "simple_array"
      ]
    },
    {
      "cell_type": "code",
      "execution_count": 50,
      "metadata": {
        "colab": {
          "base_uri": "https://localhost:8080/"
        },
        "id": "plSmIy38F_iE",
        "outputId": "c514b83d-b0a8-43c3-9a6e-9a96476f9a9e"
      },
      "outputs": [
        {
          "output_type": "execute_result",
          "data": {
            "text/plain": [
              "(array([1, 2, 3]), dtype('int64'))"
            ]
          },
          "metadata": {},
          "execution_count": 50
        }
      ],
      "source": [
        "simple_array = np.array((1, 2, 3))\n",
        "simple_array, simple_array.dtype"
      ]
    },
    {
      "cell_type": "code",
      "execution_count": 51,
      "metadata": {
        "colab": {
          "base_uri": "https://localhost:8080/"
        },
        "id": "8YMElGr6F_iE",
        "outputId": "423ae615-f0fd-443d-9ba4-ca1c0c032fa3"
      },
      "outputs": [
        {
          "output_type": "execute_result",
          "data": {
            "text/plain": [
              "array([[1., 1.],\n",
              "       [1., 1.],\n",
              "       [1., 1.],\n",
              "       [1., 1.],\n",
              "       [1., 1.],\n",
              "       [1., 1.],\n",
              "       [1., 1.],\n",
              "       [1., 1.],\n",
              "       [1., 1.],\n",
              "       [1., 1.]])"
            ]
          },
          "metadata": {},
          "execution_count": 51
        }
      ],
      "source": [
        "# Create an array of ones\n",
        "ones = np.ones((10, 2))\n",
        "ones"
      ]
    },
    {
      "cell_type": "code",
      "execution_count": 52,
      "metadata": {
        "colab": {
          "base_uri": "https://localhost:8080/"
        },
        "id": "Yirjl0p_F_iE",
        "outputId": "c9a3e580-8041-40dc-da95-863ae2b69ab1"
      },
      "outputs": [
        {
          "output_type": "execute_result",
          "data": {
            "text/plain": [
              "dtype('float64')"
            ]
          },
          "metadata": {},
          "execution_count": 52
        }
      ],
      "source": [
        "# The default datatype is 'float64'\n",
        "ones.dtype"
      ]
    },
    {
      "cell_type": "code",
      "execution_count": 53,
      "metadata": {
        "colab": {
          "base_uri": "https://localhost:8080/"
        },
        "id": "BSmatizbF_iE",
        "outputId": "0a02a067-92e8-419c-c8bf-bb7e756c8049"
      },
      "outputs": [
        {
          "output_type": "execute_result",
          "data": {
            "text/plain": [
              "array([[1, 1],\n",
              "       [1, 1],\n",
              "       [1, 1],\n",
              "       [1, 1],\n",
              "       [1, 1],\n",
              "       [1, 1],\n",
              "       [1, 1],\n",
              "       [1, 1],\n",
              "       [1, 1],\n",
              "       [1, 1]])"
            ]
          },
          "metadata": {},
          "execution_count": 53
        }
      ],
      "source": [
        "# You can change the datatype with .astype()\n",
        "ones.astype(int)"
      ]
    },
    {
      "cell_type": "code",
      "execution_count": 56,
      "metadata": {
        "colab": {
          "base_uri": "https://localhost:8080/"
        },
        "id": "7KxlFngPF_iF",
        "outputId": "7db9d5ed-b969-4f9e-e4e2-af76e19295c7"
      },
      "outputs": [
        {
          "output_type": "execute_result",
          "data": {
            "text/plain": [
              "array([[[0., 0., 0.],\n",
              "        [0., 0., 0.],\n",
              "        [0., 0., 0.]],\n",
              "\n",
              "       [[0., 0., 0.],\n",
              "        [0., 0., 0.],\n",
              "        [0., 0., 0.]],\n",
              "\n",
              "       [[0., 0., 0.],\n",
              "        [0., 0., 0.],\n",
              "        [0., 0., 0.]],\n",
              "\n",
              "       [[0., 0., 0.],\n",
              "        [0., 0., 0.],\n",
              "        [0., 0., 0.]],\n",
              "\n",
              "       [[0., 0., 0.],\n",
              "        [0., 0., 0.],\n",
              "        [0., 0., 0.]]])"
            ]
          },
          "metadata": {},
          "execution_count": 56
        }
      ],
      "source": [
        "# Create an array of zeros\n",
        "zeros = np.zeros((5, 3, 3)) #5 items, 3row each, 3 columns each\n",
        "zeros"
      ]
    },
    {
      "cell_type": "code",
      "execution_count": 57,
      "metadata": {
        "colab": {
          "base_uri": "https://localhost:8080/"
        },
        "id": "wJNttQn_F_iF",
        "outputId": "51f3edac-d842-4b36-f979-c4255699e141"
      },
      "outputs": [
        {
          "output_type": "execute_result",
          "data": {
            "text/plain": [
              "dtype('float64')"
            ]
          },
          "metadata": {},
          "execution_count": 57
        }
      ],
      "source": [
        "zeros.dtype"
      ]
    },
    {
      "cell_type": "code",
      "execution_count": 58,
      "metadata": {
        "colab": {
          "base_uri": "https://localhost:8080/"
        },
        "id": "8tGqLsfaF_iF",
        "outputId": "9cb5e101-5e00-47bc-e046-ba47248f611b"
      },
      "outputs": [
        {
          "output_type": "execute_result",
          "data": {
            "text/plain": [
              "array([0, 2, 4, 6, 8])"
            ]
          },
          "metadata": {},
          "execution_count": 58
        }
      ],
      "source": [
        "# Create an array within a range of values\n",
        "range_array = np.arange(0, 10, 2)\n",
        "range_array"
      ]
    },
    {
      "cell_type": "code",
      "execution_count": 59,
      "metadata": {
        "colab": {
          "base_uri": "https://localhost:8080/"
        },
        "id": "65MOPHhFF_iF",
        "outputId": "78942489-54b4-435b-b7ee-0150e3f0680f"
      },
      "outputs": [
        {
          "output_type": "execute_result",
          "data": {
            "text/plain": [
              "array([[4, 0, 9],\n",
              "       [8, 3, 0],\n",
              "       [6, 8, 8],\n",
              "       [0, 9, 3],\n",
              "       [3, 2, 9]])"
            ]
          },
          "metadata": {},
          "execution_count": 59
        }
      ],
      "source": [
        "# Random array\n",
        "random_array = np.random.randint(10, size=(5, 3))\n",
        "random_array"
      ]
    },
    {
      "cell_type": "code",
      "execution_count": 60,
      "metadata": {
        "colab": {
          "base_uri": "https://localhost:8080/"
        },
        "id": "qyNn29hyF_iF",
        "outputId": "f045663f-dac0-4528-dbb4-f5e39ca020db"
      },
      "outputs": [
        {
          "output_type": "execute_result",
          "data": {
            "text/plain": [
              "array([[0.32155516, 0.24843364, 0.72342351],\n",
              "       [0.53152586, 0.0522086 , 0.57307683],\n",
              "       [0.5863562 , 0.18170088, 0.94642504],\n",
              "       [0.55015122, 0.38421012, 0.62102155],\n",
              "       [0.20049205, 0.28292214, 0.83328412]])"
            ]
          },
          "metadata": {},
          "execution_count": 60
        }
      ],
      "source": [
        "# Random array of floats (between 0 & 1)\n",
        "np.random.random((5, 3))"
      ]
    },
    {
      "cell_type": "code",
      "execution_count": 61,
      "metadata": {
        "colab": {
          "base_uri": "https://localhost:8080/"
        },
        "id": "0ZzByXbAF_iF",
        "outputId": "8590ca13-99da-42dc-e13d-f4a15c961d76"
      },
      "outputs": [
        {
          "output_type": "execute_result",
          "data": {
            "text/plain": [
              "array([[0.52807566, 0.04680505, 0.97961626],\n",
              "       [0.00299337, 0.30576761, 0.44601552],\n",
              "       [0.32704599, 0.68404568, 0.56702488],\n",
              "       [0.58232239, 0.99666541, 0.33427758],\n",
              "       [0.47122954, 0.25900679, 0.57002007]])"
            ]
          },
          "metadata": {},
          "execution_count": 61
        }
      ],
      "source": [
        "np.random.random((5, 3))"
      ]
    },
    {
      "cell_type": "code",
      "execution_count": 62,
      "metadata": {
        "colab": {
          "base_uri": "https://localhost:8080/"
        },
        "id": "Cak5XpHuF_iF",
        "outputId": "7a575ff9-385e-4d50-a710-2acc25bac888"
      },
      "outputs": [
        {
          "output_type": "execute_result",
          "data": {
            "text/plain": [
              "array([[0.8576065 , 0.84913104, 0.47576515],\n",
              "       [0.91329106, 0.41770725, 0.7133749 ],\n",
              "       [0.92710526, 0.22155324, 0.52954073],\n",
              "       [0.57557957, 0.78531777, 0.29368213],\n",
              "       [0.04707805, 0.20550061, 0.35892485]])"
            ]
          },
          "metadata": {},
          "execution_count": 62
        }
      ],
      "source": [
        "# Random 5x3 array of floats (between 0 & 1), similar to above\n",
        "np.random.rand(5, 3)"
      ]
    },
    {
      "cell_type": "code",
      "execution_count": 63,
      "metadata": {
        "colab": {
          "base_uri": "https://localhost:8080/"
        },
        "id": "-FQcTNTzF_iF",
        "outputId": "4f10496b-ab76-4c48-8ac4-5895f175705b"
      },
      "outputs": [
        {
          "output_type": "execute_result",
          "data": {
            "text/plain": [
              "array([[0.63465201, 0.68976881, 0.6878566 ],\n",
              "       [0.29488033, 0.68412261, 0.67481475],\n",
              "       [0.23041203, 0.65726806, 0.73364452],\n",
              "       [0.6296238 , 0.17833775, 0.14388717],\n",
              "       [0.0387778 , 0.12480561, 0.28080768]])"
            ]
          },
          "metadata": {},
          "execution_count": 63
        }
      ],
      "source": [
        "np.random.rand(5, 3)"
      ]
    },
    {
      "cell_type": "markdown",
      "metadata": {
        "id": "bDA1m9pQF_iF"
      },
      "source": [
        "NumPy uses pseudo-random numbers, which means, the numbers look random but aren't really, they're predetermined.\n",
        "\n",
        "For consistency, you might want to keep the random numbers you generate similar throughout experiments.\n",
        "\n",
        "To do this, you can use [`np.random.seed()`](https://docs.scipy.org/doc/numpy-1.15.0/reference/generated/numpy.random.seed.html).\n",
        "\n",
        "What this does is it tells NumPy, \"Hey, I want you to create random numbers but keep them aligned with the seed.\"\n",
        "\n",
        "Let's see it."
      ]
    },
    {
      "cell_type": "code",
      "execution_count": 68,
      "metadata": {
        "colab": {
          "base_uri": "https://localhost:8080/"
        },
        "id": "4G9W-lgEF_iF",
        "outputId": "2b16af4c-33d8-45d9-93c6-bb2a7c031dcd"
      },
      "outputs": [
        {
          "output_type": "execute_result",
          "data": {
            "text/plain": [
              "array([[6, 7, 7],\n",
              "       [8, 1, 5],\n",
              "       [9, 8, 9],\n",
              "       [4, 3, 0],\n",
              "       [3, 5, 0]])"
            ]
          },
          "metadata": {},
          "execution_count": 68
        }
      ],
      "source": [
        "# Set random seed to 0\n",
        "# np.random.seed(seed=0)#this will stop numbers from changing\n",
        "\n",
        "# Make 'random' numbers\n",
        "random_array_4 = np.random.randint(10, size=(5, 3))\n",
        "random_array_4"
      ]
    },
    {
      "cell_type": "markdown",
      "metadata": {
        "id": "FMpPSCKHF_iF"
      },
      "source": [
        "With `np.random.seed()` set, every time you run the cell above, the same random numbers will be generated.\n",
        "\n",
        "What if `np.random.seed()` wasn't set?\n",
        "\n",
        "Every time you run the cell below, a new set of numbers will appear."
      ]
    },
    {
      "cell_type": "code",
      "execution_count": 71,
      "metadata": {
        "colab": {
          "base_uri": "https://localhost:8080/"
        },
        "id": "yp9WWglBF_iF",
        "outputId": "02825907-0599-4b3c-e5ec-127c835c1718"
      },
      "outputs": [
        {
          "output_type": "execute_result",
          "data": {
            "text/plain": [
              "array([[5, 0, 3],\n",
              "       [3, 7, 9],\n",
              "       [3, 5, 2],\n",
              "       [4, 7, 6],\n",
              "       [8, 8, 1]])"
            ]
          },
          "metadata": {},
          "execution_count": 71
        }
      ],
      "source": [
        "# Make more random numbers\n",
        "np.random.seed(seed=0)\n",
        "random_array_5 = np.random.randint(10, size=(5, 3))\n",
        "random_array_5"
      ]
    },
    {
      "cell_type": "code",
      "source": [
        "# Make more random numbers\n",
        "np.random.seed(seed=0)\n",
        "random_array_5 = np.random.randint(10, size=(5, 3))\n",
        "random_array_5"
      ],
      "metadata": {
        "id": "XncQZzmhRpsv",
        "outputId": "b9364d3d-3304-42ac-bfc2-1235dfeccc53",
        "colab": {
          "base_uri": "https://localhost:8080/"
        }
      },
      "execution_count": 72,
      "outputs": [
        {
          "output_type": "execute_result",
          "data": {
            "text/plain": [
              "array([[5, 0, 3],\n",
              "       [3, 7, 9],\n",
              "       [3, 5, 2],\n",
              "       [4, 7, 6],\n",
              "       [8, 8, 1]])"
            ]
          },
          "metadata": {},
          "execution_count": 72
        }
      ]
    },
    {
      "cell_type": "markdown",
      "metadata": {
        "id": "i8eK-yQhF_iF"
      },
      "source": [
        "Let's see it in action again, we'll stay consistent and set the random seed to 0."
      ]
    },
    {
      "cell_type": "code",
      "execution_count": 73,
      "metadata": {
        "colab": {
          "base_uri": "https://localhost:8080/"
        },
        "id": "1jiW7PMpF_iF",
        "outputId": "a8120ebc-fae9-44db-fbda-4726d49a754d"
      },
      "outputs": [
        {
          "output_type": "execute_result",
          "data": {
            "text/plain": [
              "array([[5, 0, 3],\n",
              "       [3, 7, 9],\n",
              "       [3, 5, 2],\n",
              "       [4, 7, 6],\n",
              "       [8, 8, 1]])"
            ]
          },
          "metadata": {},
          "execution_count": 73
        }
      ],
      "source": [
        "# Set random seed to same number as above\n",
        "np.random.seed(0)\n",
        "\n",
        "# The same random numbers come out\n",
        "np.random.randint(10, size=(5, 3))"
      ]
    },
    {
      "cell_type": "markdown",
      "metadata": {
        "id": "UkymZxd5F_iG"
      },
      "source": [
        "Because `np.random.seed()` is set to 0, the random numbers are the same as the cell with `np.random.seed()` set to 0 as well.\n",
        "\n",
        "Setting `np.random.seed()` is not 100% necessary but it's helpful to keep numbers the same throughout your experiments.\n",
        "\n",
        "For example, say you wanted to split your data randomly into training and test sets.\n",
        "\n",
        "Every time you randomly split, you might get different rows in each set.\n",
        "\n",
        "If you shared your work with someone else, they'd get different rows in each set too.\n",
        "\n",
        "Setting `np.random.seed()` ensures there's still randomness, it just makes the randomness repeatable. Hence the 'pseudo-random' numbers."
      ]
    },
    {
      "cell_type": "code",
      "execution_count": 74,
      "metadata": {
        "colab": {
          "base_uri": "https://localhost:8080/",
          "height": 206
        },
        "id": "d6682D1LF_iG",
        "outputId": "e08ac6e7-a97c-40b7-ad70-c414b6f7b141"
      },
      "outputs": [
        {
          "output_type": "execute_result",
          "data": {
            "text/plain": [
              "   0  1  2\n",
              "0  5  0  3\n",
              "1  3  7  9\n",
              "2  3  5  2\n",
              "3  4  7  6\n",
              "4  8  8  1"
            ],
            "text/html": [
              "\n",
              "  <div id=\"df-652fa4b2-b25e-4af4-808c-3b0c4a9a14c1\">\n",
              "    <div class=\"colab-df-container\">\n",
              "      <div>\n",
              "<style scoped>\n",
              "    .dataframe tbody tr th:only-of-type {\n",
              "        vertical-align: middle;\n",
              "    }\n",
              "\n",
              "    .dataframe tbody tr th {\n",
              "        vertical-align: top;\n",
              "    }\n",
              "\n",
              "    .dataframe thead th {\n",
              "        text-align: right;\n",
              "    }\n",
              "</style>\n",
              "<table border=\"1\" class=\"dataframe\">\n",
              "  <thead>\n",
              "    <tr style=\"text-align: right;\">\n",
              "      <th></th>\n",
              "      <th>0</th>\n",
              "      <th>1</th>\n",
              "      <th>2</th>\n",
              "    </tr>\n",
              "  </thead>\n",
              "  <tbody>\n",
              "    <tr>\n",
              "      <th>0</th>\n",
              "      <td>5</td>\n",
              "      <td>0</td>\n",
              "      <td>3</td>\n",
              "    </tr>\n",
              "    <tr>\n",
              "      <th>1</th>\n",
              "      <td>3</td>\n",
              "      <td>7</td>\n",
              "      <td>9</td>\n",
              "    </tr>\n",
              "    <tr>\n",
              "      <th>2</th>\n",
              "      <td>3</td>\n",
              "      <td>5</td>\n",
              "      <td>2</td>\n",
              "    </tr>\n",
              "    <tr>\n",
              "      <th>3</th>\n",
              "      <td>4</td>\n",
              "      <td>7</td>\n",
              "      <td>6</td>\n",
              "    </tr>\n",
              "    <tr>\n",
              "      <th>4</th>\n",
              "      <td>8</td>\n",
              "      <td>8</td>\n",
              "      <td>1</td>\n",
              "    </tr>\n",
              "  </tbody>\n",
              "</table>\n",
              "</div>\n",
              "      <button class=\"colab-df-convert\" onclick=\"convertToInteractive('df-652fa4b2-b25e-4af4-808c-3b0c4a9a14c1')\"\n",
              "              title=\"Convert this dataframe to an interactive table.\"\n",
              "              style=\"display:none;\">\n",
              "        \n",
              "  <svg xmlns=\"http://www.w3.org/2000/svg\" height=\"24px\"viewBox=\"0 0 24 24\"\n",
              "       width=\"24px\">\n",
              "    <path d=\"M0 0h24v24H0V0z\" fill=\"none\"/>\n",
              "    <path d=\"M18.56 5.44l.94 2.06.94-2.06 2.06-.94-2.06-.94-.94-2.06-.94 2.06-2.06.94zm-11 1L8.5 8.5l.94-2.06 2.06-.94-2.06-.94L8.5 2.5l-.94 2.06-2.06.94zm10 10l.94 2.06.94-2.06 2.06-.94-2.06-.94-.94-2.06-.94 2.06-2.06.94z\"/><path d=\"M17.41 7.96l-1.37-1.37c-.4-.4-.92-.59-1.43-.59-.52 0-1.04.2-1.43.59L10.3 9.45l-7.72 7.72c-.78.78-.78 2.05 0 2.83L4 21.41c.39.39.9.59 1.41.59.51 0 1.02-.2 1.41-.59l7.78-7.78 2.81-2.81c.8-.78.8-2.07 0-2.86zM5.41 20L4 18.59l7.72-7.72 1.47 1.35L5.41 20z\"/>\n",
              "  </svg>\n",
              "      </button>\n",
              "      \n",
              "  <style>\n",
              "    .colab-df-container {\n",
              "      display:flex;\n",
              "      flex-wrap:wrap;\n",
              "      gap: 12px;\n",
              "    }\n",
              "\n",
              "    .colab-df-convert {\n",
              "      background-color: #E8F0FE;\n",
              "      border: none;\n",
              "      border-radius: 50%;\n",
              "      cursor: pointer;\n",
              "      display: none;\n",
              "      fill: #1967D2;\n",
              "      height: 32px;\n",
              "      padding: 0 0 0 0;\n",
              "      width: 32px;\n",
              "    }\n",
              "\n",
              "    .colab-df-convert:hover {\n",
              "      background-color: #E2EBFA;\n",
              "      box-shadow: 0px 1px 2px rgba(60, 64, 67, 0.3), 0px 1px 3px 1px rgba(60, 64, 67, 0.15);\n",
              "      fill: #174EA6;\n",
              "    }\n",
              "\n",
              "    [theme=dark] .colab-df-convert {\n",
              "      background-color: #3B4455;\n",
              "      fill: #D2E3FC;\n",
              "    }\n",
              "\n",
              "    [theme=dark] .colab-df-convert:hover {\n",
              "      background-color: #434B5C;\n",
              "      box-shadow: 0px 1px 3px 1px rgba(0, 0, 0, 0.15);\n",
              "      filter: drop-shadow(0px 1px 2px rgba(0, 0, 0, 0.3));\n",
              "      fill: #FFFFFF;\n",
              "    }\n",
              "  </style>\n",
              "\n",
              "      <script>\n",
              "        const buttonEl =\n",
              "          document.querySelector('#df-652fa4b2-b25e-4af4-808c-3b0c4a9a14c1 button.colab-df-convert');\n",
              "        buttonEl.style.display =\n",
              "          google.colab.kernel.accessAllowed ? 'block' : 'none';\n",
              "\n",
              "        async function convertToInteractive(key) {\n",
              "          const element = document.querySelector('#df-652fa4b2-b25e-4af4-808c-3b0c4a9a14c1');\n",
              "          const dataTable =\n",
              "            await google.colab.kernel.invokeFunction('convertToInteractive',\n",
              "                                                     [key], {});\n",
              "          if (!dataTable) return;\n",
              "\n",
              "          const docLinkHtml = 'Like what you see? Visit the ' +\n",
              "            '<a target=\"_blank\" href=https://colab.research.google.com/notebooks/data_table.ipynb>data table notebook</a>'\n",
              "            + ' to learn more about interactive tables.';\n",
              "          element.innerHTML = '';\n",
              "          dataTable['output_type'] = 'display_data';\n",
              "          await google.colab.output.renderOutput(dataTable, element);\n",
              "          const docLink = document.createElement('div');\n",
              "          docLink.innerHTML = docLinkHtml;\n",
              "          element.appendChild(docLink);\n",
              "        }\n",
              "      </script>\n",
              "    </div>\n",
              "  </div>\n",
              "  "
            ]
          },
          "metadata": {},
          "execution_count": 74
        }
      ],
      "source": [
        "np.random.seed(0)\n",
        "df = pd.DataFrame(np.random.randint(10, size=(5, 3)))\n",
        "df"
      ]
    },
    {
      "cell_type": "markdown",
      "metadata": {
        "id": "i3EH4X3TF_iG"
      },
      "source": [
        "### What unique values are in the array a3?\n",
        "\n",
        "Now you've seen a few different ways to create arrays, as an exercise, try find out what NumPy function you could use to find the unique values are within the `a3` array.\n",
        "\n",
        "You might want to search some like, \"how to find the unqiue values in a numpy array\"."
      ]
    },
    {
      "cell_type": "code",
      "execution_count": 76,
      "metadata": {
        "colab": {
          "base_uri": "https://localhost:8080/"
        },
        "id": "qXceS53XF_iG",
        "outputId": "9df76593-f6bc-4808-94c3-6324ecf6d55f"
      },
      "outputs": [
        {
          "output_type": "execute_result",
          "data": {
            "text/plain": [
              "array([ 1,  2,  3,  4,  5,  6,  7,  8,  9, 10, 11, 12, 13, 14, 15, 16, 17,\n",
              "       18])"
            ]
          },
          "metadata": {},
          "execution_count": 76
        }
      ],
      "source": [
        "# Your code here\n",
        "#  Display Unique Values:\n",
        "np.unique(a3)"
      ]
    },
    {
      "cell_type": "code",
      "source": [
        "# Count Number of Unique Values\n",
        "len(np.unique(a3))"
      ],
      "metadata": {
        "id": "enBLMT8fSr2d",
        "outputId": "1c48887a-c0a5-4393-cae7-a5b5f9c260f6",
        "colab": {
          "base_uri": "https://localhost:8080/"
        }
      },
      "execution_count": 77,
      "outputs": [
        {
          "output_type": "execute_result",
          "data": {
            "text/plain": [
              "18"
            ]
          },
          "metadata": {},
          "execution_count": 77
        }
      ]
    },
    {
      "cell_type": "code",
      "source": [
        "# Count Occurrences of Each Unique Value\n",
        "np.unique(a3, return_counts=True)"
      ],
      "metadata": {
        "id": "i96w0RX5SzVa",
        "outputId": "0566d429-8466-49bc-fa70-e889dfb4012d",
        "colab": {
          "base_uri": "https://localhost:8080/"
        }
      },
      "execution_count": 79,
      "outputs": [
        {
          "output_type": "execute_result",
          "data": {
            "text/plain": [
              "(array([ 1,  2,  3,  4,  5,  6,  7,  8,  9, 10, 11, 12, 13, 14, 15, 16, 17,\n",
              "        18]), array([1, 1, 1, 1, 1, 1, 1, 1, 1, 1, 1, 1, 1, 1, 1, 1, 1, 1]))"
            ]
          },
          "metadata": {},
          "execution_count": 79
        }
      ]
    },
    {
      "cell_type": "markdown",
      "metadata": {
        "id": "E7C_7JO2F_iG"
      },
      "source": [
        "## 3. Viewing arrays and matrices (indexing)\n",
        "\n",
        "Remember, because arrays and matrices are both `ndarray`'s, they can be viewed in similar ways.\n",
        "\n",
        "Let's check out our 3 arrays again."
      ]
    },
    {
      "cell_type": "code",
      "execution_count": 80,
      "metadata": {
        "colab": {
          "base_uri": "https://localhost:8080/"
        },
        "id": "udmm32rqF_iG",
        "outputId": "d2dfaf8b-c5fe-4caa-d58f-f1c1081d8b85"
      },
      "outputs": [
        {
          "output_type": "execute_result",
          "data": {
            "text/plain": [
              "array([1, 2, 3])"
            ]
          },
          "metadata": {},
          "execution_count": 80
        }
      ],
      "source": [
        "a1"
      ]
    },
    {
      "cell_type": "code",
      "execution_count": 81,
      "metadata": {
        "colab": {
          "base_uri": "https://localhost:8080/"
        },
        "id": "BHySE_jEF_iG",
        "outputId": "c94861d6-7ff2-4c0e-f4d9-4f5c23d27af2"
      },
      "outputs": [
        {
          "output_type": "execute_result",
          "data": {
            "text/plain": [
              "array([[1. , 2. , 3.3],\n",
              "       [4. , 5. , 6.5]])"
            ]
          },
          "metadata": {},
          "execution_count": 81
        }
      ],
      "source": [
        "a2"
      ]
    },
    {
      "cell_type": "code",
      "execution_count": 82,
      "metadata": {
        "colab": {
          "base_uri": "https://localhost:8080/"
        },
        "id": "HxRakaWcF_iG",
        "outputId": "b62d84d1-5c32-40cd-a48c-aab2ab2202f3"
      },
      "outputs": [
        {
          "output_type": "execute_result",
          "data": {
            "text/plain": [
              "array([[[ 1,  2,  3],\n",
              "        [ 4,  5,  6],\n",
              "        [ 7,  8,  9]],\n",
              "\n",
              "       [[10, 11, 12],\n",
              "        [13, 14, 15],\n",
              "        [16, 17, 18]]])"
            ]
          },
          "metadata": {},
          "execution_count": 82
        }
      ],
      "source": [
        "a3"
      ]
    },
    {
      "cell_type": "markdown",
      "metadata": {
        "id": "YOcg48rPF_iG"
      },
      "source": [
        "Array shapes are always listed in the format `(row, column, n, n, n...)` where `n` is optional extra dimensions."
      ]
    },
    {
      "cell_type": "code",
      "source": [
        "a1.shape"
      ],
      "metadata": {
        "id": "t0qONDczUEZp",
        "outputId": "ee3c581c-5dee-4309-ac5f-e428d16301c6",
        "colab": {
          "base_uri": "https://localhost:8080/"
        }
      },
      "execution_count": 88,
      "outputs": [
        {
          "output_type": "execute_result",
          "data": {
            "text/plain": [
              "(3,)"
            ]
          },
          "metadata": {},
          "execution_count": 88
        }
      ]
    },
    {
      "cell_type": "code",
      "execution_count": 83,
      "metadata": {
        "colab": {
          "base_uri": "https://localhost:8080/"
        },
        "id": "hGQKq2LjF_iG",
        "outputId": "fc7a469d-b587-411c-9b58-60c1f3c432af"
      },
      "outputs": [
        {
          "output_type": "execute_result",
          "data": {
            "text/plain": [
              "1"
            ]
          },
          "metadata": {},
          "execution_count": 83
        }
      ],
      "source": [
        "a1[0]"
      ]
    },
    {
      "cell_type": "code",
      "source": [
        "a2.shape"
      ],
      "metadata": {
        "id": "7aqoTaqxT8gi",
        "outputId": "1e4c2c4f-16f1-4721-bf4b-a89928463fef",
        "colab": {
          "base_uri": "https://localhost:8080/"
        }
      },
      "execution_count": 86,
      "outputs": [
        {
          "output_type": "execute_result",
          "data": {
            "text/plain": [
              "(2, 3)"
            ]
          },
          "metadata": {},
          "execution_count": 86
        }
      ]
    },
    {
      "cell_type": "code",
      "execution_count": 84,
      "metadata": {
        "colab": {
          "base_uri": "https://localhost:8080/"
        },
        "id": "H4Apx_2pF_iG",
        "outputId": "a4ab41b1-8058-49b9-8ef2-2ac4ac532f16"
      },
      "outputs": [
        {
          "output_type": "execute_result",
          "data": {
            "text/plain": [
              "array([1. , 2. , 3.3])"
            ]
          },
          "metadata": {},
          "execution_count": 84
        }
      ],
      "source": [
        "a2[0]"
      ]
    },
    {
      "cell_type": "code",
      "source": [
        "a3.shape"
      ],
      "metadata": {
        "id": "a0jvZVp_T_GJ",
        "outputId": "c1da924c-6cb9-4bc9-8795-5eb41bf177cd",
        "colab": {
          "base_uri": "https://localhost:8080/"
        }
      },
      "execution_count": 87,
      "outputs": [
        {
          "output_type": "execute_result",
          "data": {
            "text/plain": [
              "(2, 3, 3)"
            ]
          },
          "metadata": {},
          "execution_count": 87
        }
      ]
    },
    {
      "cell_type": "code",
      "execution_count": 85,
      "metadata": {
        "colab": {
          "base_uri": "https://localhost:8080/"
        },
        "id": "SGfrgB7rF_iG",
        "outputId": "dae02843-f108-47a9-c2e6-82c3a307deff"
      },
      "outputs": [
        {
          "output_type": "execute_result",
          "data": {
            "text/plain": [
              "array([[1, 2, 3],\n",
              "       [4, 5, 6],\n",
              "       [7, 8, 9]])"
            ]
          },
          "metadata": {},
          "execution_count": 85
        }
      ],
      "source": [
        "a3[0]"
      ]
    },
    {
      "cell_type": "code",
      "execution_count": 89,
      "metadata": {
        "colab": {
          "base_uri": "https://localhost:8080/"
        },
        "id": "nhfFj5h8F_iG",
        "outputId": "23022fff-4095-469e-94bf-6caa336ebaa1"
      },
      "outputs": [
        {
          "output_type": "execute_result",
          "data": {
            "text/plain": [
              "array([4. , 5. , 6.5])"
            ]
          },
          "metadata": {},
          "execution_count": 89
        }
      ],
      "source": [
        "# Get 2nd row (index 1) of a2\n",
        "a2[1]"
      ]
    },
    {
      "cell_type": "code",
      "execution_count": 90,
      "metadata": {
        "colab": {
          "base_uri": "https://localhost:8080/"
        },
        "id": "0CbmF3gIF_iG",
        "outputId": "3622420a-abdc-4da4-ba1f-b8a6330a4930"
      },
      "outputs": [
        {
          "output_type": "execute_result",
          "data": {
            "text/plain": [
              "array([[[ 1,  2],\n",
              "        [ 4,  5]],\n",
              "\n",
              "       [[10, 11],\n",
              "        [13, 14]]])"
            ]
          },
          "metadata": {},
          "execution_count": 90
        }
      ],
      "source": [
        "# Get the first 2 values of each row, column and array\n",
        "a3[:2, :2, :2]"
      ]
    },
    {
      "cell_type": "markdown",
      "metadata": {
        "id": "CWLHOfMqF_iG"
      },
      "source": [
        "This takes a bit of practice, especially when the dimensions get higher. Usually, it takes me a little trial and error of trying to get certain values, viewing the output in the notebook and trying again.\n",
        "\n",
        "NumPy arrays get printed from outside to inside. This means the number at the end of the shape comes first, and the number at the start of the shape comes last."
      ]
    },
    {
      "cell_type": "code",
      "execution_count": 93,
      "metadata": {
        "colab": {
          "base_uri": "https://localhost:8080/"
        },
        "id": "GwBf0GavF_iG",
        "outputId": "71e42ae1-73bf-454c-9227-1b4786011f93"
      },
      "outputs": [
        {
          "output_type": "execute_result",
          "data": {
            "text/plain": [
              "array([[[[8, 8, 2, 3, 2],\n",
              "         [0, 8, 8, 3, 8],\n",
              "         [2, 8, 4, 3, 0],\n",
              "         [4, 3, 6, 9, 8]],\n",
              "\n",
              "        [[0, 8, 5, 9, 0],\n",
              "         [9, 6, 5, 3, 1],\n",
              "         [8, 0, 4, 9, 6],\n",
              "         [5, 7, 8, 8, 9]],\n",
              "\n",
              "        [[2, 8, 6, 6, 9],\n",
              "         [1, 6, 8, 8, 3],\n",
              "         [2, 3, 6, 3, 6],\n",
              "         [5, 7, 0, 8, 4]]],\n",
              "\n",
              "\n",
              "       [[[6, 5, 8, 2, 3],\n",
              "         [9, 7, 5, 3, 4],\n",
              "         [5, 3, 3, 7, 9],\n",
              "         [9, 9, 7, 3, 2]],\n",
              "\n",
              "        [[3, 9, 7, 7, 5],\n",
              "         [1, 2, 2, 8, 1],\n",
              "         [5, 8, 4, 0, 2],\n",
              "         [5, 5, 0, 8, 1]],\n",
              "\n",
              "        [[1, 0, 3, 8, 8],\n",
              "         [4, 4, 0, 9, 3],\n",
              "         [7, 3, 2, 1, 1],\n",
              "         [2, 1, 4, 2, 5]]]])"
            ]
          },
          "metadata": {},
          "execution_count": 93
        }
      ],
      "source": [
        "a4 = np.random.randint(10, size=(2, 3, 4, 5))\n",
        "#Here 5 is the no of items in each row, 4 is the number of rows in each itemslot, 3 is the no of items inside 2nd bracket, 2 is the no of items in last bracket\n",
        "a4"
      ]
    },
    {
      "cell_type": "code",
      "execution_count": 95,
      "metadata": {
        "colab": {
          "base_uri": "https://localhost:8080/"
        },
        "id": "xxcuuk2sF_iG",
        "outputId": "465524a2-67f0-4748-8ec9-3da0a45e1aec"
      },
      "outputs": [
        {
          "output_type": "execute_result",
          "data": {
            "text/plain": [
              "(2, 3, 4, 5)"
            ]
          },
          "metadata": {},
          "execution_count": 95
        }
      ],
      "source": [
        "a4.shape"
      ]
    },
    {
      "cell_type": "code",
      "execution_count": 96,
      "metadata": {
        "colab": {
          "base_uri": "https://localhost:8080/"
        },
        "id": "bXvwMb1WF_iH",
        "outputId": "d76a30bc-8e41-477e-fc90-0f72e8109a4a"
      },
      "outputs": [
        {
          "output_type": "execute_result",
          "data": {
            "text/plain": [
              "array([[[[8, 8, 2, 3],\n",
              "         [0, 8, 8, 3],\n",
              "         [2, 8, 4, 3],\n",
              "         [4, 3, 6, 9]],\n",
              "\n",
              "        [[0, 8, 5, 9],\n",
              "         [9, 6, 5, 3],\n",
              "         [8, 0, 4, 9],\n",
              "         [5, 7, 8, 8]],\n",
              "\n",
              "        [[2, 8, 6, 6],\n",
              "         [1, 6, 8, 8],\n",
              "         [2, 3, 6, 3],\n",
              "         [5, 7, 0, 8]]],\n",
              "\n",
              "\n",
              "       [[[6, 5, 8, 2],\n",
              "         [9, 7, 5, 3],\n",
              "         [5, 3, 3, 7],\n",
              "         [9, 9, 7, 3]],\n",
              "\n",
              "        [[3, 9, 7, 7],\n",
              "         [1, 2, 2, 8],\n",
              "         [5, 8, 4, 0],\n",
              "         [5, 5, 0, 8]],\n",
              "\n",
              "        [[1, 0, 3, 8],\n",
              "         [4, 4, 0, 9],\n",
              "         [7, 3, 2, 1],\n",
              "         [2, 1, 4, 2]]]])"
            ]
          },
          "metadata": {},
          "execution_count": 96
        }
      ],
      "source": [
        "# Get only the first 4 numbers of each single vector\n",
        "a4[:, :, :, :4]"
      ]
    },
    {
      "cell_type": "code",
      "source": [
        "# Get only the first 1 numbers of each single vector\n",
        "a4[:, :, :, :1]"
      ],
      "metadata": {
        "id": "0ij2jduFpfyq",
        "outputId": "d8ea1b8e-7baa-4336-a214-62605bda0186",
        "colab": {
          "base_uri": "https://localhost:8080/"
        }
      },
      "execution_count": 98,
      "outputs": [
        {
          "output_type": "execute_result",
          "data": {
            "text/plain": [
              "array([[[[8],\n",
              "         [0],\n",
              "         [2],\n",
              "         [4]],\n",
              "\n",
              "        [[0],\n",
              "         [9],\n",
              "         [8],\n",
              "         [5]],\n",
              "\n",
              "        [[2],\n",
              "         [1],\n",
              "         [2],\n",
              "         [5]]],\n",
              "\n",
              "\n",
              "       [[[6],\n",
              "         [9],\n",
              "         [5],\n",
              "         [9]],\n",
              "\n",
              "        [[3],\n",
              "         [1],\n",
              "         [5],\n",
              "         [5]],\n",
              "\n",
              "        [[1],\n",
              "         [4],\n",
              "         [7],\n",
              "         [2]]]])"
            ]
          },
          "metadata": {},
          "execution_count": 98
        }
      ]
    },
    {
      "cell_type": "markdown",
      "metadata": {
        "id": "NyKilBuTF_iH"
      },
      "source": [
        "`a4`'s shape is (2, 3, 4, 5), this means it gets displayed like so:\n",
        "* Inner most array = size 5\n",
        "* Next array = size 4\n",
        "* Next array = size 3\n",
        "* Outer most array = size 2"
      ]
    },
    {
      "cell_type": "markdown",
      "metadata": {
        "id": "o7RDDpebF_iH"
      },
      "source": [
        "# 4. Manipulating and comparing arrays\n",
        "* Arithmetic\n",
        "    * `+`, `-`, `*`, `/`, `//`, `**`, `%`\n",
        "    * `np.exp()`\n",
        "    * `np.log()`\n",
        "    * [Dot product](https://www.mathsisfun.com/algebra/matrix-multiplying.html) - `np.dot()`\n",
        "    * Broadcasting\n",
        "* Aggregation\n",
        "    * `np.sum()` - faster than `.sum()`, make demo, np is really fast\n",
        "    * `np.mean()`\n",
        "    * `np.std()`\n",
        "    * `np.var()`\n",
        "    * `np.min()`\n",
        "    * `np.max()`\n",
        "    * `np.argmin()` - find index of minimum value\n",
        "    * `np.argmax()` - find index of maximum value\n",
        "    * These work on all `ndarray`'s\n",
        "        * `a4.min(axis=0)` -- you can use axis as well\n",
        "* Reshaping\n",
        "    * `np.reshape()`\n",
        "* Transposing\n",
        "    * `a3.T` \n",
        "* Comparison operators\n",
        "    * `>`\n",
        "    * `<`\n",
        "    * `<=`\n",
        "    * `>=`\n",
        "    * `x != 3`\n",
        "    * `x == 3`\n",
        "    * `np.sum(x > 3)`"
      ]
    },
    {
      "cell_type": "markdown",
      "metadata": {
        "id": "k-Y0i6XBF_iH"
      },
      "source": [
        "### Arithmetic"
      ]
    },
    {
      "cell_type": "code",
      "execution_count": 99,
      "metadata": {
        "colab": {
          "base_uri": "https://localhost:8080/"
        },
        "id": "TMSEgnk6F_iH",
        "outputId": "265ee34d-7d99-4749-fcf2-307b246d3f84"
      },
      "outputs": [
        {
          "output_type": "execute_result",
          "data": {
            "text/plain": [
              "array([1, 2, 3])"
            ]
          },
          "metadata": {},
          "execution_count": 99
        }
      ],
      "source": [
        "a1"
      ]
    },
    {
      "cell_type": "code",
      "execution_count": 100,
      "metadata": {
        "colab": {
          "base_uri": "https://localhost:8080/"
        },
        "id": "W1gIsPnwF_iH",
        "outputId": "e9eb04b5-ebcc-4518-f6a4-94ffa3426bcf"
      },
      "outputs": [
        {
          "output_type": "execute_result",
          "data": {
            "text/plain": [
              "array([1., 1., 1.])"
            ]
          },
          "metadata": {},
          "execution_count": 100
        }
      ],
      "source": [
        "ones = np.ones(3)\n",
        "ones"
      ]
    },
    {
      "cell_type": "code",
      "execution_count": 102,
      "metadata": {
        "colab": {
          "base_uri": "https://localhost:8080/"
        },
        "id": "Xrrx90vEF_iH",
        "outputId": "8466c3ef-a93d-4be5-fa1e-4cf90c223d39"
      },
      "outputs": [
        {
          "output_type": "execute_result",
          "data": {
            "text/plain": [
              "array([2., 3., 4.])"
            ]
          },
          "metadata": {},
          "execution_count": 102
        }
      ],
      "source": [
        "# Add two arrays\n",
        "a1 + ones\n",
        "# [1, 2, 3] + [1, 1, 1]\n",
        "# [1+1, 2+1, 3+1]\n",
        "# 2, 3, 4"
      ]
    },
    {
      "cell_type": "code",
      "execution_count": 103,
      "metadata": {
        "colab": {
          "base_uri": "https://localhost:8080/"
        },
        "id": "bNIr0BpiF_iH",
        "outputId": "0ffc59b2-0ee4-463a-bf47-2b5c05221370"
      },
      "outputs": [
        {
          "output_type": "execute_result",
          "data": {
            "text/plain": [
              "array([0., 1., 2.])"
            ]
          },
          "metadata": {},
          "execution_count": 103
        }
      ],
      "source": [
        "# Subtract two arrays\n",
        "a1 - ones\n",
        "# [1, 2, 3] - [1, 1, 1]\n",
        "# [1-1, 2-1, 3-1]\n",
        "# 0, 1, 2"
      ]
    },
    {
      "cell_type": "code",
      "execution_count": 105,
      "metadata": {
        "colab": {
          "base_uri": "https://localhost:8080/"
        },
        "id": "5cJm_3AyF_iH",
        "outputId": "15a5c089-e016-491f-d637-41bb81e01bf7"
      },
      "outputs": [
        {
          "output_type": "execute_result",
          "data": {
            "text/plain": [
              "array([1., 2., 3.])"
            ]
          },
          "metadata": {},
          "execution_count": 105
        }
      ],
      "source": [
        "# Multiply two arrays\n",
        "a1 * ones\n",
        "# [1, 2, 3] * [1, 1, 1]\n",
        "# [1*1, 2*1, 3*1]"
      ]
    },
    {
      "cell_type": "code",
      "source": [
        "a1"
      ],
      "metadata": {
        "id": "vNbyAZPmq5_e",
        "outputId": "c961c8cd-0b02-424e-92fa-a03a817cd535",
        "colab": {
          "base_uri": "https://localhost:8080/"
        }
      },
      "execution_count": 107,
      "outputs": [
        {
          "output_type": "execute_result",
          "data": {
            "text/plain": [
              "array([1, 2, 3])"
            ]
          },
          "metadata": {},
          "execution_count": 107
        }
      ]
    },
    {
      "cell_type": "code",
      "source": [
        "a2"
      ],
      "metadata": {
        "id": "IFcbiZ8Fq4Pc",
        "outputId": "94a57121-e576-4525-afa6-5461a50715bd",
        "colab": {
          "base_uri": "https://localhost:8080/"
        }
      },
      "execution_count": 106,
      "outputs": [
        {
          "output_type": "execute_result",
          "data": {
            "text/plain": [
              "array([[1. , 2. , 3.3],\n",
              "       [4. , 5. , 6.5]])"
            ]
          },
          "metadata": {},
          "execution_count": 106
        }
      ]
    },
    {
      "cell_type": "code",
      "execution_count": null,
      "metadata": {
        "id": "9g0NFzuCF_iH",
        "outputId": "689e8505-f7af-4b3f-e0cc-459466067da4"
      },
      "outputs": [
        {
          "data": {
            "text/plain": [
              "array([[ 1. ,  4. ,  9.9],\n",
              "       [ 4. , 10. , 19.5]])"
            ]
          },
          "execution_count": 46,
          "metadata": {},
          "output_type": "execute_result"
        }
      ],
      "source": [
        "# Multiply two arrays\n",
        "a1 * a2\n",
        "# [1*1, 2*2, 3*3.3], [1*4, 2*5, 3*6.5]\n",
        "#[[1, 4, 9.9], [4, 10, 19.5]]"
      ]
    },
    {
      "cell_type": "code",
      "execution_count": 108,
      "metadata": {
        "colab": {
          "base_uri": "https://localhost:8080/"
        },
        "id": "w83rqrvDF_iH",
        "outputId": "2339344a-0d59-4543-81c6-352ded7bd435"
      },
      "outputs": [
        {
          "output_type": "execute_result",
          "data": {
            "text/plain": [
              "((3,), (2, 3))"
            ]
          },
          "metadata": {},
          "execution_count": 108
        }
      ],
      "source": [
        "a1.shape, a2.shape"
      ]
    },
    {
      "cell_type": "markdown",
      "source": [
        "##ValueError: operands could not be broadcast together with shapes (2,3) (2,3,3) !!!"
      ],
      "metadata": {
        "id": "MCniwLTmsMrN"
      }
    },
    {
      "cell_type": "code",
      "source": [
        "a2"
      ],
      "metadata": {
        "id": "CR1KPZpysfg6",
        "outputId": "1e5e425b-77c8-41d2-baa3-3dcc78760eb4",
        "colab": {
          "base_uri": "https://localhost:8080/"
        }
      },
      "execution_count": 113,
      "outputs": [
        {
          "output_type": "execute_result",
          "data": {
            "text/plain": [
              "array([[1. , 2. , 3.3],\n",
              "       [4. , 5. , 6.5]])"
            ]
          },
          "metadata": {},
          "execution_count": 113
        }
      ]
    },
    {
      "cell_type": "code",
      "source": [
        "a3"
      ],
      "metadata": {
        "id": "3vyv2Nzvsgrw",
        "outputId": "d0f41f2a-511c-44bf-d464-b489d3846bf9",
        "colab": {
          "base_uri": "https://localhost:8080/"
        }
      },
      "execution_count": 114,
      "outputs": [
        {
          "output_type": "execute_result",
          "data": {
            "text/plain": [
              "array([[[ 1,  2,  3],\n",
              "        [ 4,  5,  6],\n",
              "        [ 7,  8,  9]],\n",
              "\n",
              "       [[10, 11, 12],\n",
              "        [13, 14, 15],\n",
              "        [16, 17, 18]]])"
            ]
          },
          "metadata": {},
          "execution_count": 114
        }
      ]
    },
    {
      "cell_type": "code",
      "execution_count": 112,
      "metadata": {
        "colab": {
          "base_uri": "https://localhost:8080/",
          "height": 166
        },
        "id": "K5C3d6O0F_iH",
        "outputId": "ee3bfbbd-ba5b-4df1-bafc-22a51bea5cab"
      },
      "outputs": [
        {
          "output_type": "error",
          "ename": "ValueError",
          "evalue": "ignored",
          "traceback": [
            "\u001b[0;31m---------------------------------------------------------------------------\u001b[0m",
            "\u001b[0;31mValueError\u001b[0m                                Traceback (most recent call last)",
            "\u001b[0;32m<ipython-input-112-37d8620f1b2c>\u001b[0m in \u001b[0;36m<module>\u001b[0;34m\u001b[0m\n\u001b[0;32m----> 1\u001b[0;31m \u001b[0ma2\u001b[0m \u001b[0;34m*\u001b[0m \u001b[0ma3\u001b[0m\u001b[0;34m\u001b[0m\u001b[0;34m\u001b[0m\u001b[0m\n\u001b[0m",
            "\u001b[0;31mValueError\u001b[0m: operands could not be broadcast together with shapes (2,3) (2,3,3) "
          ]
        }
      ],
      "source": [
        "a2 * a3"
      ]
    },
    {
      "cell_type": "markdown",
      "source": [
        "#**FIGURE OUT HOW TO MAKE a2*a3 WORK !!!!**"
      ],
      "metadata": {
        "id": "Vw6rLuJBsmVC"
      }
    },
    {
      "cell_type": "code",
      "execution_count": 110,
      "metadata": {
        "colab": {
          "base_uri": "https://localhost:8080/"
        },
        "id": "rQdvhe9VF_iH",
        "outputId": "a7e9924a-5117-444b-bd7b-ef0630ee8c10"
      },
      "outputs": [
        {
          "output_type": "execute_result",
          "data": {
            "text/plain": [
              "array([[[ 1,  2,  3],\n",
              "        [ 4,  5,  6],\n",
              "        [ 7,  8,  9]],\n",
              "\n",
              "       [[10, 11, 12],\n",
              "        [13, 14, 15],\n",
              "        [16, 17, 18]]])"
            ]
          },
          "metadata": {},
          "execution_count": 110
        }
      ],
      "source": [
        "a3"
      ]
    },
    {
      "cell_type": "markdown",
      "metadata": {
        "id": "wjwk22_QF_iH"
      },
      "source": [
        "### Broadcasting\n",
        "\n",
        "- What is broadcasting?\n",
        "    - Broadcasting is a feature of NumPy which performs an operation across multiple dimensions of data without replicating the data. This saves time and space. For example, if you have a 3x3 array (A) and want to add a 1x3 array (B), NumPy will add the row of (B) to every row of (A).\n",
        "\n",
        "- Rules of Broadcasting\n",
        "    1. If the two arrays differ in their number of dimensions, the shape of the one with fewer dimensions is padded with ones on its leading (left) side.\n",
        "    2. If the shape of the two arrays does not match in any dimension, the array with shape equal to 1 in that dimension is stretched to match the other shape.\n",
        "    3. If in any dimension the sizes disagree and neither is equal to 1, an error is raised.\n",
        "    \n",
        "    \n",
        "**The broadcasting rule:**\n",
        "In order to broadcast, the size of the trailing axes for both arrays in an operation must be either the same size or one of them must be one."
      ]
    },
    {
      "cell_type": "code",
      "execution_count": 115,
      "metadata": {
        "colab": {
          "base_uri": "https://localhost:8080/"
        },
        "id": "WdOfQDoOF_iH",
        "outputId": "fa0bac32-36bc-458a-f112-a5e51ae2e13a"
      },
      "outputs": [
        {
          "output_type": "execute_result",
          "data": {
            "text/plain": [
              "array([1, 2, 3])"
            ]
          },
          "metadata": {},
          "execution_count": 115
        }
      ],
      "source": [
        "a1"
      ]
    },
    {
      "cell_type": "code",
      "execution_count": 116,
      "metadata": {
        "colab": {
          "base_uri": "https://localhost:8080/"
        },
        "id": "PHuoVYXAF_iH",
        "outputId": "916f65e0-86fa-4b3d-fce3-e347c0e1a959"
      },
      "outputs": [
        {
          "output_type": "execute_result",
          "data": {
            "text/plain": [
              "(3,)"
            ]
          },
          "metadata": {},
          "execution_count": 116
        }
      ],
      "source": [
        "a1.shape"
      ]
    },
    {
      "cell_type": "code",
      "execution_count": 117,
      "metadata": {
        "colab": {
          "base_uri": "https://localhost:8080/"
        },
        "id": "82jNQoHeF_iI",
        "outputId": "056c854a-0662-4d3d-9b21-f51b7a31c99a"
      },
      "outputs": [
        {
          "output_type": "execute_result",
          "data": {
            "text/plain": [
              "(2, 3)"
            ]
          },
          "metadata": {},
          "execution_count": 117
        }
      ],
      "source": [
        "a2.shape"
      ]
    },
    {
      "cell_type": "code",
      "execution_count": 118,
      "metadata": {
        "colab": {
          "base_uri": "https://localhost:8080/"
        },
        "id": "Mcmm517UF_iI",
        "outputId": "88073f4f-fd39-4169-b910-23a7bc6d51a5"
      },
      "outputs": [
        {
          "output_type": "execute_result",
          "data": {
            "text/plain": [
              "array([[1. , 2. , 3.3],\n",
              "       [4. , 5. , 6.5]])"
            ]
          },
          "metadata": {},
          "execution_count": 118
        }
      ],
      "source": [
        "a2"
      ]
    },
    {
      "cell_type": "markdown",
      "source": [
        "##**Adding and subtracting arrays:**"
      ],
      "metadata": {
        "id": "5Qbo3erPtry1"
      }
    },
    {
      "cell_type": "code",
      "execution_count": 119,
      "metadata": {
        "colab": {
          "base_uri": "https://localhost:8080/"
        },
        "id": "cEvm7jB9F_iI",
        "outputId": "7e6cc0fc-33b4-4d04-b2f0-76a8d8ee2ff7"
      },
      "outputs": [
        {
          "output_type": "execute_result",
          "data": {
            "text/plain": [
              "array([[2. , 4. , 6.3],\n",
              "       [5. , 7. , 9.5]])"
            ]
          },
          "metadata": {},
          "execution_count": 119
        }
      ],
      "source": [
        "a1 + a2"
      ]
    },
    {
      "cell_type": "code",
      "source": [
        "np.add(a1, a2)"
      ],
      "metadata": {
        "id": "YfqrUT5qtkML",
        "outputId": "a319b102-1693-4306-f13a-1686135b4112",
        "colab": {
          "base_uri": "https://localhost:8080/"
        }
      },
      "execution_count": 128,
      "outputs": [
        {
          "output_type": "execute_result",
          "data": {
            "text/plain": [
              "array([[2. , 4. , 6.3],\n",
              "       [5. , 7. , 9.5]])"
            ]
          },
          "metadata": {},
          "execution_count": 128
        }
      ]
    },
    {
      "cell_type": "code",
      "execution_count": 126,
      "metadata": {
        "colab": {
          "base_uri": "https://localhost:8080/"
        },
        "id": "7zp6dL7lF_iI",
        "outputId": "f065b0b7-0f13-46a0-8ca5-c29e7e26c3b6"
      },
      "outputs": [
        {
          "output_type": "execute_result",
          "data": {
            "text/plain": [
              "array([[-1. ,  0. ,  1.3],\n",
              "       [ 2. ,  3. ,  4.5]])"
            ]
          },
          "metadata": {},
          "execution_count": 126
        }
      ],
      "source": [
        "a2 - 2"
      ]
    },
    {
      "cell_type": "code",
      "source": [
        "np.subtract(a2, 2)"
      ],
      "metadata": {
        "id": "tQsxDo2-txcj",
        "outputId": "c0b050d1-8fcf-4ae9-e6ec-cd64b0449b3b",
        "colab": {
          "base_uri": "https://localhost:8080/"
        }
      },
      "execution_count": 129,
      "outputs": [
        {
          "output_type": "execute_result",
          "data": {
            "text/plain": [
              "array([[-1. ,  0. ,  1.3],\n",
              "       [ 2. ,  3. ,  4.5]])"
            ]
          },
          "metadata": {},
          "execution_count": 129
        }
      ]
    },
    {
      "cell_type": "code",
      "execution_count": 121,
      "metadata": {
        "colab": {
          "base_uri": "https://localhost:8080/",
          "height": 183
        },
        "id": "6GM2mS_PF_iI",
        "outputId": "10d35a96-593a-4b42-e598-cf9f55fd8992"
      },
      "outputs": [
        {
          "output_type": "error",
          "ename": "ValueError",
          "evalue": "ignored",
          "traceback": [
            "\u001b[0;31m---------------------------------------------------------------------------\u001b[0m",
            "\u001b[0;31mValueError\u001b[0m                                Traceback (most recent call last)",
            "\u001b[0;32m<ipython-input-121-205292a0d6c2>\u001b[0m in \u001b[0;36m<module>\u001b[0;34m\u001b[0m\n\u001b[1;32m      1\u001b[0m \u001b[0;31m# Raises an error because there's a shape mismatch\u001b[0m\u001b[0;34m\u001b[0m\u001b[0;34m\u001b[0m\u001b[0;34m\u001b[0m\u001b[0m\n\u001b[0;32m----> 2\u001b[0;31m \u001b[0ma2\u001b[0m \u001b[0;34m+\u001b[0m \u001b[0ma3\u001b[0m\u001b[0;34m\u001b[0m\u001b[0;34m\u001b[0m\u001b[0m\n\u001b[0m",
            "\u001b[0;31mValueError\u001b[0m: operands could not be broadcast together with shapes (2,3) (2,3,3) "
          ]
        }
      ],
      "source": [
        "# Raises an error because there's a shape mismatch\n",
        "a2 + a3"
      ]
    },
    {
      "cell_type": "markdown",
      "source": [
        "##**Dividing arrays:**"
      ],
      "metadata": {
        "id": "6w849LSrtN1V"
      }
    },
    {
      "cell_type": "code",
      "execution_count": 122,
      "metadata": {
        "colab": {
          "base_uri": "https://localhost:8080/"
        },
        "id": "Pv8LjOdcF_iI",
        "outputId": "102e1d14-cb55-4364-e30a-b58c15e8126b"
      },
      "outputs": [
        {
          "output_type": "execute_result",
          "data": {
            "text/plain": [
              "array([1., 2., 3.])"
            ]
          },
          "metadata": {},
          "execution_count": 122
        }
      ],
      "source": [
        "# Divide two arrays\n",
        "a1 / ones"
      ]
    },
    {
      "cell_type": "code",
      "execution_count": 123,
      "metadata": {
        "colab": {
          "base_uri": "https://localhost:8080/"
        },
        "id": "qKiapBZeF_iI",
        "outputId": "7ae5f6ce-e9cf-4a29-aab0-4fe7e7f34cb1"
      },
      "outputs": [
        {
          "output_type": "execute_result",
          "data": {
            "text/plain": [
              "array([[1., 1., 1.],\n",
              "       [4., 2., 2.]])"
            ]
          },
          "metadata": {},
          "execution_count": 123
        }
      ],
      "source": [
        "# Divide using floor division\n",
        "a2 // a1"
      ]
    },
    {
      "cell_type": "markdown",
      "source": [
        "##**Taking an array to a power:**"
      ],
      "metadata": {
        "id": "0K1rQ5VhtGdQ"
      }
    },
    {
      "cell_type": "code",
      "execution_count": 124,
      "metadata": {
        "colab": {
          "base_uri": "https://localhost:8080/"
        },
        "id": "7n82Q232F_iI",
        "outputId": "7e658246-19d6-455f-a936-05f739bb9fbc"
      },
      "outputs": [
        {
          "output_type": "execute_result",
          "data": {
            "text/plain": [
              "array([1, 4, 9])"
            ]
          },
          "metadata": {},
          "execution_count": 124
        }
      ],
      "source": [
        "# Take an array to a power\n",
        "a1 ** 2"
      ]
    },
    {
      "cell_type": "code",
      "execution_count": 125,
      "metadata": {
        "colab": {
          "base_uri": "https://localhost:8080/"
        },
        "id": "-fji9_1mF_iI",
        "outputId": "a334b2a9-77c7-4a90-9da2-383e5fca5b10"
      },
      "outputs": [
        {
          "output_type": "execute_result",
          "data": {
            "text/plain": [
              "array([1, 4, 9])"
            ]
          },
          "metadata": {},
          "execution_count": 125
        }
      ],
      "source": [
        "# You can also use np.square()\n",
        "np.square(a1)"
      ]
    },
    {
      "cell_type": "markdown",
      "source": [
        "##**Modulus:**"
      ],
      "metadata": {
        "id": "SLpErA3EtV57"
      }
    },
    {
      "cell_type": "code",
      "execution_count": null,
      "metadata": {
        "id": "-H0doc1HF_iI"
      },
      "outputs": [],
      "source": [
        "# Modulus divide (what's the remainder)\n",
        "a1 % 2"
      ]
    },
    {
      "cell_type": "markdown",
      "metadata": {
        "id": "GZF_eF1-F_iI"
      },
      "source": [
        "You can also find the log or exponential of an array using `np.log()` and `np.exp()`."
      ]
    },
    {
      "cell_type": "code",
      "execution_count": 131,
      "metadata": {
        "colab": {
          "base_uri": "https://localhost:8080/"
        },
        "id": "0NheiQ0KF_iI",
        "outputId": "cf7de496-d8b4-438f-8ada-2dce7862a37a"
      },
      "outputs": [
        {
          "output_type": "execute_result",
          "data": {
            "text/plain": [
              "array([0.        , 0.69314718, 1.09861229])"
            ]
          },
          "metadata": {},
          "execution_count": 131
        }
      ],
      "source": [
        "# Find the log of an array\n",
        "np.log(a1)"
      ]
    },
    {
      "cell_type": "code",
      "execution_count": 132,
      "metadata": {
        "colab": {
          "base_uri": "https://localhost:8080/"
        },
        "id": "sErPv-lzF_iI",
        "outputId": "9943c623-22bd-4fbd-a84b-b7ca3aadef88"
      },
      "outputs": [
        {
          "output_type": "execute_result",
          "data": {
            "text/plain": [
              "array([ 2.71828183,  7.3890561 , 20.08553692])"
            ]
          },
          "metadata": {},
          "execution_count": 132
        }
      ],
      "source": [
        "# Find the exponential of an array\n",
        "np.exp(a1)"
      ]
    },
    {
      "cell_type": "markdown",
      "metadata": {
        "id": "yUDz3R0AF_iI"
      },
      "source": [
        "# **Aggregation**\n",
        "\n",
        "Aggregation - bringing things together, doing a similar thing on a number of things."
      ]
    },
    {
      "cell_type": "code",
      "source": [
        "listy_list = [1, 2, 3]\n",
        "type(listy_list)"
      ],
      "metadata": {
        "id": "P7_Q-Vc5ugIP",
        "outputId": "fe65faa5-cb06-49a7-9434-2d66f7744087",
        "colab": {
          "base_uri": "https://localhost:8080/"
        }
      },
      "execution_count": 135,
      "outputs": [
        {
          "output_type": "execute_result",
          "data": {
            "text/plain": [
              "list"
            ]
          },
          "metadata": {},
          "execution_count": 135
        }
      ]
    },
    {
      "cell_type": "code",
      "source": [
        "sum(listy_list)"
      ],
      "metadata": {
        "id": "59zY5CekulxU",
        "outputId": "f4f3e0f7-c8ec-44ba-c4d3-a3a91dbbe56b",
        "colab": {
          "base_uri": "https://localhost:8080/"
        }
      },
      "execution_count": 136,
      "outputs": [
        {
          "output_type": "execute_result",
          "data": {
            "text/plain": [
              "6"
            ]
          },
          "metadata": {},
          "execution_count": 136
        }
      ]
    },
    {
      "cell_type": "code",
      "source": [
        "a1"
      ],
      "metadata": {
        "id": "KJxl2qrouLR0",
        "outputId": "d6440a69-c3b3-425f-9274-e44c180320cb",
        "colab": {
          "base_uri": "https://localhost:8080/"
        }
      },
      "execution_count": 134,
      "outputs": [
        {
          "output_type": "execute_result",
          "data": {
            "text/plain": [
              "array([1, 2, 3])"
            ]
          },
          "metadata": {},
          "execution_count": 134
        }
      ]
    },
    {
      "cell_type": "code",
      "execution_count": 137,
      "metadata": {
        "colab": {
          "base_uri": "https://localhost:8080/"
        },
        "id": "BF06hnYnF_iI",
        "outputId": "16e75428-cc15-443c-951d-aaabca1a35d7"
      },
      "outputs": [
        {
          "output_type": "execute_result",
          "data": {
            "text/plain": [
              "6"
            ]
          },
          "metadata": {},
          "execution_count": 137
        }
      ],
      "source": [
        "sum(a1)\n",
        "#1+2+3\n",
        "#6"
      ]
    },
    {
      "cell_type": "code",
      "execution_count": 138,
      "metadata": {
        "colab": {
          "base_uri": "https://localhost:8080/"
        },
        "id": "bBcHmtKEF_iI",
        "outputId": "cefa5b7e-700c-440f-d687-01c141747fd9"
      },
      "outputs": [
        {
          "output_type": "execute_result",
          "data": {
            "text/plain": [
              "6"
            ]
          },
          "metadata": {},
          "execution_count": 138
        }
      ],
      "source": [
        "np.sum(a1)"
      ]
    },
    {
      "cell_type": "markdown",
      "metadata": {
        "id": "mSoIrq0YF_iI"
      },
      "source": [
        "Use NumPy's `np.sum()` on NumPy arrays and Python's `sum()` on Python lists."
      ]
    },
    {
      "cell_type": "markdown",
      "source": [
        "##**Array .size function**"
      ],
      "metadata": {
        "id": "ZBKPVm44u-3v"
      }
    },
    {
      "cell_type": "code",
      "execution_count": 139,
      "metadata": {
        "colab": {
          "base_uri": "https://localhost:8080/"
        },
        "id": "F72h4F1YF_iI",
        "outputId": "b7b26524-4749-40fc-b0a0-fa6c819ab326"
      },
      "outputs": [
        {
          "output_type": "execute_result",
          "data": {
            "text/plain": [
              "100000"
            ]
          },
          "metadata": {},
          "execution_count": 139
        }
      ],
      "source": [
        "massive_array = np.random.random(100000)\n",
        "massive_array.size"
      ]
    },
    {
      "cell_type": "code",
      "source": [
        "massive_array[:10]"
      ],
      "metadata": {
        "id": "MDhxK_tHvE0A",
        "outputId": "413959d9-ca23-43ec-90e1-0456f78ae89a",
        "colab": {
          "base_uri": "https://localhost:8080/"
        }
      },
      "execution_count": 140,
      "outputs": [
        {
          "output_type": "execute_result",
          "data": {
            "text/plain": [
              "array([0.21874937, 0.56957353, 0.45210904, 0.97023668, 0.68054469,\n",
              "       0.08529557, 0.05641833, 0.4878377 , 0.88100456, 0.97640439])"
            ]
          },
          "metadata": {},
          "execution_count": 140
        }
      ]
    },
    {
      "cell_type": "markdown",
      "source": [
        "##**Magic functions have a % sign infront of them**"
      ],
      "metadata": {
        "id": "vHSH8aUSvKw_"
      }
    },
    {
      "cell_type": "markdown",
      "source": [
        "###%timeit times how long a line of code takes to run"
      ],
      "metadata": {
        "id": "SBW7PFeLvfzG"
      }
    },
    {
      "cell_type": "code",
      "execution_count": 141,
      "metadata": {
        "colab": {
          "base_uri": "https://localhost:8080/"
        },
        "id": "g0PiS0UxF_iI",
        "outputId": "b3e4c7db-a24b-4c04-cd0e-ac05c4db304a"
      },
      "outputs": [
        {
          "output_type": "stream",
          "name": "stdout",
          "text": [
            "8.97 ms ± 251 µs per loop (mean ± std. dev. of 7 runs, 100 loops each)\n",
            "57.2 µs ± 15.1 µs per loop (mean ± std. dev. of 7 runs, 10000 loops each)\n"
          ]
        }
      ],
      "source": [
        "%timeit sum(massive_array) # Python sum() # %timeit times how long a line of code takes to run\n",
        "%timeit np.sum(massive_array) # NumPy np.sum()"
      ]
    },
    {
      "cell_type": "markdown",
      "source": [
        "## np.sum() is WAY FASTER !!"
      ],
      "metadata": {
        "id": "FmIDHgjWvy-6"
      }
    },
    {
      "cell_type": "code",
      "execution_count": 142,
      "metadata": {
        "colab": {
          "base_uri": "https://localhost:8080/"
        },
        "id": "ENqP-_SiF_iI",
        "outputId": "06a6b0ba-54fc-48fe-bddc-2f0692dfd0aa"
      },
      "outputs": [
        {
          "output_type": "execute_result",
          "data": {
            "text/plain": [
              "100000"
            ]
          },
          "metadata": {},
          "execution_count": 142
        }
      ],
      "source": [
        "import random \n",
        "massive_list = [random.randint(0, 10) for i in range(100000)]\n",
        "len(massive_list)"
      ]
    },
    {
      "cell_type": "markdown",
      "source": [
        "##----------------------------OR------------------------------"
      ],
      "metadata": {
        "id": "FCQrJp9Zwggc"
      }
    },
    {
      "cell_type": "code",
      "source": [
        "massive_list2 = []\n",
        "for i in range(100000):\n",
        "  massive_list2.append(random.randint(0, 10))\n",
        "print(len(massive_list))\n",
        "print(massive_list2[:10])\n"
      ],
      "metadata": {
        "id": "cILzZ-AuwCaM",
        "outputId": "71519361-619a-45d4-d8a9-77715af5a196",
        "colab": {
          "base_uri": "https://localhost:8080/"
        }
      },
      "execution_count": 146,
      "outputs": [
        {
          "output_type": "stream",
          "name": "stdout",
          "text": [
            "100000\n",
            "[9, 10, 2, 6, 4, 3, 2, 4, 8, 10]\n"
          ]
        }
      ]
    },
    {
      "cell_type": "code",
      "execution_count": 147,
      "metadata": {
        "colab": {
          "base_uri": "https://localhost:8080/"
        },
        "id": "FkZveShuF_iJ",
        "outputId": "c2d88545-1128-449c-e9b3-d8c661e74b31"
      },
      "outputs": [
        {
          "output_type": "execute_result",
          "data": {
            "text/plain": [
              "[7, 5, 0, 0, 1, 4, 4, 2, 2, 0]"
            ]
          },
          "metadata": {},
          "execution_count": 147
        }
      ],
      "source": [
        "massive_list[:10]"
      ]
    },
    {
      "cell_type": "code",
      "execution_count": 148,
      "metadata": {
        "colab": {
          "base_uri": "https://localhost:8080/"
        },
        "id": "HhyZ1sBiF_iJ",
        "outputId": "6a9b0569-429e-4ce1-f80a-1c6c1499731f"
      },
      "outputs": [
        {
          "output_type": "stream",
          "name": "stdout",
          "text": [
            "722 µs ± 196 µs per loop (mean ± std. dev. of 7 runs, 1000 loops each)\n",
            "6.22 ms ± 109 µs per loop (mean ± std. dev. of 7 runs, 100 loops each)\n"
          ]
        }
      ],
      "source": [
        "%timeit sum(massive_list)\n",
        "%timeit np.sum(massive_list)"
      ]
    },
    {
      "cell_type": "code",
      "execution_count": 149,
      "metadata": {
        "colab": {
          "base_uri": "https://localhost:8080/"
        },
        "id": "Vty5wjKBF_iJ",
        "outputId": "75834614-6d7c-41fe-eeae-c45757f29980"
      },
      "outputs": [
        {
          "output_type": "execute_result",
          "data": {
            "text/plain": [
              "array([[1. , 2. , 3.3],\n",
              "       [4. , 5. , 6.5]])"
            ]
          },
          "metadata": {},
          "execution_count": 149
        }
      ],
      "source": [
        "a2"
      ]
    },
    {
      "cell_type": "markdown",
      "source": [
        "##**MEAN:**"
      ],
      "metadata": {
        "id": "yLe4BjnVwvAq"
      }
    },
    {
      "cell_type": "code",
      "execution_count": 150,
      "metadata": {
        "colab": {
          "base_uri": "https://localhost:8080/"
        },
        "id": "tt1TT6hcF_iJ",
        "outputId": "c8d42378-0647-432c-b97b-1be2af3bf7f8"
      },
      "outputs": [
        {
          "output_type": "execute_result",
          "data": {
            "text/plain": [
              "3.6333333333333333"
            ]
          },
          "metadata": {},
          "execution_count": 150
        }
      ],
      "source": [
        "# Find the mean\n",
        "np.mean(a2)"
      ]
    },
    {
      "cell_type": "markdown",
      "source": [
        "##**MAX**"
      ],
      "metadata": {
        "id": "MguIiItYwy0V"
      }
    },
    {
      "cell_type": "code",
      "execution_count": 155,
      "metadata": {
        "colab": {
          "base_uri": "https://localhost:8080/"
        },
        "id": "gsSuHgtHF_iJ",
        "outputId": "606e499f-179b-471b-d045-0920e9a5778e"
      },
      "outputs": [
        {
          "output_type": "execute_result",
          "data": {
            "text/plain": [
              "6.5"
            ]
          },
          "metadata": {},
          "execution_count": 155
        }
      ],
      "source": [
        "# Find the max\n",
        "np.max(a2)"
      ]
    },
    {
      "cell_type": "markdown",
      "source": [
        "##**MIN**"
      ],
      "metadata": {
        "id": "RpbcqXZRw6v7"
      }
    },
    {
      "cell_type": "code",
      "execution_count": 154,
      "metadata": {
        "colab": {
          "base_uri": "https://localhost:8080/"
        },
        "id": "R4WE4SBAF_iJ",
        "outputId": "490a3fc4-8494-4900-efad-98ae63f6f007"
      },
      "outputs": [
        {
          "output_type": "execute_result",
          "data": {
            "text/plain": [
              "1.0"
            ]
          },
          "metadata": {},
          "execution_count": 154
        }
      ],
      "source": [
        "# Find the min\n",
        "np.min(a2)"
      ]
    },
    {
      "cell_type": "markdown",
      "source": [
        "##**STANDARD DEVIATION**"
      ],
      "metadata": {
        "id": "0PKOTEpBw8wu"
      }
    },
    {
      "cell_type": "code",
      "execution_count": 153,
      "metadata": {
        "colab": {
          "base_uri": "https://localhost:8080/"
        },
        "id": "KmM-g5KPF_iJ",
        "outputId": "f2e183db-b127-45a1-b630-d7b8f92b7c54"
      },
      "outputs": [
        {
          "output_type": "execute_result",
          "data": {
            "text/plain": [
              "1.8226964152656422"
            ]
          },
          "metadata": {},
          "execution_count": 153
        }
      ],
      "source": [
        "# Find the standard deviation\n",
        "np.std(a2)"
      ]
    },
    {
      "cell_type": "code",
      "source": [
        "# The standard deviation is the square root of the variance\n",
        "np.sqrt(np.var(a2))"
      ],
      "metadata": {
        "id": "N0tE3-u3xE8r",
        "outputId": "5c9daece-2f6d-4413-9250-acf37c3f2370",
        "colab": {
          "base_uri": "https://localhost:8080/"
        }
      },
      "execution_count": 152,
      "outputs": [
        {
          "output_type": "execute_result",
          "data": {
            "text/plain": [
              "1.8226964152656422"
            ]
          },
          "metadata": {},
          "execution_count": 152
        }
      ]
    },
    {
      "cell_type": "markdown",
      "source": [],
      "metadata": {
        "id": "3DcC5vjBxEsd"
      }
    },
    {
      "cell_type": "markdown",
      "source": [
        "##**VARIANCE**"
      ],
      "metadata": {
        "id": "fLrGiaHhxBb1"
      }
    },
    {
      "cell_type": "code",
      "execution_count": 156,
      "metadata": {
        "colab": {
          "base_uri": "https://localhost:8080/"
        },
        "id": "SKYvMO-LF_iJ",
        "outputId": "a4524970-ffad-41e4-8531-a88628420b16"
      },
      "outputs": [
        {
          "output_type": "execute_result",
          "data": {
            "text/plain": [
              "3.3222222222222224"
            ]
          },
          "metadata": {},
          "execution_count": 156
        }
      ],
      "source": [
        "# Find the variance\n",
        "np.var(a2)"
      ]
    },
    {
      "cell_type": "markdown",
      "metadata": {
        "id": "qGxEvVj0F_iJ"
      },
      "source": [
        "**What's mean?**\n",
        "\n",
        "Mean is the same as average. You can find the average of a set of numbers by adding them up and dividing them by how many there are.\n",
        "\n",
        "**What's standard deviation?**\n",
        "\n",
        "[Standard deviation](https://www.mathsisfun.com/data/standard-deviation.html) is a measure of how spread out numbers are.\n",
        "\n",
        "**What's variance?**\n",
        "\n",
        "The [variance](https://www.mathsisfun.com/data/standard-deviation.html) is the averaged squared differences of the mean.\n",
        "\n",
        "To work it out, you:\n",
        "1. Work out the mean\n",
        "2. For each number, subtract the mean and square the result\n",
        "3. Find the average of the squared differences"
      ]
    },
    {
      "cell_type": "markdown",
      "source": [
        "##**VARIANCE:**"
      ],
      "metadata": {
        "id": "Z518i_SexnW9"
      }
    },
    {
      "cell_type": "markdown",
      "source": [
        "### Variance = measure of average degree to which each number is different to the mean\n",
        "\n",
        "###Higher variance = wider range of numbers\n",
        "\n",
        "###Lower variance = lower range of numbers\n"
      ],
      "metadata": {
        "id": "OoIcNgI2xyF6"
      }
    },
    {
      "cell_type": "code",
      "execution_count": 158,
      "metadata": {
        "colab": {
          "base_uri": "https://localhost:8080/"
        },
        "id": "iS1BwEx2F_iJ",
        "outputId": "584d3882-9738-44b6-edfd-172a209c2738"
      },
      "outputs": [
        {
          "output_type": "execute_result",
          "data": {
            "text/plain": [
              "(4296133.472222221, 8.0)"
            ]
          },
          "metadata": {},
          "execution_count": 158
        }
      ],
      "source": [
        "# Demo of variance\n",
        "high_var_array = np.array([1, 100, 200, 300, 4000, 5000])\n",
        "low_var_array = np.array([2, 4, 6, 8, 10])\n",
        "\n",
        "np.var(high_var_array), np.var(low_var_array)"
      ]
    },
    {
      "cell_type": "markdown",
      "source": [
        "##STANDARD DEVIATION:"
      ],
      "metadata": {
        "id": "sUmswzqixrR1"
      }
    },
    {
      "cell_type": "markdown",
      "source": [
        "###Standard deviation is a measure of how spread out numbers are."
      ],
      "metadata": {
        "id": "LjD_BbVhyYG4"
      }
    },
    {
      "cell_type": "code",
      "execution_count": 159,
      "metadata": {
        "colab": {
          "base_uri": "https://localhost:8080/"
        },
        "id": "Kblwbp17F_iJ",
        "outputId": "705a4180-7f58-4022-8e5a-dc18ec007284"
      },
      "outputs": [
        {
          "output_type": "execute_result",
          "data": {
            "text/plain": [
              "(2072.711623024829, 2.8284271247461903)"
            ]
          },
          "metadata": {},
          "execution_count": 159
        }
      ],
      "source": [
        "np.std(high_var_array), np.std(low_var_array)"
      ]
    },
    {
      "cell_type": "code",
      "execution_count": 160,
      "metadata": {
        "colab": {
          "base_uri": "https://localhost:8080/"
        },
        "id": "DYZGCbqQF_iJ",
        "outputId": "4ddfebcd-6765-4fcb-f91c-e7a45640d2d6"
      },
      "outputs": [
        {
          "output_type": "execute_result",
          "data": {
            "text/plain": [
              "2072.711623024829"
            ]
          },
          "metadata": {},
          "execution_count": 160
        }
      ],
      "source": [
        "# The standard deviation is the square root of the variance\n",
        "np.sqrt(np.var(high_var_array))"
      ]
    },
    {
      "cell_type": "markdown",
      "source": [
        "##**HISTOGRAM with $matplotlib inline**"
      ],
      "metadata": {
        "id": "CZf-1QeMy6Uy"
      }
    },
    {
      "cell_type": "markdown",
      "source": [
        "##**Without plt.show**"
      ],
      "metadata": {
        "id": "pxOHdcyvzR7i"
      }
    },
    {
      "cell_type": "code",
      "execution_count": 166,
      "metadata": {
        "colab": {
          "base_uri": "https://localhost:8080/",
          "height": 352
        },
        "id": "YB9Wb7_nF_iJ",
        "outputId": "6d3a8658-f81d-4c5c-9e21-6f3fa116c867"
      },
      "outputs": [
        {
          "output_type": "execute_result",
          "data": {
            "text/plain": [
              "(array([4., 0., 0., 0., 0., 0., 0., 1., 0., 1.]),\n",
              " array([1.0000e+00, 5.0090e+02, 1.0008e+03, 1.5007e+03, 2.0006e+03,\n",
              "        2.5005e+03, 3.0004e+03, 3.5003e+03, 4.0002e+03, 4.5001e+03,\n",
              "        5.0000e+03]),\n",
              " <a list of 10 Patch objects>)"
            ]
          },
          "metadata": {},
          "execution_count": 166
        },
        {
          "output_type": "display_data",
          "data": {
            "text/plain": [
              "<Figure size 432x288 with 1 Axes>"
            ],
            "image/png": "[encoded data removed]"
          },
          "metadata": {
            "needs_background": "light"
          }
        }
      ],
      "source": [
        "%matplotlib inline\n",
        "import matplotlib.pyplot as plt\n",
        "plt.hist(high_var_array)\n",
        "# plt.show()"
      ]
    },
    {
      "cell_type": "markdown",
      "source": [
        "## **With plt.show()**"
      ],
      "metadata": {
        "id": "WrjljrspzNmR"
      }
    },
    {
      "cell_type": "code",
      "execution_count": 163,
      "metadata": {
        "colab": {
          "base_uri": "https://localhost:8080/",
          "height": 265
        },
        "id": "gVmKtC-KF_iJ",
        "outputId": "f2525eb8-43ed-484f-a604-3dbcbe74dbf0"
      },
      "outputs": [
        {
          "output_type": "display_data",
          "data": {
            "text/plain": [
              "<Figure size 432x288 with 1 Axes>"
            ],
            "image/png": "[encoded data removed]"
          },
          "metadata": {
            "needs_background": "light"
          }
        }
      ],
      "source": [
        "plt.hist(low_var_array)\n",
        "plt.show()"
      ]
    },
    {
      "cell_type": "markdown",
      "source": [
        "##MEAN:"
      ],
      "metadata": {
        "id": "65K2SjZgygUx"
      }
    },
    {
      "cell_type": "code",
      "source": [
        "np.mean(high_var_array), np.mean(low_var_array)"
      ],
      "metadata": {
        "id": "OwSGQVIcygAf",
        "outputId": "b15e7982-1ab0-46b0-800e-392585a8cc10",
        "colab": {
          "base_uri": "https://localhost:8080/"
        }
      },
      "execution_count": 167,
      "outputs": [
        {
          "output_type": "execute_result",
          "data": {
            "text/plain": [
              "(1600.1666666666667, 6.0)"
            ]
          },
          "metadata": {},
          "execution_count": 167
        }
      ]
    },
    {
      "cell_type": "markdown",
      "metadata": {
        "id": "I0vQc364F_iJ"
      },
      "source": [
        "##**Reshaping:**"
      ]
    },
    {
      "cell_type": "code",
      "execution_count": 168,
      "metadata": {
        "colab": {
          "base_uri": "https://localhost:8080/"
        },
        "id": "p2Wme4QFF_iJ",
        "outputId": "9b36e416-3954-486d-c8d7-088e7e3eb152"
      },
      "outputs": [
        {
          "output_type": "execute_result",
          "data": {
            "text/plain": [
              "array([[1. , 2. , 3.3],\n",
              "       [4. , 5. , 6.5]])"
            ]
          },
          "metadata": {},
          "execution_count": 168
        }
      ],
      "source": [
        "a2"
      ]
    },
    {
      "cell_type": "code",
      "execution_count": 169,
      "metadata": {
        "colab": {
          "base_uri": "https://localhost:8080/"
        },
        "id": "uhe_lbs3F_iJ",
        "outputId": "52a04e08-069c-4fa3-8c0e-29b16647186a"
      },
      "outputs": [
        {
          "output_type": "execute_result",
          "data": {
            "text/plain": [
              "(2, 3)"
            ]
          },
          "metadata": {},
          "execution_count": 169
        }
      ],
      "source": [
        "a2.shape"
      ]
    },
    {
      "cell_type": "code",
      "execution_count": 171,
      "metadata": {
        "colab": {
          "base_uri": "https://localhost:8080/",
          "height": 166
        },
        "id": "rOx2j1pbF_iJ",
        "outputId": "74633d91-ed41-4e2c-e6ee-e931c5797bff"
      },
      "outputs": [
        {
          "output_type": "error",
          "ename": "ValueError",
          "evalue": "ignored",
          "traceback": [
            "\u001b[0;31m---------------------------------------------------------------------------\u001b[0m",
            "\u001b[0;31mValueError\u001b[0m                                Traceback (most recent call last)",
            "\u001b[0;32m<ipython-input-171-37d8620f1b2c>\u001b[0m in \u001b[0;36m<module>\u001b[0;34m\u001b[0m\n\u001b[0;32m----> 1\u001b[0;31m \u001b[0ma2\u001b[0m \u001b[0;34m*\u001b[0m \u001b[0ma3\u001b[0m\u001b[0;34m\u001b[0m\u001b[0;34m\u001b[0m\u001b[0m\n\u001b[0m",
            "\u001b[0;31mValueError\u001b[0m: operands could not be broadcast together with shapes (2,3) (2,3,3) "
          ]
        }
      ],
      "source": [
        "a2 * a3"
      ]
    },
    {
      "cell_type": "code",
      "execution_count": 172,
      "metadata": {
        "colab": {
          "base_uri": "https://localhost:8080/"
        },
        "id": "OB1tO94mF_iJ",
        "outputId": "f53b6da0-ac91-4cdd-9e64-abb1d2512df8"
      },
      "outputs": [
        {
          "output_type": "execute_result",
          "data": {
            "text/plain": [
              "array([[[1. ],\n",
              "        [2. ],\n",
              "        [3.3]],\n",
              "\n",
              "       [[4. ],\n",
              "        [5. ],\n",
              "        [6.5]]])"
            ]
          },
          "metadata": {},
          "execution_count": 172
        }
      ],
      "source": [
        "a2.reshape(2, 3, 1)"
      ]
    },
    {
      "cell_type": "markdown",
      "source": [
        "## .shape"
      ],
      "metadata": {
        "id": "IDQc9z7i0QSo"
      }
    },
    {
      "cell_type": "code",
      "source": [
        "a2.reshape(2, 3, 1)"
      ],
      "metadata": {
        "id": "h3vsO1MQ0O-U",
        "outputId": "9be71e39-b2f8-4617-cffc-9267ad460cb7",
        "colab": {
          "base_uri": "https://localhost:8080/"
        }
      },
      "execution_count": 178,
      "outputs": [
        {
          "output_type": "execute_result",
          "data": {
            "text/plain": [
              "array([[[1. ],\n",
              "        [2. ],\n",
              "        [3.3]],\n",
              "\n",
              "       [[4. ],\n",
              "        [5. ],\n",
              "        [6.5]]])"
            ]
          },
          "metadata": {},
          "execution_count": 178
        }
      ]
    },
    {
      "cell_type": "code",
      "source": [
        "a3.shape"
      ],
      "metadata": {
        "id": "rWcwbPLo0W38",
        "outputId": "e1d19e18-49b4-42bb-ca3c-1fddb3eefdf3",
        "colab": {
          "base_uri": "https://localhost:8080/"
        }
      },
      "execution_count": 179,
      "outputs": [
        {
          "output_type": "execute_result",
          "data": {
            "text/plain": [
              "(2, 3, 3)"
            ]
          },
          "metadata": {},
          "execution_count": 179
        }
      ]
    },
    {
      "cell_type": "code",
      "source": [
        "a2_reshaped = a2.reshape(2, 3, 1)\n",
        "a2_reshaped"
      ],
      "metadata": {
        "id": "6kE7_m2tz34T",
        "outputId": "10ed0bb0-fba0-445b-8d1b-65abf2f5729b",
        "colab": {
          "base_uri": "https://localhost:8080/"
        }
      },
      "execution_count": 180,
      "outputs": [
        {
          "output_type": "execute_result",
          "data": {
            "text/plain": [
              "array([[[1. ],\n",
              "        [2. ],\n",
              "        [3.3]],\n",
              "\n",
              "       [[4. ],\n",
              "        [5. ],\n",
              "        [6.5]]])"
            ]
          },
          "metadata": {},
          "execution_count": 180
        }
      ]
    },
    {
      "cell_type": "code",
      "source": [
        "a2_reshaped * a3"
      ],
      "metadata": {
        "id": "w4aDCgjZ0fk2",
        "outputId": "1353fc16-059f-4535-b83a-9236c38ca180",
        "colab": {
          "base_uri": "https://localhost:8080/"
        }
      },
      "execution_count": 181,
      "outputs": [
        {
          "output_type": "execute_result",
          "data": {
            "text/plain": [
              "array([[[  1. ,   2. ,   3. ],\n",
              "        [  8. ,  10. ,  12. ],\n",
              "        [ 23.1,  26.4,  29.7]],\n",
              "\n",
              "       [[ 40. ,  44. ,  48. ],\n",
              "        [ 65. ,  70. ,  75. ],\n",
              "        [104. , 110.5, 117. ]]])"
            ]
          },
          "metadata": {},
          "execution_count": 181
        }
      ]
    },
    {
      "cell_type": "markdown",
      "metadata": {
        "id": "JKjPYKeiF_iK"
      },
      "source": [
        "##**Transpose:**"
      ]
    },
    {
      "cell_type": "code",
      "execution_count": 182,
      "metadata": {
        "colab": {
          "base_uri": "https://localhost:8080/"
        },
        "id": "NMVVLTKnF_iK",
        "outputId": "31ceacbc-eeb3-42c9-bebc-6ee68120c6c8"
      },
      "outputs": [
        {
          "output_type": "execute_result",
          "data": {
            "text/plain": [
              "(2, 3)"
            ]
          },
          "metadata": {},
          "execution_count": 182
        }
      ],
      "source": [
        "a2.shape"
      ]
    },
    {
      "cell_type": "code",
      "source": [
        "a2"
      ],
      "metadata": {
        "id": "VIsJIDeo04VB",
        "outputId": "b6aea0ac-dcfc-4a7e-dbe9-edb0dd813f87",
        "colab": {
          "base_uri": "https://localhost:8080/"
        }
      },
      "execution_count": 187,
      "outputs": [
        {
          "output_type": "execute_result",
          "data": {
            "text/plain": [
              "array([[1. , 2. , 3.3],\n",
              "       [4. , 5. , 6.5]])"
            ]
          },
          "metadata": {},
          "execution_count": 187
        }
      ]
    },
    {
      "cell_type": "code",
      "execution_count": 188,
      "metadata": {
        "colab": {
          "base_uri": "https://localhost:8080/"
        },
        "id": "zg02RSmrF_iK",
        "outputId": "96e88450-d2b3-4878-eed6-ca70c079a094"
      },
      "outputs": [
        {
          "output_type": "execute_result",
          "data": {
            "text/plain": [
              "array([[1. , 4. ],\n",
              "       [2. , 5. ],\n",
              "       [3.3, 6.5]])"
            ]
          },
          "metadata": {},
          "execution_count": 188
        }
      ],
      "source": [
        "#Transpose = switches the axis' / swaps the rows and columns\n",
        "a2.T"
      ]
    },
    {
      "cell_type": "code",
      "execution_count": 185,
      "metadata": {
        "colab": {
          "base_uri": "https://localhost:8080/"
        },
        "id": "r2gP7xmjF_iK",
        "outputId": "c1726291-6b14-4c7f-d5b3-40655d4c19dc"
      },
      "outputs": [
        {
          "output_type": "execute_result",
          "data": {
            "text/plain": [
              "(3, 2)"
            ]
          },
          "metadata": {},
          "execution_count": 185
        }
      ],
      "source": [
        "a2.T.shape"
      ]
    },
    {
      "cell_type": "code",
      "source": [
        "a3.shape"
      ],
      "metadata": {
        "id": "V3YoMqlC0-ye",
        "outputId": "083e38de-f065-4f42-8cf7-a52c630db5d9",
        "colab": {
          "base_uri": "https://localhost:8080/"
        }
      },
      "execution_count": 189,
      "outputs": [
        {
          "output_type": "execute_result",
          "data": {
            "text/plain": [
              "(2, 3, 3)"
            ]
          },
          "metadata": {},
          "execution_count": 189
        }
      ]
    },
    {
      "cell_type": "code",
      "source": [
        "a3"
      ],
      "metadata": {
        "id": "vV61tEol1E9g",
        "outputId": "a24651ea-3b04-43fb-b99f-35b7f1f37668",
        "colab": {
          "base_uri": "https://localhost:8080/"
        }
      },
      "execution_count": 192,
      "outputs": [
        {
          "output_type": "execute_result",
          "data": {
            "text/plain": [
              "array([[[ 1,  2,  3],\n",
              "        [ 4,  5,  6],\n",
              "        [ 7,  8,  9]],\n",
              "\n",
              "       [[10, 11, 12],\n",
              "        [13, 14, 15],\n",
              "        [16, 17, 18]]])"
            ]
          },
          "metadata": {},
          "execution_count": 192
        }
      ]
    },
    {
      "cell_type": "markdown",
      "source": [],
      "metadata": {
        "id": "b_roPxi71Evt"
      }
    },
    {
      "cell_type": "code",
      "source": [
        "a3.T"
      ],
      "metadata": {
        "id": "nQoN1Pba1BA5",
        "outputId": "061c0c29-4376-4aad-8a45-15c8ce6dc3a3",
        "colab": {
          "base_uri": "https://localhost:8080/"
        }
      },
      "execution_count": 190,
      "outputs": [
        {
          "output_type": "execute_result",
          "data": {
            "text/plain": [
              "array([[[ 1, 10],\n",
              "        [ 4, 13],\n",
              "        [ 7, 16]],\n",
              "\n",
              "       [[ 2, 11],\n",
              "        [ 5, 14],\n",
              "        [ 8, 17]],\n",
              "\n",
              "       [[ 3, 12],\n",
              "        [ 6, 15],\n",
              "        [ 9, 18]]])"
            ]
          },
          "metadata": {},
          "execution_count": 190
        }
      ]
    },
    {
      "cell_type": "code",
      "execution_count": 193,
      "metadata": {
        "colab": {
          "base_uri": "https://localhost:8080/"
        },
        "id": "LXMemr1cF_iK",
        "outputId": "8f504b87-b95c-4858-baa0-194b8216491b"
      },
      "outputs": [
        {
          "output_type": "execute_result",
          "data": {
            "text/plain": [
              "array([[[0.78803407, 0.54830094, 0.34621671],\n",
              "        [0.50785919, 0.27214128, 0.76290553],\n",
              "        [0.13506422, 0.87301999, 0.5437044 ]],\n",
              "\n",
              "       [[0.42544685, 0.32028686, 0.0589651 ],\n",
              "        [0.68460442, 0.5117316 , 0.32266518],\n",
              "        [0.59770059, 0.62433439, 0.87097503]],\n",
              "\n",
              "       [[0.14966725, 0.40081339, 0.9283319 ],\n",
              "        [0.50417904, 0.61417789, 0.52448713],\n",
              "        [0.7565816 , 0.13843673, 0.4703947 ]],\n",
              "\n",
              "       [[0.71330619, 0.8372856 , 0.00495611],\n",
              "        [0.29233636, 0.58258797, 0.77091718],\n",
              "        [0.87636989, 0.72011788, 0.56772488]],\n",
              "\n",
              "       [[0.39280454, 0.45336131, 0.82291687],\n",
              "        [0.59416932, 0.66840164, 0.80687089],\n",
              "        [0.2898391 , 0.02975298, 0.04936568]]])"
            ]
          },
          "metadata": {},
          "execution_count": 193
        }
      ],
      "source": [
        "matrix = np.random.random(size=(5,3,3))\n",
        "matrix"
      ]
    },
    {
      "cell_type": "code",
      "execution_count": 194,
      "metadata": {
        "colab": {
          "base_uri": "https://localhost:8080/"
        },
        "id": "2OwMFl2jF_iK",
        "outputId": "46395110-55d4-4fac-ee7d-f14a117ac52e"
      },
      "outputs": [
        {
          "output_type": "execute_result",
          "data": {
            "text/plain": [
              "(5, 3, 3)"
            ]
          },
          "metadata": {},
          "execution_count": 194
        }
      ],
      "source": [
        "matrix.shape"
      ]
    },
    {
      "cell_type": "code",
      "execution_count": 195,
      "metadata": {
        "colab": {
          "base_uri": "https://localhost:8080/"
        },
        "id": "ad7fDtrDF_iK",
        "outputId": "f8249f8b-3416-4158-a085-24d5b666d6d0"
      },
      "outputs": [
        {
          "output_type": "execute_result",
          "data": {
            "text/plain": [
              "array([[[0.78803407, 0.42544685, 0.14966725, 0.71330619, 0.39280454],\n",
              "        [0.50785919, 0.68460442, 0.50417904, 0.29233636, 0.59416932],\n",
              "        [0.13506422, 0.59770059, 0.7565816 , 0.87636989, 0.2898391 ]],\n",
              "\n",
              "       [[0.54830094, 0.32028686, 0.40081339, 0.8372856 , 0.45336131],\n",
              "        [0.27214128, 0.5117316 , 0.61417789, 0.58258797, 0.66840164],\n",
              "        [0.87301999, 0.62433439, 0.13843673, 0.72011788, 0.02975298]],\n",
              "\n",
              "       [[0.34621671, 0.0589651 , 0.9283319 , 0.00495611, 0.82291687],\n",
              "        [0.76290553, 0.32266518, 0.52448713, 0.77091718, 0.80687089],\n",
              "        [0.5437044 , 0.87097503, 0.4703947 , 0.56772488, 0.04936568]]])"
            ]
          },
          "metadata": {},
          "execution_count": 195
        }
      ],
      "source": [
        "matrix.T"
      ]
    },
    {
      "cell_type": "code",
      "execution_count": 196,
      "metadata": {
        "colab": {
          "base_uri": "https://localhost:8080/"
        },
        "id": "QZkCV1lIF_iK",
        "outputId": "9f774a13-769d-4d60-cef5-8769c3e0ec0a"
      },
      "outputs": [
        {
          "output_type": "execute_result",
          "data": {
            "text/plain": [
              "(3, 3, 5)"
            ]
          },
          "metadata": {},
          "execution_count": 196
        }
      ],
      "source": [
        "matrix.T.shape"
      ]
    },
    {
      "cell_type": "markdown",
      "metadata": {
        "id": "FRQIfyaRF_iK"
      },
      "source": [
        "### Dot\n",
        "\n",
        "* TODO - create graphic for dot versus element-wise also known as Hadamard product\n",
        "* TODO - why would someone use dot versus element-wise?\n",
        "* A dot product models real world problems well, it's a method of finding patterns between data "
      ]
    },
    {
      "cell_type": "code",
      "execution_count": 202,
      "metadata": {
        "colab": {
          "base_uri": "https://localhost:8080/"
        },
        "id": "PaRuDM5iF_iK",
        "outputId": "035fa340-4d6e-4786-983f-c7857da577ee"
      },
      "outputs": [
        {
          "output_type": "execute_result",
          "data": {
            "text/plain": [
              "((5, 3), (5, 3))"
            ]
          },
          "metadata": {},
          "execution_count": 202
        }
      ],
      "source": [
        "np.random.seed(0)\n",
        "mat1 = np.random.randint(10, size=(5, 3))\n",
        "mat2 = np.random.randint(10, size=(5, 3))\n",
        "\n",
        "mat1.shape, mat2.shape"
      ]
    },
    {
      "cell_type": "code",
      "execution_count": 203,
      "metadata": {
        "colab": {
          "base_uri": "https://localhost:8080/"
        },
        "id": "u4Lu40YYF_iK",
        "outputId": "bfc7d639-b783-480f-8a48-e02dee70ab7a"
      },
      "outputs": [
        {
          "output_type": "execute_result",
          "data": {
            "text/plain": [
              "array([[5, 0, 3],\n",
              "       [3, 7, 9],\n",
              "       [3, 5, 2],\n",
              "       [4, 7, 6],\n",
              "       [8, 8, 1]])"
            ]
          },
          "metadata": {},
          "execution_count": 203
        }
      ],
      "source": [
        "mat1"
      ]
    },
    {
      "cell_type": "code",
      "execution_count": 204,
      "metadata": {
        "colab": {
          "base_uri": "https://localhost:8080/"
        },
        "id": "K4TE8lSzF_iK",
        "outputId": "3cc11dc5-aefd-46d6-9bda-2c2e0e7e1729"
      },
      "outputs": [
        {
          "output_type": "execute_result",
          "data": {
            "text/plain": [
              "array([[6, 7, 7],\n",
              "       [8, 1, 5],\n",
              "       [9, 8, 9],\n",
              "       [4, 3, 0],\n",
              "       [3, 5, 0]])"
            ]
          },
          "metadata": {},
          "execution_count": 204
        }
      ],
      "source": [
        "mat2"
      ]
    },
    {
      "cell_type": "markdown",
      "source": [
        "###**#Element wise multiplication**"
      ],
      "metadata": {
        "id": "RealLq5C14F0"
      }
    },
    {
      "cell_type": "code",
      "source": [
        "#Element wise multiplication\n",
        "mat1 * mat2"
      ],
      "metadata": {
        "id": "ZgkdDolz1h3D",
        "outputId": "0c374734-64d1-4420-fcc7-ec71f2590324",
        "colab": {
          "base_uri": "https://localhost:8080/"
        }
      },
      "execution_count": 205,
      "outputs": [
        {
          "output_type": "execute_result",
          "data": {
            "text/plain": [
              "array([[30,  0, 21],\n",
              "       [24,  7, 45],\n",
              "       [27, 40, 18],\n",
              "       [16, 21,  0],\n",
              "       [24, 40,  0]])"
            ]
          },
          "metadata": {},
          "execution_count": 205
        }
      ]
    },
    {
      "cell_type": "markdown",
      "source": [
        "## **Dot product multiplication**"
      ],
      "metadata": {
        "id": "pztDiqIL17cB"
      }
    },
    {
      "cell_type": "markdown",
      "source": [
        "### **ValueError: shapes (5,3) and (5,3) not aligned: 3 (dim 1) != 5 (dim 0)**"
      ],
      "metadata": {
        "id": "4-Yq19mp2FcS"
      }
    },
    {
      "cell_type": "code",
      "execution_count": 206,
      "metadata": {
        "colab": {
          "base_uri": "https://localhost:8080/",
          "height": 201
        },
        "id": "cyYzf2vYF_iK",
        "outputId": "e73b8d04-dc6d-44af-a388-b9ea4e2f1434"
      },
      "outputs": [
        {
          "output_type": "error",
          "ename": "ValueError",
          "evalue": "ignored",
          "traceback": [
            "\u001b[0;31m---------------------------------------------------------------------------\u001b[0m",
            "\u001b[0;31mValueError\u001b[0m                                Traceback (most recent call last)",
            "\u001b[0;32m<ipython-input-206-6a29ea6b4980>\u001b[0m in \u001b[0;36m<module>\u001b[0;34m\u001b[0m\n\u001b[0;32m----> 1\u001b[0;31m \u001b[0mnp\u001b[0m\u001b[0;34m.\u001b[0m\u001b[0mdot\u001b[0m\u001b[0;34m(\u001b[0m\u001b[0mmat1\u001b[0m\u001b[0;34m,\u001b[0m \u001b[0mmat2\u001b[0m\u001b[0;34m)\u001b[0m\u001b[0;34m\u001b[0m\u001b[0;34m\u001b[0m\u001b[0m\n\u001b[0m",
            "\u001b[0;32m<__array_function__ internals>\u001b[0m in \u001b[0;36mdot\u001b[0;34m(*args, **kwargs)\u001b[0m\n",
            "\u001b[0;31mValueError\u001b[0m: shapes (5,3) and (5,3) not aligned: 3 (dim 1) != 5 (dim 0)"
          ]
        }
      ],
      "source": [
        "np.dot(mat1, mat2)"
      ]
    },
    {
      "cell_type": "markdown",
      "source": [
        "![330095425_915141762824187_7489679900329174471_n.jpg](data:image/jpeg;base64,/9j/4AAQSkZJRgABAQAAAQABAAD/4gHYSUNDX1BST0ZJTEUAAQEAAAHIbGNtcwIQAABtbnRyUkdCIFhZWiAH4gADABQACQAOAB1hY3NwTVNGVAAAAABzYXdzY3RybAAAAAAAAAAAAAAAAAAA9tYAAQAAAADTLWhhbmSdkQA9QICwPUB0LIGepSKOAAAAAAAAAAAAAAAAAAAAAAAAAAAAAAAAAAAAAAAAAAlkZXNjAAAA8AAAAF9jcHJ0AAABDAAAAAx3dHB0AAABGAAAABRyWFlaAAABLAAAABRnWFlaAAABQAAAABRiWFlaAAABVAAAABRyVFJDAAABaAAAAGBnVFJDAAABaAAAAGBiVFJDAAABaAAAAGBkZXNjAAAAAAAAAAV1UkdCAAAAAAAAAAAAAAAAdGV4dAAAAABDQzAAWFlaIAAAAAAAAPNUAAEAAAABFslYWVogAAAAAAAAb6AAADjyAAADj1hZWiAAAAAAAABilgAAt4kAABjaWFlaIAAAAAAAACSgAAAPhQAAtsRjdXJ2AAAAAAAAACoAAAB8APgBnAJ1A4MEyQZOCBIKGAxiDvQRzxT2GGocLiBDJKwpai5+M+s5sz/WRldNNlR2XBdkHWyGdVZ+jYgskjacq6eMstu+mcrH12Xkd/H5////2wBDAAYEBAUEBAYFBQUGBgYHCQ4JCQgICRINDQoOFRIWFhUSFBQXGiEcFxgfGRQUHScdHyIjJSUlFhwpLCgkKyEkJST/2wBDAQYGBgkICREJCREkGBQYJCQkJCQkJCQkJCQkJCQkJCQkJCQkJCQkJCQkJCQkJCQkJCQkJCQkJCQkJCQkJCQkJCT/wAARCAYACAADASIAAhEBAxEB/8QAHAAAAwACAwEAAAAAAAAAAAAAAAECAwUGBwgE/8QAZxAAAgADBAQHCgcICw4FBAIDAAIDBBIBBQYiESEyQgcTMUFSYWIUFlFxcoKSorLRCBUjkZTS8BcYM1NUVZPCJENFVmSBhKHh4vImNDU2REZjdIOVo6SxwSU3c7PTJ2V1hfFmpePD/8QAGgEBAQEAAwEAAAAAAAAAAAAAAAECAwQFBv/EACsRAQABAwMCBgIDAQEBAAAAAAACAwQSAREyEyIUITEzQUIFUSNSYRVxYv/aAAwDAQACEQMRAD8A8xbzad0W1q6RVXOLZIo11BtLoFvFN2doA2WJ0WFbxNWUBgPa5RdRQt7QLd6NRTLz1ZReMIN7KDKP1RavNYKvr2RaqtNu6T0iqqWAe0ITD3tID3ad0VNnIG0G6AtnlH494Qwg3ReMPVGFTq5Kigp80AheIYU+EAqdRTKT1D1qAD84A1dIIAF4hgG7q8kXR0DABEl9INkA1dIXWPm+qADUPEIfjANXMPxiAKfSH1WiqDqAdVQALVUAVBtNmGTtANVs5KQZRiqAQU5QYQDygAm0AG6LqKppEAC8Y6qdYegAecAbPmgAusZNPhKAeYADKAbumwNoQwFr5w6NQ9lhAAAABqGAAPeGALSAmzaxGVl5zHSBLKTTmLzCYInoh4hhtaygJAAKAe6ACAYqQAYaA0AG12gH1C0AC7I6vAAeIAEPqEAddm6MA6gJ8YxiAAEMA1cwvEMAEMAAQDDaAnUo9nkGACAPGPaAQMOlQ1AIAHtAT4xjAAEMN4AUBeMWoAbwbox6gACdRSjpzAIAGAheMrKGUBAGgADdDUDaRAMnxlahAAAAEgPrGAABPOBVRI+oYRIUlABOzygHV0gANkokNFgDZRAVUBIhhzgJusBhzgIAH2QAonWAVQtreHUMA0BoAADUGyG9osAgAGIAEMgAYQwYokADqCGJso+sAIKpAYUdQhsAAPsgAAIe0HlAFIhgAqeYB9kAEA9QgABqJQAADdAN0GDxAAuofjEG8A9oVNIxALdHsgMBAAagAA2QAWYYC2gGoUgADUAAgAAAEw2AACqyqoApDxgAC3RgCiGAA3pCGFXOAlWrKGoB7wEFAP8AVAQUgG6A/ELWAdYUxdVqjp5gCIYnpF1CKEMNoAAApDaANoAJqAoOsA1coQhhshq8kKmoY2zCAW8MBb2gBj7OyAAHjBQ8QEAHjDdDZKAaiHs8hBkqsb6o9nVnyguan0gqy5iKevlsEOmnV9qQ1N5JRPWUGtgXw2gFNnMIrVz7wgBafRJq8GYNnVYOq1QgGTu+SFPhCmAdYtfOEPrDxD2idXRArQGvnDzReIBiHVmF4gp+LdDe2hdQ93aAAAKfCABvabR7XKKq1W0ACqHRqEMICfEUGvlsAldoPGULqAYBqBQBVDWGyLxgAwVg0AAAFPqgGgeYWyGqlQoHUINkCvGMlmBgKJyj6hVAPdFmHtMwVZdFgC9YKWDxh1AAbIAAeaIGGELSCjzBVmCnlDxjAokRXUIBDDXUAAohhSQAeIdNIwJDaHTzjpYBUhsjAAGoqRrmAzLTTr2T523tJ9UNMugbSjNsmcm8Xybomzaz61kswo0vSvkjIxfGMujeEy9E040Uj0DAoWgrxDGuzoAVPhJppM20Y2II1jp8I/EMomkCqRU8wC8QFABItQx5QJAdIAIBiAA1AAAAxAAAMBAPxCAAAVQDAQtQFBpAADeF4gGoCHrAAEPZF1j2QAnaUY9YALqHvAAAAAMAAAAAAQahiAQw2eQNkAYQqbdqkNYDAApCAXWGvksDRaAxeIKbadIwAkei0NFoBug3gHSLRaAigFotAZI9Fo6QAkei0NFoCCoKbag1gFQh028w6batkCQHxb9Eqi3ouBGyMKXXlQKbQCoomm3oBTb0AL0gFNuzSPi7QpboDpYdFoEjHQ9IqLW3QE29aIqi3o0kUWgSBXF286BQ3RAkRXFsHFsESBXFsUyW8gGMdI1S2ouhwMY6SuLtHRbzhUAVxdocUwEgVxTDWFaBHOGovinFxdoE1c4i+KYOKYCKg2m1F8VaoqLQJ3tAaqiuKYqjLlAxj8ofF206g4vwbwEhTSVRaFFoE7Iuoui0fF2gYwLoCi0CWFSXxfaFxfOXYRlDaLoDi2IMZRSoFHaAiqoGK4sfFWtvASMdA6AJ8YdZVFo2hkEBrL4v1hcXV5wE9YjJxYcUBGsNZk4pyeKYCdrlDrHQOgCQHSNk3bQJ3gK0WipAW6JSqbQ4v0gEoiuLYWi0BagUdNuyFFvIAtokum3oFcXTyjESIqjo7QtFoEbwFMtoqbeQoRPSKpHSwCAKbQ3gAApt5B0gLqtBgpHr5wFlAKbQpt5wBhDzBrq0AIB0gEIW6V1CIpk9ZVIa+QqAAbaDeCn1C67d4GG2bUBe8xSlNDsZh8XS2piKlVpJ6zLTz2i4vwgSC7RfF2BTmAlRa28kulQpsy6QMfjBjJSoU2Nqs2WCMe1yEmalKR0gYuse9lMnF+AOLpUKxdQzJqqKp8NARhVbW5N0dNtRlppy9kXUBjpt5LcwqbTLqpKAw0sKhuiZeooDCq2j4t2bZ9IyNo3hdXRAx02846bTJujAxcXb0AotYzU0gBh4q0KLVMuzyA3gAxcXUFFpl0WAUYqLR0WmQOiBjpYTJV5xlDrqAxUPSuUXFmfWIDFxY2heEornAx8VY2ofFWKxdPhHSBjWELirOUyddoAY+Ks5h8WWAEcVm0AyIqlj11ARxfhK4v8AtD3RgY+Ls5ymh2FBtF2GPi/APiy9oTEC4qyoiiykyVCAmixVDi7KtZfWGzrAOLUSog9kfiATInMouL5jIToASw7GXQPi6V7I6ecdNnOFQsKwfFJlK2RgRxdg+LUdXMKrKAuLQKbOS0pQ2mIIVLAWFZToL9WoZRFFm6VCh2M2zUO0yQFrbTYuztEkr65aAmiq0+lYCMtVi5TFs2azMsXKcEnZplxCKuz6R88xDy690+vjLYmvonwx4m1ZaZi1J8bLYra1IaGjGbe+sTEao7MXUkwcWoaLC8oiskqpy0FUqGYKgBodgUqMAFSoqbOZSwAmiwVFmyUyjAnQvRFQvRyli3qQJZEq1KJVsLzCpAmixh02dAe8M0IpXohosLJAmlB02dAB+MBU2dAOLsqGUERosBls5bRgAuLToBTZzD6gAVNnRzC0WFNsi6gFTZ0Aps6A2BeoYiaLBslnRKXaCnMBNNnJSFNnQHujAWiwKU5xgAqbOgFNnQH4gAVNnMo2WzogGvlsKCmzoBl7BQlAnRYGiwe0ABqDdAoCaVDUOkQAGgCgJpsq2Q0FEkAFKgAAKmzoFiqqATBSoA2YBU5hUl5RaAJVQUdIa6QCkRW6IACkApABDABdoYN1AAE6hjAQdkYqQAOyAAGXzSSgAnaArtABJS9YABQCGAtQDABMY2MjCZQJF0h0lARqVg6y2JAQt0YAAwpK2tQED8ZQAT1AOnNoEAvGBZNIB1CpLJ2QFvAMAELKOkKbApbo/wBYKQ1mQgHSDAAACgABu6QbwAIkqnnF4wGAVc4GgtTCKJGgAKAbokOoKQKHvDpFr3RmFA6RBmAdIqafOGAE0842y8o6Q2QELWy6RsOkBbotmnQPrABVBvBvBr3gHsi6gppGAlUGGTlAeywvGPMMCQXKUSABSAdYBTzWh1gUBiZRL1FBSAtQtVOUoDSJEVuj6rAIpp5AGHOAm8FoMMAEG7pGLrAPGFI+0AB2RagGoE0jpG2gFAW6FPNaPTYFVOuwyJ/VBszaRtpAKKbBU5WHVZT7IVUqaGdVqDeYNXOPXzmABtAG8AeIKrOXZqDd02lfqgS2XtKA6gYB1WVaLPJJ8Q10KUuj0SiGaxabLMxVXOG6SBW8LrEVvabAEGzrKapgppAWsdIa2YKade8AAvhtBVpBamANYa280YtoA6WkPKBtC8g9WUBauQF6wUe8AVZcoqcww8QCpqYB7PIG1yALshvagAA2tYBT5wwEMKatQddhoKoasLZ5B08wCD1R7WoN4ADqtBsusNkA2VF0h+MKQCnzahaqvZHvAAht6oBrAKh7LCFTZUBStVsiq8AAoD1Nyi3dBXSyjAikNfOoeMOoAXwD3hKPxgIa9eyPqDxmQ90BgAt2kYtkKQBtIwpUAAeUQBQAKpWzqAjxDGKkAPolsvZMMNcxkVuYkli+2qzLYZVaxaj4Vi2mWpmU4pRc8ZM7NY1Vtmz2j4ozZtKmeqxEa0+Rmq12iMWakgugllpXQWrAcrjYGUkyspFJWASUJgFoK2tVoswwGoqfAClquUCRa1MnUAGNRl62IpYAFSOnNoFsqAxbPIFPhGbCAKee0KcpBOsa+AYBAMQbwAAUjAROoqmwAJAokAEPrKKMfWVtAFJWSpyhujDXyAJheIoMwFAJdLah0kaKkYwAmkYwABDF6wCyjGLrAFGBLAUIYAIWyUTlIGKkoWUoN0litoWUgYBlFT4QF4h9RQqQJKAAJBigAkN0onrtAPGAFAR4w1FdYgwQDptABAMQAHWAwEIrqEGwIdPhCkBeSA6QABiGAdVgbpQqVAkBgBjYpR0iAFUnZLFSBLAVSMBcwahhTbzAIB+0GyAg7Q6Q6gF5IDpABbIdIe1yCpACSgMieoerksGFJoSBVIGRO0BXlAFT1ipt5bdkZQEa+UCyesIQqRgoCBlHq2QNCWzcoUjpCkCaeYe0OkAFvB1D2g6wAAYfWZUh7IDAXUAw3dACUplEDALxAowAVOYNrzh6uYGAVPMIeyACEo+sNrzgDMLqHtAACpyj2QNA3gAXlboBu0i185QGQCp5xiY0IZbQHT4RddoC3gXaDxjXTSEBNPgL3hAALlUA8XpAKrwCKCkCQbryj1cuyGoBkjp5xMAAPrH9mAkO0AAHaDWHtBteiAb2oOlpANSgFOXsh6oA3UBnps5ekU3UT1Wl02clRhUeNfRDe0D1Ulb2m0CG6gppLJ1+UAVCpzBrHtFC3cpfkguUlcvmgVtE6toa5R7SgFNXnE9nziqfRDnAOyHZAezy7uyAgGvUG0AqQHrbkBgCnaBc1Vm6G8JVqAFzagp5todOUAHTmJ2tQ9XMAD1gG9mDVygLqCoG0NSHjAKaeyDLl1j6t0AFs6x6iieo0EG8PWG7+qAbXmiGACGGvZXdGuhQGSClBE9YdRRIADDYNXMBO0A9AeMBbwDbwAAqaQHrDQACHTm1iAAH+sUBPiGwwpCgVQ9pdIGQw9UB5gEXvEqUAqR+MZAABQagFSCqHjGBI6RsLeAIe0ZtnkMcNcw2YNRFRmqy6N0wcZTyEs1rUkxMlM9Wq3dDtE9dhQxQ/EGiwAATKYuoy01Etl1lEksUI2hKNdAZRqxAFdYUiMilCkkyAKkGXwDUoDGxJkZeYQEU0gVqJNB1MTSMoCCVKZQpCAB7IigACtQEipGDAAAFIALZCkKQAmkdNo1KykKSqVACQKDZAatS2neAqnaFlI0Kagyj1iAQ9kB9YEgPrFSAMoKoMH9kAFtDCnw5gACtRICppDVyjHukEqMYhoCoAAoe6IYgAAAAAApAndKAVIC2QpKpUCMJ6rBFAa3UAFIqaTKFoHSMVIBSLxFk0gJgLJYNkBXiF1BgtBQUgG0gUAAJRgu0AtnWGyULVygBJZNOYBAUAEAww6wEFPhGIA8YbQygJXqExZPiAQ6bQ8Y/EBIDBcoCBRqGgA2hDABCGPXybQCF2itYtQB4xdoN7SOkBBqZh084a9oyEAxARSFI6cwa+c0FvBsjEAuoBqFIADAGsBD6gCkBhSBS5uQyqQKABL4Q3RhSBOypWsNQUgTsleaDVKOmoCaecXjK7ROtlAQmWmqy0fVYLxANg3gUW6AL4AHqDVy9o0CmoQ90QAG8OlhU5QDqAN5rQ6rAAPELxDAjM3nAulg1VNaLxAMdIdQeMIWzyC8RW9qACN7QUvgJqpGAt5Q8Ya+YYC3dOyNVtGpNNrNpAbEr4B6+YQD8YwAAJCmooCfJKF4hgLdE2XVYHMAD3sotQVeAArM2ioyZf7JHXYG02n2TAya+SzZFs6rd4FYOiBK5V1j1DXL5oZqgJ2W8kqm2nRUHaDa3ihMo1DLUFQA20HnAq28g9FoC3vKHrp0Wi1dMa5eQBc4bOspV8HlC6QAA6atXRBereAG0i1cvSCnKUq2AKmnkygu0HiKUCRUlNl5QbKAqcwl9IrMFPMAU2UhsjpBQFq5Ayj2eTaBsvKACpyjpCnw9IBMDe0PXVrCmk0Eu8FI+LHTz0gRsjpKpzaCaaVAKaeUNkarUukN4BL1BSw90rXTrYIhlCm3lKVbaRU5tABSTrL1coNu6AIHlHSACppEylU1Bxe1pAVIm/tFCXwgICqbQpASlCDqAVI6R0lbQUsweIfjDVzmQtodVvQCnwhTawCUtvAINYDFTauoKiqcoC7QiqRU1ALaAbdQgAkpl8JID2RC18gwHSIdI9FoArD7Qh7TBTGo6adYm0rTYAtnlE/rDbZJ8QGPrFr5yhmmU5hlUhSwD6iQK1mVOkfiAe0FMZPsjpAWvnEV4hMtgRNIMvPaOkdKgTTzhSPeHTzgSq7oMtLaStAzQwlauYbKFIQtkkumphU84ElU2UlUiAnWJSw8kBElB4yhU84iqeYKQIK9UdNlOsfkkED3itbBSAt0CvEBRO6A+0BAgHSACpDUNgppAQbI6QpKIHvFU2UhSQT4xFqFIEFbw6Q7RRPiHSPygpIIAtlACaauURdIU2gTrGMNYE0i3i+YVObQGEj6iqaeyFIEMKmrkMlIfakDGFLFsoUgJVJpYyCAx0jUukKbFDaafAIukAMbDKpzBSBIlLpCnKBFIqTKy5tYt5gJAqnwBT4S7jH6pRVPrBSQSFLFUiAlhUmTrCkCKRgyhTzATTSLQXTbyBqp2QIHSxVHhHqXUBGYMxkp8IUgY6Q6jJxYqagJCkarbyhTbzgKkYyafCAtfMDbOodNrAy5gAmnwlUhTawEjpzDppHSZEdRQ2UWuoCAKpt5gpAkCqWFTzgINdQ6baQpy6LN00F4xDHtcgE01E0mSnLrDQBOsnRaWGi0CafALxF0284UgR4wLotHTbzgSPxFUiClSFI9A6TIneDRYPdACdkFK4tqdkNAElU2VeSGsPEAtXN0hMULXTsgR5omMmiwKQMfnBSXTUSy1agJGXSKnNoAVIU5Stnsk0mggH1Aq2mQhFatkVNtJoINkdOUbLbTqUDH4ihU7Q9VWnaAkF08o9nWFPndkIjxD3im0sIBBoKp9UQCUB+MKfABPVYGzrGqgy7QBqUGW0FXwgwAomHtBpAQqucps3ILqtAWoGUKeYoBBTm1jClQDQG0KkWqnUFZ9TeblKDd02E+mYFKoEt4ax1c4DZqg1BTaPd0WALoj3tNv9UF2l6Ia21gFPgCnNpHvKKrZs6RQMtobI2ph7QlapwGw18AlWptG6VSAANlty6FIXMreyAAOmrWPXugSuyHiK9oW7suAql594a+qHFvzKVTVqpde0ACpMnF2+UCwozckLLvMwGOkPEZeKiNyJV5JSwIn4pwMIqaj6e4Zhm/BOvlDWRjKutQPn2RU5uyfT3DMNrshO1RfxVN8nEOB8VNJS0n3rdE3ypAf0Rrc8637Q/oAa7e1FU1bWY2Xe9eXNKxvQb3DXDV6fkcZvMb3GhqqafNKp57Tarhe9mbNJzP6JjKuEL5bXZd0z+iYDSqvhGy2G97yr9bX8WT36JvcOHge/Xb/AAZPfRX9wGgp8IqcxyVcBX+37j3i38lf3Frwe4gbkue8V/kr+4Di1JSqcrXg3xI37i3j9Ff3Ffc0xO37i3p9Ff3BHEqfCGunZOXfcwxO37hXp9Ff3GT7luKm/cK9PorAcLpYplOafcmxW37gXv8AR2KXgixa3JcF6fR2C4uE0+EKdnQc5+5Di7ksw7en6IpeB/GP73b0/RGTFwKkDsJeBvGDf5u3j6HvtK+4tjHnw7PegvvBi67psbWUq89p2IvAljLdw7ePoJ7yl4EsZN/m7Pep7wYuuaag2Tsb7huMWbXcE96n1xrwH4x2fiCb9T64MXXG1r3hqvmnZH3DcY/mCb9NPrjXgMxo37hTfpwvrgdbU21BTzHZX3CsY89xTP6WF9cr7hWMW/cWN6ae8u46zHTadmLwEYy/M8b9LC+uX9wjGTfuO/6WF9cbjrHZCnwHZ33CMZc9zv8ASIX1wXgExg37jv50xC+uRXV9Nq/1h02naf3A8Y/mn/mIX1x/cBxlTrun/mIXvA6r3tAztNeAHGP5sT6RC95X3AMY/mxPpEL3hHVe6Gv0jtT73/GDfuYn0iF7xfe+Ywb9zk+kQveB1XotCmzzjtVfg+Yyqy3Yn0qF7x/e+Yyp/wAHQfOmoXvA6op5x0nay/B8xj+boP0qF7y1+D1jFdfcMH6VC943HUyrbuqKm3oHbP3vWMfyGD9KT3jX4PmMav7wgr5UxC95dx1Nxdq6h8Wds/e+Yw55OX+lJ7w+94xg/wDkMt9KT3mcmsXU1PMUq2Mdsfe8YwX/ACWW+lJ7xfe9Yw/I5b6UnvGSOqaatRK6W12HbS/B6xjydyyn0pA+92xd+Syn0pBkOpKbcwqajt1fg64wb/JZTzZpPeL73PGP5LKfSk94yTF1Ay2jpqO4F+DnjBf2iU+lINfg54w/ESP0pDWRi6f4u3nDirTuH73PGH4qR+lIH3t+MW/aJH6Ug3MXT9PMFNJ3B97fi7ngSP0pB/e24v8AxUj9KQbmLp/eK4u3nO3vvbsXfipH6Ugfe34w/FXd9KQyrqKm1gptO3vvbsXdCR+lKL73DF2z+wfpSjIdR02qKm3LYdvt8HDFvO93fSlD727Ff/276UoyXF1Cy286iot5aTuL73DFtNNV3fSlBfg3Yt6V3fSlGRi6eptYVJ3F97diun8Ld30pfcH3tmKueLd30pRkYunabQpq1Hca/BuxS3JFu76QvuH97Vir8bd30pfcMjF03xZPFnc33tWKW/b7r+lf0D+9qxV+Puv6V/QMjF0xTa26TrO6vvacUfj7r+kf0B97Rin8quv9P/QMmcXS9LFUWndH3s+J/wAsuv6R/QP72XE/5fdf0j+gZGLpbirSWWo7t+9lxN+XXX9I/oBfgy4k/Lrr+kf0DIxdI6A4s7u+9lxHzz11/SG9w1+DHiP8uuj9K3uGRi6QVC6LTu1fgw4g/ON0fSG+oP72HEDfujdH6VvqDIxdH8XaOndtO8V+DDf/AD3ndf6VvcP71/EP5wuj9K3uHUMXRvF1cocXm8o7zX4L9/cjXrda/wC1b3Fr8F2/vzxdf6VvcOoYuiOLHxdJ3v8AeuX5+eLr9NvcJfguX3z3xdfpt7h1DF0TxQuJtO+fvXL6X92Lr9NvcH3rV8N+7V1+a7e4dQxdDcXaPi/Ad9fes3v+eru9NvcH3rV6/n+7vW9w6hi6F4oOLt5jvtfgtXp+f7u9f3Fr8Fq8OfEN3eg3uHUMXQPFtUFOXQegPvWJ798N3U+S3uH96xOt/nDd3ot7h1DF5+4oOKPQS/BYmv3yXd6L+4r71iZbVZiSR9FvcOoYvPvF2hxdvQPQf3rEerXiSR/RMV96xF/fJI+iwzMXnnixcTb0D0R96w/75pT9ExX3rDfvmlP0TDqGLzrxNocUeivvWP8A+0S30divvWl58TS/0dveOoYvOfF29AOLqY9G/erQ/wB80H6O3vKX4LUL980H6O3vHUMXnJoNPKHF9g9GL8FqUXlxMn0dveP712Uq/wAZk+it7x1DF5w4u3mDibT0kvwXJBdffN/yre8a/Bdu/nxI/wBH/pHUMXmvibQ4s9Lfeu3b++R/o/8ASNfgv3Tz4kjN/J/6RmYvNXFhxdrMell+DDc3NiSN9H/pK+9huTltxJM/R195nqGLzPRaHF08p6a+9juJdVuJJv6KvvK+9hw/z4im/o6+8dQxeY+L8BNFJ6f+9jw5+f576OvvH97Lhjnv28f0S+8dQxeX+LtDi7T1H97Nhf8APU9+iX3j+9mwqv7sXi3+yU11DF5c4m2kGh29A9UL8GrCi/ureP6JB/e14QXlvW9P0SDqGLyrxfYHxPYPVX3t+Due8b09FPcH3uOC/wAuvRvQ9w6hi8qcTa3ZDibT1cvwcsGc85e/qe4a/B0wV+WXv6nuGZi8pcQwcVavIervvd8D88e9289PcNfg9YGX9tvf009xnqGLybQ5fE29E9Zfe+4Gp2r3b/ap9QPvfcB8tF6fpV9w6hi8m8U3JYu0PiHp1oesvuB4D5OKvT6QvuLXgIwCuriL0+kL7h1DF5J4gOI8B64+4VgD8jvH6X/QWvAdgBf8ivH6UOo1i8i8Rb5QcQ3RPXX3E+D/APN14/Si14FcAQ/3Lm/pTDqGLyFxFtWz6JLSztsnsD7i2APzTOfSmGvA1gBf3HmfpT+8dQxeP+5X6AdzP0T2D9x3AC6/iSM38qf3gvBDgBdfe+/0p/eOoYvHnEP0HK7mdt1z2L9yjAi/uE/0qL7yfuVYEVtWHUq7UxF946hi8edyxOZRrJxudT2J9y3AvPhpPpEX3gvBfgVf825f9LF946hi8e9xxOgHcMbnhHsT7mmBV197Ut+lf3lLwc4HVf8AFiU9N/eOoYvHPcUb8U4dwxuWlz2N9z3BK8mGJT0295XeBgrl71ru9b3jqGLxv3DG2uKcfcMdv2p/QPZHeJgzmwtd3ot7w7xsGL/mndfnK3vHUMXjf4vj88JxrdsbmhP6B7K7x8Hr/mtdf6IXebhLmwxdH6IdQxeN/iyPVrhP6AfFsddfFOeyu9DCq6u9i6Kf9XDvUwsvJhi6P0CjqGLxv8WTHQ9QXxZM/ij2T3r4Z5sN3R9FUrvZw4v+bd0fRV9w6hi8afFkz+KD4qmOiey+97D373bo+ip7h/EVw/vfuj6KnuHUMXjP4qj9EPiqKezfiO5aclxXR9FT3B8UXP8AmS6/oqe4dQxeMviqN2G88PiqOzbnpns5ruurdua6/oqe4FkLsX9ybuX+Sp7h1DF4x+Ko9WtUK+KIy9A9n9x3f+a7u/QJ7h9zSa8l3SP0dPcOoYvFnxREH8URmbUqHtLiJb8jkf0Ce4TJLfkcp+gT3DqGLxZ8Sx+x6ZfxLMdBD2jTB/IpP9EvuBuKXklZT9EvuHUMXi74lmOUfxHM1bJ7Q4xeTiJdf9kvuDjKd2Cv+yU1kYvF/wAQzXQH8QzXRPZ1fYg+gvuDj36CegoyMXjHvfm+i/oD73pv8V6jHsrul+Syj0FDj3+yKMkeOO9yd5oTt5KMPvcnvxEb0WPYvdcZd71A7rjdJBkuLx0uGJ5v2iN+ib3D72J/8ljfom9x7DaZjdIO6Yi8jDJHjzvXvBuSVjfom9w+9O8vyaN+ib3HsLuuM28T3XG6QyHj/vTvLnk5j9E3uH3pXp+RzP6JvcevWm4nScfdMXpOMh5A70713ZGbzf6JvcC4SvWnRZIzf0d/ceve64n41xNMxG/bXGQ8id6N6N/kM39Hb3B3nXv+Rzf0d/cevO6Y3PFcXdMTpuXceQ+9C9eaTm2/k7+4O9C9m5JCb+jv7j133RG6Tg0zEp1u5dx5C70L255CZX+Tv7gXCV7bsnOfR39x667pidIGmYnSG48jNg6+F/yGb+jt7hd518fkM39Hf3HrjumJy1OJpmJ+NcbjyR3oXts2yM39Hf3ENhW9fyOb+jt7j1zx8TpBx8TpDceRWwnezNV3HN/R39wu9O9fyCZ/RP7j100zG6RPHxOmNx5G7170Vf7xmaf/AEm9wd695/kcx+ib3HrjumI28LumI3Iw3HkWJhq9PyOZ/RMSuHL1/IY3oMevGiv0hNFt52qIPITYcvFeSTf0GD4hvFdfccb0D120S0jjLex6AHkL4jvH8mjeiHxLP1apVz14zWMutU9AjV+Kg+goR5C+JbxX/JY3oD+KJ78ljHrluL/EQfQUlocGnXAlv0SgxeRGuyeXllY3oAt2zf4iN6B664iX/JZb9EoNKSjrrk5dv9koMXkRpCb/ABD+iLuKPzwnq8g9dNISPL3BKN/slMLXbd8Tlu6Ub/ZKXIxeR+4o/NAjegwNLRF5YD+getvii6vzTIt5UJSGuS5/zTI/olG5i8l9zxafwTiaG3Oh6ybD9xs2m255H9EQ2HLiictzyn6IbmLydTauq2vyRVWctL+ger2wrh2nR8TylPkGBsGYcZtPxPKegUxeVWiWbw+MsbePUr4JwxE5bllm80xtgLCzfuLLegDF5fqRdVSE1JTtHp5uDnCTfuPBMcTg0wk37koDF5kVk6Ra0cx6Tbgtwiza7pQxNwT4Ob9zgYvN9VmzvFVeaei34JMItq7h+3zmJuB/CjbMr7XvA8812bWQe6egW4GcKNr4h/TI+4thVv2p/Tb3gxdcQ+B3GLf5GlPlqZ14FsYP/ksFe0x6Fqt6YVW9MyPPycBuLm5VlvOM/wBwrFUTliyit5Z31VaPZA6Lh8AeJoi65yUh+eZV+D/iCnQ94yKneG1ylVAdKQ/g9Xyy/KX1IqvkMZofwdZ/nv8All8lDuhQqpIOnk+Dq/7ZiRF8mEZ4fwdZenPiR/NhHbdQ9IHVUP4O92Za7/mG/wBkZ0+D1cat8pfU83kop2eUDJ1qvwfMM1Z7znm8xT6F4A8KJyx7xb0TsJVK8QHAYXAXg1W1/GLeVFM68CWClXXAnm/2pzYoDhkLgZwMrf4OmG8qKfQvBFgaHq+J3b+UMcsVbFCkDjK8FeBoeqy4k/SsZYXBtgqHyYblvOd/eck0BoCtEmAMHQl/xZkW9IzLgvCkPWmG7u85G95uGUagayHhPDKcmHru/RGVcNYfXkuC6/o6n372sesbD44dw3GvJcV1/R1MvxRdK7Nz3d9HU+jZZQGwwrd13L+5l3fR1LWTklapbukV/k6+4yKNVBupYUCnVKy36JQVYcPkgS6/7JRiKjIsTLqWD+iUyLMuvJR6CmAdJBmWO6tq9gO643TMYqQMvdUf8a5SzUdeSK5hpKVQMndUf8a41nJj8a/pmAKQM3dcdv21/TDuqL+Nf0iKRbwGTj4zftrj7piryRX9MxjUC+6Y341/TBYsRd5yR0gXxsTpOPjn6TmNRgXW/MxLRW3mAVIFcY/TGsS1d5xUiAvjn6Q+MfpEDpAqu3pDWJaYylAvjGq2hNEtYQAPjLVCt+k4gqpAOMYem0S5RhTqtDjLSdoYDqtCq0RRAVW9MdQh0gTxjcpVTAMB1W84LEtCkQFVWsJWtqEOkCqsyiZ7fOBcvISA6mHUSPMA6rVCu3lUWYdNIA0S1R1W84lUoyHuj02hT6JLKG1abQqAAHXbyWBxhNNRVPOBVQcYJVBlApWtHUwlGAhdGwfiACRFNsk6AHUw1a3mCkKQGzWgsTwhSUy5dBlE1VMUzWiAB1Dqtp1EgBdQ1bwk0jXMBdVqhVbykmQBC4y0ZKgVpHULQAFVFVeEhSqlAdVIqsugZIFqFQhrs6gHVaHlC8Y9QArDqtEugDKrVg0hSo9XOaQKLWMADqAeUYEMMAqsMqNbAwVAAVAPxiZrIfKAdYhjpAS6aQHSFICDZAAGzEdYVVA2UCt4AJbKAa2DMKrnKARNRRDbIA2bVaHkhzDAN7QAAAVCZhk7TABJTCbaAKhVMHiCkB1eATVCHSAMTV4A8YZQDxhVaMAIqtqHUKnMGgAqtFVawbIvKAKgAACrKLTaISsAVMKobCAmq3mCq3nKJATCH1BTaBAFkAHZEyo1Ond2R0lATtElMvOSAt3QIqnNpGBA94Q93WAmyklMIAEMTbJpASPeEAtdIfrDppFtAAtY90QEhu6gHSBjbLrExTbImXtGlRUG1rKZSaQJEWwAQAxUmghNsjACcwFE01BhIMVSFIGMoqkhVAGYnUXSFJRBO0UIAJHTTyCATCKEAiWK8QARsiKpCkCNYmLp5yWAkTaShFEsFI/ECgQJi2WohlAikmopgVQEABlAVVqjEwMAiR+MNRoRrAsQEA2bUMTATTaoigKF4wYKQygJvAKkdIm2QFoJKUAhNlJbZLIpCvrqJqAowh+IPGIYFKUukhTIBWyMSlMAKUSpSqAKMWyUoABW0o9TMQJVAYKAVeEsktVCkA6RU5igbN5Je6IoISjXTUA9fMAAq2VBSOkBqpQKMACmxuUFH1kC6hrlYagUMBDAfUUQpYCq5h1ElAAbIeSOnKAAPQGggCgJZgKBQpqGADEUoCqHUMYCBQAAHrGACGUAE02NyipzFgBIiydQUm0DDeLAjXtAXSJV5wAqoB7JAt0dIU5qhAUxJSqACVecfmhSOkBbwxMuYqm0BANVKpAjaFSxkpGBCrSUMNACYYbSgGyCodNrAZAvhHuhSo8oYKooBbPKAwHSAbKkPEGYrxgQ3hBtBVJNPhAoB7I16zKJAqkNkCKQpsGAAA9oeoBFAMB6yiFLUCRa+QsAAXXaUSuyA/GUuyJVKWkBDqqHqACCtY6R02mVQBbKPUAKAKUAt0Yx6qQI2mDZUbZRgFIxDqtACcxQAKpgHlGuyAgqH4wpAlmHmBlspAAqAFUagKolvAUGyBIqecptPKACUW1uj0gAAMnrAZLKLWMBBrGAAFQABLBrGHaATad0VQwYCRDGygR4hZi6Q2QEIYAAhipAWYYmKAhtoVI6aQAxleUULVzAIirLrUyCAnxk73ZGwvGAC1qOkVOYBAy8xQASSVtCiJY66Hy+SAtFoVD1BoAjNziL6yQFsiYoAJAYGkLdJ8RYgJAAAhlzDH1WgAiN4yaBbOoCRGTQRTSBNIMVrXyRMBDCKZbSTSppJVqi10CZbOYCRdoyE6AJJLEaECKEAgHSKkMAAACWUXUWLrAx6hlCpqKESUAECpKEwEsoigpAx7Ix0gBGyG0UwgIBsw+sAEQWJtkogXiLpDxgQymNjMxjbwgRr5CRhSBIMNl8IqfCAqRi1sG8aCYGG3UJgEIY90CeokoAIFqGL2igJKUkA3gAAEIMowIEWTSB9XjGIZhAMCgFVzFLpYmmoyqALlKAFygUC6GDaKUBFLmFSpVIElgAAMB7QUbxVTAMIMoBSOmkAXZGFI6aQDdDTaA6bGAoWsFWkpWAW9pKWoRe6AAAUgC7IKOkNkAArqEAKUCrVyDVbAFtDpGACpCkYKAKpQwIELeDrGAxgpXUBI9kYwF1gAwEMB7IBtAC9ZQEqUGgdIAIYt4ADQVlFSAgUdIdfRIoAVPhKygAAPeARW9pAYC6xjVcwAABSUBIZqiqcoAG0FI1UNQAA2FrAPGOkOooCcoFCpMhbQbw6cowJpt5iqRbI90BUjHqGG0jGAEjpHSVSBJQ/KAyhU2VaRbPIUFNIEtpGVTVqCmkCWJMmsKQMZXUUq2htASOm0bdQAHWUSpagICqhGVAuooDSBSiS9oCC1FTmKUypUgMAFUA6QApRbJSgAlKEOkCesYwpATKOrwBSFIBvAAUgCttAA6QFugOkYEjYeukN4CGa1V02Zh7pTbItVQCAdIU5QDaEAMAhDFoAAKACQYYUgRTmBdPOXSFKgIksGAhltAfiEwCpF4ygbQBIdZQvJAVIm0FMTUBIAqlgQAMti6wAAHSIBAMQE9YqSyQELZ1jACfGItlIAQsw94VOYBN4A2V0WbIwpsUBKKnN2R0htAToGUAECKpUAMeaoC+qwWyACpqGSaQhDCkCWURVIqQFqqAdIqQEGkfjEAAFKiAkRZIEsSxdJBpU7wbJQgJ3gpGwAToEWToNBE6LS9QaAMeyItg5gwgWUqkVLAIVOYoVICpEUAEayWymUCjCJusunMSAhFUiZQEJlGAE0iYYAKnLrIK8YMBIhipKF4gCnMNaecCGMbbWgyspibaAVIMoKAE05SDLqUgCQGwtlaTQTDAkBDAAFoF4yidVQEsIbCKEAwAgChbICEUyiAkkpspIH1qAaA3jCGUAKAVGRVykKpkVcoAClU+AKQBeooSrlL2gEA16x01AMFGo/EAxiAKra5AUAUIraCkFHUAxKtQFU84CKpJzc5agFKgCjARW8KkoA1cg9kQwH4xawLpAAAAAYDAQwUagHWCqUAAT1FAQIpV8IhgNlBdNQxgIY12SgIGVoACGWxuUsBgIY1yhSAh0jUQAwAABsgOkRABTUUy5SQAdPOIAoK3QUAArmEvWADUClDZAkoKQ6gJqqMglUqnZ6ICp5wpKpF4wEPrGoALaGGyGtuyAAMRkADVQ3gFSFIw2gEV4hMNSChhtCVSNBSiiaQANFpYARotAyCAFUVPgKG2mkCG6hsVTm7INl5AI2SaTIq1BTzASSZOLCm0DGNdkdNhVKmVFIh0iZQFlGA6agCphqKkoBjEWAE6igYAAYAAxDAmnwl0htDpAkChgTSItgAgoeoarYBOsN4oKQEAABLN4RjABDpGCrzgIKRgBLLmFSxlYimwCKbAKyrrqDUwEK1WawZSqHjAkKQAAAAAQ20MAATlAoQEaLQpLpGBjZQpt5imF1ASwihAAmUahlqAXULdzD2RamXUAsohjpAhlAukVIEklkt4QEIsAI2RDZQAgBxFqVrLMrMo6QFrJZectSQJDeLXQS2kCW8Il61KpHSBFNQmWrKXSSwC0AMKgJJbKWGoCeskyMQaQhFE6+S1aaQABiACWXwDpt5gpAnWGsslQMdIFiNKhhFCARJdIqQJpJpMhIBSTSUBoY9kCqQYCRa6Rj18ygQSWJgwkRfZBlAxi2jKy5dRj2QAW0MAJpExWreFSULWIYmWrUBAigAxgXSQBNNQbJQmUBKSxWgCiNkRRIAYmMrCbZ8kDDs6gqKbMTSBFQFc5LAIACk0EJl5xiYBkaywAgXjKEBGyIezmsAoQAACqJKZhMAxDA2IpIZS2CkwPoUYFGEJR7IDAZkVjGWBkAlVGwDGpO6UBQxDAesAqt5igAPGOkYAo6bOUNoYANRU1DUBlMSCgV4h6Aq5hqAD2QyhvAGYKhhSAKMXUUoAWoDAQDFSAwGoUgMFzCVSgAAAgeYSqMoBU2KNRjAQwG2yAwGKmkAGuzrAADZ1i2igbMAKAD2gEGyBQEjZRjAgrZAKSB7QqfCUG0BKqC5hk0pAXRZs1BTHTSMrrtAgflAVtASpVQDAldorxErtFqA12RiUqmwBecOkpeoYEBTUysMKQBhbowpMhbRTLSPmJAQDGvhAlRlKoKBLFFBoIEtLcowVSgJKFujUB0jG2URGhTlAqmodICpCkYALWFI1XMWBip8IbJdOUVPhMqndBiqcoUgYxl0gAtZJYawIKAYCpqHSAAMesajAApAagIdOYFUAAB0j6gEoxqKmldIBSOoFUAARVIUrtAJRhTlAAAQ6QENlzFMtPINVAxU5toessYGMsegFAN0xmQNAECBlLAjqFrq0FUiAF2Q3tQxASy2MobxVIqcwCVbecbKOkdIEUiKYAJApVsBgJEMagSLQUy2krUBIFaBU2gIVNJYt4Ce0JcuoyE1ZmsAW0KkesAFSKkoVIGLXUUWJgJAAAltFOskumlgAnQJiyOu0AVcoqStAgEymOHx3GRLHVFVW+TZX2jKKoCQKF4wF1EsWykgQJuotgpq5AJASraMAFSWSaRjCkyCZcoGNVAukkCcwx0gAqSWL8RNObTYBAmKEaVFIFABNIiyQFtCbKUKkCaSS9oFAlmtEMKTQQhiAnQFPhKF4wwWgmkqm3mACQZStAaqQMVNgtamTe1kNoYonxjGyiAhtoBt4bBMACKEGk+Mli2ADH1ipKpIDIYQxFEspOvktMhAEMLqL8ogCafVFSUS1IEh4hsSwE7SgDCYBAAGgtoZI+sBMIreEBDKIrZDaKJFulkAIB0gAusXWUGo2J2iRsJjA+qmnlGAGEGyUSPaAZaiCm1QK2SqgABlKSMCgqpbWNQpArZKJ6iwEMdLDVQF1BTzj3RqAKo1AFYCmJKHoAaLzjpBdkYAACpNBlUiUtTIKQAAACgUApt5hrUNRgIApsUYAAwANkQFKtnKQIoksAAKR0gBWkNAqbFAajAWyA97SKmooFABqIoCSgUYCEuyOkdIAq5R1ZQYOyBIx0+EAABqpSkEUhRUZNrUIKxqtq7xVNWYrQCgJdLDpUrVVqFTVqAXUGgaj6rQFR5w12QyjAdIKpars6SlWwBAPZGqWtqsAkN4ydzROWlxcU/RcCBFMtqipMhE0lDAgoBgAD0Br5yAAoAFlH1BvDAqmxRFbQUkaPUKkY1bogHOHkgFIE0j2VKpylUqZVCsBQ6QESXSTvaAF4h1WlBSoCJMggIEpkpUdNSgY6QK0DpARNJkpHTSBNI9fJYBVPOBNNoFKAEjptqHTSMBBSOkdIBTaKkvrsGqgRSFRYgwgsYBsBoGAE61KBQAhvJKFssZAwxM1JQ2yi6w2YgDaAACmzlCnmsAlcvKUIAwfUIYaA2WphajXTOJbhk48SXmr4kYMaHtQ4kVVZTC2McM/n+7l/wBqb2YybZQNdKYow/PTMOUlL6kZiYitTDhw3qZmNp1GW2MZYUqQRSBeolsoEbwFUiAQspVIUgQBQqQFTaADpARG8ZKRU84CJ1lBSBFPhCksGAgRVNXIICdYqSxM1igYxlbwUgLxCba1KGyHjAikXjGy8xhlo9kyraFdWRmhsrJTmsAyipKqGBjpFssWAEkl7XkhSBPUIsVOYCCWUydQgIpDaGyhT4AEoUjZSqTSMY1GSwD2iKbecpWsZdQAYmDWZKVJZTSoFvF0+ATKBAZi6RAY8wF0sIBCKEBAtoyCYCBGTQTSBIDpDUaEVCLpJAhVGWykhhLNSG1yFHGMXY9unCEOidivEmnXLLQ9r+MsY5Eu1yUR1LLcP0lEjrZMXFMwYLNmiK9VPmnZVx39I4hu9Z6Qj8dBf0l8YlCUfVIyjLi+8VJQEViExVIihE7xRjZ7atAFCHvFZQ0xgUwgIJ6jISBjAphU+AqpJZbVMmySGGMTGTSYwJYxsZGJpAgRQqQJZfATSWSBIDA0FSAxASJimXMIBEMpegQEgAFCZhMAAACqEBTCbMMnqNj6gAZwoRkJACu0OrwiGq+ECvENWqAYAWJSgHTzgoKfPed5S90SMSdmmpgwlqYD6ilzazgv3ZMJ06pqNm/0TC+7NhbmmIzf7JjeMv04+pFzwes4C3DVhvm7o/REfdtw6v7VN/oh05fprqRdglLsnApbhpwrHbREizcHyoRyq6sS3TfP94T8tMdlXza+oYyMotmVsjqURhpVI1CrKG0aDAA8QACjVSqcoDAlR6wGukpQUF0mQ1UahlKpAnrGqlUjpAnrCkrRaFNIC6hF0ipAlhqMakCGqhrGoAoeIsAEMaqFIAGreHTlCmxgEBQAKkajCkA8YK1Q1UKQCnMVSAAHWTzla9kYEUljCkgS6ah0jZQ2QEy2hT4Cg10gTtDZadZVIMoEqoUlKFNgE5SlUKal2RqAqSqaShhSLJ0FASdY8P05O3fhiTjyU1GlW7rVaob0tTSdn0nWnwgIHGYFWJ0JuEbpcnFX9t0V3z37+fbx+kMXDxRfv56vH6QxqrbbCltsZqT1ZUo4+jzYVJf2ep+C6ajT2A7tjTMV40RqqmiPU26coOG8DcTjeD6T7EZ1OaHjy5PWiikKS90kwpbxYlUdIASzFUipzAMYAAAVSUBBQ6QAQ+cO0DeCww2at4SmIXKWuYBk028xYAJVAbdQbQEtUGtSh0gSMAATDAqkCQKBQJAqkdICGOkAJGLXyjAQx7XKFPMAgKp5x0gSV1BosHoDBDXLyBTUOmnkAXjDxAMBBTzjXMDAC1D3RiqygGvdDXyhUtWgYELteSWLrGBO6JlLJYCN4reCmxhgIioyZRMtQbKrLpsEzbI6aV6ILp6IYNRrtrT0g3dNhcP8KpR5K4WkRuEa/raf8oOJUJ0TlvCy3/1EvzR+UHELLdZ79CEcNHiVZ9znXAwqLwiXPoWn5b9Vj1NT8oeXOBVauEa59P4xvZPUnPUeXeR73qWvtjMQ0S1de6Zdomk6bnSFI6bece7oDbHrUoYMBAlUukkBCKBVAkCgpAliS6RU84CyhTVyFU2VABFNQU2liAikKRgy2U6AMZQ2WoAIZSaTITSBFIMtRbCpAikKimUgAAAAROarZymXqJ2tYCF4ihMtnOBOgTVVaCmEwE6mFTm0laLRMoEDHrHVm0ASBVNgqaVNIjaEu0UqtzbxrIuJ7jhO0OJfEjDZWpZWmFqqNK2ERehlYhq1XWtXkmt77sO/n27vpCmeRxDdN5x+55K85SYjU1cXDi1MUfY2ldVi1KPd1mSnwk7xBj1CLbRVpAMIEWSBLCzFiAnxiL2iaeYNkS2UyEgSSZKaRAQwtFhk2tQt00MYFCbqAgKSgA+C+7ysue6Jq8bc3EQ6l8rmPLF+3lHve8I03NO7RIrVNUeosS3fEvO4Z6Uh/hIkFqfKsPKs9LxoEzEgxkpiI1LfxHctIx9XRupPnW07G4Er7jyeJol2rml5qGzMvRazeOuqLd1TtLgSw3GiXzGviItMGBD4te01pz3WODht8sndob2gyKvOSx5j0UMQZGJYoxtp5lqqBYdiqZKQ2gMVNrBSXtCppUCWEZNolly6w0im2oVNvlFtZSSBFIhibSVSpsEyjBtnUGGJltIbSxm8ZiaqoCAYohtNWoCaRNpLFtAQKkraCnwAYqR7JQMaEiZRjZgMfUIbDAgRQASSNuoVJQhDCkA6xDExsBNKrylE7IH0bpe1qFSVsnChFeIWzyFANRrpEpYAUoh0+AA3i1EowLNNjGFx2HJ6HT+1t7JuT4r+h2Rbpmk/0bGo8nHU4vLKtbTTbuj1UjjLTGiWdFmJPWi6B6bOVQ4xlFDV2bQq1MVxMSnMrlQqrV1qXCjxoERY0CLxMRc1S5WJzLqYRMV3dk4P4X7xkOLlb4rnoP4z9sX6x3Rdl4yl7ycOdkY6RoL7LKeUFyHLMEY5msK3gr2ReMlYn4aC2zT0jq17f7Rc9Gt9ZPR1I1Pmuy8ZW9ZGHOyj8ZBirUfSu0dN3FAAwBSgGAhqPQAAA8pRkJVzFD2R7QCqU4VN8MOEpGajSsacmFjQIjQ2Xudtqw5m3Z2jy3jOHxGLr4g9Gab+c5qNKM9dnXrVJRd2fdowe3+WTH0c22HOEW4MT3gt33dHmIkZlqWqFSuo8yWnYPA1HshYxk+1Upy1beMI7s060pSxegRC18hR03aKkKSwABk+MoAUdIAA6RAVSBJS7OsdIlUApqHSHiHTbzAA90RZAbQhhtFBVlBRqACUNJTLULeAolW5hrlH1kCZswuodIwErDqBlsCnNoAN4rrEOnLrChShbLFALWFI6cvaGqhCVSydA/EFUOkldPOUoEtpOveHdLW4Ppq38XGhN6x2LYpwfhqhcZwa3t0lVG+ZlN0te7RwXHtvMDFQ7aWIXZKXaPclxeXB6V4DInGYEo6Ew3sqc/OueAOJVg6aTeWaOxz5+pye1HineCkukdJlUddhSj18oAKklVL2iqQIpHSXSKkBBqHSWqgIB0gBFNQ94PEMw2XUNVqKXaH7IBTlOoJz4RUjJTcxKtcEyzQIjQ6uN2tB3Ci1W0WnjPEK0YhvRLd2bi+0dq1oxq67SdO4rSp8Xcq/CQkKv8XZv9KcmwHwuyuPL6a64F0xpVlhtEqiPVyHmVXOzfg+xf7u1XpS7+ydm4tYU4b6OOjcSlLF6NpAphHmPQIBguikBDHSUBIFABIauUqkKaQABjAx0lUj2QAN0B7QdQAAZR6qtAYSG6PZFVmAajXSJR7wBSJaihU2AMWtR7IALe8oWukreFu+aAwCrNSG0oAAU5gABNsjYKQFSFI6RMtqgKmkKQyjUBMo1zax05RqoCpYcNbFdRlptqUeROFb/wAw78b/AE5xSw5XwpN/9Rb+Xox2OJ2n0NDho8Kryc+4E1q4SLn/APUb2GPUbaFY8u8CGn7pdz2dp/YY9SttHk33N61r7adoC6uYXUdNzpJK2QAjQMKqSgI2tVgU2qVlHSG2NgKbKJgFSTSXuipAmkFUsGARIFASBSqDKBDCKqEzU6gIHSPU3lBTzgRSLQZFWxgZbAMegVNJdNnKS2hfOAKSDJ7RNDc1ZpEAVTavKostJlSFV4RItTM1myZNFgGOlg8ZkIYCQG3WTTYqgSLaKpBlqXKoEhqbXaOl13coAKmldQeUXmJbT0TSJRqWPHF/2Q4t9TzutVUw7esexW+ThxH6MNm9U8a3nGrvGcf/AEz+0d+yj56uldyfLbCg/ikOzvg/QEbG0aIipklHOs7bTtP4OicZi28LbN2UY7N3H+J17ef8jv4TF+a4bp5L02OkljNTz2GNlAkNkrdFTb0QJJLaHau44Kj8nFOBGpQp5i6eYQEMJiqRATtcgi6begTqYNkKli1DaU0Me0GguljEzdpPTUMyFIqbRcfDXliwfTUXdMuv7fB9NQZMinBcY8FV14ljtNysXuGabayfJsc5ZkVGe1kVVzVbphadll/b5bzoq+8sZyjxZqRjLk6tuzgHSFMrEvG80iS/RgpmOyrvuqVuiTgyUlA4mXhLlX3mZp6W/Kpf9KvvMsKPDjq1sOKkRVy5XqNTnKXJmnGMeIZiGMlIm2dBhtiZgpZswokRYas9pxq8+EXDF0O0OaviCsRP2uH8oxYpk5Ky+AVNWo4G/DVhGG2qcmW7Swv6D6pHhawfONT8cJBb/TKymsZHUi5kB8t33lKXnD4ySnJeahtstDdW/wCh9VJlUibwlspFoEsSy2tyHx3jfN3XUtc9OS0qv+kak4tN8L+EpbVZeMaJ/wCnCY1jJepFzQnUcEThowrEbXFnF8qEb26MeYcvxlslL1hcY27EytV/GMZM9SLfUiZSqsukTKRWHZBi6ajHEytrAikW6X4iWAW6Rsl6mJibOoBZQEujasBvCwEsQZKecnyjQke6MkCSaWMjEsBIqaiyQhbpLdRXiAojZEW2gkCdkVLDbQxIU2UVRbENUbH1L1FbRNRSnCgKAdQDUrdAKgKyiGpQCUpRLo3RgUuYwXktryMwnYY+giZWqBE0by0lizLi8r3jD4q8pyHYmWHMOp81ps8Sw+IxBeEPozDe0a+mlj1YcXmOY8FMpLTWLJWDNwIMaC+0rZlO8nwjh+PVZbcsjT5B0RwZx+IxZI29o9JNlZtJ0a8pZu/RjHFwS/OCDD95w2tkoT3bEb8XmX0bTp7GGCr0whHVJuFxkuzfJzMPZb6p6cqqPgvy5pS+rvjSU1CSJBir6PaUsK8os1KMZcXlBQpNliW442GL9mLrjZlRqobdJLTWnoxllF0nZvA9i74unvimYi0ysxs1brHeFNJ5Nko9svHWMmVlapfKPTmE73+PMPSc9VU3FqsTyrDzriGMnfoyyi26qNQUUSKiI1trbJwOZe7pMUWbgSy8ZHipBh9JnpU6wxxwxJdseJIXEqTEwuWJMt+DXyeladRXvfl5X5HaLeM9MzDNus+X5uQ54UJSdeVxGL0rHx1huU1RL6lFZd2tWHAx1huPqh3xKZuk55bVUXcGypVsHL4T/WPESeu5WZgzsLjJaLBjQ+krVKZ6jyRdt8T10xljSU1MwYkP8W9J2rg/hrjI0OXxEqRILZe64e0vjU4J28ouWnWjJ3GWuXXafPJzcC8IEOYlYqRoLrUsRdk+hmynA5mJ4iJEXS6L5TnmnhJhcRjq9rLd6IrfOpyvh8aJDv264kOK8NYkq9VL01aGX6x1bXazVOzs3SbMx3rWl93n1qndiq05dwXzsOUxbI2xGSGvGU1M5w6phV28tmU7U6ecdnHTqYyyev2mYGb5eCv+1X3mWG1kRa7GRl6S5lPIkCPG548b02PQvA3FaLhBktaqiYba6zzatHB3qdTJzge0LrKOBzGMSqMA6z5GvOSRmhvPSixFallaKqsp9DbOg8xcJkK2Bj29rM61RFbb8KnLSpZ67OGrUxelVvSRXX8Yyn6VfeZYF5SkeIsODOS0SI2yqxVZvRPH2nNtP6ZvsGX3Aw/iOTvGO0biYUSpqX3TllaSjpu443T1PMzMGUh1x4qQ1XaZmpVTic9wtYPu+K0GNfCNEXdhqzetYdI444Q7yxneEZ2jvBu9WbiZZej0rTii22LsoahZ5eerMrp6YlOGHBcyypZfHFs2X5RGU5XIz0recDj5OagzEPpQ3qU8e8Zp2qDY3DiG88OTKzV1z8aVidnZbxryFnZf11I3X9nryGllmuzeHvaDr7g34VJbFird16cTK3pTlZfwcfxdZ2Eq21azpSjKPlq7UZZFtHxTN93XKRWgR7xlIMToxIqq3859jLlPN/DXCsh49jVb0qjG6UM5bM1KmL0AuJLm/PF3fSFCFft0xYqw4d6yMRnbKqzCszHkCynmNzheMkC/JF7d2MntHZlZyjHfd143WT1zE+T5TR3rjXDtxsyXjfEvBifi1epl/is1nWnC7wsxoE5GuDD7cXEhqvdM30cuzZ1nS7W8bE46J8pEbM0RszN5xilayn56tSuo/D1PdnCVhW+bwgyMjevHTEXKq8U61edacoptVtFp5Z4Po3EYsuu3+EKp6pifhDhqwwls5qcso5JCwUaMkCGzu1KrtMdH8IvDdHeLEurC0WlVyxp3a81CQpynLbQqVIx5O3L3xTc9wq1t5XnLyqrus+b5jh8zw9YOgO1kOLNzFO9DhNmPPE3MRZ6O0ebjxpiM21EiPUxGmxeQ7sbL96urK6/q9CwuH/CTt8pCvGCvahVf9DkFycJ2Er+aiVvqDDifi5j5JqujrPLdTD1ROUSstPjUjdSez0WxkV7MytsjPLeEeEq/8IxoaS848xJ70pGepf4uiehMFY5urHEi0eRrhzEJflpeJtQvrWHUq0JQ9Xcp1oyciK8YLoYKTiaKnmBsq9ExTs7Au+UiTUxFSHBhLVEZt1Tztwi8ME/iaZiSNzR3k7rh1LxkPK8f+qbpUpTlto46laNN3PfXCVhjD0Ti5+9YKxPxcP5RvRsNFbw94MV6LY82y9LudjzhRZU1u0zbTFaTuxsNPnV1fF6vV1w8JWFcRxeIkb4g8duw43ybN4tJj4WZayJwb3+tm7L8Z8zHlXTz73SOa3Rwq3rKYVvTDF7M94SM5LtDgxGzRIDc3lKY1tJRlvoSuIyjjJwVW+TUtSEW1Yarb0S1PS+HQ0ehPg9xuMw5eUPozCt852qq7x1B8HR7Wu6+IfaRjuNTwavuavbp8WnmMS3FJx4kvNXxIwYyZWhtFVWUw9+GG/z7d36dTzdwtQVg8JF8WWptMreqcPtsS3cO1Tsso77urO8weyJTE9xz0ystKXxIxoz7MOHFqZjZ7OU8q8FbJCx7cb2J/lKqermszMdWrS6ctnao1Mo5ManwXhf113VHhw7xvOWk2dalWM9NRsNB0Z8JOFZbPXHE/wBHFUUodSWLNapjHJ2336YZ/P8Ad36VRd+eGav8P3dm/wBKePnSHZuGaWVLHVqN6o7UrLGOW7rwvNJSxe1Vax1W1GqVs1XZMinwXC1jXHdrrvSyN6p96nRd0qiYkSyGtdrUrvMxrMU4ou3CN1RLxvGLxcNFyrvM3RsPNeNuFS/cYR4kPuqNJ3buy8N6al67TkpUJVPRxVq0abvq/OFXCNwvRNXxBiROjBzspoG+EFg5X0Ik8y9JYDHnFYaQ93MUrUnfjYR+dXS8dq9R3Rwx4MveKsFL27niNuzKNDOcSkRJmEsaDFSJDfMrQ3qVjxOrWPtIelPg9vbEwPGsZnambba8k6txb9Lz0du3uOo5lN4uw/dU40rPXxKS8wm1DiRaWU8kYniwY+J72jSsVI0GJOO0OIuyy1HKuHaWReEmeW1NqCjeqcCVaV0WHes6OMc3RuKmUhac94Fb1krnxzLzE9NQZWC0N14yJlXZOBaR22adVp2qsOpHZw06mMsnsHv6wqq6e+K7v0puZSZgT0tDmJeKkaDFWpYi7LHidIMN1bKh614LGsbg8ufR+Lb2jxrm36T1Let1HJ6gBWsKOo7SaSl2tAABpJnG+GZKZiSs3fUpLxoTUxIcR6WUxNwhYR5sQyPpnVXwhsFpDjy+KpaFli0y8zT0uZjpeyFD6CHepWkakd93RqXUoyxevfug4S/fFI+mb+E6RoKxEZIkN1qVl2WW08RJDh2tsHpfgKxV8eYXa6ZiLVNXZlXpNCt5PmM3Fr0vNyULjqOyeiGYpVA6btNXfOJLpw+sO29bxgyavs8Y+0av7pODv3wyPpnQfDXifvkxlGgQ4tUnd1UGHTss3OxwGyxLd09GlY5xy11efUvNIyxeuvul4O/fFKesbi5b9u3EEJpq65xJqCrU1L0jxtIybzk3Bl4EKqJFZYcNe1aewMEYag4Tw1J3bDX5RFqjN0ntOC4t40vlzW9aVRu2stVjUX7ie6MOQGj3neMtLqvSfN8xpuFDhDg4DuZY1i8dPTFSy8PtdLyTyxfF9z2IJ2JOXlNPMRnarNsr5Klt7aVVi4uun2u/7z+EbhmUicXKSc9PdpVpU1q/CSu9m13BN0+Xm/6nQ62laTv+Ag6vjJPR93fCDwnN8Wk1Cm5Fmy/KLUq/xnPLlxLc2Ik4y6bxl5xdrK+b5jxpo8J3v8HvCSwJaaxLHXi2f5GB/wB2OrcWsacd9NXZt7iVSWMnc9LACjPPdsgXZ0D18g6QJWoN0f29oPt7IBSIuqwnVtAPxCCqopdkCddQaxnF+EHHclgK5+643y01FywIO8zfVNRjl5aJKWPc3d63vIXHKNNXlOQZWCq7URzrK/PhF4dkWaHdcnN3g262yp0fiXFV64uvBp69pl4zbsP9rheJTU2uenSsPmbz6l5/V3LF+EpOM3yOHUVei0Wo+qR+Esla2T2HnWHvNBc6Q02dYbRzeCpOPxlR6vwrwqYWxY3Eyk9xMw37TM5GOY00/WPEGnNpsysuyy7R3TwQcL8eFHl8O4gi8ZBifJy8w20rdG06VxZSh3Rdy3uoy7ZO91XN2SkXOoU5tBSLS6nS0dqTyDwpN/8AUS/v9ZY4pZyHLOE7/wAwb+/1ljidJ9FQ4aPBq8nYHAX/AOZdz+U/ssepNdWs8u8Ba/8A1JuerpP7DHqTi82mxjyL73XrWntp06CYjWKtbvSqlRGshrW7Uqu0zHnLhY4X5i/5uNc1xx3l7rhM0OJGXK0y3Po7JwUqUqkttHJWqRpuzMWcNeGMNRWlYcV7yml/a5fZXyrTrue+EhfsWI3cNyykGHu8Y9TeidQrrKPVhYQjyefK8lLi7LT4QmMV5YF3N5Sm/uX4SEWpUvy40p3oko/6tp0rmCqk3rZ0pM+KqPYGFcc3BjGAsS6Z5IkTegtliL/Eb/xnim6rzm7nnoN43dHeXmoTVKynqDgs4RoOO7oZI9EO9JbLGh9LtWHm3FrKl5/DvUbjqOaRYVj017pp8XYjh4Rw/NXzHgPMQ4FPya7TaTe0nBOGzLwb3p5Se0cFOOUsXNUljHJxD75a6PzBN+mJfhKXazZLgm/TOhdPRBXpzHq+Ag8vxknr/AuMIeNsP/HKSrycNYjQ6Yj1cm9UcZxZw5YZw9FaVla7ymkyssHZVvGdCpjy+YWE4eGJWL3LI8Y0SM0N80XTu9k0CW2WLoU44WHd3uaV529rt2Z+EjfTt+xbllIa9pzZXL8JFWirDvu5XhrvRJd6vVOjgOxrYUnD4yo9nYexLdeKLvWeumcSYg73SXx2GxixEgQ2iRGSHDXMzM+U8gYLxpeOBr4h3jIP8mzfsiDuxVOb8LXDCuLVg3XcLPBu3i1aYbZaK9u55Nh507Oek9ncjdRxycwxb8IG6LoitKXHKvekZWpaJmVDgkf4QeLojs8OHIw13YdFX/U62azQRZYd+FlDT1dKV1UydzXD8I2bsiw0v26YLQd6NLbXzHc2HsQ3dim7Id5XXH46C/pL41PGdlug53wQYwiYVxXLw4kV/i+cbiYy7uveOvc2ekY5Qdm3usu2T1LSQ2leRajLlJbLqPMegxM1R1zjfhouTC8WJIyivel4Jl4uHsK3aY0nDRwmxrteJhu5ItMwy/suOu72VOg7NNWnpbTHoW1nn3SdG4uMe2Lnl+cNmMb1ZrIM+l3wejLpm9K049HxxiWZauJf94s3/q0ml4pmyqbqSwTiCeluPlbnno0PpLCY73SpU3T6lWT6JLhHxld8RXlsSTeXdiUspz7C/wAIabgRlg4mk0jQWy90y6UsvmnVF4XdN3XH4ielo0vE6MRKT5dJJ29KejUa1SL2bcl93diC7YN43bNJMSsXZZfZY+yk8q8G2PpvA99Q8ztdcdqZiDu0271h6olo8ObhQ5mA9UGKqxIbdm08mvSlTls9KjW6kTsstZ6ekdCYz4aMW3Hiq9LrkYsosvLRqYdUKptnpHfyrTFU8g8IXymOb8dfyr9U5bWlGevm4bmpKPFyP7vmOPx8p+iOScHXCtirFGMZG7J+almlYtXGKqquWw6XtsMsnOzV3x+PlI7y8all4yG+am09CdnDHydONzLLud+cIfDjL3NORrrw7Cgz01CyxJlvwUJuivSOpLy4TMX3rFaJHv2Yhts0wfk1OMrUo6aSQtYR9SVxKTeQMd4ql4qxIeIp6pek1X/U55hH4QN5yczDl8UwEmpdmzTcFKXXx2HUtImst5NJqdvCUfQjc1IvaN3z8vekpBnJSOkaXirVDiLvKfRTUx0R8HzF0SUvONhuai1QY6tGl6n2W51U72sbNp6J5E6eEsdXqRqZRyeacU8J+LpbEV6SkC+4yyqTDw1WjdOu3tttZntapmapmNtiW3jMR3pb0ph29Y1Wg9ihCMYvJqylJGnwmxuS/r1w5MxJq55+NJxoq8WzQ95TXaDIhyy0y8tXFByeHwkY0ZlstxJN5mX2j1LIs7XdJvEaqI8ujM3apPHEorWx4NnSiL7R7MlrOLlJVOjBRfVPKvIRjLTZ6drLKPcvyiG0KWzWKLXznVdljpOoeG+Hflyzkre923tPS8nMrxcRYcWlVew7gNHjfD6YmwzOXbavyjQ+Mgt0XsOWlLaXcxUj2vMcTF2Jtr4/vH9KR324hZf8Oz36U18eDFlosSFGSmJDZlbyrD597WerGlD9PL6knpPgXxVExHhPiZuO8aekW4mIzbTLzHPDzbwL4i+I8YrKu1MveC8S3Rq5j0kuVqN5Tyq8MZ7PUo1MolatrHUvDjjGJd8CDccjHeHMRflIzQ2zKvMp2reV4QLqkZiemHpgy0NojfxHknFF+RsQ35NXlFbNHZqeyvMbtaWUnHc1MY7MTX3evL8bT3nRWOz+AvGEy16zlxz01GjcevHQeMerNYdQaT77hveJcF+SN7wWpaWjKzeTznfr0I6w8nTo1O56/wDJERKTcOcloM1BeqHHhrEX+My7vsnkPTcax9iNML4ampyr5Zl4uD5Vp5fmZ+bjxmjPOTLM+ZvlWOweGzFXxxf3xbLtVKyOXss/OdaMx6VrQjjvJ51xUyky91TTf5ZM/pWOxOB3C8a/r+W8ppozSsjmzO2ZzryRlY0/NQZWAlUaK1Kr4z1VgrDkDCuH5e7kVOMVaozdJ7eUXWsY6Y6NW8cu58XCVE4jBN5W1U/Jnl+JHjVN8vG9Nj0zwtvRgWe7TKeYW01MLSPatxyNosarT3RM/pWO9uAZbVwxMR7Wdqphtp6jofePQfAbCpwUtq78wzC7jHFLXk7Gp8Bq8RX5KYeu6JPTsWmGnpM3RU2TPm0HRnDhifuq+Yd0wm+RlVzL27Tp0oZy2dypUxi41jPhIvjE0eJDSO8nI1ZYMPLl62OH26KtNKfrDteo+m6Lqmr7vKDd0jCeJMRcqqp6kacacXmylk+ba2gbRz5jt2BwBXi0NbY14yitTs5spob84HL/ALqiV2SvdUGqlYkF6v5jPXg30ZHwN4dmLyv74wgx5mXlZXM1L0qzdE9AU28+U0eB8NQ8L3BLyNipx1PGRm7VpvqTzas8pbvRpxxixxGpU6r4QOFxLqixLtuZkaMuWJM9FuybjhexhEw9dXcMlFpnJpWVmXdQ89xIjRGa23MzHPb0Mu6Tr3FbHti+m8b3nL3jtMT81GmIjfjMx8trWtqUlVttZURambZVd47ZwdwKTF5ykObvaP3LDirUsFfwnnHdnOFPR1YxlJ1QwLZ/aO8ry4CLvaUbuG8Yyxt3jEWk6cv65J7D15xpCfhcXGhbPRZekpmFWM/RqVOUXKcFcKN5YcmYcrPx3nLr2WVs0SEvUx33JzkteMlDnZSKkaXirUrL0TyXyMducBuJba5rD8aL8n+Gl6t3wqda4oY90XNb1vrJ22SxZLHUdtiFqMlJjAQtYyQELZGAEUqJiwNDGSWxACEpRIQAHiEzAIQxFENtAUxLbICILqFUFAusYGx9FJkIUZwooYlGBSjErWbNhQDUQDAa+EpdIqSt4B6xOtS6OkWOnnKzJ5oxvA4rFl5WbrRKvnNC3gOVcJicVjCast3lVjirL4T1aXF5s2+wZF4jEN3vZ+OPUK56rTyrh9+KveVfoxFY9RyzVQlt6Sq3qnSuObvW/FnKpsblEq5RotJwOZ01w9XUq2yN5ItLL8i3k2nUi5jvbh0o704PSaZSk6LPRt5drza0e5UNtDKd6cCM1Xc05KVfgoixF8m06JsO5eAuJTEvCz/Rqxi64ue3dsNtHVXDHjiNd6rcl3RaY0dao0Rd1f6TtGdi9zSsSM37WrN8x5YxBeEe975nJ+O1TRYjeatnIpwUIZarcS+rXbujeAmzLabK6rujXrNQZWXWqNFalT0d8YunHvfJZCtZdQ+IiMp6CwrwS3Ldkmr3pA7smmpqqfKpuL04NcMXnAaH8WJBbZ4yHlZTreJjk7PRk8w9Q1ytUcs4QcATWDJtY1jPMXa7Uw4+8vZtOJqdiM4y030cEvJ2DwZY/mMNTkOTmIvGXbHZVZW/atO9YehFZI8PjIb1K+yynjuHG4vWeieB7Eb3rh9pCO3GTEjs9Ki06N1Sx130dq3qZdriXwgIDNMXHGo3Y6+ydRNZbVmPVmI8I3VieFBsvKA8TiGZodL08p0bwu4VkMMXvI2XbCeHBjwWZlZ6s1hy21XTg4bin9nBSlW20KT6ruhJFmYaPss2Y7UpYx3cMIscOC9Wmg744Ent7355P9MrG4l+CvCUSWl4ncEbPDVm+VbnU3tx4auvDiRId2wHgrF2qnq5Dzq1bScXeo08WwK3dJQUnVdhK9ZdIFAYm3jzfwxwuIx/Of6WDCieqek22Tzzw5wKMbw3/GSifzMx2bXm6t1xdfDCkuGnGMqnpulolILu2oytJRk3Turg04KpSLIw70vmFxnGZocP6x2i2H7m4jifiyU4vZzQqjqSu4xk7PhZPHlDUiO/eEPgZkJ2TjT2H4Hcs8mbiV/BxV6K9o6EdbVZkdKWVmVl6LWHYpVY1NHXqU8X0ykzEgPDtgs6xIbVKy7rHpvgyxfZi/D6vHf/AMQlfk5jteBjy5Y1Jz/gexFbc+LZeyJF4uXmvkYnR18hwXdLeOTsW9TuxekGXKeeOH6FbDxnKv8AjZRfaPRdNJ0F8ImFRf8Ac8bpy7qdS15ua64upyoTPDiK6NSytUrElw1qak9fV5eimW2IzWszszNUzNvDSC9NViHZXBdwZLiyI09P5bvhNS3SZuyd0SWA8KyMJYKXFKRFXeiJUzHSndRj5O5G3lJ5pwnXAv6RiW/lCe0esqt7pZjjk9wb4WnIkOIl2dxxoTVK0u1JyKJbZCh6bcyov/RTo1p9SW+juU44xdN8O2NokosHDl3xaYkdeMmWXaVOZf4zpCFDsXVYbbE97NfuI7yvJ3q42Myr2Vs1WGrPVt6WMHm1KmUsj0eAyJCeJboRamPquu7ol4TkGVgrVEitSelsE8Gt0YYkYNsxKwZq8GzRIkRNns2Ga9xGDVGjKTzG8hHhLU8J18wwsh7OmZGTnIDQJiTl4kNtpeKU6U4W+CaWu+UjX/h+FxcvCzTUpXsr0rP+5xUrvSWu2rkqW+Lpq02+G8QT2Gr1g3ld0w8GNCbzWXo2mrs0NmsGtnOdqpHKO2rrxljLJ7Awxf0rie4ZW9ZXZjr8ov4p7OVTZ8XbTpsOkPg+4idLymLiiM/FzMPjIK9uw7ytiU+bmPFnDGWL1oyyjk6T4fcXxlSDhmVi08avGTNPR5lOlF1KbzHd5fG+M74m91phoa+TZqNHZoPWt6eMHl1KmUjzNslQ4LxNVi1H0XfKRJ6bgysBaokVqVXtWnpfAvBbdOGZODFnZWDOXky1M0TZXsqK9xGDVOjk8xRJaNDWp4TqvkGBc2s9qTN1yE5AaDHkJSJDbaVoS5jpHhd4IJW7pGJiDDsLi4cLNMynZ6SnDSu4yltq1Ut5RdMlKSuZdKlLtHddR3l8HOJmviH2U9o7p2VOjvg4xbFvW9Idu9L1HerKeHW9zV7NPi8tcNaKnCReGneVG9U4Mdh8PELi+ESNb05dGOvT1qHt6PLq8nI+D+LxGMbnfoziHrmItMVvKPHmEn4vEt1v0ZpPaPYsX8K2neY8685vQteKKajpL4SsL5K4Ynair6p3esM6a+EpC/8ACrjiU7M06+qcdrzauvbdDW1GWE1JjtLh7x7FTi8ilzexsK/K4Yul7fyVDatRDWu1sq5mY0eA4nG4Mud/4MpruFW+XuPAd6TcNqYjQ+JVuizHg45S2e7KWMcnQXCvjGNjHE8ZUi/+GyMRocvD3WbnY4XZthosWGtm8EOw96lDpx20eFKec12WVn2SFyT94/3nJzMx/wCmlRzDglwCuNL4a2arW75XNG7XZPTV2XVI3NAWXu6TgysFd1UOrXvMNcdHbo2mXdJ46mrgvS71rm7umIK9JoTHfvwdIjRMJzydCZ/6qdnzcvDnoXETUKDGhtuxEVv+xr8P4XuvDHdVl1QO54c1E4yJDXZqs6J0qtx1NNtXco0enJ554fYejhGjP0pVPZOtj2heGGrkvWZ7qn7plJqMq08ZEXNTYeV+FK75e68e31KScBJeCkRaYa7K6VU7tnWy7HRu6ePc4x1j0aSbDl/BbKS83jm54E3ASYgxI1LQ22WO5Vn047uCnHKWLjENLLD1TwRRK+Dm6+zUpuYuCsMq7f8AgUj6B98pJyt3yyyspAgy8umzDhnjXFx1Xq0aPTZgFvDXQdRzgsldovqA1+ILkl8Q3LOXTNrVBmobQ/JbmY8fX3dExh++Zq6ptXWYlYjQ27WjkY9pHSHwicIZZfFkpC2aZebp/mY71nVxli6l5T7cnR5y7gxxdbhPFknNu1MrFbiZjyG9xxC0avrzHq1YdSGzz6VTGWT3DDZXWuxqlZal8m045wi4nTCeEbwvJnpiLD4uD2nt5DUcCeKu+jCEOXjRap6Qpl4nSZeZjrf4ReLbJ++JXDks1UOT+WmPLt5FPFpUcqmL1a1bGnk6gaI8VmiRM0SI1TN2rSbLNIltM8CBEjxocKGtUSIyqq9q09zhF43N2lwB4Rsvi/2vmOtUrIZlq2WfmPRjaNPlMcb4OcLJhHCcnIUosZ14yM3btOUNung159Spu9qnT6cdnlThsvqNfPCFPQXb5O76YENf57TgdhynhOhPA4Qb+SJtd01ebaqnF7D26GmMNHj1eTeYJwpNY0xDK3NKskNouZojbq2cp3fD+DVcbQlrvqb4ynNlWn/qdD4ZxNeOEr4l72uxkWYgbrbLLbyqx3Tcvwl5F1Vb5ueYgtvRIOZTp3XXy3h6O1b9PHuaS/Pg7XxIx4fxbOJPQWiUtusq/Od63NdEC4bolbrlVphy0NV87nNNhzhPwri96LrvaDxjftMT5OJ6NpyfXSefVqz18pu9TpxjxQq2dENVRWoNZwuVJWurQTslLtATqHtNo+26KnL9uiVvAR4vttBTbTrMiiZQFSLdMir8oJQIiRIcJWeI1MNFqZuzYeRuEjFkTGOKpy8Xi1S8NuJll3VSz3npLhOvV7k4Pr8nU2uJ4tfObQeRbLLbFVbT07Cl9nQvKn1Rp0nMODbAE3j2/O5IbcTKwM0eN0V+scSsXQdicG3DA/Bzds1KQ7gSeiTMSpozRacvMp37mU8Ox0raMcv5Hed1cDODbulll7bp7qZV/CRHzHGMe8AVz3hJxprDkJ5GeRalhrmhxdG6cfb4U09u4WhfSCLfhRT/ADYWlvpDHlxhXjLd6MqlGTpSNAjS0eNLzK8XGgRGhxFbdawSPbl7OZWNti3EHfViGcvnuFJHuplZoKvUtRqLLD1490e55su2fa9X8EGKrcVYOl4kSLVNSbdzxv4uQ5wma1dB0H8G+9bYV9XpdduzFl+6F81tH6x34rW6V0dI8CtDCpro9qnLKnk8gcJ3/mFfy/wlji9nIcn4TM3CDf3+tscYs5D3KHDR4tXk7D4Cs3CTdNnRr9lj1Hsnl7gJ/wDMm7eysVvUY9RU5jyb73XrW3tur+HnGD4ewut3S8WmcvNuLWndhWcrHme2lbNHROzvhBXs89j1pG3ZkZdYar2rdZ1jSejZU8YbvPuqmUlWWW28mZtmk9G8F3Apdcjdkved/wAr3VPR1WIsOJswltPOkpMPKTUGZRUZoURYlLbLaDtNvhK4x5LJG6KVyrlYl3GrLyg1bypx5PQMzgjD05AaBEueRpZafwSnnvho4JYODFW+7nV1u124uJD2uKa0LfhJY1bWstdC/wCyY1eJOHHFWKLlmrmvGBdfcsytLUwsy+I61CjXhJzVqlGUe11/acn4O8UvhLFMjeNj/ItEWDGXpLacZp0WDW21ddm0uY9CrHKns6dKWMsnuJYiOqumZXpZf4zgHDm1q8HN4dqIntHIsD3jbeeDLnm32nl1Vm7Vhxrh4iU8G863+mT2jw6XuaPXre3q8tttCLJPoniN9g7Bd5Y2vVbuu5ad6JEbZhL0mO2k+DPAWU0xL/fuindTLUbn4O90QZXCU1edq/sicmGWrsKdpstOU8aveTy8nqUbWOPc8bYwwjPYKvyJdU/tLmhxF2YqdI0dp318Ji7UWSuW8qM3HNL1ePWdEWnpW1XqQ31dGtTxlii05LgbAl6Y6vHuSQWmCmaNGbZVTjiardJ6m4Erhh3PgCTmLE+Wn2aYidLa0WaTiuq/T08ltaPUk4ZH+DPbZKNbBv8AqjKuVWXKzHTd/XJO4bveYuu8YXFzEBvSXmY9qMp58+EndsOFiG656xflJmAyt5p1be5lKeOrs3FvGMcounrTJAe1Hhum0jKy/wATGO1TJCXMq9Jj0anF06fN7SueZeZuiRjv+EeXRm8qk+TFV92Yaw9eF7P/AJPBZl7Tcx9GHV/8Bu1ejLJ7J158Ii8IkrgyDLw2yzU0sNvJs1ng045SxezUljHJ52vCcj3nNxp6aaqNHiNEiN4z5uctqTG3Ke9GOMXiTd0cAvBzK31DiYkvKBx0GFEaHLw2zKzWcrWnf9kJ4SqsNOLVd1UPFd34pxDdUssrI37eMrLq1Sw4cVlU+lsc4tiarcTXv9IY86ra1Zyy3d6ncRjHF6qxjgeRxpdUaRnpNOMZW4uNRmVubMeQr0u6Pc16zl2zC0xpWM0Nv4jY9+OJ25cSXv8ASGNTMx483MxJiajvGjO1TRIj1Mxz2tKcOTjrVIy4sNnIemuAnED31gpZWM1UxIROJ83mPM68p3T8HCZeHPX1K2NVDiQ0iU+Izex7cmrOXc7zsyxFtsPG+MWaJi6+Hb8rc9k2MeMMTRLYmJ72t6U4/tHBYcm75rT6JSSjT8zDlYC8ZGitxcNV3mtPnt8B2JwFXbDnsey8SMqMstDeNT2j0a88IbupSjlLFz3C3AFdEKTWJiCLGmJh1qaDDyrCLxLwA3JHkYnxHFmZeaVWaGsR6lZjtiqrXaUmWItvaPG8RPLfd6nh44vEceBElo8SBHXi40KI0OIvRawxWWnL+FKAkDhAvxEWmqPxnznENOi09mnrlHd5FXtk5bwUxXgcIFyvZvRqW8mk9XtD4xWs6VWY8o8E8OvhAuez/THq7eY8m85vTtfbdIYn4CYMCWvS9rL7dmRXmKeK9U6R0VLptPYOOH4rBl+P/BGPIC26juWc5Sj5uvcU4xkWk7C4LuDWVx7DvB4888r3KyqtKVVaTr1LDvr4OEGm6L8jW/lCeyxu6nrCPkzbxyl3M0P4PV1QnhxHv2YahuM/BLzazfxeGnAktEaA97RqoXybfsd+bV4DnEy3Fy0w/wDoX9k8ZzrVz009m9GZvWOpSh1+btVJdPi9Gtw5YD/Ocx9Fcxtw6YF/OM39Fc83VAc3gtP24fFSejm4eMEL/lk3l/grHO7ovKBet3y94ytbQZlViQ+MSlqeuw8a2tl0Hr7CMPisL3Si/kyHVuKMafo7FGpKpydEcN2FLLjxN8YQIVMrP/KeS/OdanqbhVwwmJsITSIn7KlfloP8XKeWmy7W0u0d61qZRdO4p4yXAjxJSLBmIT0xoERYkNu1YeuMJ31DxHh6RvRGRuPgqzeVznkNdVp3LwE4xl7tui+run4tMORh91w6m3f/AOTF3Sy03clrUx7X38POLLZSTg4elYvykf5SP5PROi2ZWzGzxNf0fEt9Tl6Rmq4+JUvk8xq7LDmoU8IuGpUykApqVkt3ja3lhq8bquq770mYVMveCs0FvEao5d8mHobgLxLbe+E1u6PFqmJBuLzbVNvIcpx5iJMK4amp61qYzLxcFe1adCcDmJVw9jaXhxWplZ79jt0areQ3PDniz41xD8Uy8WqXu/K1O8550qH8uzu9b+N1zNR3mYsSNEeqI7VM3Sa0+WyopmNhcFzTF+XnL3dLpVEjxFXyfCx3+MXT5ydkcB2D+7JqJf8ANL8jAamDVvN0jvPXVpNfcNzS2Hrolbrl1ywIdPlNzsbFjyKk85bvUp08YuBcNcXi8Exl6cRVPN8Rcx6G4dIvF4Tgp05hTz1Eapjv2vF0bjkmF2j0hwLwOKwLJ6N9mb1jzdVSuk9PcEsJoeBbrss/F1esYvfhyWblapmXyjy7wk6YmMb0tt/KGPUjLarHRPDRhCPJ3zEvmBCdpWZWpm6LHDay7nNccXVNvUbPC+IYuF78l71gwEmGhbUNsuU+BkerRQYbbM1R6esdJR2eflg9B3Rw6YanEXu3ui74jbSslS/PpOaXViO6r8XjLrvOWml/0bnkmrpZjPIz01dsdZiRjvKxl2WhvT6XSOlUsv07Ubr+z2DDE2XXbsnXnBTwjPiqWa67xy3lAX8JuxV6Rzu8I/ESMxEtzUQ2Y6escZY6u5l25PNPCXfdt9YqnIljO0OHE4taujYcUst1H1Xi1sWajRm2mZj47D16cdovJnLvbrCE9dt1YhlZ69ljRJWA3GMsNamZubLpsO6F4eMKdG9Kf9XX3nQC6d0tYbtunFVt4zlvJzU6ko8XfrcPOFNlYV6fR19519wo43w/jWFKxrtWbWelmpZokKlWTx6TgjQojLsE9zRF3TMLeMJb6atyqSkmw3+BZz4sxfdc1/pqfnNJZCiGwuJbVvq72t3ZhPaN1eOrFPk9R7urZEVsqI8rR6KGWohl8BlFlKMLE0mTV5xPOBjZQLZSAAQxMpoSy5SG2TKQygQIYghMAxATSIpiCgJKJACaShVAT1CAAPrLIL2TAW8WpjMigNShDABgAFFLoEo6cwRkUbaVXUICq6C4XYFiYu4zpwV9o4Sy0nYfDTCtTEEnE6UFvaOu3PSocXlzfZdsTi5qCy9JT1PdkSu75V1zK0FPZPKcpEpjw7O0rHqLCsWyPh67Y1v4lf5jr3PJ3Lfi2y6V5VGzUqCxEbezHHMYYzkMLXe0ePFRozfg4deZmOvFzSli694dr6SPEu+6Ye0jNGiUudTsfffV8x7+vSNeM1+Eits9FeifDoPSowxi6EpZHDVWO7+A272gXfPTVu+ywzpSSh8bFVKXqZsvaPTOA7mtuPDMnAf8Iy8ZE/jOC6l8OW3j9mwxO1sO4Z61Pyd/ZPKK7NLHrm8IFk3JxoFuzFVl+c8mTktEk56alYiZoEZ4fzMZtWbjkwsqtadmcCEjBmcTrEiKjNCgsyq3UdaHMuDDEsO4MRy8eNlhu3Ft/HqOzccfJijyektph7oliWRFrR6lbMvk2l7uk8x6DRY3uWDf2F7wkY61VQWZW6LWcjHlNcq09E9U45vyBceGrwm4zU/ItDXtNauiw8rItrLm8o71p8uhcclLmO1+A2ceFf8AEgVfh5dl+Y6psXMdn8CCWtipbehBf2Td1xLXk74ZTpT4QUKl7nj9p4Z3YdQ/CAgVXRdsf8XNU/OrHSoc3YuOLpi0+mQamOtvRPltM8l+GPSqcXTp8nrW5IvH3JdsTpSqeyfU3gNRg+PxuEbpeza7nU254z0i3spQLsgGjVbR9VgKVTYBDLbmOhfhAJxeI7qj/jJZl+Zjvw6R+ELB/ZFxRl7a+yc9tzdW64upbTYXIqtPy9luy0RajXMZ5KPbCfTvK1R6VWPa6dKXc9hSsCHJy0GBB/BpBRV9E+jaONYAxVLYqw1LzCRUaYhKsGYh7ytZyHJtXLYeNJ6yYi1qeXOFe7IVzY/vKBAXi4cemYVV3dPKen5uOkCCzu1NK1VHlPhCxBDxLjO8J+HmgqywYfk2Hcs+Tp3Tj7myuSPbAvGXdd2Iresa202dyQHizsuibTRFU7tf29XVp8nr2BE42BBjdOCjfOp0j8I2FVEuOLb0nU7tlIbwpOXhvtJBRW/iU6g+EXAquq543RmGX51PMt+ejvV+LpC0zyuitbDBYZperTUevPi8+PJ6s4OZFJHBN12Iv4WHxzN4zkO8aLAkXjcE3O/Rg0m+U8GXJ7AbwHz3h/ecxT+Lf2T6BRIdkRKLd7L84izJ4uiZYsSy3a4xvaJNrie7HujEt6STrTxU09Pk2sazZPep8Xjzc/4F4EGZxzd8OMtS5mXyqT0zTVbpPH+Fr+jYavyTvWD/AJNEqbtLznra6r1lL6u+XvGRipGlY6qysvs+M8u6j37vStZdr6jDNysKclY0CMtSxYbQ2Vus+jUxpsV4jlcMXJOXpNMirAhsyq283MqnVi5pcXki8IFknec9KJswJh4a+TYxhs2hPHeajxpiJ+EjxGiN/G2kanux4vKcz4KJt5HHV0xIeWqJS3k2rrPUEwtMOJ5LHmDgjk7ZvHV12bqxKm8k9PxGqZuieVc83o0fbeM7zX/xO8NO13VF9o+Q5Djy7HujGt8SsRKf2Q0Re0ra7DQUnqUpdujy5+rnXAvLQ5vHt3w4io2Zqauo9Q66jxxhe/I2Gr9k71h7UtEVvN5z19dV7yl+XfL3jIxUjS8dalZTzbyMs93oWsu19i7OgwzMpDnJaJKxlqhxYbQ2Xxmaqk0uLMSy2FbhnL1jui8RDZlq3m5lsOrHk7EuLyFeEtZJ3lOSqbMCYeGv8TGBS4sd5yPEmon4SPEaI38ZJ70eLxHb3wdHpxLOQ+lLMx6AqqPOnwe4lOM4iVbUs6norxHiXHPV7NvxebvhEQ+Lx3BezelV/mOsuc7X+EfCtXFN2xqcryzZvEx1SetbcNHlV+TYXDEoviRfozCN6yns9uVW6SniaSj2QJiDEfZRlb5mPZ10T0G87tk52C1UOPBVlbzTo3se537OXa+tTqP4SsP+5e64nRnV/nU7d3tR1D8JGcgrhi7ZW1vlGm+MVeloU4bfno5Lr23n23Kxkh8pFpkhbR7NTi8mHN624M343Ady22/k9Jxf4QbOvB/oXZ7pQ5BwTtVwfXP2YbHy8NF1fGvB7eirtS1Mwv8AEx4cO2o9ev7byyAlbjFrs2WGp7jx3pT4PUrBh4JmplMsR5tobeTYqnZ1J0P8HjF0GVm5zDk1FSH3V+yJdm3ns5VO+d08G5jKM9d3t0e6PkRQVZagqU4WypPKfDOtHCVfFnSob1T1ax5a4coarwl3h2ocJvVO9Zc3UvOLgK8hyzguajHdy2/whTinMck4PIlGNLlb+EqejccNXRt/ci9eR1+VbyjEZo/4eJ5RiPAeyVIwKAY1IVS1AdNp8N83RK35dc1dc2tUvNQ2ht/2b+I+8NljUZJKOTxdiC4pjDV8zl0zaUxpWJT5S8zGttO+vhEYM4+Wl8VSkL5SF+x5uno8zHQ1h79tVzg8WvTxli5vwUY97wsTd2zNbSMeC0OYVc3ib5zil93pGvq+Jy9I7VRJqM0Tzd0+OwVtmk3GlGMs2JVJSjiq1dJ2TwHYR74cULPx4VUnd3yjdpuY63hqzMtliZmyqp6y4K8J96eEJWXiLTNTS90THlW8inWvauMcXZsqeUsnMqmbMwNm5A5xqp4r1XSnDpwbTd5RVxRdMB4zLDpm4a7VNnIynQ7JobR7R7kWlcmRqt3pHEcS8EmE8UNx8eR7lmG2okvlO/b3nT8pOlWtcu6LyPpFyHe16/Bntpa26b6qbdhx0/WOocT4WvTB97xLrvaBxMwq1K26y9JT0aVxCfo6NSjKPJqoT2w4ixFd1iLvLlY764FOFGavCPDwxfcfjojL+xJltptG4x0IxsbjnIl33pJzcBqYkCYSIvpHHdUIzjk5LetKMsXtKnMTSOHGtjw4cRl21VvnNPi/F114MuiJeN5RaV/a4e9FbsniYvWybbUNbFq0nnS9vhD4kmJlmuuTlJOXVsvGZm/jNxhD4REy01DlsTSMHiXanuqW3e1bYc+tvOMctnDG4pyli713fN/VCmxX+3SMMCZl5yWhzUrFSNBirUsRcystqqZ977dI67nQq7JWXnFu+aJiC1YhlqUStz9oe0B1/wAPDOvBrPWWbLRkq9I8vMes+Fq7Yl68Hd9S8FKonF8YvmtpPJlrWW2abD2bDXseVecjKWHEiLUkJ2XsoRbynpf4Py3XeeA+JiSsvGmJaZdYlSLVTadi4rdKO7go0+pLF5t7lj80vG9Fiu5Y/wCIi+ix7eW5rtVf7xlP0SktdMgv+Qyn6JTp/wDQ/wAd3wbxH3JMfksX0GGslNfksz+iY9sfF8h+QyfoqCyEkv8Akcp6Kmf+hL9HhHnLgEWYlMeVRIEaGryzQ6mRqdo9JwlpeGYocCVhxNMGBLw26UNFqM8Js8M6dWrnLJ3KccY4vHnCT/j/AH9/rcQ4zZynJuEn/H2/v9biHGbD3KHDR4tXk7F4Bv8AzLu23/RxfYPUdWZjy7wCLVwkXev+hit6jHqFl5zyLz3XqWvtvKHDRpbhMvqvpJ7JwbnOyuH27Hu/hAiTVv4OfgrEXyrNVp1tznrW3DR5tfkcvAjTUeHCgwniRIjUqq5mY2nepfm9c89+iY+rg/vKHc+Mrln49DQ4EyjNVs0ns9eLb5RERlbMuz7jr3N1KlLZzW9vGpHJ4m70r9bkuee/RMUuDMQc1yz36Jj2xTZ0U9BT55m8JeTVbZiPLy6s2Vojqv8A1Ot4+X6djwMHjHvOxFzXLPfoi1wXiPR/gKe/RHsJsSXWv7qyP6VTG2KLn/PEiv8AKFHjZ/1PCRcf4LpaPJ8H91y83AeDGRWVobbS5jRcPjU8HM1Z0o6KdkQ3SKqxEapWWpWXeU61+EH/AOX0RelModWl7mjsVvbeYwHaNdo+g+rxXqfgSh2Jwc3fb0ojt6xzxVq5ThHAyv8A9Obp8/2jnB85U5avejxdQfCa0LhS5/8AXf1TztZznob4TUT+5q5U6U23snnuxeU9ex9t5N17gt2GPYfB8vF4FuFLPyZTx63JrPY+B1owZctn8EQ4PyHw7Vj9m6ZToj4Tjfs7D+j8W53vVSdA/Caeq97jT/Qsx1bXno5rr23TRkhaWeHZ2lMZmllqiQV/0i+0e1U4vLjyez7oTi7okV/g8L2Tqn4StS4fufo91N7J25I5buk1/g6eyde8P10WXlgGNMQ/wkjGWN5vOeFQ1/ketX9t5k8QqucyU5VJtXVoPdeM51dfAji+9LvlZ+XlYPc8zDWJDZn3bT7rOADGnNKyy+edx8C+JYN/YDkYdkVGjSC9zxIe8q2chzqpOgeXUupxls9OFrHF5kX4P2M25YEv+lH975i/eWU/Snoy+b3krjkY09Px0l5eAtTMxwH74DAba+7Jv6OxmN1Vl6Erem6zX4PmLbOXuH9Kc94JeDS+cD3rPTF5NLcXHg8WvFvVmPubh+wNzTU238nY5XhPF93YxkYk9dXdPc6NxdUZOLqYxVqzlHaTkp0oxl2to2WG1tW63sni++Gqvq8rbfyqL7R7PmWplo1vRht7J4tn2qvSet6Uw/tHNYcnDePnt5TtP4O6VYvmn6Eqx1VZynbnwcodWJ7yfoyp2rzg69r7jv5VpXQUi/KKIEbOp471Xk3hUe2JwgX0/wDpqfmU4nYthybhEi8Zji/LbfypjjNh79Ljo8Srzc24G4XGcIl09lmb1T1LTmbSeZOA+FVwhSPZhu3qnpw8m85vUtfbcZ4SItkLAN9P/B2PJNi02Hq7hYiWQ+Dq+rf9Gq+seU7d07Vhxde85JQ9B/B0S3vXvR+lMr7J59PRfwfYVsLBMw/4ybb+ZTV7xZs+TsS82tW7Jx1/J39k8gxZGaiRIjWQIzVM252j2PUTZQvJCg/ol9x0aVfB3KlLJ43+KZxl/vWN6LFfEc83+RxvRY9jcbTsqi+YvuFx9vY9Bfcc/jZfpx+Fi8c23FeNrLok5ls3RY9b3JDthXNd8Omlll0X1T7WjxOS2j0FIqOCrX6jko0+mIi5dDLUu95J5e4UMLd7OLJqAi0y8z8tB8m09Q6fAdd8NuF7L8wut4wF/ZV3ZvKS3lNW88ZM3FPKLziwlqVtNjutS05X3SmXnA9ePc85NmrKbjCVwxMTX/J3XCSrjYmbsrzmnQ7y4BMMWy0nNYhjwvlI/wAjL+TzscNzPCLdCnlLdynhPwjAvDAHcUrCzXZDVoNPRs5TzJEsPaDw0eE0OJmhutLeTaeUsfYffDmKJ677dlYjND8m069pV+NXNcU/s4zmWIrq9LK1St0Ws3iokWJHitGiM8SI7VMzbTMAUne2dZOjnO8OAvCLQJaJiKahUxIvycvV7R1VhDDUbFN/St1wV22qiN0Us5T1ZIyUC7ZSDJS6UwYENYaqdG7q/TR2bWn9mamldAmUsjqOg77q7h7i2rcMjD6UY6FY7y4f3pk7rh9pm9U6N6j1LXi8y45Mb7DeSeq+DmFxWDrpss/J1PKzch63wclkDDV2p/BV9k4b34c1n9m3pME3LS89AiSs3ASYl3ytDiGWPFSFCaJEamGi1M3ZsOgr24aL4ksWTE3I0TF31cWss2XLZvWdo6kISlxdqpUjHk5piLgQumeiNEuqZeTZv2tsynBb54DcQynGPKLBnFXN8m+b+c7Cw/w14VvWEtk7OfFc1vQ5jZ+fkN/N8IuGZWW7o+PbuZVzfJxamOWNSrHtcMqdOXc8rzctGk48SWjwnhxEallYxW2G/wAbYgg4pxPOXlChcXDitl8mw0VtqnqR17XRnFybg0m40pji67YLUs8Ti28m09L3klr3bNQ+lBdfVPOvBDdUS88bScRF+TlmaI38X9J6SsaxlZX3jzbnX+V3rf23j+8YdsOajQ7ctMRl9Y+RPAcy4TMPxLjxROQ3X5OK3HQ26S2nD+Q9CnLtdGrydl8COHLnxFOXtBvWTSaZIaRIdW7m0W0nbS8GeEV/cWCeecEYsfB1/wAveVivEg7MxDXeU9GXNjjD9/SyzEle0tS20sR6WX+I6FxnGbvUcZRYW4NcJK3+B4PpGNuDnCVWhLlgsTiXhDuC4IDPMXnLxolOWDBepmOl7y4WsUzU5GjSl4vKy7Nlgqi5TENKk/RrWVOLuhuDjCv5nghBwFhmWiQ40O54KsjVK3aOjPuoYxb92o3oKdg8FN74mxLNTE3eV5xo0nAyqrJSrManCcY76kZU5S7XZ0TRTskFtoJ2TrudLKTV4SuolmtAxsItifGBLLZTqILbMSBLCXLqKFSAEspQGhj2lIYyGPZ1BAIe7pACWUSqVqpACBMNidZQiShAQA2BQPqGHiAwAyqSowKGT1j3gGUoU2CAtR0iUsIa7IxLsj3agjp7h0hUzF2xLN6pTqxjt/h0hVSV3xejGp9U6is2j0rfg8+pyNWpzHPLl4Zb8ue7Je7ocjIxocBaVZtqk4EorUzHJKlGXqRqSjxc7vThkxReUOiBFlpHpcWlTfznDJudmJ6O01Nx40xGb9siPUfLSVSWFKMfRmVSUlFLZU2gaw7Wy2HMcEYAnsSzUN2V4crtNEbZpLOcYxbp08mx4LMHvfF6rNzCusrLZtja7J3zZs9k+G6bqlLkk4cpJQqYcP1j7rGynlznlJ3Yxx7T2sth0Jwy4Ye6r/8AjWCv7Hntroq9nKd+KavEeH5TE90Rrtm0yvst0W6RqlPGW7NanlF5UKVqTcYowreGGLyiSU1C2c0OJuxVNNrPTjrk6Ho7BwZww3jhyFDkZ+A94SK5VZfwsL6xzWZ4d7g4j5GRvGJEXZh0U+sdE2LoKXK1SnDK3hJuNaTkeMceXpjOOvHr3PKq2WCuz5xxu1Q0c9hcOHazHLGEY6baOOUszgJbax3pwLYetlZKYvaIuaL8nDyfOdcYKwZN4lvGHDgr8irfKRN1VPRl23fCuq74MlLrTDhLSp07qpl5aO5b08X069k6z4eINWEVfoTSfznZx1/w2QLXwHOW2ZmhxEiesdelz0clbi880n0Sa/KrpMFjVKZYWV1PVlxdKHJ6c4OYnH4Ju1+irKckU4hwTRLYmC5ezoRnU5guyePJ6JgAGWjyryjqYVNI6agDrOofhCQv/DrnjdGaZfnU7fppU6s+EDDtbCcnE/Fzi/zqctDno69xxdFMACpzaj2HQbTD+J71wzOd23VNPLxtlt5Yq9FlOypH4RcxCllSduBIkbpQYuVvNtOpIkvEhqttq0q2yYtGak4J28J+bca0oueY14X77xVCaSgKl2ycRaWWH+EZfGcEsSyxVssyhTvFaDlhSjT9GZSy5Ei1HO+C3DkS+sTSqWL8nCbjIjNs02azil23bHnoqwYKu0SI1NKnpHgzwZ3pXVXHX9nTK/KdleidW6q9uLmt6Xdk5ltekdU/CDh1YTk4nQnF/nO1V2Trfh6hcZgWI/QmEY6dDno7Fx7bzrYZ4FVRjsWyoyQcrKerLi8+D1JwZPbFwHdu9TUpydThnBBF4zAUr2IzqczU8WXJ7CgbwAPxEHR3D5g10jQcUysKqG9MGbp3W5m8k6dsXQezLwu2UvWTmJGdhcZLzK8XEXpKeauEfg1ncFTjRoavGut2qgzC7vZt7Vh6FrX7cNXn3FHGWThKtTrOS4R4Qr9wZEZbrjo0u7VRJSJmRvqnG6SdB3JwjPk68ZSjxdx/fJT3EUd7cHjqdrjctR17izG99Y1jrEvWOnc8JqoMtD/Br5XSNAukegxC2hHXfRqVaUi5SkSodi5jluAsCT2L7xWHAhUy6t8pGbZVTdSpGnHfVYU8nYPAJhe1YsxiCMtKqvEwe01vKdyLpzHy3RdUrct3y8hJQuLl4C0r9Y+yzNYeJUnlLd6cY4xdJfCFwk1tsriaXTLSsvNdnwMdLWIey72uuUvi75iQn4CRpWOvFxFY8wcIOAJ7A95Mjo8S74jfseZ3WXot2jv2lfTHDV0bijjLJxOzKclwhwhX7gtqbtmqpVmqiSkTNDb6pxoOKqO7OEakdtXXjOUeLuJvhJXjxFFmHZbjulxuX0TrrF2Nb8xtMrEviaqgo1UOWh5YamkzFwpaNMxVgwYTxIjNSqqccbeFPzalWlJi/iEpnm5SPJzcaVmITwY0JqYittKxjU58nDg7I4BX4vH8GzdiQ3X1T0mp5k4E3o4Qrt7VS+qenYmjjGpPDuub1rf23S/wkbniRLvue9kSpYEZ4MTsq3IdE2aj2Tie4ZbFFxzV0zf4OZWlW6LczfxHkrE2GrywpesS67ygcXGTZbdir0rOkd6yqxxwdO6p4yyapdR2Zwc8NM3g6UW7L0k3vC71/Bsr0xIXZ7SnWm6Gs7VWlGpptq4adSVPi9FzPwisMpLRLZeRvGJGXZVoVJ0rjfG9448vdZ6chdzwYWWXlq6qfH2jjy27pVBxQtYU5btVLiVRNttrGRFEqHOOC/Akxiu/oNtsJ+4YDcZMRN3Vum69SMY76sUKcpSegeDyRe7cE3TLxFpicTU38ZyGPLQZyWjS8wlUGLDaHEXs2gqpDhrDRaVRVVV7NherkPCyey8fY2wtHwdiWcumMvyatxku3SS3kNFZZoPVXCVwcyuPLqVYdEG9JZf2LG6XYt7Np5hve5rwuG8IkjeUq8vMQmpZWSk9i3uIzji8mtRxkwS8aJLRYcWBFeHERqlZdpWO3cMfCKvG74Cy9/3f8YUZVmIL0t5ynT2ko5atCFT1KdaUeLva8fhKSXENZdtwTMSMy5ePelVY2HApjO+cZ31fk1e0eqmCnFwYf4OFmPPdi6DuX4NsSi+r4TpSy+0dK4t4Qh5O1b1pSljJ302yeYeHyHbD4R5jtysL2T09tKeavhCQ7V4QFt6UpC/WOCx5tXnF1kb3A8Ti8V3O/RmU9o0tNptcMNxd/wB2v/Ck9o9St7cnQo+5F7KmfwrGEzR2qiMY6TwntJKBRqpgAwBdG8A1yjCqnkAD5r0uyXvi7Zq7ptKpeZhtDifxnjvE2H5nC+IJ655pflJaIyr2l5mPZp058ITBndsjL4plYXy0rTBm6d5LeRv4jvWdXGWLqXVPKO7oHQFPWZGTqBVbmTMezk8tzrgcwjbijFsF4yfsOR/ZEb+LkU9Ss2bVlVTgnA7hG3DGEIMSOtM5P/LROlTzKc83j5+5q5z3e1Rp4xIdi1agVec0uOMQ2YXwveF6pCeJEhQ6Yaqm9acMfPycknSnDDwj3jDxtDl7jnnl1ulaal2We3l0m6wn8JCGsLiMUSLrEX/KZfMreVYdGzMWNNR4kzHd2jRWaJEbtWkWMexGzhKPm8vxUoyer4HDfgGJAr+PYKtTVxbK1R0JwvcIMvwg4jgzUjCeHJysHiYcRtqL4WOGUWbQmXSclK0jTlvuzXuJVI4p0aTa4dkYl535d8nCWqJFmEX1jVsd78A/B1MSkfvovSBxeWmUVvaNXVWMIM21PKTu1IVkKGqdFVX5jzHw9X/GvXHUS7v8lu6GsOGvatXTaenmb5PTvHl/h4uOPdmP5ibdH7nn4axobeJdFp5llpHPzd674uvAAWY9t5b0R8Ha/o14YdnrnjNUshEVoPkNuna1u0dR/B0uiNAua9L0iVrDmYiw4Pa0Unbu9p+28fO1+euL3KPGOSV2SmUe0uiwdOY4m0LoUa+AFaoqoDFMwIc1LRpeNmhxYbQ28m08e43wzGwliWcumNsrEZoLdJLeQ9jHB+FHg3lse3Ury6pBvaXzQYnS7DHcta+EvN1rqjlF5UezRoOX8GvCNM8H17RI9kJ5iRmMsxBXa8pTj17XRP3HORJG9JV5WYhZWVk9k+Kk9icY1o4vKjrKlLKL1ddnDtgmelFjRL4STanNDjIyscax18IK6ZSRjSuGXeennWlY1HyULtdo88aLG5VqDQdWP4+MZertyvJPtjX9fMd2jPfE9xkRqmpisua0Vl7Xlbme855v5Q3vPhpss3znnBpwYz2OLwhxIivBuuE1UaM292VOWrGlTjvro4aU6lSTtTgBuGdlblmL7n48zEiT7UwVjOzZLPGdsQF+VXo1KfLKSktd8tBlJWFxcGBD4uGq7q2H0w9taeyeJKWUt3rRjjF484R82PcQf67EONWHJeERqsdYgb+FuccsU96hw0eLV5OxOAP/AMyZH/0Y/sMeoN08x8AC08JMn/q8f2GPTZ5N57r1rX23WHDxg23EWGFvSVhVT12fKZdpkt5VPNVmddNh7iiKsRWV1RlbKytvKefOFfgamLqmZi+8OwHjSL1RI0su1Dbnp7Jz2Vzj2Sde6t/tF1DYuhTuHAPwhIlx3fBu3EcnGmocBeLhzcPap7Vh1BS1VNFLbysTmU79WjCr6urTrSp8XpSc+ElhGHLM0rCnpqMuzD4qn+e06Sx/wh3nwg3gsedrlZOF+BlFfKvat6VpxrSzEW2HFCzpw82ql1Ul6Jtho3T9M5Nwf4PfFmKJG7oavTUsSM3RSzXaay5Lhn7/AJ6HJ3dKxpiM7Uqq/rHp/g14PJfAd1NXREvKZX9kRuj2bDjuqsIx2i5benKUspOYS8KHLQocGCtMNFsVV7Nh1p8IVv7gtHSmUOzbOU6u+EM39wsOzpTaHm0Pc0d2v7bzZoHD/CLUU1hNPaPoMvJ4uz1hwPLTwb3P5Le0c0daTh/BGtPB3cv/AKZzBsx85U5PejxdL/Caam5Lhs/hT+ydB28p318JdrPi/D6W/jovsqdDW6NJ69l7by7n3E28jKezMHw6cI3LZ/BEPGy6NO0ezsMLYuFrns/gkL2Tr/kPh2LL7Ni/IefPhJtViG506Msx6DtbUeefhHtY2KrtS3dlDrWvNzXPtuo7bT6JKxmmpWzpRl9oxU2KfVdti/GEn/rCe0evUlpjq82lCWT2dLZZSVs/0KeyYrwk4F5ycxIzSVQY8NobfxmeHTxcNbNlVX2SG6jwXsvH+LsMTWEcQTV1TEJ1VGZoLNvJbyUmjY9b46wHduO7s4ia/Y84n97zCpmVui3ZPNuK+D+/8IR2S8pF+JXZmIeaGx61vcRnHaTzK1GUWtw5ii+cI3h3dc053PEb8IrZocXylOxYXwksSQ4FES57uiRN6JXSdUNbZaTxZyzoU5+erjjWqR4uSYw4Q8Q42tWy9ZpO50apZSDlh+d0jjPKX5Rt8P4SvbE0ysvdUhGmGbeoyr5TG49OlFmWVST47nu2Zvefl5CVhcZGmYiqqqeusK3HAwxcMndMDZgQ/lG6T28rHGeDXgwlMDy/dU1RMXs65om7CXo2HOcp5F1Wzl2vSt6eMWGeamRmrbfxL+yeKpu3jJmYfpRn9pj2hfLWrdU9b0Zd/ZPHLSE2zNbZKzO0243SOeyl+3DeQyfFYdx/Buh2fG97ROjBVfnOp7Lrm/yOZ/RMdzfB0lI0CYvp4sKND+TRVqSk7N5Ujh2uC0jLqdzumkFWllG3UJWPI0eo8fY0icbi++oi70y5o7LTk2IbnvKYv69IiSEwyvMv+1N0jXW4cvVv3Om/0THt06kcXjTpSzcy4B0q4QYNvRl3Y9K01HQHATck9J42iR5qTmYMNZZqWiJSp3/snl3UspvSt4/xuD8M0VU4Nb27TIvrHl21D1DwySk1OYDmoEpAeYjPGTLDSrpHnpcIX+y6rnnv0THatJRjHzde4hlJorE0HpTgFh08HyvbvzL/AM1J0ZDwZiCrVck9+iY9AcD0jM3ZgGVlZuA8vGWYisyxEpbWxLypGWmmzVrTw1cz0iGI6DvExBbMQwaLKAqRhgusmLAhzcCJLxlqhxVaGy9m0sko8oY0w9Ew1iGcu23ZSI3F+TbyHH7VpPQvC/gGdxL3HeN0yvdE4vyMaGu0y9I60+5Bi9m13PFPUpV44vMqUZZOKXJdEe+rzlbugLVEmYiw/NPWl0XZAuW7JW7oCUw4ENVOtOCTg1vHD96xr1vuV7niQl4uXVuveO12bwnUuqucvJ3LenjEVHUPD7hyuWk7/grUyfIxv+x24a3E9ypiPD89dT0fLw/k/L5jgpSxlu5KkcovIjL0RcW28difcTxh+bkp/wDVU2FwcCV/te8r8ayqQZFYitGatWy2bp6niY4vN6EnLeBXB9tzXG17TcKmcn/wdW0sL+k7MYlYcOFDWDBWmGi0qvZsA8upLKWT1KccY4gTdQARXTXwgo3yt0wey7HTFLc56F4UeD6+MY3hJxrt7n4mFDZW4x6cxwj7g+JujKfpVPQoVYxj5uhWpylJ1lZZVSvaU9eXFC4q55FOjAX2TpSHwE4krhta0jlZW/Cqd5y0NoErBg20ZFVcvUcN1OMpabOa3jKPJ19wzYqtua5VumVZ1mp5c1O6n9J57iKytmPWGIsI3NiiFReUrVEXZjLliKdVYg4CbxhRGe55qDNQ/wAXEyuclvVhFx3FOUpOomtZtQlhoraaEOXT3Blim74uiNc835qVL/MfLCwHiCPEoh3TNs3kHc6sXB05ONFwJSNMx1hw1dmZqVVekdhXRwK4knHXuqAkjDbaaM+b0TtPCfBjc2FeLmKe7J78fE2V8lTiqXEY+jdO3lJ8nBbgd8J3Rx06tM9NZoi9FeZTm7FdYjy5Syllq9CMcXDeErA6YvuquXy3hLZoLdLsnnSfu+YkZuJAjwngxIbZlY9c7PIccxVgO58VK0SahcTNU/3xD2v4ztUK+Plq69ajlxeX7VDik51O0L34Er6gVW3dxM9D3aXpY46/BniSA2iJdMyd3SrGTraU5RcRWFYrabNodOao5nKcFmKZxtEO6Yy9pqVOUXLwHTNavfM0kGGu1Dg5mM61oRTpydfYawxP4jvCHKSkJ821F3VU9G4auGXw1dUG7pXZRczdJuczXHh+7cOSnct2yqQV3mbab+M+3RUx0atbWbvUaOIIapSmJbwHC5Ua6RFEgQ21oE3gLZSGAlhbpbKYwAQwzAIhiyWNCGEy2lAEYxDEAmzahDpGUTSIbZhAJiGLYkCSSxUgfSMmoy0kANRailMg3ShZRgUukQitVIFL1lkLm1lhDGIdVnOFcD4XbsmL1w/D7lgPGiLGVqVSo6j71L5ifuZN/omPTVVq8g63XeOeFfWHk68qOTzMuDb8bkuycX/ZF942IPzTOegemuNdeV3Hxr9N/TOTxUk8O8zLgPEDfuTOeibO7eCfEd4NrkHg5f2x6T0Nxj1amf0xVVco8VJfDxdb4a4G5S72hxr4j90MubiYeydjy0tAlYCwJaEkGGuyqlLSVScEpyl6uaMcR4ilEpS6DjaUrAKoYGvvm4buxBJtKT8BI0Nl2t5fJtOpsRcCE9LxGjXJFSeg/i2el1+sd07IzmhVlH0cNSnGTy5eGD75uyLxc1d0zBbtIx8XxROs2jiI3oMesuNemm3Mpi4qBVpsgQfQU5o3Wvy4vDvMV34PvifirBgXdOMzf6Jjn2GOBSbjusS+G7lh70PaiMdzrEt4vRVl6JKsYncSk3GjGL5LmuiRw/JrJXfA4mGu10m8o+8xlqdeUnOpWNBjq4ZrEeF567ZREaNHh5VZ6TfdQ7NFojJJRy7XQn3FcT/ksFf9qpkh8CWJl12wJf8ASqd76LB6uZUObxE2OjFxrg9w/P4cuFrvvGEixOOqWl6spyenmENTrycpjUkpQGCgo16wA674coXGYFmX/FTEJvWOxdRwnhkgWReD69eyqxPmY5KXLRw1uLzaxcBc2ghWsZVtLg7S2HrSee76wXg66cccHMGVvGFTGgTDrDmYeWJC0+0cMxBwE4gu+Kz3bReUvu8W9MT0TsXgQicbg6YTozFXqnPmbNpPM68oyd7oxk8v/cwxVDai24p70TdXPwL4jnHXuqT7hh7zRj0Kz28lThVa20xZXUyNvFxPCPBxc+FKY6r3VPL+3Nsr5KnLVa2kVQ6jrylKXq5oxUccx/hqNi/DE5dUrFSHGisrLxmzqOQ1C3tIjLElHLtdGfcCvxf8skfTK+4Ffn5ZI+md5ZRnL4ibHRi43weYYncJ4ea7Z6LBiROOaIvFvUtJydcushWGcLlUukoQLsgHMRHgQZuWiQJiEkaXdaYkOJmVltMiiA6sxRwDXZPM0xcE13DGb/Jo34PzW3Tr+9OBXGN3xG4u7u7F6Uu9R6T6yl0ryHNC6nF15W8Xk9uDzE8NtHxPN1eQba7+B/F8862fFMaCtP4SNlVT07xr07Qmdm1VHL4ybMbWLqHDXAFBlIixb/nEiU/tMH6x2pdt2yVzyayUhASXl4e6v/fpH0Kw946s6sqnq7EacYnVaUpJStl0bxhtW0fJed2yV7ycSRn5WDNS8Vc0OJ9uU+kAkoum8UfB/SPHaZw5OJDVm/vaZ3fJY4VH4GMaQGb/AMHjRF6UNlZT02FVqnajdTi4ZW0Xmm7eBXGU5EWyJdnc8Nv2yM60nbeAuB27cJxYd4z8VJ6eXZX9rU53VTvDq5jE7mcvUjbxi6cxVwG3riDEt5XtDvOUWHORuOVYmVlNX97tfHL8ayJ3vVzD2iRuJr0Yuo8F8DF64VxHJ3tFvOUiQ4DVMsPaO3rdCsRtD1HFOcpa76txjiprTUYlwjc+LpNZW+JVI1H4OIuWJC8TG2KYkZYtY5cnRF/fB2vGFFZ7kvGDMQ92HHyscRnuB7Gki2h7ljRF6UN1ZWPUlNXKFdvJYx2I3k4uvK1i8m/c4xXVR8SzdXkGykeBrGU9yXU8NelEek9Q8a/ScTW2sutjUr2bPhYumMOfB6eHEWPf88irtcTBzesdu3Rc0hcN3rI3XKpLy8PdXebtH1KtXTKVTrTqyqersU6cYgraYlvCWuycTYpNLijBlyYxluJviT45l/Bxlyuv8ZulysxfUajKUfRJRydB398HW8YbxIlx3nBmoO7DjZYnknGY/ArjiW5bnqXsurHqLZFpt6R2o3k4uvK1i81XXwE4ynIi90ScGThtvRIqnbvBrwWQ8BxY06888xNR4fFsq/gznGyCscVS4nP1clOjGK9k6y4SuCKbx5iCHesveMtLqsusGmJ1HZjNZyiqtOOFSUZb6OSVOMuTor73G8vz7KL5h9F3/B4vGRnJea+OpRuKjLEpp8DHdtQzmlcTl8uONGJvmbzSaRgpwuVO8UGgZgA94RQCpEzW1LZYpQbwBlME9Iy15yMxIzacZLzMNocRezapnA2Ojn+DfHriKl/y3F1fJ1I2zzH13R8HZrvvOVmpu+oMxLwoitEhqjZlsO5aaYYzk8RP03cXh4ryLqRaYarSq9EldrWBdOXQcDlPZIiw0iw2hxISRIb7StmVh1Zh9o2OuMVcBmGsQNEjyNd1zT/i/wAHV5J1renwesWSbM0jFlLwh9lqWPSK6CajmhdTi4JWtOTys3A7jRXotud/TWk2t2cAOMJ6IvHwpeTh7zM56Uqt6Y/Gb8bNnwkXW2EOAu4cPxIc1ebfGk0malvwasdk6lVbLMsNd1RhpsOvUqSlr3OxGMY8VVZfKOO45wTduOrq7hvD5OMlTQJldqE3uN+1mUNZmMpR7oko5dsnmO+uBDFt1TLQ4Esl4QW/BxIL7XlKbfCXAJfN4R4ce/KLvlVapodVURuyehFy5rGpHptbl+2ydqV5OUdnXjbRfPdt2yl0SMGQkICQZeAtKqvlH0Kw1zRPO/WJ2VOo7IqGvgGq2LUPeIJVc3aGHqgAeSC6A5wbwAajEeELjxZAaDfEikZqcsZcsRf4zqi+vg2q0RnuS+qc2WHMJ+sd3NVToBjnhXnD01cUqMZPNsf4PuL4TUp3JGq3lczyfwdsUR4i91TUjKr0meo9F6Sdo5fG1XH4WLqzDXwfrjuyNDj3xMveURW/B7MM7OkpaXkZaHKykCDLy6Llhw0M+qqoPJOvOpKpyc0acY8VaQqppt6ICZjjbdc3rwG4Zvm85q8pmZnljTURo0RVfLVafL975hL8pvH0lOzwbrOaNef7cXRi4ThPgmw/gy+Yd73bFm2mIatDXjHy5l0HNlpYFtHvHHKUperkjHFLaWbUuUPZGyi8ZlXD8T8FOFcWROOm5DuWY/HSmVmOBz3wbFaK1sjf/wAnurEhZvSO61JOeFxOPpq4pUYydEJ8G282iaIl9S6r2TfXR8HC5JSKsS9L1mJzpQ1WlTtnQPMaldVZfLMbem11x4cufDMt3Pc8jBl13m/bG8dpsVJqK1HBk5wavEWHLqxVJrI3xK90S6xOMVa6c1hswEZYpKOThf3HsDr+4v8AxS/uRYHVddxf8U5iBrqy/Z04vmuy7ZS5pGDIyELiZWEtMOH0T6qiVGRWrvzDVzYl4my+LuScWBU0Ord08prvuZ4KX/N2X9NjkeptYrS9SSdOLjv3OcG82HZT1jkUKHDgQocGCtMOGtKqu6tglZVHpMylKXq1ipjV3nhq5L6jrHvK7JacjKtKtETNSbJtPMxGsZI0y4Hwsuay4JH0C+87DUNlth3BIqyttUG30hoNdSSYq/VEwEscakRHhQ5mE0GPCSNDbaWIlSlitERxW9eC3Bl7tXMXKkNv4O/FmmbgJwa0SuyFNqvRrOwhZTl68/2nRi4hdvBJgq7tdlz90ROlGdm/mOUycpK3fA4iSlYMrB6MNKTOIkqkpepGnGIJGBFFR8/c0BdiVll/2SmbeCmrkAni4f4iW/RKC6F5FRfJRV/6DFqJkBmFvAKkoavb2PQUfG2/ZFIEXIWz2sKokdRBFVqs2jKNYsTpOJhFGTjYlP4VyGa1tduYlcrdkYATTU2kYBsmIbLylsSwYSAABLZQHlJ8QA3hCq0AAA2hABLBrYBb2k0AQ94WoAAKrCQAGAG2gAmnwlABOgW6UxLMAtkTAKrwgHGOvIzj412y2sLaIKgABdQUwFUAEtsktpKYkCQqddVjDZhAOI1rcrGLZMu9rMbAMliiQJJYshiiSSxMBLElCYCBFsQBAjIQAiWKEymhADEwRDaOQkyEMoCFSMAJEUyiKJJYsjmAQDYQH00lVEqUpAx7ohmRWyMBqAUlU85Ja+C0AGAAVoKUnSUoAUrElAMYlWzmGBSgPdAB9RRJSgMaiUYFDEPUAAuyALshAAwAKcpSgMALXw2ks3gK1UgMAUAHqK0kFgSWpBZFFVlQxUjAoNoSjUCn5Ti/CXA4/A99Jav+Ssxyi3lNTi5O6cNXpDpqqlXX1TUeTjrcdXkyCqsq6OiplhrUymOAtMFTIiWnr79rzHfvARFquK8oNu66t7R2WdT8AUemBekK3oq3rHa7PYqnkVOT06fEtkYlexm6I9BhyAbZRdQa1YBqLa1Au0wLm1gPe2SgpCkBL4d4pRDUB02cw+sWrZKqXZAAUAAN7QNfCAGVU26SPaHlATZRrmGKrwAUPMTVzDACtWySUq2K2mkB02BvaQAICauYdQ+sgN7SFQwABiba0j3tAFqohbIM1mXQFHUGyG8MwJ2htlHoHUALsj2RbPKLKBRQl6hgMABQGAhgLTaMQwKAkAKAAABq3MLZHqZdIAADAKSgFugMlR1ZRABVXrCXRUMBqLeGo/EBO0VtCX1hgUHlEj1AIfjEIBiHrZRAMBBugMPt6wBqUBM1KrbbvfVG329UVWX7dEOr7bQBtaymy/bsh9vaFtKBVWbQFVWoTeAagDDqsbWJtA1AWoe8LmFvecA6g1htA20AqfCPZDokNopAqqnKKoxlKwGSobfb0jGrfbzSqs20AtlR0209IQANvCG8IKgK5iRNlYKgDaBtABtADE7wwbwASPaDaGBKgAMAAAeqAAIPGAxMChqAgoAACQYoCQAAFrAYgEJhsSAMIbCAAGAAT1jJqqANoXiKJAQU84xMbECGAAGYbdRID8ZHWUIAJ0lC2QJAbCKAPGMNQEsSNtkNQEM1IDZqRbQCbZEDMACAeUQCAYjQkGKJAQDYmoAVSSiQAGAACoTDbQuu0NrkAja5RMDNSxIBqZQAkoreJKJABDBgIpGLxibKAE0lMSwE7IAPdAhmsAdIgAllLJbqKIbSTSVsjAxk0sWSwEiYrMKkCdBJW6SAEsUC5gMQvGWxJpEeIRVPOSAiGMhAEgV4iQAkbCKExLeEoXUBAAAH0gNWFtNpIMgCHoMihkGTd1APVzDEuyUoDBQAClKUlSgAa9YgApSiQAygJRgNaitkgpdKgUHsleIQAWIABSiVKCANZQAAyd7WMClKpsErDAYCGA1ACgDQCgNQoGoKBBQLtElVeACjHOSiTktGl4mVYsNobMvWZKuYpdChHWEPgCudVWz44mf0SlrwCXQrf4Ymf0SnZVVpRvqyY6UXGcGYAlMERZiJKz0aY4+HTTESk5NvKPaAxKTkjEqc2vaHVzh4toFzEBoAYvGAwXrAeUBhUKkOkA9TD2RDAKi6ecirmL7QAG7oCqxh6qQAfWSOoyGOkZOtm02MBQC8QwAYl2hgA107w9Y1ACSiQGoh6lHVzkDXaFSMADNUHkgoU5gpgwLo5bR07QCGuUPGMwAak6xgLe1r6JdIDXZAW7qHVlzCK8YAoxBrAYACgAbQDACiaigAAAAGLUowAYAAMHXYHSKAADxgBNPhKpFSVq5wEo90FUNoAAQUgPdAGYAKVbF1i6yd4YBq52BlzCCoBiYa+EN0A3tO0CtUpWonZAN1g3vt0iulYNdFS6ekBOzr+2yLZKpy/bokr4AGPo2E7OvolLpYBMUuZQ1A2VQFvahquYGHvAJcv27I/EKr7eaHOAMQ329EyGJmt5QF1BvDHvKAqaVG2jMoKuVh7OsCddRQm9oN0AFUG6MAYW7pK6hAIA3dA94A3QpqDdF4wABiAlqgGwmABaBi2gAYAAgGJlAFWxVAQKAElEgJgGKrwAGyoAACJKbrACQAMoB1gAARsjKJACPKK3RAIBkmwUkliq8AE7QhgBOYZWollAlhjEAmJGBQhNpKEAm2QXKLxiATrskxGsRdLtSpTCWkAJCmnWGYAYW6PxBTbyWgLUIYjQX6wmKJYCaR0+EBgKklso6gAhWGzdEeUQCZahVWqpVJDeACWzMAAAusKag6gKJHrCmykF6wFsgwbIdQEk7JZNSgLaExZAEBSVSGyEQwqR0sCr4QpZhN1FkNpKiCSxBUAOnwCAgGKEwRLED3hUgKrnABASxFRkYk0I8YMAAIgsioBEttFAwCJKJq5igEOkTAQ20IYt7UB9AwKIGu1qMhjLAYABkUo9kW8IDIAhgUpRKlKAABQANRFAUMQwGNWpEPa5QKUYqRqAKUMQApSiAIsSi8ajUCgAABVLJLAA1h5QAMN4NZSgChtDDXzgOoAps5wIGoilWwKvAAZegVzEjAe0USUFAUjJ3SB1D1k1ZtFpWyA6g6gAAVquUoldCsUAdYBUMAAGGoC1DUfWJfBYZFagH1gALmBVAa+AB5hgLMAZh1cwxUgGUoQ1AfXYPZDZGAUk028lpQMQIVJYgAKRhvAKnMPpACtU2ixQHqXX0gpy6ilYPZMKCdVRQwELdK3QAAAAGo6fCLZGAx6yYcVIqtbDaqlqW8oeoB0gAAAAAAUSUAw2QGAtAwAApH41GACpyjFxacYsTPUuUqmwBCzBrq0FeyAtlgXLTvACgG6NRkgMBbKjAWplHvCK6wDrJHVZyFNtAKmxhbXIWykbICpq1l9Qb2gQE7Iw2RgDfb0gXd+3SHVmp+20Qz2LTZ0sqgOq2n7dEYUiqzaGArrHshqBevZAOyFIydNoDaqoF9oGbNoFVzgPd0WiZQamnzf1RAUuUxtSWzeqY90BhssDboeIAXZGGunUFIFVVCKBqaQIptUNrX5w1WxV0WC3QEtQ1ysAdIBboApXUAieorXmEAm2dYZgqKUBE6+cqnwgBNIAHiAN3WAeINkAbKSMAEAwYBElkUgDKIbCAZJQgEJhgBIimDqAQZgEAAMQECLJ6gAQ90DYkA3gpAVQsxVImAkbUiHUoEsAxATu6AAAAW8MkoGF1D2iQFtCYYABLLSFNixK95lpqGBOUCiQEwbQwNCaidRRIBSFJRNQC1CbTujACMw6RkgAm0VDADHqAKheUAvGA28IbJQqSSxaghMKkrUJlsVgJJYtiaQqQHSMIx5qgKYmoAI18hZIEsJimYirNoKEQZNoTLUBBJVItoBC8YyWAlifGWLQBAmXmKJAWokslsxoIhlsLJakCSacxTCAhhDYTAJlqEAMUAhiY5AtohTJq5yGAzjVbOcReycQC1qEqlgLXvDGw9VJkC+C0fUAAPaGHWUEBSiGoU1y9oYlGAeMyKthGyOoCwXRvAWAqRgOoALJBQKBSSlAYKAwigEpQCXZGKooBFqSUA+yAAoApbC2RgSWuySql7wCqGrB4gVSBqw+sAAOofWJRqoD2i1ENQpDDQMgxREtq0o1LGbrJGADqyi3QbSytRtbtWyAbw6rCYXGcUvHUcZvU7JfUAUhs6xg3UADUS7QwH1CUCtXJYZBrGC9YbwBSPxAHUA+saiUdNrAFRXULqtKXqAkqnwAw6gAB+LMABsjEo1IDdAA6wDUFI1WpdZQEUjpp1AumpSlASraUC6B0mFIN4MoeICd4reKJAB6l1jpEy2Mui3MoArWNrsYoF0cgASkNIa6EWmpqmp6VpQbIwAQx6gJ2R7RW0PaAnWMCgF4wGAANRhrUBUjZQBmsXXblAAVrR7oLpAGUF0lVWVKMCKRjqzCABDABbQa2AFbwAPqEMAAbbQqhrmAVVuyJlyjqBgCmxgXKolYe1y/bKAm3vtulU7WkWzUUv29IAVCKbMttv2ymTeIbTSACp5ylbMwwJATDUBrtBTlDZXzRr4AI2W+3SKXwdkarzW/bMLdAbbPm/qg2yG0uj7bJLAImqnUXs8hIAPZ5CdrlKAaiVbaQUF9UCqrApyhvE7QFMpGzylbRID3QbwhVbSFQDFuj+3rAAmDZDdzAy2ALxhugG7rAG2tIAACYRVIASOkYATTSAAAUiGLeABMG7oGBAi2IqAe0AhgIQ9QtQAJitQgJbaBVAAATZuUrqI3QDQLa1j8YtRsJlEow3gFSIoVIE9QKUICALJbKBNQAugYEBvaCyWAQhj6rSiAGFOYCBFsSBLAMWUBboivGAEgUSaCIMgqVARLKVUS2kBAwU2Ny7oqgAkB9QBqXXYJgFUAMpLKMAJAonVzlEsFQMtrLqEq0rtZghC18xbEgIAAAEAmpAWyIGWzlDaARJXOBRNJDFsT4wJEWTvASxJbEASSUwmAkTFMRqAQm8JZLAQxJZLGgiW6yiagJ2RFMSAmUikqoGAkTDp5xZShMJhsJtAEBqKDVznIMtRarmJKOIUWTlDVzAUMKQMh7I1JGrBFqOnKSpkUB0jURQVJQDAAHl5xKBVPMZFUhSlbLpAoYhqA9oAAAKJK1gMYtkpQhgMAABKNcrVAUulRtsklaLQHUAKPeApRqohrsgMKQAgBqIoA6gVQ1DAGUKaV0F1ZcxIApdNJClqwUBq5A2gIDe0jDqAB1CH1BTmAfjAMw93ogDCFVbzlKoBslboqisvMBJSgowDxgAzIQ9IbJQCbwDq5gBlzbgFD3gqsGAqah9VgeMoA3hMMAFsjpzAuYCCtAElALdDWuofUU3hAhd20qm2kahtMQG0A6soiqdOUKR6gMAptpGAMAh0iH4gBVGJdksCdQAABSUAATSUAAAwGoABQlbKAlpH4wps5x1AJQiQ7IqUOtSttKw6igEAx1WUgQ3gJppGzDq5wFlXkGubUSNWpAsAUrnAimwpVGG0BNItotlD7esAqecXWUtNIcwC0Wg219ukUAGNRlauUG3gBqagXTlGublFUAbvaBg5h1VZQFSAagAxsubSWuYlgVswFLyeaMAZrFbQAfW/WBVHVz/AG2hK3hNITfb0RsG79uiGuprd0yqaSWXKZN5SGaoCfGNl5wZbB6gDXyWBTbz7oU2L5xeoCeobK1OoTbWkTN4AAGUvaJ2QEq84FVZiagAptPKSxW8BIDDaAKRDqDaAkAZQAW0IoN7SBIFABIDyiygDbOkNnlHlFlAmmnUPdGAEkajJuhvaQIpDWUxOoA1gAeUAhbwwAmlQzMo2a3mDZAVIqbaiqhMBNI2AFNhUi0DZgpq7IEaLBeaXpJAliTJUTSAm6hFEgGtRANQJAMowIpsbVaJl5jIBRGgKcuofiGBibaEWQwAJlpAGAQBtCygDCHVYM0JDaCoS7QRLZRDZrGYlgFUJh6xMFIAAAJbwFVABIaAGAiaSg0lEtl5Sd4pmFvaghMKkoWoCd3WIbCATaSSxASSX4xASJtIwKI1i3tBbZSGzawJExZIEsS2yWJgIEUykgSSWzEASLyhiY0EwqRi1AQAMAECKEAiSmyibKBAABRImLJpsXkAxhVYvKU2yGqo5BmLEoziD8RSi6wUChiLVQgVahqoN1CqMilKUldksBlKSpShTYSrSMADaYdNigUoDRStSiXKADUpSVLAAAoAGIagAwKCFSJc2u0pRgJVL1go1UApGMa6AEpROzyFKAD2eQFHtAC6Q17wL4AIApdkVIwAdPgAYFE7OoKQhxEiM1ljVMm12QKHoEV12gJQ3hDIpqo6aQUYCXQw94S+EfiAB05QAINXONRauYYU9ldA9oNQKADYFAyBQ6h7QdYACqVlCqnWAKPZ1DpBQGqlGNd2wydkBUj1j3QABMOkeyAlGu0NRkE7o94oQAOkdIdGwBBSOkQAOq2oF6ytXpAKnwAMFUwpDGKoAAB7ICHzB5JQElLoDrABaxsMAEuikesBgFJQlYYAJVGADEvhDdGygKnzitltoWywAVukNpqGzUiygY4kVIbQ0dszNSq9Ivd1kvChxHhxHX5RM0NvGWABDWptADUC6SStkAAdIqsusdQCJKEuyA2X7eaNuoNkagIKaRK1vOG7oNIOYey2jpCppGrGVC5eQFXLrBWCrmATLuj1DZrfSFtcoCAqrattFqzGkSyk02tybRl0iX7eiZUboqsxTLl+3RF4zSDWrafttCWph1ZtX2zCUA+r+qDKG79uiPrMqFWwx6qtFjJUu0ZVPnaW+X45GpZtrtAXTl1gy2ltmHrqAnxhqbUUxGyBVVrMLeFq2h9YAq2qomKqE3hAVIUj3g6IE6gZecdWVRswBvAy8wmzKPXygSy89gN4CqrKfKIVbeQA3gUbC2WAADqDKAAAABNI6gqAW9oClhsMCcwC3h+MAbwE0lVc4NpVdW0BLE02mTd1kgBLaSvGAEiAAFSAwNiaVEOJTy2tSFRgJlqXWAAbE5hlN4SQESUS2bWBO9oGOoTAJsvKKkryhMBjYYuoF0MukoY94BEAA8oiid4N4olgJ1CKbZJYBeMVNigIIKbW5BFroJpsARJQqbDQTCGDZVYDGJvCOoVQCFsjFV4ApZgHtcogEAxAMQDqAQsoyWakoTCHVUHWESBWySBNIhj6wJEDNSMBElEsUIKQEBLEtSUxIC2hbw2EAtBDFsQwCqEw9nlJZuYBbRLLzF7ImzAToJYpiWymhPUJhibZAkTDE2jlATEjZgAXUTulCAikRRJQmJGwgDdI2i2zCOQZixDOJFiVrG2RL4ClAtRkgBQ6amEMCtRamNS1MhlKYYumnTYCvavKBnDe0gMKrVSHWHjABrpqKUVI1AYxLSUoDXSwwUNNgDpGIagBQCUIoAKUAXaGAAUOm0lmGBRK7RRNWYC1GJWGA1EOoKqeUgdJRhZrC1awC+cOcAArqFq5bN4a6GbSJVpUCg1KCgvhAG08oaAZqWGuyRR1FNsiVeYYD1M2oYiqucIP1RiXw2jAhi6cpOyWoUqbQGHiANFo22SSjIdOUN4Yt7QA6SqRABVQh0lALd0jXwACgVT4BUlDASjJbRmKXZABk9ZRA6VBlEvWPd1gC7OkfiH1WCAVI6QXKzDUBDUG2g6gEOnnGUQQAxt4TKlSBQt4B0gMADQGgNkVQDCnmHtAAAAAHUOke8ACXa1lUiKATAAAFIAAA2YnZ12jDqAKRL1j11ahVAJespQXrLXZAdVoM20AwF5IKMX29UACkKhrmb7dIA6vttAJdkDSAGDXmHTmANrWC5g8Q93SANo5AppDdBmMqVNWqwFLJ6VoCZbV5A3imYna84AXqFtM1n22Q15aSvt6oDYlv1v1htvecH29Y0hL9vSFsjCmxvRX2QF1fbZK6ROXn+2Urd0eUZUBoAVQCbZFVTrDd0E7oDqK5jGFVtQFVD1tqJLAOYkrdW0NeUAZRMtLDBlAVNPKFOUe99ukHMBJWoF0ksA6fACqIrsgJlJ1D+qTDWlNADFtFdYt0Cd4NkYZTYlvCPZCmwOowGLdGLxmwMIoXiAVPMBRJgDCHmDZAWyKkfjABNlYim3jOzSWSBI9QxUgTTVyhTSUwNsmwtQU2qANm1gTTlJ1qUIApCkGJZgGSPUwwIpbZFulNtaLQAxj2R0gBNI2UFyj2SifGIrqsFtAIinNpMjLmJAhhbRXjACNZJZIQhF6ucXjAmmrlFSUxOY0DrEDC0gQy0qT1GSojWAhZimF1WgSIYBRSFI94RQgGIBAMAJpzaRFMSEIBiAQqahAA2UjaL2uUhigJYGFVUACYfiADGwmGwmACSiWATEbRbaBMBOolhsDMBLCyjqEwEsQZGIY0J1iZSiADdEMnxAJlJLICATDAKgkYig3SSiQES3hL6yWOQfQuyMQ1ONDpUpVtpJKqIK8QCVSlAY1EowHUZFbKY1UqmkCg4pOW0AAuoOsSlGRRKgUFUNRKUAFKSUoFqQVrGADEAQxr6JLNxatbTUVDauGr7NXSAoYCAseyINYDGohrmAesai3RKBY1zB4xqQFNQMtpWyAEcVVTmKVKVGHjAB0gPeAdOYqnwiBQHSC+ETtxaNb0SYEzZHSuxQKZc3qlKq8toN6w+sBbNNgxMtXlFbxFVT4RD6yW8ARe1ltDqsJVrA2QH1jAStlCnu6B05dAuiMBr4R+IS9Y+vogUIWUOsyGvgK2iFLVc2oAUoXWKqxmWzpAUPaGublDWAFALeAqkKQYZAhqBQEj6xFAC6WXSMAUACkAAahzgvUUAUhSJsvnDIGoABlRoAndLAAAFAWgBsC5gGoqaSgAVIKIoAATFU5gH1iXTvAMBDFtDATesTujZbAAA18hLaVZbCgFugowUBbRajVcw+0AxKC7IAA2FrqYreAVNWr7bQKNfCLd+3RAKcv26IalGwjSDeCmopdoYE9ENkN32QbaMqbUhvCCqrX0QGomzKNhAGqrWChVU2se6Aqcv26I+l2fqi6X23Rtlqs+26ARNpvOF9vWKba9L2id77dIBUgm79t0YLl+3ZAVOUra1C+3qlGkS2UmnMW21rJXaMqVOUgyENlYCQXaKpHqXlANHkDXS3KNmsFVlNIPt6w1+qTq2fttD3dQBzDDohugDaBU0hVtKDbRlQJtI1YWsBr4Q8knaK1gSOnKNvALUAMvOS2YrVzEgLrDeDd0BsgCr4QHULeAG2gGrcwjYKRUjYMwCYFDdDrMBAxRLAJgXKMlgAKRahgAt4YATSIsjWxsKqkACrnAkFUeywlYAba7QqVCobMBFNii02FiAnVUG0UxICCkFakYCAAKIAoAJYlgZqWBlAlgEFWUIGILIqABahrl1AAmJYpiWNBbRI9IgJDUAagJpAAAkdIhsAgBhFDAQATtcgxgFIkApABDEEJlAKgATeAhiiGKBifEMGAWrnAVOYOYCGUQ2EAtknxlksAhDJ3gGY2MhDAQTT4CidkBsTSpQmNCBADbIEgwCZgESUAEUiYyENlAhiSmJKAWUbCYCSGLIY5B9Qxe0BxorqGqiUogrdARSsA6RqAAUqlE7RQDUBFVAMokYFqFNlQAFUNRFbpkGUtdJKsC7QFgDAEHklbpI6vCAdZarlAW8BRSiyhsgBRNRSgPslVUkVFLpAC1EC7WgClLVSFUqogbbQbQusasA9YeSGptVgNm84AHujXTyAA90KvAOnKLQBijtSuocCHSum37KWy1cpSrTq+3gAoXjCoply6ApVc4ycvmlbpA9rUQzUjbTyfbwD2uX7c4Qx7pOsGbmAlmfjNnLvGVadokvVSBOspfCLtDXwADDUeyGYKoW6Al8IDUoOopTIFXwDWHYoGmm8Y4fu+biSsze0GHMQmpiQ6HZl+awDdFaDj/f3hv88Qf0T+4O/vDf54g/on9wxHIA6jQd/eG/zxB/RP7h9/eG/zxB/RRfcMRyCmwDj/AH94b/OsH9E/uDv8w3+dU/RP7hiOQAaBceYb/OyfoovuK7/MNfnZP0UX3DEb5WqbRYPeND3+Yc5fjNP0T+4Xf5hz86J+if3DEb9R7xoG4QcMIrO97JDp2maE6/8AYO/3DTKttl7IytvcU/uGI34Gh7+8N/nNP0T+4O/zDnL8Zp9Hi+4Yjfh5RoO/3DS/umn6KL7g7/cN1a7z/wCXi+4YjkNINoOPd/uG21/Gf/Ci+4a47w3T/hP/AJd/cZxHIQOP9/mG/wA5/wDLv7h9/mG+a8/+Xf3DEcgEcf7/AHDX5z/5d/cX3+4b/Of/AC7+4Yq32yUai7MVXHfM53FI3ikaap4zi6GVmWzx2WG2YoSqOkKgqMBgAAAAJQBdJf6pIwCkF0nyXrfEhcsssxeM0kvDZqVZqtro6jWd/wBhv85p+if3GxvtpdK7IGhbHmG/zn/wn9wJj/DebTeNNP8AonzfzAb6nwgcffhBw2raLLxq/k7+4heEHDqtnnvRhP7gORgxoO/3DfNef/Cf3D7+8Ncll5/8J/cBvivEcf7/AHDX5z/5eL7gXHuG6v8ACf8Ay8X3AchVag5jj/f/AIb/ADn/AMu/uDv9w5+c/wDl4vuA5AwbRx2Hwh4Wi1cXeyRKWpamE7U/zFd/+G/zj/y8X3Ach2hrunHVx5h384/8u/uBce4cX90X+jxfcEch1/byQY493/4c/Ln+jxfcPv8AcOM2uef6LF9wHIW3ijjnf/h78uf6LF9wd/uH/wAujfRYvuJiOQ9YHHmx5h+n+/I30WL7iu/vD/5ZM/RYvuGI5BTl0CNB3+4f5pqZ+ixfcVLY4uCZnJeVScjLEjxOLh8ZLvDVm6NVtmgYq31PMIbeAWukIG2tQaqisxK7WkyoXaUS5vt2QXwguX7dk0hMtS/bol021afKJbqG295xlTbTvfbMFP284Kft5wqtnzfaANkKft5oLs+iG79uiAU1DbqFujXQzNmpAVNS6SV2cpe8S2XkATNSuklc2spmpBfBtAKnmFtFK1oVWcwC6h0jpCo0g4tM1oNTu/bMDNlYfUAl3Rax72j7bQagE2ZRNp3SlzAy2UmVLZbQDdQMDNSAKDBtDUBBrBtnMSA97T0SVYptkmmmrS1VQCAYusA84GXnsGDMAqWAbN4RAAMLKaPF173jdkK74F19z91T82susSMlSwtK6aqTY3tIGha7sYLVZbft0ebJN7yfi3F374ru+gExG/qFvHH/AIsxW3LiSRXyZBQ+KMU8+KZb6AgxG/8AEM498UYm58Vp5sggfEuI2/zudf5EgxG/qFVtWmh+I8RLy4wjU9mVQPiG/wD9+E39FQYje1UlVZTj/e/ffLbjC8fNl09wd717c+ML0/RJ7hiN8zBqND3tXk3+eF8+gnuBcLzzcuML59Vf+wxG92Q3TRd6c1y24rvz9KvuNRHuWe77IN1WYpvzuXuJ5mJ8qtVVjrZZr0douI5n5oqW6Jx/vQfnxJf7fyj+grvQsblxFf8A9KGI31LdBxcW/LS/oGgbBkDnv2/G/lTC7y5VuW+L8b+WsXEcg4t+ZX9AOKfoP6Bx7vHkee876b+WsLvHutuWcvpv5a47RyLi36L+gLi3p2X9A493i3T+Pvdv5e4u8S5Odr0+muMYjkDQn6D+gFNvMr+gcebAVwc/xi38tf3k94WH6tcKb+lP7x2jkVNq7r+gKnwmg7wMPfk0z9Kf3k94WHOeRjfSH95ryHIA2uQ4+2AMN893P9If3nz4MkYN3XriaUlFeHLwptFhrWzU5F8PWByZhD3SfGZENl84ReUQRIm0hVUPsgSAitXMBLEsUxDbRoTtAo2ACKecRdRIEgNhASBRIB4xD2ieoBgAFBUTtcoxhSYnUVoJCAkYAIkoNQEE0lC2SiRFMLeAXjEAAJlykFMSwEsoixUgSIYqgIEAATSIpmpFV4QJYgyEMaCp8Ig2iQGxDDEwAAEgUYmUslgJEylVeElmKJYQ22hATSSxkYxMxyD6S9ogo40MpVp5SVYsgKailBdke8A6hiUfOA1LIKApQEVVlAa5RrlFUOqkBlArVaxgBVNIvGUZUUjpqEFQFFAoBAo/EJWpGA6aSiV2QAsCah1AMY1H1gGyUrEqxSgUC5RgoDHUJRq3hAevmHSMeogmkrUMAJYvUJdkW6BQDqFpAdJSrlJ2h1AFIwqs5B1c4Cp5g2dYBVUQAALaUBjXRyE9Y18O8BVNTaS9pSFL2QAKrNkTNlCF095gKKEuyGyFCjUY+oCVWmrtGSklSl01GReo49hiGnx5ihLYSMyzaRFZkXnRTkCmguNuLxdiSHut3PE9XQaG+4tPxUL0FDi0/FQvQUsZkQsJOeFB9FRrDs/FQfQUoeunSBFFlP4KD6Chxdn4pPQUveGoErDs6Kego1h/6JPQUfjGrWMAlWxm/BJ6Cjos/FJ6CjVgZrQNRi6Ej4VvZLYSVdzPueA+u5aIlx3e9KZpdNxeiRfy2xbjvBLd6Wi+yxjwq/GYXul/4MnsgbLQvQT0FGy2dFPQUB1EE0L0U9FR02U60T0FAyATRTup6CjoXop6ClCAOLs51T0FDi7OinoKMoCWWzop6AUWc6p6BQAcavdbFx3h17FRaoMwuXLunI20qxx6/wBqcWYXfpRo6/OpyK3eJJQuyMBKZDFSFVPKDALqsHrUYAAZhqFQHG8arZ/4G7bt5wv1rDlMVbGiN8knoKcWx01MjdcToXnL+0cofbY2iabKtlPQEy2dFPQKCog+JYaQmZLVRW3cm0P5PnVPQPrbQy6LcymLuaCrabF80yqZVrHhNbbCSmrLkM6pZ+KT0CF0LlsK1NqqNIFWzop6BVC9FPQUa6OQZlU0r0U9BRqtlWmxU9BRtoBW5zSONYOWxZ7EiWKmW9XbY8JySmzop6CnG8K6VvbEyfw+r1Dko0XUqealPQDpaFT0Bh1fbaCCqzmVPQHtdD0BK2yC7ICqbsegNdPY9AezygwBV5A6m7HoCqsVdYVMUVV5BxjHTfsW6dO7ecD9Y5JvHG8e/wCD7vezdvOASI5Q+ituySOJo4xvKFVYzaCgJHVZlF4yApqXUL7eqNu19soM1Kt5xlSbQ1XnDpp1/baE2Vvt0h9f22gHvfbpD3vRAlfqgFNuUGXw/bKCtZ9vJDVT9uiANlUOoTZgbTygOnaGu7p3gqqYkAdechcyltsiUBhT4BjVqdYCValEumn7dEa+DpbQbun7bIC3Q3tIaqft0QqygAbLfbpA2XUP7esAqtmwNodX284NQCbNyhSFVlIabQDxCDtBsgAMTUPVzgIbZSagAG61FslbXKJjYQUhugAm08yjANowBsuq04zi3PeuGU6V41fMpybWxxrFH+MOF0/hrN8ym4jkzZhU2cwxqRCpzE0jXe6QaqjKlSJvCVVUJlsbVbsgSuZQGq2KuiwTbIAKkNkqo2JpJLEBBx5c3CI3Yuj/AKupyJtrSaCWWrhBvC3o3VC/nilG+JZfAuyUrVDq5yIhfCFI6vCHWFTT4R7I28BOYAYkptnUY2YqH4h6BL1hsqAqRMWSzAScewnmvPE0TpXmy/Mq2HIqbalOO4M0PDvyP071jmlb4AAyJpEUSEDKYy9NhAALVzDFUAvGSxTMBoQAxVVAQAMACbaCkrTYSAhMUTmAQAFQCCkVVQygCkCWYBbwAAEg1Lah+cIB1EsMlqgDrELrGUTSIqkW6BNQh7wgIYliyQAkokBEFkMAVEtoUYmAlid0oTGgvGSNswm0UgTvEliYCSWKEBLCG3gEAqRDDxgSykjpAohlqGFSk1KEJtkxspkYg2PoKJUNowKUrdJKViClGIpQKpGJRgMpSSgGUpG0UBQANQGuUveI8ksBhSBRkAKobIKBdObSOogdQD6ylFUPaAYB4g8YFDIHVbyAUXSQUvgArmKXZ0i2ilABqIa7ICWotfVEPaAvtAugVQ6aeQCmJppXQUujlDXzkAFIB1gPxjUShVm1gVTZzhq5QqyiqAarzDpUAqtUA8YUj2iesgYlDaUW8BQlCnwBVzAUuksW6S0S2nUFP6xk0Ea2ZSlYCusFy6hhVUAwH4gbRvAClUiUra1AI0V3aIeOr2T8bIQG+ZmsN8aCF8lwhRP9Ldn/AEf+sByBSieooyAasLQOnmAG0KOnnJpsblUqnm2QAB1DViBgLxFAYJ6FxknMJ0oLr6pqcDxOMwhdNvRg0/MbuJnhslm8cfwFpbCEjZ0WdfmYDkSrUFIK1pVQEqUGyJswFB1i02j0kDAQbRlVkgHiA47ijLfmGYn8NZfnQ5G+0ccxi1Mzh+J0bzT+dTkjfhGNid0NnUDLYG9qMCgJXTy2jpAYa6RU5h5QArrJADjmPtPxLBtt3Z2Vb11OURfwjaTjPCB/izEt6ExBb5oqnJn0VaezUbT4QxCx4bNRvLlMlXNaYWlrGiaastRBmppGqgozKpVQpsqK1BqiACrz9IfjBQAN7QJsq6Oz+qOqkTeADjeGf8YcVJ0Z1G9RTkvi+2Y43h7LizFXajQG+dFOR6bDUkNVqBVtCrLpAA+3qhugwVUtos6QDbeDaECtSoC8ZZKtzDqpAmG1sRFtdaeyccx/luaVt6N4y/tHJd041j/LcMG3oz8r7YiOTRfwreUAnb5XzgqUoXUJu19sowbeykA28Nt7zias2nygq+3nGVOlft5Q+v7bRKtm0fbaKX7ekALu+aCrV6ok3fNBN3zQFu6ftsj+3qgzbP23Q3tP22QBl8IDqy7Iqtqw0gpzBqYevyRMZVG8PUSFQF0j18xNQ2iKrbIDZQXdsDVy/baAAFTV9uyPQJdn7dEAZht4RecJmtzWWbwDYZDMFebQBW0KnwAwVU8gAAl2R7S6lAXVYwhBVlAreJDV5wMAKGrnAAFmDqEo90A2QE2Zhmwt3UcbxGtWKsKp/CIreqclbKcavzNjXC6dqO3qkiOS01DEGpQh7Ou0G2dIahZTKhVA+CJf10peq3Q95yi3k+zKV/KfMffS3RNiRMYWvGUh3nDup5pFnosPjoct+2Mlm8fJiDEdzYXgQ5i/Lxg3fDitxcNo1WZvmA2O6FOXSpxBuF/ACtotxXd3m1e42eHscYbxZHjS9x3xBvCJAVYkRYatlW3Vz2WDGQ3jZdYqSasusesCejYaC79ETHV+N0ZKVX1mtOQNl107Jx+6M2McRW9GHKw/bKN/q2g2eQW0GraIAWYdVJwzFHC/hLCF7xLqvSam+7EVWZYMvxirpKOZZg2jrVfhC4AZtFs5PQ6t5pXL/wBTsG7LzkL5u6HeV2zkGak4q1LGXZGI+hiNo+GFf8lFxBMXHZX3ZLS6zMSpPk1RuTWafHXCRcXB93H8bd0xO7KmhrLpVls3gjklVrFU08p1f98Vg9v8hvxv5OvvOYYJxxd2PLvmJ664E3BgwInEssylLVU8xdhv9rUIbNzgQCba+UcbwJmuieidO8ZhvXY5JDbOpxvg+0NhlYnTmY7fO7GmouQ6yGKqUKjKIzC80fiFpCJYkoWsKmqwVKlCCESVUKo0FUxI20EAFIAACAAqACCmJABDEAAAFAIAAkpQABN1EsoxASxIxFC8QdQxMvOAEsPxiAGJYpuolgIEyl6iWzcoENsiLJAQmGwjQnUxIxGQmIbMW2bUQ2U0JUGKJAQmUYgE3WSNhAIkA1hCppEOoWyBLCpqGwmUolha2KI0mwNlUxN4CmJYD6iidoDAvWMRZAKUogAsaiUYDUolS97QBO8WA1ARYhr4eiAyyFHvAWUTmGpkMYvEMBqUpFJdIDBQABgAAA1EUBS6d4aiXeKVvCAy1I2RrpAdPgKVSdRQDGohrlAsQVDqygClEgQX1C2uQAAfnC8YxrlAPENfAJQ6wHqXMNdoTaB1AOkWYYiKS5eQfiUW8NQgAFYeoBiZbClytpqFtK1oVQ6hbQ1WrlCKp8IalJqqHVSFVVUCqKqzmHUBdJRKMVTVTYA6TQx8uP7vt6chHX5mW031Robz+Txrh9+nDmIfqqZHIFGRvDXKmgC6atYbxPiK2gEzWQ4bO+yi1N/EdS4J4bpnEGOPia8ZOWl7rmokWHITKoyszL4TlXC9iF8NcH16TEP++JmH3NB7TNqynCcV8Gk1dHAZcc/KQHh3xcTLeLNR8o2nlWo0O6Gh0tTbujpNRhHEcHF+F7tvyB/lUFeMXovZyqbZfD0TIYwEuioCt7QccwBUuHOL/FTcdfXY5GrU6zjmB8t33pDs3Lxjr6wHI6ag7IVW06wWnaIEq2LqPkv6ejXZcF5T8BUaNKyjxoats1KunMfYfJfkLum4b2g2b8lHX1GLEdQYV4QeGDGNzw73uXDN0TUnEZoaxNnXZ/GfY/C7jbBd5yacIWEkk7rnGWGs7KbrW/zeacc4EeGe4MC4HW571l70iTEOYaIrS8vxi029oOFLhbujhRlpHCN3Qo0jBmpuFEadvH5JYWjxm9v8axegIUWBMwoceA3GQYqrEVl3lt12GTQfNd8il2XdJyKNxiwJdIaxOloXaM1VJwIsa6aSeoamkcdxwtqyl0xuhecD+fUcmi/hW8o4xj/JccGJbuTsu3rnJorW8Y1hVSAdQGALlH0rQq9UYCqGKkYAV1EqHWaRx/hBX+5C8LbN2hvXU5CrVJDt6UNfZNBj1asGXt2YNXzMtpu5ZqpOXfpQU9kqsoUiGRFK1Ouw4Vwu42vHAWEPjm7YUtGjd0pBpjZlpY5nYx1f8JGHbE4K5i3oTcBvWLDTfXYk+SUxPw5zktBmZfClytBjw1iQ2r3bddnOcmwTefCbOX5xOMLgu6Ru1oLfLS+1Xzc5xy4fhFYUkbju2UjyN+cdAloUGJTJMy1WLo1McwwZwrXHj+cmJK64F4wY0tD4xu65fi1p7JZf+K5YTVm0Cq9Yqkyh72Yakg3s/VMq43ceXGOJPJlW9Q5IuVdf2ynG7qpXHGIk6UvLt6ug5IaQ2a2lgFqYFMqfX0vrHTd88I3CLPcJV7YRwpJ3XMdxrxi90JS1PjO5FbNqPPMbGkpgH4Q1+XnOyc9NQ4sDiaZROMdWtTTVScsE+zlvd3D8qtouW4PV952jdndrXZJveipDvBoKd0LD2eNp16DryB8InD8zHhwbLlxKrOyqrNJUrr/jOzIubk3sy/xqTXf5EjBgMh7Ouw4zwhNTh5dP5XK+2clq8BxfhC097jW27s3Lt64irkzNarafVE0TLrHE8H22SOq0qMjFKtlPpGBm8ALEtVjCszaKms+20C/b0iFi21a/tmKWJZlb7bRpAv29Ia7tXZFD3fNHsto8kyoXLT2qShLm9X2Rb2iz7ZQD7eqGzVoG329EkCt3SJt4KraWsKASrZVqFEGrZgqqYDHrGomXnKUBtZace4Qr5m8O4Rnr1kaFmJallq2do5CcP4Yf/Lu9e0q+0pzUI6SqRjJxXEsacpRZ8D8IF241lNEP9i3hDX5aUZ/Ws6SnKqdDaPttHj6Un48nMw5mUjvLzELNDiQ8rKd6cHfC7Av22Ddl+MkveTZVjbMOO36tp37z8dKl3w9HStfyMKvlq7Mq/VEo2yNr7PtE1HmvSQuakv7eqAv6pgDL4SuLpFtBVUukA1U6doVNQ/KFrNINVXZH5IcwwJp5hAzUrpEu6A6RMuYeraDxGVIGUYqmNIGXwAq+EVQVAFIbQN1DUBN4DjN7/wCPuG7OjBmGOTUnGbw0twg3H2ZSYYRHJlUYt4ADXzGGbnoN2Skaemmpl5aG0aJV0bNZlY6p+Edip7nwVDuOXZ+6r6icXSu1xVnLo8YjHIdYT133rM3O3DVa8Vo3x1VDh/wextFR6egTUHEFzQ5qVj8XDnpdWhxIdOWpf+x0dOcK2G4vBo2BpXBuJe51ku5YdUvv9LV2jlXwc8TW3xgBbqjNVNXPE7nZW2qOY5ddFcBmVxguNVvWHft4tcstMfEq313KrRVVm16F8erSch+ERd8OFI4BuePFjTkPu/i4kSNtRVtZbLavGd3Nop0WKlO1TlOk/hIyz3neeBbuSK8FpmbeGsRdqFpZc1nasEdfMditwNYEhU2WYUkdldxveffc+DMP4XixolzXPLXfEirTEaGjKzLZrpOAxOAGaVmsfhDxE3a43+k5fgfBNuCZGYlbb6nr2aPE4zjJt6mXsrrMS/8ARyBWDUDeGzeKIMbesaC4c2KMVROjGl4fqaTkDNTEXTvHH8OZr6xQ/wDD4S/NCKN9TzD1k7S69oeqkiBTpe74EjeHwmL0SfhSkaCkpszCK0Oqnr1Hc6rmOglwZdXCJw+Yku6+GmO54ENYlMs9LM1OjaNaK7fxVLYAkbhnrb0hXBBl2gurUpCVqqdWjRznAfg+4eix+Dy+Id5QI3xPPzEXuaCz0s0Ls8+s2U98GPBczJxIMtFvSDGp+TiNFqpbxHz8AmJ71npW+sOXpH7sW5JjueXjdizVSPr5Dil0cE1+d8Ere14yN6Ncs1NtLtd3dTcbCgK2RoradjqNpw0rKwOEbAMk/ErKoyr8psqljaM2k7raJTrOjuGe6pTEvC3hG5p5XaViw6Yir0bdYjLJHcEW98Mozfsy4F8+EfXCiwIsJXlWgtBbMrQaaW+Y4BE4AeDmprPieN+lOa3VdUlct2S913dC4mTlofFw4e0RqT6qeYnXyDqqDUragylmoVn6Ks3/AHOPcHy04Ou23pVt87sbubaxZOYbowXb1WNNgXSuDrpSza7nVvnNK31OYhtJaraureE2yZEktlKpJYIlmIMjKYt7QA9oNYVWCAGpAVIjQGEw9kQEc4D1jbSBAtTax6wAQqSmIAdJI8oFAIYgJpzBTaMkCidnlH1iqpANrXYLe1BzgUS20KkCgJpDaBtkndACW6h1E6gGxjYvUQAmEw2UQEhSDCNBVAwABBBkpJAkCiQI8YmK6iWAlgqAkAJYZO8AUiGwghC7Q/ETotAVIh7IqShEMU21qJbqAhiSmYhjY+otVykFrtaDAa6SyKiyAKURSgPxjEu1oGA12jJtGOksBgAAUpSqSpQFDEowGUSpQBlGIZkMrWQuZi+0AeUNRABQCXTzjACydkumpdNoCK3SRgWvUMSjXMBQyC9XMA9lcxSmKmreLUCxiGAh1ZQ2RqwD8YEh5RBY12SSgCoA2h7oCHSLZGrWsAxtsj8ZLEAMF8AU0gJdNLaBqoKpfaASrSPd0WE7WoKQKWnaGwqilbLpChVKJKABbQdY/EBS1FqQoGRZocQ5MQ4Xjfwl4fzwmtN9snHsWZZzD8boXin86tYXQclppq8oKgZvlGJ8eyQUoxDA6Z4aZWNjvGuHcAyk1xNdUzMMuanwH3xeA3EUSA0pbwm300uy8S0Nndlo6PknNLvwHdsjjaaxgsWYiXhMw+Lpb8Gq8mU5Ku1rNbjpjgUm5vB2J784Nb1i1RIDNMSjbsVeenx2Hc+0cXvzg8uq+cW3fivjZmVvKRWmqC+WKtm7aco3mJqH4wpsAakC18px3B2SPiCH0Lzf+ddJyPZOO4YyX1iaH/C0b50UDkhIlCnNpIHtER04yRmodm9LuvqsX2StTVWW7LKyt/GB1D8GNpXvHvKDGhSjRIU+34amqn+M5Hw1yeFY/B7e1l7QrrhxFgs0oyovGcbzU22azRt8G/B1cR7Jq94dbM2WKvPrPru34PWB7vm4cxHW8Z6hqlhzEXLV/Eay09VbbgYiz8XgvuW28uOaMqssPjNqixtRzSxaiUhQ4UKHBgwkhwUWmGq7KrYXYtPnGUkrxjXw2k6lUqog45wg/wCKsa3ozEBvmdTkrNUq29JVON4/WrCF5N0VRvmdTkKNVAg29KGnsiREU5tIw3gYBqGYYusyoXLqDxjCrKAKMQzSNNjZeMwnfC/wZzY3bEquyRf+DwvZU+LFS8Zhm9rP4I/smbD8SrD912/wZPZKPvGAEBadb/CIhV8EV7dmJCb1jsdmp1msxZhmQxnh+auO8uO7lmaamhvSy6G0iMtpEosGCWkY+CcPxFW7mqkIVVVHRN5C7nVtEBJRYjbXE0VN8x1UnwasGquqavpfJiqbjCvAphvB1/St+SE1eMSalqqVjRVZda6DXa3Jz6nnAdQVZjLBg+VdFgCb7ekZVxu78uP76s6UlLt62g5LtfbtHGJP/wAxLws6V3QG9Zjkuak2GuYa7Ilan7dkdNqmAus6YuNLF+E/fCuqMrSFWZKtw7nZrTj8DAtzwMbRMYIsZb0iweJZq/k6eTkOSMu3UchZIP4iW/RL7gbSzabdpg2QOMIB6xMaQ/EcY4RP8VZi3ozED21OT7ug4xwh5sIzX/qQvbURHJIm0vkqSwM1VPkqIyo3tAqc2oF2l0Ch6eejdAajVdnzRL9UX9UDJCbZst7JkXd80xQ2pZbTKvh+2yAL9vRD7eqH29UPt6ppAFNLawYG8FID6VoVcwxKoDVcusXXtDXrFtGVT4xi1MoNoWGFVVScN4Y1p4Or1p7HtKcy1rr6Jw7hk0fc6vS3yPaU7Ft7sXWuvbk80W8orLNIRMrk2sfcY9r43fZ2vwecMMa7eLurEcV5iT2Yc3+2QvH0lO7ZaZgTcBZmWjwY0GIqssSG9SseObbdFtJzPAfCVeODY6wWrnLrZvlJdt3tIeFffit++m9ux/KbdtR6YUDVXDiO7cUSKz11zHGQ97pK3Raw2mi2qr7bR89KGPJ70ZZBcobukaqHsmVSuYKbB1VKFQBSSy28w4jWcous0gUB6uiKkB+cSwwASgoqmE21pKp05dI9YqgAYsoBlIhnGJrNwkXXZ0buiscmOMxc3CVK9m7H9oRHJt0GygoyiVXNo6R1Vdtx3jjHhtmr/vW7o0O57kg8TJccmWK/JVZp2jtb1RM1vIXTXEXVZT+Cg/olOocK4avzCPDTe0eVumM1w3xDaJEjQ/wUJ+U7bYhVsVmbpGclZW2tk6i4dLhxJet9YTvLD9zxry+KojTERd2qrTYtvjO26somzGo64jqpuEbhYd2f7mUutX+lf3nK8B3/AItvyHOPinDsvcvFMvc6w3q43w8pymnsCEpAp9Ukurwk1UkCpzHH8Kta05iSJ0r1ZfmRTfqtjMthx3CGaHfj2b97xfZWwo5Guz/aF4w6wZaiCV0VabHOmJnBPCVcPCHfWKcLLdC93tSrTDo2TxW7J3Rr+1QVW8zFjIdUx5Th2veA0lNXtcd3wY68XEjQUSpVt6OjTacv4PMBSPB3cPxdKxXmpqPE46Zm2/bXt/VOS/rBqXVkGQptNJ19iPAV6XzwqXDimHHl1u+Qg0xFb8JVYujZOf5SWpJkG2iprSWanMGyLaKh72gTBr2g17QV8F9ROKuW8onRlYreox8+EU4rCt0w+jLJ7JWKHth4Yvi3oykX2WsMlwrRcN2p/BoXsmvgfaPdFVZzgzZTIluoTBVZzCATGNlblMlOzoI8YCXSAU1AaRNVot4eUMwCZbBCiM/MOq2nWAgE2UdQEsovEAABDb1pdJDLazdkB0gwxdZQmUTFNppI2gAGGQACZahiZQGLWFIFCJK10kgFQgEwCYQMFPmgKkQKvRDygIYQxUgJiS2Ug0DeEMQEsIZLADEMV1CbQBJLDZuYVXOBjEX4iWAGEKoYEADCCDUJhiAklh1VCYoTbOgxc5bZiGYBEs1hRD7Wg2PrXZLIUvtGAylEuhgAsZKlqQOrmH5QKtlQAWpRDREhrW7Ur2spPdUuv7fB/SqBlKUwrOSra+6pf9KofGEpVmmpb9KoGcZEzHhyi6Y0WDDVt6I6qECPBmYbPAipGVdri3VqQMi+AvqJUYDUrxCUZkOkY9QwJKAAAYUgAD0iKUA8Y12QZailAKSlFTYNQGpakqjtsrUVTavLlAVNRQso6QGNRDVQLXeBtJILpApVKJ2j5b3vm77hu+JeF5R+55WFtRG3QPsGvWaO4cbYdxNNNK3Te0GamFWri12qTdayChi0BqbUA/1Q6g2Q2gHvaxMtIbTUjXw2gPqsCoOreDaAa6adYArU8oa9naIBRipzaivEAxax8wAKnwFeISsMKajYStmGuyAw6OgOoFApgUP7RKgZFY4/jT5OTu2J+KvGXb1tBv1Y0GOv8AcZ+KmYET5nUmg5LE/CbWUldkInKJfCQOmke0NRgA9kQ94BFKvOGukAGOoVVu0G6AHHbhbi8XYmTpdzxPU0HI97QcburJjq+rOnKS7Acj6hk6x6+QgBRa1XVtFLl84KgMUCLxuraVd4yr1hVSuooB006xKPSC+SQPKIYAaPHEPjMIXt/q7fzMptrvicbdsm/Sl0b1TX4sTjcL3sv8Gc+m42ruG63s3pZPZKr7QACIe6MTDMqBZQzCpY0ih6zGuUumoD4cQLxlw3knSlovssYMJtxuF7pf8AgieyfXecPjLsnEs3oLr6pr8FRKsIXPb0ZZR9RvBGFI9TaKdozLmAa6KQBcuoTNSBYNlIUyKAukOkXkjUABcvKHUAHG4GXhEmu1dSfzMxyM41rXhI0dK6G/8AdY5MJApGLrHVTrMqNAbwagAFzCpCkYAGgNQAG8ca4Qv8UZ7yoXtqcl0HG+EJbO868NG7xXtqaijfrmWH5KiFCzpD/wDTT2RqZioX1gX6oZiV+3ogP+qC/b0Q5vt0Q5vt0QBdFWmz7ZTMrfbzTEZef7dEBt9vRAbbRLbLGkMNoQa8xlT3tBRK6Ku0PqNIa61EtltW+cG4XsSXphfDUvO3TNdyxnmVhs1FWU6fbhcxnZb/AIdf9Cp3KFhVrRyg6Ve/p0JYyemVW3nGy2sp5i+63jP98Eb9Eovur4yb93436JTn/wCTXcP/AFqH7endFqnC+Gdrfuc3ra3Yq9JTpS3hVxlp/wAYpn0FPhvvHWJb8kWkbyviZmpWJtQ2RVVvmOah+KrxqRlJwVvydKVOWkWhcVgN2SGPqIvnd1BWAgmrdYYxVeeE7wWdu2Y4tv2yG/4OKvRZT0XgrH92Y2kqoDpLzyfhpRnzeUvSsPLWu3kPokLymbsmoczKR40vMQWqhxIb0sp5V9+OjV7o8np2P5CVHtnxexMtWgDrTg+4X5XEKw7vvx0lby2YcbZhx/qsdl61bWp8vVoypy2m+np1o1I5RG6oh7wvKOFyFVausKrA3tRO7pNIA2uQN0rTaBIUlbWq0mkAZSac2i39Ye7qCnKULZHUAVBQubWGrnCq3NpCoiCnKcapq4S/Jur9Y5LUcagLVwkTXYupP52ERyWlgVcxS7OgrNzFEUiLqpIqIJYKRtoYKaTKltC8Y6Q8YBlCkW0JmtqNieLzac+YOvpFAwCht8ovlHG8D/4MvC38Zes1/M+g5LCb5RTjWBNLYeiP05+cb1y/UchH1j8kVREIVNvIPULzQpKtv2qBdnTaAAIldDF690lcoE6mXQJl5yt4nWy6mpYodIlWldFIbXL0RKwGkxw1sPCF9W9KUdfnNnIw+Lu+TSzdgp7JqcfvThC8rOlDRfnirYbyGvFwoNnRhqpoGyTV4S308thDGQmEOoWkBMIYwiaSSiG2TQllGAt6kBCYGABAHiFrAQm2hstomABNoDdGBLCACgBlzDpEwCILJ1sALmJKptJAW0AxNslASwDqAkBMACYRRIEsSWwmAklhtl1iNAJKJAkktuoW0ERrExTMSFSIYNmAliKSyagJJKFqAhhgTqVdIQNtEjEAiSiShCGSwEspjKbaJZrQESw6iGa02PsUvUSBgZPEVSSUuyBRSkKWpBSj6xDUDQY8gcfg6+E3uIZvmPMd1wJu9ZmDKyvdEaNHpWHDV2qZvnPVt/QLJu5bwlm34Dr6p5dwfecO5cQ3fPR2dYctMVMy7q2MGPs3f3NMYs2i26bx9NveZpbgyxXDiK73PPUqys1TtV/1O5l4bcDq3+Hf+ExlhcM+Do7qkO+HZmalfkmJu5Gi4boETvAkY0RXWJCjQqulVaug1Pwfpn9k3tAtbagrEp845Zw4QLI/B9POmaiJCiebUcB+D7M/3TzEC3ZiSze8hF3pTzgq2nXnCpwkxMJrDuu66GvKOvGVNswk6R1jd90cIWKoXxjKfG84r5uM41oa+aaR6VWHbTp2Q8WY6BwZwr35he9/irErTMxLwm4mNDmU+VgdpbTtDhWnI0LAE1eV2zkaDTDSNDjQXpam1jI5jQ7bmUF0M2jePMdw8IeMIXdElJTkzOTU9TDhtEqiNC7SnzYhu3G+FWh3jfLXvK8fEyzDTDNnt8OjZGw9TOrqyiVquTMed5ThQxpiO7pfD8r8pOM1PdcP8LFXo29Hxmivy7cZYJjy81eXxpItFifJxmisys3RA9T6BU5tBwfgixxNYuuqNK3iyRJ6TpbjNloqW+HtHHeF3hNm7om/iK5IvEzTLVMTC7unds6wO2WiJVotZFbomRVtPNV38G2P78kfjaDCm4yxcytGmGWI385s8AcKV94RvX4nv9piNLwonExpaZ/CwG6S22gegqbW5C1W3ovUdd8OceMuBO7ZGcjQV4yFEWJBenLb4jp7DGI8XTKRrjuacm5iNPNtM7RIi+K23ZA9RLHgxGo42C0To1rUZokO1eVcx5QxPgfGGEISz98Ss3Dl2iUtMLMNEpa3k0tZbl0nbHA1jSdxRd85hm8Zp4kwsu3c0ZtqmnZa0DS/CAvC9Lsvy5XlLxm5WDHl3qWDFZVZrGXweUc74G7zjXngmHbMTTzEZIzQ6oj1MdDY8wPibCbyse/4/dCzMRocFu6Gi0ty069nSbjg+wJiPEstEnbnj0wZWMvGL3Q0OpvJCxem6bagMUBIkOBBSN+EWGqtvZrFMqrbtUOEDNZD5WRfKylQ1tZdNjZeycI4ZLhj31gmatlOOWalf2RDpdly2cvIdZcAOLIkpiruCYmnaXvOHTTEdmpanUNR6FyLtsi1dJxqtWuxkbycx0p8JW9Yst8R3dBivDriPGbi3ZW1Lo5j4Pg8YmthX9GueamozLPQ24vjHZs9njIO+ndE1PFRfKek02McNJjHDM9dPd0GX49aeMrVlXn1nUXwj71f43uW64MV4dMN40RVdlq5rOQ2uArmiQOBq/pp2jcZOQ3pqdtlV01WMUbzg54JImCb+h3k9+3dPfJtD4mDlbWdkqp5c4CryjLj+52ePGZYjcXmis271nN/hC41vW7J6Tw5ITTysGPBaNGiQ3pZlq0U6SDt6Pftzyz8THvWRhxF3WmFPshPCmYXHQIqRIbbyurf9DzfgfgEvLHWHlvyDfUjBV2ZVhxKojaul0T4bsfGfBBiyJKWQpuIss3ykFaokCZS3eULi9Q02cphm5yVu9OMm5qDLr0ozqposS44lcP4H757YVNcFYkGDEy57eRTzpd10Yu4Z7/iW2xXmIjVRIjRHZYEBfJsCPU0jed3Xm2iSnpSYbow4qsx9LLS2s8s4s4JsXcF0tBvy2KjS6NS0xIRWVoDdqzwaTuTgb4SYmOLsiSF5MnxlJr+E/Hp0vKsCuwgGrC2Qh7obKj6gIGujdEy2VK/RFqGBW7pE2nkHVzk1AV5IyKrOQoKdJZBSgUOklWK8QE0jAS6DIvXUaLHa1YTvDsKsT5nU3qtmNPjOHxmE72Sz8mf+ZS6DdK1jJBt6UNfZH1HHJDE03Fu6TfvWvxvkUzKqZsvjPo745v96l//AKJPeNiTeai1Y0HfHN8nepf/AKCe8rvjnf3qX56Ce8uw3uyWaDvlnlb/ABRvz0U94++OebkwpfnoJ7wN7vBsmi745796V+egnvH3yz/70b89T3gbxVK5zRd8U/8AvRvz1PeHfHP/AL0b99T3gbzZOOy3yXCDOWdO7ITfM7WGZsRz/wC9G/PU95oGv6eXHsGJ3rXvVFu5ofE5Km0Npq5dG8TYc61FeSaLvhvHnwjfnqe8FxDeO7g++fU95MTFveYKTQ98d48nejfXpp7x98d5c2Eb69OF7xiYt5TaxS2Gi74bz/ejfPpwveHfDeXJbhG+vThe8mJi35KmjXEd51f4n3z6cL3ld8V5Vae8++fThe8GLejU0XfJeXLZg++fThe8S4jvSn/E++fThe8GLYX9C424b0TpS0X2TBhOJxmFbpf+DJ7J8F4X/eTXfNWPhG+lVpd9+F0W6zPgV+NwZc77P7HUDeamBesKiiAXTzLU3R6R1FijhulJSZuuBBiTFyzkteKw7zlZ+Bm7n6dlvOviO3FbwHQnCtwfYjv6PK35ia8UmI0WfSShy8hCywJe1tFWnpeM1Adv4RxjKYzgzU3ISM9Bk4UTi4MzMpSsdekhvaTjeB7mxLh2SiXNfV5yd6XfJssO7plU4uLR0YtnJqOSdZF1FNnKADUiMU0tUtGs/wBG3smlwI1WDLpt6MGn1mN861Q4naVlOEYJvy8YGF5WBDwteM1DhNFhrGhxUpbQ/XaMRzZUSquxUqKY0ffBerf5n3v+lhe8a3/ev7z73/SwveMRu1zAppe+C9eTvPvf9LC94u+C9ubBt7/pYXvGI3q+AdRo/j69ubB97/SIXvBb+vj95t6fSIXvGI3ij3mNH8fXx+8+9PpEL3h8fXy3+Z94/SIXvKN7+sG0aL4+vnmwfeP0iF7w74L6/ebeP0qF7wPnj5eEiT7d1P7ZyXVScBmr6vZsf3bEtwpPLE7girxbTEKplq2rG06NRyH46vvmwfPZf4VC95JRVvasoGj+Or9X/M2e+lQveL48v2rXg+b+mwveMRvBmja+r/8A3nzP02F7w+OMQVf4ozH02F7xiN5vAaP46xFzYPmPpsIPjfETf5oxvpsIYjeD1MaJb1xFVVZhF838PhB8b4i5sKf8+hRu1OPY9X+469OzDRvXUzfGuI1/zU/59DRY3vPEETCt5JHw2kvDaGtUTu1GpWpc1Nm0SK4uYSzfsWXt/wBCnsl00kS395yuj8SnsKW2XkMxZAm+3oibQzaR+LZCk2Vmb7bI6bV+3ZFEaxahrmq3toAVXqz0eaZqTE295xkXe0AV0gbTmDWvrC3m840hgHSDXsgLxFbTVDJ1gda/CC/xOk/9bU8/71p6B+ED/idJr/DVPPzbVp9V+G9l8v8Al/e0SAAeu8sAAioTDAAAAAAGIZA7NNlp2vwe8MMW67Id2YjivMSezDm2zRIfldk6o5SrLbLF1nUu7SFaPm7VrcyoS3i9iQIsGbgLMS8VI0GItSsuZWUbHU/AnIYphQ2mYkV4NwsrUw4+0zdJOjYdss1ubSfHV6XTqYvr6NTqRyNSCYrbRKxMtPSOJyMi6N0YtRVXYAQddogAFE21oyDqFVtAG6CqFWYKihiBfACr4QoY43d/ynCReltNVF3Ql9Y5I2ycM+Jod88IN8WxJy8ZfiJSAv7EmOKq09LUSI5rTb0BcW/Qc0TYOkt68b/+nt7hLgq7G25y+m8qfcu5s33FP0QoidFzQd5N1c8W9/p7ktgm6W/OLfy+L7wOQMr8lIlV+i5x7vHuTnhXi38vi+8O8e4vyWb86dj+8naOQMr85NNv2c4/3i4f5bZGZbyp2L7x94+G/wA2O3lTEX647RvFfNoqT0x8ZZzsnpqaBsE4bX9yU/Sv7xrgrDLNruWW/Sv9cdo3nGw+eKnpqJo8H8fB9NTUd5OG11fEst6b+8lcGYb/ADFKet7zXaNws3Kw9ds1LLT/AKVfecfwFMysPCsva81LLVGmG/Crzx36z6e87DVES224pHLDbcbo+M0uB8K3BHwjd8eNcsjEjRVdmZoVW+2j+Ydo5b8YSS/5dL/pV95LXnI/l0p9IX3nxd6WHV/cK6/o6j708PfmK6/o6jtH0fG93Ly3nIr/AChSWv66vztIr/KEMS4YuJf3Cuv6Ko2w/ci8lxXX9FT3DtDbENyK2u+Lu+kIT3x3Gv7sXd9IT3lrcNzr+493fRU9xS3PdStqum7voqe4do+fvmuL893d9IX3mPvouBeW/bu+kKfX8VXd+bLu+iwvcV8WyPNd0j9FT3DtHwti3D66/j27v0pHfjh3nv27v0psu4ZL8hlF/k6e4fckqv8Akct5suvuLtEatsa4bq/w7I/pf6CGxthvnv2R9P8AoNysKHzQIP6JfcNoaLr4qD+iX3F8hwfGeKrivPD0SRkb2lJiYmZiBDhw4b1M2l1+qc5bQraDjePGsW5ZdKUz3jK7KL+N8RySLoViajGLZ5C/GY22iCeoesNXMGyEJmp5QqHuk6zQGIYsmoBUkF1CYCAYYMBOvZCoGJZQDtCAVLAAxDXRxmsoVIHwXHAvmWkWh35PSk9Ncc7Q4ktLtCXiuZbV6R92tuUAyiqzDqt5xVAJhDBgI80RWonslAIYgJABAJgBuoWYBAGkAEwmK6iWAikTABoBLFEhCEPSSzeECW2gpEw90KliWKbRzEhE+IlspbEMAmFV4RkBQSy1DqEwRNIDYTAQIYmKAliiWAghi2IqAghtGbQWwmNj7A3gGYFFKSNWsq0AZVXKALmDxEFjJUYETEOx5eInSVl+c8kvLf8AiMSVbL+yWht2c+g9d2qeUsRp8X4svZLFqaFNvl87SEjydpQPg+WskONZfqZlVvwXhPqhcAbw4iv8fpUrVfgjFJ/CDkpaUgwYlwTDMkNVZu6FWrQZvviZBm0JcE23+1M+bTm3CRLWx+D69oLtUyymbzd46Z4C5q2BjeVs3YsFl9U7XuzF0DhDwTfUaBIvK0wXhtDiPVunTHBLH7kxrdL7rRsvo6AR5J4X3jvwlXtY7fgmSHD8ilTkt2cNeLbsuyVkJe55GJLwIaw4bcU+bRvH3cPmDoy3lDxPKQHiQWXiZ1l3dHIx9nBpwyXBd1wy9z4hVJWJKqywZnufjFiry82vSa+qOusXX9euNL5W9bxuxJWNxawW4mEy1aN607RuqLHvngKvKVj1tElYDqtXR5bD5MVcOrxJ6HL4RgSkxDX8JMRpVaW7KrynN5OPet+cHsxEvuFBWcmpWKzLBhLDWm1dWWwm6aum+A1k7+5G23fhsubrU7j4ZICznB3fUN14ymFxi1brLrqOjeCePbJ4zul7fxyw2PROOoFk3hO/INu9KRV9ULPi6T4A+LbGsOveguynZnDhI2TmALw0rU0CmYh9lrGOpOA+ZeBja67bd+Hxfzqd4cJsLunA99Q+lKMRdXVXwfIv91UaD+NlmOEY8ixmx7fzvtJN5f4uQ5LwFRLYGM5HTlrgtD+dTZ8O+CY933r3zykCqTmVVZll/ans5GYEkQOFvhKhSsGHDkYLQ0hqsNu4GzKcSxG2JsWXzEvi8rpjd1Oqw24mVZVZbDs7Anwgruu+45e7cSQpmDElV4uHMy0LjFirzeca3EfDriC9b1hw8IxY0rJrl4yNCVokVreTVugbK+EmpzgDjJOrGWNLQ6flEZW1NqON/B9azvvXTtNLvT6J2fiFb2vPgnnrL9j8deEeSeJEainrOoOAqZthY0u3/SrT6oIu8OEuTsnsCX5AdalaWeIvlLrOk+AicthY4u/Q2WLDaH86nf2J4FkzcN4QenLxV9U82cET2ymMbnf/AEyr8+oGnJ2Z8JGUqw5dc1ZuT9Pzoxk+DjHqu6+Jfo0RDZ8P13xZ/AkZ4CPEaWmYUZqVqy2NrOp+DDhIbAE3NWxrueelZqGtSw3pZWs5NAZi7K4cr1xPdEzc8TDs5eMusVXWN3OlXJTo06jq9cX8JlX+E78b+T/0HpbD1/WYjuOVvWDCeXWZWpYbZqTY8Y7NtZQrhnBJeF5Xxg6I1/xZiYmFmGhs0ylLUWqefsQycxwe8IU1Agrxaysx3RLt2GbTYetKrWOlPhGYZteUu/EUFc0Bu5phl6NvJUBxbhkveDjHG11xIDfJvIQGy9J9dp8+I7ufgp4UZOyB8nLosrMqzdG1Vr/nNPwd3Y964vumVdXamYTa6Nm6dr/Cdw6s3dF23/CXREkYvERKfxT+4JxcB4Zrzh4g4UZp5KKkxLpBgQ4NOzrXTad+3dcyXbwaQ7t3vi56l7TLpPMeArqe+MVXfK2pxnGTCK3knrycRGlo0FFphrDaGq9mkNfV5I4J4vcONblt6E2q+toPQPDFwP2cIfEzd3R0l72k1aHD4z8HFS1tluj1WnnbCrdx4wlbd6BeP/Rzu74QUDFMj3Lf9xXjPQZOErQ5uHL7unkcn2T4dVrhHhN4OZlo0pK31d7b0SQfjIbL0mWzUbzDnwiMVXZM8Rfiy97S6tTEWJCWHHXzje8G/wAIeBdVz9wYqWemokJm4udg0xONXoupwbhUxddWPcVQZ+47seVhpB4mJEaEqxJlqtprLPByFV2Vw53zJYq4JLtvu6m4yTedhM27Tlaym3+M6r4O57H0m09DwRFnqmVWmVl4St4qjunCHB9EvXgZbDl5fJxp5mmIdX7U+5/OdNYYxLiLgYxbEsjSfyy/IzEpEelY6dVoRyS8/u2X9d0xdt5QL3mpWZXi40Fpdcy8p9fBJgrGGGMbSc3PXFPScqytDiRIiZabeXSbjEPwnbJu7okO47qnpWedaeMmYq8XC07y6No+ngRvDHGIb1iXrfd/3jMXXChsvFxn+TitbyKRXcGqprLNkvrJFVmIi9nUIVRXUAD3dAqhVWcoF0hSu0CqSFNV2tA1WnUSUEGspdkNYawHtFqR+qXrUKQ6aQCrMZDU+G/ofG3DeUO3eln9lj7tfomKeh8bIzSdKC6+qCT58ORLI+GrpidKWT2TY7ppsFRK8HXTb0ZdV+Y3C6TRIaxquXQMamQ1WwKbGAAHxdg1WwKR72kApFlq2dodWbQJQDUus49OfJ49uW3pykwvrKciOO3z8njHDb9LuiH6q2gcjbazE02FA2lVIJpL0WEr4Rs1KgKmxtRWiwldPmlrtaLdkgVNRVNnIG1UC1c4DpHTY3IG8PxAY4sOqBGs6UNl9U0PB9mwZd/ZrX5mY5C3g6Rxzg9b+5GCn4uYjr67FHIt4rd1AFRABtLs1AKq3mKHlAKqgqzEA3lDXZBdnWJWpAraONcHi/3Kw7LdyPHX12OSLoqON8H3yeH5iH0J+aX1yjkjLzhSV0iV2dNm8QNl7I6bCSlYodK7IcXzjX1gqpICmkOLUOkUoC4vwksvolMHUBxm8Fp4Qblt6UlML7JyVlszHG71y46w7bbvQZhfZOSa8ttgkCmrdHRlzBVzBpKFxdiqCqC6fNHV4Qo0DVfALSFVOu0IVNKrZVUyqOnwhpGxBNNOqw0ePYdWEL4t/g7e0pvtqo0mOM2Dr4/1Z/aURGyu/Nd8r/q6eypmZalYwXZ/gqT/ANXT2VPoq5ulV7RlWGItLNZZ2hNs6DI7WL5wqtrtAKmxWbQFNlPpD3gb7ekANvaSlWmqkmmpiwG2ywMoqtq0PJAdObVlAPEHWaQ9fOUykdRTNTugda/CA/xOk/8AXVPPtVtluk9E8N93z16YUlYMjJzM1GWcRqYCVNSdJ24NxFp09796fR2PpvxNaMKWMtXzX5SjOdbsaPQoaFN13j4lb9wLx+jsNcB4pt5MPXp+iPV8RS/s8/w9b+jScXZz2ipWznOQ2cH+Km/zdvH9EfHeOEMQXRKtOXjc85Ky67USItK6xG4p6+WRO3lD6NQAxHO64AAAKR26ghtbp0Wmwue5Z6/Z6HIXdAeYmIuyq+0zbqmJVIwjlJqnTz4PhgwYkeIsOGrtEiNSqrtMx3Vwd8DawVh3timFU21BkP8Aoz+45Lwf8Fkhg1Yc9OUTl8Mq1RNpIHZT3nOWbSfOfkPyms+ym+hsfxmHdUKyilbERFVVyquyPd0k7o2Y8R7UWJlsZtNoK9lWiwUeIq6jHA0r9Ug+gKQ1tyBvAGphMo6ua3aEwB4wAAAGFmGwB0gppDxAULxnHLnWrHeIrejBl1OSHGrh/wAc8UW9HudfVJFXJqcwxKGsIGENmFUBLKJV7JTE7XKZULVzhTYvITVY1RVVlOoCKTGylksbF1VKU2zlIhNUtBTMBimWolpi3ow2NNgWHTg65bP4Mv8AOzGzvOJbDuqefoy7t6p8OEIdGErls/gUJvn1gbdVBg2W+3SFvagDeFvDXwhrzWlEgBHG2M1FjecEWKnL0RiCpbNyAugVVqxdA9fOwEstLAqj1CbKBxzG2aUumDbv3rLr7X1Tkcb8IxxvGOeZw/Bs3r1VvRVrTkkRvlG8o1qJYjZKYx625TIBbQ9IGkJlFTmKMdNi/ZQCkbeEQAS1QtnUOklgClhN1DzBUBPjATMIAF5o+YVLtyAKkKfAFOYKqSgEzDACQbQAgAnXzlAwEMJSyaShKJh9kAIYQAAtoAJABDEAzG2mrSUQxoFQgCoCQHvEswAy2EBUFVQQmENiWATE9ZQgMfaAtjGwEgwCATEliCpYTDJ5wiRFdRLFCF4xswAYW8BJkYhgJYlhsJjY+wY18IjAClXdErFqBkXZAlSiCilJUqoB05jg968DtwXvec1eMeavGHGmYnGRKado51r5R1AddrwEYZb/AC69/TUypwEYWXXZOXo3+1U7AqpXUNQNJhfBd24SkZqRkYszGgzX4Tjn7PMai6uB3Dd0T0vPSsW8eOgROMVWirTVynNFYKqdYFx4UOZhRIMaEkSDFyxIbZlY4De/Alhi8Jlo8o0xdrNtLDzQ/NXdOfaR66gOE4e4IcN3HHWYicdeUZWqVo2VV/isObxIcOPAaC6fJstNK5coijI4fd/BNha7J6DPSsKeWNCicYv7Iy1eI5jMwoM1LRoEdKocVWWIvZtEreEdQHFLl4K8LXBeEvPyECbhzEBqodUwzKcqvCTgXnKRpSaWqDHhtDZezaZN7SXvAcVuPgwwrh68Jefu6Vm4cxLfg6phmX0TlMeFDmoUSBMQoMaDFytDiJUrKOqoKgODXjwKYOnplo8GBMSLNmZYL/J/NabPDnBphvDERY0rJvMTCtUsaYeqnxKcl18w6gFPS0C8pWNKzS8ZLx1aHEXpLaccubg0wpcN4QZ+7bseDMQGqhtxrMcmAgIkNIqxIbrUrZWXpHGZHgtwdds5BnZS5+JmITcZDZYrZWOUKOooqKqR4cRIypEhutLKyZWW3dOHTPBBgiaitEtuVILPmbi4rKvonL6spXjIPmuq6pK47tg3bd0LiZWAvya11H2qpjXw2GQBrl1nzXpdMjfMjGu+85ZJyTjZXhxNlj6V08uyGyBorq4PcJXLOQ5667igys1C2Yiuxub1u6Rv674133nKpNScdaYkNt4y+IKrWA0d0cH2FLgnoc9ddxS0rNQtmItWU5DtKYW0+aX5JVcb+5pgvuvurvbkeO4zjOMzbfLUcoduMWh6GVlpZWzLSY1q5yqiI4lefBNgi9Y7TEe4IMOMzVM0u7JV/EfRcvBthHD0fj5C54PHdKN8oy/Ocm17IVKBatay6zWX5hq5cUQO577umUvCGuVeMTMviblNirbVnRHtAcNleB/A8jMrHh3EkRl2eOi1L6JzGBCgy0JYMCFBl4KbMOGlKr5o12h7wCZadVgeyGYTaeQCqfCGyFVQuMaogqkF8naCrwCAyqSy2kqUreEBr1gxIAZOsA2QAN0sQwp7RjluO4r5ejjKmqp2dopdIVcwGRSIi1I1nSVvZLKpqzAaHATf3IyKdBnX5naw5AccwJluCIn4qdmIfzOxyMEi3i1JKUyHvAogqtarorvAUAUuy6bNnpE1AWCiq5rAbTugUuycbxL8niHDMT+FxYfzocjqtpON4u+TnMOxOjeKL86MByfebygZbG5SW2mJbSykDpp12jpBuoACnmtGqmSHAiMumxXYTQIirppcBKo6eYMwb2kgoBdYwBF+UWztKca4PtHxDMJ+Kn5hfXOSr+EXyjjOBWs7jvaH0Lzj+0Ucl6rApJVqiyAAXWMADUqgGpgABa+Swe6A12vKON4F/vG9E6N5zC/O2k5Gu0pxzBWVb+h9C9Yvs6R9VckXMV0SdkYQU2coqqWGAFr1bI6ecxRGshLXEZIat0nVV/nLh6WSuzMvSXMpRVOUoiqnXaOrZIKpqJZR7vkktsgcbvpqcZ4Xt/1pfVU5HrONYganFmF7f9NML86KcjKMmrogwqh7W6YUqalYVNpTC1tvIA10tVpCm1tQqfAKG1S5WRvJcCtA9aibw27wt3WBVOU02M1qwjfFn8Ef2jcK2U1OLc2E72X+COaikn1XQ1V0Xfb0paF7J9dNnJYfFcLVXLddv8EheyfcpVKnL9ukRT9vOLXRy+SFPNYYE73ZKVal1731hLoXWNWt8oAZad/7VB0swlb7ecUuz9ukAqR+MNYaQDe0CG2jKG8AU5tRW0TrXlHV2TSGla8npDWLFq2nAmnwKU2VxsTniv6wLFerRaz+sSrWNu9ESrbVpt3huKtiu1Ob2jgfDeztweTulqvlIXtHObMtJwXhvy8HM7/60L2jntNf5Yupde1J5wfltCwb8torD7iL5EW6iNNrlW26LdZ2Dwd8FM5iuyHeF4WPJ3TV+E/bI+bZs7PWcVe5hRjlNyU7edWeMWgwdgK9cbT3ESC8XBT8NMRPwcJf1m6j0VhLB904KkO5buhVRmp46Zb8JFbtdXUbK7bukrmkocjd0qkrKwlyw4f63SPp5eQ+UvPyE68sfq+ltLCFDu+y1XNoFTSOmmrKKmk896AIbQi7Qa1pqMUVqm0AYYj21ae0ZFSpdNmyJFtiMunZUz7K0gOnLpsYNZK005RgHUABUAUhSGyJtADXdDrAezrKFtACtlDxADZlY41hrQ2KsVP/AAiEvqHJTjWFc1/Yof8AhaL6hIq5KPxqICC9ZGYmI9kJGeIyQ4aLUzNlVVs3jq28OHWBNXhGkMHYZvTEkSA3ykaCjLDXQXSMpDtNtItVJ1xhzhtu68b6g3BiC557Dd6RcsFZv8HFbx7pzDEeKLrw5LTFsxOS6zUCWeZWUaLTEirYu7p8IxkNo20Sxp8NYsuvFEpKvLzUus5Hl1mmlFirEiQlt6Wg4zjbhdu7C95rcV1yMa/r+f8AySW2YXlMMZDnlPgEdTTPC/jDD1M1ifg8mZO76qWjQXqaEvS1aTsvD9/Xdie6Je9rqj8dKx1ytvK3RbtGscRsIVKs1pbdYkWpdY2W2n+0Qa+/onFXBeT9GWf2WsJw0vF4aulP4FA9gxYsiWw8J309m7KRfZPrubRCua706MtCX1FKPq2gYNklSBDq5zrvhS4Sb7wZe9z3Tcl0yl5TV5q1KxqtrmVdBromNOGKWVokxweSMSCmaIsOqqns6zWmiO1V6jGsJITM1i5mao4nwb8Jt14/7okrJWNd97Sv98SUbaXNtWGoxDw13HdV+XbIwZpIK91tBvHumE6tASxdqzx2kxV2NlDaOA484Tfirg5iYtw/A4yqMsOCs3CpqW3e0WnLcOXhGvW4LvnpqhZial0jNTsrpXSaH3bWuwG0HBOF/HV64Cuy65m6VlmiTkzxLcclVK5eT0jnEB7YktBiRPwjw1ZqesyK1D1ZdIhMwHHMT5r8wrDfenXb5oTWHIm0Zjjt/fKYswynRaaifMinIWbM3lGgN4SGL2TGy1AIS5hhr5giRNoGxIALUVV4SavAAm0MJhi1fakBZRD8Yt0A0Eay9kjnAKhVWcw9kW1vAHjEwBulAugkokACkG0goE05gylVUiAWgndLIq8BQuYXjKJYCQYQqgAkokAEAabTQRDFkNtALaAKaQAkW0WQAUqQ2yUKmoCWJfMWSwRIm2dA2EBDZtQit0ltoBElEgIgptBOkAJ1jDxFEMLaKbZJATE5ihMBFJDZS2MbGwt4xO2YyGOJoYo+8ZKjU4w1MmokrSBQK2YAAyDUlWGQZA0kj3QLUasQUoFFLoMZYF01MMndGBVNWoPGHUGYBrslKIFMii1EJdIFiFm5gVaQHUGyHjCkClKIXKWBW7lE1VOoRVQAuktWIXrGBSsVlJ3h66gMlXgEJRkAWpFQVcwFgoquceyAFaiWDrAvUw16iNooB72kZj3tBVIFqMhcpVPOAVA2bkDVVqCoBrsi8YL7It0grW20ob2mwSrlH1AUFNjAOrwAIT10rQ1OYY6sukCtkerlJbwD84Bqw94ldNWtiqsoVQ1bnJVsuspQLGu0TUPZA0OCssre0O3cvOP/ADtpOQbWuw47hX5OexFB6F41fOinI1GoA8QtdXZGZHyXve8C47omr1m2pgysNojHTuHrhxPw1tGv++L9nrnuNojLKS0k9LMpzHhyWJ9y++rIP4taqejUbngpZPuc4f4mhV7m3elUa+B13iHBeL+CSWbEeEsTXjfEjLUtN3dP/KMyVa2sO1sL3/AxVcEjfctCeDDmodTQ2/am51NtEiIsKJbEoppzVbNPaPlkZmRmZbjLuiy8aXVqapd1pq/iJrqPoqp3QXa0WCqzaStrlMhnGsbfJy10xOhecv8Az1WHJaqjjWPctxwYlu5OyreuWI5LE/CMFQNtaRkC3tA1Yld3SPq7IHRfCPJ3jf3DdduHYN+3jdcrPSy5paKyrs+A38fgIxHd6NNXJwkXvDnoX4NZh2aGzdo1uO/2J8ILB8e3egr+sd61ekcmuv6NOLqrgs4Sb3vW97wwXjKGsHEUhpZY8PZmbLP++jWdl6Tp3E0OyT+E5h+PK5YkzKqsT0WsO4mys1hifqH4iiCquYyCzlqON4OyRcRQ+jeb/wA+s5JblU45hfLfWKIPRnVb51Uv1IuRdZRGkFYgY1EFQDqBQ4zaH1WGVAmygzVecDdYArHHcI/J3hiZOjeLN86qciU47hnLfmKk/hsJvnRTX1HIxq1RKjYItWNJjXFUvgnC89fswtXc0P5OH+Ne3kU3J1P8Jpn+5zL22fg1vGFxnkiGnmNbhLgsvnhSu+HinHl/3jDhz1USWkJSLxawkt5BYuwFiHgZhLirA19XjPXfAZe7bqm3aLUnSs6R3Rdj/wBy93xLtWFE/YCNBhrss1CnVN58InC/dknOTs3wfXcsnLKzRGaKuxZvU6TcdddSX/y7Qua84N/XNJ3rBhPDWagrGVWSlly7J9itm1nHODfF0bHGDLvv2PKwZWJHqVocH8Guht05DtGBkJ8oKiKgOOYly4jwq38LdfnQ5NsscYxV/hrCr/8A3Fl9Q5JqKMmoF9oWyHkmFUmhokPylOmeCuPGbhsx1LxI8aJDVcqs7Mq5t2w7ks/CLaedLsu/F87w44wgYPveTuybWyqNEmYXGKyaNmk5I8dU+z0eq1auz+qdNfBsjxosLGCRIsaJRedK8Y7NTmbwmx72uHGr/He5voppvgz8fC78oM0yNMQ59eOZdlnsZtLWfxl+rUXdS6aQ8YqRazjZVZtGrxStWGL2t/gz+yba01eJ1/uavT/Vovslj6mqsONVh66bf4JC9k2C7vmmsww39z102/wSF7Js+ro/VMqF8Pki6vJDZ5RawEq9rolE1U+qG1yAUu0oxQ2zax7PqgPaUQM1PZGAh+IStaFQFLp5xK1jRKKtkNItlq95jSKUF0dEUMa+AApDoi6NW6AAcE4b/wDy7mv/AFoHtnO6aaTgfDf/AOXc1/60L2zntPdi6117cnnKI2nVYEKE0S1URHZmalVXaZuyfZdd0zt9z8ORkIDzEw+yq+03RU9A8H3Bbd+EYaz0/ROXxTtftcDsovh6z6m6voUI+T5q0s5V576uL8HfA0sNYd64mhdFoMl+s/uO4FVFVUREVYa0qq7KmRvCSzbp8tcXM68t5vqKNvGjHGKVLpEzVB5R1nOpVFE0supQ3dImU0hRMkNrbTApcdal0WqJYdLagLhrYq6RtmUdVIgEuXUG6H22wAQeIAUAYN4FUWtihtvAJQ2mAYAAArW1HGcHNVeWKH/+4/8ARTktWY4xgnNHxE/SvN/ZKrlAtodVQqreYyjq34RF/Td3YKlbqkW4uNfU2sszLtUHYWDsJyOB8PytzXdCSGsKGvHRFTNFe1dNrNadY/CRkY7YcuW+IMJ4kO6p9Ykbsrads3HfkriW6JW9JKKkaXmYKNVDzUtTrW3Rzm9eCuPcI3B3IcIV2y8vNxXlZiWjLGgzcNPlF0bpqeEjg7fHF23PdVMvliJDnbzifh4UBeh4y+F/hEmsCyMjKXOsGNfV4zCw5eXiJU1Nu9oOZyzzCysGybo7q4teOp2a6dZMpI4BhXDX3JsE4gjPKyPHSaxYkvNw80WPC3K26Wk1Xwc8OQ+9yYxlOURr0vqZitxzbSpY2imzx2nP8X3ZGvzCt8XXA/DTMs8OH5RwX4OuI4EfCverHZIN5XTGeG0FvwjLa2mqk18K51fOLsKK0xdt6X1dy5WhxoMSKvP2TQcGVw4cw9d94SmG79S9pd5lozKrrTA066VHjHgy4OJZJ7EmJrnl1alo0aNGi01NYvg8Npwj4M/c8WWxNNSkJIMu82vFqu6tOpR8Du2GtlQbRK+EIi28tvsGBosbPTg6+LbN6WZfn1G3k0sWTl1s3YMJfUU0mP8ALgy9rLN6Gq+spyBVppSzdVf5i/UDKRVTqKXTyWGNmykR1Bwo/K8M+AYHa/WO7GR82Z6TpDHsSHH4fsFpEZIapDqZmelfDtHb954lua6IESbn74u6XgrVmaYRv5rLTequnsSwEw/8JO4ZqQXi2vGX/ZCrsxWtXWcrxfwSS+L78vK+Z+8X7saGq3ZxaUrIsraarbN/+M4ngqPE4T+GKaxrBhOtw3PD4mWZkp41uSzR7R3VTbzE1R1R8IxokLgpl5WNF4yJ3RChs2zVoXapPjuHh5ue77lu+S71MSxmlpZIbMsvlbQuiqzUZfhMRGbA8jD6c+q+qdqXQ3FXNd8OxUyyybnZU18K87cLPCVK49bD8jK3Fel30TqtVOpSraWWymw9GU2KsOzow19k6d+EK1r3zgmXt/Lavmc7kf8ACLZ0VUzqJYTBr5BNmX7dEg47eel8dYfToS8xE9lDkCnHpxuM4Qbtss3Lujt87r9U5E2heT7c5oSTug0S1tVu6JQh6qtJNI9YmARIAAMAhZuW0AABM1ICCkF8AmawA0E6uQqnwhqbWULXSSwcwUgTvDAGYCAKq84kBVVNo3RhStWkWuoBjpEAEs1gmXwHB+EbhAtwBPXDHjQO6LvnI0ws3DXbVLKdDp12eDnOYyM9K3rIy8/ITUGak5mHxkGND2Yq/blXmKMzbImzFMpLAQIYgFlJbaKZaSTQW6PxA20KrwAITeEpm8JLMBAASwCAYgEAAwEM3gE2kYmCJ2SSmJAlhMNhASwgEAmJHvDAgRWsnnKIbTUBdJDaKgAh/CXsksBFJjYymPeNiG0ENoZdO6WY2KPuWkYlGcYZakKWoDqzDUkpQKVRgoEFjEpYC3ShDAZSiUeyBk3dAELtF1AMADSA1KUkat2gLKMa+EasZGRdIC2gAahotAa5qgAatmGSBY6aQqqABqUT1jAY10iqBfCBkHtcpjUrdArrBdPIIYD2eUolfAIgodQlDZApWsKVrSPEMB6itRDNUOrLoqAraHs0iVgAqkVNjC3VKqAmnZtGqgUQJdkKRVekUuVgp7VJTaaaWIK6whahi1U6SvEA9YxbSgA1Xm3SlJ1jXSFUMXjBfCBkqH12k615CtmoDQYeanEeJIf+mgRPnQ5BqU47dHyeNL+Tpy8vE9qw5FqJqK0i2mEPWQfLe90St/XROXTOr+x5yC0Fv41OmME40neBKZjYOxvJzfxWkRmkrzhpxiU2/q/9DvRWzGKalpeegcRNwJaYg/i4yLEX+cumo6mxnw23Pf8Acsa5MGwJu9ryn17nVll2VYWneY5twYYQfBOCpG6ZjNNfhpjy7d03srdt3Xe1cld0jKxOlBl1ht/NYfVVa+vZJIUuzsj3QVhbPkkDOPcIObCsw/RiQonzRVOReM0OPflMIXpbZuwavmZbSjeq1Sq/SVQVe0YpZqpWXt6UNPZUyK9TNZTSQV5o12tJS7Kh1gdF8OF4Jh/hLwjfseBMxJeWhs0TiUZmpsbdOTzXwk8KMrW3ddN/zkx+1we5Wh1f9TsqLCgxPwkCDE6PGIrf9QhwICNpslZZWXowlX/sa3IupeDTC9+4jxtNcI+KpPuNnyyEpE2lXmbRu6Dt5sw2a1mZrWdha8tpiQOoe0KqnlGvUwDtON4danFOKEt/GQInzochiHHbl+TxviROnBl4nq6CkeTkYMAdZkJt7RvAuzrYa7QbJFNR1CGwCqs5g8Q28AU1AC5Tj1w/J4qxQn+kgN6i2HIjjtz5ca4kst3ocrE9VjY5FVSFXOJcw1IhmnxfheSxrhqeuCeoWHNQ6Vifin5mNxUJWM5DpTCHCTfXA3KLhLH9y3jGlZX5OSvOSTjFipzL4jLizhRvXhXuiaw5gC4rxaDHhs03PzPyaqlmu1bPGdzs1jLQ9DL0Wzf9S4cTil0Q6IattLDRV/6HJkOv+AeFGlOC275eYgPLxoUaKrQ4mVl0Mc/qzaCRmNCQPmj3nJQJ6Dd0SagrOTKs0GXZ/lGWzlZVPrZraTVTOHLtmcQSeII0J2npWC0GGyvlpt6XiqY0rW4xXi7ww3bZu3mvsMckZczHGsbbVwv0b1hfzqxyZttrO1+sRFcwt30hkmVUug6hwTdk9KfCAxdNxJGYhyseC3FxmhNxbZeZjtymrlL02mshlVflDp7gGuyeuy+ccd2yMzKw4s+zQWjQmVWWptk7eZSanblzDL4QUgyhTlyjp2tABauZtBr8Sr/c9en+qRvYNhbvHw4gzXHeVnSlo/siPI1YcL5sM3Tb/Bk9k2bac26arCebCt029KWU2urNb5RlSbRy/bZGq21aPtsiqCI2UCVaxl02bI28A9mqwnqtAIalwwVR6vNAiJAhuy2uqMy7Jk3VtBaRbTagDZJYpWzaBVANdNOhwZqVBWFD0q2s0gVqR+ImmyoFa3nAtaSaQ1iVQCyyyxTjfCLh2axZhxrpkmSHEixkZokTZVbG02scly7oMahLGWUWZRyjjJosI4LujBkn3Pd8KqMy/LTbfhIv1bOo3toNl9YLd7zhOpKprvIp04x8ohm+1YVfasTNYNm7XrkaLyR/bdEzWh9t0CtAtVQdQgJdaiqbKsi0hq+yEkD1faokrXy/WJqAKsoBV2wqzbXrgABVbTqb2RUlBSPZUTKJgBRk7TUj3agBsy6A11ArdIFYKcNflF8o41gPNCvx+lesU5LDyxF0dI4zwff4PvR+lecf2ijkwmYYqiD57xu+UvWRmJGegJMSseHxcSG28tp1bC4C71uCPGswfj68blkYubudk4ynydFth2zUY2YkZYjgeEeCC7sPXz3xX1e03iK/F/Bzc3swvFZ0jnbNWIa9Y3yArU8jHAcZ8D9yYqvP47kZybuO+G2puSy8b41OeN5Q4a21K5rLEdYXfwDSMeegzGJ8TXviKDAaqHKRnph1do5jg7At14Ja9Pito3F3jMd0NDammF2bOychVqd4NYyyFKuUhl5qR1bQm0kHHMfrb3pT1nTaEvzupyOItjRGOOY//wAWmSzem5df+KpyOLmdvKb2ihfbeJbLV9ca+D6wVeAiOGYx4JsNY6vWHel8d3d0JBWCvExaaVsNRKfB84P5aOsSNIz00q/tcaayt8x2VVziqU1uMF33fKXVJw5G7pOXk5VNmDBRVVT6PGTULZXWvskVpsUYMubGcpBlL7gPMQYEbjoaq7Lms8RuERISQ4MNaYaKqr5NmodPPSFP2oA0t/YOuTE85d87ekm8xGkG4yXatlpY27N4R6+b2BLlav63SCDzhMGsWvkCuO/hOERf9FdX/WKxyBs2r7eA49LNxnCDPP0LshL6TNb+qb7XVpNB7wmpGS3WEJWqUCIS2qvnFZqQJ2QG2bWTUANmEXVZy2kN6wBs8gBvaBNmVs1IC6xVeAb6adTCAPtuiarm/VATbRQqfCIbCZrG8oBU9gAFSALUG7rBhVfbMA+oTCq5wZgHtah9QhVW9Io6p4YsIXxjScuuXumEjLIyU3MxIkRqVqra2xLLd57adVhXAndnxRheTvKUv2enLvvFXeNd3ca0ykxY2h6Xq02ddmjWdixZF1dZirjIkBuMgru1f0mpwdhyVw1DnpeRWb7nmpt5tljUqsJm5URbN0DkStUq2i2hsJgIBgEAm6wGTUaBSTSNmEBAi2IAQAwAKoksgBEso208w9ShEC8QyABiNksW9qAhhAKoCQbMVUTUwEk7xROkBN4BMMhgKqIpsCoChdYmGAGNiS2zEVGxjbKxjZbV7RkZcwmKPrCoAU4w1LpIqLVgHtayzHzlKBS6RizFKQUpkMa7Ra5gHpHSIVVIGTdBRLpBQLBh9kWraAsCVKUClARZkAKAAWrDIVrS6rfNAeoegiqkraApQbKJWKbrAFGIYDqHSSMCtW0UuySrDAY+oSj6gKHtCJ1gXSNdPMICB0j3QAAUolfAMBrVtBVTrDaEwDVrGbQrGTdMZesB1ZtNoK1nSDzhMtvOA9kGWrVZsgzZQykD2eUZI9XSAF2dJRNRVQUyuvIQFVjBF0gwLsi3gKUa7ItXIPaCmqlE5hqBdQ9lSSgOPynyePZ6z8bdkJvmdjkO0cebJwgwf9Ldjr8znIlGoBrs6bQ3hmQwYhdPLtFgSq5tJa9KohtnySqgH4gFVY2ukdXhAe6abF6cbhO9rLN6Uf8Am/sm4NdiFa8P3kn8Gir6gGa6H4y6LvidKXRvVPs2jV4Yicbhi67bMy9zJ7JtKvWIK2vJLbSY1YpfD0QLXwCUa5QAF2h0g2ioQDFr5xq3OFQArc9pxy7/AJPhDvizp3dLt8xyK047Cy8Isxo37qT+Z9AIuRC2R+ICADeYBdZlVb2oBKwAWKrKDaF1ibwmkNTjt1fJ49vztSUu3tHIzjkq1PCFeXauyB7bFHIwAKrFIBm7RVVnN7Yuq1g2V1MZUwErdoKgLBdoG8JPX0QK1MKqpdQ6vAJsoHGMbf3tc7//AHWX/WOTtt6bW3jjGO8t33bb0Lzl/aOSs3yjG0Uuka7tRC7JfXZ9sphQoKvNSCj9kBru2WqC7K6Ra1p+oC5l2fUAegSraVsiXqU0iIjWU6mT7MfLfK2Nc14f6tF9lj61VF3dk+W8lquycs/g8X2WEeQ+HBbVYQuf/Vl9o3Gmw0uB82ELl/1ZfaN0ugqjLV6QVDCraMBNtA1NQ6uclmqApogabDFxg10gZKufeCmpjHUxTMBdPpA2UlWq5R6qtIDXa1j18pK7WkatlNIS7QbQb3ohTZtAJVHq5LA3dNgl0Lr+20A6aRdWyNhN4AC36wf1gt+sDaADT9qwbNye2GX0iSiqidptf6pVVIa+T6oDYhSqs3SFT9qCApsp2fUHSOmynWpNPZ9oBCqKZiagCrtZvLBm7Qqu1646rGMqWYG+2yFVv2pAA1c/sCZfCFOX+oS0JG12qbRe1yibqGSvV+sBRPXUCtTveuFdX9sKaNmOMcH3+BZx7N68ZhvWOTKcY4O9Pe1XbvTcw3rAcoqqJZgI3tHS2QgEzeAbL0ieMs5ECmJmsXlyipduyUqpVp2mbpAQsO1qbbfWMy6VWm1iVpUP1gLCqnUIlmsAraXQTTlBmFVmA49jheMuiTh9O8ZVfXW05E+aJEtp3mOP4vWqFcsO3eveV9s337YUPZ+zCbKG6FXb9oiCqxV0WsKrteuDbO0LjKf7ZQM3Nb+qJftsks1QVZv7IVejsip+1BGtvsot7UvqBFU28g2JXpfqMDaftUAmazNoBmEumqm0Kgrjt3Zse34/QlJeH/3/AFjkGU4/cvymL8TP0e51/wCEb6q2nUaRdNRiZKvtvFM3OT0gFlbX0hVeAdNJNVXlADMT5tIydbagCrmFva3BhVAPKGyJs3KxQE72m0WvnBswm0KoBUTVl1FEt5RQMLxAIBam17Qh028lIUsA9ollpUar9qAYDGrWsq225WpGrWrvDACqiamGTpKAVPPYFX2rEAMKkGBgJZea0S5dQeIVPYAURbGpW2tc1WUWUGUN00EAhVWgDaDHlKFs8gCppACddQAwh5RAJiKht1C1hAJlCoTAJlykjYhgEIbEADCAAEQyjJAG2dJOpim2dFpPUUIQxbwAS1Q8xLADaCG0FEmxDbJLMWxhbaKPtUKhKUu0cYBiKAoaiKAa5iiCyC10DXKRUWuyAwEOoC6hqY9fMZKgKqGpK1DXSBVJRJRkPQHjBRgC7JRJQDUZNI90BlayAXSBkGSVVaBS6OS1hk1MUAtnyiqqhABSjJUraAFy6wDZABLWrajJV4RAoFa11Wh1BV4R1EFbwbwt0AKVQJHmAaqPa5QUfZAa9ZRGvlKXT6IFVVAKnwAQMBVUqNW8ID9UF8Ag11AUo6qRa21i4ztBTq5gFp7QwhqMne0WFVANWGuYlhrp5grItRRjXSuq0sC6R0mNS1zAaCey46ud7N+UmIfsnIqec098YeS95mTmkvGbu+ak2bi4ktS2W1dFqtZbpMHe5eP78L6/RQPcByDXy0iptXdNCuGp/nxhfn6KB9Qfe1PNtYuvz0IH1CbDfU2ryKOm1t00Pe1O/vuv30YX1Bd7M7z4uv8A/wCF9QbDfrpp0UhTarazQ96803+d1/8A/C+oLvYm/wB9d/8ApwvqDYb+m1tRWfkOP96823LivEX6WF/8Yu9eYXlxXiL9LC+oXYch1sYLwh2xbvmk6UF1+dWNL3qx2/zpxFV/6sL6gNhOMysj4pxKytlb9kQvqAfRgdq8IXTb/B1/mqN1TbyHGJPBKXfKQ5WUxJiKDLpsw1mEy6fMM/erE/fNiX6Qn1DOI3+eovOcd704lWvFOJfpCfUGuEbV/wA6cS/SE+oMRyQFV+Y46uE7eSzE2JfpCfUH3pW/vmxL9KT6gHItfR2R0ucc707W/wA5sS/Sk+oHelY3+cmJfpSfUA5FTbzKOm3kpOO96KNyYkxK38qX6g+9JF/zixK38tX6hByJVdW02nHIi2wuEaXttXbuxv5nH3ow/wA/4l+mr9Qz3bheUuy8fjKyevScmlgtBVpuY4ylbejqsA3OsBKDEDZfVEKqrKNupgEqhr5NrMMernAa5lW0okeukAXT0jj0BbfukRLKNu6lb5nY5DVTrtNTe+F7uvmegz8eLPQZqFDaCsSUmmhNRbutoKNxDW11V7K6QZX6Jx5cEyP5zv8A/wB6ONsFyH5xxF/vRwOQ0vzKPi36DnHO8uQ/ON//AO9Iou8q7m5Zy/8A/ekUK5FS5VLdE453k3a2qycv+npfGkUfeTdfJbOX5/vSKByFob9AqmJyUnG1wTdH5Vfn+9IvvH3i3Tzx76/3rH94HI6H5KQ4p2XZc453i3N+Nvr/AHrH941wHczb18/70j+8naMXCFDdbjl3tWmifl29c5M8KJU2XeY4zH4O8OzkNYc1CvGNDqVqYl5R2zemZe8W421W/Gjf/so/1x2jf8W/R6RXFvzQuluHHO8S4m5YV4/T4/1w7wrg/FXj9PmPrjtHJGhxGX8F6gcW/Q9U442AMP8A5LPfT5j64LgLD9P95zf0+Y+uO0clobohxdpxxcBYd5LZOZ+mzH1xtgDDeb9gzP02Y+uO0ci4u0VNtTWnHe8LDP5ujfTZj64NgDDHLbdz/TZj647RyGm1s1Rgnlt+L5qy2j+933+wxpe8LDFP+Cf+aj/XDvCwsytZbdKUttL3RF+uUZMBtVgy5bf4OvtMb3e0VGCVlpeRlIMpKQkl5eAqw4cNdlVsMixNkDJu7Ql2doaxA02GAmYxspbNaSwEstuYrXyj8RLLYvnADbWoBUj3dQFLoVvKKpzaDGq+cZAHqHqJHVS2sAUKhVZtQM9K6zSDoh9vWFlp1DVrKQAKrWq84GE3lAG629tD1i8QVeEBk6lZQqFVSA1Wzn7I6fATveSPrKKVeyLZ/sEq1ikNFpqsp2doKuqxm1Cq5yN4axOa0B1L0h1c365Dav7YK32rMC1bLp/XCrKSrWlVUgH23RU9n1B6uclmsq0fqAOmz7IDLSupBMtP9gGygFIKJms6QVWdL1zYfnCq8HthVm0frjZqtf64CqtqOF4TveYw/cvxdO4bv9oyTEVqoMkzLrbVTac118glq5wNE2LKuTDeJfoDe8lsVR21WYZxFT/qX9Jv2Uim0naNF3yxm/zWxE38lX3jbEs1Tqwpf7f7JV/7m8FTYUaPvjnm5MI356EL64++O8ubB9+N+i+ubtls7AqbC5RGl74b1bV3m316cBf1xfH98fvNvfzpiB9c3YxlEaFr8vxl0d5t4/SoC/rh8eX+q/4nzfnTsD3m9pGMoo0Px5iCn/E+N9Pge8Xx1iNuTB//APkoByCnKTTYTJXD75iYqvd7teHhaDDWTnUmm4y8oTVU7q6DZRL5xPEZre9SCv8A+yhG9psyh494uSNEt64p5bMMyi+VeSe4Xxliv97cj/vJfcbxlEzc5MlaP4yxXT/gC6/OvT+oSt4Yub9wrlX/APaN9Q3+rpCzdL1y5I0Hd2Lua57j/wB5N/8AGJprGLfuTcC/y92//wCZvl2v64fbdLurQ8fjHnu7Dq/yp/qC43GnNJ4d86Yi/UN7tB4k9Qbo0TNjRv2rDS/7WP7if7sujhpfPmPcb/zRMub+0N1aL+7Jv23DS/SPcH92PL3Vh30Zj3G9qp+zArdou6NNcF0T93zN6T16TkpGmp+MrfsZGWHCVVWyxdes2y5d6rtDq5qvWCqre2gJZiNf2pKbwfVE2Xk/VAFW2nMuYllqb+oU2z/UMMRrV1bK7WwBdJMRbGXRaJWqVX2hgFNNNlhPjK+28JmsAXiBgq8AeMAYllp3h6RFE084ayiPEAyW0Dqq1i2tYCbLqpE3h3QDMA10MJvJBu0olYA184N9toAAVXgFqXkGTUUUSAqgDUSzcw2awYEUk0+ApqhATSIollymghbIxASJg84mq1uTZAG0sFPOMVXhCJZhDYTATzk7xQqQJbZ1i6imJARDeSWQAqSCm0kgG8SwyagJAAARDFkMUIWYMwwExIMBsIkGJZgBjC2kyNoMEQ0Pu0jqJHvHEK6ylJUoBmTaMal1AMsgogZesgAMgKTUUvhAsZClaQKUpdkioYGQohdI6jItQFUAFKUSFQFgT0h05qgKAQLpAsaiBVAyATpGwFDUjMMBlKSuikAMlVQK1vPuiACilIqpH4gLpsbUAhKwDXKHiCrwDYB1AJR1EDUZKlANRqSMC9kbLzGMpWsYgoNIqRU+AC6rGKMVVRWgCqreYNrkYlSqsoUeNh1Cqs5LAqAFYsmq3lCq1QK2h7+ndBWGxkBS+AnLzgrZtZoXSNSesGa2rUpkZBr4bSPEWuakBhV4QXyQ1ryAZRGKI9KVxMvSLqqRXQAVR7PILe02lgNhbVIbO6YJ68pG7YSvPT0tJw22eOi8XUB9CjqPku2ckLzSJGu6cl5pV2mgxeMp+Y+rW2qwA5vt0RtmFVzgrZlIApTUzmKLjuyO0vPX7dcrGX9riTCqxs4UWDHhQ48GPBjQX2YkN6lYC1bn6I1E32/6A2bzgHvaRr1EjqANrslkddQwCoNoNkNfKAbuolYlKtpWmnpFVc5DdrZILqK6XZIVc2nZqGu15QFb2UFAVVIDHpBW2gbwWAPMKrwksxevnAN3QLe0FLlUdICzAw9fM4NpVTKmFPhJqtKXSANoVlEy2s23lG3siWHa2qwBMtKrbZul5fshxK9+FTA9zzcSRnsTSMOYRvlFXNT/AB2HI7svGQvy71vC6pyWnpV9mJBepf6psfSq0/2ApCkdJgFPZ9QhaW5D5r3vW7rhu+JeN6zkGTlYW1EiZV/rHGLo4X8A3zPLIymJJfuh2pVYyNDVm8duo1ijmGr2Sl2dFn6wmWnV6JK6edqtkDLqp/tEs1Skq3a9cdXa9cB9VtHrA2X+2Or7Vkt5XrgFXq9sFXNr9sGbN/XGzM1WYA1KFVvMJt7T+qLXyfVMqyeMevlsXLl6JjLVref2ABtK/wBgjr/UK8aeoLzQDW2oTLYP7bAm8NgBSoqadVgNmF5wGVdA+cxLELVs2ZgK1D6xKPa5QDUvqmNs1OhvKCLD42HRZlZaaSoelVWyqo0h0hT9vOJ67ftmK105gFTara26QU2dLaqCmphVWtysAUk7xVJK9YDXQSuld0dX6oL5JQ1DVtBu5gZgpUmOJXS1lhlbKRVT0wJp5t3yx6lCrzQ0mA6hMFNrCAcPK2yZOkYqeyPZ/sAUy/agWqnZ9QQeMBfbeDr+sTq+1RX22jYdVoVW001euRTm0/rlr9s4B4vbCr7ZR7XZEA/tui2uT2ACm37IAeZ6geaGgTBE6iqiRM32rCnVzhVlJZu0ADqqBWqFTzhs6zAa6eUTNUrVKLX9kOu+GDhZTg5k4MpIwEmL4mlqhq2zATkqZTUYjsbpA3hPNUxwjcM+GZOVv2+YExDuuOy0tMSq8WytycmtTvHg8xxKY/w1BvWAiS8ZW4mZh17L8+j/AKmpRRyNg3su79YpdLa7N4jKzaLWT0+yQIFW2nZOhMXcMGLcWYqiYW4PIT0qzKsSCqtFj08rVW7Kmuk+FThD4OcTQbrxwrzEGJS0SHMotVFrbSPZ4DWw9GLlp7SgubUY4UzDm4UOPAaqDFVWht0lt12F72oyBtCkN1FEsAucVNvMAN5JQKv2oCmzm3vKFUIB6mBvtnBmp/tiqYCWank9sVXa9cr7bZFVvS2jQKvtlJZraR69oTLVrAlV+1BHFVVZim+2QN7ZAxqlOunZL3dIa1DZUB02+iS3hNDflw3tfN83PNyl7fFcrIs0SIy1NEitbqpp5NFtnhN87VcmXzwELabTUJVtXe9cpmAROrlG2mrKTs6ygppJ1sVSIBeqC+ANYqQEPe2dointDAdNXKJdkZO6AMAC1gHUKoNlgqKCoTN4BAwCYZO9pBgBiN4N0NkAXw0ksPZFvGgtQmaxeXeGKI3gAhm5hVDy7u8LdCGAGPTaBTdZjYoGAmkAYQCidRLFMSBDaKSW8I2zEgDC8Q+okBCKykMAmI3imEAEMMTFCAKvAAEMA2JbTymwmYlht1ENUBLGJtBbbJibqND7hkF1VHELAkagWWpjGBkKJAgpRiUYAZFIUpQL2Q3RFAUpSkDAybIEK1PKUZF1ApJWm0BjBWACgEpQAXSRvFqtoAMQLsgUDZhAAyiR1AUMjaKAYAOoBj5hKOoB7wCGBaqMkZAKPxiF1AWoVMIdQCLpIKppIHTm0h4xeIYDXwjZSfZL184Dps5g0EFdQFZiiNI8wUU0qPMJWKAKgBdnQMCl8IgVrGbSFRkPWxVIlH4gCmoa7XaAfiAulR00sSJWqbZAyU1Cp9EF9kfiAKKtspdnTui5ywBRbQxLlAiPMpKwo0eL+DhQ2iN5Nms8wXLdF6fCB4QpqyevN5eVhVxqqKuIhWNosVVPUbQ0iLQ61Ky0srHDsUYnwbwOyrTqXdKS89HhtxctLr8pH8roqaiOjMW4cvjgAxtIx7nvZ5qXj/LQW/B8aqtodIicjHeV98MeEsPRZODe8eZk5ialkmFVoTMtLLzN1WnTtzXDifh+xet+XrAeVuWEyqsRquLVLG00J0rfDady8LfBzduNMHNBql5OcuqXaJKTMTKqqq60ZujaSXI+vc2+JMbYfwnccvfd5XiiyM1T3O0PNxq2+A4Vj7hZlF4MprEGHosyvdMbuSXjREZaWt5Ws/iPP2FVn8a3zh/C15Xw8O74UZocFYz/ACcBbddq2N18x7KXC91Lc8rccS7paNd8qqrDgxEqWpV2vKM8ZGPa84cGXAMnCbhqYxHel+xpeNHiMsFaFdmazedresz8Bd/XzhLhGjYHmpruiRixHl4kOupVdNdjpp2TmfCJw2XTgeBEwtguVgxryWqHVBT5KA1vgWzaY+PgQ4KL0u+8GxlieuDeEVXaXgxPwis3K7ePwGpehHk7oqHqUVO0IyKbKuoPEL1RrtKAU5h6uWwPGPUAtY6QpGygSKJ6xQtqnpEF0gT2Q6IFbIE0lAOnwDCoAKJ3hqGuoB01DFTSFK8luYypqtWsTLzhshEWkCF01FLoy6BZQ8QDVajgPDliOew1weTj3bxyzU5EWW4yHtQlt5W1dRz/AHtI/kEhs8xxPEpmicZsqti7Ws1FJOgeCT4P1y4vwZDvzEEzPQ5qfZ+IWG/F8WvJVb0vCabgGvC8cL8Jt4YYlWeekX7ogxIcPZitDbU9nNpOQ8InDhP3/Pd5/BtJxo0aLVBabgwszeHi15Fs6zl/AfwNxOD2FEvm+2SJfkzDppXMsBbddq6d623nNa6/sivCHDpcWJ8Wd68e7p66bwZmgr3XTTxtjbHlDvXhwumUxt3n3bdM9e09x3c7NL08XXz+bZznXPwosNXNdl/XXiCQmUl72nsseXh5Wankj6d1uY2fwV7luSZi3tfcSa7ov6FE4vi22ocJt+req8JdY/JHuafhua+cb8K8rhLipuDd8CJCgQ2WEzQ1q238Go+vhu4D8L4HwXBvm44s3DmIEdIMZZiLxix1t1c+zbzndePMdXFgC6Gva9WTjP8AJ4K5osd+z9Y6BWWx38JG+oceNC+LcNy8TLEpbioXk9N+s1FHa3ARfE/fXBpIxrxivGiS0aLLQ4jbTIvJV0tBz+rw+2fFceHpLCtyydyXcvFysrDpXPtNzs3atPt8441JtnRV646qt7Zp3xN6Iftmlt0gqrm8kStbVoCp+b9UVNra6PUAreDdykr9sgU/akB05f6gas2n2BKtvLYnqCq8PsGVFPP+oNcvL7BOpRro3gLba0Cps9HyhVZdqkfGc1ntgPok1Ujq7Xrk1fasB1WfZxVVf2x5g11AFPOZKvARtVecC7WoDKLrsClqtkM32UBqLogpJpF0ipAGzGVFNnJ5QNoJbet8oPt6oFU2clhNOXUJRLEXmNIezT5oLsi3R7plTqCokNrUbFNs6SG08hTLbSSy5eyBIteYZLLYzK1tFS7JgUJtBNNVNgqQHl5izGWoDDZJ/VK8YB5/rh9tsQMALsjUTD+2wbAwdYbX9gllAYbIdQVAAqvALaD7bQFVWdL1iGa2r+uOqoW0wC1i6hh9tgBKoKtubSH22Ap5wFtVaVOv8VcCUDGOOoOKZu9nWHCaE3cnFVLk3TsJdpVY6K4euFudu2bjYRuCaeXZYdM7MQ3za9xej1likm0+EPwpXI2HpjBd3R0vC8JpkWNxOZYC2Npp7TW+CwWCeCG8YvA1MXbNxZi7b4n43dsGl6WhNzLb47DjHBdH4IMFwpe9b7v2De1/fhKmhM0KWa3dWy3at6zuSZ4XcMxMHXhi+UnHmJGVicSu60WLTqRbDQ88Ye4YMT4AuC/sKzcONEnrW4mDGjPU0i9jaH5dbabOQ7W4DeDefu65YmI8QTU38ZXnBdYEONFZuIhNqqptt2rToy8LqxVj2WxBwh2ytUvCmV45l2vMs3rFp1novgn4VJLFGA409eUdIc9c8FmnV6SWLqdfGXUTgfgww5wNteGIJu+OMV4fFxJiZTi1hLVrp8Z1Djq+o/D3wkychhyTjNKyqrLrGo3N926K+A0GKMfvwn4shviS+I114fWI3FrBRonFJZyZLNp7fCdv4X4WeCDA92Q7uuBpuCuVYkbuVuMjt0na0DtWVlEu+Vl5GHmWBBSGrdKldBlEr2RYcOMmy6rEXybdY9BxqGWzN2iWAVJUNspIbuUlmtAajqJYbNTsgFVVS/bZF4gqJqpbbNAZhdYVfq+4XjATaefN6Iv1ewPd1EMvZ2uwANo5vYJZftQVT9vGS3h+sAKOoAZgBmzf1xM2X+uFQqvCAvEHjDe1i0lBqq0WCpFVUJgDaE2hWHtCbeAWraJK6gAkAqABMMkMwDpJ2Qq5hMAdQmGS20UAB6wASIBU1AAvGDaOQW6AaCaShGhFQmYbC3coCqBgFVaEMkomoBEF6SLd0BAAgJBitkmrLqAnQSxWkmoDGNhsQAmEw2JYAJDmACahDJKFsjpAlmAGJDrJY2JYTDbaJbTyAYyInUWxEQ0PrLUgtTiD8YAUAKwyVGBVRkUxlqQWugW8MYAWol0ArAWpSkgGFjUkpTIeyVUQUBQ18BKsWobMqokYDUYCYCtQ6iRqBTeEFakQUgXugIAK0jViVACqh1W8xO6OoCgErVarBkFqFVglYYDDUIYFeMZOsa7QD2Q8QlYoBgLqsGrANcoyVKqIHSAt3pAA6bGAXUPa5AGu0HkiVcwa6gLqy5R1VGGHHSLEiQ1rqTaqRlLq8AVkqGvWY6qiqswFVc4NlEoaukBa7WiwreMQ8xkZVHUSuYfX0gHrXWOlRLoYa5QG3gpCHoYNXMJl5gMi+EFMZVVQGRcu6NtrKRvABkHtEax1ANolqQ4j01UKzKvS0LpPG2I73vnEOLZi+70umbnv2TV3NEhPxdFjbHknspWtqDjLeZU9BfcWOo89QPhFYyk5aHKSmDZSXl4S0w4cOXdVX+Y+7hQ4Ub8xDgW67pkrsm4M9ecPjJ/iYTUqlWixP4zvlY7ctmX0fcVxtrU2W0N6PuG48zX9wB3lcvB3deIpBo0S/IH7InZZX2Ut12UdpTkz8LN+3rwOzkF5O8YOJJaiWiN3O1UWEzfhV7WjVad6rEy7QuNdW1N7JMh44wTfN94Jvdr2gYUe8pyn5OJOy7txTc7KujatO0sPcO+PL4v+75Gdw2kOXmZhYcaJ3O60rb/Ed68a9W17INFdqs3qKXcOItixNoQm3dKkM1uWykyKKpJUeYCqQ1E9Q12QKCone1hqIMlIGOqwa9YF7IELoH5QFAFQALdL8RjqKqAqoe0T+qPqAoe6SugYF7uUltkW6oKoC8Ym8A6aqRLpUB/1jgvDXAxFPYDjSOG5OZnJqajLBjLB2uK5znXR7QLl5GEZDyphC4eFzAcWNGw/hmblY0daYkRpVYjU2bq2225bDsDB2JeHB8TSNuIbsm4l0qzNML3Oq1LYuyd2s1vLU+bti4+ItOZ6Wq3zWQ8+Xdwc4r4TeFKJfmOLnjSN0wonGNDiZVaEuxCs/wC4rx4MsY8F3Cet+4DumNeF0u3HLBhtswrduA//AGPRLNa287bW04M9tTZnGQ828NODsf4/xrEvKVwzeMS7Vl4Syys6/JaUW21adPLpqHdrfCCuyRl5G75GYlZWWVYcODDhQlVVsPR7tb0gXT0n/wD4GY4VwVxcbxbhmrcdrGW8O6PkeMpVqP4jmVQa2fQJVtp2c2XcIG2bVaJlzaBZm5R7JA6ftQHi9gTC1ZgCnnKXQ39gmoKrF/tgVqUhWsq0dElYtUdoNu6qttl9dntmVG6C/bOFVtLBr5AGvV7YM1vS9ca6W5P1QaoBeeHULXVrX1Ap5/1AHTavKCrVrHtU/UCmz0uwBe1/YF1W+wKkrx0AVSQVrbeIpsq/rgWuUFyiXRlWzdp3w3ltq9cB1W84MDaSGbwVttAMOuwTaWbWoUgFNmXzQVrFUPN6IgDaK6id3QKoB7Q6SdodVvMA9Yomz6weMKQIACfVAsiqz0QZhAAFM1oUgA6bQZcwU21AGgGIzVFUgLL9lHSLeEbD1FaSVYWn7VgV53riq+1Yw6wJqDySWiU+yPzQEz2LqGy2kOlWsFWkCt6r9QXXSMmoAH1/WDxCq+1QFLtat04DfPAbgu/r1mr1vGBPRJqZicZEpmMpzzW39sKreYZDrn73rg8X/IZ5v5UfZF4EcENdEG6rZOeaThRGjLD7q37dVrHOswMwyHw3Vh667mw/DuCUk0h3asPieJ3WW3Vbp67TjF3cDOB7s7oslLpjQe6ofExqZpqWW3dOZtmEy21DIcChcA3B4q6PiCM38qYtOA3g8XP8QPlZdqac502UVVO99rBkGqoqqiLSqqqqvRWxdQqgq8IqrQEzeAdRj3tRWvLpKhs1lRjZuiJonNYKq0ClBRa6Q3gGuakmm1vJYbNbzCbLyL9rDQNYbQNlJYBxMu6Kmnl3SaRa2AKrNqzd/wCxS6DGyozaXXN5wKtli6AHsi8/MOoTN2gDT2gZhklC+26LaGQBbEMHmi80B0+D2BMIa6WbR0gFqFV5AcZY2qxheeAZgqDaEzW06QAXiFUo9IC8YuoNoADWSwxM2YoBMIPGAbROYrqIqAZICqNAZiW8BRLZgJ3gbwlKxLAJgFlEEAmHtABHiURVJOyAhD2SWAGJYYmAjTaACAgGGzUktmUAIYshgJDmGQUIAABCYTABJJTaaiTYRLbJTEMwGJtJEQyMYGbwGmX3+UUpJRxNKqUoga1AUAAQUo1YgagZFYyGJWLUBqUGyAYWNcxI6gLKUxlrsmQyiQApSqiR1BtYxKPSBSjI0j1sBQ1IaoFYC1Pla95KHfMG6eN/ZUWG0Sno6PD4z6aTHAu+UlpmJNQZODDmIv4SNRmYJ2vo7IEj8QVQVeEhgAyaRMwlYKgH4i6sugx1WlEFVVNoKqMeke0BkqKMS6atBagWFQhgHWV4yQAsKRKP2gAasICCsoVEguioCquyGrkEICx7PITVzDUBq9vSCoXiHUA9kqqpiKhhV7PIAgqMih7PmkjApdnQX4jHtFrm1gUPa5FJXKIDJqFSIYD1rqDZbWINrWBS6ecojZYdXbAyLtFZqSKvAVV2wKVrOcKiKhq2YClaouoxq1g6gLqHtNpMWuqksgrrAx1WrrtBdIVfmkNoq0WFtp5gps5/YCBWt5afUKVecx6qdaFgOmryR6lJGoDYkuqwVVWq0gWyNephVZRgNuodRNQ6rORWzeWAA2kA6IDbZ0BUIKgMnSBm8Bj0Wl623QGW28Ylapi9dOiwAZbKh1ZQ2lDUqgUJuoStVrszA2nmAdNtOj7bIU2syhVm1doOuztAJdNS6QbSzKX1E0gNV9kIi1a/ttArbNlot7X2QBlqXX2htpp9IS7tnSHqAhWsarpK2b+JRtlXQOmxeRUXaE21rbaAKv1RauQa5dVoVU+aZVO0FX2rK3uiSuUB7uv2wq5hBTl0gWS2bpiptpHrXk9gA1t5wVULXb7AqqtdNK9pBq3PkNIIelqcuVh05v6gqU5bFQFaxmMqdJTaMtgvExTN9qwJWirX+sKqzlyD871xqzcgCVrel65VX2rCq37UkrX5XogZKuf9cmq3m9sdNtX9Qa+T6oBr9kBKtv2QKftQAm2dZPV5QMtSib6wFVdj1AXMwqqQNIP6oNSrAuZdQM3OAukOpQ1/ZxemAwF1jKoFVYusN2kTLlMB7WoTZd0WteUsDCy5dFoMpkZbG1kNlARQU284tYFBqFs8g6lAVVir2g+20TWHaApdrSTVl0lVW8xIFVE6xUjZbV1fqGwCYGFqAGWoGCoWXl6QCHVZzB5wVfasBDVvtWKrd/XAB1fasQa+UG88A8Y8wm+2QTfbIAUgvWvqC2ehl7Am0AFNv2QQM3OFVqrtZgBuokqrtesTs72yAbzaB1Ew66tbVKFRQ20KJms5bBVCCJbKujaGBPjAfmiE2WpukFXgAa5vOAG3rDG7Ua87VGhYm+38YNlbQGz5IEsFXh+3OL7fMG1ygFRNVP8AbGGUA3QAnaAfjFmFTmDW3JvFE1Uj8XsEam/sAwDbaFSMlmzAAeIA2QEzW1CHsgoBu6iKvCV0dItVIC2SW0LqG2UnaYBDFVmXKNtpgBhahN1ElF6mE2jpkVW8wwFr3RbOo+eK0z3Sv4upfRPpt3gJYWyMWyaBvE02r2htpJCDZJG2ZRUgDEg2YOoBAAmAZGyGoKvAAmENiABvCJht5RJQElENpIIEAABDKUQxQmJKJqAQgqAAJKIYAIYbMJjYklhtmJYCGMMTRvGVuswu3gND7ygDTYcQoA3QAoCSiAK8ZO8VSALm5DKq5RKtJQDGTUVUBSjIXwlKGFDVRFGRQCGBSj2RDqAsCSlDZr1DJGBZIhqA16ylJXKMBjECgBS6OckAHUACqzaAGNW8BIayDIuY+aBI8VMtMRJqNEammndU+hWGBdRVTGIpQMm0PZJUa5tYFDJHzAV4xBUDN4QHvDJAgoCagAva5R5SR1cwD6wEOoAKEoVecBStzBsiGFWPSIDIqpQUSlgKnNpKELe1AXSPxkLlKAFLqJq5hVAWNSVbNr9srSAMGkGBQGrcxkqMbBr5CDJUIlfJKp57CgLYxlU/agClH5uYnZ/sBvayB+SNdBOzSOnN2QLXqUMoqqVErWcgDXQVULSHi9sBqw6ifF7ZQB9tsdQm6gIG2mkfWLMICm006RKvOKmrl9ga/bIBW7lAW6PU3nAGyIKbKvKHq5wCmka5RKVpsApesNXokNE8BWm0ClDapEzDqAFWldXSKXS3JmEyjq8P2ygHUDC1KHRt8kB/1gbKvpCXdyCbRy1AVT4O0Le027oVZRMwFJTy9GkPF2Rb2oMwFEtm1bo109IF2elsmVJltsbQOphNpYF01awCrwAvhtX1BRNC57dlcwVWNrs9YBaApzdEeXnykrpanogMPQpDd/rgv2zgHjBWsq6Xnj9MNbMAVZv64fbbHrq3xU7IFZu2X6e9vmJVtp/qFfbYAvXVv+qT9tgN7c9AVQDVftQLZ3fUDaCr7VgXqJXR2AZrN32wq2s3rgFVnPQFVjcgle2rXX6Y6rW6fpgDaPs5LdlulvlM1vbE2n2gD7bYVeXujptq2fUFr+yAMNonr/UGBOurWtK5twe0LVUC+YA6qQXMuv2BBUbFZRUjJqMBM2WmxgCmnpjbwgDbQgABLoVtPSHsiDaAfiET5QNmAF006QADYBdQalBW8NBgFNlQB4n9cVX2rNg1B9tsVQZwhi/tbY9ZIAPxi6v1AZc39QAABBT+2wKnw+wGrmABKtgaqdFuUW9ubPTBm7frgJtDBVV/bCrtesC6QBvK9cKu16wayd1dO6AmzNqClhBTz2+wBWyY22tQv2zX7AyoPEoN4RbXZBQJZs2sFbNobaUbaGMTLm1gZPGJdkirzqhq21aBWoBM1nLSSy2qzaDQraXyv+5NXhBsu6C7OyAbQ/ESzeAVOXQA6rG12E7TAuVvtzBxllW+A6ahfqi4yykiuzmAve2SabPRHVbz0U+cCtY2qwoxUuqtQqVL0hqtu/tF6m17wqtP9sBVcwqqv7ZVQa25QMZW0BIDqYTLUNlzaheZ6gB9tgTKPzCaagJp5v1BbWawbZQq7QEstvGDZgq8AmbL/XAG8ogpupvXJKKqEzW8oqrfSE2kA2hdYqbVeurLTTSAAxNJQt7MAtRLFVEmkKqkN0TAzAKrwiDqAAJYekhmAQxC8YDbMSwxauUBMvOQ20WzElC2SWGT4iCBsvOBO9UUBBZACJKYkBEsUIAIYpiWNiAATAJjH1GQxNpAlmt5KT54uyZ22TAxobHUUSUpxBqMSjpAoFAMxA6S16ySgKKIHrAoZKjAoolesoMKViiB1GRkqAQt4C6itNpFRSsBRRGtSw2W8ULxABSqFPgF1jAe7rGAusBhV4ADdAACoKgGAqhgAAIgumkrWQUA16h0+EQAWpamNGsp0l1ZgKCoSjUBh2QEAwEBAx+IQVAPeKJXKDMBW6UTpKUAGuUQAUuUZKj8ZlVFEKHWBZS7JjKqAvV5IZRZQqAoZO8OqrWAyqvtWRUMB7Jem0ldPIOptkCtIU84l2v6g9AFbusW0LUDaVVqV9QB00jpzEpXmrZGzZaUZcpk8QD8QVCXwjqzafJIG2VtAtXtBVZT/XCq3L9cCur9cGf7ViqpCoCqref2wVvOIqq1fbUVr5QGunltzDqza94mm3lsG3k+p/EA6tmzOwK1pNNrN5JbaKdn1AKzE7wtr+wGpvKILXwCYKrGq7QNmb+v2gG2hRroUhmq3vXK1N5XlgUwVfbxCZrW3vWHrYA1VLp9sahVaoNpAa/bOG16pLB9tgBqvOPdWwWyNdoB625RkeyWrWc6oBKukVdKPVu5TI2ZTX3bdll3vGeyPGicay5W2VPv0gPa5QbQobQAOra7LE7VPRG3gs7QVVawFVY2rySc+/0d0vN9vJFrq9EAUqkhdPKVVl7RlVLtAuhddgqR+MAXQvLvAHjBcoB4hRM2beKqsMbLmqs2m2v4wH6Yb2ixQq5qBt1ALXzhrp00uNmpbQLKAU206bfYCn7UC9AeqrSA6RdEG8NXrhVzVesAaucdVlO4Crb2x6+XOAN5Xrjqp5Ozvipq12V7QNpq1gCtzWV1eWTXV0w1+zuCVKuX0QMmvkz7wMtv2Qllp9bcDx0AP+ruCpp1/qB0djdDL2AHq5+1uAy2dj0Bava3wq+1QBq5qAyhVV/bBfP3QF53rgy0to3vLBlqVrLa8wKtK6LFdVUAb7Zx1CzfZBU89vsAMMxC5V/qFANltBsq/wBQTNmWykVVi1aKGZe2BMRalL1Zcob2ryQZucAE2gNNoqqgDUIPJAAqAKrQANdW0JdLKukai81wGTtD+2wJlsYBhrpCqnlFUbBrDXyfqCYrUREt9sgh/bbCoqk3WGUKvtUSzeABbuv2x6vs4ydYBV2vXCr7Vhr2RfbZAvX6RNVvISunn9gGX7UAPabygZaRKtnYAAb7ZCW+2QKrCMoF6jHqqYepv7YmiMq6nKBm8AtIt0ALFV9qxZ+2FVS6AhtlbQHX0SabWBlAeyAm2hNvAOmzn9glVzA8WxVzNSRxitVmQ0GHXbvf9xNlYdVICYKg3tAADZvOE2YeyDAS2YVNmbQNhAGpiG0rr9JS9ZLZShK1tOm3aKIppHUAhDEuzrATfbIFPhBQ2WATKANoqCpekAqeYmrNTYVUFQE6hbukGYNNoC8oW8MW0USNlt5g2gbMAqRN9sgAEIWUZNXgAQagqExoSwAPeAgWUbCbSAhBvAAbRFObQXrMe8A6aSShAQNlGxICENhFEsuYkbCAkRW0SAmJGwtIEsSUxICEOolgF4iSvEQ20bCEwxASxLFMxAGNspgibWgztl5T54jUsxobIokDiFjJUoChqIN0CiiSiCgUQwLEqgAYXujXQSoAWMSjAraYoxlmQxrmEPZDatoumlSBqAUlEgBYaRCqqAuoKhaQ0gWAlGAVAAAAAAAMQEFVAKoagXsjXRyEqUvgApcpSk1eAFYCiiCqvCA6gYWvltGAAxIEFKMXUADGIALUtcuq0SqFIDUROtVzAoF7w1JbLTaWrUqZUAC5uQdIABQ16gHUOokYFATTz2gq29ECqbW5B0sTs8ofqgXtF0mKqkyAPRYFXhUBEFDZiVHVm0APKOr7VEjXaAyVVf2xE1WgukCteW2zeHtC2Q+2wBW19vCOmoxa15MxWUKbNmXSvnUeEqmzL9T+Mlmy7KDqp+38QQMtlPldj+MpafZJ4yne82sfSts9sKtSVYGb7VhrMAVrKv64+j9cfpgAbOrolLVlE2lv7Aqav7BpBmKptXlE32yE9Kz9QDIqjp2fN3CfQqG2hgGullVrezuB0fNF0gbLy7vbAarYPU3IKr7V9ka6Mtmf0wFTY3Q9MftAo9bANvD+uP7bROvkBtKrv+TQBetuUKraiKate75AbIGTeUWttdqibQCt4KAH9tgA1VBpAbZddIfqi+22TumVZNXKKrmsEDNm0WgVVYOqzltIpy6N3KMCtltAnS2pbanyts9LyhRNKrp2gRkp0WbPaAa9YVVcgMvMogDaUereEuyNQGJfZF6Y6amAS/VDq2gYWrkAbtVuhr5/YE2XWFXkbQFU/aker7ISrWBs6rfbAe76QVL2AbZ81t8Km7YAugKqdVXrhr5qxUt2wHVu/rj3tGf0xU2/ZA11f1AKXT2/TFmp3xU5vR3BamXc9ACs3bE2mrf9AnV2PWFV5AF6/sgtr+wKryPTBur2wGy2c1HoCbRy20KH22xttf1wErWN0KfODV2PTH4qxa+2AL5nphT9qxU2t0/QHr5P1AG2z/XEulgb7ZCcv2UBQ4ljJps6WYatlazP6BNK1V2UeTQVps7AD02ksu6AmazsAW2gmmknea0dVgDFqDd2gpygABsgAB12gwto2FVVy5Rh1EgBQuoKTAPELqzg2WoG8w2BhNm5QqUnxUAP7bAtkOsVVX9sAbR9kFl5cgM1Wqr1xK1Wv9cB1c4uoGiWVaONzN2x7K74E6qv64No+zhr5qxa2CG32zhVbyizE+Z6gA2kW8Js2r9QRQ9Ateb6gM1npC1NyUAOnn/UFvaf1A1DXRT/AFwBdCtpDZBmq/ti19P1wBd0F0ZfrjZrWX+uGvmAXnesRTzFtUwm07poRTVT9uouHDSkxt1eyNtnSAqqmGTTSzaPYCmmqz7eEChbQuoKqeUAEJmqbTYJsoFEMvGK1mz5JXURTYvIUSsOzltb0gpK2QXZAmqzlsDx5i4hK+G3MBI2zA2yLqCCoQ2W0mnwgLWzdES6actY26hgY6beddoTKWJvCFY1TM2X1C6bAXRuhq5yiQyjq+1YggqpJLYjXyABOyAm8IAKnwADbICZhdQg2TQQmH4wAlhahgAtRDBrqpABAAATmBhsQzANiWGIohhVDYgCiB72gmoCQBuskAYliiQExOyMGAlhNs6R5iajYliRsQAGMyNlMbAYorVHzRD6GPni6OQ0NqADONlRSkjAsABSNGWQo6iMLUZKsMCwAAKpKUnKAF8wyRqBY1I8ZSmRQ+iSMNqUYtQVAMakjqAsFAPGAwAYAOm0RQAAAAAAEBlAWthgA1YQ1YC10FLpVjGWoF1AoCygUAAAwDxDqIFshV4RCYC1akZNRQDGLWo12tAGRdnWBNVJQAyiRaarSsoauYAqDZ5Q2hGVZNkKrSfGMBts7QEjUBsxakAoGTdFSrcu8GyFPgAbZs26AgqtYClbNrMisY/1h623gMtQqrSV2dBXMQNSzGvWNWtVly7P/wDIDVrGXSjVLVujqpOP4Tvy6Z6LPXdIwu540CM0alXZlirVrez+PlN/s8hMhQsotnWGr0Sil0BtC2dVjDqtUCl0N53bBdH2clmtX1iWa3NZZtBVrlXa9ctfBaY8xTdQFLm1+SFVqrvip2vqBV4PYAtWtZd9vMEu79QnaUermMB+b6oLs7PqCbQwNvW/rgUvWLe3A+20Gn7VgUuikats6ezv/wAYtfbDXtZzSLX2u2Oqpf64usnZ1dHsAZPTDXy5yV2v6gZQHr7foD18/sCXR2BbWrIBVVLf1A1NV2SV2R+g3ngVqDVzks1Ou32x6+WzN5wDWhW3PTLVrF3vXMTae2Uq2rygOrm/XGrUrpEu79QVNP8AYAuq2nTvFbPTMVPg9gbaAL19sNrl9gjVmDUvQ9Myqm2cof1ictRQD0greEWvoj6VloFVZTF+DZbOl6pkVfNUxsttUOx/NyAZqsol0K2iwWunSOq3aozAFNOqwYt4lWtqArK3mhq9oW75RTb1nlAKqr1SfExVObySd5fNAa6ac+12R5tnyidQM1NXnAVTbVrVxU20/wBQWgMjdBtlQG2z2vIBvDT6gt3RZ7Yf1t8B+h6AmzKtljIofbbAAbzB6vs4a6Ra822A/F7YVfasFa37ILN0fUAr09npktp7YU1f2A+2wA18/wBUVLdv0AVbOwLV2AKZvtQDfrdAnU3JQKrN/XArU3JR6BC6F5aB9f64qm+zAPVTpyesGqrc9MWcNNvbAeoX22gperfVfIKpy6ba8vYAjXTteuPWJtFO1TV2B1WU/wBQAaqorXzi1fZCQHTm0kqrVabc28GpQ1dgChCbQDNSun9cB6gFvaA+22AahZR1C18psFWakQ2a0NfIYBqpCoVVTNn2WHvGwm+2cXneuMnxgJmBWs6QdYtXMoFaSeoTaAbzAFrYKfD7AmazkqBdHYAx8RBaIsa1flFyqxTN9qCmYlvtnAbZtQalCofX+uETq7AmbyCm6m9cxs1QC1cofbaHtcgaCg2f7YqgbTSFPPb7AAGm0Q2+2QAEulV8kNWYNQD2V1k9X6g2azsGNmAvr/UJ2dYVVAzfas0J1KFVgeL2wbTSAhr9s4VW1C11NmAAqBszCAneGJswaihKtii1D1CbNyAJV5gATtzWZQCrtiqspEzZqbNkNrdAW0USy2lUhENp5toNfPtD0DVfWAldPPlFUDbQM2UCiKgqqXT0hNpKBdAyAAbCDX9kJ8YFMRmKJp5wEyiG2glmAGJKE2kCahLo5AzD2tRoLaUSj6hNsgJgDLy2AwEksUS1POAhD1ABO0wmGxIE7zWiKJKExBbGMB1EjJpAlmEDeEAAkGEAmFUMneADHSZGzGPWpsITKNiWAllMfkl00kVFGGIfPHba6R9ETlPmiliNuMkpTjZBYgApQENWAsYhmUUPqILAY1JKXaAoYhgBaiHqDZqAMFXgMitJRj6ywKqGuYkALGqiXMHmgMogYFDUioe6BWyMWkALAVQa+X9cB+IBKPMAVALMFJBWthU8+cBgUq08peoxlKBXjKJ0gBQyCt0AqK8QhZiC9oKSR+MAyh1j2gUCl6x7JKszDAqrnKpMdVpVVoFhVzCGAh1AHUZULmKEuXVYGYB6mBWBcwdQFVVcpSkUj1gUKq1eUQ1XnAeunWC6VYPGPQBdNIEKxStZygV4torU3IQrU0l1UgPLzjVqSCt3UB8V33Ld12Tk1NykDi4041UZq/C2nV0T7mb1u2TrUbdQxDBdJDeqW3URVKtvMG1rJBgHtDVc2ynlUE09mkfiAeUai1tq/XG3UBVSi1VL2u2AAWujpeuFVP8AbMdNjGRurd7BgNWqp3QqtZtdfqibe+oJtAF7PKJVqXRT0dwmqzNaOqzMBdNX9gNXY9ANn+2JtPM2z2wHq5qBNteUPx7S9spdPbAKvtWOqz7OTVazaqyqbeXP6BpDqt+zjUx6vshVP2pAqm3t5QVfLansE5ewGpuhmAatY39gllsp3PQHq3Rqv2rAmnnto9AbaKddDFU2/Zx0/asCdS7yMPVyWN64ayl09sBVWLveuPT9qxbuj9QdPY9UCtdItTboqfCL0DKqbTy2FVeAinyCm0VABKtY2oKrFi0dFVYra3QE2irSXTs7Aqag11aLKwBWG2zqFrBVqYCspLRKWGzWsJm56QJq7A2exqhrmbQG0AqrOVl6RKta3JRlGyrTo8otVpYBLmVdPZBtka/VFtKAb3pBveiGpatOXaFr7ABrpH/WJ3dGQNrV5QFfW6AU+Ru7gb2j9YNfsgS2zpyegV46CdfbLYA2qdgPQ9MSrbUNW5rK/QAKvD7YVfasTael0twMv2QA9MbaaVtsrb0SSarF1ZAMjddYNtabK/QI1dgVVlW4Abv9QPtshqp/rh9toBBq7A22t/0yvTAjV2B6g029sNfbNicv2cryQ0fagWb7KYDzfZhaw+2wKr7UAP0w19sXoCZfI9AChaxKGqkB1c1vsC6hVWKusAAoke0AgDoiXTygPL2AqsYQAFRNSh1i02gNtAydfJaBsH22hdVgs32UACknN2ytpifQANbdMN7fJ3dwNShFfbYF1W+wL0A8QCp2fqE/bZL8RICVbKgUG+2cChCWmrcLYW0AvJAbAALlVfriVvtWFNrdMnXs/qAVrXUJe1WHX+oT9tg0Cq3nDZ6dQMpLaACnKMnaCkA4uxddga16Aam6A/tt+EBal1dEWpQqq6YVVAGpSdNhW0TvFCbKuoUNnaHnyt7h7QawE32zk089u0VuhSBFNOsdNI200kroXUEAqaW2h5QygS3UMdNvPtCAltGUVNlOrMpQtoommxQ1AzAAqSSmDWBIMNmpEBNIFMTSBLad4Q2EACAAI3h9QCpNBAAtrWAsohsFLASSU21skt1gIQ20U6ahUgDZSahvu2kbwAT4htlGUSxDFVEsBDADABFID2dZNQEsSVUSAxBuk7RsBIxASRUU21lIATbJj5zI2VTExRiiHyxNrWfTE6z5YultVm0a0ZboomoDKKAAMKYxDAsBKxRlAUpJQDGIYFK1gyCswbUUSoAWMlRmQwJYYDUoAApdnUWQpS6QGu0FQVAA6iiBqBYCABjzEaywAoneHugMAAgFHULaACgqEvhGBasMQAWBIAPZH1ATVSpBWUFFlKAe6AgAraGpNRVOYBrtDEo/ZApRqQVpAasMlWs5Qq8JlVBUOoVQBVarLYUGzqABg2yJdBVPhANRZFNpQDH4hLpGq0gG0oDp5s46LQAFaoXF29D1R02qum1fUAZYqG+yDZbei/rEB5QvEVQ/RcKH6LgJd0CuLidFxskTksVwJX7Zxj4qN0X9AbJEXVbCf0ApLpWnSC1DVHbdf0B8VEbXxT+gAlDeK4qJ0X9AfFROWxQIp+1IavshfFP0R8VE6HrgY6rMpa7JSw4lOz64UvTrAS/bOJftnBqu2JmzGBVVvJ+uPWR9tgepf7AFrpYttLa+l2DGujnoBWsq3AMlNmz+oSy06+j2BVfasa6fS7YDVrOegdNnYGu1pzhm7ZpAuj0e2UvW1XnizBr5KX9AB9H64Zu2YZmblZOnuqal5erZ451h1fOYPjq5+S2+Lr+kJ7yj7G0075Wb7KfB8eXMq674uj6UvvF3w3Iq676uj6UoGx3f6gqcv9Q1/fNcSr/h26Ppqi757iX93br+moBsApq1GtbFWH1/d+6/pSh33Yc57/u76QoGzp8NC+eCr9qzVNjHDf74rr+kKS2M8M/viu79KButfN7YtlltzmjiYzwqytZbiK6/0u8Lv6wp++K6188Df7S6c4209veNAuOsK8nfFdeXtt7hd/WFf3xXd6be4K37L5eXsA20aLv8wrzX/I+m3uJ7/MLNyX7Ket7iYjfrshVzeUaDv/wsv7uy3r+4Gx/hanVfUHzUf3DEcgqs9EP1aTjzcIOFua+E/RP7g+6DhWrXfFX8ni+4YjkGqklvrGg+6DhWlbPjbZ6MrF9wvug4Y5LLzjfQovuGI5F4wXd800kjjbDt5T0GRlbxfuiZZlgrEl3h1NYumnTbZo0m76JQtlW0jqsq0+UKqpQ/rGAVNV6IabRU5vOFr9GkC9r1g3iOl5w12tzaAajJX6om2QLbKSuam2wN70h7OoA5twbeYJcvoi106gK1cuQNQ6rW15yF2dNtfoAVtf2xeP2xRG8HsCXqo9ACl08y+uLN2/TEv2yC1dgB1W8mfeBdLctYZeTITq7AFfbZBvtkFq+zhT4PbAf22Q9ANa7Xti2umbBq7AauwGtV3wbT2wF6A/ttg2nth1fqGAeP2xZfs4fbYF9tg2KFm7YvtsCMB5g80WXsCAYBlDKA/GCqJTX4gviy4bnmry4jujiFqWGr01Na2ixajY2FQNoOPpeeLXhq9mGZFalVs15eHX4BteGLf3u3d/vL+gmI3uUbaN00Pxhi7mw9df0/+gru7GH5iuv6e3uGI3XUGrnoNF3djHmuK5fOn29wu7MY8nxLcv09/cMRvMtIM1nKaPurGLfuPcdX+uv7g4/GP5puD6a/uLiN5qDVzMaJo+Ml/cy4Ppr+4XH4ybku64PpT+4Yjfa11AxoeOxp+QYd+kRfcHG4y/I8O/SIvuGI3jB5xolbGjf5Lh39LF9wqsZfisO+lF9xcUb7ebSKpjQ04zbdw7/xRU4x5f7nf+KXYb4lWqNHoxj0sO+hFFRjGn8Ph39FFGw3mb7ICrm/qGiWFjBf8qw7+iihxWMfynDv6KKNhvW0fZCd3SaRpbGH5dcC/wAni+8Xc2MVb/CNwfR4vvGw3uqoNSmi7kxlyWXncf0V/ePuTGHPfFx/Qn942G7qs5yIeytlRpmk8XL+7Fy/Qm94dy4uX92ro+hN7xsN5VYouj9c0fceLee/br+gN7w7jxZ+f7r+gN7zWw3n22ydZo+4cVt/nFd3+7f6Q+L8VNq74ru/3b/SNhutag2Xl+2g0nxVir9813f7t/pE12YpbX3zSP8Au1feNhvWbMLZ1/bUaH4qxN++aU/3avvH8VYkq14mlv8Adq+8YjeZhal8o0nxRiNv87oP0BPeL4nxE2q3F3/IJ7xiN59tgWycQu9cTTd/XpdduKaYcisJliLIJU1X8fMbT4lxAuu3GEb6FC95dhudQtTGkW47/blxhN/QoRXxHftWvGE99ChDYbmmxgbyjStcd9068YT3myUIXxDfLcmLrx+iwBsjc/bbHl+zmk+Ib4VtHfhen0WF7g+Ib1b/ADuvT6PC9wG71BSaTvevRv8AOu9P0UL3A2HrxX/Ou9/Qhe4DctmJ2mNP3vT376b59CF7hd7023+dN+f8L3DYbqmrsi0Gl73Jv99d+/8AC9wd7U1z4rv/ANNPqF2G40WibKabvYj8+Kb/AP0qfUE2F4n75r/+kJ9QbDdUhTaaTvXt58SX/wDSF9wd6tm9f9/t/Kl9xdhumUVFvR9Q0rYVht+7t/8A0r+gXerBp/w1f/03+gbDd0+X6AqW6JpO9WDz3xf/ANP/AKA71Zb87X+38vb3Abji7QaG+6adsJyv5zv/AOnt7iO9GU/L78+nsNhuuLidFxUN0TSthKS/Lr8+nuLvQkOecvpv5e4xG74u1dQqW6Lmk70Lu5497/T3F3nXX+NvT6bFGI3fFv0HJ4t+i/oGk7zrpXX/AOIt/LYvvE2ELn6M99Ni+8do3fFv0BcW/MvqGj7zrk/FTbfy2L7xd51yfiJv6bF95e0bvi351JaHbTop2jS95lxt/ks39Ni+8nvLuJf8jjN/LYvvHaNzxdGwu1lDd3FNP3mXB+bo30qL7w7zMP8A5uf6Q/vHaNx6HpknHL4wrcUpc14R0kKYkKXdlZZh8rfObW4dKXLd9luZu51bMQfc2kxlsRvaCiWYTbIMSAE7xRDALZMZZIEklEsVlRNRRBpoCYCWUBVCYG2SfEVhLNUxLLYqlEOVXzv+EPmisfU2bUfFHNRG8GYy1OEMokALGSvgKACtdJJQFFEAplF1WlEjUBlAAbClqSMClAVVI6jIBi3igAokdPOBalElACj1kFeMBgotQwGAFACjFr5hgMKhD6gKAkoAzDp5xAQVSAqh9QFah6iC6gAAEBS6CiNnWMgoVQhbwGQCFYatYBRS+EkpW5gL1Gkv+bvFJy65K7pqDJtORmhtGaFxnIunZN1UuyaPEfyd4XDG6E+q/OrWAZfirEi6rcUovkyCe8fxViL99f8AyCe83WurQNsxN1aT4qxE3+db/QEH8T4ip/xujfQIRuqvAA3GlW5sQN/ndG+hQgW57/blxdM/QoRvKR6xuNJ8R343Li6b+iwh/EN8/vrm/o6G52R6LRuNN3vXt++68f0Se4fe/ercuLr09BPcbsBuOMXvdF7yN1Tk3Bxde7RIEFoi1IlNVi6fAZpO47xmZOXjvi6+qosNYjUpC5/4jbXzCsi3VOJ0pd/ZMWHIvG4eu2J0pZG9Ubj5e9qf/fdfvqe4Fw5Oty4rvz009xvA2mG40a4ammbXiu//AE09w+9eO2rvpv8A/Sr7jd66tI67RuNH3qxP3yX/APSF9wd6dvPiK/2/lX9BvVa1gG40S4TRv3fv/wCm/wBBfehDblv3EX03+g3euoY3Gi7zoHPfF/8A01vcHeZKctt8X/8ATWN/zA2hlJkOF3BhxLwj3xDmr6vxu5Z1oMP9mtsWKbXvKkNm28b5+muLDXyd+Ymh2flaN86Lach2i7jj6YJu1qq5y99r8tfmK7x7p/H3p9Pim+XZ0We2NWtZt8mQ0K4DuduWPemX+HxfeHeLcnJa16f7yi+839Q6grj/AHh3Jz/Gn0+L7xrgK4GbRTeLfy+L7zkO1/YF6HoGchoO8LD9X96zzfy2L7xrgLDtOuTmfpUX65v9pdNo1y9oZDQrgLDdOi2RjN/KIvvPhk7okbgx1IwLuhPBgzMlF4yHxrMrMrddtpyyo47eLcXjq436UtMKUcgXR2BZewVrZicxgVq+zlLp5vbJzDpzeT2AKXZ3/TK19sx7PQ9Ar0AKbe2wq5/1CMvPQVVzWAV9tga+YTVm1+2Wunmr9M0gXR2GKy9j0xVOvTDXm2/QA45e92yV444utJ6Rl5yH8WTVKxkVlVq1zazad7NxKuq4Lr+jp7j5JzLji47elJTi/NTabz0PRGSvhXDlx/mK7l/kqe4a3Bcyto+Jbu+ip7j69XPQOqzsDLVMnxrcVz81y3d9CT3FfEdzryXPdf0JPcfXqVuX1h6ftUN9TJ8nxRdS8l03d9FT3FfFV1r+5l3fR09x9Olvsw9NrdMZGT51u2QX9zpH6OnuLWRkfyGU/RJ7jLp8sK25/YLkZIWTlN2TlF/2Se40l/SsquIMKvZKy/8Afcwv4JeeXfq7JyDV7O4aG/st74Xt/wDuLr88CKBuuIgr+0Qf0Se4riIdOqBB3f2pRRN6mgrZ1hSoh0/gk2fxSjpTmRN7ZVQbRTptbokq3g6IGTVVopT0AVradzdFtVfWCrm7RgOoporkL19kGNi+NdW1M/pj42JT+FcjZZrFBfBb2QNLiqI8SPht7WqpvdP/AGnN0+15xo8UZYlw29G94H86ubx/wjeUxJBU+EXS0C8XZFsqZFMTTVq8kqrN6QbPpKAt0fV5RK/qjb6wFdfkkstuX1hVZg6IDbK2rNtFCqqYWsBaqcpTaOwSrWlafLAWWrWMfqkVAD+D9cKaW1e2H9YX22AH0dFfpg2nt5RLo7Am0dgCt7fDWT6Al+2cCm8P6gbX9gnpfXH4vbAG0VawydgF2t8NfPWAVL2A1ctlAUt2wzcllYBqq05A8ftjqt5/YF9tgBN9s4fbbEwVGw/TCq3tkboZewBXphvCCqxgGAtXIFXOA12Tj3CG1i4MvDtUe2pyCn7VnHOEZv7jpz/1IXtqSPIcjRfkodn+jX2VKp5+kKGtKQ/JX2StogW8FIxNp5c5Am6wpXsAGuoBU2dgimzoF1VdMDYjRYGiwpiW0gFNnMLRYGbnEA6ftWIG+2QX22Ah9Ym08mcNoS6GXaKHSxLLb52YeUlms9kBM1ixFh271TKMWrsZRaQGy2NqFqblDZ5RN9s4Dy/ZApX7IKqnVYSzW/ZwHULUSwNpNCl0E1WVaLaN2oNYa9rpAVq7BOzT9uQKbagqqAdNi/2xbPmhUHRsAPtti6gVqm/qCq8JQ6baQbNqsAnL7IRxzDmfFWKI3+mgQ/V0nJG0scawi1V64midKfVfmU5JVTrCjeEGkmrwBFEFVEMA9reEMVRQBtC1htAAa+QTCAdVtXkksJg0gPXyCq8BImXzgKbSS2kNkQDEAAJmJZhgwCJYohgDSACqNAFUPaJ184BrIZuYbaCWbmDBiZhN1CYAZiWbzhVWcwmAbMIVQeMDU4tejDN5W2fiafnZbD7ZOHZCu+Vh2bkFF9U1eNnt73JhOnEhQ/nc3irYqrZ0VVQ2khtrUZGMdJQmILJYCGYTDYltnQBNQcwE0gSSxTElZUQMRtCIGIBElMSAjG5bGNiqwM3MfHHyqfW2Xyj44rc5qI3oKIZwNGAlLUrJjJGAylYmooB7w9oQ6jKLGSPWBVQyQDbJvabAJUYFU5RkFbQFKMlSjIoYgXwgVvVFVEjzAIokfWAxkFAVV4CtogNoCwJ8kr0AAS6MugYlYgupRaQDWA6iiB7QFDEAFrpGQrDqAoBeMQFDEADqANkCBlCXZBgGpRJUNgMi6DR4u+Tlrvjfip+A3raDdmixr/gGJE/FRoUT5nUDkLtTFbygqE/4TSSZFaSlYkAMlXNaFRGZuQrWoVShUKoAK1MUYylYDHOLxktGs6UNl9U1mColeE7r6Xc6r82o2sTMrdpTR4Fb+5eTs6DPD+Z2A5F12hUY+yGoC9IxD6wCoasSAFRItkOnTvFVeAxsitr6JeyBkVgqMZWyQaG46lxViROk0CJ6inITjl2Zca30nTlpdvVOQq2UC/EHjJHVSBS6F5RNoUezyCCmrFq3hMS+EatVVm9QC6ratBVVPTMeUFzGBk8Zx2+suL8Mv0mmF9Q5AcexG1OIMM2/wuKvzobHIGbw+wLL2Btpq0frhr5TAFawqr7Vk61FSBk+22VVbzVmKqzL9QvVUBWvtj18vRI1bOQFXL0vOAvZ1W+wPUvQ9Ald639YrXVp3c2+A10dgv0DG1WazOXrUDS3llxjh22zel51fUN59ts0d76e+jDNvamofzwmN0vh/UNotdPJnDX0jG0TwcS3SXZHDrXb4nzSC2a1U6XmDbL/AGBed64qcuX2wKy9JPQFqq0ZB0xG12K4lrq05wHq5qA3f64a6t/a6AZvspRbdftmjxA1N5YXt/8Au6/+xFNxVl/qGmxLoWcw3b0b5hf+05IjdLpbpls1XT3jGq2Vbm6X6AD2dX6hOyvo7hX9YKbav65lSqs7AM1lW5vD4t6dND0gy206qwBe1Rugoa1bW36xO76IGTr8oeqrWTUC7QGixVs3H/8AmZf2XN6+23nGhxY3yVz2/wD3mT/XN5E/CN53tGpBVUj3dAt4F2fRMhavaL2mMbeDslb3nAL6qh/WEq2eyPWAVZhBrqCr9UBsv6wU2VBVbSACp2bMg6bOSztAtW0G9pAF0K3nDXR9nF7QlzcmzT0AHq5BVW1aQqsp7QNtAGvth6YuvIDaOwA9YvtsCps5f1w+22AfbYHl+yE6+ZXGu1vgC6KtwMoLp7Ya16YD1dgWrkE2nnHtawCmz0u2H22waolm+1AD1MNvCRlFqy7BsXrbMGbtiq8gnL2ALqt56wqtFq56Cd0C93fER9torXzZQGca4Rv8UZizpRoC+upyU41wjf4rtZ0pmXX1xHkOT9HR0VCoMwa6TAQbRXWTV4azYVQtJ814T0vdUjMT89F4mVlobRIkTorYa/CeMbmxtIxp645x5iDCicTEVoVLK3kkxG42vNEzU0ijxLJaFEiRGywobRG6VK67aVPkua95S/7qlb2kIrxJOaXjILMlLU+Io+xiWayoqmrUaLDmM7kxZPXlI3VHeJGuyJxcxxkKlf4ukUbveBgE2UgQbw9ldZIRVVJJosY41unAt1Q7xvnujueLG4mHxKVNVbrOHN8IfBH4q/PoRcR2brXpiao0WEMdYdx7LRo1xznHRIH4SDESmIunqPqvLEN23VPXXJR24yNesz3JB4mllV6dObogbKq3tj1saTFmL7qwZcPx5eNcaT45YP7GpiNVabSTmYc9Jys3BWmHMwUjKrZWptXnAzafLE3hBsxjYCt4f22TH4gq57QL3f6hHWPWvkmvv6/rrwzdsS8b4nElZVN5n2m6K2bxoffVZSGTLsHV7cPMo9UeRwff85IrVTMKmVl7JzTBmNrix3d7TFyTTtEhfhpeJliwm61LiN6zWeiS2U0s3jG6Za+rpuuyPBjNefG8XGhxU4uFQum2tt0+bGvCDdWCbhlb5jrGvCVmo3Ew+5HVqmp01VEHI9XKKqyo+S473lMS3NJ3td0XjJWahrEXpLp5VbtWWmoxRjiSwzfVy3PHk5iNMXxG4mG0N1VYWbRUwHI6qctntg2Wr64MtLE6yhgulmVQ+2wJcsRQONYK+Ue/Ilm/eb+ycmqt5zjGBct2Tz2b94x/5mORhFabQzc9ZLN4A2uSjMAVcwHAIvDFdMLHi4V7hdobTHc7T/G5VenZp8Zz6ZeHJwIkeYipDgwlZokRnyqvWACVcxxJeFLDvfBGu57xkVk0lFme7+6Pk2a3cp8JeKMfw8OYlw7ciSPdnx2y8XGWLSsNbW0VaN4DlTaCV0LqJvGalbqlpidno6S8rAWqJEiPSqrYcRwZwgzeOp6NGu24I0G4YTMq3jMPS0drPAhRy/VzCbwlsom0qulsoGPxFE+IAAWptdpxThKxtGwBcsreMGRgz0SZmO5+LiOyqq06eY0K494R4iq6cGFSuqsrLMNs2/xgdlCOGYC4TYOL7zmLivG6Y1y35LVM0pE2WWzo8+ow4h4Wbiui87vkpWclIzPOtLT/ABlS9yJYut/nA5uwjieLuEOUuXBK4qumEl4QXmFgweMqhq2ltFXhPp4N8apjvDnxpxCS8xCjNBmIMN2pVrOTRpA5LT4SWpPkxHe8tcFwzl7TX4OVh1U9JuZfnOGcFvCNPY/+NO67ulJVZGiloNVTM3S0gc7brYQ2J1KaB12i8oYuyAKDbR8V+X5d+GrqmL0vSPxMrAXM28zcyr2rTr6TxbwmYzTu/DFxXdd91t+Baf8AwkdekoHZdNjEU2KcBuXhCv66sSS+Gcd3RBkZic/vaclm+SiaeRT7eEHhJksIy05Kw64d6JRxPHS7cVFW1teht7RYGHMd0XWaq4cVXbf13TV5QGmVkZXamY0Li4baF1tZp2lOFQ8dYvxxMxkwJd0vK3bLRKWvGdSrjfFYMW3ZG6JmOsp7GOP8BRIM1jCTkbyueK3FxJiSSloB2NJzkveErBnpWLx0vMw1iQYnSW0oy9RJRLFZaTGOe7ZOD+NnYC/NrN6xoMUfKTNxwOnP1eipvmapmJJpDErlBswmyrSAmE2ike8SwCILI0gIQEsBGvmEDaQYrJAMRtCIGIBMSAAQ2YxsxlY+dvCNF0YYjZm0nyRWzZj6Yp8UdqVORHIlAQzrtmWQUBQCABgIZWVgLrsAyjINSCgKKIGGzUtSNdRQDAaj1gClKIOyZFlKSowGAh5QAAAAKqqJGrAMZBVWXTaBSsUQrAv2yAVrGSBBQAMBD6gBQGuYoAAKuz6w1awWYAKqH4yBgMokAL1Aq2KICCh6ucVVXKUALmKWkkpW5gKXZNJjNeMwxeFnRh1fM2k3JrcSw+Nw9eSfwdwNpCfjIEN+lDVvVKVj4bsfjbqkYnSloTeqfYBWZeTdGuYlcymRWApdCnBr64XbnuPGK4ZjScaJ8okONNrFpWEzdk5jNTcO75WNNx/wcCG0RvJs1nTWFcDxuEHAeLMQRITteV6zLRpSIybyM1tmhv5gru1lpbRu7obLaTiPBXibvswdKxozfsyT/Y0yu9VZyN8xy20ySUo9RBVOYIOkaPBWW5YkP8VNzC+uxvG2TRYRywr2g9C8Yv8APTaaVvilYhVGuZtRkWaXGuIYmE8LXlfkOWSaiScNW4tnpVsxuji/CjA7p4OMRJ/BGb5mLomril2cJ/CFfF3wbxu7g3SYlY61Q4ixWzL85sLh4W48TEEG4MXYbjYdnpj8AzZobaeQ0fB9w54cw9gq67qm5G/I0xLQ7YbNBlWZNrdtNZe+M5Dhc4Q8Oyaf+CyshEaMsSfyRY/YWy3wmtmvl3rsi3Soq0sSphFKw1Jq5x5gNDJ5ceTnbu6E3zMxv1OPq3F47W3p3Y38zsb9aexUBkVg5hbLCUgyLmOq7x4TcTYrxFMXFwc3ZKRocm3FzF5zafJLzZf+xzfGk5GkcI3xMQG+UhSzsufsnF/g9ScvLcHEvMQF+WmZh4kZuk1nJUX/AEi1d44o4V8AQlvHEl3XNfV0o3y7SWWJCXpHZVw31IYjuiXvi64vGSs0tS1bS+FW67D7pqUhz0tElpiFx0GLD4uJDZMrLbynwXPh+7cNXet3XTKpJyqszLBXMqtbykkrYK3gKXSY1zFKBXUcfxUtN54bfo3jT6hyGryDjeMcrXG/RvNP5wORttNYLUvLQOJliN5TCarmrMAZvBRUP0A9MKvD7ADqy/1y6m7Zi+2wVq7AGTWrb4VW1a6/QMerdoK+22BS/bIUqp2PQJ8XtjVre2AK1nYMlNjf2zGrW89ZeunyuwBpb8anEOFbbPyuOv8AwHN3CW2lbM+7vmkxB/hnC7//AHF1+eExu6rOag2H156tkdVtOuv0CV0L0NoF2dH65EXV9qAXro9AW7qX1xLESJFaCkdGiLm4tYq1ejygdT8Ld83ld3CNgeVlJ6Zl5WZjKsaHDelYufeU7di6ONazJvHTHDqtsLH/AAexv4TT8zndETb/AKhZ/AjW3Q3t8Na/2xfbYBuvtbhAa25a/TNJihs1wv0b5gfzq9hutXYNHirRxFz22Ls3zJ/zuwiOQVZ22/QBd3T7BjbRxjZelvlbLal9cyq6vD7AZVddjaIVrW6e6Gtm3zY6owHHjRPhFYylHjxmg9zVLDZ2pXKm7yDxxja9se35EwBwesjNT/4ne6/g5ZOdVt+2k4Vfchii+OHrFFx4WnEkY14w1gzc237RL0LW3/8ABveDm8I3Arjqb4P8QRYT3bezLMSF68VxfGv2urmts5jWPykXamDsGXdge5od1yMWNMNtRpiNFZokd+k3R8Ru20rug+lHay0eqrc2jKmuz5oVbXnEK1javJCnyDA0eL/72uluje8n+sb6Jltb7bxoMY5ZG77eje8p7TG/jbbaTUl+qekGrkt7Ig3tZlB0Rs36wuoP6wBvatoKraR6id3zQHV7TBu+VSGi0KaeUBayqsxO6PZYBrlDUuoVWb0Qb9UAqzZR1CpsVtwQDZsuyFTdswtSzaN2kyL7IDVmyg28KkW1rpygUzZv6gtXY3R5u2Tm5LKwHq7AZemgNpzW594QBlDV9nCoPGA20tyUemKn7VhV9qAqy7hsFQ201b5j1N0Cqs24A9dW+GvmrFu7hOoC2q7YvHX6AukT9towGun7IP7bBNP2rDXTv+mbD6iqlIppDXStoDqsq3DjXCJ/i5DTpTcv7ZyfZU4xwhf4Dl7OlPy6+sI8hyl9HGNZ2mDKOJp41tHSFUAmawnSPXSTqq1tSu0zMB1hw3XnMXhCuXA13N+zL9mU46ndgK2s+DDV3weCnhunMKStcO5b9lliSys9WdV95x+74mN8dcJN8YxwbCuuJBu5mkJeJeP4Onkyaec+fhSk+FODDu3FuJ4VystyR1aHEu5qYi6fD4bDk2+EdpcLeE4+I7nhpdUnNxr24ziYExBmmhLLI2272c69k13BRwex8HRbwS9oUaNPSbdzy073QzQI8C1dxN3Qc8uW+JW/7lkb2lGql5yXSMtPWuv+c+LFl/phXD09fMSA8xDk4fGNDXKzKY/xW3h7a6Tpr4P+mJiDHES3emV9pjs/CWIYOLMNSOIIEB4MGahtE4ts1OiqzXbYdY/B4W1pnGU3YtUF52lW6TVNaXT01R3C2U19/Xn8S3HeF6cVxnccu8xxde1oPtavNxdHGUtTVs1HUmM4XCwmGr4iT09h34tWXfjlWF8pxXj6RI6DsfCd+d82GLtvy2Akr3dB4zia6qTZ7PIdP4FkeFdcHXH8VXnh2DdrS6NBWNC+UVLfD2juHXxa6c0SlavKGumI6l+EnERcK3GlrU/+JrVV0aDnbcInBtCgQ9N/4damGlWzzLo8B198I7RFurC8u61LFvOll6XN+sc/bgSwCurvPlGZex4DfwOvMAQJLEfDPemLsMSvE4dhQOJaMqcXDjx7V0W6LPHrIx1wM3jiDEd5XlckmkjLyypGgwe6m/8AEI9rZ+f5LUTdl2S3B9w5yuHMJTkb4rvGBVOyCu0RIDZrf1VO6G0NVZkGssVdQ8N13ytx8EMjd8pIpd8HuuBVLq3GcU/Prt2tfOdo3YtsK57vh9CUhL6qnW3wkW/uDu+H07zT2TtOWk46ykrZZCf+94W52FHwhMQzUqZGR4TfKLT5Rrb+hXpM3VMQ7mmpaTvBl+RjRkqVW61MDTY/xfEwZcsveMCVgzUSPNpLcXEemmre1HKmW1G0eT/Op0Nwn3RwhS11XTZfuJLrnoce8YUGDDgy9NMW1tTM3gstOxLmuPhGlL6l49+Yuuueu+F+GgwZelovZ5LDew5izeA6ivyTs4RuG6DhyfXjLnuKDx8aDuxW7X8bHb7aW5OkdNR7zswH8ICYm70ZIcjfcvxcOZbKqtbTo/nUaDumFTARYMBYMGCq0rDVKVVeTZOGSnBvJXVj+Ni67pzuVZmHxczIQ4XycVuS1uz4TmzfguOqRofSrWmnpVeA66uDHV44m4S7wuu6mgxsO3dDZY0ZUqqi06qX8ZnTIccxLwJRr1xBeF+ykrdcrxUxCaWu5XbipxLGztE6LW9Rk+EDKSsphPC91QJWDKy/xiq8TByqq06LafSO220tVbnOp/hALbFi4Llfxl5/9WQ1pqIwjHfgk4QZrBV4x/8AwO82467IzbKv0f8AsZOFSHa/C3gWV6MRmp85rTlvCxgqzG2H4kGXy3tJt3RJRl2lezd/jpOpLjxjGx1wlYFedhRod5XdDaWnVb8aqtZa38dgHoSK9nGMTtKNlpZhBCbN/bFvaRmKO1MKNbZuw2/mUDQYAzYe4z8ZMx29bQb2ame5oddqu2Zdk0eAl/uTke1Eit87m/iIkRl7IArWtD021qaLHGKoODsJXlfMTahQ2WCvSi26rDeKdRcKMCY4RMd3XwfyMfueXlobTM7G2lhaVA1l98Hc3d3AZK348J/j6BN/HEaIyfKZm2f4rKTuHDV9QMVYXu+9YKpEhzMuvGK2zVYutbTgMfgfxPeMs0jH4Tb0jS8WHxLQYiVKy8y29k+f4P8AecxKSd+YPnnTuq6ZmpVr3LdVujq0lV9N2cC3xdf0niOJFuuJPd1xY03Kdz/sbireRYa7r2Gq4WrzkLs4YcGzc/ESVu+Sh8fFbdVLGa3ZO5G6jpnHt0SWI+HjDd03lA7ok+5qo0PpaKnsVurKGYvgh4lh8OfCCtzXrMxbpw7Cqjyt3ZkiT2jk029fKd3wJWXu+VgykpAgy8vCWmHDhpSqr0Tr3hlwTGvORl8VYdXue+rkVWh8TlZoKts2aPAcg4PscQMf4ch3jDyzifIzcHehRbP1beYNOSat2g1GL71mrlwrel6Si0zEtLtEh1JlqNnHhvFhRERngs6sqxF2l7SnT/CDwdz9z4Ova8o+Or8nlhQ2buSN+DbS2zb1BHZWDp6dvnCFy3pP/KTU5KLGjMqUrVbVu2bJtqea06wwxwVzcW47nmLcb35BVpaFG4mHlhqtuuldeydpUgdQ/COi8VceH4Nuy8+0RvNU3kX4RGFYS6EuzEVSLT/edOaxTQ8PcRHvXBsCNQsNZvjGaJs01LZbp6js2ZxHhnj4ltl8XHxdTZuNTmA614K5yHwg8I18Y+ePLyrJB7mg3dXVHpp0Vub/ABZwVwMW3rPXpNz0GHMNDhLd3Fy6qssytpqfp6Ti+Got3Yh4e5i9sLQk+LZWWZZ2YgrxcKK9OjztNtJ3FuhXWHwgIsSBwfXbK2sjRHn4StxacWrZd2zdFgaUh4J4Vb4wmjcXI3nLQp2Wh9qhdOgxcPzcZdWGZX8feq/qn28M8LvavvDGNoCu3xZHWWmFXehWrs/xjVE8JcV8VYsuDAEq3ycWJ3beLLuwlXTSxruAhEZsWRoaosNrxWGqr0bFNlwVJFvVsR8Ic/CdZq9mjrKK37XLorcnjtPh+D/Dqw5fUz+NvNzX1TR2i21qNTi+cmrowjfF4yrcXMS0s8SG3RbLmNlHhpMwGgvlqVsy7S6V0VHUXCDwW3TcODL2vWHe1+RI0KGrLDjTTNDZrW8AV2HgecnbwwZc87PxXjTUzLLGjRG2ma03Guo61w1wO3HGuW6Z2Jet+cY8vCjMqzTcXVy7PROzaLMtlmyq0gdVcMDW35izCOFYzUyM1MK0btaXWz/pUdrcRBhUw4KpDgwl4uGu6q2cinV/DPdV4yc5ceMbthcc10xPlloqpWxtNXiOVXVwo4Svq74d4pfEpK8atTQYz0tCbnW0a+o2V9YaunELScS8ZNJhpOJxku2zSxr8S4Ju7Fs9BmL4ixpiVlpd4MOS2Vrbfq8Nhw2Lf0xwm4/kZe4JqbXD901NNzcN2hw47ctJ2g2lma3pAdZcLLR8L8FMrccCceIrxklGjRMrMnL/AEHOcL3RLXDh67btlVphwpdKqd5rV02t/HaaXhYwvMYvwXGlJJXacloizMuq7zWcqmuwTwqXHeFyy8rfN4pdt6SsNYMxBm04upl1VLaJDk+M5SBN4OvyBMwuMh9yPEp7VnIcW4FIsSLweSfGM7URosNeytjGux7jyHiqE2D8Gs95T0/TDmJiD+DhJz5jm+Grgg4XuCTuaA1SysOlm6TW67W+cJ8NiNhbwVGkaO/M+J8Owf8ASR4nzKbzaNFONxuM7p/0UpFifO2g3i6KSSaJjH7RkYxawESw2YiqoCiG0jEAiGBmpYGUCNkQ2EVkCqGJjaJEzAwgAkoxNpATNSY4hbGKJ4Cq+eKfFFzH2RGp5D4I65jURyQAA4GjLIGBYAAAoxDKyoYhqZQyiVKUAKEMB+IoADatXMPUSpQAMAAtRiGZCCrKMneAsBMADCkQwAa5RDqzEDGJfCOkA02lqQuUYD1hVziBWsYDJtCFUPqAYAAFecLaDMOqoAGrC2tRXiAQx7pOsBlEFdRBSjq5xLoH4gKDKLeKAqrwHy3ivG3dOQ+lBdfVPoIjrxsJk6SsvqgfFhqJxuHrrf8Agye42aqaXB2bDN39lXh/M7WG7VgsjUpaSQCOB8N1+PdmDGkZVk7svOMstDXept5WNRcvBNjS7LqlZSU4RpiRgrDqWUgwssLTunNr8wTdeI73u+9J9plol3NVBhq+SrtHIW2tJd1dL4RgTvBTwjfE16T3dkjfkOruvZqi2tqZuvSd0RFpqsNBirBdz4xhytl5LGWJJxOMgxoL0spu0Xi1VKnyqq5uozqjKvUMxs1OstcpA2ymiw5oW8MQQ/4fV86KbxjQ3HlxDiKH/pIDfOhpW+UpWIXSNTIyqaXGqcfgy/obb0hF/mU26kzctBnJWNKR1RoMeG0OIrby28pok4BwJ4juOV4N7tgT153RLxoDOrQ40VFiL85pOHe+cK3rcsnK3XHkZ6/mmk7maSpaIq2cuazwnI14EeD2lf7nUq/1h/ebvD/B3hLDEdZq6bil4M0uzGaqIy+Tp2QNvdCzEK5bvhzf99LLIsararp1n0qxWtgMhlEa+cbAaGOvF46u23pyUVfmbScgU47eXyeM7jt6UGYX2TkGvnEhl184toVQqiDHOSkG8JOako/4OZgtBbJ0tR0zwfYvs4H7ynMFYv46VkWjNEkp1kqhstur0bTupWtPlvW57tv6U7kva7pe8Jf8XGSpSjh+NeGfCt0XNMWXVe0G9Lyjw2hy8GUqZq7V0WH0cENw3lcOC4dt8tGa8J6I0zEWI7M0JbeRdZuLowLhTD8dZi6sN3dJzC7MRZfN/Ob1tMTNaNZB9opdJPMC+YQZFbmOOY2/vG7X6F5y/tHINNhx3HmW44b9CbgN64HJIn4Vu0wque0qJp4xiW01aiAy/brD7bY1qF9tgCl+2cetW3yV0cmQNTdAyrJsiXr9gmrwdrfLXLye2aQ10c9HoD1djeEzPyZ12RrV290yp1WVaqPTKpsX+2Rr5bW9QqqrX+oBp8R6FvDDNvRvVF+dGN1r7ZpMTtYsS4XyZb3ge43C5aVyFX6sjNb2x1U/2DGv2zleJX9MrKvHRu7h05jGWvrg54VVx/K3PM3xcs5A7nmYcpmeA1vUdx1WqOqMutGddkRkOjZ68Ly4cMf4dmruw9PXXctyROOjzc+rJVm00r/20HekRqommnZbpktFiMudsvkCqs5fKEpB1W1LZ+uG1yq4tVW4GrktoKKbT2zR4tyyN129G+ZDc/0pumzL6RpMX/4KlX6N6yTf8dQN434Rg1dgbLbxjbbbImby9kgersC2egP0xePs7hlXWVwYYvqT+EDiDEES7o0O6ZqUZYU1+1s1Gin0jkvCfgCV4ScORLtiMkvPQG46Sm/xUWxfZt5zk/neoNWpbcNZfKYuG8E14YtiYc+K8Y3TNys9d3yMObZ6lnE5m/i/nOaVZtlxKtnsibZ1e2VWVdox1ZdFnRHr4zV0umCmBocZtZ8VSb2fnWUb1zkEf8O3lHHsbZbll7ejeMn/AO6cimc0eJ5RsYmbKFVjekFWXQCrYuowCrm8kVVlLWdliqf1RAOoQVB/VAe1ydoVVTBTSoU5gCkdWb0hVeyFWXX2gKqzeiL6olHVl80AqpYFYWywl8PkgNm2hb3SBmtp02A2lumA9Si8dALUq7+6PX297cANWzkJbro2Ss3rE6mUA1Uh1BvBvGwboeIN3cDVm2ADe3xVN2x+gSA9a9MKbW6ZPV+uV9tsBVc36gt3tDUKaQAnzvUG2mrfE2ntgFVnYFq7Aa+2PP2wF6A9TdAFqp3xbSgWpxnH/wDgq77OlecuvrHJPTOOY8/vO506V6y/6wiOTu1jO1vaYXoA+01vaYNnlAPttmtv67Zi97lnrulZzuGNMwWgrMKlXFad6k2DdQgNFgTCErgPC8rccrHeYoZokaNRTxr272g+/EFzQMR3LPXPN/3vOQWgs3R8DfxH3VBUTIcc4PsJRsD4Zg3FEvN7yWAzcXEZeLpW1tk3d4SMresnMSM7C46VmYbQYkOvaW0ziNDqeFwH35dECNddwcI943fccVm/YTQqmVbeVarLbOU59g7CF14FuCHc11VtDVuMiRon4SK9vKzG53RVWVUVbJJSlqKbzzWYjuWzEdw3hdLx3l1nILQeMXNTpNlqCmzKUa7D90JcFw3fc8OLx0ORl0l1iNtNSbDZDZBtoI4fwicG8DhElJGXjXnGu/uGI0ZWhpVU1vsnHG4Ebxaqy3hGxE3kv/SdosTpLuOL4H4NbjwK8abku6Jy8o60xp+bfjIjdnsnKqidaqUQcW4Q8BSvCHc0rdc1PTEmstMd0K0FFZmy6KdZxNeAimlWx5iXLu1/0nabEmtxxnBOB0wVCnE+Pb0vZpll/v16uK0eA5M2j7IP7bQsvOBocWYRlcXw7vSbjxoKyM2k3D4unMy67FY3ztxjM9u8zMC07QABo8WYQuTG129wX3KpGhrmhxFyxITdKxjcb2usGbw7oHVkPgDlYaLJPjfETSOz3NXStPROwcMYYufCF2LdtzSaS8vtNvRIrdJm3jZeIesuQNk47izBN24vnrpm5+PMw2uqNx0FYOyzVLbm9E5FUKq1iIqLFqfjN5mq9bScQXgzw/DxouLoKTEG8LKm4uGy8UzWrota2zwnLWqAolmsqa3pAHjE3gAfjPmnolMnMP0YLeyZ9k+C+n4u6LwazdlovsgfBgdLYeErpzftNXrsbxtJqsJrYmF7nT+DL/PUbRtHKAVUtps3TSXDgy6sPXvel8SizMSevP8AviNGerLVppXoqbvU3QGvmFBVardo0Mrgu5JHFk1imVhRod5TUNocal/k209XhN8JiB7v9Q0cXCFzxcWQcVRIUZr0gQeJhtX8mq06OQ3eoNYEq3h8k49ceBLgwxe85et1SsaVmJz8MqxW4tvJTkORNV2yde6UFXkGvvy5ZLEN2TF13jC46Vj5Yiq9PJrPv19sQGOWgQ5SWgysBeLgwIaw4a17K2arDKTqE2Vf6gGjxPgnD+M2lbb8kXmu5lZYNMVodOnl5DQ/cR4PaqrbgdvKmGY51VzWbpLaWA+S6LnuvD0isjdN3S8jLruwUpq8rpH2VE6g2tQGsvzDV04jaTe85FJppOJx0Cp2pV+lqM99XTI4hko0jessk5Kx/wAJDbLVoPr2idnlNDDK3fKSN3Q7tlZVIMnCh8TDgrsqnRPmuW4Ltw9ItJXTJpKy7RGiMq1Zmt5WPuYPEAbOo+W87ukr3k4kjeMqk1KxfwkNt7QfSKoMMcOFDgIsOCqQ4aLSqrurZyGQW0JmATMtqsluZWXMrZlZes4vM8GWCpmZaaj4YkWiO1TU1KrfxWWnJxVVcoGCRkZS7JWHKSErBk5dFpWHBSlTPUotkTAOq1ddm0aS98HYbvyZ7qvS4pGamPxjJS38xuRNsgfBdFy3Vh+A0K6LslJGG2ZlgofW2gltO6G6aVTE+IBEaaTU+Nv/AEruX1mNyrc1ppbv0RMZ3s/4qWhQzcsAma0ltJTZeUhswE9YqRk6wATAJgFqIGICWEw2MZWVE1Uh5IUm0JtkgsQEiYYgMcTZ7JhiGZzBFNaK+eKfG61Mtlp9MXZPkittEHI1GLZGcTRqMRYAMQ9IDKJAgoaiACqiiBhhYyRgPSWQUGxsjAALUCSgKUohStZkPSMnWUADJK1boAFVoBlAKgAKSBqUqiXKVrABKMADWAFAAw1Bq5QGFXMLaGAamXQUSUAvEMBbQF1CEAFAKrwAQZB9VhIwKUogpdPOAx6qlsEU26BpMGNTh+GnQmY8P5nY3imjwjllbwg27l4x1+fWbzUFPUMjWpQQx6yVbwjCqUZGyNc3IZRQyNovxABobtyYtvqzpy0vE9qw3zbOo0MtoTG05Z07uRvmdrC6K3qjXMTslrlIKVRsLZ1jAKiiAZsoF6bBbxOsagUPdJXaH4wNDfWXFGG3/wBNHX1NJyBV5jj2Ict64fjfw1l9JDkDZWbYEhVVtJOkN0NnzSClzB6Al9kagFNTaMhkViddIAMrrzkFbukCl0nHcf5cNRrejGgN8znIjj+P1qwjeDdGhvmdSfYchbNr7K/zibR2ARvk4dvShr7I29nsAFXP+uDbJILo7AF72/lH6ZC6KdGQfX+uBkqqX+oTVl3BVU/2xrpy6KwHq5cm8Uu1uemLW3TEBkXweTsuXmp3zCvmbxTLYvQMq0+LWplrrfPlvWVb530G7ZqYrWWs+024aDGOW6pN7N285Nv+KpyCN+EaztNv9o2fCVbNr9gPQ3Q9PeHVavJX6BEVlp3Cqs3R88lW7XqCqsp10egBSrmX64a+asnL2BLoq0ZCjJr7foAunpeoY6atf65f1gCrZ+oaTGjWLcK29Gfk2/5hDeZqt80ONm/uZiPbuzMm3/MISI5BHpWPE2NoguO3y8bym3BVdre6BQuun1xrtb+10ycvYHqboGFXot7Ys3PXvEstvInSXfHu/wBcB6qvK7AmYeyGuqlqzSCqyrcHq5qBbujOFNqtSBoMbf4vr2Z+T/8AfU5HH/vmJ5THHMdf4teTOyX/AL6nIY/4eJ5TFVC8nohu6QDVTqMB8/nCVqcw6qtYv6oDqBdHS6ItdOrtD11ALdGunjNoX1Q6wCqz2Q3fSD+qSA94e6SUuyAtkFYGy8tYL9UA9ANShlDXzmkGUVkPeiZjheL+EaFgrFEjds/A4y75qUWM0aGnykBq2sqp3lOYSkzKz0rDmpSPBmJeLU0OJD2WNa05RjlqRqRl2su9p/XEOmzsbojjVXpk68u3SPKC/V3zYVVPTHUwqeYGW2oA6/1BfbYFrp1Vj9MCddW56AZewV6ZOvtgLZzZAq8gNPlj1gY4i2sqpY28tTFaqdwdVS/1BVfrAGrsD9D0xeNg02AAU+AXoeiPe0ZACo43jpvkrls/+5wDki+Ycbxt+4Ni716whEcmbaaztMVUxL/hG8onVVoyAU0Tms2g2VJpVm3BKtnYApmtFpt7YNoIZrAKq7TiqMa6GXNmDe2NkDLV4CabFqtsXMxGz/bGBatSG0RVzWCq5yourMLrtJZrVXtC1gG6G6DaeQkCtJNVrMAawDUCtzbotfKGvlAKrMpO1yUdEBM1vOaFMKoVTCVsui2sB+gJszBr3RgAqg3f6gbtQB9tsdSk5vsgZvshUAZRa6dNvsCqt5gK6wZiNYgKqq6ZqcUPxWHr0enZlWNmzWcltBpsZtxeF70t/wBCy/ONB9OHl4u4LtXPllIXsmx9Y+W6ofF3ZIr0ZeF7B9W75QFVWbJO0TUOrwAOrnq9QTMITeCwoGiCANfKACZrOYdVq8tYmbywFlJqzD17Ochmt6IFFGJmDjLAHUAqrGFUAFE1Uiq8gB9YbRNRNVJoUKrMSzCqtMh0gKq0Ws0GSw9ZjZuYBtmAWvohVb0QwTGPMzai83RBlt6ICYGJz9EGV+ZXATEF0v0XChuZX9ACBNs6C2R/xTi4p2bRTtBtx+5s+I8QRrPx0KH8ym7ZjR4c+Umb6i27066/Mbra5ChksUxAEklMSAt0gshgBiQAAIYshdACJbZL0CORhImGQwAzGOqkogBNs5jDEMjeAwsa0V80c103FsWBEe3dU+6OcdxfHtlMNXpGTKyy70lHOyuoSjOBoy1MamRQCkakKvF1WF6+YBgA+sBqMQyAHUIYYWAu0MNmNRKUAymJGAFAADGSo6vCZFgAwILXZJpzFAOq0N4QAMAAgoYqhgA9Qg1gBfjJAB6yiCgKAnrGAwUQ1AoW9uCKAAqFUMA3QqYAUgydkZAAZNnlKMTKUuUDINszCEwGnw1lmb+g9Gfq9JFNycYk4d8NiXEEO7pyRl4dUCIyzMq0Vma1dGrRbYbJZTE7fuxc3m3a/wD8hRt6qh7xpu48Tfn26/8Adrf/ACB3DiRv3fu7/dv9cbDc1D7JpPi/EnNiSUXybrX65fxbiP8AfTL/AO6k+uZ2Vuag1ml+LsRfvpg+bdae8fxZf/76f/8AGwveNkbqq0qo0q3Rf/76X+gQh/E9+c+KY30CANlbjKaJ2shY2l9P7bdz/wAzmf4ovv8AfXN+bJQPcaWbui9VxfdqPiSb4yLLR14zuWBUq2U208mgug5koGo+Jr1/fben0WX9xPxHen77r3+jwPqAbpR1Gl+Ibx/fbfXoQPqFrcc/z4rvn/gf/GBt9fKDN4TUd7823Lim/PThL+oHe9Mc+JsRebMQv/jJsNxVVrDWafvajc+JMRN/Kk+oT3tW1aLcSYl+lL9Qo3esul+Y0nevZz3/AIi+m/0B3rwee/cRfT29wGLFiskW44lteW80/nVjkMRXWI2Vzg2LsNQJaUkYnxnfUT9mwF+UnWbKzaPNY3r4RlOMb/xO/wD/AHk4Vu6H6D+gVxbtu+oaLvRkG5Z6/G//AGkX3h3oXbvzV+f70j+8yN4qPzwvUKoicvFOaFcGXRVp42+vOvKP9cfedc3P8aN5V5TH1x2o3yw4nNCcvio34pzj3eVcjcsKe+nzH1ye8e4OeVmW8qfmPrjtHJOIifin9AawonRf0DjfePhz83Rm8qdj/XKXAuGfzY7fyqL9cDkawonOposcQHfCV6WU7MGr5mUnvEwz+Z0+kRW/XNZifBmHZbD15Rpe54MONCl3iK1b5Ws8doHK5VqpOVt6UFP51MnXYfJdUS2LdkjbbvS8L2T6tRkUFVqtvkegUAI1XL7A6qtW8IbaV6YDy9gNQZqtdYVVAUu0Vr7e6SCtm10AWrW9spm8HsE6uYeWnst2wNFjyLDlsOcfGipDhwpuViMzZVVbIq5rT6pnGOFVjxP7pLlpq/KkPix+teEZrSuXjoG1/wCqpyCPJyix4miTltpv8nT3FVqe/XCv75Ll+lKLv2wov+cl0fSlNr3NBX/JZf6OvuHRB5oEt+iX3E7Uafv6worf4yXX9IUO/vCi/wCcl3fpf6Dd02LsQoPoKOqndQ12jR9/uFOSzEUi3nt7ie//AApU2nEUj6De45DVEy2We2NokanUz+mO0cd+6DhP8+y36KL9QO//AArTqvqC38ni/UOR8fG/GxtoOPj/AI1yDj3f7hZv3T9GVj/UNJjPGmHZnDE1Bl56NEicZLsq9yx+aKltvKhzzj43416TRY9mX70LytqeleKbe5oqFBHx5hxo8S2ycm2qZtmSj/UMff5h/l7qnm8mQmPqHJo8WI0VrKvXYx8fEp/C+uxFcdXHlxczXo3/AOrmPqB38XH073/3RMfUORcdG6T+mHGxsvysb0wND37XNzQr3b/9RMfUBcZ3XzSd85f/ALRMfUN+zxuk+YFZ+Wpydo0DYvu6rT3Df/8AuuP7h9+Mjy2XZiJv/wBRH9xvmiWsu04VWq22O0aHvvlGXQtz4lb/APVxQbFsD8y4op//ABcU3i6afRGrW+0N4jheLMRw565e5kuXEUHjJuU+WmZBocJdEdeW223Kc4mdPGxPOOPY6Z+9eY0bPdEq3zR0N9Hb5VrekJCda8oa6RM3PSHpmQ/6wVWcnaUke95wB9UqrN5wt0a7QA36of1hU8wddnaABNl5Riqt5eyAKOm1eTogL6oBTmHvC1KIB7ugKhBSaR0d8IBlTFV0/wD479djjGCcfXngucrlH46RdqpiSibDdqzoscl+EFZVim6f/wAd+ux1e7W2Wcp9Na0I1LfSMnztzcSpVpSi9WYWxZdeL5Huu6otTJTx0GJ+EgNb0l/7m33TyRdl7z1zz0Ofu2aeXmk2Yi+y3SU7+wDwqXfi61ZGfVJG+GVvk6/ko/kNbvdk8m8/HSpd0fR6trfRq+UnOarKgXQuzvUjptVtdYt06DvBtHY3g1NlANfKBC5StXOTu6imAmnMto9AmawWqncAojXVpzj9AOrIAU2sSukdNWrIJVp9IAXTTvhVTy10kgwD3t8dWbfFqUPGA12d84tj9o9OH+5FgtMfGacWsapYdVO9o02nKdlf65xvF+a8sM2dK9V9kRH1tM4xq1SOHVq/hUf6guNxhy9y4a+kTH1DeVZltFxeVrbC5DSNExg37Rhr9LMe4XGYw5OIwv8ApZj3G8100i4tiZDSVYw5OKwv+lmPcKrGDbuF18+Y9xvCBkNDTjFeTvX/AOYL/uw5be9f/mDeL1Etpp00jIaSnGHSwv8A8wFGL+XjcL+hMG6pYNdJckabi8YfjcLr5kx7yKMXfj8L+hH95u9fOGgu40nF4wbkj4a/RR/eDQ8YZv2Vhr9FH95uwLuNHxWLqtc1h36PH+uLiMW/lmHfo8f65vA3gNHxWK+eew79Fj/XE0LFfNeNwfRY/wBc3jCzekBpOIxWzaPjG4Kv9Si/XBpbFX5xuD6FF+ubveJA0vc2KvztcH0CL/8AIT3Niqn/AAncfmyEX65u20MG8BpFlMVc97XGv8gi/wDyA0pir88XH9Af/wCQ3YmzAaTuXFP57uX/AHa//wAg2k8U/n25v92v/wDIbrxiLuNL3Hin8+3R/u1v/kDuHFLL/h+6P91t/wDIbrL2Ay9gbjS9w4o/fFdf+6//APYHcOJ/3xXd5t1//wCw3WrooKmznVC7jS9w4n/fDd3+6/8A/YL4uxPV/jNI/wC6F+ubv0Ap5huNJ8W4m58SSnm3Wv1w+L8R/vmlv91J9c3RLUqNxpvi3EdX+M0H/dCfXNJja779hYXnnj4kgxIeSqH8WpDqzLZtVnNjjXCI39ysazpxoSt/GyjdGeFdGIIcCHZZivKsNV/wXC6K9ZXxViD99f8A/iIXvN5Ts+Sq/NqJpG40fxZf9X+Nb/7rhe8Pii/G1d9z/wC64BvNfbFV4ANH8T35++6N/u2AHxLfPPi6Y/3bAN5rFrC5NH8UXv8AvumfoED3B8TXtzYrm/oUv7jebukkI0nxPerf53T30KX9wviW9P313j9El/cbprR6Ruu7Qtc94q2i3F17/R5f6hXxHef77r3+jy/1DdU2MJs3kl3RpviO8V/zuvr9FL/UJ+I7x/fXfnoS/wBQ3OpRVWcxBpmuOe/fXfnoS/1BfEc7Tp767/8A+Av/APzN3q7AvNG40vxDN8+K8RenA/8AjF8QzNWvE1/+nC/+M3I6VNbjSrcMb982IvpCf/GL4hifvkxE38oT6huKsuZRa6hvqNL3uPzYixF9KX6gd7js3+MWIvpq/UNyyu2pGp9YWfLperpDfUaZcOWfn/EX01fqC72kZtNt+4l+n/1Dc7QmNbyTJp2w1B/PGIvp/wDQT3swt6+MRN/+yb3G5E1Q3ky03ezA/PGIv95N7h97Uvv3nf8A/vJzcbxDDeQ1DYZlN68L8/3k5PezJfll+f7yc3LMQu0TIahsLyO13ZfP+9YpPexd9WuZvn/eUX3m5YTbIyGn71btbXbHvf8A3lH95PevdnSvf/eUf3m4awWg1kNL3p3Tz/Gjf/so/wBcqFhG5uMXSs838vj+83GyQzUKz9FWb1SK49geBDhXPGSHs90xac9WWo5AaPBS04cl36bO3zsbwjRMQxbZSGAioQ/GIBEMWS2YCRDJYAqEAgABVEt4DkYDMQxRLASxBbEMBDGBjPE5D5mNaK+eKxwzhLj8Tg28m3nph/OynMY+VTgHC7F4vC6pbsxZhF82zWWLLtpRqSUcDkNR1CACyidoagMokogFGAACqMQwLUYlGoAUJRgMAAC1GSowAYBvaTIalqRrKAYxCygUAhgAABBQbItkatzgMNQh1AAxKAFhV5pLLbzB17wFDIVgVrGAsADWADqEPaAKiiR02gNR6hABQABBQ6hDApSiVGBp7syYuvhOnLQInzVWG71KaGF8ljSMv427lb5nN7mCm2ldlR+IkAi6coZecVQzKq8QyVYAKUpTGzWlKaRTGivdqcVXDE6TR4fzobyo0N/Nxd84dfozrL86MBvwEOoyKXKKrNrCoQVQVCUQF1DXQRUOoDJUMxr1lgcfxxluVYnQm5dvXWw5C34Q49jr/Fiat6LQm+aKtpvlzU29lQLXaBRa+kAFKUYyiCs3bGT6AwGVqJCpgLqy6DXYjXjMPXonSln9k2Gm0+O+Vqui8LOlLRfZLoMdwPXcF1vZvSiN6psG0mowk1eGbpa38mT+Y2ymCStYE9eyVta85oGXsZh6uwIAKqzB6ZPoD1dggpfPHVl0kqo1W1tVNK+WBdVnLZ7A6rOS2glfAtY/OA0eOtDYQvDs8U3zOtpyCLmiNb2mNBjrNhC+OzL1fMym9ZrOXJsr/OpRStby5wXSurPlMStZ2DLvEFB9tgmmnp+mFVtO+A8nPQFW7Qgqgq+1AF9LR7Y+rP6Zi1FaqtwDJTl0ZzQ49zYKvjTuwavXU3tNP9s0WOv8R78/1RvaUDkEVvlWIpq1ZNkIjVPpzgrW8gD68jAujsCVrW5Rq2bR+oA9RXOY93aQarm10AVzb4emGzqFrXkKH/VDZH19oWzrA0OOMuE57T+MgN80dDfRc0TQaDHbf3IXlb0eK/8AfQ5BFqV/R9kCasodZPngYU20qurojp9oW7pDVUbD3Q3ha+bepDZ1eUA2BurtBveiJtNIF05iWDqJMCt4TMPeMcSLAgt8tHgwatnjIqrV85sKLF4pF22ZmpVTJst6J88SZu1m0veMjUqsv98Jz/xjWeu5f3Tkcv8ACE95MDdm1eko97zj5mvS7FXXel3fSE95LXrdStosvi7vpSe8uDO7pb4QX+NNz9m7v12Orbdmw7K4fZuWm8S3S8vNS0wqyFLNBdYmatvAdZ2tlsPrfx/sRfK/kNf55MmkXGUstq25lzLTuGKoNJ3ZQydTqu4OD3hmiSvF3Rih+Ml6lWHP70Lsv0vKO5YUWHHgLHgRUjQXVWhxIb1Ky9ljx9Y9q28pzLAfCXeeDYqwP78utvwko272k6Pkng3n4z703uWf5LftqPSdX6wW723umsuHEV14ou/4wumOkxBqpZdmJCanZZd02W0unyTxJRx7ZPajLLiGXyw19sOLHSRUa+Spw3Ri8YCq8v0BVZitZPpgFVntAzWZdAtdW+LN2wHVYLpeUKnwjbzwDV2A1dgVWyCtaA6bF6BxzFX+F8L2dK8f1DkTZtVTnG8Vf4cwnZ/D29gRHJ93UFWzpoBdCqFWXQAamEDMLaYB9RJW1UQzAUospOrkEzU8gBWtWgVNlRjaBY3F227SNUZNdRQ12dNgL5G0Sq0xKrN4sIWYURrFHvGGmxWV3oygZdXmgxjqh5dLJUw+lm3QKbNqI2RM1IPERWWypACoAqsbeQWpmNAps5bN4F6w8YeIBhVbzEt4BADN4ax7TC8QKoB1gFPMLQUOoVXOCtUDKAqubaGzBrI7QFVE1c9uYApq1AI43j3PccGD052AvrHJG2TjWOM0tdafjLzgF0HKIrfKtoo2qSfQFvN/6je0AQVEsMTaOdgEA6vAIAbKQrWsETL2RAVpJ3tINoDV2AHVl0EswyWAOoGYXUIBsSTXm2XL1sAhamCm3kCm00FlFqKptYTAITB1i3tAYBI20qQwD6xMwtW8DaAGST1D0gOmolhkNXzAITdY20qTSwCyiAe6aUmY+a8IvFXfNROjBdvVM/jNfiN+KuG9H6Mu4GHC8NoWHLtT/Q1fObVsp8lzpxV0SNln5Onsn1MRoM1RDFayAESxTEMAiKhsJgE1QA3USACYZIEtpBgExyMEJhksAmIKYkCIh88QzRKtowxDWivki72k6y4ZY9q3VdsHZqmGZv4lOzIuydT8NMVuNuuBZurFiezYXXiO8yhKM4GjGJRgUoxDAZRI1IGUTmHugMFCkpQGpVNQgAsTHGMd41TA93S888i84seNxNKvTScNb4QCKv8Ai2/0gDtlRnVED4QEpUvdGHY0Nd7i5ipqTn2F8Z3Ji9P/AA2PTMU1NLRMsRfrAbooSlU5gCkYtZegyJK8RqcR4ounCcrDmr4jxoMGLE4tWhwmiZv4icOYsubFkKYiXPHeMsBlWJxkLi+UDcjUQ1UAAKbGUNoAUCqWHSQQNc2u0dI1UBDAAAsgfaAvqEw10U6bTgPCzji+MEyt2zF1QpdlmYjw4nHJVyLpsA53TlK185xHgwxZP4zuGYnrxWCsxCjcX8ilK02nL10gIYFU28oEjpHrqEA1K1ihl02VbIEqB1Y/DzAh3xEuvveepJlpdondXgbRVoO1okPi20AQWQMgrUOogtgGAhgaWLlxpI29OQir8zLabvZ1mjvJacVXG/TWYh+rpN55wFqBKqMKsBLtL2jrmf4YJhMS3pcF24LvG9Zi7IjQ4jS8xZs2b1IHZAc51u3DK8jEh24iwbfNxyrMq90t8ov8Z2Bd89KXrIwZ+RjpMSsdaliKEfTVZzjqUjxlKA9o0eJmpi3LE6N4wv51aw3poMX5bvk4n4qfl29fQByFmzMIllzMUZDAFAKVNPINWOA8IfCJf2F8Q3TclyXPI3hGvNfk+OdlaowNiHhhZtHeVca0/wClb3l2HYzCVaTS4TmsSTl3RImKLulLvnuM+Thy7VLR7zdEFKZKjGowNNjZasK3l2YNXzMptpZ64EF+lDX2TWYuWrDF5WfwV/5lPtu5uMuyRezel09kD6u0AKC+YBY8xJwvhdxVe2DMItetzRYMGYWYSHU0JYmW3xjHIc2WIFVlJ1ld8jw0XnIy87DxJcEGHMw1jKvc61KtuvWcnwhd+OJGLOW4wviRvBWVVl1loSrS1WurQMRydWsHqq0WErmHvEFmCeXjLvmk6UF/ZYzVER80CInSht7JSTVYMerCV02/wen1jc2mgwJmwldujdVl+ZmN/YQ1G0VTZzAfLed73dcst3Rel4ykjBZqeMmXpUD61W1t0KTrbhQxe8K7MLz+G79RpeZvdZeJEkoqssVadm07PeFTE1UZsxMRhKXT9kOPzWP8IyM80hMYmuuDNK1PFtMZqrTkMJkiwljQWSJDfMrK9St4iheMVWZtg4Bwv8IcHCNwTEG6r6lpe/laE0OXbNEotbXl8Ru7j4RMK3y8nJSuJJGavKPDX5GHtM9OsmPluOUU+Cj0xKtvNtC9A4Nwm4qvGTmbrwjhtkW/r7bi1ifk0DnfxiMRyLHC29518WZ/71Y3EKJVChv0oaewpxu8MPw8PcHM5dMGamZxZaQdWjRnqiRW5bWY5BJtxkjJv0peE3zoo+qspStZz0C11b4ecEU1PYHTz5PSpIszLrOtfhD1rwZTERGpZZuFmXKNNMkdmMttOi0fpmuw5mw1c9u1VJQPYNhTSFPT5Ydrs9AN7SNdPbKK0p2DSY2zYMvyzJ/eT/zLpNy2nmY1GL82Er8/1CP7DEiNttQlfpQ19kyKuXZ3umYYDWNKy9taZoKeyplXaAY6qumRsiZalb/029koxyd63beTRIcjeMpOMn4RYMVYjL49B9J5T4Kbwj4MxbJ4mbLdM5esW55vJs6arbNJ6ovKeg3Hdk1ek63yMrBaNE8mwuum2uw+Zr8ulbz+K/jOR+MPyTjV43Z6J9qtVqyHlvAndk5wu4VxNeKfKX/MzE7Dq6FlVlh6jbaGumKn6AVU6ifQH6G0RGhx7/iZe3kwv/fQ5BNxUhLEiRm4uGi1Mzbq2Kcex7/iVfH/AKSf+6hyCKtjMy2rUrbSt5Jfqr57tvCSve74M/d01BnJWKvycaG9SsfR4zqlFTgk4UZOUl64OFcVtT3PX8nKTnSTorbadrRFoiMnRqEohf1RVfrDZRLV7RA/6o+vo1C3vOEy2c4D3vODd09kW9o7QfVAG0NVZaNdkTLbUADqzHTXwhUS2Nh+tU2Yp3L1+UdNfCIb5XD7dmOdqxj/AD6OnfS2oydPNbC/FILTA/FJ6I2azwCqXwH1kaMf6vl+tP8AuqmB+IT0BUwfxaegY6bQptNdCH6PEVCsRUt0IqL5IxDOSMcXAAACoBq1IgCtzh3Et44XvBZ+65p5eMu0v7XFXovZvHoDA3CTdWNpdZe2iTvZFXjJRtlu0jb3iPNFmm20uDHiy8SHFhxHhxEaqHER6WVukrHl3n4+NXzjyelZ/kZU+2XF7D1djeDabVQdT8H3DMk1bDuzFUWmNVTBn6crad2L0W6zthWqptsZGVqWVl3j5qvQlSljN9NTrRqRyiltAtXYBvKDzjjbFQsvOLaBgFl6BOzyAL0AKZeYGzBqYQDYN3UTT5wbwDOOYnzYlwnZ/C3b5kOQ02dg4/iH/GrCqfwiO3qCI5Ls6hsQADqJXa0AJdFa+UBwDEfDTceHMRz2H41y35OTkm3ynciLEXZ0+E+SB8IHCXdMOFeUjflzw4rUrGm5fJ/HbYfFgmJb98RjSJZlplqfZO1b5uaRxLd8a6b1loM1KzK8WyxE+ZrOi1hyaxiMHxrd3xVDvWy8Zf4vdVZZuteLpt7RqpHG1zT163pd1s0ku13RkgtEiRVpisy6bKNeY654E4Dx7lxlgibl4N4St3R37ngzX4Oq1mspbqPswXwJNhfEN33tNQruvBXgv3bBiZllo9WlGg9KyzrM7I7Ybwbxxqbx1d0rjqTwbbAm2npyCsZYmXilWnTr5zlFNq8u0dR3n8p8Ji6bOhdit6gjoO2KrF5QYlkqeu3dylQ4VrRFspfMykCqqBs1Vlu8cS4PsXT+LPjy2bgQYa3dPtLQ+LqzLZ0jljZQrW4jv6Bhi4Zy+JqFGiQZOHxkSHD2m8R1/A4e5ScgLHl8EYljQXzLEhorK3nHIeF6Iy8GmIP9Xp9ZTifBzwy4Iw5ge57pvK/Xl5qVg0xIfc7NS3jssNxj2jkOHOFdMR31L3bZhG/7v42r9kzaKsOFoXaY2czwh4fW+pG7UnJeNDmoLxu61irxUKnlW0z4X4UMKY2nokhcl5vORocPjGh8UyrT/HYcHvXgPtvC/wCaxFBW6JeYWbSJLyCwv2M0Czlrs6dvKEcpxVwh3VhKTued4iNeUG9onFy8SUdafBVr5jlNMdGa2xquyx1Rw9woMOawXKS0KDBgrO5YcNKVXMuydvx1t4xls7PskHytM2qy1wnWovjYba6qVq3iqbeUhoSR9TwuMp6WYBs1gHF8VYnvK5cX4VueVSD3PezRe6OMTNSvROVxIdqtotV6QIOub44Z7LuxPeGH5HCN6XtMSLUxGl4q5u1SdjquZbO0p0PceOrnwPwzYqvG+ZqZgwY7NDVoMJomarqLEcr+7NetNX3MsS+mvuOR4h4RLnuG71j20RJ6qAsa7miqsWA0TpeI+e7OHfB18XlK3dKXjeMSYmYnFw6pV1XztRg4QeC2Xx/e8vGm4stKycCXdWaHC/ZLRbeSq3oWFG3vfHVzXfhy8r8kosG8oN3KvHQ4L71u7pMGAMe3bwh3VGnZGA8rGlonFzEpEdWZfA1Vm7acfx1dT4a4Ebyu6Osj3RCgpDjRJSFxaxWr2qThMrd8fgrkcI8IV1q7XXPykCXveD0al2/4838ZB23j3GMHAlwfG8aRec+UWCsNXpzW9o3cpHsnJOXmLF4tY8FI1LbS1LpOufhBzcGa4PLtmZeKkaDOTsBocRdlltOw7vh2wruk0t3JeEvzKBnErUjYVIQt047i9a5vDsHp3in8y6TkTHHcSrXiDDMP+Fs3zKIjke1Vb2qg2Sd3TYNtLFC6zgeM+E2fw1iyVw3dWG/jicmoKxIarMNDbyadFpzpjqm81tmfhIXSm1xElV6oV9szwpYyuyG0xeXBheMGVhZo0SDMNEZV6XIctwrji48Y3DGvq7I79zy1XdEOJtwNC6ddhyZWdde75Z03gCUh3Dw84sum714uRiwWjNB3arGW39Zgjf8A3ZsMfHnclt4y3xb3F3Q03W3GcbVo4qjRtc59WMeEK3DN64Zk5e70nId+xFXjGi8W0NbWWyrRoPlgcEiQr6XEdl7It9LPtMtE7nXimgWro4qjpaN845w3XvI3Vj/A83eLPDk5WqZjU5mosfdA7ZveekbjlJievGaSXlZZaokSJs/2jiGCccXrjibmJuUuCDJ4dRmWDOzMVuNjtzUoderiGFwu8JN33fivui6bheHbHu67mqhrN6Nmu3tHeqwIctAhy8CAkGDCXi4cOHlVVs3bAJYli1XdsrNLja8Ju58HX1eUqzwZiWlHiQ4mXK3MBtxbprcIx52ewhcc7PRXjTEzIQo0aI1NTOy62NkzZQOE8J+NpvAd23bHkrul56NPzLS/FxnZd3m0HwNiPhaXV9z66PpTe81PwhZnilwjZajxKZ141K7TU05bOu028Xhzh8fEowRiilmbK0upobi48R4olpO8p/GuHpe55OVho0PuVmiu2lterXbqNbdHDFcd54gvKQr4yXSNChyDS0J3iR9K52azdsstynIsOYliY1uOamIcjPXGzVS8NZuEvGK1q7dJq8McG8jhG9ZW8runoyxll3gztSf38zNprbotp8Bkcf4SOFuewLi+Hc8G7pSYlVhwGjRIjtxmbl0aNWo7LVkirDiQ3qhxVWIrdm06dxRh6HjPhmxNc70RGS434ur8bYi6KTmPA7iBb14PpWPON8tdSvLTdW7xf9BofBwr8J8Tg+7llbulZeanoqtGiLGqpVObkOXYevCYvW4bvn5hUhxpmXSNEWHs1W9E6KxXXibCGKsfTaf3/Opd13dmAra2s8Z3vcMLiLhu2D0ZSF7Jkfb4ydopmSGul2RfKdVOFYmvmbhcIeEbtlbx4uTj8a0zDhutLaKtGm00OZBZmBokOIzWQ2Rqei6sOxanVLN4MOtbwxtjm8MeXxhjC0ncsaHd2aqbTNTl59NnOxm4/hmbkkcLr9vLOLXPie8rl4VMYT114dm7+iRWaCywXp4pbH2m8fIc3uXH+Ir1vWVkprAd43fBixKYkzEfLCXpWl1bfLjvhLiYOke5YkB4N7VQvlIkuzS0VbWWuhuqw5FdWLJC8rmmL5iQpuRu+AtXHTcLi+NWnTUlnRHf+DLrxNPLMXxx01Lwpd5eHLftas2+vaODcMkC24eDe7bgl48aNBaYSC0aI/yjJZu2jQZZPFWOuEC2JM4Sk5S57jSI0OHPzqVNHazwWGK8MWY94O4svHxZCkb4ueO1LzUqtLQDs27LtlrouqRkJWFxcvAl0hw17NPvNPwhQIEfAV/JMKjQ+5malulZyE013GzgTMGcloM1LtxkGOqxIbLvLaWcQ4I2iPwcXHbGZ2bi3pq6NWo5eWKSI0mMYnF4bvDtqsP52U3ZoMbafiJks35iAvrlRuYEPipaXSzchovqlsNlp1dGkTGYtMeyTUUxDKUKqokdIAIliiGARLFEsBIBuklZIBkgBJRJtEsRssZGMbAQx80TQZ2ysfOxrRXyxWzHTPDJH4zEcnCs3IH/AFY7kj9R0ZwoxbYuM5hLdyEi+rpEuOo9JKPrADhaPqGSMC1KJUogMxRIZgKKUkYFjILAYAAHXfDrCrwPDib0KbhN85wHgmwrc2Lr8nJC+4UaJDWX4yDxcXi83Odo8LsDung8vaymqhUifMx1zwHzfFY4g2W/t8u6+rpCRi5zePANhGPCbuRrxkY27EWLxi+ctp0/eV33zwfYn7kiReJnJZliS8xD2YqczKeql0qdKfCDlLFnLhnd5ocWX82zWDJ2fg7EKYsw9K3rZRxj5Y1PTs5T4cY8IdxYK+TnorxpptmUls0T+PonE+AueeWwnfFtrVQ5WJxyr5mk6uw9LTGP8Yy8Obi/LXjM1RG6K9H5jKu05b4QFzNEWyJcs9DXebjVZvROwsPYlufFUr3VdM4kZV/CQ9mJC8pTR3jwQ4NmpBpGHc8GXicXxazcOrjVbpaTpLD153jwb48aG7PxknMcTMLux07XjsA5bw045u68ViYYgys2s5IzaxIkRqaKaTUcGHCJJYL+MrJ2VmY0OaVaWg7rWeM7A4YsK3BN4QvS/Za7JZbwpSOs2tVdP/8ABwPgSui6b8xHMSl63dLTitLNEhrGSpVawJF3zdl4Q71u6Vn4CusGZhrEWraptPoIgSkCTgQZWVhJBl4S0w4a7KqNstNgVwG8OGy5rsv6YuqYu6eVpeNxESM1PFr2vEfDfnD9cl2zzS923c95Q1ytMtF4tWbsnVvCXLcRwh35D2apir51O78C8GmG7uwvI91XTKT0xNQVjRokZKm17tnZAw4R4YLjxPMw5GYgRrrnHyw1iPVDb+M5Hi/EaYQw/NXzHlXmocvTVDV6W1toOh+FLBkDAuJYNl3Vrd88rRoMP8Q9nKqt/wBDn89fMTFvARekaNmmIEvxcRu0jLbZ/MBsLl4bsO3ld94Tc7KxrvWRhrEWGz1RI+ltFNlnhHgvhdsxjiFbpS5e44LqzQ4jRaojaPDzHSmA8KvjHEMndXG8TDifKRGXaosPQEtwfYYwdAiXrdV2Uz0nLvEWM0VmZmsVtpeQD5cccLNzYOjtIJAe8LyVc0GG9MOF4K7ThsP4Rj8atkbDssy73FzWY4Fge7LMbYxlYd5M8RZ6Y4yNnpZtOu09G3jwfYZvK7Gup7lu6HL08WrQ4VMRdHI1lvLUB8+EMcXNjSA1t2xXhzCfhJaN+EX6ym0vy+pDD12RryvSPxMvCXN0m7K9Z5ngRZvg8x1MSsKO8Rrsm2h1L+2pZ0v4jn3whb3tmoWHZWBWsrNK02y9LLq+Yuwx3j8IyOs3E7guKW7l3WmYrcY3zGk4ROEu6uEHDN2w4MKNK3lKzPGRIO0rLau0tpzXgIwddXe/GvyalZeamosbiV45FalLPBpPl4eME3ZCuVcTSMrBlZqBGWHH4laVipbq2bOezwkST6vg8R+Nui9pfe4xGMa8Ocwt/RLqe4oKqk20s0TjfA2io+H4OseiPe0HpQUb5mOvMTLbI8I18Q7MqpebN87LaGvs9WMtMRbO0dPvw7zcK/o1223FLUwplpdm41qqbG0HcMJq1gxN1lRvVU8n4qTuHhBviGu5eLN62kkWfl6ovCclLqkY14zsdJeVhQ+MiRG3VpOmL6+EPOtN8Xh+6YKwVbLEm6okSL5K2bJt+Hu840PBNyysNvk5+InGN0lVNNJ8fwesNXdHh3lfceAkSchMsGHxiVUrb4CtPkuP4RM6s5xd+3PLxIe80tVDiL2tFpzrGXCOt14KlcT4agQbzhxY6JxbIzU6eXStmy1hm4QuDO78dwINcRJCegRKoc1DhWM1HOlvSsM3B3gKPgCUmpWy9vjCXjssSlpemlukRHmOYvWPM3tMXu6pBmIsw0ZlVGVVa3XTo6jv7g24T74xpe8aSvS7IMrDWX4xYkNHWrR127Wk6g4TYFktwl39ZZ+PWJ86raenboi8fcd1vZstKQqfRUSSPFnAbEkU6i1azzjGMDIoyVakptIGkvpuLvrD8b+FvD+dDemixDki3PG6F4p/PqN434RgGFROksAdufonW2Cm7l4eMZQLMvGwavZtOyW6zrCSmZe7PhDXtbMzMGXhx5Jc0ZqV1ovPaVfl2nPSkC95OJIz0JJiVjrTEhxMystp1bwLRY90XvibCTtVL3dMVQat3No/6HNb+4QcN4cu+JPTt8SkSjZhwYqxGit0VWw4dwLXbPTkW/MXT8B4LXtG/Y6tvJVpqHwRdmlKICIbGixtluGI/QjQInzRVN7UaPGa1YavC3ow6vmZbQrfM2YNJCtxkOHb0oa+yWZFKwbtIhgdPcNN5WXLjHCN72wHmO5mZlgw9ptDbKm+fhujxIrWpweYlXN+KU0vDjFgSN74Rno8VIcOBNszM26pzd+F/AfGNbZiuRzeUbNGywxiGJii51vGNdk3dbNEaH3PN/hNW8bQ1ly4tuLFXHW3JecG8O5qeO4urLpNmQNR1CVSjI1+IIfG3HeEPpS0X2WHh9+MuG7X6UsnsmW84fGXfNJ0oLr6rHxYTfjML3Xbb+IUDb1DXynJGq2VaQLOvOHuHZE4NZprd2YgN6x2GcE4cIVsXg0vSyl2ZaGypVyMWPqzJpMPY44Tmw9dtklwfS0xK8QiwYzTSrxqczaDnmE71xHe93RI2JLig3PNLEphwYcWupOkTwfRLXwHcNtu0soi/Mb0mTk1NeoojrLIyKqQbZ0AG9rKNBgJqsJytltGWNFX5nY5Aug45gDLhzi+hMx19dj5sUcIkjhXEdz3HHkZuNEvNlVYkNMq6W0f/wAmcRzCxWa1bLN46gkbnlOFLhlvxL/hd1XTh6CsOXkmfKzW6qmU7gZeLfRkqU6ivieicEnCpMYmmZOZjYdv+GqzESWTjGgPZ/SaifZ8HDTwe3BhX4jvu45X4vrvOFBjS8H8E3gandtOdcOGJZrDWAJyNItxc1NcVKw4nRVtVvnHXPCvwg/dBkbth4cue9I1yys/BjRrxjS7LVFq1LYvLqzabTtfhIwk+OsDzF0wWpnGgpGl2/0q022L/Ga+2m59WswrwOYQkcJyMjO3LIz0aZl0iTMzHVmixXbXa1jbu0aTgdm5i4MS4owDGjvNSt3RO6JRmfMqNTl+ZlMVwcOsth64YN1Yrue/IN/SMPudocOVZlmadVjK3WfdwQ3DerT1/Y3v+VeTnr7ifseUibUKBZyaSa+nmFw+XDdb4Bva+PiyU+MoawqZuj5VVrXeOU4WwnhyTu657yk7iu6XmlloURY0OXVYlVqLpzHzcKVxzeJeD2+rtkIXHTkWCrQYa7zKy20nFcKcMUBrnuu5nwpiKJfEKGstGgw5X5NWs1VVdEfUi7WtbdOprkZ574SN8PMNV3LdlMvVu5OY7YsXMtlqudWY2hPgLhYufHb1/FN4w/i6fifiGtXRYzEh8n2dh4nzYZviz+CRfZMt2NY10Xf/AKpA9hQv9eMuG8rEbjFeUi0tustqmK4XruC63q2pKB/7SkV9+1yF+Ix5St0IduU66+ELpbgovC3ozEJvWOxrFOH8LmGryxbwf3hc10wO6JyPEhNDhs1PI2vWWHqzq3uFYlWEbjdm2pCB7Bs1byDqe7J7hruq6ZO7YGFLjaDJwVgqzRczLZq1nLcEz3CBOTkx35XPdd3yqw/kGlWqZn6xKLk1cs1dgrxEKtSjpXaMsr19FzU4s/xTvxc/94THsMbTxGuxKtWHL4TpSUf2GER9V3tVIyv+rQPYU+mrKfHdWa6rvfpSkD2FPsAWypcDa19EjZ6ZaZXW3dKPPXB9hVsY8EPCBdML++oV7NMy3/qorW2eybDFXCDGxpwLYZuaRd/jq/5hLqjrvKyNofT4zn3A/ge8cBSN+QLympSN3fPtMweJfdzbRpMM8CllwcLE1iq2PLtdKRHmJKXrzLFfl1cmiw1urVYvuqXw9w18Gt1SuWXkZLuZf4tX/U7piN8oy215WOB4twBeF/8ACRhnFEvNS8OVumG0ONDb8I2nwHO42ZmYzJY8Qo6iR1c2cI0OPNHeVfC/wdW9dDfPmZdjMq+yaLHGbB19afyb9dTe/ta21U/Jq3ql+o6l+EmtOHMN0fhlvlOLp6VJ202Vl8nMdVR6OFnhPkYkrRMYZwpE4yJMftc3N8yJ0tB2rEapmt6RdQNmYTNYo18PSJ1Ny9EyLXKS36pX1iAHVZXsuAVc4qf1QKze0C/VF1+UG9ps7IB/WOm/hEbeH/8Abnch0/8ACI2sP/7f2Tt2HvxdO/8AZk6YflJLey3TyC0W+A+w01fIbJANFotFprc2AAABUAEhFiAFsArTp1DVHZlRVqZtlV3j7rluaevyfhyF3yrzExE2VXd7TeBTv3AfBbI4ThrOznEz16Mv4T9rgdlPedC7vYUI/wCu/a2Uq/nq4rwe8DVr8XeWKYbrD2och0u0/uO4YUOyBDhw4K0w0VVVV6NhkZddXSYlVPl69eVaWUn01C3jRjjEVWiYonWpwucm8oTMDMJgFlJZqRtppFT5YDJ1062zDzAzcwBUFVgxAJdk47fzf3X4Xs/0kx7ByM49fmbGuGbP9Y9gRHIw3dwF2R02c7bIENoHD2l8oVNilL8m2lQOosAOn3esdO7Iv7HXaeneXwnY2LcbXJg67I143peMorJDZocFYqtEitzKtlhxW/OBHCWIL6nL5m4t6Q5qcbjInEzFKhdHAZgO6pxZq27pm8IiNUvdsw0RfROTXEa/gDuibW574xPeMJ4ca/5tpiGrJTks5P5ztNVsZ1s6TErQsNYaKiw1WlVXZVbCGbnMay7hwjg04RJrGl54guufgSkrNXZGpgw1elmSxtFVNpxuFFh3l8JzjJduOhyd3NDjNDzLCayEtlPznJMVcDWFcWXm17Ru7rtvB/w0xIReLaJ4zaYN4P8AD+BIEZLngRmmI/4abmGrixfHaXfQciY4fiDB2Kb1v6JN3Vj6eueTi0cXKQ5dWWFzWnMeiGy1RMh0LwW4OxNe8nfUxIY8nrpovGLBjLBhK3HurbdunetO6bju+buy6JeUn7ze9JqFVxk3ESlovmmDDWF7twrLTUvdsJ4azUy8zE4x6qnY2xddUcG4aYnF8GV9aN6Gq+sZODe78OtgDD9szK3K0buRKuM4qqqptNWnWcixDh67sUXNMXTeiu0rHpqWG9Lam07Rwj73zAPNK3j9KY1pLy2HYMrAumWit8XQrrhxGWn9jUVU/wAR9OrlOFYZ4JMK4QveHe11QJtZpFZV4yYZl19RzPUrayajp/h0iVYlwOjMir3XUzNsrmO2ot4SLRNNt4yP0hfecfxfwfYdx13LbfkrMxmlqlh8XF4vlOO/e/4AX/IZ5f5UxfLUdiJEgxU4yDFSND6UN6l1eI1GKLlnb+uxZSQv2buOMsTjO6JZKmZeiPC+E7qwhdXxXcyxocvxzRqYj8ZmtNvqy2ZCDo7EuCb7gcImE7qj46veajTUOO0OdiJ8pLaOhzazsjCuEL1w9PRJifxlel+Q3h08TNotKt0jazmHLtnr+kb8mITtPSENocu1eVVt5cptC66gTbXylOneCmBAm+FHHESNAgxqWpXjEVqc3Wdw7Ouw0lx4OuXDl53heV2yzw5q8Wqjszs1QG1WRkobabJGUVl2WWEqsZ2bmFu6bRLSRHAuHWJTwW3tZZtM0JfWY3dw3LI31waXTc14wkiSse7oUOIreTtH34hw9duKLqiXXfEDuiTiMrMtdPJyZj7ZWWgyMtLykvCSHLwIaw4a9FbF0WFV5kxRN3rhy7YfBreyvE7gvVJiSmd1oFral+c9OrlhQ7OjDRfVNNiPBOH8VTknN3tdiTEaTzQoldLLm3ukblupKVXL8wBUKoBBAxx6/GsfF2F0/wBJHb1TkJxy8/lMcXDZ0JeYiAciX8GG6MKcxRNNKtm3TqGZvORkfhHNMXjOS8nLwpLi+MjPStVB3Acbvrg3wjiO8Il43rcsGcnItPGRGds2gCb+4VMF4ekYk1MYikZhqcsGUbjIkVujqOLcDt1Xped5X1j6+YDy8a+GplocRKW4qrTa3uOU3ZwZYIuWZWakcMyMOMuy0ROMp+c5Kz2sFOqneOoeESTlL64bsG3ZOwoMxL9z1RILbLbb2eyp27umtj4euqbviXvuZkYMS8pZaYMy20q8gRxnhgwO+MbjWbuv5O+rq+Ukmh5WZbNz3FcF+PUxxcP7Koh31I0wZ2DstV09HX/1Oa1ZjTyeF7ku+9418Sl3S0vPTKssSNDqWrTy6gNky2REZLcqstOXaOneEXgtua4ME31e0ved+RJiBC4yGsadZkZrW57N47jZT5LxuySveRjSE/AgzErF/CQ4my2gDr+4OBjD/wAXXTNvPX5xzS8CYZVnW4tmtRX5OidkxGq12EQ0SAiw0VFhoqw1VdlVs1WL/EXSB1Fw13hAlcY4FebjpBl5aY7ojRG2VSx10sc8j8K+CONa3vuu7aq2z7b3w1c1/RYMS9bplLwaEtKtG3VtPh+59g5eTC11+gaG1ufEl04kgRJq6Lzg3lBRuLaJDbKrdE+ynmPguy5rtuOWaXuq7peRgu3GNDg5am6R97AdYYRj8b8IPFk3VU0KUp9mw4dieavXCmJcUYHuhXoxTHg9zf6Oxmz22fxcp3pLXZIyc5MTsCTgw5qZ/DRl/CRfHaEW7ZGZvCDPxJODEnIC0wYzJ8oq9lh9h1fwzXVL4e4Kblw/KULBhTcKCvaazlb5ztCT0dywYabMOCi+qoXhd8lesNYc9JwZqGjLEVYiVUtZvGfWq7NKmRpcTYTunF0tBlb4hPGgwInGKsOK0PNb4jq+8ODLCycKN04fgycyt2xZB5mNBaYapms5M3Kd0Mp87Scu04s7bAg91LD4tY1Hyir0ajQ0uGMBYcwdMzExcknGgxo8Pi4jNFaJl5ec5FAWzj4enpKS3ULZDDq3gddY+JcdTtjbc6sNW897TtHjXp2jBLSMrJ8ZZKystL8a1UTi0pqbpMZt0A6ziPCjhOLjHCcaUkq/jCWbuiXVd5rOVTluyIDrrC/DLcq3ZDk8VR4103tKqsGNDiQm+VZdVVhrsX4sjcKFq4TwUsaNJx2Vp284iMkKGnRsOyp66LrvKJx0/dMjORNmqNCVmp8ozQJaXk4Hc8pAgysFf2uClK/zD/xt8l0XVL3FdUndUotMvKwVgr/Fvfxn12AFpYsJblNFizNLXfB/Gz8Jfm1m9bkNFiH5W8sPwf4W0Rv4lDWjdttMJtJTb1pLEVjApiN4oliSmJAlhMxZibKAhVAJisgkokBeSKqke7rIAoTMITG0JiGGzEswGKIfPE8B9ERj5n8JqI+WNpqPPmPotkfGl6W7vHKvzKth6Ajcjekec8SRbI9/3lEt2mmX9oT4pHk9WlElKcLkMYhgUowCrwgMomnwDXSQNSiSgKGIYDKJKA0GO4HdOCr8g7VUo/8AMdDcGV8ytzYxumdnY6S8rVTEjNsrpXnPSF4Sfxhd01KVU8fBaH86nScPgBxIq0W3jdDU9tgO3pnhCwdAhRIluJrupXouzHRvCljiBja+JdLura7ZGGyw2ZKWiu3K2jwG2h/B/wAR06PjG5VXzzk2F+AuVu6Os1fk9BnOLapYMulMNvK0gbLgfw9Ek8CzVswtLXqzU+RTosOnLgm4mAsdQe74Wa7pumMvYq2vm1nqNVRYSpDXi4a5VVdlVsOG474M7qxxTMWxfi+8kWlZqGtVS9F7N6wDmsK9ZKclu7peal2lXWpYnGrTSeXsXXhAxDwg3tN3d8tBmZhVg0/tujVVZ/GcmbgIxglUCHeMjGg1bswyo3mHNsB8D8phebhz96zUGenEzQ4cNPk4TdLtGRvcbSb/AHNrwlIi0xEu5avKsU6c4E71lbtxnIvNzKQYceA0PjIjUrVau9aeiI8KDNQ4kGOqRIcVWWIvSW06cvX4PURpuJbc19S0OTaqmDNozND7NjWbVgT7O5IUWDHTjIEeDGh7NUN1ZfSsBt045weYRmsFYea7ZualpiI8ZolUGqlV/jOSsFec+GaBZA4SJx6aePgQonqncnBpjO7cQ4YlYNs1Bhz0nD4mJBiPS2re1nVXD1LcXjaRjfj5Jf5mPquXgZlsX4Ou++bqvF5O8GqhxocSpocXR4tahIp4fL+kL3vy67tkovHRpFXaYaHmVWbkXT4TlGArtiNwMX0kZae6oMw0PybEbN6pqbg+D5GgTixr7vaW7nVquLlkaqL/AB2nbz3fLrdTXXKqkvL9ztLw1pyqtq6Arz1wFzfEY0u/Sv4WG8P1T0ZOQrJuWjS9uzFVobeTbqOscHcC0bCN9SN5fH8GYWWiVcX3Oy1ecdo9K0Dy1dUab4N8arCmq1jXZMUtTvQuZrPHYelO/bDke7vjWy+JRZPi+MzRVVqejTymoxnwb3JjhVeeV5ecRaYc3B/CL4+kdbxPg53hx+hcRSjQatpoVLU+SBwfEE8mMce3hO3WrtDn5le56tpsq2HaPDpheIuE7pvKCrxI1zqkGY8i1dFvzWnI8B8E9zYJjrOvFjXleC5VjRMqwvIU5nHhpMw2hx4SRobrTEVsystu6XcdPcCPCDdt2SkbD96TSSqu3HS8aJlh9a2sfdw542uaLhlrgkZyWnpyciIzLBepYSWNpqa0i/vg9XdNTLRrlvZ7vgu1TS8ZOMhr5LctJnuP4PtxycCNZek889MRYbQ4dKcXDhNbvWWbzWEHHvg+zNnfDNQbd+Wb+Y43wsyj3Zwk3w1quqzVExBZt5bV1/znbuBeCaVwLe63jL31MTjcW0NocSEqrr7Vht8ccHtzY7gQ7LxaNLzUD8DNwdpez2rAsnxYa4V8JR8OScxPX1LSsxAgrDjQYlXGVKvR3tJ59xPfMHEGLr0vmWV4cOcmWiQ1bonasn8HWSSbhvO3+8xLq2ZYcJViN/Hum7vfgKwzeE3Bjyk1N3bDhQVgrBl0VlbRvNp57QjDwjYemMWcFd1x5FeOnJCCk3DhrtNoXQ6/McK4FOESQwvNTUjesfueRnlX5Rkq4p7Okd73NJw7ou2VkILPEWWhrDVom0ynC8VcCuGsRzESehd03TOO1USJL7MRutQPk4SeF+7rsujuXDF7QZy9I7LTEgpUsBedrW5B8DGI8VYmS8J6/J6NNSaKsODUiqtfPToPiuz4PVxwI62z99T01BX9phosNW8o7Puy75S6JGHI3dKpLy8JaYcNSK838NMLubhMvB2WnjYMKMvaU7d4PuEnDl63Vc9xQ5x/jRJdZdobQm2rF8JuMYYBuHHKQfjaA/HQssOYgtS6r4zT4c4GbgwzfEvesveN6Ro0s1UNYjrSE0c5AAIAaiGAy1I2ilA0mLdCXfLxvxU7Ab19BvouV28o0WM1pw9MP+KaFE+Z1N3F0szZqagGrDUhFRF0ItKlKFZFOMYh4NMK4qvNryvm7O6ppoaw2icay1LZyajkqsMDiV28EOA7qmVmoOHZdoyNUvHO0RfROYLoVVRFpVcqquVVXySBjcUzBUSUAzVYqh8bhy8k6Uu5teY+G/IbRbonk6UvF9kD6JGLxt3ycTpy6N6pnqPguF+MuG7X6UtC9k+1WMilLMamRQPivW5bqvxIcO9bulpyHCapeOSqluo1y4DwivJhu6/o5vhmh8d23LdVzLEsuu7JSR438JxKU1aD7KQzBUZFDIVsw1zAKOtUCJZ0lZfVNNgpqsJ3b2YbL6zG6bNqNFgXLheVs/FxIq/M7Ab9dkFWwWyMB6uQIkNIi0OqMvRbMol0DqAtcq6LFpp6IKwtNgVAOqkBABSjXbWwQLtAcfwLluqcToz8wvrHIWhQ4jw3eEkRoTVQ2ZFZl8XRNBgxaYF7J0Lxi/znIVILZqhOqRUaHEWDEhttLESpSQ2QLRqIaw4apDhrsqqUqVVaq9LzzHUVl5wKZbHiK8ZamXZZkVqfnHVb0nbyiahgUsQaxW2qkVm2m3iPTBWqIMlXOfJed2SV8XdMXdeMqk1JzK0xILbx9FQ8pRorow1DwvhOYuaBPTc5LwoMXiWmXqaElqtoSro2H2YaarDFy29KQgeyfZOf3nNWdKXf2WNbhHNhO4/9ShBW36yqspPplVMEHoFkVeEr0ACnmzjq8sQeaBQqqgXSMgTU8x8V+LVcN6WdKSjr6jH26z5rzzXVeFn8Gi+wwiMdxtVh+6X/AIFA9hT7quwavDTVYauW3+AQPYU2i6CgVn5i+MtI8RQDXw1BVZUSumrfCrLqCqXwFLmXRkJXRyj3QHshuiDZA0mNs2EL6/1ZvaU3GqLLKkTMry6qy9m1TU4zzYQvzT+SRf1TawM0tL2/6GF7KlRhuy7JG55GHI3bJwZOVhM1MGClKq1vKfVUG8FVnskUeLtE9XklBveiEGur0hCWr2itn1QpAGyoLmb0QCqyn0gJXZLXKwBmNNiLB9yYreV+OpDuruaric7LTp5eQ3GytVpS5WLGUoyyikoxlHGThf3HsEU/4ET9KxkXgfwP+YU2vxrHLt3zQ1Vae0c3i6v9nW8LT/q4e3BHghV/wImz+NYtuCXAy/5vptfjWOWNp5KB/WL4ur/ZvwtP+rzrwy4bujDGIrslrnk+5YMeS4yItdVTVtYcCa3VoO0PhDf403R/+O/XY6v0aj6ixlKVCMpPmbyONWUYpACrLLbeY7ro6aFbbbacnwZgG9saTK2SkPiZVauMm4ifJro3V6Vpyjg94Hpm+eLvTEKvK3flaHLbMSPp6XRsO8ZSSlrvlIclJwkl5eFUsOHDSlVPEvvycafZSevafjZVO6o1uGcJXVhG7e5LrhIrPTx0ZvwkVrOkxt7Gp6AdQVZTwJ1JVJZSfQxpxjHGJ724FVlQVeQTs67aDDRkt9UGpq3BMAtoKRD3QqWCkKefdABdRQgABdYtVIU2UgPMcdvn/HjDfZhzHsnIvEccvnNjvDv+rzDeqIjkuukrdFugA28FpI9pRBC3QXTTvjEAVW1A3UBIFEqKrKSuVmsKrJmFvE1Zh1ABG0PWIA2VEABAGsW6FVID1ryE6+dgbQwbpoOoYswZgDMKrnCoKgCoVQ6bRMAVcwCVadY90oURbGXXshxlQEttAGmwQAwQmYQxVWVAK3RozHHZnNj+706F3R2+c5FYxxxs3CDo6F1N/OwWLki7JIFaioXmj1qSGyABmEADzdsF66yNkPEA9JPiJ18ZotXK28ADMUSLQy2bRk2THTmAyVE+MQm0VGgae0Jh1C2gFUo2YQAGoXWAmDBks1lRIADCAAATeEVNjBSAgBlzE7wDJ1AJsppQ2gWmwGYkyh1Cq5gEwCbqNFeumJia4YfR4+Ibs0kznxtd9nQknb52DUW7t3jGxdjWqJto0iSGylkMRpIm2QBispIbqKYlgJEMQATVm1AACZhD1CpNoVRGUphMBDaOSwkqklspVYoh8z9ozxD54mVSxR8cXQtjW29E8zTsVos7MRqtqI7VeNmPR17R7IF2T8boS7t6p5sszJr2iVfRIvX4DzDU4nIajEMC1AQwGUSUQV4xLtCGBfaAAAalkdYwKXRVpKpqJKVqgHujJKAfMMmooBDpDWPrMihaAFVaBYgJZgOB8JfBlO46vG752UnpaXaVgtDZY29pbSb/AALh6bwjhyHdU3NQZiIsRmqg7Os346gGuVRABA1LqMZQDABAUFQqgVgLAkoBrshV4RDAAUA6wBSyRaSCwqpJ/VACgAAAAAAGohqAyiC9YGoxcvGYavL/ANGr5m0mzgRONgQX6cFG+dT5L+TjLjvBLd6Xf2S7qi2RbokYnSloTeqB9o1JqKCjWOoXmjpt6IF1E1D4tui4Ut0HABjpflpcdNvQAF0mCch1ykZOlDf2T6KX6HqiiQHaG2XdA1WE4lWF7p0/kyr8xtTTYMhvEwvI5XahXh/M7WG7WBE/FP6A1CGXxMTouHFRei/omRBYcU/RcfFMBNXhHUHF21C4u3semAVUlr4Cac256ajqsXVayemoDqzL5RoMEt/4G0PoTcdfXY3fGQ+W2KnpqaHB0zAWTvBLY8FaZ+P+2r0jQ5CUYO6pVeWclP0q+8TT0jzz0p9IT3mR9NQbp8vxrdy6vjGR+lJ7xNfN1ry3nIr/AChPeB9lQHwfHlzry3xdy/yhPeT3w3Hz31df0pPeBseYteo1XfLcXPft0fSlF30Yf/Pt1/SFA2wzU99uHV5b/u76QQ2McN/n+7v0oxGLCeWZxBD6N5u3zqpv6jjODJyXvCcxFHlI6Rpdp+pYkPZbKclEg6hqxKlEDqHUSHpgUPUSzUqFVQDqL02mPeLUClYdXhJLAiL8pAjJ0ob+yanB2bCFy2/wZV+ZmNxtVWdlvZOG4RxNDgYXu2BZct+RuKhuvGQ5WqG2h22W05lL9VcwqtZtFO12yqmNH31WNyYdxF9FX64d9D82FsRN/J0+uEb+qkKvCaHvnjc2FsRfooX1y++Wb5sKX/6EL64x1G8qF6BpO+Oebkwpfnpwl/XDvjvLmwje/wClge8ziN6rWD2tdJoe+C9ubB96fSIC/wDcn48vluTBs99Nge8Yjftp5zDOZrvnE6UtF9hjUfHV/wDNg2b+nwBRb4xBEgRk7z5haobrmn4XOviNRiPpwnEqwrcbVf5BL+wptKuc4hhG+b/707lSDhZ4kNZKEqxO70WpbF0VaNHObT43xJy96iedeSfUGKt7qGrWGh+NcTc2FJbzr0X6gfGeKv3rSP8AvRfqDFcXINIaTj/xliyrT3s3d/vT+oC3hi397t1/70b6gxMXIfFlFpNB8YYrb9wLo/3k31B92Yr/ADLcy/y9/qBG9VrOkVUce7rxg3JdNwedOxfcPj8YtyXZh36VF9wH0Yz/AMTr8/1CObSU/vSV/wBXhewpw7FUfFzYTvzj5HDsOD3FF4zi5iK0SmnXTq2jl8n/AHpJ22bPc8L2FIMtPg7QNmJ3h72YBlZSN3zRVZgKb2lFst5wVZQ2m84B1WUro6IqvaDd0hvecAubzR1ZtsW6OrNr6QD3fNCrMLdzbVI9TekAmaldIK2ZfKJ3dFrBsuuihlYDIS2b0hc24PVzgdFcP9n91N0//jm9tjrFuQ7N+EDbZZim6Kfzd+uxw7CmEb0xjOpJXbCy/tkZvwcLym/VPqrOpGnQjKT5e7hnXlGLTyEjN3nOQ5SSl40xMRGpWHD2mO9cAcEUtcPF3jfyJNXkrVLB2oUD6zHIsG4AunBctRJp3ROPDVY02203i6NhyanQ2mxTy738jKp2Q9Ho2P47DumdVrU229FQ1+0G76IemeS9YbwqremHpiqp6YDrCrLtGMrdAGbtE1Wco8xNQFVE1eEVTBUFNqWUN7UKrthUAg0gACps51QOoN0YAxx29W/u8uGzoyk0xyI4piCVjzmOrjhy94zN3xFkphuOgorN5Ouy2wRHLWazsBVYaNbhvXnxhe/6KF7g+IL0/fhe/wCigfULiN3VULSaT4gvT99t9fooX1A73by/fdfPoQvqBG64xRMxpmw9eVP+N18+hC+oS2Hrx58XX16EL6g7Ru9NnYHssaP4gvH9919ehC+oL4gn/wB9d9f8L6gG8ZhVWGj73rxp14uvz/hfUDven2/zuvz/AIX1DSt4rWVCq7Bou9yf/fdfn/C+oJsPTy/51355rwvqE2RvWFV4TR97062rvrv/ANOF7g73p1dffXfnpp7hsN3u1BUaXvdnv32356Se4TYcm2/zrv8A9NPcNhvCauyaTvamv313/wDpU9wu9ya/fTf/AOlT3F2G7VuyNjSd7k1++m//ANKnuF3uTP76b/8A0qe4DeaqtkDR97kf99OIm/lC+4fe1G5O+a//AKQvuA3dQtebLmNL3tRv3yX/APSF9wu9qJ++S/8A6UvuA3K1tTbblbeUrX0XNJ3tPyd8WIvpS+4Xe0/74sRfSl9wG8ZXVtFAqbVNJ3s2/n/EX0r+gO9m1v3fxF9N/oKN3otCm3oOaTvZb8+X/wDTf6Bd7Nn59v8A+m/0Abqm3oOFNvQc0vewn56v/wCmsT3rL+e7/wDp7A2bym3mrEyv0XNI2F0/PF//AE9iWwvBWmx74v8AzdGdYDeMtvLS5xyWh2xOEKe0rsXYn87GdsJwKf8AC1//AE9jRXbhiBExnfUH4xvmmBLwF4zu1uM1tssxRzql6dlxMtvPWaJsJy/J8Z3/APT3JbCEr+cb/wDp7gb2l+gOl+i/oGgbCEr+c78+nuLvQkvy++v94RR5DkHFP0X9AXFP0H9A4/3oSHPOX038vi+8TYOu6r++r6+nxfea7Ucg4uJ0H9EVD9D1GOPtg67eePe7fy+L7w7zrq5ot6fT4vvHaN9xUToiofZpf0DQ9511dK9Pp8X3ibB101a/jH6fF947RvuLifinFQ/4pzRd59zdGe+nxfeS2DLkb9qm/psX3jtG9aG7ftThxUT8U5ou8u5G/aJj6bF94u8q4/yWZbyp2L7x2jfcU/4px8VE6LnH+8q4/wAjjfTYvvDvKuP8jjfTYvvHaN80J+i4uLicyuaLvJuLnkY30qL7xd5VwfkL/SIvvL2jetDibVquKh+g/oGj7y8P/m7/AJh/eT3lYf8AzZ/zD+8naN7o+1BFNtRpu8zD6/uZ/wAV/eLvMw/+bEX/AGr+8DdU284qfCaRsHYf/NMH0394Lg64PzTB9N/eO0bqmnlZBeenpmm7zsO8nxPLN6XvDvMw7tfE8p63vHaNu1qdJPTJqTpJ6amq7zsO/mWU9BveLvOw/T/gWR9BveXtYbSuH+Ng/pV94miw1/b4P6VfeavvQw/zXLI+gLvRw+rZblkfQL2jYtHhfj4P6VfeT3TA/Hwf0q+8+HvVuL8ySP6IO9e4vzJI/oh2j7GnJXnnJdf9qvvF3bKflkv+lX3nyd7FxryXPI/olDvauP8AMl3folJ2tvo7ukuW2elP0q+81MpFgzeNpp4MWDGhwJBFqhvUtVrdR93e5cn5lu76Oprblk5eUxZf1kpAgy8NYcJaYaUrsgchJZihMRhDVElN1EeMraCWbKWQVkhMMlqQJYQxaQJEw6QZQJVea0BiNokTFMSwEMQ3WWQxVYYh8cdj7H0rqPji5isuNY1i2y2Fb0iWfk7fznQCqy+ad58JEXisF3h0nph/OynRVVXnEqrF7BUCSzibMBFqAFCUZA6RiUYAMQAUpROyUA6hkr4BgUpRBQFVCJ2igHUUrEDAyVC7QL4QMhlKQNQKBQAB0gAAOoBD1bpADqCrwEgWFRIABRIAWGm0S6d4YDKIqGBWrnAkoKekOsQAMF006xDIhhsiDaAZRIANRiXrGAxiGBink42RmE6UF/51Y49hy552Zw9dsazEl7w1aXX5OHxVK9nkOSxdDQms6VSmqwc1WGZHsq6/M7FFd787++a/PU9wd70xz4mvz9KnuNuozO6tP3uROfEl+fpV9w+9p/3xX59KX3G3KG6NI2GPDft+fSv6Cu9ezevq/G/lrG5Abq03erD572v/AOnsPvVlee9r8+nubja5C1UbjS96Un+cb8+nv7w70rv55y92/l8X3m72SS7jh2E8L3dHuf5SLeNSTMeHlnYqrTY7Wcllpt+866f/ALi38vi+8WEdCyc9DX9rn5hfnbSb2qxm0Wk31Gj7zLnb9qm/psX3ld5dx88Cb+lRfebrUA3Gl7yri/I43nTD+8FwXcHPIu3+1f3m7Go3GkbBOH/zYn6V/ePvHw5+aYPpt7zeANxpe8fDn5nlvTb3l95eG1/cWU9b3m4GNxpe8zDit/gWR9E1GGsK3BEj30kS55FuKn3hrVC2V6JzBjQ4cam9cRJ/DVb50Ubj6+9LD68ly3d9HUa4XuBf3Cuv6OpsqilYbjXd7lxryXLd30dS1uC5l/ce7vo6n2gTIfItx3SvJdMj9HUyLdF2ryXZI/R09x9ILpGQwrdV3LyXdI/R19w1u+SXkkZT9EvuM9QVAySsrLquqTlPNhKPuaDzSsH0FMmkQGguBqcQYmSzKvdEJqV3chv6jj9y5cXYih/+hE9U3wkKqHpEG0QZBbpILtAVrpGTvabCgCrtoURSrcqlAWVsmOoryQMifhNBosCs3ehdqVbHGr80dzdwttTR4Hy4YlbOjGmF/wCO5RvavAwVMLVVpCq0gpfAGtSSwHmJ1coVVFL6qgLVzj3SgAWrlpHtKy9kkqHt+UBpcFZsGXDo/Ik/mNzqNHgVv7ibj/1RfaY3S+SA9odNlQwAKbFHqYgpWq5AHSPeDUC6KgKUW8IArVYszYTvz/8AHR/YPuu9rGu2Tt/g8L2FPjxOtjYZvqzpSEf2GPpuxqrqkbf4NC9hQPq18wN6tQbotptG1tAOrtCWL8o1lsLZba6Q9kmmxdYFdQdRO0uoNXOBTNlCrwCZbeLEmlmXStNQFt+qP6xLB/WAKh72+TTl9Ea5WAXjYpdFRO7oGAVc1gVZtzKwqgq7QR1/jjg8j43xfd8xGj9z3XLSXFxmXbZq2tpWz9Y5rc903fcMnDu+7ZWDLy8Nsqr7TW+E+tmJqzHJKvKUdIOONvGMsjps5lK8RFX6oVZlONyLpF/WIHVzAFQ+ffIBlpakAHUTtawYCiG2RtpJCnUHUIWyoD0hVlENQAS6KQ1gA1bKJmCoQDqOOzzf/UO5+zITByCrmOOzS1cI13//AI6P7QiOSq1WoezrEvhsLCFVzVAwtfbE2ZQHuksPWTUAALXyjZvAVUj3hC84IWUe1yiVquQSsAaqR7pLBUABDazk6IN4RANly6AZqhEr1gV1AugeyLSaAFPOAa+YABgEBPMPWKrKLTaBW8Le1iDrAsltCrUAAJWDXzhV4KBMxUHWFIqvCFQBu6jjlytxmL8TPtU9zr6pyJmsZdRx3DmbEOKH/hMKH8yAcjp8Ig3gACWzFdRHiAZO8UR5RQVVCpDqtUACkkomkAq2SdneGQzeACyfODaUWkCvQJy8tlAaSdoBiJYKbFNAUNoQgKJATANvCLaYYBgtSiqBhAAqhkABLaV1jF1gSAVAAAIAJ6jRXH8pfmIo/wDCVh/MpvVzRFsNDhXMt7RunPv/ADAb0kZOqoCGJYptkk0pbpFRbEASSxRLAITDIpAqonWUSbQgDaEAVEMVskMBBjZjIxDFHzRWPmitSuk+mKfJHXL2TcUcD4WY1kPCqw6vwsyn82s6XXaO2eGWLTdl3wOnMM3zKdUroZjhq8li9fjJUoy2BiUsBqVlIGBYEhvEFArAAGQkFKAlVtWI1vSL1CGAwAPGBQxBtAMraMdVqlqBSjJURkWMkYDCoQwK0jIXMAFsLrJK0gMYgIHV4QDdAABQH1APxgCgADAABWCqyrQAAPe1FE7RRFAeMkAKGuUjslVZQK2QJDxhGQVRI9oCqh1CGukA3jUYOam4+Lt/apmPD9fSbfeU02F8sreUG3cvGP8Az02gbxW3hiVeiAFbOsNIl6hqoVQyNZQDAnxC0mRkZrVZfknZWampd3xgxNQNs6TQ0uF2pj31D6N4u3zqtpvvEcfw+tF74gh/wpG+eEpvKhqLqpHUQMyG0SxeVilbeFSOkCm0iqp5QpEBSsVUQNWXkAH081BobjZlxHiBLPxkCJ86Kb7aNDdWXFl+WdKDLxPVA3pWklgAuoZKj84CqhDVbXbUFNq8oDqBWFsjUB1DZrKRawqA0N2aVxpflnSl5dvVN+aGTy44vTtyEBvmY3tQDKqIUZBQE1UlAPi82kakjpzaQLzAvWSNQLDZ7QlKqqAqFp41TRYL/wAALZ0ZubX/AIrG8hr8qvlGjwZ/geNZ0bxnF/4pfqN7tagXTToAFIH4yidRp8TYxuDB0KViX5eKSazTMsHIzVaOXkA3QUkQ2SOkOJBZIkN1WIrLmVlt5KTWTOK7mlcUSuGI0y63tNQ2jQYPFNSy+VyAbaq0uokAKq5iof4RTGXC/CqBocC/4mXP2Zdl9djebJocC/4nXX2Vdfmiub3VSVqQGPZERkDXK20anE+KrmwZdTXpfs4krL1UrvRIrdFVOBrw71Qu7oOAcSxLp2u7eKy0dIuOo7TqGrUsaPCGNLgxxdzXjcU5x0NMsaC2WLAbrsN3VVm7JFVqErAo9XFga7EK297l8f6lH/8AaYyXK1Vy3fb/AASF7Kk38v8A4De1n8CmP/aYVx5sPXXb/BIXsqUfetW0FQuoCCmysTvBz+cLr7IFNob1R6qfKJGA6vBQKnMFVO8FXN5QQ90XOIAp9oaqSUukCW2d8KvLBtnZcXUBVXliZs2+FOXfFsgSzFVCYe8YC2vVH1CqFVm2jaBsqjbQraMgiWAfoB1k9ZXoAAuoYBS1comapQEAwELe1gNlENhMA2EBOraAAUA2QHT2DjsX/wAyJPs3VF9o5Ds8pxx//MaD2bqf2xEcoVsoZSV2e0NgiieoTCYBiqsqOJcIfCDK4Eu2C/crz15TjcXKSUPait0reycegy3DjeMut5Q5nDt21rUshEXMvZt//k1GKuzGA4FgDhHn76v6awjiu7EunEUqtVMPYjr0rD5MZ8MEvhi9ZG7u45uVid18XM91yrfKwLOV4PS1l2HY+sTLVuux8lzXql+XdDn4chPSKxWamDOwuLiU2b1PWcd4V8WXjgnB0a+bsWXaaSYSGqxkqXMrboRyyn1RMfHcs5GvK5bvnphU46ZlUiRFh5VqtXWfYxkG0JlHSwgCrmAcPQ0RVt2WOBcHeNr2xViHE0hP9zdz3ZEVZfi4VLbWjM28aHPGYVWbRnUw3lHeVuyemEyxIEtFiL5SrpsOEYA4Qb0vrg5iYpvaRjT0aHNtBaDd0vmospzU72gmw55rDWdcYJ4X4eKL8nruhyM9PQ2m1WW7nlWXiIHSjW27Os+67ca3tNcLt6YUdpRrrlpdokOmF8pVYunaNYjnQ6ucTD1sQKrLmJqBgZbVABVc4UmrxVece5sMXteMrR3RKyzxIfGZlqs8IG1URw3CGOJ+a4N7txTel3TN6RosR+OWQhKrKljNm0dVims4O+FSNjGempRLsnp5e62pmYMusOHLS9uw0XtFxHYvWKo6gvXhnvLD3CpOXNeXczYfgTHczUws0LSup6/GdyU2MtaNVDdalZdmm3eAxCqY4PwSYuvbGN1XxNXtFgxO5Z9peC0OEq5LF05tG0c42gES3WNm2rLMzKuypK179HmhFw9FS7pxrCea8MQRuleNPzIckXRV5xx3B2aHfD9K9YvsgcjAAANXKR12FKtTaDrbE2Pb9vXEzYQwFDgtPS2advGN+ClvEXQdja+iLyTrebwPwo3VLtO3dwhwrynIS1NJR4FKRee1bNOmw3XB9j2PjbDk9GiXci35dzNBjyUN6VZ7OSnTs6QOXeUI6qluF69pnHEa6YFwT0aIsvxPxQzorLMWbbV6dnR//BtMcYsvu6uEHCNzSM53LLz6q03BoVqs2yzaP+gHYOyQaHH+OrrwJI8ZMfsqej5ZSQh/hI7fxbKnxYFk8ZRYUS9cYXm6xJnNBuqGiLDllt6TaNOnq5gOVizDVTEkykep0bKjUszZc1njNDITV6oU2j2eUCfGB17wiYnvm6saYTum7Z6NKwZ+NTMQ1RflVqXl0nYsVbFaJbs0tSZGGm3aCo4DKYhvaPw5TVxfGMb4rgSnGNKftdVBp8WcKV83Li+67rjXVGlWgRm46HBmkZJxW1Q1ta3Z/jNDtYTZeU6+4WMR4jufBV1x4LfFN8TU2sONDlItdOnkVX3jZ8EuKJvFWDYb3nMPHvKRjPLTLRNpmsbUzeOwDltPYBjivCjiiPhXDLdwu63pPxO55SlKm8NrL/EangUve9r8wxPTt8XjMz0ZZ94KtGeplWxVy/OB2ASUYY8WFLQmjR4sGDDXaaI9K/PaBkJK2tdmZWJDCWV23XpBdLch15jq97xluEvCN1SU9MQZeZaqYhw3pWItXOYOFjGN+3DF+LZeBB4uLESZgxJSYZY/FI2l60s2Vt8JW3ZLaBrCeIulFc4xExjMXLgqNirEcrIw4bUtLQZKLXxq27Cs1vPbznF7mwniLhIlId84qv8AnrvlZleMlpCQ+TVUt5GYiYuzGh2rtrSojqfEdzX/AMEjQ78uO+569LlSIqzclOvU1Nv838eo7Qu68YF8XdK3lKtVBmoaxofk2hWbqBhsLKGE1U5+jmNDg5f/AAVo342ZixPWN5Fbi4UR7d2G3ssaTBy04Zke0rN87Btu2MbMUI0ymoWUqklgEQUQwCpJGwgEwgppAAJKJZTaEIZLKAhMwzGwCbMYmyqZDG+yUYYm0fFHbMfXF0c58UdvAbijqjhpj8ZNXXL2ftcN39ZbDrdtLHOuGCPxmI4KWbkqv87HBWOGryWL2AAUjMtgsgYFgIYFklAQCh4wUYApakFgAwDeAYCABqWQWAusYAA1HUSMyKGQUAwF1gBWm0BDAGAAIDZKJKAYycwwGAgAYACqA6gqEAFKFVhJQDHVmEBFFQCGA+0BIwLAkAgqL1C2gAreKUnKNQG2yajD3yc5f0Poz9XzoptmXKae5mov6/odu9EgRPnQDdqAivGA1NZibEsjhG4Zq+Z/NBgLlVdqK9vIthsTrDh8axrsw7Aif3u94/LLuts8pYqzXPH4VMbSi3xKz114bu+LmloMSEzRGTma3nM0LG2KcFX1J3XjlZSakZ6JxcvecolK1danYN6zKXRdESPBk3mFlZdWhy0Hai6F2VOsL84WZKau/TffBze7ScJlaqbSmGrc2vQB2qzeDMoHyXZOQ7xu2TnoCvDhzMFYkNW3VtXZPqMClbKDAowNFdDU4lvxOlDl4nqtYb00UjlxfelnTlIDesxu6uc1qLVh1eElcwzI43wl3nP3Nge9J665p5WagQ1aHEh7S5j7cBXhMXvgu556ejvMTUeXqiRG2mao1/CfC43AF/L0Zar5mOD4Am+FGbwddr3E1wLdtLLB7p/CU2dI38EXI+Gm/r1uG5btmLpno0mzTqw4jQ95bd05/CbjJaDE2qoaN86nRXCpA4Q+96Xj4qi3REu+HMpT3JtK/NzHdV1ReNui74nSloTeqZ1H2KMXMBAzQSPyeNLys6clAb5maw39VJoIGXHEbtXcv8zsBvlpUZI1AsZBTAcO4XosaFwc3xEgxXhxFVGqhvS22ps8AR3i4FuGI78YzSi5mzMx8PCsnGcHN/WdGWq+ZlL4Ln43g8uG3oy9PzMwIuVVDUlRqBY6iahgaKE1OPJizp3Yn8zm9NDs49h9q7G9s3zCQPNHULUBBQCAClYZNRWm0B+IZFVJa5gHUPjKqrOiLZGoGRInyimjwhpW755Ld285r2lNzD/CL5RpsK5YF7WdG95r+eko3m7pGQUvUQM6e+EdLJOLg+VjNTDjz7wWZdpVZlstpO4TqX4RK0wMGxOheq+0pqHqj7uC6+5vCGJZzgvxDFqmJNma6phtmPA5bF0+LkPmxLohfCRwzb0pBvZOS8MmCY+KrvW9rm+RxBdLLMykRcrRVs12p7jrG58bQ8dcL+Cb0tV4M9ClGlZ2GyU8VHVdFvzl+N2vl6BbaCob/hGEYQVGSB+Fh+aYzJA/Dw/KUDj+BcuEZGzotHX5o7m/U49gn/FeXst3ZiaX/mHN2yu0TRk4ve6QGbeFuiVhqB03PSsDhC+EN8VXr8tdOH5bjllWSpIr2Lp12dHSd4WRX4hUsfKq007vzHR2Jo8Pgy4cJfFc+rrcd9wGl40ZdmA9q6Lav+p3NAvCRiyfdqT0o0qy1LGWKvF09LSb1Pq6avaUh8HPD/cszdMJJe78Sw2hzMpDyw67dVrU2cmbN4zuamlm0eSdKrPQuFjhxu2autuMuPDENmiTdGWK9m7Z47TueqrWSZFdQ6hAZV8d+ZrjvT/VJj/2mMeHmqw5dPakoHsmS+c1z3l0u5I//tMfPhlrGw1c/ZkoHsl+o2fWC+HsiEQVvae0Kryw6yacoFs3liWIQvgH4ghJMwIsVocOagxIibSq6sy+OzdM3GZT5oUrLwIsSLBlZaDEi/hIkOEqs3lNZZpb+MzLsmFPe9EGDeF6BsNm5x1dgVObSPogDN4AqBtnQQvkhF1eEWqrfDqF1gNms7ZNVPpC6JTeqBK7JTNUT9UTVAOrK2gBVeFgqpAVWUBVZQAKiqrKSRVAPUAVC8kAGzeEgf6wD3fRJH1iClug3UAaghDEAVRxva4Rl7N0frnIlOOL/wCY3k3R+uIjlCsDMIkIqoW8G6G8B1JFhpfXwk4MrNrVBuy7uMl1bdaxNNRz/HuOIOB5aVmol03jeXdMRodMolTLoXn5TgvChh6+cPYuu3hIw3JxZ6NJrxN4ysPaiwrNVXi0G7l/hB4AjScOYjXjNysxauaUaVeuE3R5NByDT3Pwn4SxHjy63mMH3pJ3868TLzcwnFsq+LRZVYctxLwd3Hiq8J6evfuuaiR5dZaCrPlk9Daa4fRY6qh39fGL+GTDN+z90zcjdseuDd3HJmaEnK3Z02+E77be8oa+QxycB5aVgy9seNMcVDWHxkTNEbQujWdbfCOang1jWdKZhfzKxg4YLxvnC+IcM4mgPPNcctGshz8OXqp2ueyzwmj4WceXJwl3RJ4Zwc03ek5NTKs37HeGsJbPDpsGmg7dw4tOHLrs6MtC9lT6pmblJOHDebmpaXVmytGirDVvn0FScDuORlZX8RBSH51i6DW4hwrcmLJaHK31d0Gego3GKsSpaWIOGYgxLBh8LOF4MG/YK3e0pFaYVZpeKqzaNOvQc+lrwu+8GZJKelJpl2lgxViMvzW2nT968HGEoHC3cdzwbggrdceSixo8FauLZ7KtGk7Nw9gjDeFI8aPcdzy93xI6qsRodWZbC64jeQ1pZbTz7gDEGJLmxVi58O4We/lizbLGpi8XxWh9XKegly6+ydScAqv8ZYyjWq6s0/vZaszCIzXvwg8ITXReCR+DWNBl2loqxIndGWEtq620dR9XAVJ2TfBCsrx8aCszMTENokHLEVbabKrDm2LYtqYQvq1a8shF87KcW4BktgcFt12Wq61RpjK3lj4G8uHAFx4YvGVn7qWYl40CUaSal6VmUq01RbN5+s4PhXTE+ELiZ7dyW/6qp20uWIp0RKY0uvBnDTiq8b5hT3c8eHxMNpeXaI1WUR8x3qHjOu14ecFs1KLfVTfwB+c7BhRUjwocSHsuqstWXLaQfLHvy6ZGbWBO3td0rGWmqHGmkhtT5Ntp17wd4qkmxDjB7xv+UWC06vc3dE0qrR2NNvJ4jmN64CwriC8u772uCRnph6VaJGSpmWw664MODvC95x8UfGOHpSYhwLzaDKrGhVcUnRXTzF+B27JzkreEBZiSmoM1BapViQXWIrfx2HHuEmLxWAr+t/gjfz0m7uq6JC45GHIXZJwZOVTZgwdldJx3hWr+53f1iK7M0uq0rmbaUR9UfBwX3RBvXgaue7pho0ODNS8VYjQX4t6bXbZY5HcmDLiw9efd90yfcMRpZJSJDhvTDiqvI1tnT6z4OCtLYHBth2G6urLK5lbLTpZjlFi/Kw/KC6umMNYckccY84TLqvFaoMy1KtvQnsbU9niN5wO4mn5RLywBiNuLva5Ib8SzbUeBYuqnpaLP5j5+CKFE7/cfTDwnVXmaVZkpqztyH08MWE59+5cbYZrh35dKssTi0qaPAtXRs72ipisyfP8AB6X+469I3TvWL/MinZu8dc8AMCJA4PonHQo0GJFvGPEpZKW3fCdjNo5SNI3tNW7mKFV5wBDh6OMU45gVqrsnInTvGYb1jkOqrTZ5Rx3AWbDkN/xkzMRPXA5JUIBM1oEx4tsKWmIibSQ2ZfKsU6w+DtDsa5sRXpEzTUzebLEiNtU06bDtOG2bPmXZp8Z04spfnApia8pyUuyavfB96Px0TufNElG8XV/PYVYuY4qxzia5b/jSF1YGvG+JdFSmagtSrNafLwbY6h4xnL+h2YZg3HNSbIsen8JFe2rTX12Hwx+HWy9YfceDbgvycvaLlg8dC4uFCa3kdreo+TgTuW9rnn8YrfkN4c883C4xt2I2jTay272vwBHNpbAuGZRZO2Dd1MSVmWm4catuN41uVrbeVtPgtOsOGC9567uFjDs3dsn8YXhAl1aXlvxr2s2jk8rSd11ZTq+95GbmfhA3TN2S0z3LLSXykZUbi10q1nKaiOOXHFn8HcLcGb4R5WDNTl7S69yz8R6ocs9vJTzLo2Oo7zitaza944zwg4Mlse4amLriULOL8pKRm/aotn/a3ktNLwTYjvacuqJcGI5Gbl7yur5FY0SEyrHhWarM3JVYT/Rzecm4EnKxJqYipBl4C8ZEiNsqtnKx1bwn8IWFL4wDel3XTiGRmpqPxVMGGzVNn0s3IdqRUhxYcSHEhJEhutLK2ZWW3pHXvC7hiUi4MaHdVwSjTTzcBf2JKqsSmrXmss2SDaXDwj4MmYF23bL4kkY040GFBWCtdTPTop5DljbWs+GUuG5JVJe2Dc93QYkKGlLLLorLoXpaD7m2tJR05wsNekfhPwvL3Msu15QoaxJdZj8HXVp19k5H/wDWpnbQuFczdOk+S/rqn5vhzuGdSRmGkZaBVEjUfJrlbeOzEzRNZdR01wbxL4j8NOII1/8AczXlLSjLGaW/B1ZdGjsnaEzhW4p6HPd1XZBjfGLJEmWaqqKy7Gbd0dRwfA91XjC4VMZXlNSMxBlZleLgxoiUpEzLydI7LXSZ+R1lw5NUmEZVN+81pVuzSfTh6F3q8N1+XBDZ1kb9grOyy7rPYuvQLhSui8b3xDg2yTk4sxDgTrRIrQ0qWGtW1aXwy3TfDvdeJcMwozXtd0R4K8StT8U66Nk1/g+Fo6424Qr8vr8Jc+E5CPBl+jEmLUbS38R9XAMlPBzDittR52YdvnNhhvC8bCnBXNXbxTxLympSLGjquaI0Z+VSuCS6pu5eDy7ZGflo0rNLEixIkOJtLpdtA11HJ7wvCVuyTjT07F4mXgQ+MiRKKqV/iOp+E/hLwpiHCMS7rrvZ5iYizMBmXud4dKK2m1tNth2+y1rotzVbSslSnCOFS45i97oumXu67EmIi3rAiRlhwlywrOVm6gkX0XLwpYOvibk7qkL4eNNOqw4cPuWKtTU+G2zQcsbMLioatkgQVp2WWEqt/wBApp1kV1jij9k8O+GYP4iWq86l7TseJdt3xZuJOxJGWiTTwe52iMmZoXQ8k4LM4fvSZ4bZe++4Y3xbAkmXuj9rqoY7A1F+yfV1Zw6woN34XuG7oEJJeRWdVeJXZVeidrQlSHChoi0qsNFWno06jQY0wrK42w9MXPMPxLNTEgxtrins5Dht2Ytx5gyTg3PfODZm+u514uFOykX8IlnJp0WW8g9Vcn4WZmHLcG99WxGReNh8StW89ralFwbwHlsBXLBiLS3c9TfxtpOLxLhxRwn3nKzWJ5F7jw7LNxkOQrqix2s5NJ2Uq2QkVEyqi0r5NgDAADD5L1icVdk5E6Mu7eqfFhyHxWHrth2bsFf5ysUROLw5ej2fk7L85nuyHRdsmnRgp7IbfQJmqGwjTJMJgYkAYxM1TaizGAB1gAASNiW8ADJ2lAQA3UKoCTaBjGxkJAjnMT7RlbKYXzFHzvsnyxdrUfVG2WPiibWk2Oi+FCPZFxlNWWbkNF9U4m65do3mO4/G4vvaJ/CGX5tRo6jgnyIvYQxKMjYHUAKBRSiGBQAFRADUQ1AZQAADEMAAAAZRJQDAADAGIfUZAUQUoDACQ2tQFrHUADF5QEDKIACxiF1AMYAADJYYDqtanTlAAAAAFykDqqKqJUYD2hAAUDENQHqAQwAokoBqWQpVQAxp5H/Gq9k6ctAifNqNu2Y00L5PGcaz8bdy/wAzgbynsDJGEBxzH+EbMaYajXXZHSDMKyxpaI2ysWzkq8fIcl3RAda4e4XYOGpNblx5Jzd13hJrxaxu52iQ462cjWNYafhBx/H4SLmmLqwldk9OXbAXuibnYkJoa0rrpsW07gjwoMyuiYgS0wq7PHQlan5xwlSFD4uDCgw4f4uGiqvzWFVpsDvbEwZcttqurdyIrVdRu9ZS7K2E2mCS1HVlJqLCNFCajGsbt3cv8zm7q8Bo3y40le3IRf5nU3hpTWkoXoApkafGstEnsJ3tKwYTxIkWWdVhrtMxquCCVm7v4PrtlZ2BGlYyM9UOIlLeicvpH48xocG4Z7tnb3wTElZCVjTUwswkRYcNKmpsOV4fhxIVw3bDjK8OIksisrbStYp99VqtqFVz2k3Q1GTUMimaFvk8bS/bkH/mc3po5v5PGd1v05SYX5mUDeLsgJfAMBlaiaqR+IDTY1uyYvrCV7XbKQuMmJqWaHDVnpqa0+bg7uifw/gq7btvKFxM1AVuMVXq5WOSAAwBgAfUUSJYdtTW2tV2QNHM5cdyPbu6KvrG+Y4/eS2rja57bN6Wjr8xv1a2kAKJAgeYZJQDqGIYAWpAKBkGpIwLVqWW002GFpa/E6N7xf50S03Bp8Pt+zMQWdG8/wDrCQo3IxDILqOMY7wJKY7gXXBm56NK9wTXdMPi0Vqmy5bdPknJgKMjx62a3pHCfuU3FCx/DxlLxZiVmlicY0tDp4pnp0Wt/GcypHSBTNYzaekJdoKbQIDSXCb5Vbe0Yy4bfKL5QGhwVlw8tnRm5xf+Yc3ytzWmiwZ/gWJZ0bxnV/5hzeK3qlFr1hUHiEQfLe91SF/XfGu29ZODOScVaYkGIlS+V2WOvonwdcDNFZ7PjeHBZqu5lmPk/J8J2WQ0T1i5a6D47huG6cL3at23Jd0GRlVzUw95ukzcrW+M2CtSYasoKxBmqKq5j56i1bMBgvX/AAZeFlX+SR/YY+XC7f3MXL/qUD2T67yzXZPf6tF9hj4cJtVhW5W/gUL2S/UbYVQbIbWoimBK+AGWwBsDaRLm5QYB1ZgVvZFULZIjIrWBUTVTrq3gbyjKsnoEhvdmoG2TaEPqJpGAtrdDeAXWAVZSiNdI/EAqucF0LlFu6hVAOrKG9oFzBzgCsFWYBbwDqyhUGoAAkKhVAAAzZdAVAFQVAACCoAAA3tAbobwAuZdRxyFm4Rpj/wDFL7ZyRdk43LZuEac7N1J7ZYjky5hDVdonziBVc4wFugWrUtpsynwxLouqJF497pkWjVK3GdzrVV4z66rGbcCkobNU0O21Uaiqns+SXtbpjAAiaHhxIbqkSG60srbLeUfPLXfJSMRnlJOXl2baaDCVavmPoEvhAG0ZbW3Ri2QqzMBLKjRK7VSpd4FbLpF0R9QDqpYlFsSqxFRaszUptMFVXKADZsuzlYS0KtNi0r0QJNC9JjZEblVG8pFGAE0Q21WwIPoKVtAAFMT1WLTVmDULeANkTLa36wbQBDq5gqyiBtkqhWCqlspOyABs6hMGrmBgES2UAAURrFhtb0VZvVNDgD/FORt6XGt67G4nHok5h+jBf2TVYHWnCN0/+jV87MBviagJVrGWux6lCKBYlq8jCEA+Ndl0VBVbToZtkmkGKGrWVaxLFfkqFUTvAPZ8oTPbyFVMQwDErW06bGJGAt4QVAA6rellIKFptAbNbzkgLWaYVptBWp2MpABs2aolusOoTALSHnAHjAGYlsomYNoCWexWWy1qWfZXpDDVy0owgwBVWiFUAMLKAABLAJtIGlxi1q4YnrN56Ifzuptlyw4aWbsNV9U1GMc1zQ4dm083AX1jcs1lWjogTUJgEzGlJiR6yGATCAAJABMAmJbZ0AVpAgAYQASUSbQqhD9YhgJiNaxgiMZWqMcTwlR80Vj5Imh4i2n0RWqPhmWohRLbN1WOSI8539Hsmr5vKPa1VczFb52NfqazUZIz1xY1u6zs3rEN4TrS5NPYYxDDRgBVQDXqGJcwwAokogFGIYDKJACwIqKqAYAADAAAoAAMGAt7WMyAYhqBQElBsAAAAawAgBgADKJACxZQABgIYDAQAMFygAAVukjykDDxCpEFVUFQAAKMS6N0YDKIpqKVQKGSMBmmi5cZyfbkIq/M2k3NRpp7Jiq5X6UOYh+rpA3S7I6idooIKiqiRgBa6BeMmqkC28AEgZFeSOqknxjY0NJONTjG5+3LTC+ybxWNHeuTEtwvZvRIsP50Nyo1Vk0lEL1DVjIsdTEizAUMirmH4wKAKgAqo0V55cXXC9u8swvqqb1TRXwtOIMOvb+URV+dDQ3YABkBSsSUBVRWkxjAZSk6gAsYhgaC9cuL7ht6SzC+qb80F9ZcUYbf/TR19Q34kFVZVoGTTmbSC7WggoaiACgJKAZZA6gKUpTGWoDNRcOW88SWf/cU/ngKbY1Nx/4axMn8LgN88IvxqNzUJWDeDdIGrZiqjGmVmttzVFqwFjViKg1MBUNaF0VO3lDq5xbIK3MAxrmZRawXTUoGlwnluycs6N6zq/8AFY3m0aPCenuG8rKdm9532zd027NIFVBVY3IFNqrsuFNvRcBO1Knzs2Vrd5VYzutrdM+eJDeiJlfZYDjsfEtsJ2gRNqlcxr4uLHVtFubaNPiXSsWJbYvROEzl8Ww2odt5i4mTtCLih1p0N0TlN1XrDvCEttWY6A74LVpzHMcOYlthsttjiWg7ZnP7znLLfyeL7DGuwg39yVy/6pC9kqRvJLxu+Y0bXEv7DGPCDU4RufTuyiAbioFFVlKIpM3oks1TaKB+MhlzM/SAtVpVbB+Mlf1QAekNpRKtPTBggqzFVGIsC/PCrL5oaV6RNXsgPWrDJqUAEANoqEA9SrqUBBSAA3hDZXSKqoBD3vOJbZGAALaBgK6NoabSGqHUAMAt3QAADMAAFTBVzgKoA3tYwI2QLFVzi3gAascck/8AzEvK3o3dC9s5H1nE2vOQuzH95Wz85LSqxbugUtGalWzFiOXLs6N4N41PfZh9f3du79KLvuw/zX7d36UDbbIVGn76sP8AJ8e3d+lH324fX93bu/SjEbeoNo0/fbcH59u79KHfdcP56u79KMRt6gqNP334f576kf0pK4vw7VrvqR/SgbkStTrNR334f/Psj+lJ778P/n2R9MDdLtCqymm778P/AJ9u70xd+OHeT46kfTA3NQVZjTd+OHPz1I+mHfjh389SPpgbeoWs1Hfjh/8APUj6Qd+OH/z1I+kaG3qCo07Yvw7+epH0w78cOfnqR9IDcq2UVRpO/PD356kfTDvzw6v7tSnpgbyqoVRo+/PDn57lPWDv1w5+eJT1gN2FRpe/PDn54lPWF36Yc/Pcn6wG7bSvKSaXv2w3+eJb1hd+2HPz1Ket7gjeUizeaaPv2w5+eJb0G9w+/TDjcl8QfQb3FG767RbW6aTv1w9+dpf0W9xPfrhv88QfQb3BW8DSaPv1w5+doPoN7hNjbDf52g+g3uA3YjSd+2G/zsnoN7hd+2HPzsn6J/cBsr3fi7onn6Mu/snyYTXisL3On8GRvnqtNVfmM7gj3LeEGDePGRosu8OGqwmzNb/EFx4zw/K3Nd8vGvFFiQpZIbK0J6laxdfMUcqMdFMSuxstOZTTNjrDn5z/AOE/uF39Yd5rxf8ARP7iYo3lVrcpFTdI0nf1h3nvH/hP7hd/GHeae/5d/cXYb6omo0TY4w/zT0b6O/uDv6uDmno30V/cBvRVGi7+rgX/ACyN9Ff3CbHFxc81M5v4K/uA31dmbRuiqpND39XF+VTLfyV/cLv4uP8AHzP0V/cNhval2Rb2tqlNH38XH+Nm/or+4nv4uTmizf0J/ca2G911BtGhbHFzc7T30V/cJsbXPzd3fRX9w2G/YRolxtdLbs99Cf3B36XT0Lx+hONhvFYDRd+d1tyQrx+hP7g78bt/EXp9CcbDe+aSaTvxu7mlb0b+ROLvvkav7zvf6E421G867BVeE0vffJfkN7t/ImMbYvkvzdfX0JhtqN7UTUaVcXyLckje7fyJg77ZX83X19CYYjc1AaTvsgc12X19CYO+qC37k3z9CYYjdMSabvoRl02XPfX0Vhd86N+499fRWGI3TMJjTd8v/wBlvr6ODYjbl+Ir5+jjEbglmNN3xRKf8AXz9HDvijtyYevn9EXFhuKgq6Rp2v2a5sN3z+iX3i+O5tv82739BfeMRixR8o10wenPp/Muk3cT8Ixx+P3dfV63Tbbc89JwZWM8aJEjUquzosU5B1kk2QhksGEkc490RpSIKJYCarOSwYCYCQKIAKhAwboAJswMI2hEMZDG3UBDGJsxkYwxGylR80VradRpcQRe5rlvKN0JaK3nUm5jnF8dx7ZfCV7PVtQGX59RyRJPP6tl09IOcSgdVXsMYhnI2PENRDMCxkqUBQAAAMA2iClYQhgAKAAWMkYDAW8MAKJKDBgIDIYlGJQLVhCKUBgSAbUBJQAMQEDAA2gGABUAFkFeaBROYYwEMnMUQACGAD8Qh+IKRVRI8wFBSIlljvEh8XFRYat8orJmZeoDIunsFElUgAydZQAaS/pmDKXvcM1HipBhpMurM2VV0obwxR5aBMpxceFBjQ+jESpQPl+Prnp0fG0jT/6qj74bmX91pH9KUtz3X+bJH6Oo/ii66v8ABkj+iUIxd89yL+60p+lDvouNeW+JT9KfR8VXdzXZKfolGt2yP5DLfol9wV8nfZcC8t9SnpibFuHfz1KH3rIyi8knLfok9wdyy/5LL/ol9wRr++/Dv54lvWK78cO/niW9FvcbBYEGr+9Zene+SX3FcRA/EQf0SjyGr788Or+60H0G9wu/TDv5z/4T+426pD5oUH0FHxadFPQUeQ4je+Krnj3lcseBOPEWWm2aJTCfKtqNZVyG2bGtwVf39G+jv7jcqtOWzKXr6QVo1xtcX5ZG+iv7g79rjXkizbfyV/cbzX0iswGg79rm5u7m/krj79rp/FXi38lc31VvSDXtVP6YGh79bt/Jb0b+RMPvzu78jvf6ExvtNvTf0x1N03A0PfnJNs3dfTfyVi1xfLNyXTfX0VjdNEty2VPUw18oDSLi6Hu3LfTfyc1d831MT14XTMQMO30yycy0aJ8kq5bV0ZTmNIUgaPvqiM2rDt+folDvnmv3t316C+83Y9RkaPvlnebDN7t6PvH3x3i3+al6emnvN3TYOmxgNH3wXo3JhG8f0qDbEF7fvRnvOmEN3TYOldoDRfH197uFJjzppClvy/W5MLP500hvKbGBVA0nxziJv81k+mqP4zxL+9aD9NU3WiwAOOtAv29b6uuYm7pl5GXkYjxGbupYjNpXRTScmYkAJZam02ZW6Q6uYZJBYyRgOodRI6QGzWLy7w1YVPnDAdVI1beIYqnMBkNDM3LfKXrPT1131LSsOeZIkSHGleMzKujVabsso0Xxdiv98kj5sh/SP4qxS3LimCvkyC+83obOu0DRfFGJv31+jIJ7xtc2I1XPi518mSQ3m0pVNjagND8S3+3LjCZ+hIP4hvxuXF095sqhvt3SAyMmg73r5/fden0eEHe1e3Pi69/0UI5F5RIyGg72Lyp14uvn0EDvVneXvuvyrzPcchXSAHGZTA7SaxEgYmvyGsWM8aIvGpmduVuTnMvelGb/ADkv9v5QvuORboUjIcf70Lee/wC//pS+4lsGJz37f7fy3+g5FV4QbTzDIccbBUv+eL/b+W/0C7zpRVb/AMWvxsu9Ot7jkuunWYGy1eSMh1HiC4ZeA8bRNTzeVMHWmIZNIVVqNGy9J6jt/E23G8k6nxNst5RrRHEY94vDah2N9cd6w8qRGjUt/pTh94/hRSc48s9O6a10HelxxLuiU2Rnm6Wy5ZhlO2LjvCVeTgy8snFw4UOmGvZsPNGH8QWpTZax2Xh7EdqMttkU45NO41iZVzGSqo0l0XvDvCEtlSLENsr06iDLULXVptoCoGAOiDEam3Q1MBahtNvkqKqkIpm57KxcZavK2yJvKK84Bq2bQDNSu0G8oc4CbdzJ2hD6iaQGPqFSLeAqrMLaJ3dI6QGPeIZQ3gDqDe02B1i2QGzBUAqrGXT0gHu74BTVygAVBUJgzAFQxdQwAnVToH54s3TAN4G8IgUB9Qbotmnyh7oD6zDHk5Wb1zErLRmpy8ZCWJ/1sMq5fOHulHyrdV3Vf4Okfo6e4Piq7qc93SP0dPcfVvCZi7j5luq7d27pH6OnuJ+LLu5rukfo6e4+tmEQfN8XXf8AkMj9HT3E/FkhzXdI/R09x9e0FVIHyfFkhT/eMj9HT3FfF13/AJDI/R09x9FNiros2RboHzfFsj+QyP0dPcV8XyP5DJ/R09xlZa6eyMD5/i+R/IZP6OnuF8XyS/5HKfR09x9A6gPn+L5L8hlF/k6e4XcMkv8Akcp9HT3H0AwGDuCS/I5T6OnuF3HKfkcp9HT3GcKgMHcUr+Ryn0dPcHccr+Sy36JPcZQAxdxyv5LLfok9wdyy/wCSy/6JPcZQ2VNDF3NL88rLfol9wuIllXT3LLU9mEvuMwqgMfc0t+Sy/wCiX3CWWgc0CX/RL7jMKkCOKg8nES/6JfcHFQ1/aIP6JfcW2nZsUmmnlAOLh/iIP6JfcTRD/FQf0S+4erlKAmiH+Kg+gvuDi0p08UnoL7itAtQE0J0U9BfcHFr0U9FfcWTUUKmzoJ6K+4KV6KegoVZg1coQU067FT0FF7XkKVSJswCZqV00+yLW3KMAFr5BZh1Uh1AFT8zOJoj9JwbwiAfGRPxrk8Y/OzgSxQ+NflsYO6Y1WjjXJ3tNQgG0WJ+Nf0x8bG/Gv6RIbuoBtFic8VxcbE6TkMLXygXxsT8a/phxsT8a/pkBUBfGxKvwr+mTxsTpP6YgAfGP0n9MTRXXef02JEBXGxOTjX9MiuIv7a/pgT5IFVv039MOMf8AGv6ZGsKjQOMf8a/phU+bTFcQMAm09JxVN0gYQYJlFqGSABq6AmFUA20Cy7ICq8ABqUGJZiaqgEINYjSpcmopiQCoXUIAAQAAjGWzEswD5yR9QjaAkbENl7QFMY2HUpLFVDZj54jGZmMDF0R8z5ddpwvhUi2JgyaWqmuNCVfSOZRzrzhij2rhqXh9OZX+ZWNDp1QYYm0cx1h7EAAORsyiSjAYxDpAalEqpQAAAQMAACgJKABiGAAAwDSUSAYUFIwMgGogAAAAGAhhtQEgBQABADDsjAQ/EAbQAUSUAwEMAAAUgYAAAHjAKagoHVSJQAatm3x1BUG0AVFKTrGBYbJJQD2tVbjFrABlEAZFgSUAAABAMQwAakqMCxmLxKZQGFVQKdVcJHCve134hh4SwjASNeT0Q2iMlTVtuJp1fxmh2p4ylzHSkXhD4RsBXlKw8aSaRJOZqpqparRy6HTZtO4pO85W8JGXnoceDDl5qCsaHxkVVZltCvpZqRrmE2hEaJEZFh9JnpX0jRYvxjI4Qw5OXy8WDMcQtMOHDdWqe3kVjI3zVU5QzHRdx3vwxY9k42ILpnEhydTcTDV0h1U8qovvOXcFHCbN4vaNdN8qnxlAhsyxlWmrRyqy9Kw0OyMwhVCqMovxBUSAUVZtA1YCcoGSoKreYx7JQF+0OogoCgqEBA6gEGtgLAkAKHUQAF1DJBQLqEzpDXTblErDXQzabdpQHtLqGrAJQLUa5SQAyVZmHxhj8kAMlXhKVjGZAHUFQg3QHrNRiXGNwYQhQ41+XnBk+N/Bw9qI3iWw266KtZ0zOcEl+4u4S5q/cYrLd7qM0T++Kfkl2F7NnhLGI5/hrhPwliqb7iuu+EaabKsGMnFs3k6do5Uu1oPL3C3I4RgYoueDwbVxJx8sSHJO0RVi1LRR1+E7a4ROEbEfBtKXTGm7ggz0GYl0WNMV00zFOtbf+wlEdiqTHjw5aBEjx4qQYKKzRIkR6VVbN5jrLGPD3cly4cum8rmhJeU5eK8Y0oz/AN7LZqtV9HPp5D5+Env4xVwW3XZAuTiZ68Y/GTclK7SwbNaLbp8POIxG0m+HzAktONLWTk3GVWpaNBl6of8AFzsc4uO/LuxDd8O8bnnoM5Ku1PGQ+l0bV3WOucP8DuD7h4L4k1iu6YK3k0o0xMzsZ2WJAelrbFXo7tmg4n8FyPPRL1vyHXGaRWWRmXd42rV/HoLqO/2bK1R89VStaZouhl0WsYabFVrLKFMjrfEunjY2jonWWI5SM6toXeO5py4Yk9NNpXLTUa28sHJEgNZYqVKa3R5ymbmjR4mfKba6MBpPMvHzUaGrdFDn954ahwNVOZQaBCgKtkNcymskxfPh/g9w5AirZMR5mI3lnaNy4OwfAlleGrsy5Wqeo66SHTEVznGF2siLRbvKRpyuWkbjlWXudeLp8o2CxYbbDGthSPF9mo+6FCpVdBlX0r2WG2bVTskw8vlDXa0EDzBTTuipqqy7Q9rdCHUFRNPRXMUuhQAFDo2gBdRDNzDUQFbxIusKvDRmAve0kbQwXMAgFTma3pDAKqgJ+qUAaucnd0gFQBUDB1AAM1tXZHUTV2AAdQVA3Z6QALqCrmDrAA4yoKvCGoXnABNWbSUzZtFm0SBdVlQmDZX0QKHVVrDSIlmqq0MBkqt5BaRB1AKrnHrVtrKQ3qj2gKVrSKhiqAasTxlvIlDNSMVNlVW9mUBq1vOFVhK5d6oYAFVQNl1EgOq1qtK05vVHULKJgK3SeuzKTtB4zQqoQt4YDEzC0kgUAqcwgKYmoBVAWSAgGC6RCAqqnXaoVEhqKHUa+/7+ksL3PNXxeLP3PLLsrtM1vIq+M+0+K/MMXXiy7mu29pV5iVaIsRoavTms5BEdPQOFHhRxRAmr4w3h2D8UwGZall+M2ddvLbm/iOZcE/Cp90GFMSM/JpK3xKw+MbicsOKnJVYtuzbZby2HzY2xRevBNdsrceEcLvEu2HKs3dFDxFgM1WlrdBxv4PF2XFeDX1HmLzeNe01BaDEkl+TpgM2m17G3rbbfmEh3dxT07IcXbz5TzpFvPEfAVwhRIceLM3pdsSGzQYcaK1MzAt5NFtuzatvKcg4IMPX7ji/YmOsSzk33GsZmlYPGsqR4tm9T0F5gjccJfC3NYcvdcM4Zk0nL4emG0Rk4zint3FTeY4xH4WeEfA94y6YyudO5Y61cXEl1hsy2crI9nPZ4LTsKV4L7gw5jGYxzPXxGqVnmGWbpWFCZl2tPUdZ8K2M/uu39duGcKysacWWiMyzFG0zLotbspZZz2lHfN33lL3vd8vPyjVSs1DWNDbs2maqxtZr7huZMOXDd90w24xZOXWCzNvNZy/zn3Vb1hAVCZhAUAqhMSAVDZiQAAAQALa1BSIChZhAACYBbQAxNVoMLWAxCJNCgFmEAA20AmYAIKDSBIgDygwBASACATAJmqFugBpSYgokBMIbaRASAAAid4ogAYQ2JAYgA2hMJhqQy0gDGNjIY2KrFEMETNrM7GKIGXxRTq/hofRLXVC8Lu38x2hFOoeGaPbEvO7YHRgtE+djWvEddW9W0JtBT8pPiOur2IAKM5GwUpJSmBQAAFDEMAGICBgA9QCKBQABiGZAoxDNAKADIFGLdGGAAAA2zcghKMAqtXkGIpQ2RRJQAAKBA10jEMBU5gDZABgIYFDqIUoB1BUIW8QVUAAFPa5AANTNqAPGBLNTylat0AKJK6gCrMNdC6xKwwGBLeCka7IF1D0kBqMi94dRIAMdQg0AP1QWJxi6stQuofV0QHV5o6icwgi6g6gABlKxFVi8pQFQ9ps1Rq5XA+H5O/Y2IoFzwvjZq4ndDVbVqm0VrV12HSeNb5xPwb8Inx/Ejzc1cseJxkNWis0JVt1OlvMtvgLoOM8IuI8V4jvK7YOM7sjXLd8KJbxKw5empeRmW3et0cx2fizAl249wDdszhiO7RpGXVZBq/wAKtnKj2df/AFODcKnDBdvCDc8vcdxXZNtEeYSMzREVmqs3UWzTynIZnEMbge4JJORjxeLxBeLNEhQfxFW83isNST6uu4+NsV4luO78ApXUszxKqz/Ks1WixHboraegMNcGVzXPheDcE7JpPLliTPHZuNi2crW+I6Ek+DfEcLBi45gxY3dCxuO7m/beKq/D+Vp5vAdiQMQzHDBwbzEjJTjy+JJCmJxau0PunRvVdf8A1IrkGPVxlhy7ZO7ODy5YSyvFvxnFotULxaTgnwf5u5pS+pyDeDTC4gma1h8dlVdG2ujphg7hwfAtzNcV+3PPRpiWZuJ4x6WVui+nrPm4KbmvnF+PYmMJmTeVk+6GmYjMtKs1uqxU07XjKrv1haQbaa3ZBjCHUFRIBVVArEj2gKqCokNYFVFVUkbo10069oCiqiAILBWJKAYCGAwEMCgJKAYE+MYFK1tQ6mJGBQEgBYyVH4gLGrcxBW0A4UStKvNLMUPKuizdLApVtZl0HArl4UsP41xHOYIjyM3KxIqx5VokSKtMVrNVqr2reY54rHWPCDwJy+Jb1+P7hvF7pvR2WJEyZGezf1a1YsWZOA8M/B7dfBJM3LeOGJ6ek5iJEamDEi1RITLrsdbeXRzHZ994lu69+AuHe2NF46HPyS1KuWJFj7jJp3tOs4jdPwep68r1hzmM8TPeEGF+1w3Zmir0a32bDkvCVwV3jj+au+VgX1LXfcchDWHLySwmy+FvH4C7r8PPvB1NXPdGL7jvLEks8a7UjVRMuWqzVY/aVbeU9fYlxjdWE8ORL/no9Uqqq0Pi/wBvZuRV8ZxPGnBBceIcI3fcEhRd7XUqrKTFFTU79fSq5bTRXlwN33e+DLvwrO4rgxJe7pjjoLdz5qKdlvFzFT6uEpMYx+EJe8ZZq8Ze5cNysReM4yLYkNezYttudzvPB2GsP4OuhbmuCLBZV+UjRFirEix26b6DqNPgzuyr/dS6r2Zc5bwb8DdnB9f0a9vjqNPVy7S/FtCp5d4mrTspmy9kwsxmMMRcpkfFHj5msQ1jxbWbssbNpa1m027xhiSfZA4FiWRtVmezZY4q0Jlq0nbN53PZPQtFi5jTrgKDEqeNFpLkOCQNmi05Dh6c4qOundak30tgm7Yb6YkU2sthy6JOIro1QG4k5lJmWWJ0j6VzQ9J8kJoKqqQ0pVewZoSQ+MaNYqLEbKzdJSDK2nmzCZbV1jZbQpsp0gMF8NJPRy5h05dYAy27jU7I9dQBUA2Fr53H5wqmAN0Kg2lAA3RbXKMAE2yOIJtIusB7ImbMJg3tnMA2Dxka6uyWAhiXTSAD6xDEA6gEIBhpDoiYBaxFMSAVZdY94VQADaGpt3lCoXiG20AVBzi1BtMUMOcQ+cAFUFQm0NrAdQs3rAFVXmgFWUNoAUBVBULXyWgA10VaW2qaR1Ukiq5gCpgqtWm0N7QS2VdQAreEtmzaiKeagPGBVSk1W8hO1rtWlh1GgFEbIL4QGAuYAHUAhAMTAq2iZreiAwqqyi6gpsygOoWoVQVcwANWF1BlKDeOA8NbYmlcMy95YbnJuX7jjM02so7VsjLqbVtLYc9KVqdfSWkDqTDfwj7jlsFw5W+lnpi+oUFobLlZJlrORq+s45wEXZFkb1vDHd5KkjcsrLxV46JlVmbXk6Wg7iiYDwfHmWmI+GbraMzVNE4reNtOXfIT0j3BMScGJJ5f2OyfJ6uyB54nGv8A+EDjGaiXcqSt3yMB1l2ibMJbNdit23t+Y5HwDcID3VNRMCYii9zskR2lGiPTxD2bcK3/AK2HcN33fI3VCaDdsnLScNmqZYKUqzfxHyxbguSbnGno9zyMacZqmjNCXjGbygjzlwm8JL44xA0rHnHg3HLRuLWDBbNTY2tu1acxwxw1cHOCbu7iuPDd4wV/bI0RkaPFbrb/ALHa3elhn97t1/R1H3p4b5PiC6/o6gfbdl5Q75uyTvKCrw4c1BWMqttKtvSM9QkhpChrDhrTDRaVVdlV7IaQEAgYoTMKoW6IB1WVUb21SLMKmyprezT/ANwba1AOoBMLeAPGHjUPtUQ2UCm0gTuiAsgAABM1igxLAFVQVAzWLyiNACoTNbzAAqsoaQF1gIQxAAhiDCRFN1kgAhiAkWkBGlSDA3gEACBiQAAEAEMUSAmEwxbIAG6AG0SDDqEBJjiGRjGy85VYmPndsp9DGCJyFij5I50lwtx+NxWsP8VKIvz1WndcXa0nQvCNHsj4zvD/AETJD+ZVE/RHGGqqE21rUYa25TgV7DGIdJyNgAGqmBXUOoQ1AorrJXKMgAAAGAABQBqAAGLsjMgGIALAkoBgAAKoYAADUKhAAxAAwAQFgSBBQK3mgADCoQwAAABk1WMzJnqUdQVAVqFxlvMAVeAgoCR9YFAJQ6wqusBeaMB1W1bQVEjAqrthVlJDeAqkBLsjMh1DELZAqoKucQAWBIAVUMioTrxirYBkqs5mAilatPRKCKVgqJGuVdQFauUdXgJ18w18IF1GOPAgzcBpePCgxoLbUOIlSsVUAHxSdw3Pd0Xj5G57ulY29Egy6qx9U1Jys4yvNSsvGZcqtERWb+cyU1covEBkVqYfF2ZVVaad2kxS0rKymeBAgwYjbTKir/0LqCoDHHkZSaicdMSctGidKJCVjOi8WqpZQsNdlVyqolBmqAYEAFUMge8AwqIUYFa+mOogoCgqtq7JIwKqKI2lHUQXUBNQVAUVUSAFASUAwEMBlEiZbLV0WgPTYVVURqKXSBYCUTLYBRS5SBgXUMioat4AMlQVEDAyVZSjErFVeAB1FcZmawirwjAsPEpNQVAPa12qOomqpdBOdWUDNV2yRNm9IbMAam6BEWFYy7JatUG6B8EVHVWssPgirG5LK/JN40OxieISoDj7SsRuVnPohSdu+xtllk5iuKUDBAhMq6zMUsKxegUBKtSy2BrZtAU5ahANdG8G1yhstopy9IVVlIDqt5LVenpBUCsFQDqColWyj6IFE1ZgqJWJUq29IC6hk084ANvCTs8o93QLxATq5Cid0KecBA3ym860tUFVoqqQLZratJPaAACrwFVEqAFaqiaqgEA6qWBms6QCYB7S6BAu6HUAU15+yAgAe1rBswtkGYoKuYBVBu6gKqFVSSPdANrlygzUqKq2pcu9SADzB4xAA6hM3sgIB1EVeEYAGkVVIgAokDDHi8VToy1AZgYwQIrs2hs2WqozgG8JWstXTYHMAAxO6ukbC1Gg9ndAmrLr2h72kBi2hVMICqgXMSAD6yd0YtdQDGxLbIwATbOoYihVUjqJ2eUfUAVZW0MENbVh0WtV2gqFVZyBFkaQAA0gwhAOoVQE1AUQzAwih1CYGJAAAQDEHqgAgYPGTUAAKoACoVQKABULMIKgAVVvIMVJoAgJAfiFUAgBtIAIAqqEwgYMEACAlhALaNKA2gACRDEAifENhAAgABMQWY2XnsAYAQBYt0ANokVQxAQxLDalhMUYmPnjGd2Pnil0HxvpZtFp52xdH7pxPekSqqqZdfm1Hop2shNXbu5jzJOROPnJqJ0ozt87GZ8SLBUGvksH2RVHEPYoVCGpyNrAQzANJSkqpYAAAQMAEBQCGBRIFAAACmQxiGAAAAUoxDAAAnrAoAABqIAAAACAKqJACqhCGBRIABQEgBdICABgKoa6CBlEDCmuZdO6Mje2BgUAvGMBeIqoQKA6hkjAdQCGZAAAA1awZIAVr5xk1WcwwKCrnJGA6hMAANSiBhFgIAKKMVVvOxdWUChLsrYKoKuYClYdRFQ6gKqComrwDAdXhAQVWLygMZrYV8w4d7tdU2qS8w1LSzbsytvR6NtlOuw2IUx7pIbWsA3hiGBQyCgGPxCAgsSsIALAnxlABVRG0MCw6xdYgKGIAGoyNdOkcPS0Na1pZgKH1CACgqpAAKASjAqrnAkdXMBQ+YnqHUBkViavCSvgADIrBpIqXZAC6swaRAA6rQFtMAFa1HUSAFKwMxIMwFVBUSCsA6mAQdEB1B5omy1AAaQVidYwGombmqJKqAKqWGzCqFVb6QCZqddrUg2lW1UUgy2PyrUvaHrAqrsC19ECecCvGTvNaH6oAUTVl0BV4BAAVCABiqqBhLtAWKoF6xdYDZuYNNob2r1iddQFVCqDaABbQ94ltkAHrpEAAOrmEPe1EgMmrKV0iVzAUxO6GkZRLcZxi6KOL3l3uqkttnVtEjAKgqFpAB7uoRIVAAAKoAEunn6QxVAMxR4FkXl9UunZ07o2zAY4UKyAlCV+U28WzUrpt2Q1iiMiozu1KrmZgKqq1bIVVCZswmqp1APqJ2uUdWYljQpRC6wUCqiarecSlABLdQbQVAHjGJly7QtIDqCoQbxQaQATdQBrCoACH5wtS8ggYB7usCG0KKpgKZhVCqCoBVADAAVeAAJATaeW0KrOQGYChCbwjJqAomoKhAMQCqsAZLDqJABs2UQAFQhAAVUgSIBsJsoAxoDbJBdRLZgGFVhIMA6iGANkMGIkAEwqhkGlHZAPKABCGJgExOvkGIAEMQEgIQDEDAbRIAOoCRDqACIhDFtsmNtkoxRD5op9DHzRt4sRq71j9zXdPRrf2uXdvVY80q1j66T0Ti+LZLYZvaN/BnX51POiaadBioRV1BVVyiXSPqOMexVKJKORsD2QAwGUQUoDAWYYDAQyBgAAAAAFAAGQ1GIAGAiwAAABgIYAAAAAAEAAAAAAAAxAAwEADAAAa5RkgBQydrWMgYCCkCt0BAFOookFyrqACiQ1AUADAWYdSiGZDAlaigAAHlANkYqheICg1i2RAUzASOqkChkjAdVoVZSRhFhUQMC1awCCgGOqknZJZradWUDIUYxgVUCttEgA2hw3ZbXhIzLssyKzL4iiQAqoKswAADEAU6gENSCqso1YkALqASjArd7QyKswawKVsukonVyi0gZKgZqSQ88Ch9RCsMCx1UkABdQVEFAVUHUJR+IA8RWYlSgHUOoSgA2arWFVogArxjUlQAqqwdRBVVIDUVWbQSzfagN4CtbLrGSowKqpEuVtNjCCqkDJpsFVzGNsxStl1AOqxuQoxU2ctmUtuoA7ImaxVGuWkQFNlEIFa1QHUFRI9ldW6Aw3tNogAe02sF2RC2QKAVWUKrFAGCrwiqqXTZvBsgOoKhAA6hNmXRsi2RAVUKoQ2AQ23hVBVaBQVE1Zg3QAG8AMuYOiA6g6yVAB1VLqDe8kWyosoFCAmq3jOzSBVQgAAqyiVswh7wAuVRgTslBtchTEqIBhUIe6AgqAQDqFV4QDaANNoMAqgBgqFuhmAAbMzWW5iaqQ6wCq1V1FM1XKIAEJm8IVeEW9ptNBq1oVDABVC0h1AAaQ2hdYeMB6RVCFrq6QFa+cBVAUPWLWFRDNzBDqFVT5TCFVm1gVVmAmmxatG8NsoDqEAsoB1BlEAAFVQC0gOqkVVRNXMUUIKiRNtANsoqgAAEzDJqAdQvGIAAAEAVZtkQAAEgLyQABVAaAAAAElEAVUxDZhksA6iQAMAVQCAKiQFrNKAYBAFXMSUKoBMTmGIAAkQB0hDEAEjqEAMAMI2hboMDEsAiIjFGOIUQ3hPkjtlPpdsp8sXQvKWI4dwmx+KwbeHbpX52OiKbFO6OF6Z4vCqwbP22Oi/NrOmLTFQiQm9oB6m5DjHsWopWy6yBnKKqAAONsFKLV5wwHUMkogAEowGMQAMAAyLEAAMAGAAIYFAAAAxAAyWpGADASjAdRPWMCAAAAAAAAAAB1AIqoBDbZEPaAZJRJBQ1IKAeaoPJENQoGIAGAhqAVFEgBQABkGkOoAAYCABjJ0gtQFBvVAGrmbMADqFtAA/GMlmtqVLPSGumnTaAwAesBbIxbuUAGFXMLqAB1W87FkKC6G12bwFgpIAWLe0gLeCKAQwp1eABABVQyQAe0MAIHtAKoagOoSLYrtbYuZtpg2t4vZ5N4B1ALZDyQGDZV0hSADHUJSgCoYhgBSmKqptOfLlYrMBQCGBQVCXNujABiUezU1jPm6QDqK0kgBWkNJIdYDVsraS67OYx9Y9QF10qS0TZ0OgqrV3gVaQLAQ6gHuiFUOoBq2UKvCITZddlFXaAvxkguZRr1AFQ6iFgQYbxIiQkVn2mXeGBSsHWT1DYBiZsodY90BKMWyIClygSPeAYEjqygNdryR6yB1APxgJm5xAVVSLpBmEA28ItkN4NXRAKgCnKGyACGIB7QgBgCoXUMNdQAAMSzAFXMMCQGzCqBuoACoQBUAxBrAABm8OUOyLdKHUBNVVXZGAyerdDa1CAbaadoakiAr1gbrJFugUuxos3QqJ6IboBryhV4BVB4gDeCrKJWs85gAoWYQbVWnZAA6gAAAXULa1Gg6qsoqg7JNQFVZQbKSG0oD6hVD3ifaAYMJtnRbvC1U6ChiygFQQVcwVW0gLZAWy2mwOookADdCoKgFpDZ5QFsgAB4yaqgK8ZNXgAVJQxVeaFWYlVpXfYBqFVhI2AKswgqJygMKgEAZiWCoGAVQ6hAACAAAAJNCtYvNEJlsbaUBsIWyAASzFmMAANYgwYtomooCRCA0oAAAkAABE6iiAAnWUSAAJmFVaygA9rkJABiBgNogTFmNgAxxCiW6yjCx8kzm1H1O2ao+OOxYjrPhnj0XfdsJdl4rN8ynVDLSdkcNMWqeumBZuw3ifO39U63qOOryIpbqG2bzRN4RnEPYijqEM5m1ACjMAGIYAUAEAoAAUxAMBgHjAyKBQBQGMQwgABrmAYAAAADABAAAoUjACfEMAIAAAAGIYAAAA6hAAAJlqGAFVCEBBVQgzABQ+YgoKBiGAAAAMNNgVABQASZFEgAB1B+qBQE+MoNAAUofqiAA3tY6rOQAAFCqxeUAAatYy6bBiqEBQCYQFASAFbwU2B4wAeoAUACobVcwlGoQAABTViiNkoBh4wABjqJGQNhq1rAADqzAKoa6AHsh4wEBdQayVKAfWPdJ1hVSBQ9XKRrK0gDLUugdTCBVygVVaVVzGMdQF7oCFUBW0AABVPONfAQUA+yAhgFQ6iQqygPXVlGSrVDAsVVohMFWKqoldlrLfso9ShGQnxgMBdRQhgACUYCHUJgCmoEqtOoukIKvAICd0CgqJqzFAFVohgoAFVpNVrMwwGzUrqzCqpbQPMJgGAl2dQwACcwaQDZHUTtAzAUrE1ZdYa+YW6BQC3tAgCoe8RUUARN232QFErbYJRql1gXrEAAAA2YQAAtYgAqrKJhlAFQa/ODUAbImJHUrVAACAAHUKqzpAAASxNVisBZPUANmANIqrFAN0AHpFvBugAabRc4AOoVXPaQtas2lqs2XsqM0KqDyhMomAB1eAhtNOpgbqAFazdYdVvOIKucBtpFUG8LZAbMLxC9keYoKhgTUENgq5xCAYALqAAJ4yzN2RgDEgJtoB+UIAAKvAIAKCoFbmqFUFQAwgEAAIAANJIgGIBaucAABVAIAA0AdQhADMKoYgGICdIAINQgwYgJAQxAAxAICQYANKBADAIkpiQAkbCAkQwARLMUSwDAYtJtAY2G1XMTsgImIMhiqxRT44uU+t25j4YujZcsUdMcL8xZExTBh1fgpRP56rTgzU1HKuEuLx+NZ7LsKkNfROKt4DinyWJdYbuYW8PW2qw40ewyiRnM2sAUZgA1EAFgSUAAAEAMQ1CgYhmRQAADAAAsCVDaAAKABgISrSoQxeMYAAxAAAAl8JAySgAAAAGAAAAAAACUYAAAQPqEAAMogYFABIVQxAAaxiKqAAARkMBAAylJ3gXabpAUBI/GAxgJtrQAxiABZihVcwAPZHURmGAwWqldOYAAAAAAqrwElUgAKSAFBUAAMdRIwGAhgFIdoemwQFeMBMwyBjEADGotkNagXUJm5gABjJHVZzAMbNzEjACqiVKAAJ1s3ZKAdVIK2UAArMUQDNTu1AVrUraIZeMXRusOrwAUAKHjAADxiZgGOoQABasQUA6gEADBNNObaEOrwgVuiUQlaxuQC9oqoiooAFVaSrVDAoMoAAaRs1iiDa1WgMKhVZhsAhVVD0kgV4hk7QwDeHUAALWq69obCDSFTVZsj3RVBUA2YWsBawhgTVa3mjbaAN7T0QbZF4iX/AAbAZNbVASuWoYCpsWq2zeCrnAWrZAoS7OgFzawKANNpFVTNoHVbV2QGwhCqAYC6xgVvaRVCAB1ZRALpANmEzDEAVZtAuMzUjFUARNAtIqfWABsAhgLZDTaFQgGInaDqt2mAfWOoA2dYEgCiVrG5AH1CAS1U6zQdPgBWp1CYAAAAAFvCAAAAqAAqFrEVFCFU423gCrwBqFUAASzAIAqzMAC80BgukQAAEjYoZIamXX5QATmGFQAAheIQFEsAvJAAqAQD02CAN0AFUFRJoMQ90QD2SarWF1CAGANIgGAgqAOlmEMhgwKhBVYzaKtkAK8RIhgQA8ojSgnxFEgOoQxABBZICZiahtpJAAAQAACAbEMWxBtCF1DJYBbxDbJRDFV88XSp8UVsx9sc+F2piLpLFHnnF0eyPim9otjbUwyr/EaSw+y9IvdN6zkWzZeO7esfLbvdE4J+qkV5JK+ErZUyj2GAboHM2sKiSjAYxAAw6g3dAbQAUAEUxkjAYCGZFDEMAAAAYAAFAAqQGAxAADEAtoYC2QhgKkZAAAAAAADASi2gGKoYAMAAAAAAAACB9YgGADqJABlEDCqAkoBgQVUAwEMACrmADIYCqACwJAChkF1KAAAAAAAC8Y2EOoAJqtylCAY1YkAKAQwAdVJGYrapArqAXiGrAMBAABVbzAAFAIYFVDIGunNpaogT8ZR8nRVUu10TI21qEADqCrwCUALCompgApcoxAA6g19INRMJbYUKHDtZ4jKtNTbwFgLWAFrtZRqY/NHUBYa6hVA2ZdFXogUukKqSRgVUMkNYFDJqH4gKq5hNpZiVGBVQVEZql2KVKApmEIAKqGwlFEfi0Z6XZlXZXabsgVveaGyzEq1SrbsjUBFa6WAWyBQVUiHUA1YBAA6gIZrOMo7NRQFksIdQAHiAWyA+oN3UKoABWtCq1dQBsrrAbMKnLpBsyiAYbS6BDpqUKBNpHUFVnOAqgJACt4TaGXWIAhttaR7xNQAUrEa6V07XZKYRQeIQAA9lRCUYCZrLF0gwMABVaotpabRgAtlfJCoYulaAVWUhVZ5wuoAHVmYWkKsuneDeAWdYa2WVxGp84NfOFQmAdQg5yQKAKgYBaxBUJvCA9oWyUzc3RJ3QH1Cqq5BMDaeZgHUwE66c1A2zAAABoFWUW0wqs1AAOmoZFVlQ8oALx7wNtaAABEtpqWwALFUFRJQBV4QVbAXKAAIACoN4BAFQElBCZhABVAeNg6xAMN0kNIQ2EAAKrLpEAtNgDJZ7F5QqE2huUA2gqpDZEABV4B61VdLVN2SQAAF1mgyWbMMkAEAVAACYAGQUSGFVc5AxAFWUQAAxAAAJhkgIWyG0BpQAEgDbIg2hAAA2hSSNKJAAAQ2EAiSgYCBMMTbRyMJYxRC2IbZKr5orVGrvOLZCu+ajNuQXZm81jZRTQYumUlsNXo/8Gf8An1Bl522qrelmF4hLlhqM4FLaLVbGbRteURYZYS8ZF0WGZNRev1zFCA5FOkokoBaw18tpQAMokCCgAAoGAANR7xJXjMhgoDABiBWAZROkoAGIACmkA3QAAAWUBgAAAALrIhgBIFASAFAAAAAABtDEADFUMQDAAAAHSIgAAADZ1AAABWySAFVCEMKoBdQ6gDWPWIDIYBq5AABiABgAgGUQMCgJKAVWYZIAUBJQBpAAAB0iABjELaAqoKhDAokAABr4LRKAFVASUA6hiABlEhUQNcpQgppXQAxiEBVQCGA/1QqEUAApNRQDqAS5hgMNkQAXVaBCsOoC6so6reYkbUtqtANY97SGsKrPSAdQlq5wEoFboyd4KrObMoFiAXUBQCFUoFAAgGrW87VDJUYD6w4yxdb5QDZApWqXTs1AKq3ltEBQASBVQabSR6wHUFW0q7pKhD0KvaAoN4KRVWAIe0ui0Q6gBQqGABug2VtQt4kKqpiRhVzgIBKCtUBVRNWyG0LrCCodQtkKih1ArAMBbwFZhAAhMMAJUogB1UqGkVQAMNoVWYQD6wFVlBmAPJAliqsoB5QC1CAKgFUAAFVtQgAAYBVAFXP2hVAAArUjqJGA6rW5BVVBUBoDaeYQMGyAMtjNptAQVAAVE84AVUTVaweUJih1WhUAgAKgpFu7ID1hUKoAH5ohVBUAgHULZAKql0hUKoVVRQ6gConWA8oEs1vNmYADTaFQtYBAzBrAQDqEJtAVbICDW3IHiDKAh5ifEMBZgqCqxtQzQRI2EAtQAIB1UrpFVaSAAULxkgMQMAYFQCAAAXVaDAMWYQeMAELaA0oAAAA2gAjSAGxIAxJQASFQ23e0LxgKoAEAtoWtQBgEKJ4RkttGxDGKJlMrGGIaZfLHZWXyTh3CXF4jBt5N01SH87HL42yxwDhemeLwqsD8bML/ADAdM6mF12lW6FEcCFoqPsuqB3XPwYXTZVPjsNvhWFxt8Qbbd3N8ynHVl26uSnHuergAanMgKJKABiGFOoBDUgoBVDAKhiGADEMyAsnWMBgAAA90VIwKABUgMAAAGIVQDAAAWYGGBBIAAQAGoOsCiSgAkdQigEowAAAXiGAABNVoFAAAAxAQMAAAAAAAFUMCqhCAKqoQDq5gEVUSAFAAGQDUKua0QDAQ6gAO0FQAAVAADqAQAMBVZhgUKqoQAUBIb2npAXUTVSG8MBsGbpgICqrAViRgMfUIQFqFXMLxiAuoBAAx1CABq1jchXnELoXkAgsakABY6jHUWAwEADqpHVaSMCqgJHVmAY6ieoYDVuezeHURsroK2gL02D6zGG8BdQMT1gBVQxEgXUKq3mGAD3QF4hgGsFbmDVSTVm8n1gKKViKqh1ZgMlRDNlHUTrbUBSNUWzUrpMa5dVgNvWWgUAAAxbPKAtObsgUrZhCXKU2inQAVMIBAVrUQquYGaxabOkBVQVE+MVQFKw+oQvGAM2bQAfWFUoUqrQZrVYAbeAN4KucWyBQ6ucNIqswBDDSHjFUA2a3kAXtCZgGMlWt5w2t4BirsarRusKqpSW0svaAdRTEhUAa6tNot0BMAVZQqYAAe8tloh1C6gGuhVDUJqadHmi8YDAmmlgAdQgbZFpAYhAwDXwAQFVQFqHUQUAxBUTVzGhROyOrnsYSr2gAWsKqgAAAAAVQmbnHV2ChZhDzDAKiQBmAKgEAFN4SRBpKDxBpJACgJEAwqJqtYG0Mui0B7IE7K6CqgDUIN4kAHUFQqWCHqFSIlXsZtQF7TE1BvAACzDFV4TQKhCqAAABAHMDNSoEMAwEMAqFUPxiDAEAAAmYZIAAAAC6gAB1CAA2FawQNpYKsxQEtVSUQACGAEAA2AQAIAEG0AAQ2kYgExBkbwEsbGNjBEM7MYGNMvki5WY6v4aJrRI3bK2b0Von/Y7Ni9R1Jw0x6ryuuB0YLxPnbR+qSXoOuf1Q3QbLqJZjgQ6jfYOS17za3owWNAmllY5TgtF42YidGGq/Oxw3EuzVzUI9706MlRnZYMvdEoAAxDCgYgUgdQAAFBUAAA1YQtdWmzZMiyjGrWM1BkVgGAAAwAAHuhui2SgJYoTDACSgASjAAAAAAJ1lAAATVlXTtUgQUAAESUSOkBiVqhgAElEgAAAAUAASNd6zohujABVCGvgAYAKogYwAAAAAAAApgIAGOoQAA6g3hAUBIGRVQmexeUQ6c2kB1WAAAMKhDAKsoCHqAAEMAGLLzD3QDrCrmtAFzU2gULxiKABkFaQGFQhbwFDFr5gqAfUABsgUBNXNVtABVVgxDAdQgAgeyOrmJAC6iahBUBa6eUekxjXSBekYtIqgKCoW0NmpAe0G8SWAt2oasSUAmaxc9sXi4a7VVNLfxlERFsirxbqjK21VmUpQL8QhKPxgVtErppKBVAlSidpdNnoleUA9dWkhtrQVVZVRvdEZQlGG9mGAl0jEi2LyB9UCxVCACt0VVVVnRBcqjbQAxAJWzEAoZlq6IKtLNbaNtryQFVbxlO76wt5bOkOlQ3ShLm1A2ZtNnRDWUBOkokNIAJWtZdNq0sPZXX0QABMwMACqHrEADYWmwbbROsKYMFNImyhDqbZFVmEKnwAVrDxi6wAA2VAltnI1LAPUyi2RVDAAF4mBWqYBsS2byhtmGAqs2oZIbukAYevlEJtNQDqCoQawDxDq8BOtiW8AD3RVAKrK2igBg3WGsWr1gBtPSpCr2gFugMTMBJoXUHjESBVXMFQusW6BRI6hVAPVyC2dQA2nmKEwKFQAMGFVzE6+SwCqgYQAAmbKKoAANbC7IFAwAIBt4RAAC2WHUBIFBUQADq8AgAIe7qI2l1lE7oD88NS67AJNB1CEOpQFUAC3tQBUMhdNW3V+qUwBsgSAAIAANkAqEAdQAAAKoGzC6gKI3tK7I2yi2gwAAOsNgQwYoRJQABICp5wGLrAAAQDATElEgJtoWUowRY9i1W2xeLVQMwGCHM2RKaIqRF6R9DNYi6wJIGrWNyAwCIMmonxGxhYwRWM7sfM7GmXyR9k6T4W5louLFh7sCAir/1O64ubUdCcI0z3TjK8bbdldENfJsUkvQcYbSzCG3hEcCLs5Dl2DKYcjMPbstEVfmOIKtWU5xhWHTc2mzfiN/MdW8l/G7NtH+R6MGJdkDuuFkUZCtaX1gJgqGIKBiDe0kDABgClkFAMKRDXa0AJVpbSUohmRdQCGADEMAVqigAAEwwAAAAAAFmAQFAAE6+ceyIAAAAfiEAAHWAARAAAABpAQDKIAB7xROkNIFATpACiQAA0jqEAFAAEDAQqgKAQwAAABiAAp1BUDCAYE+eMAqt5gAAGAD2TIKgqJABlEgBQEj3W0AGzulVCJAuoKsogAqoQgqArqEFQgKqAQwEzRFVeLoZqt7LlMhBQD2uQZjqs5yl8AFAIAKqYMwgAajVqSQAoAFUA1AW92RgG6MQAVVlDUIYFeIdXOTrZgq5iClzagBQbwAFWXTaCtXr3W2QACuoZC5SqgGu8UTVTyBUBe8KonqGUMVdKVhUTEb0QKhw1VdCZS1Yka5gGG0NRbusAqzaPWGTVYraLWy7vlDqAbbQmDWAFaR1EhtMA9ILp5bSeu0KgKqs5yiGzag6IFkVUjqzEt4POAem0ACkAq84KvAPQIBaxsJdkrV/aATZSKiul5REN7Hqts3WZW/iAuoiI3Fo1tmakFYqqkBiZqRdZO8wFq2XSDaCahbSgFQ+uwQAGyotOXshVYrCAdXhDqFvCq80BgC01ayV005toB+IKuYAAADxCAdWbSCtZUQG9pArqFqGL9YB6bAqAntAFQtQyWWpdBoVUIQVAPWwm01aAVhN4QHrFVaxFVjLpsKAdTBmF4xVAVmE2inQBGoCxKGbpiAYCDSUOoRNVtQdIB1eAXiFVawNUoDDzvRFUFQD2SiBVUgNtPmhUINXRKGJgJAoWsQgGPZFVYu8HUAVCAVQDAVQwgFULMM0AkAAAEG0AAKoKgACQANkNpdagIAAAABDEACYYAAASA2EAADCUYgAQxFDIYshgAokoCRVZhksAVW84DAKQDEAEgAQ9nWa9mSIvHW/jGU2DZl0GrZaIfExFdlVqlZQHk+RtRKYkVqRNMwXicXbxzLVSrboNDjs0GJBhUrA2VbeErIr6e441VVXZqAy1xGjzDw1dlVqaV2iIseIsJnthPBaqmluiRxEbi41jwHZYsTjMr0spHceZbYcB1p6T1AZWiJ3ZxFL5t6vZIWLZEaNZYrrQrMrM+1oL4qPx/H8VmZtkniIkNYmlNo2MXdLxIEF0zV5fOFVVEayzMqiWuBCZEXMzZSlTi0VDTL53zP2VPOeKY/dWJLzjK2Vo70noeLEthrEe3dVm+Y81TMWyLMxonTiM3rGJ+iRYNXOLMURbunEGuk7BuPRCuqV85vnY4BvaTseThNAk5eDurDVfVOhfS7dHdtI92TvxWGSB6rqqqzFK3MSBgZAJ2SwqWUdJVI12SCR0lAAAFIwEAwANpdFowAyKAB7QAoAMCgAAAVIwAAAXWAyd0fiGBIMUTpAFAAAAANIAwKA9kBAUSAmAYiIZEWJxUJnszUlgAt4KRiAAAABdkYgAAGAAAh1U9oAAe8MCQEvGVtWqcXTl6VQyAHtBSIB1DJ3dALpAsAAKVQxUjAWYKhgACYNoYAACpMhgygOnnAQDpCkA6wVrB0iAdQK2YP1hBVCbqGSEAFBvAABTTmABgHZAA2uUmFCsgLosaM3/qPVT5JS5RgFQ+sXjK0AMQDAB1BSFIAAAAVBrpBesdICBsy6AAAXSq62qAAUB+IasCqMAGIsCQXRVpKpABKpeYS7QKADBVDUoANWt5wpFs6gKATPYq6bd0YBUTE00tZZ0R7IdQArW06ylbnIhZVp6JS5QKqAnZUUNrGZrOiBYC3tYKwF1ZdICVqRVABTBzhUBNVtRStYRUP9UCucNYVZQZtrQAaw5gZgbZAKspESKiLVa1NWUqqyk+achpFiS6dJtrxAfWrW84bXki4zn6TBVUwD2RCZrObMGqnSAyG0jZrBVWALapBmCqznEzWKA2y6wyi3gbKvnAFWYeUl8rayk0rrpATdYVeqNmqbZQVQDJYNStos3Q6gAWkP1R1WUgIA1jXa0WGgg3ilh0qKnKBOzqGPXzAy2gYwL4tqtkKG6JkQUNkfohxbdFwIEXTmWyl9qkmh+TisxoKoS17w2hW061cbQ7eSkCWYmrnMjQrei4uJfouBFW9aNWp1lcW/Rf0B8U3RcDAq5dBRfEv0XDiIn4p/RAjXy2boi+KiUtlf0A4p2XTS4EaQYvionOriaFE6LgSSrZjJxETmV/QDuaN+Kf0AMYmMvERl/an9AXc8f8U/oFGKoe0W0tH5eKf0Cu5o1Wi2E/oAYtQjN3NG/FP6BKy0b8U/oAYw2TN3JHp/BP6BDS0fl4h/QAirwBVlLWVjcnFP6A+5Y34h/RKMZJn7mjN+1P6Amk49P4J/QAwh0uyZ+45n8U4dxR/xT+gBh6ieu0+juWP+KchpOY/FPT5AGHqDxGZpOP8Ain9Afccx+If0AMIjP3HH/FOJpGa5eIc0MIGbuGab9ocXccwv7Q4RgVbA2T6O447ftTi7imfxDgfPugZ+44/4pxdxx6fwTgYAMrScddqE6h3LF6AGFtOYR9Hccen8EQ0tEXdAwtlA+juSJTrX11I7midj0lAxAZeIdeWj01DiLW3k9NQMIGVoVq8rQfTUllVeWLB/SqBG0A8ir+Hlv0q+8TNB55qX/Sr7wABVwPyyU/Sr7yWjyv5dIr/KE94DakDH3TIry3jIr5U0nvJ+MLuX91ru+lJ7wMwUsYIl53UvLfF1/Sk95LX1ci6nv26/pSe8D6RaD4u+C4fz/dH0pPeJ8Q4fTlxJc30pPeB92sRr2xRhtV0981zfTUJ77MLKul8TXL9KUo2Ato1TY0wivLim5fpSkPjfCFjZcV3N+nUDcUlmhbHuDl5cU3X5sUX3QsFWcuK7u9JvcBvyGNB90fBVnLii7vW9xDcJeB/30ynoP7gORD7Jxr7qOBuTvmlv0UX3EfdWwGraLcSI3ky8X3BXJ2EcWbhbwDT/AIfdvJlYvuMbcMGAV/dqY+hRfcBy2kTL4DiH3ZMBryXtNt/In9xFvDPge3YnLxbyZJgOYgcJ+7Tgqn8Le/0X+kwvw4YOs2YV8t/J194RzttodVp143DzhFeSTvdv9knvE3D3hbcum+W8xPeB2ESdePw9Yd5LLgvn0095gi8PlzWbGHrx86KgHZRjZbImq06zb4QN1bmHptvKmFMEXh/lf2vDMVvKmv6DY7K7mSHnVqmMEdrKaTrVuHzTrXC6edO/0HxxeHWO7asMy6+VNN7isOfX1Hslrono/Ql3b1TzXYuilm58x2DfXC5PXtd01JLc8pLrMw2htEqZstvgOvrLNC6zE1V+sLKHUCnG0zwIfGR1s3tk7IZuLpS3ZVaTr+6oXH3jLpZvRF9o7AitW23lqPMvpd0XetI9rvQpVOhl4dcaq34e7m/kSlrw94xTeuj6F/Sevk6TvdQbwHRf3e8X06oVytV/Am9404fsW055O42/kre8g7018ylqdGffA4pXluy428qXf3mRfhC4jp0vctyt5j+8g7wKOkF+ERf/AO925s3l+8y2fCIvzRrw9dPpOB3Uq2sM6WX4RV8Lrtw3df6VzIvwibyp09611/SHA7l2R9Z0198VeP71Lu+lOV98RPcluEZH6U/uA7k3tAtSnT33xUwu1g+R82df3FN8IyP+82XXyZ9vcB2/qqK1Kp08vwjImX+4+D9Pb3D++Oq1d5sH6e3uA7g1DU6fh/CQsbV3npV/r7e4v745FbXg/wD53+gmw7dDZOpPvjoC/wCZ7/T/AOgf3yEuvLg98v8ADf6CDtuqko6jX4RkBuTB7/T/AOgPvioC6mwe/wBP/oA7dEdSL8JCV/elG+n/ANAffHSrf5oxl/lv9AHbWUdJ1GvwjJeqrvRjU/67/QP74qX58Iv9N/oA7a3g18h1J98ZK1asKP8ATf6A++KgLr71H+m/0AdvU+Ek6kb4R0FdXei/0/8AoJ++MgtyYR/5/wDoA7cYZ1F98VZTpswp/wA7/QL746H+9FPpre4Dt4DqBvhGf/1FPpv9BP3xlq/5owfp7e4DuEWU6e++Otb/ADRg+dOt7ivvjolOTCMp5063uA7hEdNt8IyY/ejI/TX9wvviprmwpI+dOv7gO5OoZ0y3wiZz96l3fTX9wffDz7a7MLXd9Kf3AdyNlA6bs+EPeWnR3s3X9Kf3Cb4Q95fvZutf5Q/uCO5dXKB0xE+ELev727oXyphyPviL25sO3L+lcuw7qJqzHS33wt+NsXBcq+e4m+ELftWq4rj9cg7r1jpynR7fCFxBuXLcvoP7yfvhcRtsXPcfoP7wO8lUFU6Kb4QeJ25LsuZf9k3vE3wgMVrySdy/R295dh3trDQdDt8IHFvJZLXL9Fb3i++Axg3JCuhf5L/SZxHfVQeM6D+75jHn+JfoX9JLcPeNOaLdfmyX9IxHf/jDqPPzcOuNeacu5f5EvvMbcOuNeTuyR82SUYj0JvaLQZbTz193THDf5dI/QkF93LHDfunLL/JUGI9DU2ryhTVyHnduG7HP54g/RUMf3Z8bt+7voy6e4Yj0esO0dLHm1uGfHa/u+/6JPcJuGTHPPiKMvkwoXuGKvSlIqLeZXPNH3YMcN/nNN/ok9wm4WccM2vE096Ce4Yj0xxL9FwWFE6LnmNuFfGjf5zXj6vuI+6jjFuXE16emvuGI9QLAifin9AruaNT+Ceo8ttwl4xfkxTen6VfcY/ukYt58TXp+lGI9UdzRfxT+gHckfmhP6B5UbhBxUzf4yXu38oYhseYmbNbiK9/pT+8Yj1f3HHbkgP6AdxzP4h/QPJrY1xIzZ7/vdv5U/vMbYtxA37u3p9Kf3jEet+45n8Q/oDWTmOXiHPIvfPfjbd9Xo38qf3i7472bbva8W/lT+8Yj133JH5OKcO44y/tR5CbEF5Nqe8Z76Q/vMTXvOt/l099If3jEew1k41Oz66i7kic9HpqeOmvObb/LJv6Q/vJ7umm/b4zf7VveMTJ7FaBarU1QfTX3kstP7bB/Sr7zx33XEbliu3nsS0y7DEyexfk15Y8uv+1X3iqg881KfSE95464/wAKhWnLSgxHsXjZXktnpHzphPeS03ILy3ndy/ypPeeOfk2/ak9FQqVctiJ6IwZ3exGvC7VbXe11r/Kk95DXvdMPXbfV1qv+tJ7zx+rQ/wAUnoqOqGuvik9EYG7141/XEvLf90fSkJ748O7TYiuVf5Up5EqWnRZCgr5oVUrlRPRGBu9btirDK8uJrl+lKTExnhSHy4pub6Qp5K4yyrYQXGNUMDd6z7+MH8+K7m+kB3+YNVdeLro+kHk1YzdIfHxV5GGBu9XfdBwUvLi66P0re4n7pGB15cV3X63uPKXdEXpOVx8WnaGBu9VfdNwIv+dcj5qP7hfdQwJz4plPQf3HlXj4rbzgsRuk4wN3qZuFLAitrxNL/R4vuIbhYwH++RPNl4vuPLfGPVqK49ucYG70+3C7gP8AP7t5MrF9xP3X8Cc18RvoUX3HmDjs2mofGdoYG7063DBgZf3Wm/oUX3ENwy4D/Oc83kyDnmVmqFxjDA3emvu14Dhro7uvH6E4m4bsDclke9PoTHmWp+YaxGUYG70w3DhgheRr3b+S/wBJibh0wQv56+i/0nm3jA4xuYYG70k3D3g1f2q+m/k6+8n7vWC1/wAlvz9EnvPN/GBxjDA3ejvu/YPXVZIXzT5Ce8n74LCXNd19N+i955z4wXGNzWDA3ei/vg8LLy3Pe/pwveQ3whcMc1y3u3+1he8878Y3LoFxjDA3eiPvh8N81xXp9Ihe8hvhEYf5rgvT6RC9556qbpD4zKMDd6D++IuTmw7PfSkF98Zc/Nhubb+VIefK2KrNdMyegG+EZdP72Zn6avuMbfCPu7mwtMt/LV9x0HW3hJrzah0zJ3yvwjpFav7lnzfw3+gG+EhKc2Fv+d/qHQzW9sKusdMyd7t8I6BT/ion09vqEffHJzYWg5v4a31DousNNlQ6Zk7yb4SNPJhmW+lN7ifvk4/KmGZT6U/uOj2YVTLyOOmZO7fvkZiHsYZu5V/1p/cP75Gd/e7da/yiL7jpJWYGtzDpmTulvhIz/Nhu6/pD+4PvkLy5sO3R+lc6X4yrloFUw2Mnc7fCPvbduC6POaKS3wkb7XVbcVzL6Z01UwM1o2MncTfCPv1uS5bl9B/eL747EXNctx+g/vOnqqWCobGTt/75DETfuTc36J/eH3xmI+a7LjXyYT+86h4wVXWOmZO2vvjMTtqsu65V/k7e8F+Edif8hub6O31zqWrrCrrHTMnbLfCKxVzStyr/ACVvrmP74jFrftF0fRf651VV4QqYdMydqffD4wXkW5foX9cX3xOMub4oX+Rf0nVlQVE2Mnaf3w+NG5It0L/Il95H3wuNfxt0fQl951dpDSXYydn/AHweNavw93fQk94vvgsbt/lV3fQk951jV4QqGxk7N++Axx+WSP0JBL8IDHLcs9Iqv+pIdZ1NyB1WGsTJ2U3D5jurVecov8iQhuHrHbfunL+bJIdb1D0mdjJ2P93rHf52lvoUIluHvHjfuxBX+RQvcdc1doKhiZOxm4ecfcnx1BbyZWF7hfd1x4v7tJ9Fhe4670iGxk7D+7rj5v3d/wCVhe4n7umPvz7/AMrC9x1/pCq3nGxk5/8Adyx437vuv8nhfUF927H3NiKN9HhfUOA6QqGxk58vDdj798UZf9lC+oL7tOPP3xRv0UL6hwJmBbaR0zJzluGfHjcmJpj9FC+oT92fH375pv8ARQvqHBswL4DWJk5y3DLj7l75Jv0E+oT92TH375pv0IX1DhFVIV5tQxZyc2bhix5++ae9BPqE/dix5zYmvH1PqHCihi1k5l92DHn76bx9T6g/ut47ZdNuK7x9T6hwrSNbRijmf3Xcec+Kbx9NPqEtwt455bMUXn6afUOHaRaBiOZtwsY5p099t6emnuI+6tjan/G29PTX3HD9IaeYYjmDcKuOKdWK709NfcYvuq4458V3t+lX3HFagqLiOV/dRxrT/jbe/wCl/oF91DG/77b3+kf0HFqhDEcqbhPxpy99d7/pf6CPul4y58U3s38o/oOLaB6CYjk/3TMZcvfRe/0j+gf3ScYN/nXfX0g4xVmAuKOSNwk4xqb+6u9/pDC+6HjBv86b3+kMcaKqtGI5J90PF1OvFN8/SmD7oGLf303uv8qY43VzhtFxHIe/3FXPia92/lTh3+4qb/OS+fpT+84+BnFrJyDv8xSvLia+vpT+8Xf7inmxJfX0p/ece8kNIxMnIO/rE/Pia+vpT+8nv2xPz4kvr6a/vNC20AxMm+79sSfvivf6U/vDv1xIzasSX19Nf3mjqFUXEybzvxxJy24ivf6a/vE2McRty3/e7fy2L7zSVcwVcwxMm577r/q0Pf8Ae/01/eJsUX7V/h292/lr+81FXMKobK27YpvunVft7/Sn95DYnv3nv29PpT+81a6V1gXFhs++e/F/dq9PpUX3h3zX237tXp9Ki+81VJWoYjZd8V8898Xi38qi+8XfBezfureP0qL7zXBUMRsPj69m/da8fpUX3i+PL0b91rx86ai+81xS7RNm32/Hd6/nO8fpT+8Xx1eVvLed4/Sn958dWYC4sPt+Ob0/Od4/Sn94Nes+37oz30p/efErW84VE2bfU153g3LPz30h/eL4wneecmWbtRX958wVc5Bn7tmm/wApmP07+8hpuP8AlUx+lb3mDrDqKyztNxG5Y8b9K3vFxsTl41/TYw9QeIDK0eJy2tGbz2BotrcrP6ZiqtUKrWAyM1Wq3MDLZTopymOrLqAB0I26gqU5lQAIEti2trhp6KjZYbckJPRClg1gGiHZT8mnoqNlhU6KU9Anx5Q8QDpRf2pG8xRrDRm1wk9AWpt0A0KIdP4JPRFoRtVsJFp7IB1hlVNOxQC6eS0VXPYFQaOzZYGbm3hCAyVWsvkir8sltJOYC1i2rrEzWszacxNNgamKyatT08obPLmE2jzg1cxA6reYN4G8IuoNBhw28O1uiqzAu7pzAUrW9IKqV7RNVvOoeICIhdT9KkTaW5AqAatSKmldNg/GLZ1ACs3NmCoKqRbOu0Bs1vGC2l0Av9UlsvkgJulUSN2tF4yAEo+sFq5jI22GVt+NZd7d2J/0U5vl5a6TimEE4y8tmqmGzHKlWzkPJu+b0rbi67FVSujoiqq5NkdVOs9l5x1dsdVSk6lDZ1hFFq1nLYYm8Aa8ugKyaqvJJbMwbTC184Fq1LAsSnkIFr5QMtZNVuyRlHUoReanUOrLqykMvPZlFVSBTaKQ02i3u0DaWAbaaSqql6ImbwBTzbwDVrSdNodQVAUreBxmOvntKq8AFVc9uYNXORVz9EF3u0FZKrFFVTyEKHVUBdVvOGz2Sd0VQRVXYDa5SdkNNoFbTagqpJ6hVdsC9rUFXPYSwVeFgqqqddpNVvOIFawC6vCPUrbJj3gCMlVXKOpTEOq2oC9No6rVYxbXIGoCli2hVlIGzekGV1NVSTVaTVtA2ioC6rKe0OqltRjqDWBkrtbzuiJWIDVzgVVaoViBtoB1VLrFULdACtXJtBVSxOrmCrMUVVmDVyCq8DC6rQL02jqMe6V2QKZiWzcomakN4Bai6rCd3tAQPrKIqAiHUFRNQyqdXgCsQgMlQVGMpdntFBUyhrBiaiCqgqtEADq8IE1BvFD1jqEGyQOqoKiWHUUOoBDqqAAKJ2eUACoVQVAOoNpSdoKmIGOq2oXiCoC6ia6SRgOoqq3nIBQGHlALeKHVSFVogIGrF6TGFXMBdQEAA6gq8Ag8YDCrwCADIu1pBiFbLoGzFCqCoQEDqAQAOoKhAA+yAmAoskQEFaLCqaiFbmBih6lEFQMA6vAIQdYDqCrMAgGUrWc9ZAVAMBANxWm0ZA6iCxEBUBYVEC1AUIPGADqBhdQVAMKiQq8BRRRj2R1eEBhmqFUKoBgGsRA6gFUFWUCqgFVziKHUAqgIKq8JRjqAChbuUVQFFAKoKjaDn1hUKxgONTAVQVAPTaAgqAY1JYAK1CFugAwFtAAVAKoOoChBpJKLqsDWIDaBWtLXNqI2gAyVAxGsXjAqq1g1VErmYdQAMWsQDVg1gGoBiqFUGyA6ilYgKvNAydkMtRjq5htpAbBUIOoB6ufMJmErZQAdQMwgYB1cwC/VAAH6ovEADqDxC8QeIB9QVMLZABiEwwGtXMBO0w6gHUHsiq5gAe6Lxhr5Qq5wGIAAYE1c4wDaUNoG0U6ReMBsG1yMLdCretANkNa6t4MojChlHtcotrXtCzUgWCi2uUNbKbQbtQK1vlVDJAbeAN7UKqkAHVSC6WEBxtmy08oxM1XITV6oFa1XSHjEvki80B1ZQqYWyAC6ysot0nrArabSLqtAW8BWrlIq5gqy6AqtZgE21oFV2xVVKG1ymA20clg1zEFKtjMFcqwcuaYi9GGq/Ock2n7RosJQnWTmIln4xVb+I3LLath4tzzk9Sh7brtesKswKLUe68o+uwdVnKT7Q6mAFzU2BVl1gublBgHVZyCZql1E9RQUb2ke8Lep2Rr4fVCFTm02h1D3g2t2kKfUDBrpAIOsdPhyi2hboD2tQ1bm2ReLaCkABWy6ApDdAdTCqs8kNrUG9tAOmyrygUAANlgDrsDpAG1yBtCbTToDqAuqwWyIPGAbodQusN4B1E9YZQ6wGMVXMFXOA2YWyHUFQBVaoVekLqCoBgLxjAXWIPGPZYrJg1IlGxGjXSJhVZhgACqsGAeIAAACrwAHjANZIa6R1FZIeYKhAUFXhJq3rAAB9YmCqwCm2vNFUIAAa0i3QqABqKoKgHUoh1VCAeyFTCqBs3IBVVrAAqiNGAqg8QBu6BBUBWT3gqEIBgFQAPMFQqgAdTBuiqDeAdQhqIAAPGADyiAdXMAwJqH4yB7wEgXYUBI+sgYCYVWYChbIgKKqAkBsKAkOoCgJAbCt0N4kAKqYCQAoCQGwoCQGwoCQGwoCR7pA+sCQLsKCokBsKJH1CAokAAokB7wDAkBsAokAKAkBsKqJH1iAAAMwAPrEADqEGywAAAAAAB1AAAADqEAAPrEGrlAAAKgqAdVnOIAAAAAAAAA8Q6hAAATVSVmAe8HiFTaG6A+sQAAVDqUQNlANoOsQEFgTsgciAa5RkgVugBOukChbTCKAAAkCgJH4gCoZOtdQAUKoYukAVB1DJAdQyQAdVgLtAwwF1jAkCgJbMGyA9kNbCAB+IYuoQD3gqF7IbwAHUAbwD8QMLdAChbQvGG8BQE+MAHlGTlAChdYgAdQdYm6w8QD8Yqh7Wu3KICidoA3gKF1i/VBgHsiqyhUICwIbKDNmAataG7oFtBu6AF4iusQEbGtR+IWkDAS9QVZRaRawyyE+MNrkHsqwaC6SdXMHjF1VAWLqJ18oU2gXVSxO6LWDbIAvUUT49kN3UAdoNneCokgIm0SU2ZiTICl01C2eQpd20iub4aWi6IejLxkRm/7G1ydI+G5YVsO6JezpLV859WteTKeLVllUk9Wnxdd7I96ndJqqbTYDHvPJPWL1RabAqsp0MBYU2/2RVeqC5deyA6vCP2iRdYVdVPKwNl1izAtWbSA8wLppF0dOyGyBQswtfOHpgOrMCts7wtXPujqtAa7obNQqhgGz2g6rAEzZtIFdK0S6atYqvDmDXTpAepdQC17wwh7wt3tAHjAKg/WDe1i2tYVW1qDWwqrF80VWXyghgHqgAMAtrlH4gAW7rDqHVYqgAB5oVZgAWYdIAT4wWkoAAXjDrDeqAKh7uoTA2ioBa2HVzhu6hgT4x021Buh1gCjAN4BdVodZVLCYAF1DFUAKHiGBAl6hgAC18gsxVQATT4SgAAF4hhq5AJG3hsHuiygMAAAJK3RbQC6h+IN4YCptGAesAt0e0AALxDFvDABU5RgAsoxeIKrKgCkYAAqRi3dkYAJRgAAAqrAwYUgAAAbwt0Bi6xi2gCkeyAAAC6gqAYCq5hgGUAAAAAABUjFUA1AVQwABVDqAAFUG0Aw8QAAAKoYAAvGFQDAVQZQGAqhVAVlAAAAyk1KOqwBgTUoVAUFRNShXUA6h5iau2FSgULxCZucFZKl0tSoFboBEaHV8mzsvaJqUCgJqUKlAoFSJFbRDR4jdkjjE5yocW1G0o1PkgG0MirmFxgF5QqJ4xemFSgVtDMfGWBxidMDIBFSLvBxljAVp7QVEcZYHGWAZCSeMsDjLAMgEM5PGKBk6hmOuzlDjLOYCgqI4xQ4xQL3icpNYtNhVX1DI02BxilF9VozHWLTYBk3dQGNolgcZYpBeUOsnjFCsophkcYocZZzAWC5THWPjLKQLAx1hxikGQKucxs4+MUotW8AzHWo6usuSKAjjFFWZVkAisVYGckx1BWprJGQDHUPjN2kmQYzFXZzjr8sKy9YGPTYOsjS+oFYx11coK/ZAsWUjjQrKyyC8RFfZDjLORgMlVQEVir56CDJVzC6jHxg6yjIrAY6wr7IGSoVRDP2QrqAyM20tnmhVzGPjbeUVdLKBl3tQGOoOM8BBkqAx8bzAzW9EoyAxjrCu3mAvxjMdTdEXGW1AXqDWTxjBxnhAyVWi6iKwrzDJGTSGyYtNuyPTUMhS7I+MMem3nG1oyGTzQ2dVhj0+EWm3mGQyEkVWqPTaFZWtYnT6RFTD02kyRbAY+u0KmJk2yM1OsVWUirmAZC93QMwjZgMjNmDqMeYVQGTa5MwdGwirMIDIrUi8RAE3F1BVZyEVBVlG4uqzlCqzkJVrKhDcXUJmyk08w/EQIB9QgHTYxcPM2ohjPIrxkyqdJqSSWLsKTXipOXh9GCnsmRcw2oVtFq7K0/MTVr1bJ4evJ68eLrWrLqDjLOUnzRHuvIXVYFVggLuKqDjLGIqUfmjcVXY3IVVYxjbRyhrG4vjLKtNg+MsMeyMbi2baGzVGLdAbjLXZzhxlvJWYg6xuMtVjaquyCsY6RKNxkrs6Q9Ji1ecMbjLVl1h46O0YtoN7pDcZFawZiDZGQyto5s28FVJiHsjcZOuoMpiH2huMlQtJChs7o3GSoKjHtCLkM5NVnLaYwJuMlWyPZ1GHUMuQy1ZfZCrm2TCwa2AzKMwDUDJV5oVVGPa5QAyNoYNXSMXiGwGTZGuyYdobAZGawG6jFVVyD7QGSpR12c5hDeAy1eEK94x8wAZKh12GIAMtdgmiUmNtoAjLVziqMYazKstWbWLSvSMfZADJUoVGPZDaAyVBpXpGPnADJxgV2GMAK4ywOMsJD1QMlQqvCRq5Q1qBkr3Q4yznMQ+yBXGCrJHT4AL4zzhcYQG9pAqsfGE7IvEBfGWhxlpAKBdfZFxnhJCoC6+yKskAKrK4yrdMYAVWFdpIBFV2hXaSPNzAOvKGm0kAKrtCu0kOoC+MtYVdpPUPaAbMKq3piDaArTaLjGEAFV2iqt6YgAdVoVWiAB1NshVaIOoB1W9MKrRawAesVVvMAAFVvTCoAAKu2OoWvkCo0DWAAAa1AAAAAAAAAADdAAABDAAAAABdQAMQBtADDqBhANtAVCABiAAwBiABiDxhSADEAbAMABgAAAAKAAAxEgUChUHiDYAkoMACQAoN0OokCgJKAAqAkCiR7wZQDZH1kgBQEgBXiAkA2okB9QCAAAeYQ8oVAIpdkkAKAkoAAVQZgHq5gAVXOAyShKGCGoh5Q2QDqEBQuoNoQFVElbJIDpEUSBQABQBSLrBgEBQEEj6xFUgSUSAFbQBqF4wDaGAvGAwBV8CgAbxJVPhCkCQKpClgAKreYKewOnsAIA1sFLABJWbnyg2lgF4hFUsFPOBI9kdPhHT4AJ18gVKFI6W80CR+qFNrcgU5tDAGUNoRVPhYCSt4KeYVNjGQh1cwU9rZGBPWBVIqQF1gNqQWkBBu0jbRzA1ICAKbOceUBAPzQygJfAPKIAHqqCqrlEADqs5Q8YZg2QEbC5U428Jeyr9sU+DeN1hmGjXnLturU3zKcVXXaLlpx7nM4jPzgr2rsZWUiqptJPGo2aw8V6jrZeoetmH5qDPeeOW6DLbzj1ryhq6JRNPNnHsqV2g9DyQJFsl6qdkN7LQBGyMpfJDUBOsNZWqmoG0ctikC2RNtF5OiKlMu2BIbugyC1NyqULaEVqHSisBAehslZOdgpQCagK1cg6QIUKqS6SdFhAvEBeqkWiztlCEPUOlAF5Qt7UNqeYKalAWyPx+UFNnMFNlIC1gPVVlK2QIHsqFNnpD1AT4h+SHRzAAeSIumzltJ0WAKrwhq5hhTZlsAW0OoAp8ICAumxW0MLRYBPSDa3iycvMAhlal5RZatQCXaDtD1VbThk5qwEIuqzmFosAnWBWoNQCDZKyE6ugAhj1Bq6NQCDtD1DAnzQDTYUBID1DVuewCQHV4Qq5gJHTbzhWVUBNIesVUG1rAgB1ZdQVAIKRj02gIRWm0bNV5oE0iHVmCoBaLQMqsvFRLGTM1NMTomNmzagEBVVvoiqy6AEGsdXOFVoCAdQVWhCpAesAEGthtpCpqtoBaLR02hUCsAqbW3Qpt6A6gqAKbQ0W9sKgqAKbQ4tgqDWAU2qFNoVCqAdNotFoAAax0i3QAKQ0WjqEAUjVbW1C1h4wHSFOXaQQAOnKFIgAdIqe2FQVAGhemFNQBVmAKe2PR2xBUAU9sNC9MAAdK9IWhemHjEA9C9MNC9MW7oA0HoXphq6Qqg2gHqDVzAICmp2RahAA9W0GoQAPUGoQAPUGoQAPUAgqAeoWoKgAeoNVIqrKV9YKuYB6haiQArUOqwVQbQBqDUSAFVWdAa6OjVUTUIC9XJSGrokABWoNTbpIAVVVuhVZ0CQArVy0hVZ0CQAqqzoBl6BIBhVVnQCqzmJHUA6rOgHmkgBXmjq7BABtTN2Qqs6BIZQKqCrsEgBVXZQKuygqhAVV2Aq8KkgBVWbZCvskj3QHUFVJIAXxgqvtQSPrAfGeQFTEgBSt4AqJDe1AVVb2BVMIAKqCq3nFtCAqrnCpiR9QBUOrwkjUB1BVaot0QDqqHVmJACla0KraiQAqq3kCpiesAKqYWthABWsVVrBtBVzAOq3phV4SRrSA6mCq3piXRzhtAFQ9phbwgKqCrmFvCAdWYPEIeyAZgqEAFVC8YeIPGA6vLJBQAqpg6xbogKFqYQ6ucAYG8AlAB7obwVMIB7QVZhDqMhD9UXiDxAG6PZqFlAB5RAAAAKAAAAA9kTBtcoZgAAzBvAGYFEMB6ucFEBA+oQhgNTkOEEqnIj7VMNvaOOnKsGwLbYU09nZX59ZwXEuzVz0I9zkeyukNW0LWvKFNnMeO9J1rtah0+D1gXRzhvaj33jgN3VuhTYCtZUAAFI2AF8NgCBd3KA+u0KsusQbIBtF1VM1pBYEt1Aw97KJQCnLoDsgwMwAHklC8QBqHVZ0w1Ui6wFSULeF5QU/EDeAQBD1CqAGawAq5yiB1FFbTCZeYVXMHZAojUwwApmqbST7QabAqAAUPKFUA+yAb3kgAdoG2RD8oCiQ02BpsAB6iah1ekAdkNoO0AD6xCCoCt7aF5Qqu2G9oAdVILsgvhEvhAZRNWYVQD6rQEGsBhzibSFXOA9YCq5gZgHzALrDrAYC3eyADXwAKoNoBh5RI/NAfRAQbIBs8o+YlWpABgFXMIB1ZvKAXiCoBj2iag1AUIQAMKhAEPVzhqEAAZ4TQOKayJWzNsmCoAGrWKoeMQAPxgIAH4gqEAAwAADAgqrwAMBeMKgGAg1qA9QCqDxgOoQVEgVuj3iagqAqoQEgWLqFVSICgFUICusBVCAoA9kkCgFUICi2dOKVLISKytmiV7RiACgqJACg8RI8wDqDVSKoRoUSOoQFEgAAUTUADqH4yagAACoAHlEAAAAAFEhUCgABUFQAAAAAAVAACHUAAAAPaEAAAAAAAVCAYAABUFQE1AVUAhVZQKAneGAwEMAqAQwABDAQAMAAnZKAOoKgEA2AQwABDAAAAAN4QwAAEA6gEMAAAAPEAboAA94VQAAAAAFQVAAAAAAAABvBVYAAA8otfKABtAAAA+sQAACGAAAAAAAAAAA+oQAABVzh4gbZ09IB9Yg6wAAADIeYQD2TQQBVzBUZAAAAAukAAMweMAygAAIB5gENgBtNWoADVyWgIbEtshtAMAH4wDeCkne1la94gMo9oW8G0FBzLCqNCkY1GVuO/VOHrniLYcku7TCkYdOVjq3XF2bbk5Ir1NoqzF02cholm40PtL2T6Id6xFpr3V6GY83F33C9ptYlbLr2Q1CpqbSe48c12dAdQU5QpzabADKuqkKfCGvnBtHIAaw6wDWza1AbLTyB2RVWKMAbRTlBQCm3nANFgagqbZBgDyQ2heMataAc4+sWakoBbw9qm0VXnC5wK2g67BaulSG6AqhbWsVWVQ8QD2hVcwNlFUBQ9bGMe8UXziqJqCrywKDUKrsCqAY6uYirnGrBFMwqiRsFVrFUSAFbobq2iqFUBVXMAvOCrZAYEhtAUrWc+yFXhJqDrAqpfNComq0F08oDqBWDeF4wLqFUTUARVQEgBQeImoPGBVQbXlEhtKA/EOonaCqoB1BVlErBUBVVQqiKigAfWImoC2YRNRVVIAOrwiEAx7PKSADAKgAAEAFVMJm9YBAVUFRIAVVUIQAMBABVQhAAx6uckAHUFQgAYE1DAYVCA0GFQhVGRQdYgAeYBAA6gJqGaDAQGQwqEADqAQgKyhUIAHUIANB1CAAGAhAUAgAdQVCABiADIZNQwNBVZRgADEIYDqCoQAMQgAYxCqAYqvCMQDGTTUukAGAgAYAAAAhdQFAIYAAg6gGAhgAE+MYDAQAMBAAxVAADAQtYFAIAGAgAYCABgIADxDEADABAMQAAwELqAoBAAwAAABAAwFvAAVDEADABAMBC3QKAQwABDABiFSBQhMADFvDAAAWUYAACAYAAC6xgAALrAYDEAAP1hCGAAAAAALe1gMAAAHtCABh1iABhtAIB+ICahmQ/MAQAA8otrWADAQAMKtoQAOrKBO7oGAALMMB1VcohUhTz2gHiDdGAC8YAq28wlW0B5SspNIKvgAPVKAmmkihsxWyFXgCrKBkgLa0VbbNo5QljQlVEVGp800lzyrvFWLTUqZjeRJp4i51pOjcy89ndto/Y1eyrXCpzbpVcPpekhCxUbaWryQaJBbs+UdR2nFKrF1Bu6Q3V0k73RPZeQbNaJYnOPUwZQHV4RVWcwUoCpYwBVzhV4QVbKtTBTZ0qQCodRNNnSDaAqr0QqFTtWhS3YAqrmpCoVFtOoVO7kAavs2Dq5yKbVUdIFt1i3tYmW3zmCm1W1gOrwgxNFo2W2oB1eAVQU2qJsoBVmEAFB4htl1CAIAAPGAZgzAAUZgAAgABAMKgEAqmKyiF4gK9kNkmoYDAQAA22hCYAyhuhsgBQgFmAKg2hgAAAgDrGAAAAAAAhgAvGMQDAAAAAQB4g6gDxgMBAAwEAAMQAAxAAwEADAQAAxAAwEAAAAAAAAMBC3QKAQAAxAAxbQAAxAAAAAaAADAQwEZAMQGgAAGQxAAAAAAAAAAAAAAAAAAAAABoAABkAABoAAAAAAAxAAAGUAABdYwAAAAAAAAACQKAAAAAkyKAANAAAAAAAACSgAAAAAAAAAAAAAAAAAWyMCQKAkoAAAAAAAAAAAAAAAAAAWkRQAAAAAAAAAAAAlWptFgaQGAAAAAAAAAAAAAAAAAAAAMQAHiGIAAAABiAAAPGAAMBAADAQDAnSMBgAgGAAAhiGAAIAGAt7WMAGujnELKZFauXaBfJJKUB0qDLlXRvbQ6uwMKnMIsQEjVbRqxWnsEEU+EKbedStXRHVZUBFNvpFaqVsppYKh1VVboEUsOlystQVgRSwU2trK2gqpbaygTTlqtHxdvL0i9Oaq0NNPIDFjpYplq5d0fGcwVVagJ4vLqFxZSsFWUgXF07wU5g1D2QIptVtBSrmXSUCrmDTkF3S1sKWVrNp82XdPpZnh8u6cchNbCaqG7r5JsYV6zUNNqqnpHSqUpZZO5TqR4vvrQyLZS236SHzpecCZbQ9Ct0WQ+lYaRM6eq51pRlF2MnGVhWLm3RcUpk089nrE7R6m7zcUKqVaekOizmUpVCm1drLSNzFPF2ctii4pC12bQ1+cXIxQ0OwOIRjJva/KCkpihoCC4hDNTY3aYXZJkYsfFJ26qg4hKi9pvtmFu+SVnFPEWLvAsAtsyldrtEyMWLuaynTUHEWc7F0+EBuieLso0WC4rLtGVswbuvdKMXEeEOI56i6jFHj2vUiecBjZs2pqlEz1cpjYN7SaRQyd0rxhAIW0UAASxW9otAADrDKAAIAASgy0jASjFtD2eUBVD3dYCbZAYAAE7pQAAAIYAAt7WFIDAXjGAhhTb0RbwAMKbeiKlgGIOLbolcVEb9qcCNooVD9FwofogAuuwvionRcOLiafwTgSBXFuTQ/RAYiqH6JND9EAAKWClgAYqcwtADAXiGAtYwAAABawGAAAAAAAALQAwFTaOkAABawGACptAYCptCm0BgFLBSwAAUjpt5AEAqbR0sAAOm3kFSwAAtA6QAApClgABU2jpYAAKWClgABU2jpNAAKRaDIYALQAwCkKQAApCkAAKQpAACkKQAApCkAAKcwtADAKQpAACkKQAApCkAAaqKkCSiqKmJp8AAAUhSAAFIU1ASUVSTSAElUhxYASVSFLABJVIUgSUVxZNLABJdNrMPi7egBjAum3oi4u0CSiqW6IU2gYwMlIU2gYyitHZJpAkopVtCi0CQKp5gp8JoSSVSVTaBjAqnmCkAAqm0KQMYGRVCm0CSTIqhxYGMDJxYU2gYwMlIUmRIFUhRaBIBTzFKoEi1l028toU+ECQKpDiwJAqmwKQJArix02qBAFUhSBIF084U9oDHoGXRbSKkCQL4sGhgY9Ay6bPRCmkCApYviw4u3kAxstqtotXMMyU21aRUhUBSWqhT4AMesdLF0jpAhlt6IqTJTUDAY6WCm2oyUipCIGXxYU9qkCGWnVaKjeMvF8wqWCsdOYKS6R0gRTbyDpKHSBipCljJvD6rAMdNvKKljKDL4QIptCkunmADFTlCky0i8QE0WhxeXTulUhs6wJp8O0FNpdNS6wAxj2SuLHTz2gJc3KPx7o9FhO02oADZUbLzh4mAgvZ1h6wbRAg8Q6agYBah6qg6+iLZXRYAeIKece0FICDe0jUAFTYHWG1ygAag9YA3QDWFXOHjFT5wUwqpGobREGsa6BKtqsXteSFXtLr2TJZTyLmMSLUZrWpVtPSOOTlitWsqYyQo8SEy0bO90THop8ka2Ze0cezeT59rk80fXbmLp8FbE9dJyuJLLl0eiPrtUYt7UoC3vKD1gGqgKr6wKtjBrbdDX0QHTVtbuUG8IU7Nu0DbQC2tW0G6G0pVNreaAtoGbNpDeCmooVXNtAPpUiUBq2XQA+q0VPpATE006LDDxL9Fz6qefeFslyZxfK0J95RLAfon10g2lTWRi+dYVvOo+K5zPssFObKZyMWDilXlUfFVGX1h62GRixcV4QZLOYytoq1BqNGzBxXPYo1gGWkNflEaxYuKtbXaouKsblUzeyOmxgzi+fi7V5FqqDi2Poy5tIauYps+emznUFh1bp9GryRaucGz5+Lt2qR0W9E+jUFVlINnz0dgKOwZw1jIxYFh2C4pj6G6w19EZGL5uLpHRb0T6VWptQ9bLqGRi+XieyFFPIp9DekKnMMjFgZLeiLimPo2QGRi+fi3Direi59DeG3zgGRiwcVaouKenZPoDeGRiwcW7BRbTvmdesWqrUMjFhoic9YcU5n106A2uQhiwcU/Sdi2SqnQrqyqWzeEYMWDimDin5f1zPSFIMWDiHXlDi7atkzhmBiwLCtBYFpnzADFg4q3ohxVvOZxa+UGLDxTBxTGfUo6bOQpswcVl05BcUxmbrCkZGLDxQcUxmqtZRmcjFh4q3ZsoCgy0gq2jIxYuKqDijLTaFNoyMWLiu0HFsZeLCkZGLFQLimMzLYKmw0bMfFZdoOKM1FvKFNlINmHi82i0KO0ZaLOcarYDZh4mwOKMlLBSwRj4qykawrC6RqoEcXZzk8TYZV01BTUBi4tQoMqqFFoGLi1Di7OUycWFLAY1h2D4tDJTaOmwGzFxVgcUhk1BqC7MfFoHFqZKRU+AiMfF2KGiwyU+EKQMdFnRCizomSlQpAx6LAos6JkpFoAhls6IGSkWgoigqmzoFC0ATosDRYUFNIEah6LCtAU2c4Ero5BaLCwAgC9AU5dIEBSXTSGyBHlBTzD0WhosAQUj0WDAkCxbOsCe0FJVIUgRSMdNQwJEXqqAIgdPMPUMCApLpF4gEKkqnmGBADVSgIAukkBAOmxQ5wEwFU5RgYwMlJNOYBUgMPGoCAdJVIGMfjGBRI9fMMNkCQK5hUgAhhTzECDxFUgBI6R5eYAEKkoKQJpGMKQJBeoeyMBAMAJVag3ivKCkBC80qkVIBT4A2gp8A6fCULe0gMOyAqQpGACDaGHZAQU2D8ooCApGFICpDZLptqqJ1gKkOsfaDmAWsNkeyH6oCbMFJXqhugTSHiGPrAnZGBQEsLWUyj2uQCQpK2QAkCqQpAnygUunmDdAimkCxATTziLE2gCaR0+aUo90CGUNkrqGwEamDsl6BU2sBK/rC2i1HrAin0RU+kZN0GXLoAjRYFJY/GBjp8IU209ktlsDQBFIU+AvdHmAx0+ENoyU2coUqBNIB4h0t5oEeLyQ1mSn6wl8BBCrUpfF+iw/ECrYBj1qoU1GSnwUC0AQq06qQZef1RrtFLmy9IKje0WipMmgFXn2QIpF1laLRdkBaLQZatZVNQtkBU81oDX1gAQDZeyOnMQIumxqbLRabFpMmnd3TGTYXwGSzKJal/WHYSTUV05RrTsqLZDa5PRMtJ1bNrUk7uiwyb2ommldg040atoGWxl3y6bOM007IMtvLSULUza94llsYyKuYKala3dqAx6LRU2c2yZaadVIlXMAgp5rCqbWHT2swE02tUFNJXiHvabQIpq1BxfaKZS1WkDFTZzBSW2Zh0lEU0qOnm6RdNvJsqwMuYgx9YFU2qKm1QFxdQt3UX2fWGBGvmE3pF+IKaWAmmroAq2cthVNIqeYBU5mJ1VVF0VAsMCFzahqtlS6VyqXTZzBSBFA1XzSqat0NX1gIy8vaHRZzjp8AUmwmWoVNnMWq2qFIE8XYFNJk8ROzr3QIZbAWGXSOmz+0BjZQpqMtNSk7PIBLLa3ILi/CVTzh1gT1BTZSVSFPPWBNIKmbQWKm3ogTSOmrdKoy6LRroXVSBjpsZtAcX4TJTZ0QAx006uiGiwyE72gwIGpdNO6LeAQqbOYrdCkCafCA9rkHssAtXRJpLpq5RMoCbMKnmK2dQbwGNiqfBtFawAmm2kYwNhU8+8KkrqHT4AI0WE0mQGUwJpDrtGFNPZAgoumneFTUBjAunzgpAn1RUl0h6psQBdIU2s3lARSLUxdNoaLAIpGUAEipLUAMY1UsKQI2hlU2gBNIiqfCIBAMAJp8AVMZOL8JIEgOkdICpFtFUhsqAvEKkdNIAIKR6wppAmm0YwpDBBTUOkAEA6ahMtIC2RhSFIAKnMUKkBUhSVSwUgTSFIwAmnwhlKpClgJpzBSVSKkBAVSFNIEhSVSBRNPgAqnLshSBOyFI6aR0gQBdIUgQGgqkKQJ0DHSOkCNAaClUKQJarmAqnnCnKEToAsmkBB12jpCkCPEMukVIEgXT4BUgSMdI2UCKQpLpDMBFNqi2lMlPOKlQFtLotEVSNVAgXWZOoYGMWi0vxjpAx0+EZQ94CAp5vOLp8AUgRs8oUlDpAikKSqR0gTTl0ipMgqagJ0AVSFIEi2SqR02AQFNlRVIUgQ2grQVSJlAmkZVPmhTzAQMreBl8IED2VK3h0gY6RlU5gZQJVReMvKCrbSUToCmpi6ahUgTTaGgumoGUCQpylU5gp2gJpqCnwlU0gBI/ENQpzASCrlKVRqvhAhvCFJdIUgRui9ounMPi8wEBT2C+LtqClgJZfCFOYqnwDpp5AIVRUmQmkCadntBSxa5WKp5gMdNgU5tRdPgUdNgGPxhTTqLZbBUgTTYMar4dlR02KBjZaeQKbG1mSkVOYCB7NRey3SFSBOUKcpVLBT4QJ3RGSnLqKpAxKKnKZKcw6ecgxamHmMlNQU9goiq1oa2W7K7Isxkpzat0nqsIIpHT5BVPh2RKoC3teZhjpClgJXQGuoaqPxgTtCp57SlXLoGy1KBHiFTZTqWkplDZCo8Yt3UZKbecVNvMBHWFNRkyhTzgTT4Q3i1UVOXVvEC9UpczFKtnNlKpqONpKlqCj18tJlpYvZCkN5aQ2pdDa1Gq28pTKjfqhqp0MBG8tlhNNRdObWDKzcm6bVDZlDU3nFsoU0tmAjNz7wU2cxWpt4yU2cvRDiQqryBveUOnwjVcwE020hTl0dIrq2Qpq7QCpy9ofj2hhTT7OUCdVQaytrWFFjcoEqvOHiylNoqHTY3LsgR490FWpfrFqvhMnVsgYFXwUBTZlM9NjcuZhMtgGGnKFFhbQ6c1gU5QIp5gVfCtReyKnKBPi9EVNK7RbbWsKPSAiq1h0lMvNYKmrVYBNPOOmptBQqbOWkCabV8oKc2i0sKc2k2Jp57A10jpt5wpqYCafAFJQNs6LQJppCmzmKpsqFTTymAa9u0mmznzF01ax00/VAin1QZbeiUq5gpzaTYnzRMthdOYVPZzAKmoRVPhCkBam5AVStrLYCrugTrFtF05dQbLGBjZamGWwUgY6WCkukKefZAx0lU1cpVNQU+aBFIqecyU9gKQMa6aSqaSgpsVQI4sGUtVH6oGGka7OoyaLQppAxtpCkycX4BUgRTm0BSXTUwU0gTTtAVTZyjZQMbKFPMMDYmlRspQ9RgQJtkunwhTYureNiKbPNCnmMlLC2QIpCkunMKkwIbaEZKecVJsTrURejN2Q18gCppXyRU5SqRgTSG6NVHSBH6wUqWKkCabecNBVPOFNIE+IKVKpt5hUsAtAqcxVIUgTSGsraCkCKcoUl08wU0gRSOnwlU5RbWoCaQMgAY9FhNJk0BTTr2QFSKkyC8YEUjZR00hoAmkKbOcqnwB5wE084NpGOnmDDHSFJdPgCkCafCKkyMotFgE02VdENRdNPIDLaBFNIi9YMuYoinnsDRaXSPQBipHSZGUNAGIDJTSGzqAxhSZNFgbQE02CpLppFSBIjJTSLnAVNQqaVLEBDKBYUgQFJWsdLbIEU+AKSwAikKWLpspACKSuLGFIEBSXSFIRFIqTJSHZAgKR7QAKnwip8Je8OkCKbKdQU29ArdHTzgY2W0dJWsdIGOkdJdIKoEbojJl5wpAjeAdIUgTuhT4CqRsoEUgZAp8AGNtodJYt0CddWkN4qnmGBjp7A94vnCkCKbAp5y2UFXMBFIF02cw6QIpFSXSNVAx6lCnnLpGygRSUq5R7QaLAFTtCp8JWsKQJp7YKpegKagMdI6fCWuYNRRj11Fcw6fOG21pAj9YVJkpUKcvRAx0hSZKagpzATSSW21qHTSBNIU1FqFKgR5I1XmKbTzBSoEqvgHoCm0dIE6haLC6cuneCnmtAikKc2i0um3NYFNtIEaLBqo9A1W1QI8oeiwqkKaeVQJpGNYYU21ATSFPgKp8IUgTTYwUlU5u0FPgAmkKfCXTl07QU+sBFPMCrzlUjZagJpUKdq0plFrq07wBSJlK6QN6NQE+INA+sa6AJppXSFNo6fAUBGpRN1leqNVsAimoKfCX12f2g6yCKRMttWrKZG2iKbV5QqF0qXTtWlU5iKQgH7Q6amJbqAimwalU5RMoVNNW8HiKbqEA/N/qkso9kbZdRBGUbK1Wga+YPXygTsrrL2R0tsj2WONot1eyVlJ1c49nX0jLSlzAq2cyjFlbymDbNTV9UltBdNOqxRU5te8GC/W6I1zdoao1Om0KbatBpE01LqzCZal0bxmJps58wELvW+kVrbV0S1WwOL5toox005gpMg2UDGq2cwU2U9IunLqGy08u8Bj0Dp2spVNtLWWsXm9ECGXshtL5w9S6rSvGBCrzU5eiVTavLtFCps5AJ2tQi1WrWKm37bwC1Ugu1rLptbkF4wJpsXX0RU1ai2UdPqgQq5dYqTLTmEy9nzjYmnmFlKZRASw6auQdNnMMCaQpzFM3hBtrQBFNtOoKaSqc2reDZUCWCkqnmtCm3LbYBAmXKZabGXUKnwAY6WCmkyUi2VASqTlKH6wEjp8A1UdPN6wGNl8AqbOW1ajJlFTaBNOUKShqttWkCKQp8BkpCmlQMdIqbKjJSOn6oEU2qxNNtXlGWmkKcuiwDFT4dodOUoAI1qw1LppBVAikC2Xwip84CNkNQ6R02sBPUIqnN0S10qBBNI/ZHTTygTTzBTSVT4A80CaLQ2eQdS1a2Lp8JgYqdodJkpCiw2ZMXZBl8BlZSdfIDJFIqecyUqMGTGNVHSo1X0QZIp8AaLDJT4donZ7IE0hT4StVQaAIpCnMXs6haqQFTl8kKSusG690CNFoaitQATSHUX4hU7QE72kWXoFU5gpXZAnx+sFJdIU29ACKbBF6h0gR1Cpq9EukNFgEbQLmLpqCmyryQJpzEmTmFs7wEiMlIqecDGy0jpUyAy89mYDFSMunmtCnmAgSqZKQp8IEBVtF084boGPqCnwl02DpsAx0+kMqmkdPYDDHSOkrq2RAKkVJQATTaBQ6bCjHSFJkZbApqAx9QyqaQVe0BPj2Q6h7WoGX1gJps5x0jVQpAVNgqSqQpAmkdJe6Sy284E+MTdZdImW0CdAaC2CkCaRMpYARoAukdOYCOvZF1FUlU+kBjpyhoMmUQEaApUrVSFIE6ApylU0hTYBOgNkqkpeoDGGgpvCwUhEhTTumTxip5gIZagos8ovXUKnnAmnnCm2kqnMDASq2+cGgukAIpt5A8ZdIU84EU8waCxMu9aBHiHTzl0sKnmAkNkre1jAjQBW0PL0wI0BTmLFTzgToBl2jJTUFNIEMtgdRQuoBU06rRU1cpdIU08oE02coxgqgTT4B05dZa6Q2WAx0gq2mRVCmrUURmGVTbmssCkCKbRU0sZKamBVIIpDd17xkpspEq1FGOnnHTmL1D6wMdNSqG6ZGXwhtNp2gMYU85kp8IU89gE9QqaeUtVtCmzksAikKctJk7IqbVAmn0RU8+6ZFW3mCn0QMajZcpVI+qwDGpS6Sm8oOLtpaoCGHvFeSC+ACesKfCVSFNQE085NNvlFtm5cpVIGKliqecpauYfF2rSBFNIU21afOKHTUBNNgqWKZcweqBjpH4y/NFTm0AKnwCKpHqbVSBjZSqeYpls5NpQzswE01NlCnnKp2dOX1QZe0BNNvLYKmrlLqs5LW+sJokOnTUBNOXTaKmnXulNFhr+2k8dD6SAVTm07QtknjYdX4VCuNhtrrAGW3nzBrq1Dp5wpy6QFqUKaeQbbI2WqnQBjp8KiymWladDC4vwEVj9YVNjLopL1UiZbau0BDLZU2nZBlzFU1No2h0060zMBFOXyhUl09gKQJp5t4W9oKVQIFotIVbOUyU9qoPNMthVGuyCrly7o6bGWreMonZHSFNOr0St7TbtBTpqyitUpVp1WdoNqlbNoy5H/9k=)"
      ],
      "metadata": {
        "id": "GlOb16nR2qqx"
      }
    },
    {
      "cell_type": "markdown",
      "source": [
        "![330319172_901142557794217_706263422519619639_n.jpg](data:image/jpeg;base64,/9j/4AAQSkZJRgABAQAAAQABAAD/4gHYSUNDX1BST0ZJTEUAAQEAAAHIbGNtcwIQAABtbnRyUkdCIFhZWiAH4gADABQACQAOAB1hY3NwTVNGVAAAAABzYXdzY3RybAAAAAAAAAAAAAAAAAAA9tYAAQAAAADTLWhhbmSdkQA9QICwPUB0LIGepSKOAAAAAAAAAAAAAAAAAAAAAAAAAAAAAAAAAAAAAAAAAAlkZXNjAAAA8AAAAF9jcHJ0AAABDAAAAAx3dHB0AAABGAAAABRyWFlaAAABLAAAABRnWFlaAAABQAAAABRiWFlaAAABVAAAABRyVFJDAAABaAAAAGBnVFJDAAABaAAAAGBiVFJDAAABaAAAAGBkZXNjAAAAAAAAAAV1UkdCAAAAAAAAAAAAAAAAdGV4dAAAAABDQzAAWFlaIAAAAAAAAPNUAAEAAAABFslYWVogAAAAAAAAb6AAADjyAAADj1hZWiAAAAAAAABilgAAt4kAABjaWFlaIAAAAAAAACSgAAAPhQAAtsRjdXJ2AAAAAAAAACoAAAB8APgBnAJ1A4MEyQZOCBIKGAxiDvQRzxT2GGocLiBDJKwpai5+M+s5sz/WRldNNlR2XBdkHWyGdVZ+jYgskjacq6eMstu+mcrH12Xkd/H5////2wBDAAQDAwQDAwQEBAQFBQQFBwsHBwYGBw4KCggLEA4RERAOEA8SFBoWEhMYEw8QFh8XGBsbHR0dERYgIh8cIhocHRz/2wBDAQUFBQcGBw0HBw0cEhASHBwcHBwcHBwcHBwcHBwcHBwcHBwcHBwcHBwcHBwcHBwcHBwcHBwcHBwcHBwcHBwcHBz/wAARCAYACAADASIAAhEBAxEB/8QAHQAAAgIDAQEBAAAAAAAAAAAAAAIBAwYHCAUECf/EAGwQAAECBAMEAwgJCg8OBAYBBQIAEgMEBSIGMkIHE1JiAXKCCBQVI5KistIRFhczQ1ORwvAhUVRjc5OUobHiGCQxNDZBREZVVmSBg5WjJSYnNTdFV2FlcXSEs/J1hcHTR6Sl0ePxZsPhKHa0/8QAGgEBAQEBAQEBAAAAAAAAAAAAAAIBAwQFBv/EAC4RAQACAQMDBAICAgICAwAAAAACEgMEEzIBIkIFERQzMVIVISNiNEFxciRDU//aAAwDAQACEQMRAD8A4UtUinKFETNJtoOQIhSwuBG6PgQI5S3SrBhEm72PgQfP1TRavpKTj5mI3ER1wIPnU9ZX7ghygm3B5WIKOUkNHMvp7zLN6aUpY1SXzGmt0q/vOI5WDIxS/wC9B8qF9Xg8/oanwcaKfIhfb3jFTeD3C14Il5/mpizOX3FTyH4tV95m5B8im1fV3mWUjDy03eYt9+BB8dqlfX3iP2TA8tWeDy+OAg66Dz8qCFfd3i4s/npu8edB5pWqV6XgwiuR4MIcpgg+AeFDSJff4MiH+YmGlGg8y1QvWKimX/YSrKlEJXegg85ulDeJeqNIilcIH5BI8EROfyCRTyLUMXr+Ci1AfkI8ERTyhH8gkHlMSt4l7PgGb0wT8gkvgWZ4I/3gkHlMQxet4BmPsaP94JN4Bj/Exx64Eg8dhIbpXtDQZn4mP5BeqrBw9OFllpov6AkHgsJDF7ntenNUGP8AeCS+1ya+Jj/eCQeLaoXu+1ye0y0194L1U/tXn/saa+8Eg8C5NzL3/arPfYc195L1Ue1eofYE194L1UKsfZ0IZ0L3vazPZe84/wB5JMOF577Dmi/oC9VSVY+1qa5ZAOF6hpkJr7wXqqfavUMpScftgXqoMeahZH7Vajpk5r7wXqo9qtSy+DZov6AvVQY41HKsj9qdT/g2e+8kk9qVT+wJ77xE9VBj7eJM1e/7Vqr9gT33kvVU+1Wqj+4J77wXqoMfahe/7Varpps9+Cl6qb2nVj+DZ78FL1UGPIzL3/ahV9VNnvvBeqj2p1X+DZov6AkHgJWrIfalVf4NnvwUvVU+1Op6abPF/QF6qDHUN4lkXtQq/wDBs8P/ACpeqo9qtT/g2e+8l6qDHmtRyrI/ahWSy02eL/lYnqoLCFZ/g2eHrypeqgxxqOVZF7U6uf8Am2eL+gL1U/tMrRXDR54upAL1UGOJhElkntOrP8Dz33kvVR7UK1/A9R/BS9VFVY21DRWR+06uFb4HqP4LE9VT7TK4N3geo/gsT1USx1qVqyX2nVp1tHnvwWJ6qj2l1r+B6j+CxPVQY1uyUFmWS+0yuFlo9R/BYnqpfaTXtVHqP4KXqoMaJDVkvtHxAX+Z6iX/ACsT1UDgbEH8CVH8FieqqKsaalWT+0bEH8CVUf8AlYnqqPaXXv4HqP4LE9VCrG2oasnHAuIS97olRL/lS9VMWAMSjd4Bqg/8qXqolizU31FlHtCxH/ANU/Aonqo9z7Ef8A1H8FL1UUxcRJNqyLJvaBif+Aap+Cl6qsHAGJsvteqP3gvVUjFWoaTVlXtAxP8Axeqv4KXqo9zzFH8Xqp94JBiwuRlWVDs+xNpw9VPwUk3ud4oH/MNU/BS9VLDFGoWV+57if+L1R/BS9VHuc4qK4sPVT8FieqlhihC1Ksv9znFX8W6r+Ckl9zXFn8Xqr+CxEsMUStWX+5pi8cuG6p+CkrB2aYu/i3VPwUksMOUNuWZ+5li/+LdV/BSS+5hi8v3t1T8FL1UsMOMRyqWrMPcwxj/Fusfgpeqm9yvGZZcMVj8FJLDC29KGtWae5TjP+LFY/BYiYdk2NC/exVPwUksMHTNWbe5NjL+LFV/BST+5FjbThWsfgpJYYM0hStWejsixsX72Kx+Ckgdj+ONOFap+CklirBGoaKz33HcefxVrH4KSs9xjH/8AFKsfgpJYq18Ioatge4tj7+KtU/BSVnuI7Qiy4Pqn3gksVa7ahq2N7iO0Ic2D6x+Ckp9w/aCX70qx+CklirXDSFDVssdhu0QsuD63+Ckj3BtpBXDgysfgpJYq1o1Rctme4RtGylg+sW/aCTe4DtIK4cGVv7wSWKtZNQtn/oftpY5sGVX7wSce582lRf3n1T7wSWKtWkhq2t+h42lnlwfVPvBJf0Oe03+J9U+8JYq1W1yZq2v+hz2n/wAT6p94R+hu2nl+8+o/eEsValtUtW2/0Nm1Ef3mVHyFaPc07Uiy4MqPYBLFWn2akNW4i7l7aod3tPqPbBN+hg2sfxSni7CWKtNtQ1bn/Qt7WNOD55L+hZ2sjmwfPealirTTUNW6f0K+1jVhKe8sU/6FXap/FKaLyfWSxVpNqGit4D3KG1nMOD5oe2PrI/Ql7Wj/AHpR+2cP1ksVaO3Shq3r+hJ2t6sKxPv4+smHuRtrP8VT+/w/WSxVopvSp3S3t+hG2rF+9g/v4+snDuRNrJfvbb/zUP1ksVaDamEblv4O492sl+9sPwqH6yb9B7tYHNh4B/5qH6yWKtAtVfVXQo9xztUL/MID152H6yP0G21b+BJX8Kh+slirnpqGXLon9BjtSL/NUj+Gw1I9xjtW/g2S/DYfrJYq523SkhXRQ9xjtR1SEj+Gw/WVg9xftR0ydOHrzsP1ksVc4iKGrpEe4o2nlmlqP+Gw/WVn6CbaYX7mpf8AWEP1ksVc1NQ1dMfoJNpbf8yD16gKb9BDtI+tRPw2GlirmVqGrpse4i2kFmmaCPXnRTD3D+0PVOUT8NFLFXMTUNXTo9w/j8id35QPwr81XfoH8e6qrh0evNEXzUsVcu7rpUFCXUg9w7jov88YdH/mvzVcPcO44/h7Dv38vVSxVyqMJTumrqj9A7jP4SvYdH/mi9VXB3DWLCH9kmHX/dy9VLFXJ+7JMMIl1gHcNYsH98mHfv8AE9VP+gdxN8JiTDo/08T/ANtLDkxpCjdLrMe4axH/ABqw75cT1Vb+gYxC67FVA/tPVSw5H3SN0uvIXcMVrVjCif2nqp/0DVX1YzoH3iJ6qWHIG66VO7JrV2B+gaqBfv2on3iN6qb9A1OasbUf7xEU2HHjECC7F/QOTf8AHml/gsb1U49w4WrHMj2JKIlirjndJdwTl2aPcNBmLHMr2JKIrP0DkDMWPIH9XxEsOMN0q90u1f0EMnqxyHYp5esge4fpurHIf1WXrKrDi1qGrtX9BDSh/fz5FL/OTD3ElHHNjaOz/wAP/wDyJYcTbp2VTuuldtj3E1B/jtNF/wCVj/7is/QTYe1Yzmi6lLH/ANxLDh44SO913GPcUYb1YwqPYp4/+4m/QWYU1Ywqn9Xj/wC4psVcM7tDeJd1j3FuEBH9mFYL/koY/OU/oMcHfxtrH4LD9ZVYq4T3aN2u7v0GmB2NLENb+8QxVg9xzgIf3w1vyIamyquDd2jdaV3n+g92faq9X/Igpg7kDZ5/D1fLsQfVSxVwVu0pCu/B7kTZvlKq4i8uD6qP0JezKFaVSxL5cH1UsVcDjAJNuC1Au+P0J2zV365xEXXjwx+arP0KWzD47Epf81D/APbSxVwFulO64V39+hX2Yhrr5f8AOj/7an9C5swG5lfL/nRH/wDppulX5/7guBG4LnX6BfoYNmQ3FLVv+sP/AMan9DPswy94Vsv/ADD/APGlir8/e9jU96xF+gf6GrZaOam1sv8AzQv/AG0w9zZst1Ueqf1oX/tpYq/PjcHwI3BL9Cf0OeykbRolU/rQvVTfoc9lA/5hqJf+aRPVSxV+e3esXgS97HwL9DB7nzZS23D01/WEQlZ+h/2U6sMRy/8AMIyWKvzz7zLgNHeZjcxfoZ7geyscuFYnU8IRvWTe4bstH96X/wBQjeslir87+9j4Ed5xNIGv0THYfstL954dudjesl9xbZgP7zIDP+Kjeslir88O8YnBER3nE4DX6I+43syhZcGSv3+N6yB2O7NBy4Gkfv8AG9ZLFX54d5xeBAyMV1oGv0N9yLZu63BNL8uN6yvHZTs5b+wml+XE9ZLFX51+D4uoDR4Pj/Er9ES2YbPoWTAdLLsRPWTwtm+AGu9odE6hgXrJYq/OvwZMloU+DIvAv0V9znAP8Q6AX9CXrI9zzAenBFAH/lfzk3Sr86PBsz8Sp8FReBfov7n2BdWCKB+C/nJxwLgccuCcO/gSbhV+cw0yPlEFBUyKGYF+jXtMwZqwZh38CUjhDCQ5cH0D8CFVYq/OTwfE0pSp8Vfo77U8I5vafQPwIUDhrDA5cJUD8ChpZL84u8S5EeDyzPX6O+A8PDlwxQP6vh+qmGkUMcuGKAP/AJfD9VLD84PB5Znh5abvEsxGHlr9IfBVG04eon9Xw/VS+DKQPveHqJ/V8P1UsPzeKn/bg8tN4O+3B98X6QeD6cJf4kon9XwfVTFJ07+BKP8A1fB9VLD83fBxcYKRpn24PLX6QbiRzeCqX+BQ/VUj3sNo02l/gUP1Usp+b3gznhpvBhcYL9IPEfYFO/BYfqqN7A+w5HsSsP1Usl+cA0zhME3gwuMCX6OFHhDaMnK/eIfqo34utlpUP6CH6qWH5x+DOcBS+DOeGv0g75L4mV+8D6qjvwh0QB6gD6qWH5xeCj41PgguNfo74Qi8nkD6qQpwiNwgD+oPqpYfnJ4FPj8wkeBz4/MX6MFMxeAB7A+qq+/IrbmeQPqpYfnX4Fil/wBhI8Cxx/7CX6LeEI4C0cnUFKFTmczw8gfVQfnX4Fj8B+QSPAcyWg/IJfomVTmeMPIH1UvhGa4/MFLD87vAM38TH8gk3gGb+Jj/AHgvVX6I+EJlue/qCq/CE23P5gop+eXtcnfiY/3gvVR7Xpz7Gj/eCX6GFUJt1po7+j6jQfnl7Xpz7Gj/AHkvVUjh6e0y0f7wS/Qrv6Z40vhCOPwyD8+Pa1PF+5o/3gvVQWGp4f3HHt+0Ev0FOoTJZjS9/R250H58+1ye0yc194L1Ue16ofYc194L1V+gfhOZbnS+EI+k0H5+e1ypfYc194JHgGoZu85r7wS/QHv+Z41Az0zqNB+f5YenizS0f7ySj2vTzrZaP5BLv/v6LqPzBSlPR+PzBVDgH2vVD7Gj+QSjwDPapaP2wXfnf0f6AKUp6K11nkD6qDgPwDPaZaP5BJfAc99jH5BLvrvyKWZnkCp78it0eQKJa+hbEcBD/mqa+/krR2LYCH/M81+Gks26qZqDCvcbwAP+ZI/4bEVw7IsBDaNB/wDmonrLMuqoQYmOyLZ9lLDbv+aiK0dlOz4bfaxA7ceJ6yyoFKkYz7leANOGIHlxPWTDswwGOXDEr5cT1lkrCTDagx6Hs3wONw4Sp3nesr4Wz7BQi32pUtna9Ze/9VMg8P2gYMzQ8K0sewXrJgwPhJ1uGKX94XuXIQeIODMK/wAWKP25UVZ7ScJ/xVonYkhXrCJKwRLMg8yFhPC8IWjhij/gQpxwvhjKOGKOP/KivUtQ1UPgHDmHBH9jFH/AhTe17Dg/vYon4FD9VfcmFB8ngWg6cPUf8Ch+qrhotBd+x6j9fvKH6qvG1OJFpQVeDKQNsOg0f8Ch+qm8GUb+AaP+BQy+anEeJOgq8H0p/wDiSl/gUP1UwyNMHLR6WP8AyUP1VcLRTNFAne1PHLR6X+BQ/VTDAk3frCnfgUP1UIFSLN1KOb3hTrf5LD9VOPew3BIU78Fh+qkaKZ1qBv0t9hyP3gfVU72E5wy0r94H1UiGoLRjwj/ccr94H1U4zQjllpUf6AV8w8SYEH0lHhxLe9pX7wKN5Czd5yv3gVSobcZIPp75IWeJgM+4D6qYahEH4GV+8CvnQKD6u/ovBA8gVI1CPwQPIFfImFB9PhCLyeQrRqcXLuYB9gV8OZGVB6HhCONwhA8hHhWb1GHkL5Uu7JB6HhWb44fkI8LzIEbT8xfC1DUH3nVZksyPCEVjbPIXwjbaghc9B9w1CZa2xMNVmXZ18PMm02oPu8MTmZ6UqvNca+JCD7fC818cnKrzmUjXxN1IaOpSPqKpzRXEaBqcyI3RnL5LRyqG6kU+zwvMiThNvbV/hqoN9+N/XXnNTig9DwxOFaUY7udHhOczDMm9ee3iTCg9DwrON9+Mu2lGqzmqMvjaKnQg+6FVZobhjGPbV3hecs8cflry+VWAg9HwvOZd8gqxUPsk156ZqD7Sq85pmT8tQFXnrP0ya+NWIPsGoTRZoxv65JvCs4OWZO1fICCzoPtOqzhW98n5ar8Kz3x0Ty18eZCD7vC88GaZNL4XnLB3x+WS+Nokmag+4arPELd8anwvPX/pk/LJfDuminWD7fDE99kxPLJKNVnPsmP5ZL4WkrBEvJQej4XnMxRjf1yTDXKh9kn5ZL4NKgeVB6BVeeLNMn5ZI8Kzg5Yx+WvjQg+7w1OOumTLtphr0822Mflr4Woa5B9/hqeK7fH5aAq89pmTHtkvjEWIb56D0PC9QbdMx/LJBVieylMn5a+ESIrlKD0PC85Y6ZPy1HhWb+OiL4CF3IrGaVFxaVVnHfrk/LSFU5rLvjVZClLhYrH0jUppvvyjwlOfHGqGlpSkJNUNfT4SmvjoibwlPZRjH5a+QnOS3akH1+FZ4bt8flq0arOapk+o9fHzJ2oLxqU2Xwxv66BqU2VpTJkznXytbcjUl1Pr7/m2+/RPLR4Um/jj8tfKKOZLj7Rqs98cflp/CU19kn5ZL4dNqZpIl93hWa+OPyyTeEpv46P5ZL41IIPt8JTebfH5ZJ/Cs81vfkfyyXwi5WNQfV4TnCu75PyyR4QmnWzMfyyXzChmpB9Y1OeD90x/LJHhOc+yY3lkvmItSVB9JVCcIf1zH8sk3hOc+yT8sl82lHWQfd4VnHfrk/LTDU5t365PyyXwirBygg+rwnOGP65Py0pTk2Qt75NUBlQaD6e/pkcsY/LR39Mu9+Py183WTdVBaM5Mj+6YiCnJnLvonlqppKWiSlS7vyP8cflpyno/xxj21QzUjlVJXd8x/jjHtko75j/HH5aqEbk3VQP3zHIffj85QUeKd2+ieWSrahqlSzexHXGflpd7EzEcRLwO1JkBv43HETb+JxpWoagtKOXHlUPLMlIbkwiqSrclJ2o0ybtqVFFyM1qa3UjUgVMOZMoYgUuVTbqQobwog29d2VG9LShCLK8uPMjtpkpCgV5Znoy/96ZDUCvJNd/rRcjrIFuHKg3ZnpushEK3lzpnFxpUzlYCjlxmhxajSo7aAIrc6hxCm0qpBLivIuyCVzrr0wKdLUEiRcZp3ESq1p1jSFFJLvS50zRyqFKkFFicaqNzgVr0iA1JesmQiFZE3LqQ11xZ0yHCKLL060ERIfclJACKLdKVCCPNTCenhQ1LcgCyKsjTpLsqCLfJRagnIQDrWpX6RQVqVyAcSCK1qEuXnQKRJHp1LRQKTdJqoiVtyXo1oFdwqCK1qEEgrilc1K5WakqBMyHcJo6qGu0IFJwa0FcnJRyqkqRJwpIoxItoxm9hWtucgeJBUhrLVZF5QVbXWkgVQ1NckEUEE5LcrWpUCcqQle0VSQoEa5CZqGoFSptTUpZbbkC3f9iTqp9TUEJdhBSptTNakVqCVSxHG40CJUwiLbUNRCsnJD0K0wcq90Jk5BFyLlJCgsyBMyXrJmtVcVxlabWosaEWpmJSFiCGuFqrcrlWQuK5ahW1KrENQKhtqbKlQIxKxOoEdSBWJSy86ZiVrbRQVXP4UdZWkKghVCtFr0M0piG1AqVqYXEhAmpKRcickmZAr0l3BYntSk5AnMlTIQVpcuZMlJAqEyVUINQpbkSmghKgkcyBW9CUlYq9NqBkyEIkyEablLEAI2psyhMgm5MLnKEzUDCmHmS8yYcyJMpFxKBTIpI8qlTrUoJHmUoQiSGLuZX2kgSJqEBzKxCkR1IpKkEApQCsHhSpmkiSpk1yNKlQTIUtuQDEXKVF2UkEqMyLdKsYghClzsykQJAJncKhylACmyoQgBQ1M1FyBnJkojcpBBCnMpTIBSI6kMTDyoIU8qhPqQIpyoEbVKAcgh4kZkKQdZDrUChFJtUarkKxpNQNahDUZUA1WJG3JmkOVBKE7U9ooFtam6qVA8yBuqmEsiXM9Pa5Az02S5DbVKBVDNQptCZiCsRehpJ07VgpyqxoqRTCggQchouTphQLlTZSQ1DM5IGEtSlokoTIIyqzWoUdVBKEKCG1SJTt4UisFACrErUyAQ1KrECkKrX0ZkrVjVRcylM3oTM1IKWaUwpiFKpUPqoc7rpmo0oF5UqYhJGq5ACKsSphQSCa1AKUEgpUdVSgnlUEpajrIFYnErWpSFyYeIkBmFAk0U2VLlG1BYzUnDIoUjblQOhSxSgVMhS3iQTlQgRTNQK5MV1qUXJkDOQi5CBhK1DiG5KIk5CBiSpkZkC3ITItQDrjajKobc3WpJAXKHaVLUNtQModajQoJAOcpEbkQhamYgqv18yZOxQgVFpJkqAai1CkuZAiExCjSgpuFliZyZCBWtTXNQl+qiCkXClViVAIcjlQ1AqlupS0kogSCcqjMTlHWTdVFhouUKScShAKq4tasLIjNcgrK5QpbpUIBCW4kzUCpSuTPaSGigVyPqIalagVQCch4VWgl2lDhFSoYgLtKOMkrbW5UzRG4UFbFGVOxKQ6kCEJJVYlQK1GZWJeZBWoyqScSAHizoKi5UrFY25VxYRELXoJStJPqazKlYgQh1ClJWELcqVqAtJRapalY0VSQq1YoIxG0rXIK9NylSxKxAObcSUhcmbc7iS5kFXKlaIq0uZQ0XXIKbiyg5MWZtiYnI1ZECOSJiFTyoESE7SrDVehBHWDKl1dVWKsuugrt/7EquJV9ZWoJG3OT5RS5UCoJpCpu4EW5UFLblFysSNcghLpTt1IBAhKshJXFaNqpLNxIglupKwVba5wqoiEQctWdJaScVBDqQIqyzK23Kqmogcyb1kqZBXc9uhLmViUkFbR6ylqlKgm5VkJalY3UhqCvQlK5WdVLmVCpooTmoQVkl6qsyilQLwJVYQqr5qA5lXa5WWtVZoISp28Si7SgrbwpWkrCzJUCN0pbiJOSVUFUMTqLdKCtihqfqpSagQlWQq7lFKgFPWR1kxcSJSk5U1qG8SCU7dSRWIBM1KrGokybMluFA5kUsTJBuToJ5eymtBL6adEhCGpkUbUrFWmEUSZMouG5MCKSmSimQMKCQOZwpkAZXWqR5kcqlqkSGRDEMFNaKA0KEyEAhMIpUD9ZLC1uQRJuqglCB5kzUAKZLyph4kE8qhOxSggE1pIuTN50AJE1TltQp5kEo5SRpahBHKnVasEbUAhqOZHMgEM1JkCpCt6EJusi0rUDDagbktqZtyKSPkprhJGZNaiTdVSKrViKFokozKbnXJhG5ArWldpVhIahAwqWkgRToI1pmJRFWXCgNKOZQpG5BLUcyYRQsAhMANQI2ggOZOxSmQIxMTUwi5DbkCiKZihCCR4kzRRpUqRDVBJkZUDfURlSphtQWChLcmyoFUt0qUIGHMghRmUt0rGkQLhJM1S3iQIlaKsQpUEvGJKR5k2tAiE7EvMghqkWqVIZkEqHW8SbrIaWlAXKeBRyp0Bc5MgUyBUJi5kNQKmG7roIdKEAN1qthZlWI3c6u6qBuVQhNyoI0oapFDeFANTZUzUN4kCs1JmoU9VBOpyFLEN1IB11yDUakIByNSNKBQDkyhiZhIA0oiSZ1ylAjXIYgbhcmz3IFzCmBA2jcpQQNuZAJmIYghCEII6yVidVxTGFCOIWkUQkeLQnUCTh3nK5Siwq8ysUcqBEqsQgrtJKrGihqBUqbKKLUQVLcNysual1XIsolxKbU+m5VxXNNqAzIQNotTII0pR5U+a1JcgRTyoKEaZrUFZqFYoIRQUlyqCAtSdiLUCNQ1qdijmFAqV1wCnLmUNuc9ANSkIpkEKCtTqU/VSoDU1VXuNXkmJB86m3UnVaCDUJkIKytQVykhEhaWRSgrSqxKgVUr6C4VSgghJKxNmtQ0UFbfIUEOlWJLRQS1yrJMIiI2g1DXKklVRQIRRwixAAo0LKf8AvV55LrlW0tSASkSZDbkCEPEkVhWi5Kgq6qOZMTkg8SBlXqanbwhmUE5BWhMhqCrKjqqS/pEqCDS2qwhHgVbeHIgquF6ExO1JWq1FTNQhtyCvKgsyHdpK2xyBlBCRIuUCgVJqtVhZ7tSr5SQSqyViXlJBWTkaUyXKtFaNTkxKNKBeslYm1pTRCEuq5TqchtqCEqlupDW3PQI3iSqxBeYgrahWNVZDwoIzJdOdSpdqQLpaqzTpCuyqhCW0WJzFtylB87lOpSWZK5AqVMSVAJU9yRArUrbU+tLyoESqxtqVAmcUcylqjmVBTSJyHSqzQQoLmUoK1BHWToQiQmUdZWXIIQ3IpapRI6qbrIR9RAzNKcRucoanG20kDZRuSvUpxzNQQIErEopkAmSqxtqCQTpVA3Iow8KYXKEw8RIGTIQgE/WUCKZqCG8KdRdmQ9SHUarUxcqGIAXdhSKltvYUIGSo0uTIK04lc7sqRuK5M0tKBsxOR1krU2YkDcCl6UdDU6CGkmdpStuVjeJBCkENttQIlmQM3so5lOZCAQmaRIagOZMmFBIFTNuQoJxE1SAeJSmTIFSkOoU9rUXccRAojcnUcybLmQLamyi3hUJ9LRQIrga1Ur6AzXIFTOSoG5BYKnMPCgbkzEUXjTqCy2qUEt8hOlFMgEzUZlYsCBrToUtuuQQ1MoYmbpQKwU6E7dSA5UcylCkQ1T1UCPEmJpIF4EZiTIagBTClTCgBHUmagUC5BNylCEAlamTIJEVKkFCxoUXZVY1HYQUt4U1qtzJSEiUqVp9SgQJMgUkEKsbxJhHUxBUI2pWK8hQgqanb0IahANQNxtG5NcKEAKcFVmVojvSagNagk48yXKKAYhiG3JtCABNc1AKUDI03ITCgYUI5UyBXNViruTIJBShSIvQSoK4mpm8SNXIgViGkSbMoQSxQpBSghiNCZqNKCEqfrKECqSFO1KQoJaoTJkQrQmQgFDVKEWQRTNUoQBC56QhJ2dSp1IgpDkUJlLUWU0vKpQgRoucgrUw8SlEKyG5S21qCHhQxBBZlLSQxOiyMSM0q5V6nIFQnNIgXKmaQpST9ZAhGTbUrkzUrbUCqblCNLkCoTKLhQKV1yhPzKECpdVqsUEOpAightamYpQUtaLXpk7ErdKCEKStyp0FJJG6VaTsyrJAmVFqstVSCW8SUh8hSoz9RArFGlWKtAKtqZxER2ZUxIKUJickyoK2xBe7UlIXK8uFVN1IFASH89QnJ2VSgrQSCtJz2tTC4hVJUtamS8pIQBBc5KmclQQxQo5iUoJta0kin00tooEK1Cl3EoQVk/gSt4gvViQrLkCt4gSk4SNXaVWaBEKWIYgq+jEpN1J9PIguZWpU1KY22qzjU8qCkrc2pHYUkOlQ1EAuZVsTMJGXMghIWdWMUItW0WouUsUNWoVpW2qxNci1LUqsIUvKgQnaQci4ORWpSG4EQTrJSFM3Sm6yCkhSaVbakJBXm1oTF1EXIK2qCzp/qpSFBWncLk1yrIWqhCrJycrrUrECXNdoStViVrUFaVWN4kuZBWoa1PcJKCEkCJU7FW1pdZBKUk55FCCtKVtyYnOtVZIJzikQhUIa5JaVysUNcghSCW0U6JQLU6jmUok3KhTcpQGW0kyEILeqjWlBWZUEJ/mqE9yCBTaUqsFBI8SZgqEyCOZG6TqWIoFwpxHzkou1K5AqZKI3KwUAOZMoEWp0CqR5UXJrSUgt1KVDEzUEemKm69ShANLKhMlQWCmSiOQU2VAKRHSpTIEEbjcmBShAKesgEwjaglyFFpigsqCRVjciUUw8KAa1MhCAUi7VzJHcKcEAaMqbQhtykDXIEdSZiGIIQmQSCLsqOqpQgjWmEdSLlCBhTZkouVgoBNpQhA4lpTNz8yrEtSszC1FDWmHhSjblT5kA1MIoEW5kw6FgBanG1Sn0IAWtSgma0lCB2i1DVOlqM1vmIIap0tTI5UANqZAoUhWpm8SYVPKgRCchdmRqaghqGp2I1oEUs1CpTjyoFYpTtapaLUCMUiKZCAamSiJJmqFhDUyGoBNpUiKYRQVNQ1WsJDWoK8xXJusmbqVZDwoJJSIl1UCLRVjECJWq3rIYgqaPlKWCmYmEUFIiSsEbbU6kc6CvrJidpTjcPWSGgXJlUqesmhOEbkCgmG1GpQgYVZ6arFWNuQMhSxAighqkXak3VBMCIQp5lCZFozCghUpkFadtqbUoQKp1KECgG5E7RUilQBIam+ohEBCEfUQNahqVCAEUNQ5DkA1K25xaFZmSoFEVBCTbVKYkWCS5kyOqiFaE2VKgCUWlmUoRYFCBURYsOBAjR4p7qDCEiIz0D0IhWb96Dd2zzk6wv3ZdnhXe22l3fb0pbZdnX8bad5aqsk2gzdtqG2LBS22bPBB3ttpXlrOZOagTcnBmoEYIstHF0KMGUx6UoqMk5UrFaSjrKVqwRajmQwkCtEcqgrlYlQJ1kiuUEVqCpvQgRudmQ5xNTEgVqUhViGuYSClRcrSVaBUJlLUFbXCma1Sp1IKWCla0lcRCAuJK65pB20C3KE9qG8SCrMlbxK5KSCtV5bVc1VtEkEZlWwlalQVqW6mKzlVfMKBbkhK0rkiBWqkihiQQyzxXNVzVWQiTCLTlQJc5qhXDbck0t4UCKLnJ0IEYlYrnKs8yCCAVW3oVpCi1zhBUkjRVZcKsJuVLyoK0qfmSlyoIUcqlQ61ArFBKblBIFLlSlbcmJVt8hAmrkSKwhd1+uqmlCNz3QVbDWotTEVvWQ5yCt3ClaIpnWqUFaVWKsnIBVqzrJbWNQKXCobncn5kjUCtchihCASEOpOoNaEK0QRpT5vXUIFIVWrEEi1bUJkqII1QQpusptQVKGiKdKgghFInYlYgRCYhQqFZCqyAlcq2DpQVXZVKk1CBDUqCFDmoI9NVtZarCVaBSFRpTk7SlQJzKFJcShAqEyVBWq8yuVfMgQuFIrGqDEhJUESp8qXS1BCdopRuzAm1okPTDlu6qUEw5USlNl5UJm3IJa25S0ko5c6sQQCdQCdBPMpFHVTCgLRtTNJybSp5UAxN1VKnTwooAm9NQrBtJAC2xCBTIGQKNKZAyFAJhbYpEKRHsqEyAFModxKUDEj6qOqmtcgUUyNKZtqCW2pujWlHm+nsJrUEJ9aXTamK1BCFbalLhQQIpm+QgUIBDSzMQNyZACKsahCAamScqsICcaCFIjagSFNysUg40MTNcm1IFahqLVLeJAqs3Tkqs4EFbeJCstS9VAkLMrVTuoUATOHa7MrxISFwoIJAlpTCNqECjblUjwphJNagATdbOla1N1lgkUwqGpxtRRhViQBdlVjbTcgBanU9VQgltqLQUqB5UEqRAXO1jao6ekryWjNs+3iq7KsRyFMk6VAnIMzA374y2MZS4ucskYcm9btKLtS5I/RjYg/i3I+cl/Ri4g/i3I+d6y6fHyI34OuxcQ5E7SXIY92PiAbfaxJfTtI/Rj4j/ixKpsZP1N+LrnKrBFcjQu7ErWvDcDsLKaV3Y9FjiEKq4enpUyzRgMSFTs5P1I54OkFFu8csQwdtZwZj22i1uAUz9jxvFF2XLNIotLhNcaOt0k1IntUkK1StOPKpFqZBWmVlulGpQFQjUmQM1RyqRy2pkFYimb5adiBFFmbahiZqlAlrUENqcUwoKriUiKuaOZ6m4EFbRUNERarkIK2oVjUNJBX9VVr6WKCFBS1CZvChAOSkmama8UFbUNtViGoKxuyoEXCmEU3KgBG5WMLgSDxKwRQLuk6EIhIiKZqOqpQDUqsSoAUyEZkWVCblQ64EQrQmQgYUvKmFCBXtFNpSlCEmFw3KwUCo+omu0pXIBCa5GVBWSE2lCBSytFAi0bkxcSNKARdpQjqoC7KlVgpWkgNLSzpUxIQK0iQPEhtyECrzcViPtTxC6/9ITH/TXqNJeXi2zCOIf/AA6Y9FVDknLxflNAl4JQMibpl4IaE0Dp8Qp6ehfooQjV8Gc5l6ZaBujaGlfqlgwRHA+GB4adB9FflkNoL9VcKA3CGHh4ZCD/ANNfL10e59fR8XoFcoKERFo+cmuUr572FahqZyEFaRifgRluQKhCnWiFbSypGalcoFyBEJ9ClFqW9KUuFWCJdZKQ2tQVtQmZdyJm8SClCZmlLcOZAqkiaNxp8opSijCuI2oDLajNlU8qLcyBWKExEkzIK2i5yhpOVvMpQUtStVyUgFBS1RpVr3EqicI2g5ArEpCrSSPQVsUNblT60pNagoJyGq1upS0UFO6F91yhqc+VA5UHzTMKOUAxljAZltpxsoICEYwAeYFGaLjDK5XpUEN0oNM3Sq3O0KkoIUpCnuaoLLcgpaTkpK7KSrJznIK1I8KfNcNyQRYgUuJDCUqSLhQUE5L1VbmSFagrRmTNVatgF3GlIkyECMUKxyUi4QQJcSVvEnUmgRUq5KgrQTU3nodxIKyEXKG6Vb1kqCo0GpJRnK1aDmSkKZrUcqCpBN0py5UiBUM1JkpFaiyt6EpJkORBSQSs5hSkgqK4VCe1VvQKQ2tUKcwpHMuLIgErWprXJSuYqC29hJa1OlQVFyobpTHbrRmYgTU1KreVISCvlSpkZSQI1qRWJSQIxK7p+hp1BoEJKScnJHKhWQpVZypUFalihT1UCi3rJnoHmRmuRKU2YkqZEmzJusl5UwuzIDSmQgRb1EFoKRSpxzOQSKsEVWIirEE5CTpRU5cyKOhSxSgEyEW6kBquVjmClTiPEgB5lKFOhSHQhCBiQpzKEAmdqFKpuQPqTXIFMgXqpwtuUCn02oFBNapQgEKbVKCbS5lKEZkAmQjMgGaUyNNqnqqRKMyZRmzKgZU6jMpUiOVWcqMqhBLVKVMgGpmtQhAwjkR1kyhokgQxIfSTNEbUzXWozXIF3W9Y4FWIxIAtG5fT7PIlbqQQpYi1OghvIma61SmWBVLWoap6yAVg5bkC5MLkDjrTpUyCWutUoamyoFG1NlTNR1kC9Irj3uvwIcZ4ePikyHzl2L0j9Rq5F7sOEQ13CUUdUvEHzl6dL9jx6zg5yI1WmL9pKvrvnGRcgU7ECCRJn/6lXlTIGgxCgRQiwjOFGHKYG0lvnZl3TtewqUGn4lA6xR8u+yx4I9bUtCeypH6hrhm08ZOkM04P0+wziOkYzo8GsUOcCckIuvUBcJDxL1V+cuzPanXNl1a8IUyMcWTL9dSJ+9Rh9ZfoDhDFtOx7hmTxBRjdJzQ3BqgxNQkvj5sMscn18WWM4vZViNKBXF0K1MmUaEEWpkyjj9lAApQncgXqqUJkWEO4UwpuqgEJkIFVe/hOaUzAtzA9fTBHx4L8xtos7PQdo2KoPf8APCEKfiCLI5cXWXo0+n3Xlz59p+mW9gaZmB9/FG/hD+6ZX7+K/Krv6d/hKe+/l6yYpuc3Zl4SnvvxL0S0MnLprIP1ZBpQwiQzcBZTDWobatY9zkRFsew8RGZG6JedxLaDF4ZvcMyVisYhilqghTZcydhI3SBGqBBqbdXJ0FaFObKm3BIFBSpYrG6kFIirOqma1QgVP1VCEQEyEIBMlc4mpmoA9bc6BTJeVAEgkElzWoJuUjbmQ1K1AzkIamEUDNQly5k7EENVelXKtAOFyZtyLUyCssqExXJWjegEv1VZy8KVArUyGpkC9VCbU5KgEqYkWkgUXNuzoTIRaOn9sV5GMv2E4kL/AGdMf9Nez0/trxMafsHxOX+zo3orpi5OWfi/KuWduQ6ooSybu9gVnT+qv0eLi/PTOIOtX6r4ctwrh5v2BL/9NflVC/UDrCv1bw9C3WGqCPDIQf8Apr5XqHJ9fR8H2JXcKsamXz3tUoFMhq1hUcyZqFAqLlRmUkKZqBGqEyhrkC2pcqdQOVyLQoLiTaFCBLiUNViTqoIIUvWT5UvVQQQ8iXU1P2GqWW2ggToP1lrba5topWyLwV4Sps9OeEXN72MbPY6y2UbiXKHdsH4zBnR9qieku2DHaVXnz5KQewXdnYV/ixWPLFV/o08Ol+9WqeWK47Pp6G2o9noX0vhY3h+ZJ3xst7oWlbVcVeAZGgz0mYwCjlGmDFv1Ft7KuLO48hu2qThcMhEXarLzFfNzRrKr6OKV42Bqs03Kg1xdVSVWJWtQKXXVZKwzalQVWpbb1YTh4PLVREI3RDsJAWkhGYmqW8KBDByVpOVjUuW1BSQlpUNbmVqrEWk1/loJJxZkrWqxyUiu4lSVVoqWu5kasl4oy3EgXqqpqtdwqGiJHxoKUEJEKsaho6UFQtFKUJWEOpKxBW0s3EkTt4UXLWKrkrS0q0hSN4g8wlQrchysbwgla3MgVBOTKC1oFLiSsJTyijLcggrkittBUkJIF6qTMr2C5pJWIEyEbUuZWtJRcQoKWkocWpWo5kFHWQ3VYnSxSaK0QJKshH6GrPOUIFSkKsSoK0EKZQXCgQib/wB6h3OnSoEJzkppyFFxZkFBpeqvoJqpIRQL1lEUrjJP21UQ3OVBSSkKbrKC5UCJCFWdtGtArS0qsuJWGlK7Mgq5UJy67QUNQJqSKYsUYQ3I6qA85ImQQiRtJAhqorVeQiqyG1UESpmpcqBUnYVpJUCo1OUOJqlEmam6qE1qAR1UKW8KJMCYeZFqlBNuVP6qrV2XKgEwoTIGTJLXJ0Ukbiz5dClQCfM8UA1N9VMPChAZVYlUsQHVTMUqW+QpEIUsUoGQ1AiOZM1AvAjS5MgUDJtKURTIJBA2iCNCYRQLpcrLnXakN4lPKSAUnoUESHXuQMKEdhHVQMjqoFCBh5k1yXKJplIFII1pgQNlUqR5k30vQQhqgWqRuuQNzISi3zVY200BmRqTNchBA3CpIeTMrEgIDU5SpYKCbmJAMUqATMWBeqrGoapERQRyphyqGqdSCEzdJIamG7zkAIpkJ2IAFaKRvmp2tQMm6qBRyoBKmTIoo6yXK3dmA08Hn92FdVNdauYO7PhOkMHx/tkQV6NL9jx6vg5VNyVN1kNX2HzHtYOpMHEGKqPSI8Y4UGfmhgGYaB6V1XOdxdSIceNDHFsd4l8S75y5g2eHuMe4Yify+D6S/TqofrwyXzdVmlGVX0dLihODj2vdxzU5aWdRq9Ano2kDDdektE402cYmwBOHArlKjwILrZkLoR9pfpdyr5qnTJOtSJyNVloE5JxbTgxgcuWPVSjydMumh4vyy3fClW79vmwyLs3mfDdFA4uGJor/AOTF06SWkOm/pcvqY8l4vmThRYJl0LbWwLarM7NMXwZaPGM8PVMmTUHSBcS1F0CnHptUZsdoqw5aTfqsTc8I3QSaQmGselC1B3M+PyxxgLwbOG+q0XxRPzHD0rcDWr4U41fb6SAuTqcoo5VIhHsKbiJorD8X7UcJYFH+7dYgQo3xIG4vNVRj1mmU4w5MvSlwiuZ653ZNBgRQh0Wjz04Gszy9lY7F7sypkToWGwZzxF0+Pk/Vy+TF17CcrRXJtO7swRiQe/8ADZjBddujdatp4X7pTAGKIoQhqUSnTJW7mbt85JYJRXHPGbcPVTCq4RwZyVCZlZmHFglcJgbhPtCrBXN1AkglIJt1vSaKlQlroodZfmVtVHdbUsZD/tGIu7prb1s8o1VmafPYhhwpyVilCigYaui1cG7SqnJ1raLiepU2Nv5CanCOFG4xX09DGUXydZKM5RqxP4RWfBGKRSGsV9Kce14sf5fod3M5DE2LUF2koi2rrXNGwPbHgfCuyuQo1arwSdSgR4j4Jh9dbJ/RB7NBZ/fIGduRfAyYpWfe6ZYtpW5lCiFFhTMCDHgHvYMcXifGPSpXF1TqUJkqBUym5TmQIKf2UomIektXF3RuzaHFOFFxCw4REBBuCzdCRhKXFylljBtX6iZao/RI7Lv4yQ/IJMXdKbLhuLE8P7ySrambsW0z5VHWVVNqMnWaPJ1WTjOkJqFv4UbS3iWqcd90lgfBMU4HROHUZ+Fmgyl3nJGEp8SWWMeTbHsqBPsrkme7tiIUf9J4VPc/bjuX3UXu1qa8BrOG5oLrzg8PSu3xcjl8mDqzMnWv8D7Z8D7Qi3FIrcMZz7GmPFEthFDIcy40pyd7XCMyEykKq1b0mLDIsguIlp6a7p3ZpAjxoEasGEaAZAXiCa7oVRhKXFMssYcm2kwrUH6KPZd/DMcv6Ekpd1NsuAT/ALsR/wAFJVs5Eb8W4xzNFRFXx4cqcpiWh02uU83Sc/CGLC6qx/He03CuzuW3tcqUCFGbbLhdFPsrnGMpqlOjKRVw9RcvVDu1qDDjmFNwxPTkHSZnulm2x/ujJbaziyNQBw3Hpx7jejGOOJD9RdpYZR7pJjljPi3dzKVAipXF1L7KTrKxvCsXxjj/AA1gCTOZr9VgSvDBzEfZVe1+KJSpyZKhcsYo7tOlwDjQMNUGPP8ADGmLVr2Z7sXHcUjKWkKdAAsrwcQLtHS5JOPyoO5U/MuEoHdg7QIXvsnTovYWe4Z7tcCiwYWJsPHKhqjSgOEPyrZaPJEhqYTdZa0MWGYH2s4Q2jQAiUOsQ++TzS0a2L5yzUhIcwXrz+zvYutBobxJsyxSEpC1WJCc1AhWpkkVsKEcSKYQoIi4jO0QFaOx73VWDsGxY0nT9/Wp+Fb4n3oC6y6RxylxcpZYQ5N6ex0pfZXDtV7sbGk8/wAH0qnSIadVq8iW7rbaFLRXRe8Y4cH0Fej4WRz+ZB3yvEx0bMAYqL/Z0b0Vz7gfuzaVU5qDKYspRyBl+6Ja4VvTFlYpuIdlGJ6nSpwJyQi0yM2NBPlUdMcoz7lZMsZ4pVflxLfraGntSSt0tB6qsX3ofh8OayF8H1hX6x0W3D1E/wCAl/RX5Oy3vsH7qPpL9ZaZbRaOPDJwfRXytdyfX0fBclJPumLmbFHdhyOHMTVWilhWPH8HRygb7fZ/YXhjjlLi9U8sYcnSmpBGIZjXKh927Ij+8+a/CvzVT+jagZoeEprtzQ+qunx8jl8mDrNGlYps0xmO0bA9NxKMmcn387xJm5nsLL153dTnYl5eFMMJi0btu7oOPscxDTaUFBCe78ld+RvbqaukYynxTky05N3EKjKuQy7t+cLLgmB9/VX6Nip5vaZK+WS6fEyOPy4Ow86jpWm9g+3Oc2xTlbgTNEgUwKdCErDc+5q3MS4zjXteiMro1JEyjSpWXpJmZBDdnWK422k4X2dyJzOIarAgRswy+aKfVFcuYy7seuT0eNCwrRwk5bKMzN3ROs1dsemlk4vPkzwg7JIbkrWi5fm9UNt20arvGbxVNsLQDR9FeQO0bGcAgiQ8T1ETG4TevR8CTh8yD9OhhHmIGqcq4Bwv3UG0TD0feTk4FYlrfEzYaeUl2hsox9C2pYHlsQjId4mcUoRQebo4V58mGWLk9WLLGbKjc4FyR3bB/wB0sH9BfERPSWZd0RtuxLsrxVTaZRZOnR4MzA3v6YAiXL+03avX9q85ITVcgyUA5GEUKEEoBCLe0vVpdPK1nj1We/awYv21H1FBIX1qvnuj+41hO2kViJw04l2Qfvrsi/NLZ7tNxDstqszU6AcDvmahbot8DhatiB3WG0s8p078FFfJzaWUsln0sWqhWrupQIk5xGtZdz5jqvbSMCzNYr8aAU4M4UIdyDbehbPawgXhlGr2RV5cqhW2pFK1ZKtXEKr6qCoYu95TVE5J9/SMzKb44W9Eh3wZg9lfUQpGIKJOBElpODAiRjjnCEROMesuJXKXpdaBbXOUXJkIFJLqcrFRChbgQETMuvrVJM0UvWU9tQTbL0A0Wqu1yt5khNQK21VNbanJxDaoG4rkFea4Xpk3YSkKClBCPArElq1ikhucmuJMWVKxBXuujgQXCSZiTdE78xBSQkLyEHAmhEMXKrlT3sHVPjC0lQYmtS9VG43ROEzIOBiChFxmxAaVXcWZXNb6KUhuQJ1lCs6oJCHUgruLKghTMQ3kQQkK5WdVKxAvMkJOQ6kmq00BmVeZXXIQUtuVa+jle1UQt5qtNaDKoTtEkpW60C9ZLbmTE5Sgr7aVt9wKxKgrJK1WdVKgqdwpeYVYTkiCDSEpuMOFSqFJ8qVtysLmStQVqLsydRcgrESC5KadCBCbqVRZVaxI1zCQVt4gTRc6sVaBUyEcyCo0pq49CrNBUSUbh6yuVbVQr+qlK3sq5VkgqIWkBcJKdLk3VQIokKzMl5VY1Ao+em0uQhEmTIT5UEoS3aVYgYeZWJRaptyoJTiShTaghWKLk+UUUYeVNqSjwpmkWVBOZNzCluzJgUhtbRUoUtQQmFHKmEOJANQghttTNRJdKZGppKR9VFHS5hap6ylAykbRSgmyoJQhNlQLdqQKYU2pBWrndKrTZlIZ1qZqVWIFuUt0ki5NlQGtMCXrJiLIgMykdYpuYUIGK1KhMgOVMWVyG9KZAOTIUZUEqdaXLcpWBkJLkwkWpA43PQIqBJSKBhRdqyIQgFYhAoGUCDVLUyCQUqBFWDcggRarEoqxFBMhSy1wokaFKFLECm5i5p7sqF/e3hWLoGZMV021c4d2PC/vEoJjkGe+au+n+x5dXxcfEgf202j+dVj+2vs9HzHu4SJuLMPROGfg+kv1DnPfOyvy0oUXdVylROGah+kv1KmvfYXVH0V8bW/Y+ro/qVG7Sna21AirV5nqeNiKgSmKKHUqLUAApOowigF/PlJfmXifD01hHEdVoE5+uadHKEfOOkl+pPSGolwn3WdFGlbVoM4H+c5OHFi9boXu0Mu6r5+sh5NHpgQmX1Xh6N49ytiYaDtUk5SKbJarQigFwu0ruonQyOGS/MnZ/PeDMcYbmvip+GfZcv07jmMWKcUdd3yr4eqj/kfX00uxR1VTOTsCny0aanJkIEnAB0WMegV9LVxP3S+2GPiKsxsHUiM2lSJNmooH78XCueHDLLKpnz7UX17YO6jqFZjxqPguMcnICRDFnmXRuquc5iLGn5k5mcjRJqZi5o0Y3Eq930Db0dKl3sL7ePDGD5M5znyWcqH/AOpKg2hlVpNvFBQ4cXMoQlVXZ7s92vYs2bzIRKVPnHkAPxsjGNwmPLwrufZXteoO1mnnEp/iKlAF0eRjZg6vEK/NyGXsL2sL4nquC65J1yizJwJ+WOxmUx4S5V4tRpbRtF6tPqq836kftK2ATYgdYVhmy3aFI7UsFyeIZUN1Ml4qclviYnQszgC6IHWFfL6PpSfmHtcgAO1fGYkGWoxliIWg0VnW2qEI7YMbO/hGIsFev0GHj0fAyGQjpQuqzbqEdxAreiAFlmofSSC7Sriy9sfSXnzcV6fm/UnC92E8Pf8AAQ/RXqWrxsHERYOw2X8gh+ivYX5/q+6EyEIgyVWJUEBcRCWQgL0V+UVTgQxrVWGID2TUQfOX6uwffejteivynrduIa5/xkb0l9PQeT5ev5Pi3EDTBBLFgQihGO5BT7KPZX06ReS7eGNu6CnZ7Z3hjBOHI0eRk5CQGFPxgtKMXCK0gJCJOzHxmou6UbtuZRjwwx/hk8s5/g7kO4lFvbUEuv8ATn/ZocTpgRwjwjiQIwZI0G0l1JsH7p6cps5LYcx1M99U2K0YFRPNLdbiFcrdPQrBuG69ebUaeOSL04dROM361vhxIQRoR72DFuAw1j0qWLlvuS9rcaqwPaFWI29jSoOp0Y8xj8WuqGr4mSNJVk+zGV1PSPiow/ai9FflDWIQeH6xZ+7InpL9X+nLG+5F6K/KSsf4/rDvs2P6S+h6fxk+drOTzjhBqBVxxh7o2hDyp+jp+qoIBIOjoX0pQeCE3bOIducLZNsKwHTaZuI+J56nDuA+JHiJca1eq1DENUjVOsThz0/HJxxo3zV88zNx5wgKZjRIpwoQwhfoHoyiqx6VwwaeON1yZrz9lvR+quge47/ysH/wcT5y586QvXQPcb/5WzH+Rl6JLlrvr6vRo/t6u7PZaluJSR2uXO/dS7ZY+BKLBw1RYwBW6tCLenqgwfWJfJxY92VX0MuSkLPJ2790+OHI8zhnB0SHHqom2PPZhg8TVxtV6lPV+eOeq8/HnpwicZxjcvmF3TmNxlmM9anpH2V93Dp444vj5cs5pyKDQClwrs4BM9Vb0SUrRdKzcWRmQjysY4EYcpwbSBdXbDu6nmRmZDDWOjApYmwIFU1f0i5J6Oj2OlWdA9BC0shrz5tPHI9On1E4/l+t59IdIhEhHDKDFBwmGUxVYLlruSNr0xVd9gWuTO9jQITqdGPWPRp7K6r3RARiVq+HkxyhKr7MZX7lQGvlqlTk6RT5mo1CZCVkJaFvYsY9A9C+xuRq467r7anFj1KDgSlTLZaEIxaizWWYRTBj3ZVRny0g1/tx7oGp7S6nGp9EjR5HDEAiEQA2lM8xcq0mICPS0VDmpl9/FhjDtfEnPcBEX10nsKz9u5DuhdfdNOqu0rSBZhgnajiPZ9T63S6ZG3tKrEAoEeUjZQdqHhJYfa600NUVhJnTc6FhDuhaOQVZ03KE3SuvRK6VHxksP20fSX6ySI/3KpX/AAsH0RX5OSX65lvuo+kv1llhIafIf8LD9EV8X1D7H2tH9S4bOhflrtOIi2lYsIT/AM4xF+pHRcTRX5Y7Qj3u0PFJ8VRiLp6f5OGu5RY70mR5lIKvp/UVg5Dbwr6U/wAPDD7H6LdzSLdiOGOqRLawLWHc4i3YlhUeKE75VtFi/O9X3+hcy4i7tWKRbRKGPDTv/wCou3S4lw13aJf4UqUI6KYPpL1aP7Hk13BzwRlpQBpTzoD9pfYfN6Or+4nEjnsYEP2PDDzl110XZlyZ3EQuiYzLhCGutehfB1H2SfcxcYq2rUO3jbdKbK6V3jIsmsTzg+Kg6ZcfjCWwcc4tlMC4TquIJ6yDIQniHHE0ivzIr+IZ7Fdan65U4xxZ+eIiMz0Dwiumk0+5L3k8uqz07YkrldqeJqrGqtZn489Px80aMeTlFee9Kp/3r7MYUfL3En0ocXTlTysvHnJkJeVgxI8YsoQQcSzmV2NY9noARZbDE8QFyKJZYxdY4ZzYLDNq7/7k2GXuKSDtU1GJcL1fC1YoMc4FVps1JmNvjgt8pd4dyl0CWw+jlmdFiekvn6yUZ1e3TQlBz/3Zpf4TaaHDICudehdCd2LEftUkB4ZCGufOmw17NPxePLzVmpTJV6ED2FaHRc1KAFFLxYGXUByu3EURP9LR/IXOc4ukIO4e5JFmyQy4qjE9Fbv6QtuWm+5UhFD2OywkDTOcjLch3dK+Dk5Psw4kScyZrrSUEOoVzWUkpWptSBzIKyVZKwriUXIKWuJDdKdTpQDFWasNQqSqdpUuUnkSdVAt30NVkrG9Kr3vEtYCJI9O7hUFlQV61CZI6789Aa0hCn6yXqoE5vVQnaN/Oot5PNQVkLvoKUlZmzMVZfTKghrrkvs8iclDEFbbUpN+gK7qqvdCVyoHVUZrlLWotQVNTJtKGigrahMy61LmeRIFalTELRStIhQKptyp2pCFArbUpCm0tYjWgrdpUqxVW6dKCG8KVuolbckWivTco1KSbqSlbdwoFUl1EaXCoQQVqUiTaEO4kFbeFQrEtyCkhSqxKgRiRW5UtqoUlxJCJWsSauqgX2edK1qZFrEFZO0oTEouQV5SPgS5rlY1wtFLeKBbkhJzUEKBWkSEZUpEKBUpIJCCouFHWTFwpesqEKswcrEtqBUITWokJnIahAWqxVpwRJrW22ot0oEiTNJBKYRJHKmQMpG5QKkSQMLhtTilU8qC3lTDmSwhcNyYeYEUZtqe5yAUqQvoJwSgnFAwjqRypvqJUAmy5UJmaUBwOTZRSocTmss40DFmapEUZUzEDGltykpSWtcgbQmcTUuZMLdOlAwuU5UNQgBEU3WQI23JlIVMIoTNFAKxJzKzmQsV6LkEJcas6qJFolxKVA2qRuRQyoQhBOlWqsXJhyoJHiUqHcKYRQA8RKVGhH0sQBXKFbbqQ8lgUWkmYRMTNT3NuQViKYeZM1DehAChGpvChqBtSsVYiSkS4kFqFA+iSs5UC607dJKGp+brIoNTZkM0phQGlS3iU6zTIlLFChou3j+wrUFZcy0D3YEJ2zSmxOGoiugCBq0T3W8DebJ4cTp+Cn4a66X7Hm1P1uJ0ZUftAlX3IvmPskCbPSRDpij6S/VMS3sKWLihD6Ir8qZeyLAPhMS85fqfKG6nU2JxSsP0V8fXcn1dHxfQ1qYRS8ysuXhelX0/qNXGXdomPt1wxDHOEmXpLs7pvJfn93T2IQxDtbnIcCMEWWp0IYAmH+u4h/mXs0Mf8jw6yTUKBTakL7TwPWw1fiCjdA5zmofpL9SDhbiHBEs+6ES8lfmhsypEWuY+w9IwLo0WcFfpxOk6Zicq+LrPsfT0v1NdbY8ae0LZ3WKvDPx263ULrHavze6TjTEWNMxzfGjlvYp8xLsTuzp+JCwbQZGGbQmpwt6HH7A2rjqH+r0L26PH22eDVZby9jGo3fs3KTXsYYocTE2IKVRoWecjjC+Ul7Mkqxs5wjuTo2Hsg2DVramRzI/pGjwjvmI2vqrqCkdyts7lZEIUz39NTI++m9r1tyg4elsJUOQocmADLSMIYVmstRL790REZL4WTUSlJ9aGCEIuX9oHcf02cgHMYMqRwpkR/Wk3r6pLkKq0eew/VJmmVKWOVnJY2xYJ6F+rZi0nLl/uw9nsKcoEhjiTCHCnJEhlZpmuH06iXp0uolasnl1Wn8ouO1IJRJ1ydfVeNvfuVMexMJ7QQoMzGbSq+O6MOCN0XCS7xZuo7mZV+U1InzplXps9CNsaWmocUT/3Ev1Ulp4anJy08OSchb8f518XVY65H1tNK8HOON+5Kh4zxnWMQDifcBU4+93JwHMLp6q5K2i4LPZ/jmsYcixt/wB4kPjuMekXL9SB6fqfVX5290vC9nblir+h/wCmvTo8kpSq8esxQjxao9n6ikOh6no6FAj9VfRlJ5Ojf2xrubQ2qYO8PeG+8DGOULcsWwi7igG/stDyCWY9x6QlsknB4J4lvQWtXw8maVpPswxxq+KkUzwLRabTBjb3vGAMB/H7C+4UIXB1MhCYVAEqYhLSjrIIhiO96zl+VWKRbiqvD/L43pL9WJe6OC/KzGAtxliQR/hGN6S+n6f5Pl6/k8f9pH7dqX9pN0ZV9SX4fP6MiwPgusY+xDLUWiy29mYpXHpgjxEuxsGdx1hOmSrsUTkepzhDcEE2iBL2e5U2fQMJbNJatGH91a748jMLgh6RW8mtXxNRqpSl2vtYtNCEGgsR9x/gCo08woxz1OnNMYzcuQNqeyev7J64EjV4O9k4vvE8HvUZfp4Q6lhe1fAEptIwLVaPMwYe+3RR5U9UGIAuFbp9RKMqyTnwRo/L9MoGEcJ8GKHjoREJfzKV9zo+N1e1hXEszg7EdKr0mcQY0hHGL2dS/U6lVAa1SKbU4XvM9AGOP86/JjpFwGJahX6RdzXVY9a2I4YjzNxwt5A7IFavjeoY+6z6+jl2VbN6RYJjyl6K/J/EVuJa8PDPxvSX6y9F3kkvycxFbievf8fG9JdfT/Jx13J5qEJsor6nXq+d06e77aHRqhiOry1Kpcsc1PzRtAAXWWCe4whlLBHxZWDhRsxS0uvu7jHAUCVoNVxtNQQOcmo/esq/RD6MxLpx5EvjajVSlKsX2dPpYQh3NAzPcbYJij4qq1GEr9knc6z2yjaVGrUKpQJyibgoQvti/V5VvpTrXjlmlONXqjCMSTU5Cp0jMzkf3mVhFFLq9C/LfaHi+a2gY5rdfmzMt/HIYQcEPoJor9C9u1ViUXY7jCbgneMmz5SEV+ZsERGGAr6Hp+PyfL1s+6pv20dP6qP21BubbnX1Zf08P/bYOyXZLWdrGI/B8iBwKbAunJvSA+su3cJdzNs7wvJhAm6V4WmdUxMn6Ir1dguBYGz7ZlRJSEH6cnoXfU1G4y6f/stkNXwM2plkk+7iwQhBqfFHc27N8S0w5aHRPB0bTGljJwLirbNsTq+yGrB0RTOaok0f6VnvmlzL9MegfZFYJtcwZAx/s9r1GmQf+lyjwD4IgXCr0+olGTlqdPGcLPy9QohCcJ8I88IyH5FPSvudP7fGerhuvzmFa9Ta5Im2Zp0cYtnDqFfqjQ6xAxHQ5Crypulp+AMcT/3ivydHKbl+jXc11WLVdi2G4kS45USlfkXyPUMfdZ9fQy7Ktj1apwqHSp+qRzhwoMnCKORnl+ovyprlamcS1+q1mbN8zPx4kUj/AN5L9F+6IqcSm7FsYx4ecoAgH85L82IY7qE1dPT4+Tz62fcjoR09Hs9KOnp9hXQ4RR4gQhzxSGEH89q+jOVI2eLHC/Y2nsS2HVPa7VY0QzOTw9K+/wA3xlwiu2sJ7BdnOE6eEsOHoE8eqNN3Ea9rZthCFgTAVEoMsG6OBAEovPE6biIllf8AqXwM2olkk+9ixQhFrPF+wPZ5iyU72KgwKceQY0paQLh3bNsequyKubiPvJqiTX61m+PlJfpYQrXG3bBktjbZXXpSODpmTgFNQD4CC5ddPqJRlVw1WKFbPzR6P1UvT+qolyIoV2hT0/qr7kXx32SH6+k/u8P0l+tEL9ZyQ8MCH6Ir8maY3whKfdYfpL9aOm2FK/cIf/TFfG9Q+x9rQ/UULYq/KvG/7NsSF/Loi/VToJpdZflLjMnYvxJ/x0T0l19P8nl1/J4xfqqzoyn1CVRfqpzdujLlJfTn+HkhzfpT3PAt2I4P/wCFWyVr3YG4di2DP+FWxLtK/N9X3uiorSXC3dlkJbVpAf8AZkNd2ablwV3YkV218Ojhp0FevQfY8Ou+toE1HQmLOl6F9p8rp+XYHcPAyFjMuaGurxG5cr9w9DLwLjOL9vgiuoY4xyYMLIRXL87m+2T9DHg5J7tHF5lM0HCUCMYQR/Tk0HHwrk5bd7p6pxKltprwvsloUOAPItRdC+xpsdcb4uaV5kidC9vCeGaljPEchQaQDp+eJo8nERLyfYXUvcWYZgTNexJiOIDo0hCGVgcj8yzVZNuDrp8Vpuh9mGx/D2ymmS0CUk4EesN8fUYwCRGXK5bCKemyyn6KrNLzL4d32KvgrlFpmJZM5OsSECelitZGAXdkl8mEMK07AtDCh0YDhU2ERFCA7mezcvdb0aTco+o5y33KvOnsPUWqx97UaJTpyM1r5mAJEuIu7Ep1PpW0Wky1MkJWUlu8BLdS4NH6pLuzpcFy4T7syL/hYlQ+KkYa9mjl3PDrODn81PQlU9GdfXeDo6n7jSRkZyaxhEmZCVmjhQoLd9Acz2SaurfBVF1UGlduVFcydxRCEZPG0Xp4oIrqTU4l8HNL/JJ9jFHtEKFAlYQQpaWgQIIubBggIj5qrzXZeRWClIB1LzuqtKrGDpSFzIsrErBVnVVZDwoEIXWqtqtIeFIgUhJCZpETUW36kQXMvmjtIXEbWr6WuuSEIATmA9WK22gPlKU/WSlma9AiHWtQSO2gUh1KsuJWlxJCQVRRcN2pK3TeSYuJKaA5SSk3qob5qlBHbUEn+mdKXkoELlVVrf8AtVqUmigRvF81LuhIbU7SscxLqagkhFLcma0nJWlqVBWfRiVpErCEuqlIUC9ZHYQLkZSQQQ8irX0KkuIUCtcKCG3IrMyryoC1tyVryQTsyGtuYgVo8Cgh0pizNFK1yBStQaCaoQRmUaVOVGZaIVbeFWNSu6UCjclamFWOQfMaGEnILnJS6iBUnVVjWqs0EEla5Ml0oKm3WqOtcrswuVeUmqgvMSQ1Y5VtuQVlypCtViGoKyF7B4VHoJ8yXrIK1GVO1Q1BXktS6FZc1QgrzIJFyUnCgUhuSNJWpeqgQrhuSJlBNykgrK4bVFupTaoVBUI5lPVRJmIYgEwIkZ7kw5EMQCCFYlQgsZamFV5VYNqBhFWKGi5MxAdZDbUDa9OgZWCq8vZTdVAycR85AudalzKVHT2pbk4i21AcqYUNQVqJGlWJU3YRRkKNClBDbU6jmUoIG20rk4jpSCNrVZ1UEKcgo1KR4VIGlqVjUrU1yBhzNQXUQ5CJLxqxV2iQDlcTU+hFJUjwotyprsyJQnEhS/NTiKAypvqo+ohFFa5gimagU2pACLRuR5ikeJS5qAEWg1WglYjlQNnt+n1Eo25lKi1BKdojckVgrA2lqVvZQmQANcmuQKZBWrLlHWToBTa5yhOCCFY1RkFOLSFFD5qBuFH1FY1qBcr04JM1quQQLkBlUqQUpM0XJxSOtToDStJ91bAfsgnC6dM1CJbs1LUPdPQt7sarDfgjhl5y64Psi82p+pwVpUoHKCbpX3IvmHE2gv1Iop73DlBiZnScH/pivyxi+9Gv1AwZNS0fBmGIvfkr/i6D8OPCvl66Pc+lo59jIdKBdqXhVPGVCpAnEnK3IwghZr1praF3VuFcOQjl8Pf3bqRDaz3oOsS8kcUpcXWWeEGwNru02n7MsIzk9HjB3/FBknLajJfnLHmpmozMzPTR72cmYpRYp83SvdxrjWtbQq4dXrkzvY3wUHTBHlXgdH6i+xp9PtxfLy5bzKmEFPQrYUIohhDhg4yNohxkvROdIuUIXdB9yLhIqvtBjViKH6WpMJwn9s6cq7XPiLOtb7CMBDs72dy0CKH90qi2PNfNFbI0tX57NkvKz7eKFI1csd2jBIqLhaPo75IPNXJGld4d1dh465simZiB79SY4znZykuDujpdDcK+vo5e+N8rURpkkjpWcbHZyFI7UcKR45tg99CJfzrB1bBmIsAgiwjbGhGMWEfAXQu2eNo1c9POk7P1sqAiMyYpMsJy1rsW2qSO1LCEnFGMHhuThDCnJfUBdGrqktkXZV8DrGj71gS1X3SRwoWxbE4RWXQBEes5bVNwPdpXGvdbbVZarlLYKpUyEUIR7+eMMrujKK76WNsjx6vL7Qq5bhe9ArVD9LEMX3XzVw6B5hX6k4Md7S8NuD9ww1+YlFpker1qm0+WujTUcYQr9UoEpDp0jJykO0IECGIh2RXyddyfU0f1LRzL88+6gHdbcsQc0OCXmr9CtS/Pzuq4W7241XmgQfRTQ83HXeLTWvpVkHMqvrqwF9ST5+N3L3GZO2X1UOGoroAlzx3F5f4Oa2I6Z/5q6JJfn8nKT70eBWoQ5C5qDUyEIGQluTIGlh8eC/LHGgtxzicf9oxvSX6nS3v4dZflxtDHdbQ8Wj/tGN6S+joHy9fyYx0oi+8RuogulMPSOUl9aUex44T736lbK5yFPbJMHx4BgUHvCGNnF0ZlljHEuSu5E2xSkKlHs+rkzuowxSKnRjymPTmFdblCKFmX53JGkqyfdjK3chtrmI6TEYcYztAIRF5qHWtWlO6S2tyezvBczTpaZD2w1MCgQIIZgHpzEmKMpS7XPPkpBwNiePCmcU16PLG6WKfjGLOFy8xqiFbCuuM85p1+ij+Hw+v99R0fqr9De5JGIOw+lFFyRZqM3quX54RLYJxOAF+l2wXD0XCux/DFPj+/FC3/AN8uXzPUJcX0tB5NkdGZvKQL8n8TiQYsxIJaajGHzl+sUP3zsr8oMXfsxxOX+0Y3pJ6f5I13J45Jun3o2pS/VTHbBMuVfSlxeTHzfpN3PUiEtsMweIA3ewCixes5bHEVguwe3Yngz/hS9JZ7qX5ufJ97ohQQiQp0E1S1qrujYBR9h+MxDRKwy+QhX5wQLoYFyL9TsfUP2zYCxLRhu7+kyEfSX5ZwoZSpHLH79AIoR/zE1fY9Pl2vj6z7UdKmIYiDi0kJn/MSCQPRp0EvfKNoPPCdJv1iwnNwqng7D05A95iyEEg8le0uU+5I20ScejhgKuTIQp+VIu8DjWjGh9OldU9LhI1+cyY6zrJ92ErxtFK+OsT8KmUaqzke2DAlYhGfK1faJkS5f7rHbZJUfD0bBdGmYcWt1EWzRwT/AFtD4S5ulXgx2l2uepy0g4lmTGYmpyKGSLHiEH85JFAi2GAcKlfoIvgfnr7roeVfoR3KUCJD2J0ojBu/jxCDqr89ekC3ducrA6y/ULZRhwsK7MsK0gs8rJwyLrdIuXzPUJeL6ugYj3Tctv8AYfitvwQQS/tF+c4u9lfqVtMw57bdneKKLDzzkrb/ADE5fllBdCHdRM8K0usK6+ny7XDW8jkvrp8cZWpSEeJkgTUGKX8xL5URejeQjFe7LG8XnwypO79c4FRh1WRk6hA95moQxR6vSmXNPcs7cJGuYfk8FV6cCFW5GyVONb3zD4XLpkoRiNq/OyjWVZPuxnfuIsX2k1OBSNneJ56ZNkGFIRM/F05Vk9ogcQzhiA6zXFvdWbcZPEge0XDkzv5OFFdUZiDlMujLDFXp8cpZHDU5ekIOWIXvYFxONT0/qp+jp0pOn9VfoYvivRoouqlNH+UQ/SX6yn71BH7VD9EV+TtAF1co4/yqH6S/WWKTGDyD6Ir42u+x9jR/Up6CaRCXAvykxXfi3EJfy+N6S/V7ohbwuiHxW/KvylxlCKTxliSAXwVRjD5y6en8pPPruTw+j9VNEugGPKSTo/VVvQLhbxr6suLw436abCi3WxjBLfsP5yz9aM7k7HEtiXZdLUUY390qFFiQig6t30k4SW8+VfmpRrJ+i6SL0/UXAfdhRRi7ZzEfgpCXd5K74mJyFJwDmZmMEKWgC+LGO0QFfmTtjxoGPdplbrUsbpMou4gHxwwtEl7dDHus+dr5/wBVYOSgM6hMK+x1/D5nT8uzO4jH+9nGfNNQV1CI+MDrLmruKJMoWCcSTZZIs5DEf5l0u4XHyr87m+2T9DHg/ODujJWJK7a8VbwMxCY9Vav6F0X3ZGFypW0WQr0MD3NWlWRTZaETo0rnQ+JfbwytB8XNGk0gute4lrUKFPYto5H46OAxw6oLkj2VlWzjHs9s1xnIYjk7txbHg8cPpzLlrMdsfa66XLSb9RBO65M8dKxzBOP6DtEpEtU6HPwIu9FxQX+NDlIVkZQD4F8X2fXQheLiXFtFwZT41Rr0/Ak5aEOs7j6opsK4lk8Y4ck69TgjjJzguhb7M3iWUbZ6h2dC4L7sMnbZG8EhDXepXEAkuBe63J+2aZHhk4Por2aH7Hj1bRyghemIEMX2HgdgdxQL6JjOJ9tgium+kSXNfcTj/eti0uKagrpnoX5/N9kn2MXGKpttyGqSdlI0PXF2VElIbblYqizoEUFamIRSsQK1ubOkarlWSCvdoLNkViEFOW4kZkzXJcqBSJRbe1OSrVoSCXqqVL0FRJWXcic1BFagpQhMgrJQ9WFlVZddApFpFLqtVnKluzIISlcpIm5UE1AmXMlJORFqSOH6NQKPUUcylo5vVQ3hVBGJiAsvzFJc2RQ5AbpqXdOtTOcluQKPCQJeqm1pSdqQQgm5UJdTUAKVol/2JmoIep5CCrdDmJKQtX0kPIqCHhQK3/sSkGogTNuRrQQoBM3hStbagXtqGpkq0LzJmkgSEkEgrISUXKc2hDR1IEaqyEhVqUiLSgRupKadRaPXQVKtWHmcqyYJZ70EE5KQp2akZVQoIUMQVp50Ncgj6MSqxKgpa5DeJXWqsuXQgXNmSEI8CdKSBDS2prrFCBSalIeROxIgrIeJIWW5WkWpK3yECFalK1MXESB0CqFDkDdlUtHUmtFEpT6QFKCYWkiRrUJ8qlAqbmRzJhQM3pTgkV/MgBEkN1ItTC69BLdQ6EANrUXdhMgZAphUggYEzEC76f61KkTpU5sqjUnG1AuVWaUW5k2ZANUsQCbrIGHK1LrTPUIpLEApJSLWtQKxMI8XKnAHIJABypiJLlTDzKQWuuS5k2lHGiTChHW0qWIEKFDIgIgvG4esrkqkWooBmVg3JQUiiU2tUjcR6E3LrQ70UAm6yLk+VFIFPaOVLanQI3yEbpydCCRESU3dVQCMwrAzVCnMSOqgOqpHi4karUw5LUAhCMqBmqWuFQ25qYct2dArk45rlGpQ3UgsFpIJxIBM7USKO4cophFVtcXmqzLcgUR4clqsFLa7tKyFlcgkWuTMUJxtRIBOoHhRyqRItVirVgtQL1lq3ujIQxdjeJ+UYf4iW1Oha628QBj7H8XDwSrvOXTDzi4an6n54QveALlTdP6qIHvAdVHT+qvuxfKT0Cn38ywOjvyaEBygEckqjKko2UQ4e9uiRo8XrmRIhCML9SxP9ToTCCRikiGJmez0/qK2FCIooQxuMtC2UqJhC5Oj6q6P7mbYweI6qGLK3LNpUmToEGN8MXqpNiPc5TWJZoK1iiCcnRIRPGCeaMux4ECBJy0GTk4IQJOALIUEMoD0L5Gq1Vu2L6mlwU7pL4sfekmE3FclQ5eF7HzVajylepU5Sp4Hyc5CKBFD/evzNx1hCc2f4vquHJ4GnLRfFHxw+nKS/T1y053QOxUdqVDCp0y3FVMDxX8ph/FkvZpc1ZVePVYL90XAjE6tnJaPTpyNJzkE4E5ANsWEeYC6FT+qvsRlZ816VAxFV8K1MKnRZ+PIz4/DQdfKQrftI7srFkpIwYFTo8jPRhtKMFpGub/Y+qj2VE9Njl+Vx1E4N5Yz7q7G+LJTvKnwYFFgnaRwbopitFxHGZxTOJFjRScRnmMlKbo6VWPFGHFylk3ORRBXdA+yk6A9j9pZXgTA9Tx/iGWotIgujRSvPTBHiJbkyRhG0l4cN+1tjuUdnZ4nxr4fmQ/ubRfGv44mkV3RFN8UyJYts+wFT9mWEpbD9PuaLo8b46IslX5/NkvOz7cY0jUx/qLgXutBbttneaTgrvoW+x03rgzuuxbtnMuKnQfnL16D7Hj13i0U1P8AtKNSno/UX15PmwdqdxYf95OIR4ZxdHrmjuKy/vSxUPDMj+NdLu6F+ezfZJ96HGIEkIchclBMgUIBBJkW8aCyV/XMDrivy52meK2k4uEdFRjekv1GlC8fB6wr8vtqot2p4z6OGpxvSX0/T+T5eu5MSQjoQvrvnHBwRQiAcSFGG4TDMBLduCe6vx9guTCTm9xWpYQaPfnvrestI25UrVxnhhl5Osc04cHRde7s7G1VkTlqfSpKRjELN9mIFoGs1up4kqcaqVmfjzk/FzRox+ivlb/rS/qdCY8MMXElmnPmn9VKPR7KaGKvgwjjxAgQAOLGi2CAZjJXKVEQhuMp2W4ImdoeOKPQYQeJjxRKOfBD6My/TyDLwJKBLScsDZaVhDCHq9Fq0n3NOx33OcOeHKrBbiSpjeB/Aw+HtLeRL4Gozbsn3MGKkarINkcF+UmL/wBm2Jx/2jG9Jfq5L3TQL8psbC3HWKv/ABGN6S9Xp/k8es5PD6f1VES6XNT0/qqS96NfUlweLHzfpdsIL/Apg/llSHzln6wLYH/kSwf/AMKXpLP3L871ff6ByHIzIfcubSw7Scvz37p3ZsWAdocaoS0FlHrXj4XCETUK/Qcs6w7ads4pW1TCszQamDYzXysyGaDE0r0abNtSeXVYrwfmDu3Jv1F7+MsH1fAFemaDXIPe8zAJonpjDxCsf6fqL70JXfGnDbEOJ0wooRYRxIUaFlMLSBbjwr3UW0jCciEiNSh1GWhDb32F3lLTjehSslhhPkuGacG5cUd1TtJxRInIlPwKZBLMcoFx9paYjHEmI5x48Y48zFuOMdxGSG/603sJHDCHFE5zycydH1FJdCbo6FkeC8FVbH9flqLRZbfzMUrj0wR4iJMmWMI2kuGGc+yLPu5q2ZltI2hyxTMF9Eo5d9TR6TLoyiv0SilcbcgW+SsL2Y7OaZsmwqFDpvjZk7pyb+Oieqsu1OI3L89nzbsrPt4sVIVNb+oWTUHGK/N3ug9nR7Odpc/LQwbTZ8impU9LenMP8y/SHStd7bNlUntewdGppAA1iTdHkJngicPVJddLm25OGqxXg/NQwVfT0fVXq12hVHC9XmaRWZY5WflTaQGvMYvvQnd8icEgRAYGBnCjBcJhaQLZ9A7ovaXhqRgycpiE48GFl75BxeUtXt6FDf8AWpljhLkuGacGfYt247QscShydVxDHGTLNLS9r1r8QGELRTdAr65OmTdQ75KVgnF71hb2KwMg8RJWEEf5Mj5EdKAaVw6kw/tron2ejh79kFE/4yGHnL9ZY+YOoPor8ocLi7E9BH+XwfSX6uR7Yrer6K+Jrvsfa0f1Fhk2IBdUl+aG3/DMTCO1vEcuQNgzUUpqEfG9fpYXEtB91JshmdoWHpOuUWW3tepIk4A+Gg8KnR5q5GazFeDgn2UdHSrCEginDiQ2GNhAeYCUNX3Yys+O9TDOJ6zg6rhV6BUo8jPhrDWPMK3hJ92ZtCgQgCLJ06aMfhmLns+hJ7K4z0+OX5d45pw/LZuP9vmOtpEocjU6l3rTYuaUlLRPrEtYCIiDVZ09P1EM6VccUY8UTn7q+noVvSRABkKGezmW7O572Jzm0vEctVZ6DusK0yKMWPGP4YujLDFc8+aOOLtp8V5+7q7uccJlgzY7RJWLBbPzjpyPxXlb5q2kotEQhgDYMKwQ5ejKkzWkvz85Pstc7c9nEPaTs9n5KAH91ZPx8mfN0ZhX5ulCKDFOWjBEGNCJphwF0L9axIgJwrlzukO556a2cbGOEpb9OAP6ekQh5+YV79HqK9sng1WD37ouNjQrCAhinBiBuow2EB5gS9HQvq8nhfZSKxU8OTwTlGqU1ITI65Y2rPf0Qe1IoG6LGE0zsuWs+gE/sLnLDjlyi6QyzfbiGvVnE0Q5uuVWaqMzdfMG5fpHsWEYWyTCQ/yAV+Z8x+tY3VX6c7JB3WyvCTf4Ohr5uujGNavdpODLYhWLgDurCdtrqo8MCGPmrv8A6XGS/PfunSItt1eIvtY+as0HJmragJCZAjqX1Xh6Oz+4tgNwLiSLxT4j8guXRa0B3GY/4NK2XFUS9FdBsHMvz+TlJ9mPAqrcSe11qXMuaiEJEFqpX1KllyLI1KWRO25IQ2oESWuVqS1zkENS2kKsUNtaiCNalVjSclQJcq9atVasKo5U6CFAjdKRPlSmgR+lHVTElcgrJRc5WiVyrMrbUCkZJHcSsagrUC2/Q0pqx2pUu1IEclK60fmpktuYjQDUpJkNJUFK7NcoH6AnaLUw3ZUCW/a0og5SWZo6kZsyCrMpT5kpNEbkFZDwozZkxCLUpCT2sQQ1Kmt1JSHqIGbyKshuBqZKWZArRG5KTXNzKwRSk0UCGlbwqVPVBBChiY0XEtFZWikVijqoEbclTJbuqgi5K25ykhUdY0FZCluVgKs7bUEZUvMnNISoKlJTcoyoFUfNQTtKlAqQ0zWoYgXqpOsna7rqLkFd2ZRpTkKUkFRCltVpJCc5ApNykqmuHnTsUEgVVkTUxFdchqCsuIVDrVJCk0KhCjQh6lHNL1ZcltIkw8qA6qhNblTNscgBzJuZDU2UUC5iTj1EN4kzEEqzMoFydADxJkIQMmUXJusgsyouQ21pIJykQrGoERH6fWR85AyZKKe3KKBgyqFDblYCABFyV2lNrRSc1qEJhzNQWIQIkmty8SJVpuYU3W+nsJeqpDakDmapFrPp+2oRQFDlLeJMI3IITITlyoAeJSoG4k4iSJFx3ZkCKBDIKZqAHiTJSuQJadAk35EUcfKTNuQI3KUSlulDXKE7bliigmHK7iQPCnagjSpaLUDmchAzRzEla25NyphuegVvSgYWpicbUzWoEaSLkyZFEaOpMxDbk1qBW9pLyqxrlCCwSLMm5UoiSbLcgVM4XW50wiJJmiOhAwudbkUueQDw3EpTjxKQFah1ybSpRIQhMNyAcQ5Vgu2aViTWybF0OFBOKZSZMAAcRk5Z2z6iYbfz1sZVlZOXHeFX5dwqFVRgAXg2dG3XBJSNEqJf5tmvvJL9Q/YgD+5oHkCpZAL9zSv3kV7PnSeb4b8vfANU/gme+8kp9r9W/gqd+8kv1CGFA0y0r94FG6gF+5pX7wKfOk34cH5fe1+qv/xbPfeSX1SeDMQ1OLupWiVGKf3El+nG6gfYcr94FXDEGEboYQ4RjwAktdI+HBwThLua8dYlIIkWQCnSb2lGjHcHZXTOz3udsL4AZNzX91qrxxsoF1Vtsopxcxmq15cmeU+TvHFGBnZBHIKnUhqNK4uqVYPMq1YKBsqkbScoTINU7W9gtA2rypzI/wBzMSCI7qbghbG+6LjfHuxHGOzyKfhGlHHk3WTctdCX6O5VY7xRwjAIsEtBg4V6sOqliebLpYTfk97MPKVh86Zo/wCpfpfiPZXgfFjCquHpV4a5fxReasSme5i2ZR7gps1C6kder+QcPh9H5+NH/UrIEE5kt3Agx4p8AA5foFJ9zPsylhaVHmo588clnVDwJhXC8AJalUGRgAOU2OLykl6h+pDRuJ9m3c0Yvx1Fgzc1LeCqUWeNMWkY8ortDZ9s5oOy+kBI0WCHfJe/zZ++xllJRSLMaVeHJmll5PbjxQhxWanEhKmXFYMlxJ3X1LnJja1LRZaTjxwKmQ74IOFdtuSxYUGKYFFgwIreMBJdsObalZwz4t1+V3gaol/m2a8gkwUeo/wbPfeCX6nAMsH7glfvAo3Up9hyvkCvV/IScOmjg5u7jaBMyeHsWwo8tHgePhteDXrpZzHpREB96gwIQFm3INTEvDKVpWe0IQhqloViVMKBUcwqxQxBMvbFDrL8yNsIt2tY2H/aMRfpzBtih1l+Zu2mFutsONx/2jEX0/T+T5eu5MB6P1VJZTTfto6B+qvqzeHH0/t1XhPud6dtX2BYfq1J6IchiyEUYd98HMj0FlL/ANFzxi/Z7iPAdROTr1HjyZhrzCfVJd39y2ZDsKw8Q6Y8b0ltmelZSpjup6TgTkFpWTACX6vWXxo6yUJPrS0cJvyXfD0xEeLDMa/See2B7NKhHOPFwxA30XMwyFNI7B9mtMjhFgYVgP5zIl3/AJD/AFcvgdH5+YUwDiXHU8EpQaVHjv8AhmNhB2l2VsT7man7O5mDXsRnDqNeH3qDmhSxfOW9pOWlqZA3UjJwJODwQQERTNuXjzaqWR6sWCEFVTq8rTIHflQmQgQXNeeX6q+hzmENwFcqo8tLTULdTMEI8EtEYHCrmiIgI2gFgh/uXld10t7+DuMV+YWNMLVyLjjE5waJUSgnUYzD3JcS/TV6b2RPRD8hejDqJYuLhlwbr8rvapXf4EqP3gkFhHEG6P8AuDUcvxJL9Ut6I/AwPISjFFtsGB5C9EvUJOXw4MC2FQo8tsYwlAmYJwJkYBOCMDSC5bAtVbyIW6FK8T1mQl0tUuUNRqco0KdTlBZEGKbRNmOHtqVIOm16WcYj4iYD32D2lxntH7ljFuCt9OUj+7VKG98H30B5hXfCkYhw8htXox6iWPi4ZcEJvyZm5GZph7uek48qf24GqoDgtzr9V61h2h4jgbqsUeSnA54ArF5zYfs1nrTwlKjd8DavZH1D/V5fgdH5nkcENYL7adTp6rxwhU2QjzhkXwIES/SWR2JbOKcHisJSRfdrlllMo9KoEDcUilSsiHBBgCKS9Q/WK46Ho4i2ddyZizFhBNV8/AVKPj99PsrsTAmz3D2zShwaZh+TATa2LNn77G6xLKiilFzKnoC0F4cmaWXk9WPFCHFJFdcnHmUfnKVxdEaVFw+chTqQa32s7E8ObXpMPCAd7ViELYE8GbqlxLjTHPc3Y6wRMn/c06nIZxmZS61fogrIUUxFq9GHUyxPNl0sJvyXiycxLEcOPJx4UYcwGBJYcucXLBjl2F+q8fD1BnIr5mg06OZ5jOALlVCwvhyAboWHqWB6f0qK9X8jL9XL4MH584A7n/Gu0CPB72pRyMgeabnAaICurZ7YXJ4A2H4zw9heXiVHENWk91FmDzRi4R5VvMpmIQtLIldwry5NVKUrO8dNCEKvzcgdzxtJGAAe1g/LVg9zttP/AIsH98X6P98xRHOajvmKWs12+dkcvhwfn1hvud9pMriOiTMfDZwoMCcgxSN42CJOX6FTJiUc28qq3kUsxxEtpZl58mSWWVpPRjx07YpJRCitPtKbdSVQ6NH7V+5iw9j+KdTpDKTWyG4wyxi5ly1irucdoWFYpiVEOelvjpS5fopmT7w4WU7F3x6qUXmnpYTflBOUOq06KcKbpU9CMdBwCXy7iOOaWj+QS/WYhgFacnKl14Ar5iotIik4qVIv+4CvRH1CTl8GD8qIVPnonvUhNF1IBLMcPbF8f4qIPBuG5rcl8NGtFfpZChSkAfFScrC6kAV9HfRsaJtSXqElx0cHJ+z3uOIUCLBnMcVLetu7xlD9Il1FT6ZT6HTJalUyThychKi2FBgg0QX0j6SheHJklPk9MYxhxCm1QodpWKSoEihE4VCHKBqjaT3PODtoxRpzc+Ca3F/dctlMuYVzTibuSse0bfRaf3rVpaF8TaTequ61LyDKbV6MeolFwlghN+ZUXZRjmB75hWq2faSX2UzY1j+qxwhQMKzwu+OAhHzl+l3fcy734/LUFNzBWlGPy12+dkT8SDivCvca4jqpOxRUoFJljzwYJ72KuxKHSJbDlDkKPJnEKWkYQwBM8zehfW8syHllXlyZJZeTvGMYcTuuXNG1XuYavtEx/VcSwK9KystONZBMLg9gWrpRL9RI5JQ4pljjPk4+/QWVz+M8r5Cb9BZWtWJ5UewuvUOXT5WRGxFrvYpsyi7JsJzlFj1KHPRo81v3gth3KCMkq4zdyoTIUislWrFBW5tKLVKCuTtFxkxKQoKGIYrGJSFEIUgpUZkCFalTNuyILMgrJKSsIVVlViXKdKhLc5ooILlRmtVmpK5BQQpVe9VmgRCZKXKgXmS2tTXZkrkFX0zpSy2/NTOclu0mgjt+ihv0tU601xZfmoKhH6Wpm2f9qch+lqraJII3TuuhqnlUEItbo6ioLzJW2oGAAkZCBv40zUCqCG1OltFAjEvVvVlyVv0YgUeJK3O4FY3UWlHMQIKCG64L0rXf9itijbba3kSt0oIy6FWVyZqCyoKfpqTW6k12pBIEIUpp0q0KhPyvS5UFVqLk7BSiVvIgguZV/OVmZDUFDW5lCsSoKiHUkV7Yb1XFFpWqhUPChNai0UFXzVLhLMrCVfbQBcqqNOlQQxQmUMQIRKtytK5IVqCtqVWIZpQVGq2K0khCxBU1DWpzSEqClaqiHSreZKQ8SkUcqYMzhQPKpVOadCYXZkN4lCB9KlCYUA1NpRqUsQNlFSotFMTUEirOskHOnFuYkDJsqBzJkEjwpmuS2psyB+ZDUCm+nlKQwi7qKeZS5zEaUC5U+YmqGuUiPCgZiYEAgEBbmT6Qao6qbSikJvZ501rUN4kDalOVL85SXlZkB9PlUvtdxKUrfIUiRtTqWiQpXoGcTbUcqNVyaEPqoIVmZKIphFADlyKxt1yUcqsQKKlvCjq8KbU5ElEU2lqbMhiA6qYRFQnuRRW2oaJFk7alArBNykUNJA3IGb6KEyGlqQKI3OTC5MhBOZMV1yBcoQQxShWEilakhtUqNTUDC7tqBbwZUysG0bUC8qBFHVTCDSuQSOVyZtydCCQTZUoim5lInKSbKl5hTIBWJbkIGF2pBISjwoGFyZKpBAz1KhibmUCFLXXKE4tQQKEJmoFTIQ5BNynKhMgBcmFKnc5AO0qUgkRDcnQTnzKUql6CUIUC0rkEoQhA/MpSpkCpkpKRc25BCZKmQCsVWpOgZ1ya1VqxAqZApkAhRlQPCgaH74C/NXboP+GrHPNPkv0qhe+L83NvYt23425pz5or6Xp/KT5mu5Ra5JT0ZUnSn6Mq+pL8PHDm/QvuVSdsIpTtMeMPnLb5rTPcpF/gNpo/y+IPzluQ1+bnyfe6JUioQpaFII5ka0DOSmluAeJNzIDWpUWqEDJVYq0ApBGhFzkBzMUoQSASpkIFUC5OReklQSWVqlQahBAgIjb1k2VK9Nq6iCStuJQJEpQXzUEuuUCVrVJZ0D6qBdTeVSSVMgjQlYWUU2hNagruSjdlV1rkaUCJhUlnUCglqUrUxcSgiQKpBM61IgZQxHKjrIFNSp0KEEcyXlToVgUApSoI0IIhUqBERUCUnMpSk3UgEDmQhAIQjMgEJdKEDOFK5NlVbrUDJUpCRCanlQQhClpaUCIQoc4cjUBluFQpKwXJSdlQQ25BCOZSzk8xRbqQKlZqTJUA1VFxJ0jeIECvFzXqVOhKQvQKQ8KhuolNqjm1oItaqnK4kupWKxbxoc5N9M6UuEvTQQMV2VIrlBZUFSE+ZIgVK5W/TOqkCl10pETVboSE36NQUkP0ej6aVYY3cXbSkNrR+agqf9LUMH6NT5T/AO1Q0S+goF+p9Go+mRMwvo1K0s3zFQVv0YoIbU7XWs8xAjbcCCtrrSUtbanbxAobyIK0pZG/MTN6UrWoFbxAkbxAnIblHY8xAuXR5iUxHN8xOX0sVTeIA8hBBuzfMS3fQCTGRCQavKUN7PlII5krlY36XJeb1kC8oo6yM30JDlojSqya1Ws1JWkKBHpSzOVrUpCgTPalbwpmlqQxAhE23Ml5k5DqQ9BUSqLM3MCvVZCSCLUEI5kCPEpJqoUGoTsStblQJcROS/VTIb2UFbuFKrCSNagRCk1CCHWtSE7KntS5eugRKXEmLlS9VBWSnMpJJcgr1qCFWmqScPMggrkIQg+a3tprRuQPMpVOZuVCVWCgYAam0qOVOgFIZlCduRyAa0U3VUKRzoJa1MOsUaWptJoGapDIoTIJDMrB5VWPEnFAyZt30/aSpsykMmFKn6yBrdKMqUREcqsBADyp8qBRmtQApmakabkyAtyoQKa5zuFFB1oEmSqbbNKBhHiTDkSjrJjU2W76fUQH0+RDEZ+1/wCqCaROUpAtarQ9FViOlWCHzUUEwiLUua1WC3KKBdKnISlGZEp6qYeFGhMI3OQLmTW9W9DFIu1IJbxKRSDxJ+ssUE1o5UpWE5MJIGHhRmRzJtSCW22obwqBuUdVBYJNJAKFPWQSmUjzIyoIFulWPtVZWiZZuROOVBJJmtVeZWakUEJVY1AKWJ0KQIQna5App1DWqUAKZKrGoBAqeZSgFOZSoeiUplHVRlWCVPWRoTaVKi2qRUXEpQCYUIF2VAqZGVAoGTabUrkyAFO9K5tqkXaUDKHWqFOVA6EIQCEIQCFPMpQAoQhAIQhAzkopkIBMlMmimQGpqsVepWIBMktcmNBDkyS400LeELTQOK/OLuiYbNuGMOeOJeav0aHQS5v2k9yrPY/x3WMSwsQwJYJ43DBZkXs0uaOLk8eqwTnxcV9AdKboD2BXVn6COo/xngeQgu4nqDf2TwPIXu663G80NHLo2l3Jd2w2TEtNRiH5ordHMsI2QbPo+y3AoYcjz4ThjNFH3wB9dZsvjz5PqBCEKWhCFB5UBypSJoOJWMS2tuyIG0uRdpRyoyoDqmoUuaoQSCOZQo9dA6ki4UiEEvQWXrItQeU0B66LUa1CBm51FqUreZMNxXIIUgltyqUAhCjLd1kDqc4o1JRyIITZiahCAJCjQgrSQTaNxWo9VQ21qhA9rkuhAZ1CCSLhQ8kxXPRzIEQp0JuVAo3JSHUm/NRFGIUJsNj+dBCnmTakrEEKLXNTdZK1yCsiN1rGJ1HzUcooJUGjNrUoBKWZqdihBWhNpStuQK+5M5GpBIFQouUoB3El7aZKgbU1KhKgFFykuohrcoIFU5kEKXdcisF2VBpm8iXrKAN4kjS1KW/RiW5yCMv/AGIamuSkJZkC+xyKsh0qxvQotQIotUqOVBCTU3hVnMlePGrCmkfzq3t/2irdz+egHFqNSXC/z0CTnt9NS7p+hoKitzITldr89QgVIQ8IK0uFUoIu6iG87VKjsIF9jnS8yYuZVtd9BQRc7/tStH6NTtdo9FQQ/S1BU0WtZ6KXdOfYrW8XoCl3X0YgRnJ5iGcnmJt0PB5ilupnmKhU23Jf1E26tt9BBD9LkcufsIKstxego6qsaJKECXfQEhZU55P+5QXCSCtqhqlHVQQxpXJWiKlQPD6yBcyrtdariG1Lb9HIEFQTdPzlBF9Hkm+mdBS7teUmF3Gmd9HoIrVobtpSQLsooJzUClaotU/ORdpQIXKltypj0JXoB6qcnNI1AyrLLcmQ5BS5yhruun9nnVZKhBqFDFKJKlcp0fnqO2gXlSxRcnuakIkCWpExIQRcq/mqw1WRIpCCUgoJEqVDVJJSRRCJ6lS3hVfWQSq8qd6DVJfMKVSCm7UiQrBVYq5BYhLpUggYEwiKUbCcpQCsG3Mo1KRzILB4kyUUyAcmSea1NyoLBuTDzJE48KCRJWfNS/UTCN1upSG0qeVHnJmtJyAerBFpKsRJN9PlQOOZNzcSr1OVgoG6qbKqxuzJkBcn/wC5Rb5Km5zUEpTG3qpkqB2uVjR+n+tKPKjLm5UEjw/T6iltzeqKUWll6vypnCpEiOkVYWZwoEuHJ/8AZA228SKFrnJlWzesLhcrQLV9PqIFtsVgj2VCkbUSZ/oqFBpgQSo028ylTqRRR66cWkk5hTwi5Mv/AKLAzk3VS6+RH1EFluVQPEpU9XiQBcSLtSLSVnMghSChOTRQGlSKhotuUoDmTIA3JkC5UyE2rrIBTdqRbqUopPKh2flToUgQmFHVQDUyEIAVYVqrhcysQTbmUpHaUwg4kACdCl3DpRKFPMoU5VCjNUkly3JtTUENUJlOpBCEEp9NBAigR3RNQJMtTdVAwiTU2XKgiUsQLzJtCMyMqA5k3KSUE2fsoGEUMJQmQKhMoBBKFNqnMgVCE3WQDUZUzUqATISoGQNyVWDagECNqEdVAyEJkEabU6rFMglrkojbcnUDwoDKgMgKUIJbcoQoyoGYoUvUIJyj1RRlSmpQPaqy1qVGZAz03KlErlKBVBpvzkGgCK1Qo0Itd20AaYciNagfWQQClCEE8qhSahBLW2qFJ50w8qBW2ptSVtrVKCLm2qW/OUMTcqBfhWo0IIkaEB1lKVCBkanJUyCdKW0GKEyATJVLkEqGina0lWga3Ko1KcqrQO1DUdhDUENFzVD1KnKgUrVCsSdVAuhDmp0hoAFKjmRquQHKkTIQJ1U6TqqdSASk1CC4kCoFya5M1AvVVZC61WXJSQAiKPqJfpkTW6UEWpeqnalagEqEyBVDE/KkL6ZkEJNaa1Qgi1RpUvUOcgjmVTncqtK656TqoI1KOVHbRl1qwpKHW2n56kiuUdY0C+yXH56Uuv56dRpu8hAo3WvUC5v/AGplHN6qANQ1SVyjUghvCqiFWCOpKSBGoHhUqLkCKG8KZr/+xKQ8QIFIbcnmJRG5vzFPY8xK0muIPMQG75D8hK3k8xPuuTzFLbWszciCpo/QFLRH/sTN1fMJV5bRydpUC1yLWobp5eZM7hu8pAhCKUmucn4HeW9R1kFJXE7MgmpncSUs1vpoKiahqYiH6OSuLj89Acr0hNTuRnu+egRv0BLbqPz0/wBM6gm/Q1orcLfz1XzfPVjhJAkWo/PQJbmLSgitb89O4r7/AD0rW/8AegUXX3+epHN1udF2lCAL6Xqu3MSbtob0oKyzI5SR1kqBC5kvVVhO40tyBFJpnEJZ0uhEkJ2pVkrOsq8yoR1UpXKSymqnXOQLvXipInZUMLKhAvWQlzE1M1BWSi1S1KSCWiqzzKzUlIeJBXrSNcmtQSAEbVSQllJXOVZKhVrSkPkJ2iWZRl8pApCxLlyqwuFiUuFB8uVQSVMiTZblYPMqwBysHqIHyptCNCAQMCAQClAw8yblSpkFikeFQORT1UEqeYVCcbUA3yEzrVAqxSG0uTgoEmqRcglMo6yZtyCW6u0mbbbxfkRaLGoaWVAwhxJvVS5svMSZ1yAAGphSttTIBqlpOQTXJ0CqRtUqP+5Awi7KnaoHiLrKUBquyZvkTCGTgSpuZSH03Gjm6yBFpO5kw+qKA5UWt4Xf+qNLkEIkX0/aQAk67iTpBhborT8SrUENapQhFJ0qRHSjlQVwmOVyAbw6lYy52tAi1gvc1WIEbqU3eSpNSsEDcjR2UD5ibo9VANaStVachLegQnZnJBDSypsyBRaVz0Am6yE2pAC4kzSSiORyZqCOsnUMTMQShCjmUqOhClqCVBCXG1S1MgYUNQKZAJkqZEoYKYEokgbhQOp6yhWIIa1QgkCoUnSpIbTalTXX35kAi3SjKo1IHEn3IQ5MgVvQhttqNVyHNIBQWKbnJOsmcgcR1cqlV5SarcuVArEGPFcnUtQKahCZAqfUlzJtSAzKWoQgjUmuUC1MIoD6qEJUDIa7qJXJhtQDLU/WUJrkBmQhSCCUemmSoI1o0KUnKgsBKIkh1zU1qCUIUnnQLamIUtrVKpKC5U2tQhSoKAUoQCFJqEAhCgEAfrKUIQCj11KnX2kCvRqAuspQgjWmuaoUjkQTmJqVRrS5BtQOn5kifMglQ25SKMqBSFS1Qp9ByBWEmageZT+cgVTpyKcxIJAqjetFSqi4kAJOVnWVfKrHEKAEhK1OqtPWVhcKBxJKkEia5OgNTUDxKdSXSghN1UqlyCLm9lT21Lhb+ekcRIHEudKRKRchyBeqoTKC4UFZE1OlT9ZBCVSRIeghLcmSoAkyi4syUhLrIBvCpbcoaJMToFalIUwiguUEFZChBEwlFqCEyEIBrSQhKgnSot42oQ5BGnOlykncSUrbfnoELN1kn0zpyuQ9ArElyd6guugXtpSzZ02pGpWFK5L2012VCCv6aUqchLTcYpWlqQKy/IpUt+jErdTPMQKxBDwggh4lBAKAIUrUyUuograhWZVWghvIlb9P96Zoklt1aUFbOTzEN+jCVhCKUMyBSH6MJR9NSki+lyW11vpkqE9v0kv1OTzkztL/ADySu5/PQKPN6aUuU8qZ30ehxCWfz0C8uvrpBzN+erHfR6h3a8lAua5VGrLvK50dZBRd9DRbx+emIhcjW356BcuU/PR9M6CJGn89Aruz20r9SbMkEnE0loknNz+eKX6aUz9XqoG/R6KConCxFur5qZhNb6qU2llD0UCs+lqGiJWob9GIt1aUEIU2lmBK0XZECEPOgrVYqS4kSQ0EPCg0zUUrNBCmuzJTIW3egiVROSk0U2m5VxfpYqClcKqYKsNVZUEi7gaoTJWoBqrVjbciVvEgCypUzkpWoFUEPIpSoEuQ12ZM4VXd6qoQQtyqshVhOS8woKyHUxRuk+VKQigS3KKVmoWJic5DeFB8Se1IrPqokC191qsVfKKs0oJBOlU8qBusnS5sqYWuQMNyblS/OQgYVaCUE6CG6UzfLUJrh6iBhTMtUaVJuzKQwi7MrRtVQlcYaxViB9LudEJHGh2pA5JrhJGpCBhTZkrvOUtut+nsIJ1n2k7EvW5RRm66AEfOTW5lKnlQDWoH81K76f71ZqQShuokqsc61AXDcrBSip5u0pDMRzKdXbUt0oAeFSo5k2ox0D/6IDmVmpLy9VHN9PqoJQhA2ooyZrS81Ky5WDdcglreumG5GVQOe3lQRzKMtyk0zblgBFo3Z0zeJKItzKUDMHMmak5laKBWtu4UXZUzXC1MgBFyE4JeqgnsKQUZkyCHCJNTa0N0kFiBblYpBzKUKctqBmknakG4bU6ATItTIBToS8ybWghSClTlQGhSk5U6BxByhCEAo3o+SmuSkLiAhDKsEkSYXNASQKZSpWmHhQ25MgYRtQKOsjKgZVnCGKQGWcRtVikBdlQQ1K3I65Wegpa5AEIkSYeZAihwiKCzSkUtQ0kA1DdShMgGqdKhCCbVKVMgVMKEIBDUGDkIFamTIHKgEwpXXJhuQMo5VKZAJUJkCqOBHWQJOQOoyo0IdcgHqUJHOVJOhCEApeoScvCgdCliNClQtdaoU5rUrWk1Az1CEII9UkENqNHZUoIFwjdnUqbU1vnIEQpG4U/5yCrgHiTWim1KEAYt1qPUTqHcSALmUCmcl9VAJkCQtQgVCZCAEVOpQSa4jcgXMhAtap1IISGnSXIFHM1MIk1QmuK5BBoExyirYQJRHUghulS3SKZlqVA3MKGoyo5UEalCbVdypUAhMouQQKhqm5yBQKpaoUtQKQpWKUIBCEIBClopRJArFLC4Eyg0Ct0oERUNJMgFBpR5lKBStypdSuVZIBCEIBCZKgrUfTOnd0I+qgW7SfnoaOX56HXIQIQ6iyJS4RTaFCCshUXX+grVXmQKRCLHakF9MqCbpSqwIahpNQ36MQVtt/MQ27J5ikhF2TzEreL0EDEJfQEoiKCcgSu/7kCs+jEhCneP0clLseWgjLcgkyW1BBDwqppK13EoQVsttUWmnSoF3Y/QyUP+lyfKwkhFzoFdnF/npWj9DTObr89DuE/PVBeV/nqO356l/wBHih3F81Ajuz20O4T88U2W71UXfRqCm4voKa7TkTEJdvsqtxOcQIEucm0ouK5iCERQVmqoscoHGTsoBmVrEcqCgY4llTN5/RTkPEk+mRAtuUUv00qzrB5iN07R5i0VfTIpIfoxM3i9BQ3k8xBW1xZPMS7r6MVmrJ5iVhIkv0yJWJrRQwkUlV6VYlbyIFa7MqyHSrEvMSCsuoq1cXEKUmoKiBrECJFarMpXAlLqKkqRhKpfQqSzIKmiI9VVkJK4R05ksUbnCCBFGZNzCpQVNaKjKScuZKREggRafUVZcyuSl9sQV6rlFyflVYqhGtKTiyqws6RAhCqmq8rlU3pQLqQghSoBVcytIkl2ZB8dqfo0JR0OVjuJElJW5cyRNmtQTmTqGIHM1A2ZMIOUphQCZrbkpZlaCAHK1OoBBCem7kQSmbkJApmDpUgFW5StUNtTXZUEi1OoF16lAJtTUqtuQQLk2lKrBHzkDDbapDh+n1UNtuTFbd1iQLpd1kzfp/uRypeX6fVQWC7ympbs3aTE30iUtyII1fT9pMIORCG67UKkMrkDZsqZ3SghuQI6lIdvm/8AogEDcmH0UEqf+5AtQ263UgGJiuS/nJnNQTmJyBC9pIhZmvVhZbUFaLvSTak9rm9VBDRTCNyGqLnXIo6nmQPMrOVAikMoKdLk3KsASVMNybSgRqlvEmTIDUhMjNlQBOyqR4kaedGhA6QRIc1ybQmy5kEIUXaU1ykQrOAkl2pMLhQSmG5KrhHhQLmG1M1qZR1kACbWgRuUoBSIkpTIEYpy5UJ9SBXI5VKFgjKpHiTIEn5VKhzCmTaUZkCs1Jmoaho5UC25sqOVNcoa4XIJdapegeJSgnS1D1KEEhbarNKTm4UyAamQVqBQKWZCEyBfVTI6qG8KAK4WoTJUAjmTakIBCB9ZMgEJbmpvWQK1TlG0FKsQJoUoSDCISMnudo4FSVqFDbrkpEWZSpPoJlAlcguEUClcLUcqYeJQqSl5IElKjWglCg0ApUlCnmUKkpBGhQmFBHMgcrVCYUEZUaQaCZtvYRqUqImZd2lHqKUEWqEyEED6qZzUv5qYi4eZBAoVjhs7KXL5yAEbrc6ksqhB5WoDKpHKpzIH5qASjcrGtSoBqPqIc5L1UA21Mmal5kCpizJSK3nVjuFBWRJbnW6Ezx0pUEttUjxJRTcqBsysVbWimbEzaEByoYWZP1eJRpQLc1pIuSxYRRcppyNqBEXXpkIFQhDXIF1OSkKZqGoBqOVA5kyBLQQXEpJRmQKJIK5SSVBPVS5MyZiOBArEEKlRcgW3Mjqp0IE1oEicm5vnqEAlT9VLzIIFKn5kZUCZcyM1yYsyjmQIhF2pNb9bzEFZOsFjkFaKZqUhdagghIvmpWKSFJptQKQt0IYmIRapQVZi6yhWJSQLclL6WJnCOa1LaOX5ysIQ/S5Rpd6ybLcj6Z0EDnS25tdutH0zpXaX+egUiIeVN1k1xZbu2lFqBfpnUOTKGuK1AreFQrEpOzIK3KHF9DT8oqtAKHfR6lQ27/tQV8vzxQTuM/NVtrcnopCEuDzFQXq/NVeX6CrGcnmI3TsoeYgURf8A9iQuEQ8xS3k8xIXU8xAwu1egqyu0ZeRWCPJ5iUhucKBMtxKttzlaSTlQKxDEechrkEqGch+QkGERTIR98YwREh3LLT5uJO3k9JBUTR0eYlKF9GK1o6WecqihCNzPSWgaWoPMQ0S+hJrcqMt3rIKuqCLdOrrJw5fnIzIlUQiVpKtsMeurytFI/SPpoFK8nJbRuTqcyCpopcuhWkI6kmr89BS4uBA2q1rSUk3SgpLMkK03K0+VK4co+mqFRXCqia5X9ZVmgoUdtOSh30egpu6qbzk+ZRyoKesjNcrO2oQU9VHKStYShBSl5lYV4uVZCqCkotT9VR5qCvqpFbrSsFBXcCRvCrbVBNQVllSt4lY5Kg+FMlG1WIkNUjcoyqQQOpLlUKXWoHFMKUVYN2VANVii1DrlIsHlT9tIJDqQMUfo1BIkrEu9Av8AvTDFHUAeWKBx4kzrkgxeozriphNaHroLm6RSlxcqN+OpiZ6CdTVYy1VPEczPLTDFHUzy0Dpuqq96OZ4eWKbfhleHloLcouHtJuUku9hkjeiVws8sUEp7RG7T/wCir3vRxh5Yo3sLK8PLFBY3T1fWT5hd9PqpN7D+OgeWKkYsMfhg8sUFgfnIG61Vb+Fl3weWKfvmE204HligszCmu1KvfwnZw8sUDFht9+gffxUi12lWXKjewne/QPv4p9/Cd79A+/igtEkKO+YQ/DQPLFMUSE1wmH38UE5UuYWlqU70Su30D7+KN/CHNGgffxQUuiQJkGgBAvst85I6EXw0DyxS72H8dA1ax9ZBZcWVNbmVe9h/HQGfdxS98wtUaAPbFFLXOJSVo3Wr4jq9P757278gd8kOR4r69/CMvfg8sUStFt+pMVoqoYsIbSjQPLH1lbv4WbfB5YrFGEeJSk38LVGgeWKBjwiu30D7+KB03VVYxYfx0D78KfewvjoHligkhTDagSCKTRjAXbElLeJAw8qVvCmbdapQR1UN1IFyYXIJU5rkMUIBPajlUKROlSKZNagVqsSpkDJknKnQToRmRpuyClEoZaw8sUDpuskcPGHlilfD0mHligtQkcHGHlinEofGHlighzU6h8Pjh+WKhw6WeWKBmuLkTDaKV48YeWKYW8YeWKwM5SCS3SYeWKm3M8PLFSo6gEotdnDy0/kID0FAimERJM25qCsiamaTUzbkM+lqBRuTqN19LVWQzO/cJgMEfKNBaKsy3JWpihGQgrHx0+RKRgHCKMcU4sUorz/16V9iBhFqBNuInAoCoFWbqIOhQMKISCNSNKbcHmYp3ETKxAiOVPuC4EuQkEIQjU3MgEyGoJAqYUIagZCnX2krEDpUKWKkmYlIbU3Mg1KgItJBCgRUIINNch1qC4VSS61KjQpQRoUoU60CucKa1GhHroFBSo0Jg+cgMzxJN1kr07UAo1KHegpLlUqKWRM3zUoXXKUE6UakuVOPMgjUpba1GoHIyoKjgEUUCysV+YUIHhVJDNKjSpRptUqGpqrQRkpzigcXZdCVWClQBNSutUln8pQgYU2ZKhyBWprbyQTm2pm5EFZCo1KmLMykImHMyomOg44iQecqiqtPH93yP38fWVj7hy3aUzc682FV6eOapSP34fWTeGqY7/GUj9+FQPSbapYvM8OUrVVad+FCg8R0cSb4Yp34UKsenoRlXjliWiiLSrdOH/mhR7aqHqrdO/ChQevqS6V5BYsw+GavU78KFIWM8OB/n6l/hQrKD3NSUnLwyxnhr+MNL+/iq/bxhcbixDTvv6UGQakDzLHDx7hMf3yUv7+l90HCTrsSU7y0oMltSrGS2jYO/jPS/v6rLabgwc2J6X9/SgyokGNpiOdYgW1TBeX2z07y0pbVME6sT07yy9VKDMXdCrJYd7reB23YnkuwZJD2u4E1YnkfOSgzYkqwj3ZsB/xklfvZKsttOAh/fJA8gkrIZ5yqFgHu3YAG72wh94JR7uWAP4e/sCSgz+3Uh6197umAB/z3EP8AoCSFt5wEJf44ifeCSshsNC10W3nAWmqx/vBKn3fMCfwlNF/ypJQbK5VK1mW37AumcqP4ESr937A/x1RL/kiSpVtBJoWs/d/wXmHwp+BEl93/AAdwVgv+SVVkujZxE1GtauLb7g/7Hrf4El/RAYW0yFbL/kk25FG0rSQS1UXdAYa006tl/wAklLb7h4stIr34Em3Io2q1DeRq1R7vdEbbh+vn/wAql93ylacN4i+8JtyZSbbPVStWqvd5kCy4WxEX9Aq/d0gOaOD8Rfe025FJtrNJK1ap93IXW4MxF5Cn3bopZcD19NuRSbarVXatWHtrmtOA6+q/dnn9OAK2m3IpNtgulopfZ4Vqkts1T/iBW/LVU5trqsjT5ypR8B1WFJyYuimZtYlJFJNtk1KRW/nrV0ttWxLPS0GZgbOqicGKLhPf5x6Vf7o2LyGzZvPfhQpWSWynfR6W76Gta+6Djgsuzqa/ChUFj3HTbdnUf8NFKyGyCt1+eozF+eK1sWONoJ//AA6P8KFKWMdohFbs6Dtx0qNlE5ViRcB+atb+2zaQf7wIH39R7ZdpBZcASvbjklRsu5F3AtaliPaWX7w6d9/JSOIdp+nBNLHrxySo2M0kXLW/hzan/E+j/hRJSrW1aLlwlR/wpKjYxOzClWu/Ce1nN7VaOP8AT/nKvwhtb/i3RB7f5yVGyOr81DXaHdgVrYp7a3m9r1AH6dZL35tb00SgClRsrdcnmIaX0Ba13+10v81UAUrtrX2Bh3yEqNlbrk8xKz6MWt3bW/icND2CQ3a2X8WkqNi+L+1+cj6nJ5y1vuNrfHhoUbja39k4aFUNiWiTrFNv2ta67z2t5hqWHRS957WyH/HGHR8lBsQm8YeWocHGHlrXngzayVvh6gD1AFJ4H2sfxhon3gUqlsTew+MBQMUeNa88C7VizYnon3gfVUeANqX8baP94FKjYwt43JSKGP8A3ktc+1zabrxhR/vCXwDtJ04zpY/0CVGxd6HJ5ZJCJ2vz1r0sObS9WNqd5CQsK7Ri/fzIh1AVVGxHDxglKKI67Outfe1XaJ/HyB5H5qj2q7Q/4+QPIH1UqNhb91z/AD0cz3LXvtQx6dxY/DyFPtMx0VpbRT8hKjYJF9HpCiiWu9a+i4Jxtq2in94S+0XFpZtoUf7wlRsHtuTN65LXfue4q/0hTX3hKWAMUF/8Qpr7wpGxOwaraXOtens+xO0yibQp63ggIHZ3iCKIEO0Ko+QlRsTdRSuEDSnCijoNa7LZzXtWP6iXYS+5zWf4+VVVUbDIYrch+Qk3cXgiLX/uaVfVjysLx8WYMrGHsL1Wqwsc1go0rCcIcZdJNQbUNV3L5aLMxZmkSEeObo0WELj4yX2FxIKlW1tor6FXyoK8yMqsS5uugrIdKVWKoi3VrEARcKV6bMNqW7UgjNmQQoUFzIKkXEmRcKoVkkuyq61fORNQGtQWZqkm9ZQbnXdtArUpZ7VYlcg+MW5UJRTvRIBMNqhPoQAJ7XJBytTj1EDDlcmchDUGB4sp5VrGOG6ZFnJqBLTkKMJHBPV0XK/3M6eFpViq+WrcSDusa4Jmf5VEhfLDWTxffTEUcMuWjEvcxphZqrUfLVg7LqVlKq1H74slFxKwE7nDfkxj3MaR/CtR+/oHZZSCFw1Kol/TrLBS3NW+xvyYv7l9I/hKo/f0/uWUj+Eqh9/WUiRJRiiVqexvyYx7l1Dc3wlUX/d047LqIX+cqp9/WTtJvCf/AN1ansb8mJe5ZQ8vf9V+/p/cqomXv+q/fllYuyknT2PkyYn7lVB+z6j9+Te5TQfs+q/hSyq7SrBtLtJ7HyZNXVHAdNlcdYepg1Kqd4VGBGcG/wDhAWUFsnoIldOVT7+qsS+Kx7s9IvsqYEur0w1mZXk5PYlnkxH3KMP/AGfUS/p0e5Lh37MqP35Zg0tKLnJ7HyZMP9yPDpF+vKp9/Tjslw426ZqP39ZcLm250zSc76fUT2N+TD/clw4/9c1Ev6dN7keHH/rmo/flmHL2U2Ufp+2id+TD/clw1qmaj9+Ue5Hhpv65qOr4b6yzNzS+n7SG6eyhvyYeOyXDWqNUfv6kdkWGSyzNR+/rLhc13bTCLVPsr5MmIjsiw39k1H7+j3IsM8dR/CiWZXFamFzU9jfk1Dj/AGdUGgQqDHk5mo/pqpwZWP4+04Zk0lmcfYzhaBFjAJ1G0m+/kvO2uj/ezIRS+Cqkpf8A0grZFQLez0yRa4pJ7G/JgRbIML8dRH+mJMOx7DJ/DVH78Sy0XakxdOpPZHyZsQHZBhcssao/fyU+5BhfVGqP38lmOUvp+0gXF5qey/lSYf7j2E8xHOkf3dA7IML6o1R+/ksy6vMmJPY+VJh/uPYV+OqP38k/uN4V+OqP4USy32TQfSssfKkxL3G8Kl8NUfv5Kfcbwrl31R+/rLXtyqwTSx8mTDvccwr8dUfvxJ/ccwr8dUfwoll72k5WCVwCS32V8mTVOMsB0rA8tRK9SJmowpmFU5eFfGIhb0k0lvCcERnIzeIlrHbM72gBF+In5WL/AGgrZ09dMxm6jUSezHLtU3DmU5UNb1E2tYpCkR4VCZAKdaLiLkJQpDtTpHXGLMutOgPqpkulMgE+lyQS4VYgliMqlS3Ugw7auJRcAViGJmDm3gbSzLH5bYlhWJKScUpyqDvYUOKX6aL9sXLJdpYuwFWPZ+Kd5y9GXJ1Do5cUrB9EVzzZNqNkykw73EMK/ZlY/CiUe4dhUf3ZVPwolmbi+2JhNeD+Q6uW6wz3EMLfZ9U/CiR7iOFfsmqfhRLNHJnJ86RusK9xDC/2fWPwolPuHYZ0z9Y/CiWaeySj2ScF9in50jdYYOxDDOXwlWPwokDsSw19n1j8KWa+ySZifON1hg7FcOfwlWB/5pHuK4c1VWsD/wA0syvTNdmT+QkrfYX7iGHP4YrH4UpHYhh/+Fax+FEs1QMUhHOn8hJO60/tN2V0rDGCZ+q0+sVsZyVKGz9NfXJZfA2JUOLJyccqrWC3sCHF/XRftirtrQ73ZdXhLTuy+QlntIIo9Bo5cUnBLzV9DHkvGzvGTXvuH0PL4Yrf4USPcPoLf8a1v7+S2aChVZTWfuG0Uv8APFb+/kj3D6KP+e63+FEtnIVjWnuH0cv891v8KJKOw+kfw3X/AMKWzhcnyoNYe4fSB/z9X/wpN7iNK016v/hRLZvKjKoGsvcRpDv8fV/8KJHuI0rTiGv/AIUS2a4kysaw9xGl/wAYa/8AfyR7iNOL98Nb+/ktoqvSoGncVbIpai4XqtTkcSVsZmTgb+E+OTXdC2vQ48ScodKjme9OLKiZGeu1fBjYN7gnEg/yCN+IU+ECKLhDDxFqkYfoqx66YUakwjpWJSIoPInSqVBMlUAqSlMlUCXEgqKO2ZCFuTuEifpX0mlElKlSCam1qFBEga1KRMSOtU9ZAdVOq7RTucqSGJtChTmQSlQpuagOqoTJkFafSjUkQTlHkTW5lGa5CAQrLnXJNKCEzVDVLkDCjSjU1CBhal6daEEgblSi1CByoGLMlQQoLKpUr1dVPpSlnUk5UlZ1UvVQhAamoTNSh6KBkaUCKXSZMUqN1U8IfHgkUwLYodYVaXN2EMD0PF8fFtRrkGampkKxEhP35ZehZAOybBX8FRy/5olOy0HSeKuatxvRWXDaPIK7PpYo9rFfclwT/A8f8NiKfcowT/A8x+FEstcOVOKpe3FiPuVYIHNRD/CiTDstwQ1w0H/5oll3KgHZljKRYqOy/BH8Xg+/kp9zLBP8Ww+/ksp5U3MtVSDFvcxwT/FuB5ZIHZtgof3sSvlksnERF5Pcm1I3agxb3OcFfxVlfOR7neDBzYYkvOWUpdKG1Bjvuf4Ob+xiS85HtCwgJfsYp3nLIn2oQ2oPB9pGERy4YpyYcG4V04YpfkL3iLUlQ24PG9qGGB/e3S/IQOEsMfxbpf3heuQ8SYh4tSMpB5A4Xw5/Ful/eFYOG6COXD1KH+gFeg1qjTcCFIvg8A0P+BKV94FA0WjD/mSl/eBX3iLUI2r4/BVMG4aPTvvApu8JEctKp34KK+nlRcGZGUg+bvOR/g2R/BRTjJymmm078FFWNLShrc2pCkCbiW+wJH8FFS2Fpk5X8FFT7LrkeyPAi6RR7EPTLSo/8qKXeQ3tGWlfvAp0pDdkRNIp35NtCAP9AKCjxRu8R94FQQdRK5tyFTjMxeT7wKTvuLxh5CHNG301W2I5z3BwIVXd+R/jvMUlPR+NUdtBcI+mhVZ39M/HKe/Zn45Uu+j0G5v56FT9/TJfuk0xT00P7pPy1RcWvz0pCWo0VVb39NfZJ+Wl7+mPsmP5aqe7Mg0TVYVQmfsmP5aUpybzd8x/LVRN85CMP3zM/ZMfy14e0ieilsnxc6MZAUKGOf7YK9chL6Asd2kW7KcRD8bHlx+WIKyTjn4tq0iLF8A0dxn+tYfor6nENxGaqp4tpVNFmWVh+irSEvK5FweEvslxml8YZKzdcnmJN0Or0ECk4c3oIuvcmIR5PIJLq/7kFZCka7jVuX6ElagRludLaRf9ytbxWqp6AtSE3UCcnZh0pS5kFRQhLlQ0Rt4eRWNS/U40SraPB5ighhn9CVlv0NRbx+eqCWt5O0lFrfzyT83z0Ou/PQIIjq9MkNHT6anet4/LTu6/ligpfz+elIhEXEfnq/6ZxS/TSgotK756lv0tVrSL6CqyEnZPRQQIuUiNqAQTkFRF10uq56s3XJnS6Wk9Agi1iCInIJ1jb1DCc5aFUkXXt6qMpXPS3FlCIXYQDXFrLyUbrT6qGFweYhnJ5iBW/nZUZdDW8iG8IN7Cb6ZEFbfoxQQj9AUt5PMUNQVkJaQUfTIrS+lipLi0IBt2RFupI9BBaaBbXZFBfSxRnJHKqEbrUsM2qEMDZ9WC4hgj/aCsxasL2ul/eLMwvjZqVHzkGR0qAUKlSA8MAV9RDd+Yq4QtlpaH9qFM0XIIao85MQioLMgraRWouFNajdOQL9RUFJwiLe61elQJuuEErREUxXElYgRQ3UrDSaVQVK1CCtFwggRzlWxFo2kpQQ3iUKCuFSgFXblT9VQ1B56ZLpTiSJSpBSnEdSAanal6yYXCgYbcqfL2VGpBIMPxz4qq4Pjj8FUxH5RWUzgtmTHmWKbRzbTKPH1wqnLl5yy6eL9OG3iTo8ud8zE4ilT5lbypypd6LrTRFa4BLUrCEWtIFIBARLrpgEXOZ9OlKI6U+q36ewgu5kvzUzS+agRJEgFaOZI1tqnT1kDCGQU2lHMKZqDD8ceKrmDJnhq268sWrN5jM3nWC7Ri3EjQY/xFYly+VZ5Ni2IY8KNlxUjcKbR5SMqblRgFqfP9Prqrq8KcS1dpAavO+arLcv0+ogQdbzI9P/7oBukrVJcXW9VGUneZ/uRkG7l9ZA1uUfp7CB+n86HcX09lNaJO0f8A2QNqcgiLKmhDkEuUVWVyDBdsgkOAJmL8RHgxfOFbDmPfHcQCXyiKwjatA3+zSvcoiXyEJLL4EXfyMhH+NgQS/sxRvgsd6yLsyBLSSZYg2kPp+qmy5lSBOinfqFW3GgbVch2pHMmFxMH6fUQVkI+QSLnXJvp8qMr1zDDkTZUC2zlJQThIxLUgnptHyU+UnKvpydHaVw5mktVBiO2QS9y6r8pQS+SIK2PHJzIvEIl8oisA2sQii7LMTcsr85ZpIlvaZTYnFJwf+mKiT6eLi+u5QhC11CFGZSpDuQ661LlUoGTKLlPVQMhqE2pAtulW9GtVK0EDDkUqGJmoMa2gwt5gysD9oJWUkt7hWgmOqTg+irMYwt7hOth/JYi+LDBb3A+G4n8jhrhqvrRLi+8eJCEy+G8o1KcmVQpHIgfoSpuhQ23hUBuqgEa1KCRcSa5Ip5UEpkqEGN7S4ZRdmmJ+WA7zhWXYVi73CeHonFIQS81YxjsSi7O8VDxSq9rAUXf4DwwfFIw/RX3MH1xerFwZFpUJsyHL0LKm5kIWKA5kzUuVMgYUITWoBKmchAvmIQIkmuQeNi+7CGIR/kEx6KowSTsGYb5ZOCHmr7MRwij4arcPikIw/wBmS87AUUSwFh6IX2KPoqxk1qHqBcmWJCPWSkpepUlTrSggi4lSQ3SnSDyp0Eexp4lKnKlepUs6vKqFLie5VFldo1Kkn5VLiQ7UKNKlSOVSPDypSzKRytVJXBnRoTC5yRA5Z1CFOlBNrkqnKhtqCCUjlUIQWN6ErGimQ3iQNlVZCmQgUkNTItEXEgBzdpA/NQjMXZQNqQhCAtcj1UakIGRpajUldkQK0XXJRuTEliuFjdWZBc21LlT60hZUBqSkQimS8qCwWiKUUakIFudxOTQh8aCZNA99BaNHbLP8XYqb/Dcb0VmXSO6y+WsP2VCXgXFRf7djeiKzTpcznXZ9bHxJaJITcxIFaopRUxZUrbmlxJhWhmtJwqsVYwtSjT2EEOe8dCCIfRRcJNFNyoByHMLnchhZUXIBMNtqV3CjUjqMqXSghHKPoI6qORStyqblJChApDpS3ZlYVo26UqCblWae3Uo6yBXXNRl0IF2piLc2tAvW7SbmSsTFxIK223IaOUUxNa56GtzI6ldqUcz07tRJcxNRgIlDmjb6aCHiUO4Uc0koEi+hqSUXNQQ7V89KREmuai76AgS5QzSmIfoxLzF6CBSzWqCy5PMTNSkbvJ4ECll/MSkLdGbkTfTIltzIIIeIPMS/TImalQRb9AWNbSybstqA8U5KD/aLJFjO1AWbOemH8bVpQfOWSefPxbghCyTkx4IQ6E+nR5BJn7oYI8opbXfnrg8IzcHnJXC5tnnIdb+em3ot0eWgTNlNK7S/z1JFz+epfdnPy0Cu5/PS8r/PVji+jVS61qCCcL77MqUnacgp36VBWoFc1GblQVqr1oGt40rudqa4voKW5UAi+j1V5flirTEh+gpGlmv8hAO5D81V3c4+SmJ2m3sIbwh5iBXRXWm3sCghJuvyBRum2s/sFDC4PMRKSEuDzBUNfmDzEEI/QCRb9AJBLS4PMStdaXoKSMdXzlXmzfOQM1n/AGJWfRiCbp+cpQIXUVRZvzFd5Cr5loruLQoaWoPMUlzIES4M3WQLdp9BQXCQeYgrQyItzD85ANHSHmIaOr0CS25i+chw6T89AOHKPzlFv0cocOV/noIucPLQFqVo9ZS4tPppSi2/noFtzWP7SpVjtPz0pFxemgqd0/Q01vVRqt9NFxf96oL9M6hTc25Q65BFrWrBNrPjaDTYXxtTgis8cLbTBYBtSLxGG4HxtWh/iFIjNssKDYgm6Va51oqskFRCPPaoLM1OXMpQJb1EvKrNaVpNQVPuRpTarkpEgrSqwiSGgr0JFb5yRUFtSkn6yhBU5DUFaSlzkCFaoTJMyBCtQLlOm5RqcSD4dSk8igXKXcKJOna21KClAzSypuYUakw5UDChCZBhe00W4TOL8VHly+SIsrnGkQFxCJLGtpcJ+Bax9qES84VkIlvZWWPihCXmp0cMxdacUqsVvEYdBcKs0pRIdSbNapDKRuSuIRXi4oxnQcEy0GZrk53rLRSaJgDid1UZV74imyr4aHV6diWkS1Vo853zITWWLl/U4h0r7vp8qMDLeRWO1dpK+7qo5UDD+am0pREvp/rT/T5EGF7VBbhUI/xFRlYvyRBWezROiGXFesF2rBvdn1b+1bkv7QVmpxd7AgnxwhLzRRvghPzI0AQqBFGG+nyIa4vNTCKsJ2ZAh9NrusSb2bXcw/iWM4z2g4c2eS0nNYimY8tLTMXdQjgwN7cKxD9Evsv6LQrE8X/JEjaTbWaTQHqj8qe5rusSwLDW27AGLqmEjTK3up8roQTcAoQmXCJEs/mZYhE4ETeC5o83EhUrWl9P2kwj9P8Aeq5aFuJYIAmcVo5z/wBZK0Wu7TvkRidLuZyXpFpN6qG6eqKD4itWJYxtIhFFwBiQR0ycQl7lDijHw5QS4qdL/wDTXn4zhb/B1egcUnE9FTgyOUzgXCUfXFp0H1fmrV+L3RFM1KN2VWZVgG8KfWCVrSTDnu4EQjoAvRU61YPjSt5lq/GPdD4CwVOeD4s5EqM/C99hSIOEOsSxcINoGTS+n7SVhdFvVWp8Ld0zs5xPMhIxJ+apkzFtE5uC2F5S3DaUIIomBQSuEwymKE4KLiQ3Sotd20EShA6BaLVc/Uquk28zU/AtVB5O0GEMfZriaFwyZfiXvYci7/CuG4vxtMlS/s152KoXfODMRwOKTjein2fR++cAYSilqpkuPyC1RJ9PFxZApZ6SlRaS11DXIYgFYOVBCGoU2oITXPSimUhhTJUwoGU2lakuUttQOn6qRWIPKxDC3uHKqOZ0rEFeFgst7s7w8XBA+cSyiqi6iz8P7QXorE9n5O2c0XlCIPyRCXHUfWif4e425qVM61yZfCeUKRFKI6VY25AoCKsz3Chim7MoFfMn6VrzaHtooezLEFHo1Wk5qLGqrWnB0eyTVsiKLCtuAxt/nVyxyj3SCdZLmTO4VCgKhMhy1DysWQnYHxJD/kZL69mXjdmmEi/kY+kSMQDvcK14eKTieiqNkh73ZbhV3xDfkIl9rS/W9uJmDUNUoXpWXjTKdSlYoCmWP44xjT9nuE5/EtVCOUhItcEG4vqqNn2NqZtLwhJ4lo+/GTmiiCyNmAuhWMh0oXm4oxHSsF0GZrVanAlZCANxn6I8yxDZXtko21vv8qLIVGFLSYv74mQbCO7KKJbBQhDlCg1T1lCEHzVMSKkVIeKBE/6ZLHtmR73Z3h4h+I+csomRdT5/7hE/6ZLFNlv+Tyg/cvnKxl6k1FyZQBQN2ZSoHlQBCpUucKlBA61KVMghiRO5tyQrrUC/nL4axTCqcsEAZk4HjYZEYax6Cy/zr7sw3J3oFaI+95FHKm02o1IFarYQqoSVoZkDqfzVXo7Ks1+SqShMly3JvWQKmJRpUlxcyAQocpQMKEpEOlDrkFiEtzfKQ7iQAOcgsqBTIDgQXEjl6yXlQMhGlCAzI5UwtLzkuVBLbnCpIUXZUpXIFJWZkrkOQT5qj1U1yUittQMlIWpkpIBDXJkrdRIC4lbCtJKItFqAWjQuzuBHi0OvRYBmO6xBMRSDjtWewCKLCAogGJloNYhso/Y9Xi/23G9FZnaNq7eT6+LgG8SGijeo1KmjTcjmTOcjSgg9Ci5ap207fKfsdnqbT/BQVafmoBR4sF7dyOn5VsHCGJpXGeEKJiORsg1GA5mZhahWIjKMnrtu6yG2tFUxahTpGZloFQn5WTOaIhhd8GIvLo4XLBNne1mmYzpVeqFTOSo4SNTKnQHx/wBc8y1VmwQFRFVzb1h+1DGhbOcBVLEoSYThypwx3J5T9lFSlWLK/QTAPF2lhuybHcXaXgKQxPMycCROajxIW5gmTW9CzHm+ehGQaLTScCte16qM2owpCmHlU3OtUZUClaNyUo7Saxy1vt42pVDZNg6WrFMlpWPOR5oYH6ZBwt6q1ZI7etudVp8tPSOz2BHk5oN7CjBJWmPEjjLP3VdMiTrhyKxvCuXI3dP7Q8HVOULH+B+iVpUcml0BA3BdPM5dFzGOsNhgyWxgVVAMORxGKM3/AL7bkVHK9ghbck6xgtND3QtAPapP0osSUccDStO34z2o43C5rncq97attU9rWxo8cYRmYE0EePDhQI0YLW9PKSw3Gxs1ybtrE9leJahjbZlhvEdT3fhKowohRdyDR+oTcqyxa6wKoFzk/W08ighz2I6FbxJW9fmsVhCP0BIjkQhcKG3Ia5N1QzciBRHhB3YRuI7feTIOotIbadvkfBlalsHYOk4dTxhHIRi2OGWLpyiI6iWLwNmXdI1IQqEfGkOTmYoP72OdESDlbpRxlm/V0sXRxA3rgobwh5i5s2f7csYYPxrL4F2qyXsxo5bqBPFm6C6ct2oVt7aJtcw9svngka5BqP6alSiwpuWguhbxtorFb7MyEtQeYoES+D+cufdi3dDSlTo0nRa0dYrWLZyfiOOFAtloPSVri4Wrxe6k2n4swFtIptOoNYjycmMhDinBDKfslqRMs7plvmpxhEVoXGsa2cY4lNpeBabX5Q2xiERmgD4GN0ZvlWOd0HiCp4V2RVWp0iciSc+EeHCGMGZvTmVWVu9tmxosIoWa0wVRFb+esO2N1CerWyTCtSqs5HmalNQCKLGjHcdyzQ3alilVvlc6qy2q25INyKVtLUd5cB6Vj+0wXYMo8Ifha7KrJLhfnWN7Rx/veweHxtdg/icsk8+p4twxSyDy8aUuUzVsXN5qqu51weEriEtflim5h3nmpPGEV2TqKGt+MZ1EA2KRW/NUjCiOyZczAFYVtdxtC2e7NMQ4gI/HDA3Eq+18Q7VyNsKxHirZ9tSwrFxVMx4VNxbALdd9mWXpyktqO7SEhtv8hITYWa3sL6ZmE3fNBx6c3ZXE23zbdiMZ6g0WvYYmsNzlOqIzhbmaL9Nw+jK1IxsO0N0XBf1FUMWBFeMIwIxzM0LCNnuOMTY2pFeqtcwf7XaUUmUWQfNOimLcxcK0d3Ek9OVWPj+LOTkeaaUMB3xu/VIkqOqG3NFURZmUgRdxHnJWFGH4EzES8ly1lt125U3ZFTe8ZEAnMZzw/pWRC7c+zliRP/QVhOwzYjVRnoO0HaJOT01iSaPfysicf3n2dUTm+sOlKjorX+YlaLuLsJiJxuJVm0c3zlqUN8vqJSFugPITE2FcZwxdlfalIW5vTJBX4vUAeQgRcbbPIJGW59nXSRyEaZUoj3NlY2vlRTzSxLQXHDKt0cW6DmtST2y0Eib7YaPmyd9LinufNi1K21x8Wx6vVajJ+DIot73Mb3lqd9Zbkme4kwzHljCnYqqkKfL3rvkxa7maLltUuimkI8QZhN5XqicnpanS3fM5MwJWWG0o0aO0e0RLmDuTsWYhp+OMQ7N6vUo89IU7eFCM47tyQE0mu09K8/uocVbQaVJzmGK5BkYuHqxH39OjQT8e0Cc0hG5KjrUSGOMEoRgYRbhMDz+yvLPEtFGq+CvD1O8JO3Xe3fQ713C1YDsBxLtCxjApNXrkGlyeD+9YcKTgyhjEimy1xcJLiLHUeoQtp+J65KPI6TUyjkYaB6InopUfpeTht+elESik0fTXw4erkLFGHqVXIHvNRgQ4vyjcsH2844HAuy+qzkI/05PfpOVDjfmb1Vgyqn4vodVqZ0yRrcjNT4udLQY7i+pmXrkNzRu7a4S7lmlR6ft3loE8DZkZOJFJ/wDrXdhOca0Q3i9NK7T89M1gr5J6ek6VLHOT05AlZOFmjTBiI+Ugu05/PQ/n89ECPCjwgjwDCLBii4TAxITHpUuLL6qCHFmf56pjxwlYBx5mZCFLQs5xjERBfXChb0gG9nZXI+0auVzb9tSPAVBnO9cMUwi35haNnvkQuLh6BQbknO6H2YU+ZOUj4t8dCNpbmARD5QisvwrjPDmNpbvnD1bgVELiMIJ3APRxDmWF0juatmFOp8GUi4eOcjNaUzGjuIy4uVaS2s7MprYDi+iYv2enURkI5XQWOYTrodvsuEh4lQ7B3RNARuM+cV4VDxHSsUd+eCpzvzvGLuI7PgYnCsG2t17EsDAVKx1hjEMCgBJwBjx5aYgCW+e2276y592CljutVypUCn4kgUI56P4WmgmJX9Mzfs/FuFK9th2buohXD81a+xVtrwFg6Z7zq+If04OaDKQN+zrNWD901tNqGF4FNwZh6Z/u9VhEY8aDaTem1o/716GzvuY8K4apEGLieTCsYhii6KcYy3QezpERzdZBkGGduuAMWVAJGm15syWUJuBuH9Vy2OQ6lpbab3NWF8R4cmTw1IBR69JiUWExxQo3sXNL/wBF5fcw7SahiqkVLDVcjHFqtFEd0cX3w4eW7iakhvgxFzUrdV6Yid/2JS7HkIEiubasA2keNqeBoGsqjEL5BWf/AEyLAsceNxngCAPxsYvNQZ6QkJHZY5Vdg08Vu9yeYq+YvQQQWRInK1Qgj6ZEvWRaKgh0oILK1IrGi5KWVrEFbXWpeViZyQuJAoKG8iZCoJdpSErErUFLSJR1k5CotQISTVambpSk3SgXKoU5cqV3Cg+JMoBOiQmSp7XIHEdKZtrko5kyBtSZLqT57kGO43gb/CFbAtUqRfIvqpMXvnDlHjl8LKw/RX0V2B3zQqlC4pWIPmrzcHlv8D4eL+SikXHPxeoxO1ILnNV4jxK3hA2plFrU6kQQN7K572pywbRtsuGMGb4wk4DSjnB0ezmLsiK3/GjhKQI0zFNsGAJGR8A9C5n2I4zw8G0jE+KsQ1iVkY13eZzOU/ZJvoo7YP2ZbsBq8zhzFWJNndTPx0CPEKV63R6wrfbGLlva9iqhye0ug42wnWJWcjW9+d7nq6C4eYV0/LT0Cr0yTqUp+tpyEMUP58yJyR8jt0lyo/ORmG7rJvWRxMNpfT9pF30/1pRyt1qeZBi+0Yd7gDEIsywCL5CWR0ot/SKVE4pWD6K8nGcsU1gzEMAdUnEHzXL6sJxe+sIUGOOSLIQS81qOni9dulMLXOUCp6yOaSKHlL6ewmG7MvmFxE14EfAr4DmoNEd1rLbzBNBj/FVNnlwyWw8H7L8BVPBWG5mcwrIxY0zIwyI7r7bizLDe6slt/srgkPwVUhl8tqw7BtN29TmDKJEoNUlSoIwGyb927d9CPRGP+J7vdGbIMI4bwEeJcP0fwVUqdNQYT5cybGEyucJLaWyCpzVc2UYbnp6ZOPObqIJxjzGyI0fNXNu0zDW18ZODV8cQY9ToMiQxYsGXiDuO0I+kun9m2LKDjjBchPYZg96yEr0DKlI6pYugbh5usnUycGTNaTS4/wAiG+iP401zep/6qCLPyo86CPxreISJN9r5mqdLR5RUOd10HxVeFvaHVYA/Cycb8Yrw9mUUYuzTCpFok2/IRCsnmRdAmQ4oRfiFYnsmIi2aUF3wW+H+2JGsvaXoq0eVQm7Cxp8xciMtxcSNCCJHNp3uksfzOCcAQZGnRjhVitxdwJgdwQ+jN8uVNsP2HYewlhOTrNepQVGvVOAM0Xfd25E+HmWAd2NbVcATOUBCIL+Zy6qCLDjychEh3QSlYLWZWtFY7ylTF2tc4/2GYM2h0aNKw6PK0yqiJd6z0sDWFzaSFYx3N4YvpFDquGMWSE0EtTiHvGbmMpi64R5Vuv2Cc1fONRlo85Gk4c5AizMBxFBA3EHscQo5XmnPd1iQ1Rbl6qYrhd1lCUjzZE+ZLqyOuRlG76eyjosnoW/odVhfGy0QPNXjbJ4pRdluD4nDIN+QiWQdAup8+P2iJ6KxrY7bstw3D+KGNC+SMSPfg4s3aSkVDVF2Ycix3TdmFTlelTZhcKCBcmHKoTaXIDqphRmRapAn6ygVLEDAhiG6VKBkwZXJQy2phtFBVOC6RnB4oReisL2cf5O5AeGPMD8kQlnEUXQow8pLBNmv7B2fFTk2PnLlm+uSJ/hkSm1QKjpcvgvKtUi0hcSXoL6jkzhyqBKm0kCL8pq3pgEPQBPAgQck92HCKBjfZ1N8QN+SIut4t0CULil4ZeauTu7UHdVDAEfgKJ6Tl1TKRd/SqbF4pWH6K9+q+vGvwOAp9SgBF1yLSXgQZK0iJNmTNQUVESi0OsQy+w4norxtjkV2y3DbtO+D+0JZFFF0jUoegpWJ6KxjYkT9ltK+1R5gP7Ql9nR/W9GLiz9TcpJC9TujSpQo1INXd0sJRdhGMx4YAl8hLGu5fxHTMK9zTLVesTgStNkY8YyM/RHmWad0DC3+w3Gw/wAgd5y4y2N7PNoG3PDIYSk58KdgylHEmXxYbYZzBDl5iXbxT+zY+4xR3X+OHkE1TNmlMi28/rES6+oNApuE6LJ0OiyYStNlRERAPSLmXL/cr7T5nBNan9i+MYISNSk48TvEzBry1QyL/Xm6F1pHEhJpAuc2qkqEIwXIdxJhTKVFK6WjCXxUT0Vh+yknYApQl8E4fkJZnCvtHqrB9khF7Qpblmpj0lYzYEzEdVSoCMTApQghilCjKgNCHqUIJdaqzQXCpQVpkNJH5yCNHZUlmS5rU1zXFxEgGknES1JRuTj6ypKB96dyqzL5SRPwdpAaewpG0u0lT6kC3eaghu7ShMRIIba7hUtLMlVnrIEu81TdqTeqjUgVMy5A5U2rtoF0qxtyTT2E5XIFRq8lMKCQGlCNIJkAPz0KMoqUEE5IKZGZAjOdSI2tFM1vaRpQCUlYlQBXKvKrEIF0tTc2tR1VKBSIQG5MPFyplAa+qtGlNlH7G62P+2JhZksM2VfsZrH/AIxGWYhyrt15Pr4uBVDidyKUZVTTOV8PdgToptgiO9I+Aei4l83Kta90DjT2hbJqxMwozalU/wBISvF9XN5qIySrFp3Z5hqD3Rm2PaLiGpQDmqRJycaBIh9sa2F6KyLuO8QRQkcTYAqRtnKLHKYgQT4en3xYVsD7o3B2xvAcGjnRKpOViPNFNTkxBa0yyi3srF6Ltco8p3R0HGdHk49OolYijCmpaNmvzecseWMqzdO90Hh6j1XZzPz05huPWKrK+Ip3exkJQYh6rdI/trTWyjYCWCtpVHp2N6IFcg1GnDOScxBMtxIxs3jNLl2DOCUCZPdGbCuH+dVuiO3d6PTt91iFcX561L3URN2FV4h1TUFbIlsQ0Oo1eNSJSsSMesQPfZEI4lFDrCta91Se62FVsP5ZBBanJLtJ3LwM2EUHmjxvSW3OlxdOdaq7mUW7CMN88WMtsQxfFZxE1Y6Q4lEXE1a5oe08q5tixDs+KlQ4QUmAUXvvUbVi2Ie6ko2GMRz9IiYMrc4cjH3W+ghn9haOwrt3lKRt1xVjY8N1GOFRgFCGRg++h7Lcy1zlm7nbY2ihq1Rs029QNpuKDosDCtRpgbgo/fMw4RsW2SuR0jKznLuzrtmVHHiqI+itz7LcVUeR2X4PhR8T0uFGhUyCBhGnREgLhWj+7VilCwBhuHxThF8iswr3HGCqxhXD1Tnq3VO+ajIQZqLuWtcYutWyeePOT2e6v2lYWq2zONhWTqUrWsSVCZgnJwZTx5B7BXXCs72T4Qj4Y2FUWgYjo4TkzAlYkeLTo2UyLxgwy4VpLaR3KVP2e4VnMZ4HxDPeFaA2cZMtG0NQrcmwXaTPbVNmAVepmZVWBHKVjxvjia5ylkeVWhqV3O9egHStoMSgU6ZqUesb2Lhc/eIMr0lb5K2t3XIwpXYbNy0tLQ5WWCfl2QYQNEOUWrdYk0WifKtG92GTdihjxVGGPyLfJco1izHYZC3Gw/Aw8UmRfKSzpvEsO2N+K2MYDh/7OEvlJZi4dR5edHpgOZIX9Gn5lhe0vGOIMGUWWnMNYYOvz8eO0oIOIQHitQlJ5e3PHtT2c7N42IaTuO/++hgeNuFZvSJqPPUGjzkyYHMzUnBjxWW3GLrVyJt12m7QcXYA8HYjwBEoVK76Eu+2Fm4bln8jti2yS1GpUCW2SxCloUrBhQIpgV8PoG0vJWvNHL3uiHcXpr4qtUPBFIqVTL9wy0aP2gFwq6mR5ycodNmalB71qUWVEpqW+JiahXzYkkSqeFcSSMO449OjDCDmbasd8nFzb3IVD9tGIcZ7RKke9qoRRgQDPQUZxEQ9m1dTt1EHnrmLuKavChUbGeGoltVGZGa3OpoWkuoXKfJyw8WA7RtkWGtqUWlTNcjT0rOUz3qNKRBdyuIuFJtbwlWsbYHkMK0WclZaTixYMvPzMwAlF73C20uIv214e2vbV7lMeg0+RpoVOq1Un97GbWQ8olbxEtqDvNxLb0PHFCE4rAtAukblpWM2sdnOyaPsoxnWyw/OAWCajKiO5mWlH3wanLVG2mRlK73WeCaZUIITUnHGUhRYJ5THpXUtrrQ8xcu7RP0z3aGDx+K709FHPJF8+H6jF7mvbvUsL1B/tMr8cigGeUPZK0uyS2J3Wf6W2Hzg/Gz8O/jWR90Hsyg7UsGT4QA/u3TCiR5M9X1LiFcz4s2rljXuava5V5n++egVMYUWCeY4PQLRLso5S7e105sdhbjY7gkWfuAS+VZvasU2YQhhbKcGDw0yCsoeOZa98EE5Ut4lZaWZVE0uXykCjCEXkLycse2gu7xwGHFXR9FZEIiLxXgY7F05s0haItWIv7NRJ59Q3FFheN/MVW6HUAeQStitdo85KxpHf565PCotzWecquqzzlaRDx+evlqtXlMOUipVmejNlpGAUcr/AKyDl7ulZ6PtI2qYM2U0q4BijHnwD/Xdd/uFev3a+BTp+CcJYlo0E/71over+CDp84VpnZpgXaltkxbiHaRhCpQKTMlNRIQT0WPuiN+YYfZWf4g7n/ugK/Q5+n1jG0Go02KD4sidQ3m+bcItVy5Dp7Zzi6BjjAuHsRwo2978lYe9Mz+E6LSWEVXYbQ8S4mxPiHEs5Hq0zWIHesqEyf8Ai4ftf/otZdxfi+OVIxDgOoGYzlFilFhQT0C7xg9kl1D4zU/zVgxKg4aPAuy2ZoMSqx6mdOkJj9Nxsxi0m+SuH9g222DsiwjjaWp8hHnsW1qahjTIIA4Q9h1xcXscK7zxtHGBgnEh6Bp0b0Vyv3D+BaJUJat4xnJbvqsU6a3Emca4YOpzeJV4jzO5QgUPGe03ENTxmceex/A8fKhPBa7UTS1D+0K7Qjk6IZPXJPdPbPqjgLF0htdwl4uMMcSnoIfGcRcpLofZltEp+0/BkniCnmAnFERmpYPgYmoVnUZYPNq50oy0WK9j+wmzD8ItV7W9mmLcfz1Kj4cxt4AlpUSGLB35C/2eqsSwzurynIHuaQIBx4XfVbESADIX5V0RMwiEmjw8a4R2xbIcX4exHgOmVrHh1iZqs4MKTjGZF3sTsy3F+hz2iQKnBiRdrs8QQIokQBvMvQS2Q6DJw2kfnrzq0RQsOV6LwyEwWf7WS9OOTy8WHmCvDxoXe2BMVRStbS5jRyrCThbuf9tNR2TS2JIdNwlHrvhGLDIzAyHc+x1R6VtGtd2Ti+FT5kZHAHgyZbbNzO8ijB5mtWQ9wnLRDwPjCZGC59Rhjkd+oK6n71347qZloBQSHxr5UWt1OV2HKXceUnD87LV3FnRWgqWNqiRDOSm7aUpDc4vKJbumdmlAnMcBi+elo85Uhgd6jBmQdAAeIR0kuY9lMOQHuw677VWDh79Mu70duDFvrLsRrh/MJTIeDs8wFR9nkjM06i78ZOamok4QHoLp4VyPsWwvC2iYn25UyPB3pzUhGOEbHMidERw/Ku2YTYD4vDCiEXkrk7uNCIse7SJvK2KI5/rxCSPEZb3HWII1X2d1LDsyXsT+HJ5rD983ZrG9psctsXdFYSwFAPf0ShEMecADaPFEXhwq9A7nPujsVFN+Kolak40WEfN0i4S8pZr3ImHI8zAxDtGqYOqVfjxBhGeYIeYk4jDtlLJzurMYHD95lYUSFC5B6LRXV92pco9zx+me6Rx/N6B334yXV5cqS5CoiCBfFMIQcZtH0lpDusJqW6NjM2ITMAjKaFoBGF3mrPdpuzKU2n0yTkZmsT1J3BET5TX7PFd0LmPb3sFpmzPBkhU5bElUqZzU8MDczgWt6bXZlUR1lhWLKy2EMNwCmZUTGnS+eOPCvaEdQ3AXBcK58k+5Cw/Hp8hFi4zr4nFgQ4rOD2Rc3Mt70WkQsPUOm0eWjb2DToAwBM7SMejiUiKvFiSeHq9HCw4EhGITZc7ohkubO4mkQnoWOavM3TJx4cJ5g4vqi5dQx5OBVZGcpsc91BnIBQCMNHsiuMu56xfC2O7T8Q4OxOZ06TqMXdCcYLQjdBeLdw+yOpV4jtIidl9BPChRSE4YatG4cgYBRYG/hmBSzXb59resuTe6AxxF2jY2w3gDCE/HmJmFH8fGkTJrunMLhzCI/qqR0rirC9GxfTApVek4c1LQooxxgsJoF0Zcqoi4Xos5iWm16LTYBVinQO9YEyFpBDa1enT5MqVTJCROMBHKwIcIjf8AWFqZzSd89aOSpmBDrXdpQZacDfy0KacIHyQbfOXXEch352ZlyP3QNMntmW2Cg7SJGCZSc4QlHMOLotiD2hXUOFcX0bG1Hg1mgz8CPJxxE/f2xYPs6SHSXQt68hkEn4iOEQbVxt3P5f8A+QGLYkL3lsw4w+6Lee2La7StmmHp+GNSCLiGPCKFKy0ExIvq6i4RWCdyvgKoUGhVXFtX38Kfr9owYwfA9BOd1iJPFUW9xa9FqsVX0sNEoaLbVgeJRdtIwZC1jKzBecs+uy/PWA1fxu13DcP4imF+MiQZ0Vz0pNVkXMfrpXIELKYqtvIrTJutJyoFektyq15KsXCgXlUNVirJ30NAjRVSu5UqCrKi3L89OSVUINV3NVzrVWTtKCrUj2edD9KHIFLlSFkToQVW8aQk7WpXakHwCrFWrRzWokCLk9zWqtMgsDmTZUoqzSggeJWpBtTC1BROQ3S0yHFCIflFYxs/juwBRHfBDEhfIRLLm73xawrZ+RDgJo3HAnJiEz+kR58nFlI5043L5ZOKcWBvDg7o19i14zKXqFLc6DW+3DEvtc2c1UoZtmZ4hlYQcfs5vNWL7MtgWEJ/AdKnq9Jx4s/OCR52sF1rVsnGez6lY9hSEKpxpoAkzcIQWtMuZZPBgBKSMnJwAbBlYQwoQcvQi45aR7WpcS9zfgw8OVUqPJx4FVGARyp7912ZU9zRi6JU8LzmGJ62fo5EUID+LykP8xLcwWl1VhtK2YUWh41jYop5zUrORYpEUEDHdO6c1vnIndvHuZu1pXI6309lKROu+n1Udb6ewiD6nc35EzdPZSamp3akHyVWEUekVKGPwsrG/GK8rZvF3+zvDZcMq3yFkfRCdCjQ9DSH5BJYhsnJ+zmjjw7wf7Qkb4sxb81MPrKdSkUYXcCJGQhfx8fsJm2ggU/N1kGpe6Vhb3YzVYo3bicly84hX2bGcc4ZgbKcMS03iGnSszACJvYMaOIkBbwhyrOMVYVpmNsOTlAq4R+8JxrtzmcBOFq1l+hV2dkWeo+WjtGUa1kzHGW1bBNBw1UosfEMjPdEeBEgDKS5jFI/ZEhyrXnci0WepmFcQzkyG6lpooYwH6y6HO81e9Su5m2d0qcgzPe09NN0Ro7RW25SWlpGWlpORlglZOBbCgwcoISlGtYrLRK3I78iXN5v40zREW6//uqZyOUCAcUbmuWPOuy+canL1P8A7L5adPQ5yEBDxsX1F71zkJLVGhC548QkPyrCdkX+TuDD+IqM7C+SIs5lmnMgPP8AkWCbJP2L1WU+xa7ND8tyNZsPD1VdC4lSI+NA8tpK8s6xBtLUC0kOt50dVBq3ug9nUXaRs3jQqdB3tbpJd8ywBmjD0ZhWM9z7t2otawzJ4XxLPhTMQ0we9QObtGZHraS6FvkDKXYQZ1rnH+wXAe0ac7/npCJTKqV8WbpzR33WHiWOsJxrWTIsT7UcI4JpUaqzVekYu7EihS8E94UYugbRER5lo/uXqNUK1ijFWPZ6DupacIoUAD4jJ1vVFZXSO5P2eUyegzMzGqlRAGluYxtFbpgS0nTKdBkKbLQ5OQge9QQygklWhDik25lLeHiQLt0BcSHF5Ti+aocB6v5VcTdOn/0SimuIeyjo+yQuGND4oTVhmxYnbN5AfiJyfhfJGWZSNsXrLD9jcJuEKlLfEVudhfKTke/BxZ+5RblUC7UmWO5eYuFWIDmR9RAqE2VLluQMmFUjFEiBuRfQIESAyplGtSpE60FcldpTC69yCxrlCYSR+agm1YFszH+9esB8VU5gVnw2rBNnFtMxPC+KrET0VyzfXJE/wyEUvSIoHhTdK+C8puhSI6koNLoVkK0VAqnaeVVpVSp8M2nNSsSAHW6RXJPczbSKfsyxTizBONp86dFiR3QpmbMmgQWtuyuFdduIDttWG482R4H2kRe+cR0UIlSYI99wbIv1OLiXrw5oxjLHkIOcu6oxjQ9o2JcGYfwnOQ6tMyse45a4b2taS6+lpbvamyEoWeBKwxLrdArBcC7F8C7OZ7whQ6V/dIMsxMm4g6qz3oMjuJNRmjKsYrt4pHM5JqTiPCm1dteVxCa3UlyigScLh1rFrei6FMD9oifjFYpsKL/ByAfFT8wPnLLZIXEcPiFqwzYORe0efh8NWmB9FfZ0X1vRibK0oQhex1HWTNS6mphcgwXbcAxdjGNg4qcS1p3D8d2xiZHhqPzVvyp0yRrlKnKZUYO/kJyEUKPB4x6V4uA9n2HNmtFjUnDMmcnIRYu/IDNxOS3bUaZ7rPYxHxdTIOP8MBusVUABKPubYszDC4S5iFZf3Oe2uFtkwU2cOGOKqZbPQX3Rh0xhHm/bW4Rit7WYDWusObEcB4QxfGxVQ6bNSNYiuduZrxV+YWtypbtGfNbrQ0VYmWCvUhFrmvU8qxR4HvvaWCbJP2EgPDOTf/UJZ5AzOWB7KRbhWfhF8FUZgf7QlaWcAmYSUeJMChSVGUVKkuFBCX1VLrkaEATRzJNKc1VlFA2pQ1wqHXIEhcY6LUDNuStER7KZyECtQm9ZS21Uk13nIFzedqYM6hA+pDlOrtJGeigf81QLRHyk+pL85AEouJTq7SZvooK81vVVn5yEwkgVGpMj85Aum1N6yGimEbm8xIK/VVnrJNPYU2uz5SQBF6KbV21WQ2t5U7ru2gi1qnX5KQebgTtu7aCc4+UhvzUOaLkDc/soI6qlooJCAap02peVMI2mglJzJ9XbS5UBpUaOyp40IDUjSjMjSgnjRpMuESStF1qgdbeEvRSA0psouwnUy4qxMLM1h2yX9h9Q/wDFphZiPCS9L6mLgGk5KrErWo6BtwOPMS5T27xC2u7fMJbO6eZxZOktCc4XOdEL+YV1d81ebI4aw/T6vM1qTo8rArc07ezwB40/ZzXImUbvTKj4egeIlsPUTcwBGFC/SUPL0W8K0D3XeB5Oq7NpavUumysrOUCO4+9IIwvF9Oq3hXQIk0FTMy0Cck40nOSwTUnHFsWDGBwmPMsTLGwzYtjgdoOyug1kjMpyBCGTmvugalnsKLuosGJwk5eZSqRTKDJ950alSNMkyJxQZQGi7iX3WtWqcfVKpl3PndRzOJq1Jxyw9UyI++IIaYg/+hL7+6F294Z2k4Nl8G4HCeqs/U5oTI9wxnsZRb/rXUlapVKr8j3nWabK1GWdkmQcxeZhzAmEsJzJzdDwxTpGcP8AdIA6L2SLKjjsPm2W4Qi4C2b4boEz+vJWA6OHBE6cwrLMqCiuviXOS9tY9D6ZabKHHgtCBnH4EfVXOWySP/8A5TbTo/QAWyZNNgtzD2V0KNpAvnGBAhRY0WBJwIUzH99jAAiR9Ykc5Y+59ceejxyuMGcgCPoqgk1qVpOuWqjFzL3ap73B2FYAvMymomS5RQe7JotFw1RKWWD6pFjU6TgypmBtewW5WrpkggxRCHHloEcBuEIwDF9JLCgSgf5tpQ/8lD9Va57cnKGOO6PxHtfw/M4MwPgudgRqsO4mox+NLd8I6RW+djGzv3K9ndNw9HN1Sil31P3277p0j1RWeQIowDdCgwIHPBgCPoocXQxSRxeSHcK0N3XoRZnZBJwIAHFOLVhshA4sq3y5oqd621gF1wEvSWqlGzkTB3dUx8K4Ow9h/wBoE9H8FSoyu+eV/sasq9wO6+npqagwIez2OG9ijCeZxLPZ7K6iGdjs+A+8Q/VSlOzJZd394H1VqazVC0oQRLx3oiTOAukUsKPFgXQ4xj1DUE4s2dKV/wD2LHZpfutoVTrOymmyspBnZ6N4TEmA6KS3XKzM3LUqlQN9HHdScESB/wBYRUQ4hwjsNvUVZERrHPb7jOcTiRCjlCiuHToYq7dKLc3EtdHLe0nZDjDZrj2NtE2bhv5aIRRY8oAXB7OYSHUJL7x7qfF0eF3uGzKNFrbWewwm7zq/qrpmFHKBcBtMeBAzkUYu9Fm+LXq8pa47Tm3ZjsmxdjXHobT9p4box8bJyJ2k7o978XpEV0dFib2LvCC8usiLHKKTohuMudR9M6x0jGhSLULFz9iHBuIaj3WVHxLAok1Fw9K7nezzPFB7EMnXLoN1v56go8Qhbvj8tGyjZeUyQzZxQP4UiXIPdE9z/XKhik69gijx56Wq0IjmpeWD3mJq+Vdab0sz0bwnOE/PWIlis8PB0jHpWB8N02bgnAnJOQhwosE8wF0DcK9Uml5XGrXOS3aVroQvpelLiTE5zWJW23IK+ks7Tzc68TGI73EOyuH/AC6MXyCK9vpdp1Ly8VC7HGy6Ffmm4vmiok8+obXikO/bzcaHEQ/nimK4nfMVZcN/kLk8JCIudnZWou6Kw5jXGOz48PYMk9/GqMVs48xHxf8A3LbzeL0EjbbfQVDENkmBx2abOaPhwf1zAhOmjBvv3TcSzGFFiQo4RL/IFVFrcGXkS5yuZ5BKRzfQdh+LcGd0POYto8GB7Up6KRR/HiJNPNbmzLpBrRt9BL4ttrPORluLV1lQ8rGNMmq1hDENMp+77/nJOJAgAdou6eZat7mrZdiDZJg6sUzEPevfM5Ob8Qlo29tatzusakLKg+aoU+TrlKnKRUg3shPQigRQ5elc9bHdiOOtj+P6lEp8zTprBM8ZDFCNNDvW6SbxLowh7JqtvEgu1OH0FWNo8TUZ+yh3nolqraxsyq2PcY7Pq1T40rCk8PTW/jhGzHc61bZnIox45xBtdyKm0Mqj6Z0A2HqZ5BLycS0qJiHCtepEpGgQpmelYkCEZgTXdK9YSHSfVvQJDx+eg48oPcr7UsNSZylKx5TqdBilvTCXjxBF3kr0x7mfafPeIqO06B3nF99AJqNl8ldXiRcfnpnE20/PW2GvdkmyTD2x+lTMtSoxzk/NfrqejWkfKPCKz9zdfnki5usu2mcXP5YrBXFIYsCZhPbvYRCJv+uK1DsL2OzmyKexZMzlYlJ464QkO5tZ7BO1LcAkTdfmqlpNaL2O5UGntvmwqHtkmqPPS1VCRn5EShRTjXPh8IraWF6VJ4Vw1SqLJg2TkYAwBZrLUS+4nO1+alICbc/zUGn9lexSPs5xxifEsevQJ7ww5sEIDWeyTrnLbw3IYi5aEdq+etfbX9l3ut0Gm0gqxDpwSc0Md7CJ/saVsNBZkFMKFuoEGARuCBCGF8gtTfTOjV8Imu+2eagN63/vWt9qmxHC+1kd/UHyNYEWwp6C0n/dB1LZDC6yVvF6CDmCF3KWI4Q+Dy2nTQ01rdzBOJ731XNW29luxjDmyaAcelAc5VYsLdRajGa5uoRHStgk4f8AsVbS4InkIAjHMR39cUokRA6/zUFzegoLl9BB5uIaDTMVUiZpVckAnKbHzAejmHmWgZ7uSZOBORjw9jOepktFJ25YXpCVy6MHm9BDS0h5iDRmE+5ew1Q6r4TrlSj4inBaQ982wndGoruki7S3cRWgOUBGwAC0FJC0fzEEWkfQQKkuTfTIj6PYqFRCTlgse7bEH2ikw1nhCsFlmx9sFYdduKdBHzUGcFmaL0l3ApzXKtBLSU8yXlFKggiuUqbUpNyoFIbrlDUEI6rnIQVpSFM1LaSBCcRIK1MI6rEvKqCkJKsuFWWqPFoKyhE25LmTESUkClbypVOrIhqBFUXEmitUaUHxpkg2qwESAzp+VJmTC5A4p7cwpOqmQN6qkFA3KeVAwZwWF4BLdUitwB+Aq0x+NZmsOwULZrGEAtNTd8op0csnBkzU6TSn1LXgPpdxJm6VUNpNViCW8KbMSOX6fUSgiV6VCYUDC1zUaW/T6qBcSbmRQT6m/T6ihTc23h/KiVsuLibxD+VYdsnEhwXu/iKjOj8kRZnCLdE4dJj+JYdsy8VI4klPiKxMD8tyHizFot8lAuQWVwqzU3QgLewCfl6qQRIxb9PqprryQTzKzqqv/tQPFyoLG6X5lItyvzaP96jLcoQWanc35F8s9aIQ+VfTyqiPC373ZLkHzSIxBEyF7Ll6trm9X8SpgDbdyqzmHh/KgaE4iBv09lYVs0HdFjaEOQa6Rf2azeBbFDlL8iwbADhrm0WW4KnLn5cNFM3D9UOynzXfT6qqEvnJ26eFY5m1odao0c//AN0pXXILXEQp2WqoeElZa1BI5l8cCehnMnCiAYty2WmvpMnE0UbqHq4lzDQhaLeEnKQHIIpW+gnL1kAJEWjiVpZuqSrhNLstFWaOntLo6PskBIjAeIfnLEtkRMkcYQtELEUx+MRWXyFsyCw7ZgJQpzaFLfFV38sMSXN78HFn2nyUulDlP5qx3A5vOTJREi5U2pAIaOVCbSgXdqwbVL0OtQMxQhCkMpFqXlTC1A9pJtKBahAQ2vWC7PrZnG0LhqbvlFZ0OcFguBbcQ48hfyyGXmqMnCSWQZRUCTrR0iotii08ikRGE9oL4LwmuVlqRMK5hkEKEzli1YoTOS8pLULOVCLRQ5Ys2pGm1FovJNdqYg+iQdv7uZYTsOtwziGF8VWIyzSQ/XICsI2J/rDGcD4qtxPRX19DxejE2b1UyrcmXudTISptSBkNQmQQxDWqUyBVF3nKVDWoAEanIYg1KlkD3wFgezB0KlV4S01iaHzlnkL38OsKwPZp+tcTjw1ua9JBnQ2ipSpkAptUKItw3IDTagEFaICoQSxIQ3JzVRxYbmvAUDNttUNaSlSCA0KUKBu8pBA+srEjFZrVJKPNzKzl6qXQnQKhBKfzUE83Oj1VGjylKBrXdpAkOXlR+claLXcqBrnO51Gjskndd2kuky5UDCj1CTau2l+DQH5qB9ZDbvJRa3ykCtt7IoaTu0m/NU5S7RIKhc1Xau2lLL2RTau2gW5tvAmcRZkunsqz1kFelTlJvVUNtRq8lAzrW9ZK61xcKnl6ym1vkoI5UwIdcHWJDhaglL6qkmu7agbh5GoDUl9VNqbzJdPZQM65CjNaPEKj85A2pvVRx9UvRU8fZSaT6sT0UgNKbJCL2mTP/ikx6SzPU1YdsjcWCYxf7RmS84VmJZm9Zd31MXFGlRdpSk0bi5UzNK10NmHrJkota0UzrkANqLQPtJXErMy0KQuyoESEc6LiViCtCOZNcggS0odxPUFaKa0rUAlfqSpkAKVKKBK4+sgEItbcmtYgGkKUiTEWpVkWljgQPqSEm02pPmoGtcq3popBqNrudKTm/noJUETsyUExE0UA61yX6Z02VDrrUCCWQSPz07/o9QmQV/TOou+hqSyJcxdrgQM4vOUXELVDfoxDfoxArSSk7gVn0yKtowrvmIAXDo8xQ4RJpegpcLkhNdoejqMouQTdXNoRy2JdaOReZiQrvJT70SFyTV+eghjitBeVWy/wk7NB1jKzJecvVt+hry6kIltb2ewuCmTBecoyPPqW1SzmLPMTMHLZm5kETopk/wA9LdmzdtcnhJaN1nnKu4Yui3nV3Lf5aV17b/LQVv5/PUE3t9dPpbf5qLuCJ5qCp3D6aHFz+Wmu1P8ANSlC4kFZXXfPTXO7SG/Rihv0YgguZRlR9MiVpESpIuQ7VegbhAkMQH3zy0r3ZnpmEl1fmIFbE5y8lDi1Pt6qYnNt9BLujLqHyIFbkz+ap0uv8gVLR6vYSNh6gDyCQNc3X5CVpELfmIaLcgeclJvJzIFaWVnmJIoiUIxZzZE1n2vzlPi+APLJBUQuFpAHkJWi38xWtLkt50hN0rRW0RTfTIj6Z0Dy50EXF/2Jc3N2FJNH/vUW5iNvbQHY8xV/TIrH6UvK9yAy3F6Cho/QFBEJF5udDmiDjzc6BSEeD0lQTW3M85XGQl/3qsuX00CWv+DQ634PzkETyaXpoLhe7toK3IJuYvTTXZn2ddA/S9BU4XWpcrPzla1uX00E76GgqJo8CYm5kNaShUKswuFYNRbtq2MCL4KBBhfIKz8bLmLAMLlvdomP4/DOCPmoM2JqRrv+9MWVLlFt5IFL6XpsyC9JFxa0C+yPGghbm9NNdlvSlzIKSyuUOFykhLMkQM5I76PTkJGPIq+XxioBXCqsqsK21V8qAIrmpHJ9NqTKgVrrlW5WcqrF2VAOakenJ2lVoK8yCUkOlRag+Ic6dI21OiU9VMDnA0+sgbVIoLB5UITCggbRVgZUisQRrWHYUtxRjaH9tly+UVmSw+hNhbQsTwtEeTl4vyWp0csnBkRCrBV3e9yXve1a8O3ICI5kynvUhJNClyFDamqtIfp+2nBfR3t0IGVLL1UNqaoUzS7auGVLMrBlSc5Damp1KeVWDKxHNyqzvMiuFmpDamo9X8qcfp/MrO979CYZUm5wH/8AuhtTRAFpAPVWHbPTbU8eQ/iqsRM/3iKzXvfmWJYMhbrG20KWL7Kl4vyw0VtSZZ7JPb1fxKsukm2/T2V9Xerhd9Pqpu82s635Ec9qb5/Z+cp9jT1VeMrEaHZTbgs2VDamo9m5xcyYOlW959PH0pu8+lrsvEp91bU1Q9FzRRvF9AS2cuZAy3T5Ke5tTU+z6TvkSj0tYPMK+rvXpzcKfvYdKe5tTU+zqFHsjl+n1F9AypajdpR3nEa5+n8qWNqb5hc0G8P5SWGYQLcbRNpEsOvvWa81q2B3qVnB/wDZYLQZeIO1vG0LXFpkqX9oqVHFJlgj80E++dcre9um8usSs7zb6PyKfdO1J8/spfZub7Cu726b+r+VWd5jmenubUlD2k5BdI6VeMs61MUDpHMnubUlUKF0aum9EK20unKK+jvfp0q3vLpYoNqT5rvruTD/AL+FX96o716dSG1NSPL0qzlTFJGNsO4ztVoyZ5iPmQ2pnkcwEsRwB4jGe06WH+EZeP8ALDWZy0JkQOssMwh4raXtIh8UKQi/NR7sDOhG1OjV20cqx3KLiigLO2rEr9SsagEupMlyoLFGtQp1oAXcCdKoBAwuTXHlUJlIs+qhLmViCNYLB8Hi3HGP4XNBJZxruWD4Y8VtIxnD45WCSjJwkl7nSmuK5L06+sm5l8CXJ4UphSPFM9QLNShrlDnCjqqw+lHWRyki0VzWNLUwk0mpUDxILEWpUuYkH0yP65BYVsebCm9oUIdNYd8orNZP9eQR51hOygW4q2lwOGowy+USX19D9b0Ymy+si7Mh3EptXudT9VDulKhA48KdVihyCxMqxJSaB0JVL0EpVD1KlR4XvoN4lguzu2ZxnC4axE/Gs4hFcsFwBbXMfw+GrfNVjOGIDIjqp1AFJpXqVSQqhgCL4gmb4vOrUIPLjxyjzLBewSycaGiS+iLCiwo+/hXci+Pfi5pHepUvgRdwQQyNwHx6F6GVeUTo7IQal6ZcPKgdQ7UhzUoKkm6qbWjU1GVAaWqRzO5lBCmHiQL6ihMgm5kDeqhvzVGnsK3V20Cjl8pQBQ96cITAjERJmpqnpy9hcv8AdK4trWBNpODqvQZzvWcGViCQZhjD0FlIV0w4ZZZVi4Z88MPdN1E4R8olGnsLWeyLbXRtqEmEqbKdiSEBb2RM/fuaHxLZRiQWlyqZQlCVZOkMsJxtFbq7aX1UdXmRp7KlZm+mo0dlP6yr0u5UDfmoH1kpZu2KZ1vlID81TmK7iJKTvRUiREXlIF+C7CbV20rmwuym1dtAuUbuFTr8lQV0LsqdfaFBI5beZKJO81GlvWS9XlQWD84lGjsqPzlOjsoH1dtJo7KnV20unsoGyl2kB8xQ27tqNLUClntVn5yW1vkpXFp5kDfmo0mXW9FGjo7KC96P+k9FIHRpTZJ+we77PmvSWYkJOuWJ7IYfSWAAK/8AX0x6QrNSh3ZDzLvZ9SL5brCU5kFCLg0pmlwHn4FtnWxcou5U3rI3fS24DTtN1oGiLk0o5eZBQ+kLWGm3Z6gNC4RlU7s9IGxG5ilcw0Lk6yZwjlTjAilaw0owY7XbmOhdUZNFM4fRVve0d3vJo72jl8CaF1WbKmL5yfvaP8SerQjvaYzbk/IWtvFUlLhV/ecf4k0d4zebcnpQs+ZNaN3Ere8Zkf3MaO85kbdyelCyu5TlJP3lNZdyaPB898UayzLqSLUl9hfV4Nmi/cxpSpc19jREsXi+YenUgugrG7zMvp8FzXxKs8FzRl+tjSxeL4fYaShmrrL6BpE9l72vVvgic+xvPS0S8XxF0dP0BKPR0fQF9vgmc+JT+Bp74nz0tEvF8JdF6X2LV9/gSe+J4daXwJUfibOulom7F8LOj60NHsdHJ5y9AaDUCYQy0Ty0eAak125b20tE3YvNLo6Eez1F6ntfqRF7y7tqPa/UdMGIlom7F5Drc8N/3RMXS7X569X2tVMid3sZHxsTe1qpl8DE8hLRN2LyB6OnV6arLoK8V7PtYqXxJ+QkHC1TzFBMbuBLRN2LybxIHZ9SraRcflr3PatUju3PmEp9q085pQAS0WbkXhENtyhrBBr7V7cXDU+RNFnkILC0/wDWAUtFm5F4MUrPKXwTQ73bdhUPiqJEL5SWVe1ObPMcNY8ctFDb3SoXxGHxfl4iXOUnmzzjJse4TMfVUNIk+4PgDtoKEIlaxQ8xOx5iru+gJjEW5wVfbgeWgGcnmJChDl+Ym3oN9+gffxVe/gfZkr+FCgZg/QCQQi5tnnKvvmE5vfkr+FD6yQpmWH92Sv4bD9ZBIkMUtCnq7tU9/S0L92Sv4VD9ZBVOVHNPyI/87D9ZUL1Fo3Evk8K0/VUpX8Kh+sqirlKEbqrI/hUP1kS+xiYibluXmlXqQL/7sU7tzsP1lHtooOUsQ0v8Nh+sg9F5ciCb9HLxixZhwf3yUf8ADYagsZ4YD98lH/rCGg9o8+hVkRPtYwedeP7dsMt/ZPR/6whpSxthcf3z0f8ArCGtqPad1PLQ4dLPv68Ise4V/jVR/wANhqv2+4Ryliqj/hsNKjIXN/71G9ta/wA9Y4W0TCEK321Uf8Khqsto2Dv41UcT+7w0GSuLT6aHFmL0xWLltLwUItLFtHD+nFUntNwKObFtH8tYMqcWZMWbOZ+SsOLapgP+OFH8tIW1fAQ3e3Cj+d6q0ZiWW1F3OsJ91vAGX24UfzvVSltbwE53twpfneqntIZmTna0XO1rCPdg2fZSxbS/7T1UnuwYCHLiqnF2InqpWQzghL6f6kOJtqwUtsGA9WJ5HyInqpfdlwENvtklfvET1VXtIZ4BFqP0UpOJYIW2TATne2SB+CxPVVfuz4EzeHof4FG9VT3DOiInNv8ANSuJv/asELbJgX+G/wD5KN6qX3ZMCl/ng/6vjeqncM7IiyvPyBUNLN8wVgJbZMD6arH/AKvjeqo92LBJf5ymi/8AK43qp7SGet4kEJavQWA+7Jgz7Mnv6rjeqo92TB2mZqP9VxvVVe0hnd3V7ChpavQWC+7FhAvhqp/Vcb1Ue7FhMbR8Kf1XG9VPaQzjKhtvD2FgvuwYXyj4Y/quN6qUtruGiywa2X/lEZPaQz6AInFgiWsh0LXWAvG17HMf42oxB+RfTA2wYcGZgulq/m/guMvO2TTMOqyOIakAGMGaqMYh3wNJrtQoNhMs/MUN+jFGbMo1IIMWvL5ii4coIaKVo5mIG+mRV9hMQpTQSq2tUkVrhSOQBEWlKSM1yOYlQj5yUuJM5tqrPOaAEhS6/wAxLaOhSVqBeVKQsFBKLUEaWpDTpHaUCtdlVfWVmhVOEeZB8jmpv9TEo2puVEpTKAUoLBTNcLkrkxcKBtSm1Lc1WcHsoDWteVCeqNK2lxvBlHiVM5qki6CEcYTPYLiJbEWJR2wtp9KL4+nRIXyE5BZ7Y8WEX7AI/bnRTe2XFmX2gH/WArLy1kSXRwIhifthxfm9oB/1jDVvtjxf/EA/6whrJ3EnEfmoMW9sOMf4gf8A1QVIYhxnmHAH/wBUFZUI6ldCc3Igxf2wYz/iB/8AVIajw9jQf3gf/VIayx1piQX/AP3Vg3Fai2I+2HGunADf/NBTe2HGn8Q//qgrLbnJmlehViHhzHGnAYf1hDTDXscDmwHA/rAVlysEUQxDw9jjKOAIH9aCsSw9WsXwtomMChYMCLOTUrLlFlznRFg5RJ2pbcb85YXSBGW2z1gSyR6JBi+QSD7PD2O9OA4H9aCjwzj3+IcD+tBWX25fp9VWdbrIUYb4ex+53tDlf60FIWIMfiX7BpX+sBWYtdbotFGryiUrYh4ex/pwNK/1gKkaztCLLgCV/rQVmjiC3m/Igh+n+9BhvhnaBlLAcj/Wgo8ObQP4hyJf+YCsztHyiTZrUGFe2DH/APEOR/rBN4b2gfxDkf6wFZnpz5kyDDPDm0P+Icj/AFgKPD20F12A5F//AIgP7SzVunsqebs/Kgwwa9tEbbgOR/rQVhsjWccQNrdVOHgyR8JTlHF0t4QFu7CJ747rLc+V5fT6iwAhiQtuVNEv3Vh+NC+QnIPo8ObR9WA6d/Wgo8ObRS/eNTv60FZqWbyi+VM3o+ahVhPhvaN/Eanf1oKjw3tGy+0anf1oKzUiJtvD+VN1vp7Ckqwrw3tGG72jUv8ArQUeHto+rAFLL/zdZrcNvVVg7zNflJCrCRr20cv3gU7+t1Z4e2j5faBTv63WZiJWJhcKoqwwq9tHy+57Tv63S+2DaNqwBSv63FZw7SoIS3Vr3kpsMKGvbRnbwcAU7+t1b4e2jD/8Pad/W4rNbm2q3m8YgwXw5tELLs9p39bivM2fTlXj7UsbeHKVApk/FkJUu9oMffi3oK0nLZfRmB3GsEkSKFtrrY/H4dhs/mjIRZ6XKrNKNTUqxQ5RTIykgRQGlClwipQMhHqpkCqblKh5IGHhUioe3MnUgHMrBSjmaSbrIC11q1TMVDEdK2s14aBhuBWgjyEMooRp0YDPYLmW1ia21YPJNhbYqlzUn5yzxTJ5p4h2h70/8HUr/W4pfbBtB/0dSv8AW4rM+kvGGKkF8GUo24vIwkq9tB/0dQP63FN7Y8fjb7nUD+txWZu4kzRLKlo/qMM9sWPx/wDh1A/rcVPtix6WbZ1A/rcVmO8JHsxPtiWj+pZhvtlxz/o6D+txS+2fHX+jeH/W4rNmkj6qm0f1GGDiXHgj/k0/+rw0e2XHWUtmn/1eGszIyLtJ3JaP6jDRxPjjVs0Mv/N4aPbPjjTsuP8AreGsyDhE0z+dqm0f1GHy+K8db8N3suPN/CkNYjgTE2L5PHWPygYAjx5mPHhlHl/CMMSgl1speytxy5tih1hWG4BJu1jaQPLBJfU0OTtejE+32346/wBF01/WkNT7ccdD/wDC6a/rSGs8c0mocve6sF9uOOP9F01/WkNR7cccf6Lp7+tIKzt9ya7jQYF7ccbatl09/WkNR7dMZ/6Lqj/WkFbAuS+MLWssMF9u2MdWyuo/1hBR7dsX/wCi6o/1hBWei4UPFapgXt2xj/orqP8AWEBHt4xfq2XVT+sIKztxOzpnfR6DAPbxi7TsurH4bBVnt3xZ/ourH4bBWdvQ9EsF9vGLLHbLq3+GwV8OymoTdTrmPIs9So9JmSqYkUpMmJEFvENq2YJE65YPhA2442hD9vhl/ZiimaWqwFCR6xJmCpSqXoDlUqNCUY4ETX3igsa4XJShAVpABIem1OQVCIwhaAAIJwTGjWgW1MI2uS7oRY1NlQB50zbewl5lKBtXaQhDUASGo1Wo5kA201Z9TzkvKi7MgB/bXJHdiCzFeES4pWN81ddDkb1VyT3ZP7JsH/cpj0hX0vSvvfK9X+jq54lpuPJzUGblYxwJyAToUaCbSAuVdZbG+6Tl62UtQMcRocCpEQwpWqZYUblicJLkM+j2FIezEFpdK/QavQxzx/p8HR6+eGft1fqM1vnKPZ9hcX7G+6MqODClqLiUznsNjaMbNHk/WFdjU2pyNcp8GpUucgTkhHEShRoNwr8tqNJkwSrJ+r0+qhmhaL7B+clzeSotSR4+4gbxhllsBeZ6F2Uu0gRUk3e9pJcQ9kkDfmpXNHyk37faFViTsvMgnT2E+rtqsvmimzF20Bp7Knl6qTMPZTancwoC30kEJeaKG+iSHauqgLn9pGnsptYdYkrrW8qB23dpLo7KnV20rtPKgnX5Kj85Beqh3zkCkJDd1U3rEjT0dQUCIubzIFub2U0X3qN1S9FV54XZQVsCN1S9EkiNI7JKjj+FgeDDpWG6DNU3fxt1GmJ0oUU7rnC1Zr0z21J1uGMJj/5gXqqvYfbs5kxHPv5r/qLYbizdVVJVmvinNqmb2t4M/rCJ6qbvrap/F7B4/wDmET1VnpXeclubbyqbNswTvjav/A+DPw2J6qXf7WC/zVgz8KiLYLCEgdc4iR6qWLMCftYLNTcGD/zURR/hWMf1tgzy4yz7N2iRnF3KlmWYCMLawRe84MD78jdbWePBg9iISz+3e9tQWTspcYD3ttXInd84MH+gjI7x2sEP6/wYH/Kxln7vTUZvJS4wIZHat/CuDPwKIp8H7VtVbwZk+woiz11zi5dajmHhJLNswEqZtW/jDg8f/L4iPBG1JrixPhYOpSyWfOLNzCh3oJZlmBeCNqP8cMNf1WXrJfAm1Eh/ZtQR/wDKPzln5eql/OSzbMC9r20wv3+UQf8AyhR7XNpLf8oVL/qVZ9c9yX85ayzBPa1tHddtIp3Yooo9rW0Nv+UuV/qUVnZeqlyjbwkhZg3tV2hl/wDE6B2KLDSlhPH/APpO8ikQ1nt2rlS8w3LbFmCe1DHjrtqMf+q4aPadjbVtRnh6lLgrPLlDybkSxZgQ4Hxjm91Sq8NlPgoLA+Lz/wDijW/wWCKz3rKNKWLMA9ouKNW1TEXYlYPqqfc7xGRXbUcS/eIPqrPrfOS+L1LBgXuc1xv+VHFPkQfVR7m9X1bS8WP/AKH1VnbRDLzJia3ICDAh2ZVEri2l4wLtw/VSlstmspbRcYF/Tw/VWett7KW3kWWSwL3K4hWltCxn+FD6qUtk0IromOcZl/zrfmrPrSF3KpNtiWGAFsklf44Yz/rT81KWyKRL99uMy/8ANCWwHD9DUly+mlhr0dj9ILNifGHD/jcke43RdWIcYf11EWfj0+cp9m1LFmvfcboPwlbxYX/nURN7i2GcvhLFJf8Am8ZbAaLruJIXEKWkpr73FMJ6pnERf+bxke4fg7Udb7dXjLYLR+2JtLSzpaQ137iWCdQVg+vVI3rLAB2TYT92uZpQyc8UnAo8OP8A4wiO3nSXE5y39l8ha3p/jdvleifFUeXFVGUhb7h+BXXU2e/rSZ9ZN7h+Av4Kmi/80jess/3sS8h3hIF7bgO5TZLX3uKYAAv8SRy/8wjesm9xHZ9/F6J/WMb1ln5bzNf5CAGJ61itTAB2LYA1Yb/+aiF85N7i2AP4qwC68eJ6yz1vJeXIqi6nmIMFLYxgL+KUr5Zesj3GNnwW+0+necXzlnLR5PIURRHSxZZLB/cf2ffxPpxdgvWTDsi2fN/YZS/IL1lmRCOWzzlFvmpaQw73JMACH7DKOzqF6yj3KcBDlwZR/vBesswtQ4tSWGJjsrwHm9p9H+8JvcywOOXB9H/BVlTEtrloxr3OcFj+8+j/AIKKYdn2DhuHB9EHryQrIxLSxqUm8nnIPAHAWExzYVon9XCmHAuEx/elRP6vFe4RD52j/WptzfPQeF7ScKj+9Wif1eKPadhkcuGKAP8A5WK9wiHk8tRm1+eg8X2oYc04Von9XigcL4cD97dEH/y4fVXtubr89VkWl/noPKLDVDDLQaJ+BD6qbwHQxu8CUf8AAh9VemMX6PQ4h4/LQeZ4IpGUaPSx/wCVH1VZ4MpmmlUsf+Vh+qvrcTtfliodq5RQfIMnTxuGm078Fh+qrO9pT7DkR/5WH6qdwiLWGmuWigoEsH7gkfwWH6qVsAR/W0j94H1VfluJJdlQVthfYcj95H1UroemWlfvA+qvoIi1AqWl8Hagjejm3Mr5A+qi34mB5Ap0vMLyQG/4dx5vqo75Lk831VBO51X98QWd8xdJgqymZnj89KTh42dlFwoApyZ+O9FAzkcc0Z3kpbw41Blwv8hBb39M8aO/pn47z1Rm0H5CVrtHmILynI+mMY9tR4QmRH9cn5apUXF/2IPqk56b78gvjGQOuvWsNkl2HJ+KR3xZ+YIj/pCWwSIoQxj4RiF8grAtkQ/3mQYnxseIXykqGcWtQ5pfCJbh/wCxFzeygTNcSLlKUsvIggnZiUKcwpc+ZApXZVVqVpCJc3YRutI+gqFRZlFylpakIKVBfS9O3SKi76Agr5vnqCJPneKQnIFS5UOTfTIgrJCCuyqCtQLcqycKa5Sg87lVnMqruBOLRtRKU7SSJ+VA4imc3RmVYqxA9okgbScJ5lCkMiBncSxKq+K2iYSMdQzELzVlprEsUeKxZgyP/LCH5YaDMk2pKRXIHhUsWOJrVa9VdVWjwqkmERcnBxW8qS5qtHiQMnG20bUo6BTOLMizPQ91xW6Wf7k1zQHmTXfT/WgB4U7kvNoTCgbTnWCwjZtpkHfD0KJC7XREWcXaVg9TEYG2DCUf42Qmh7SDYOoyH6ewiG7V1UoiQk0uqmtzKRLrfOUiJZS+nsJdTS0/+iYXNd9PqoDdE3s/lThddzF+JKRX8n/2UcvZ+VA7X29VDbHJnfOJDdPDagbmFTnFqRwtd9PqqRb56BnExybMTkmZSNvQgQMp9lYVU/FbacKxeKnTo+as66MvacsHxGO62pbOj+PKagf2bkIs4EcglyoLi6xpRygXKmIRPMpAOZv0+ohrvJ/KgcvO38qa1zub8iBgIt6cRDSd5KOXqqHausSBsxZ1ZqVYZuK4RTdVARXBCcNycm2O1ciSKJEzgHQ/6ytEtKBgyqzKh3EptbbkQQWdYK7dbcpPgj4fjD5BCSzg86wWoW7a8Nl8bR50UGflmNNqVY2iCa68tGlYow6E1uZH0+RRo7KCCEUCLLk92ZSgS3zkzeJHMrHoIUNHKxNluUIIYKZrtCkU/oKQhQIUWFu2K4RaLRyI5UCgFgx27YoP22kxFnLblhE1btdoLvhadMj8iDIItsU1H1lEV2/NSPwa/PZOcni6otU8oo6EziUgyoHM5Nl7KHkKgGlGVCUnNaNx9dAzB1ISiRNuzoQWZUaVWRJ7kFkL3wOUlh+ECENtOOYWXeyMvFWWAf6hLEcPW7ecT/baTDP5Gr6eh4yejA2aTtKNKBJMvoupeZN1kDyoctDNUgmEhSjnQSouRajMgOwmEVCZAjE6ElqBtawfDNu0THg8suXyw1m6wjDwt2oY2HihSvooM1EVPMpUcqCFIKVI2oGYvMKWijlDU5ei9LoQOhCkSQDE2ZFqhAjCVgi7yk2pQgEKHXKUCqbfKU5h7CMqwAk0rUzhb2UqnStEuu7SNKOZLy8iCzp/U7S5J7scf74MGF/J5n0hXW45unrLk3uxf8bYKL7VNr6PpX/JfI9X6f4ermhCEL9g/Im6en2Ono9hZ9sw2sV3ZXUt/TjiTVHikJTVOOJbG5h4SWAdPT7Kn2fY/wB65Z9PHNGsnpw6qeCdov0gwLj+g7SKKFVocz93lo3vsEuYVkvQ7p+uvzVwziqr4PrcGsUKcOTn4WvSY8JDqFdr7I9u1G2mwgp87uKZicAHeymUY3NDL5q/Ka306eDu8X6rRa+Gbo2vmLtJNPZUlaV2kiUE1tvCvnPpLB+eq/zlVFjiJcTiUb8PNJBe21z+FRq7arzD5KsEhLzkCll7KZ13aRo/ok2rtoAfWS8vVQy3ykdblQFzu0SW1vZVn7faJKXU0oJHP2kl3mkrNXbSjlu5kB+ajV5SU9fZUag65IJ09HUFWXO7Spyj2Fdqu4kFJCW6t4UR7oEbq/NU6ewpikPe0z1fmrRgGxG3ZzJn/Kpv0ln5ETfJWB7FGls3polqmpr0lnlo+SKyagPNzIHi5RQNxdpA5XcqJP8ACmPMo09lS67tqMwt5UDlcTeZFo28pJtfaFVt4eZSoNLTxCmK/wA5A5WlyoL1kATvRTXNb1lUWXyUEVwN4iQTzdVDvnCkcLeyi17edAz7eyltM+0l028KbV21aRcV3KKZt13ElG4XcqCLh4kAm9ZV6beFMWbtLAWt7KGaUr7bUzrrVoUrebKmb0Idb2UNHLzcaBebqqGttHmT5RQ67tIEdxcqW5PcPaFMDsqKVlmc/hUEItaVys1KfzkFKjQrTy9ZJd6SCdbvnpOtykn4OZuhI1ubh4ESa5utLdzodpy9hKX0sWAbbc9H0yJhEcyqJupiB223eglJruTqIta2xRm4NKBSdmYlIbtCa6wU2jkctUV2kkaWoda7qpStE+VyCIomRH2tC1zQbtuuMy+Kp0l6K2MRZyWt8Jjvdsm0KI/LAlYXyQxWQGxBF3B5CYi4meQSBIRtfmIhzocX0Nako7sWZPORaJNs85M4iK1/lphdz+WKCm3k8skrup5asuErnqbvtnmopWJafnocTrdPOpLeFx+QKS5v5iBfGZi9NGa29M0r/USlxdXQgYiyET1Tx9VWNH6Aghu0Kkk1JTbYny+aoLLdcgrJ3zU2v89KTkD9LEFYwt08tZc6suLj8sUFCeWTzEtub5iAdEdr08Km77Z5qQm/QFFolazyC/bQWtiFFyHz2Ckbqvt5BSi1rom78gkroelnnIAYX0YmaWoPMRa7Rn5v21T4vkuHmQMA25PMSEPq5E5NHg8skjtXz0ALfoCrJo/9iYuU7x50N0v89aEIdKX83QnK256Rzv8AvQK1+b0EELSt9BMTXZ0OHsEgRv0YkJxZfQVxD1FVzWeWgVpfQECLv+xK/nDy02nq86CshZ/2JSb9AV1v0NVHb/3oKy4keR5yHFm+egy0/PQK36XIty+smcXG3tpnN1+egryikIruFW2l/wB6S5v56ofFPFuqZPnwysT0SWIbKYQwtn1KLi3hecsjxHFKFhytnwyEb0V5GzmEIYFogD8QJfKgyMmiocJJyLUqyQSQilIXZWKy5IRW3G5AhExGhM64B4kr0CI5Xqby1qMyoBNEVWmc5KTUCE07lWTXNVqqIuugHikK0rVI8Ki7UgrRaSsu+2Ic3WaChqhMhAgkoTKeqg8t1yYXOQPCm5kSZzUbpIrBtK5AC7UrLktuVMgZMktAWpgQMxYhjot1OYYmR01OGPy2rLwWHbSHQqRJxx+AqMv6SDOIvvrUo3Jo/vqBRAb0K0cvO1II6la0dSBm3JxJrEj1b4whyIJExVg9IohSsUsoGp3RhbEAxNv5VNmpHK76fVVg2pRd9P8AUmEvOVKS1GpyBtFNpagYVg+JWwto2z2JxR5iEX3tZxa1YLj0igYlwHNjnhVjdeXDQZ+513aTdXqqSFsU1An85SJ5hU3adP8A6KdQCPF+RRp7P5UBnFSJXeUSNTuZM0iy8qBRFtpZHCKsH5pF8qW53laxTDCaTRPl0oARb5X5EPLKpJzUOu7aBtaGKVA50ErBcel3tjPZvMl8FViheWLVnZWrAtp5bqewHH+KxBL/AI0GfxR3RGHDalJzfKVsf3+N1iLzkjblIURJyMwdn8qbmLOmGFcDsjkE6vKL5EADlFuXiFO/Ugs/OUhmu4lG64mDpvNOMJ1wmBZkC5hu4UxcqU3CW7y3fkUaUEgrASgpQS9YLWvFbYsAF8fAnYX9m5Z1zLB8YjuNpezGP/LJiB5cMkGdtJWNcXIhrWD1RU3AsUjUrEKNCCfQQnC8m8y8Gh4xw/iGq1KlUqqwJqpUy2algzAg91Cht/56saKCsS3pHY1pNTqbW86d9yBW8KYRtSCQvAHhviFzH3JxJSGTJR4eFWIFIhbzrBqw2FtYwkXxsCYHzVklRxHR6ZWpCkTlSgQKrPfrWUM7o3sLG8UeK2jYDic0YfNJBkMwPj3KvpNXzXv5qozJfByc5PFMqnS5K7i1Jx0D89c0G7CbV+YhLHjy0t0AUzOSsB2TfRhhP8pYszUyCEvYu9NHmddQFS6nKXWuJQga5qEqnMggCL6g9VYhThZt+n/ttE/IsuC4ujlWKwPFbeYP22iEvo6HyejA2a4XJUz7kal9J3GpMPDr6iXUmFrfz1SViVSUWHCHeRYwQoI64xtFLC3cWFvYEaBHgja+Cbh81A6EojagosKBdFjQITvjjEfSQSIknU2kIRBMCAsphcKryoG1pFLxUoDWCwqkW7WcTj8bIS8VZtqBYTT7NrdbHipMEvOJaM1Ua18tVq9PodOjVCpzkCTkIWaNGNogvqhEMWBBjwjCLBii4TA3CY9OoUBoUoUOuWCLkyEIJBSq7VYgi7jTaEvMpQN6ynSjMoQDXFnTZLhTIQKKpKdk4UQxizkrCMdBxxEl9FxE1cMd1KHR07YI3R0vYUhBLP1l69HpflSq8es1XxoXdvd/U/8AhKnffx9ZN39TW21KR/Ch9Zfl3uujiieWmZ0fGxPLX1f4P/Z8r+f6fq/UDwjTW3VWnD/zQ+sl8J0sf86078KH1l+YW76PjInlkp3fR9eJ98T+E/2b/OdP0fp/01SmewHT4Vp2b7Kh+suVu7FmpaYncF9MCZgR2hMO3RiTP1OFc2MDiieWq90IdLhXp0npXXBl3LPJrfVOmox06GQhC+2+EEIQgcS+qrAiEEUI0I4kKNCN8KMERpAQ8JKlN7P7S5zh0nydseTr0dW7G+6WhzfRBw9j2M2OVsCrnlPhGJ6y6Se8XQzdBIRMTDL9Vfl/YXQ0gsW6NkPdB1HZ6ykVsDqOGLQHVFk+rxDyr87r/Svbuwv0vp3qvSXZldq/Ct5kjW+SqaRWKbianwavRZ+BOSEXKcH0SX0ll7K+F+H3ii4fNVwxfnL5+XqqbXeUsY+re+gh13aXyBaOfSr+YuJBZ+cgiuPsqjek3hzK1z39lBY30kvwfZTareIktzeyga11uR4pbfSTOvbzI4Cv1IFtc7qpmiJdok35qjX2iQI63spizdpKOXs8Cs9ZBWWUOqWtVx7JOcLhhfNVlzQdzKqctp8+X2gvRWjCdiv+Tem/8VMeks4yj2RWFbFrdm9KL+VTHpLNrd03lRQ1dpRp7CchcXaFMN3kkoDcfWStL0k7vmqqPFhS0I48zGCFLQHRYsYzaID0aiVhs7+ygiEeu8lh/uwbOW/s8oFwj+6hX20jaNguvTgStKxhRJyZIrYMGaFxrKpZDp6OoKbMXa405QChC7iFeZXMQ0rDUKWma1UoEjBmo4ysA41r4nTlEVqn2Ot7KYvnJihlCtLhJKVxN6qgLlHsKws93EKx2ex1hWn4lk8LzlblYGIZz3qRNzj9nKvea0m9VWLBy28yM3HpQ1peUlIreyKAH1kcd/CgjaTeYkrrG8qBvzkruFWCO9JvES1PVe6T2TUOemafPYtbOSpFCigErEJhdGZZVLagkQ+cKb6q03+ix2NasWnm+woiy7AG13Be1San5bCFSOoxpGEMWKG4KFb0lzKqyGbM0oc7jXiz2M6HT8a03B0eZMcQ1GEUeBL7gmnD6MxOX04qr1MwThyfr1cjHK02RESimwiL6pNG0Vino25esgR1EsfwZjOi7QcOQcQ4ejR49KjxShDGjBuiMujNasitb2ONBXpbruTZit5UfUS9tAdZDrk35yX81AhNEeylt1KwrrusphDEixQhieZqCpwtTEQuWhq93Y2zvDVaqVGm5CvRZyRjlAi7mBDIXdBXNXlD3b2znTR8S/eB9ZbtyS6MEnFcfDrSkRCV3prAtlO2bDm12RqU5R5aoyMGRIYRHUQGG93DpXq0zaJTKrtExDgeFBmoU/QoAx5qYjNGA3pbl8rUpqMmdEcd9hI8Y0GvyrD9qm0+kbJMJy2JanLR56TjxxgQglGu+rq6q+rZptGou1bCYV+hvhQTIhiy0bNBLo4kqMocWpVERO1pZycCRp8zPRQdBlYRRSZmb0LANj+2SmbZ5OtzNMpU1IwaTF3BHMmJPWjYZDpQzUjq8aUoVv0/aRRW2mJW2Jm3W9VHzkN1dU0Ck4oWta2wY4tqm0svtsOF8kMVsnNlYtbYC8btG2oxS/hMRf8A0aobGJwiDeXQgiIdB+Qi3NZlQLeTzlKStuu9BBEIk35iUYoudZ5aonpzwfSqlPM3veMrEj7l+dgua5BcTR4PIJLa/R5BLlCnd2biOub4qPsy7+CBn73mohMdxf719Q92JXKZFA8R7MZ6RkNUaDHiODyhaqpJTqW0B0WdZKTS4NSx7Z5tGw5tWovhfDc4cUBJsWWjGO9li5hWNbRttNFwZhWt1KlT8jU6xSY8GFFpxx2k4yaThzW8qJbGIh5LW60tur014GF8e0PFEeTpsKsSsWvRZMZqPKS5jF3I5swrWWznbrU8e7Yqxgc6VIysnIlE/TYOKKY9CDdlrm/PS5RDgtapnpmVpknM1CoTISshKjvYsaNaID0Ln3DfdAYq2pY/j0XZ7hunR8NyZePqlRcPi+jMVv1/2hWVHQWZDSdcxPaMXn1JSK1xcK0VNHVcm1NLmU/Ct0XJnFpfpQVb0czw8tLa3Q/rqxukX3D+RNCcUXOY5uHhQfO1xN5uNRvbdenWuTYHdGbXMUYtrdFwlhul1HwdFKzvVxBD6Ca4iXqFtI7pYsuBqcLv9nrajp8SIuPUOdQ7if5YrTuzfH+0uFCr1T2qUSBSaDToAxYRy8k0jLq6l41X7pXD/t9wxApWIaX7T5yTKPPxpmV8bBLo08QlypUb7u5/LFSTufyxWuK5tZk57ZbiHGeE/HwZGFE3EablWicTo5dQrV3c490HXtpGM5yg4oOR30eVGLJ97SowrujNlSo6Va4nMPSlJ2UX+amIR5C7C0x3R22Ce2U0WmwKB3r4eqMVz4wOZD6pINyEJc6rLM4Vq/ud8d1zaXgCZrmIY0CLODOFAHcwN0LejlFbQyg0meQgQRic5dhK0iJO7zkhN6yBbi40E7gNLlJwnypSJ2bdoGudbvErib8IsJ2xYoqWB9mVbrlIjBAqUqMPdRjBzPZJupaHwZiHuj8f4eg1yi1gIshFJomcCCL/ADVVR1g7Py8aYh1XrmoqV3ULf8cSonzhB9VZxiPbBC2c0iTouLjmvbOVLeVRCVdLHMKRthp6nv6iri9vyBWjNkO36Ur1IwxR6j4RreKp6KUKajS8qTZb2StcQi3Ksr22bZKbskpkGH3t39iGcuk5TS3K6J6qDY+6POL2dRK2JqA39Rcw0/BO3rapK+GajieBhuTj3SspG8Vb9zEbe0vOrGKtr3c8VGWPE0yGJMNx4rSjHcJ9Usw9pVUdX5c3oJWk4PUXn4cxHTMY4cptfpBukJ4RijxBxCXMK9D6ikKXKHmIJ30BFpF+ektVDH8cFuMD4ni8MgX47VVgyHuMIUQSz96ik2lmzZzifmlW+cK9PDgjCoNHGz9aw8/+sUH3EJKsg4g8xXMHjDy0rRFBU624PMQ0tXoKSaGUPPS6WoEIXXfMStuu9BWk0bkqBCaKTKKfQoIVQpJHWTZUrRa5AG3SHmKGlp9BTbqQRiKCj6ZEXZU6gRFAl2pKSZzkqCtRblTn6SCagS1InzJSJB5yd3aVY2kmba1ErBcpypR89MPlIBWKsSJWakDCPFkUuESakTggZ1tqxHabdg6cLhiwYvyRFlxObasX2jDvcD1vj3DvkQZZmGDE4hEvNTr5KfF75p8mY6pWH+MRX19VEGErnPVo3W+mqxHIKsbbxahQRb7C507qGbqUpVcHlT6rO04JzfQj73Mh/UbdaujW/VXPfdWwB8H4Mmcu6nIgfLDckVxfQPc3Yx3EGLC2nT3jYQxc8T9sXcS8OZr21LYDUIJVyc8O4bjxRHfG6KP1ObSS6goscZmg0SP8bJwS/sxWPbRsPQMUYMrdKmQsjwCIeQui5PcetQ69I4soMhWqYbpOchOHi5hJelzdZaE7kutTU5g6sU2KbpaTjjFhBweyTSW+3aUDtbah13WUOFSLXO+n1EDNWC7S/Ee1KZ+KrcEvltWeOWC7Vh/vXk4454FWki/tEGw4rgIxVZWq2P7+cQchJXZ1Ikvp/OlG1/0/UU3alGlv0+qgZrhb2flXP/daT05I4MokeTnJqV/TxOOCZD+raPoroCLlc/US0N3XEAYuy2Wi/FVGH5LVURjmHO5qrmI8PUqse6XUR7+gDH3N1nsi5uZemPcs1yEQH7pdRJpOYbl4eDO60o+HMIUSkR8MVGPMyEDdFGgnafmr35buv6NOTkGAOEqiIRTEXvyeas7lOhZOAUnLS0sUaJF3AiLzzH7Aq7S4uEVXALfycGOL/HwhK/nuV35xdnoWJMobp0JRuFDtSBic20OZYFtZHdUigzJfuWtypfLEas/t9Fa+2024COL8RPy8X5IgoNlTgkE5GHmL0lTpd1ldOEJRzLiv+W5UZbVInKTUDy/T2VNrXFwflTkW6eQh5CBX3dpaI7rqZmqds1k5mRmZqWjQp+CO9lzaX1RLhW9c30+utI91xJ7/AGLTMX4qowS+aqiSYThXuZ6viXCFErxbS6pA8JwN+x5EzzlkdM7lWp06pSc4W06qFuIokw3essTwL3WlPwrgXD1BnMJT01GpkruCjQTtjXOcK2HgLuo6Rj3F9Kw9DwxOyZ1EiEZgzcIE1O5Um8SdxuPjPWmb41xcX5ExBc3haKR30/3qUpB3m+crLnGSV19oalKB2uWDY/8AFYl2bxeGtj6JLOlgm0/xE1gmP8VW5f8AHakRn+SL2kaU8e2OYjpIlGpYoBmuXyVCpyNDp8zUqvOQJOQgC6LGjWiC+lcw91fV56vYhwZs7lD3UGrRxixef2SaK2I2ZRe6c2W1OuDTBxBuDiE0ZmYgNhGXWWutg+6HunNqIwjCLBICigYXCY8S3NLdz9s3lsOQcNR8JU6OAwt1Fm2eP3jbi3nE5c+9z9hcdn3dK4twrCnDmoMrKxIUKNGzHDzC7/ckuJHm66JsCEcSIbYIi4jO1akr3dNbMMPVM5GPiE48YSuOUgOEC6y8TutsYzeF9n0tTKce6ma1H71e/JDWVbMNgOCcJ4JpsnVcMUup1WPAGLOTE2G9J3Tw8KVGdYTxVQMdUoKnhqqytTk7RM4J5OUhzCvrqtTlKDTJmoz0bcSErC3seMegVyZVaMPc0d0HRJrD3isJYm8VFkTO0PZtIez+0uv6nLSs5CjSczBCak44tKCdwmPSg43xBtpwmXdJ4YxPI4kjxcLQoAwpyMDhhObw8P110lhzbNs9xrWgpVAxPKz1SiiRBBACF/sLnjaPgXCdD7pPZ1SpPDdOlaJU/wBdSgB4qNmzCuoZHZlgnDVX78ouFaXTp+ETRmZaA0vqpKpHi9x93WXg44xfJ4CwhVcQz3vMjAIhDjLSP85L3tK5u7teoR4GAMPU+EbYNRqO6jhxj0D6ymMST7u56wTN4xmY213F75qtz0UvBkE/epaH0ahFbOxq4cY4Di/y8h+UVkWDpOFT8D4blpYN1BhU6Dk/1isdx94quYJi8NWEPlT/AKOvJks+3vk1QC+qo2zJ8y+RfAz8njlzSP6rvmJnFmFLy/PVmlc3Mv7S5m7tsf73MExxeJ9+RAstXTmUHLmzu24T9n2FYvxVRIfNXo0X2LdEUQt7hnD0QchSMEvNX1lyrx8Jxxj4GwrEHVTIPor1YTRFuheefIlyOlJNbpRaRWrmK0+cVKECdCxSYs290H7bR4wrLQ96csTqPitt+DD+Np0wPmkvo+n+T0YOTZY8SZMIiJNRpcvpupUzUo9hNatGnu6rEvcExJEA2nCOCQn2lofuL8cTeHMZHhSpHHGQxNK7+T3x/CBqHrLoDuoIW92A4wdpGCX9ouZK7TZqldz5sf2mUsGVHDM5EgRzD4npjOFy6RjaKY8pO/ekSHLnXCHdm4qnMQ7Qva1InEKTw7J72P3serpuJ3VXa9OxnTp7A8LGgmA02LTu/wB/Zc3ylxBhqlnizZFtu2oVWWdO1OLuJOLwC65TBrp7uao5zOw3CsSIZxbIg3m7UtpES0/3KsXe7A8Mcm8DzluFihcuSLlIKVIIkCKwmWFu2CfHio8P0lm6wq0dsQc1H/8A6ioe7iPC9IxtQJ+g16T76pU8LIoZS5SHm6FoTY9iir7ItpEzsWxZOHM02OO/w7UZjh6bhhkXm9ZdJ+z9QyXK3dt086fJ4GxpKGcKpUyf3AmHDmH0VuPu7SzqqLDKEbdaruyk9fNSqv4eoFKq5A3wjKw5og5ukbl9PKpBoTaFCZBWpYltzEgSHSgsy28qZihS9BCFD1YOdAaVPqqMydADYXaXD/dUj/he/wDLIHpEu4hzAuIu6sBu1mXLjpMD0ulfV9G+98X1v6YtIdKEdKF+sfkwrFWhD3MhCFYEyEIkIQhAyEqEAj2fYQp6Oj2VNXTp7/8ATMtnm0+vbMaqE7R428kyLx8gZ+LjD80uZdvbPdpNB2n0rvqjRmzkKF+mZGN77BL5w8y/PHpHd9Ps+yvSolbn8PVOBVaRORJOfgZYwfO4l8XX+nQyd8fy+7ofUJ4v8c36VEROagRtDtLBdkWO6ptGwmFVq9K7wmRPdb5nipnmEVnJEYjbuyO5fl5RpKr9PHvRmVhk3LxKkHCNya7LzIC5vZQLhI+yhtoN4U2YWjyoLR5kWsdyKA+epHL2UDCLicXEjNlZqTXCbuZDrQG/UgW1ujSmHNozIy235RTatedBSWQPe8qb1hR1n5U5OcfZQLp8pfPOf4qn/wDhS9El9IiXpL5KhbSp8v5KXorRh2xhvub0f/io3pLOjc0OqsJ2Ni3ZvSi+3xPSWbN08pIodXiFMN3nJSH5qYc4CPMsSDt8kVjG0sm7O8Wt/g6Y9FZLGtF3KKxjah/k2xg7+Do3opDkScgdyZsDwTtUwPWKvieTjx5mBNboWG1grb+Ku4hwBPU+MOGpmeo9bH9axt+4XaRJed3BQ/4K68XHPrqgW70C5xXTrKVlScndyhtUxHCxZWNkmNo0SLVaUMTvONG99szCRah+sted0lVtodGxPJ4TiVuVxX4OmvD8KWl5Lx8oIXNiN09Ar3paGUDu/pkoGchiHFZ9zXWsthDD8tXKxX4dKgeGKxAGBOTZ3FGh8PVSUqySwHYdNYnxDh/pxbiPGElXYNcHewJeRBsCR4ofWH9sVtEbiDs615+H8NUrC9KCkUKmw5CmwosSKEvCC1xXES9IffeqI2KFONcegMXu7MMCWnc/9Ml2NmeXaXHuLy3/AHe9BHhKCH9iuwguf2leQWWiXaXkYhr1OwvRZys1mcCTpsqLosweULmr6qrV6bQZM56rz8rIyAkIFGmDaLunmWiu6Zx7hCr7CMWU+nYmo85PRxhjCl5eaEohlvBK0VMY2G9adPS1VkZaoSMbfyc0IxYUYMpj05SFXk5vZWssCbS8BUrZ5hKUmcZ0SBGl6TKBFA5q4C6IYuFbKk5yWqEtLTMnGCPJxx3sKNBuEx6dQqZRH1SN05B4HrhPuc8BYex/t32lwMR0eBUZaTGYiwoUbKETftdbyruyRaEzBEeMV+dOyGW2mz21TaFE2XxpWFUt7G78jTLfe+mMTWu1OXTHxT5O0P0PGzAStwTK+cvXltkOE6HQa3TsNSAYdjVqBuI89KWxQHo4SWhioPdXxc1bo49uGt0bIKftEp+GpwNpM/KzlSKOW673bZD5iFFOJKxOYykcezOJaVi2qTWGKBOeAgxbGgXS0GJaXN9TiXT+2DDUDCHcoYhpspWJ6sQdxDijPTZuKN7MQSd1SW6xoVGhUuNSQpVOGlxCcUjuB3ZlxELWrWHdUNk+59xPDhWAO5hAAZQF1qe6ZPg7kcShdz3hhuqYjF5y3Q4mrUPcqwhhdz5hUeLeF/aLb+pTPkqSBikhDobbV4OL8Z4ewFSvCuJalAp0hvd1vjcV3T1VgjHGM6Rs+w5OYjr8aJCpUsYgRwQcV3KvQpFTlq5RZCqyr+9qjAGPCeFzenKuXu6S267O8cbHqvQcPYngVCqTMWDupcIEQX+wV1xCs5wl3Suyai4Mw5T5vFsMJmQp0GBFDvWJYXQOXKrr2jenT+r+Yr5Ev05LdcV59LqsnXqbJ1Wnxt/ITkIY8CNlePT1l99P/XYeuo6Jk4q7mijyNf7pLaWM/Iys9BGFNGIzAOF3THXYg4Hwvm9rFL/BRXAGyvA+M8f7W8fw8GYqPDszAixijzIO8dD6Y1o28y3FF7nrbXFE3bYzf14i6zG9dpeDsIR9n1Vk6nJx5HD0qJTkcKR4qK4LnC3UuJML7N69Fr2HsS4zPEQ4GxhOFJ+Jmi78OHlg98cvSu9cIUWew9hGlUip1I6tPysARjzZ3b4u0vXInDuyBwCLRsGz2OFc7DmXu0KZJ4S2F4botNA4UhIVEYAAZuJoDatabK6nU+5l2iYblq1OHHwZjKTgzRRmWgRjm/md9VbL7vMv8GGGIXxtWJ33tZptE2UQNrOwGg0wQAaxTqTLzVOjagidEO4f51XiNqYzihCwZiGOGTwdGiiYXPtXNfcMCXtOxnF+NrDfNV2w/avM4q2MYzwZX7cT4ZpkxCYeaLB6B/8ARR3DAiOzfE58VYH0VPiOmtQcCq38TfnAILBc007rbub8SaKJGQEJtaWdc1C4bUD81My7soIhIndZWGFxRQHmWrtmHjcWbS4vFVuP6y2jAFseD1xPJzLWGyIXVPH8f42tzA/ISobGaQiYk/UpLeNbf5qm3NZm4PrqnNmZl/ISlIuzX+avKxYRQsGYni320ya0fayXqNh6WLG9okUYGzfGEWxngyIWrhWx5DRPcGOhYFxhFHOVRg3sd+oP5y6hqcjLVenzNPqUsE1JzQlCiwY0BwmK5q7hqAMLZXXovxtTIfkhiumoTiK1lxcZftqpchw7gUfcU7rg8OSIGNBqcUYAS/LEFw5vrEs/23bDT2pbSJamUGgytFkxlYkeexEwmxonRlh8yxCtTnt67tSlRacDgpO73/JuBJ1y7MIi3piT2OLWkpVU0x3NWBBwThiZlqlhWVpOJJWPEk4s8zxs3Da4Sdw9VaP7nGoScj3QGP61UpkJOQkYEaPHmYxtEB6CXagkZPJ55XXm7Svzk2bbK6htk2rYhpQT5ydKgTUaPUYwZjh9BZW6nJEbTr+JcR91xjiNhPCsbwZgClHvZqYM7ow8RDqLp/aFdS4MwZQ9n2HpagYeltxIQmuN90YukcxFqJck7T8GTncq7S6PjXCBzRYVjkMKKEa79UboZF/rXXuHMQyOL8NSGI6VG3shPQhijyFqEuqkkvRH0v8A0UFmaPMmuc1a82s7S6rs5lqbFpWEp7EkzOE4glnNgj0cRD9dYPl24bS5zZThOTrEjIQJyZmpyHA8dl+qthU+ZKcpUhORQCEc1KjFIOAuFcTbfNsmI8e4Xo9OquzqaoEGFODFGYjGRb4ujSLlsyQ7o7HsOWkJSW2OTRQQhQ4QHv4mXpHMrqOlreTMqoEVonEstF3yKinzkWepknPR5bvU48CHFKXfdBLUN3CnmSKFJz/AMCN6LlA447lzEtIoO0vH8zWaxK04IoxhE5k2vLfLqj3WcD5vbhRH/wDFLjvuc9kWGNruIcZlicJqLBk4roQQY+6zxCW/C7kTZQL/AO5VUL/nVchuKlYho2KKYc5TJ+RqcgLhI4MdwmXRmFcp1LubMS1yPVcYnLUuVxPCqwxZOhwWjLHL9HFpuHmXSuA8A0LZvQfAeHZaahSG/KOQGbicayPxg8fmqRqnbrHiy2wGvBEk4EjG7zhjFl5Y/FQYnTaTWrkai0qJs7o+yjaZKGyDHmClZph8JXfKK607p8txsNxDeb4rRycy1pTMD+3HuKpaUEP05JkU/As+twop1RCmYEzuZ4TbLRxGPn0mLlw1iovdnxZtOxnM7zwDhSnbqT4d45orYkjtnKT7kmDWt9/dsYXgS9rjidFrvJRJ4HLZz3Hde75A4VVrEDfzjwu+qQ7vzVUUsj7kOAfuGyxa4tRmHaVvC4bvnrT/AHKMLdbBqOXFORouTmW4dX5ikkoaYsIdK1JU9o2IIHdGSeApaNAGiFJ7+KG4Fxl0i7Mvlx1jXbBTMXVKRwrgalz1EgGyBNxs0brXLRcXFW1SP3Qsas+1KRLG0CVGEVL+CCG3M4S+cqqO1ja7WWpIYkUJ3z1qDAuLNs9VxVLSmKME0umUQhLfzEHMHsc286fRW5CESzdmxSNRd1DH3GxSsB8bHhj85YXsB2y4DwVsnpVIrOIYEnPwopEcE4BEQaVkndZx93sbjN1zkH8Tl5mxvYjgKvbMMPVOq4bgT1SjwiKLMmZONV4kWe0zb9s7q9QlqbI4kgRZyaJsIGELy4UbYMD1raRTKVQZOckZOj99OqMaN77u+GHar6VsW2fUOpy1Rp2FZWBOSpPhRuBZtFK1xXINc7KNlc5stxDiGUp0+EXB9R3ceVgmf6ZgxOjMJFwrRmDYXu090/P1WpXU2ixYhQoJ6N2JDDHyrl1zIxRCZCEVrnCJs+uK5G2Hzg4H7pHE+Hqme6OeKIEIzteWYfKchF12Tiy6udY3tGocpijZziekTcHewSkyiiHBEDKQrJihNts8hYXtZxRLYH2aYhqMcwhHFgFKwLM8Q7UGl+42rRxcHYhopPIJGc3om/SYta3rLpC7jMloHuQMKxKRs8qtej561NeKBnwYav5yW/LdQQ/IQK0sutBOG68VZbl+YqCb87Igw/apFGFs+qrshRZcezvFkVHEoVGpoaxgCKxPbBbgI4WuanJeEHlOWaCIjCBuQRH0UD3fbElw3Cpta4meQltQK4ufUlMizXprRus8hKQiJXIEuzE9V+arSaQqGuuFiCEhESC7HCltcqCFcXEmFGZL1kEXcarYSttK1ITXIEUvR9MiV6BCdlvStTmkK5AvKgsyUuJLbpRKCBw5zYlbxIIh5EujQinw9VOhToRIBOlFMKBVZmS3aUyBhTXaUqZyB3FmXh4vgb/C9YAtUrEXuFluXx1wN/SKlDLVAieigrwrH3uF6JF1lJw/RXrg5yxrAUXvnBNEMviBG/8A1LJeZA46PKVg5gL6fUVcJpqwReiDfBNWiO6xhOwTQY/xVRv/AJxIVvXPasC2zbOahtLwcFKpUaVhTkKahxQOYtt6MyLZtgcimdn2FY7Dup0HIvD2rYslsGYJqs3NnupkoBQoAHmMum0RFafp+ynbbTJGWp8ti2nQpOVHdQg3+QfJVtP7m7EOIavBnMe4k76CAVoSxkXk8KD3O5VoMen4FqtTjwd0c9NCAv1j0XE1bydqVFPp8nSKbLU2mwQgScqLYQK8Wu+n7SBh+n8ykcv0/bUaewp5h66CwS8hYLtgH+8KpRB+CiwS+SIKzghIreqsQ2pC7Z3iHlgb35CFBm3wUGJ9qH0U2VfDTIv9yqURXb2Vgl5q+wcvCakWE3ylHNoU9XjUII63VWm+6jgDF2N1U/ipqXi/KTVua7sZlhu1nA81tGwBUsOU+ZgQJyaKG05jLYkRTsGhQJnY7hUjk5WK2EUJ5yokX1C6qz7wZKEN1NkRt+xR9Vct0XYHtroNOg06mY5p0nIQnEEEI5Nd09YV6JbG9urbtoUj9/8AzUqp0qQ7omiDQ/8AskhO81vyrw8HUytUrCshI4hnwnqxCFsWYg5T9le84c3MRfIiUOH0iU6mpR4eqKfMVvMSBSuyrBttMIouzSt8u7L5CFZ21zx7KxDaoG92c4hHhlSi/IkRmm9duYnFCgl/ZilXy0iKUei0eL8bIS5f2Yr6wzqQzrkOtcShurM3KmFtnMgNTuZai7qaEUXYfXtRwosuXyRFt8bu1yLE9qmDJnaDs8reHJOZgS05PCO6ONl+oQ5mqoteT3OpQ4uwrCpFLSpH+mHnGgCX6hcwrYw7t9snKibhaYQBH9XqisM2QYQntn2z6m4ZqMzKzM5JxYhFGl3NN5cyzTLdwuWNkhxFd1iUtF3aFDWi3qqMg+UsSkcvZ/Krht+n1lSItLky/IrOZA7XWrX21420OgzPxFdki/tFsERu7S1/tpd7QN/rgTkvF/thSI2PM2zkYeYvSXx+F6Z4T8FeFZHwqX7k347/AMlfdMkJTJlzfNWkah3PUOc20y20GWr24kxIY5Shg6LvOjSPKSKbsa1crd1ZAi4Yxns9x2QRIsnJzIwo/CDCcuq4t5GWheBjPCFGx/hyfoFcg72QmgzhmglpIUiMop1Yk61TpatSZhFkJqEMffBlb03ZlybgKvU6ud2NiGepUzv5OahEO+Di6BuU07uScR02KdNgbSDDDG9/WwOGLu+nlyrYOB+5wo+zvaNJ4oodVMZOBK7opSNmOJlIncyeJFj/AHZ+HJue2fU2vSoHF8CzglFBmQenUt7bNMbSO0HA9ErlKN8GPAEYoBduYnQLSEl9tQkZOryMzTahLBNSE1CKFFgnlMelczTnck1Wh1CZi4Ax/Go9Nmc0pMOs8lURfJ3T8zCxVtdwBhelfpyflYolHCDcx5ZV1iUIYW5EvghEfkFq0xsb7nynbMqqdeqVSOsYnJw98nlAuVy3K/UplIcvd0HFh0Xb5siqs14qTGLDEox5ffLl1bNwokWZM9BERCfGtV7a9jdK214elpGcnDkarIkRSc8GUOISHmWsqP3MeLynJPw/tRmoshKtbBlDIi+pxOTtIul2ENpLnjuz6HHqOyuQqcCW3vgeojHinwQ+m1dEwhaICL2Qha89fsL4q5Q5HEtDqVFqUHeyc/A3EUOXpSI8fZnV4GI9mWD6jAjBFCLToMIusFpLzdpXiiwrH4KtB/GS01sYxDObBsXzOybGb4VKnI5RaBVD96N2l3+v0luPa1ZSqVF+Kqcv6QpWpL9mVVS2ciCvj6P1V91YESnIhcJEvh6B+r+evg6j7Hjy8z5kCVqS3NYnXFzNcS587tSE7ZNR4uiFU/mroHoyaFgm2LZkO1vBkHDnhIKccKcGaGKYO/UFq7aXJGOS0lvf2chEnNmmD48Pdk+mQdfKsj3EZuRctwO5KxDJy0GWgbUY0KDCFogDhEOqvplu5YxJLR4McdqM14ohLUX6iqWHH/8AouTpSK4LSSRYu6uHOrLmgJHvThCIkfH7A5kpDavEhXCjiRNJXnaqoUsEInC9/OrelAtvs8+lixDEXitsGz0+KBGHzSWYl+q5Yfi4W7UtmkXiixB+UV9HQ8pO2JtAsybMLSS2uMeZM1fUdytJCflU2rBrTuioRRdhGORLTKiXyEsN7nbC8tjzuSQw1OXQZ4JqB1Cc4S8pbbx/hf28YFr2GhmQlTqcAoAxjBzF4+xDAMzsl2fS+FZmpQ544EeJFCYAG29Ku3bE/ZxvTtrs7hXufcW7KJuNEhYmlqn4OgQdRy5lcuicTYJh4F7jmfw8IQxmRpwx47PjDJxKvF3cvU3E+2KQx3CqsOVkyijNTlOOA7fRA4S5luTaNhccd4OreHIcz3n4RgbgYzHM4VVu6J4tW9yAW92DUf7VHiD5y3atf7FNm8fZJs+lsMzM+E8Yxyi76CDR+qtgLl/2qQSpkq1KLnLDY9u2Cmt1UeJ+KIszu0rDJy3a3R3aqPGH+0FBnA5FzD3ck5Dj4HwrQwN1Snqm6FB4x6LXecumI0eBJwI0zMxggS0AXRYx5QHoXMVDgH3Rm3CDidkT2gYPIgkzMLZmJmcP+8lWOVe45OjsNUyPRcIYepsf36TkIMIus1eknjk49CqyjoUKknQi4kOHLYjU1akreJS1R1k6BlGhD0NaKCVII9dSgnKnVasfqQA/trijusf8qkmX+zIXpLtfL0dhcW91pC/wmU3p46d85fV9G+98X1r6YtD9KFYoaa/WPyfsRCsQh7FQmSowJkqZWdQhCEYEIQgP1VLunoUl+qvWw/h6o4mqUGmUmTiTk/MWjBD0i5Vxy5YQjaT04ME8k6QedCgFGP2ACIRlkALzNdO7H+5sPo6JPEONoLAYMWVpeo+aN6qz/ZBsCpuzyBBqta3FRxO0i4oUt1ebmW3zikZOfpX5jX+pzy9uPi/VaL02GHvlyTaIhChA2DCtEAygPKq7k1re1rShlXyX1SuLKnUZX9lNr7ShSu7zUZS8lNdm0NSNISznpVJXiPpFoVmnsJIWXtEmG4buFAZvKRpuZqVnLfmSkJc+pBXoPqirBbvdGdKNo68qa77YxyCvS7lJWE3NzCldbrykmuvdyoC13aJfHUy/uRUv+Dieivuud2iXn1Uv7h1V32BG9FaMV2Pl/gyo/wB1ieks4dk6pLCdkQ/4NKJzERecs0G4fKQDx08IpssV3ARKtrbhyNFWuu7awVdBOHqisX2pF/g0xgX+zonorLPgreEl5uIaHAxLQalRZszGWqMLdEYWk3pSBVzn3C09IyeyaqjNz8rAMp8rI0cRtbzLduOts+CdmlPjT1Yr0iUaELoEpLnvYsYuEWrSMLuGMCwrRrdb7DV7uHu4y2ZUWeCcnPClW3TSCDMx2wu0ukq2spgnco4crGP9p+J9sleljgS00UaFJvC2MR8PKIrr/wCC7Crk5OWpknLU+RlglZCV8VCloNogKYiIR1i0VzlKw1X3StTrlF2O16o4enI8nPysWGRRoObdqvucdokrjHZFRJ6q4hlYtbgBEhThzMcRigXQVrncq2xOQIU9LTMpOQd/LRx3UUDymPSNwrmeudxJgeq1CNM0ysVSjwY/7nABiiHVd7CqNfJLCKPPS20Tu4vC9BPvym04nxZgLhbDFrncPSX6i7Pbp6ywPZXsdwnsdpkaWw9JxynJoR75npi6LG9UeVZ5cROYkpKY9jjBND2g0GNQ8Qyxx6aRQ4pAEdpO6Oqua+6K7nrZxgXYziHEFBohytVlSgjAi99ETPZiCJW5cq6xIiascx7gmmbRsLzmGa1v/Bs5FEou5tL6lwpGQ1RhXuWtlFTwZh6em8Mb2cnKdLx48bvqJeRwxIiW8qRSqfQaVIUqnQdxIScIYECDwD0Cpp8nApVMkKfKWycnKjAhAfCAtFfSXzklKyVst+uQ5RXE3clYqoWFdqW1Gbr1bkaYEdwQu+44wn/pguL6y7UE23FzOWjZzuRNltQnpmcmZCeKNNRSjl+mtR3Koyj5DY0XbFs8G0sc0T8KFerh7GeHMXlG9r9ekanuCHe97x3M9niWn/0HeyQc1Knvv62Ds32RYQ2UwJ+HheTjwO/iEou+N36iSr4jOLmu5VpbutordgeIR+NmoI+ct0/nLwcY4OouPcPRqHX5bvqmxSEiALbuhTEaP7nPa3gDDmxLCtIq+L6XIVWWhRBjy0WP4wC3moVsotvWy3+PlH7B/mrGB7lDZIP73j+/krB7lfZMJAQ4bykJe/kqlVTbktMwpyWgzMtG3stFhDFhRgymPTqXwYhwvRcWSISNepUCoybnDBmAddxL0ZaWlpGWgykpBCFLQB3UIOAejKrGiShLlrurtm+C8NbF5+epGG6dTp/vyCIRYINIBu1LbeHNjez08L0HeYPpcUykIJGZwHEfswxK5ZZi/B1Dx1RTo2IJAJymkTtyZtu6F7ECBClYEGFCDdBAEYUIA4egWitsqwlpaBIyctKykGHAk4EIYUKCAWgPRlEV9MsbZlw83oqq3V6aBJpfnrEuOe42IY+0/apH4QH8cyS7Ga25YxhPZ3hrBM1Px6BSoEnGqItjmB5/YJyyl2r56yUrCu11rBBIbStsVr1XeRXAY3IOW+7ujj7QMGBw1Mv+mulsJkMthDDDdNLg/iFfPiHCdDxZAloVcpUrUQlS3sLvkHMJetaIhDADEIVogAWtVW7Rxp3VGBans+xL7puETOVk6sJSdTCDoeOoeElnXcOizZJWIvFU4n4l0LVaZJ1qRjU+oSYTUnFa6DGC0181Dw9TMOSPg+lSECTkxKIW5ghq7SW7R6QkLruZKRE27lVg5ndXQqxaI9VSD84UCep9lpJ3Xdr8qqdbdwrVGhEREA/P5lrXYw2JAxhFf77XZq/KtmS365AS4m5FrDYp+x6sGWqrTEX+0IVviNkOtdrbxpY5RBhNh3G4hG9M0tXMORBCJRbrrhLJ9dYkvjBtvI+u5Ydtgi7rZNjYif8A4sjD6Ky4oQlDbZcPAX7SiKMKKJhFAIoE4SAwIhP2VQ4f7nPuiqFsdwLM0Or0Gtzk3Hnimt7KQxa3pFrbtSzfFHdeVzE8t4G2b4Jq/hWbHdDMTcFxQeYREWu6y6YGh0gWNo9HK0SvlV90CFLSYmMtLSsACcJBBBo+attFTRvc3bDahs0GfxRiyNvcW1gSEoObvYem4nFxdP7a3u653VLIkKKJE4maSzki1ujLx/WWJLORd1JzhfaImj6y5G7j6ViwtomP5mPLR4QRXCJxgIX+yS67ImkBCwruP66qgQhgQjEACE5pEy27oQeVjPCFMx/hefw9VwdLTkLPwF0ZS/mXKOwrEdc2H7RJ/ZziWDNFQZqaKFAjABEIROnKVukl2NlHyhzqsh3scIkQALLnASWWDandUvlS70geQnHAxFvyIJpXaxD8ilxCRiPF+VaOe+60lqjV6fgmBKy01ONrDy3IETB6WroWFMx4EnJjvo4tgQ7OD2BVEcR3DiACY0vkTFdd1hQLFIoom55HcK+WoRS8FT5CDj3BWADiP2RavqER9Es/10rmwvz/AKxIODNiO0jEOxuLiQhwBUax4VPW4WewXVW1C7q/FEW4dkU15cT1V1GUciitHSXH9dKMzHHKbAaJZ+ytsNc7Hdp9T2m0yqzdTwr4AjSMWGIhGcW+Hp6y2GRAVtnnJyKIR+MMyO4c6HG53jPLQab7p+BNVHY3UpaTljmo0WPDFksBF+qsi2FUyLStjuG6ZUpbcRikyhRYMb/WS2EUWKLGHHHntS72K6446DhCi7CsQzO2cMJTMhNFhKRqMSa3p+8bvNbp+quqe6OkZuobFsQyNKlo8eNF73EYMG4m9Fq2GUWPxxyy2JN7H0nH81PKw1n3PFMnKBsUwrJ1CWOVmQGMRQY1pB7MS1bLJpcHlpr3XAaUnZnnaggSMY4Xnp1rRGHqHWf0VuLa5EkJoaV3mUIZs8ulrSW97nNvSi7jQKRFquPrpCItTEzYmYlP/ag0r3VGHKviPZhLSdDkI8/M9+PMJcHEFqzbZNSpug7L8MUyoSxwJyBKjvYJ6PZWYuitAhPhJLa1ooFESEXWPRFECFpMLtqy4bReP/8AdVk7S/iyIKIQjCuHrZ1pPbvsKmcezknibCsyEniqVDI9u+ZlIS0kt5E7n8hUk7n8hUOZ5PbdtuoMrBpVRwHAqM5J2lMHKkT+YiEmkvh9zLaVt8rUnWtokYKPhuBlkQtIx+1w/nEupt7Mj73GMUCZOdeRoPnp9PkaNTJamU2CECQkx3UAA0D0K36Z09xa/MURRJv5iCsrRuf5arL6XqwiJ13oJex5iDAtrIj7XKIGuLWJdZsVvi+G3OsJ2pNKFhKB8bWP/wCms6ih413VJBTd9DQ76PUtIf8AsUN6foCCNSVF2r0EfTIgQrvQSk4iaSdtrSDzEhcqBXqsnNamJ2UfQSOcqBmQRIS8yBSESzGlViVAj1XcmJ2VKTvoCJQq1a7tJOstCXKCG1yZVoIIia1KCZiUhJzSQfCPEj1FCsWCRyqNTUJkBbmTfUSpmoGEkzkvKmG5A4kkji+AY8QNTjwig8naUjGdmROwTTR+KKNC7XREWXuWGbMrcOTMD4ifmB85ZiKoWB8xWgeoVUKtBAwCWVPpc9J1VNuVBZcn4/p+qkG4fOTZS7SBx+n8ysb9P96rHm+nsqUDu1fT6ihtvmoEdPZTO1F1kBxl2lj2OoW/wPiSF/IIg+asj1eSvKxHC39BrEIrgOTjeigswnF3+E6DH4pGD6LV7DWrGtm8Xe7O8MEX2HD/ABLJxK36ftqQWphG11iBt9JNcggRH0RRmF2trvlRzEm1t5m/IgBuJv0+oght7LPlStYThVjr3DxfkQMXFo/+yURtb1fxoba3lEflU83WQSJC1xcxKRcJNeelQI3dkRT9XmQDuHiIlj2OoG/wLiSAy8pOII+Ssh5eqvMxGO9w5WB4pON6KNVYMj984HwxM5t7ToPotXuOasW2ZE/Zpg/lpwj8hEsnaLVLZLHCkG4VBA61W5StRIHM7mRFdunDnbkRcxWDmQUwiImRYlplcQcCvEhc0uqhrtGlNzfT6iBbc3WJA83KKGjlLhFFpDd1kAJE1xcxK7U36fUVMLM3qir+tzfjRQzXfT6qwfbJ/k5qvLFhl8kQVnWYmksJ2ujvdmGJOMZV3nIlnREJMItUIS+UVIL5pMhiyNNi/GysEv7MV9Ata0kUe5VG6KmQ0WrBWIlY41ZqQo+agsdqQCQStViCcqd3pKtS8kDWmKll3aU6lPN9PqoGyj9P202pyMv0+sl6yDysR4Vo2L5aWgVqmwJ4JOKMeBvgugl0cJLHNrf7EwNnvU5BL5CWd6rVg+1kf7xZyJwlDL+0WRGVVV2/6y+DoHOS+2omJd7GOoBLzRXx9C+JqPteKfJIplFqjS2xcEGu0qGkQtJSLRR1UENUCpIrVOW1YItdci3MoMvFN4UKBbqUDxJGtTOLSsWULvYcsQxuRDjvZjF/lxCsx+ssK2iluq/s3j8NTEV79DyXi5ttEJERoFyWKTZk+slHhX1nqWKbklqLSQPcpS2oQCcuJLmToBTyqFNyCt1qdCECaGisJq7h2s4Vdqp0wPnCs6NYPXrdqWDy45WaD0Voyis0iTxDSpykVOW38hOQihR4PGKjD1DpmFaHJ0WiycOTpsmDRgh9My+3WhgoRNcqJkTiwmirWiI6E3zlI+WBCiuPeA1XjaVqsVXKtEoJCdiBRhNuVmpqhTrQD0aFKEEuG9SlEbk1zOygOlaO2zbCKptOxVIVeQrErJhAldwQRguc5y3iSVdMOolglbG4Z8EM3JyaPcfV8v3x07yFYHcd1912Jqd5C6u03KxziufmXt/lNR+zzfxun/Vyf+g5rv8AGanfe0v6Duv/AMZ6d5C6zErUEVqfymp/Y/jdP+rkz9B1Xg6LsT077wtc7WNi0/snkqRNzlWlZ4KhHKAyCDWewLl30EW7tLmruyP2OYQ/44/QXq0XqGfLnjGTw+paHDiw2j0cl9KlR0qV+pi/KhCZCBU8Po6enp+onYJD0Etw7INg1S2ixAqVQfTsMDf3xqmeWH6y8mp1kMEbSe7TaKeedYsN2e7Nq9tJrHeNFlnwYX66mz96lh5i4uVdw7OtmVD2X0w5SlAcWfil4+eP32N+aveoeH6RhCkQaRQZMJOQhNsDWXERaiX2fql5S/J6zXzzy/1frdLooabp/SCuLeE97UsW7zUXaeBDRFeJ7Vmp3OlzC3lUpHNHsoGLW1LqbzJjJpdpSgjR2UZ7kNJvZVZQBdvC3j3DrQXwmkNyst3XYSQHMDPqVt32zKgHC7RmR5GpBOc6/MgXfbNSBbW6E1pFozIuzX5RQJXa8yBcogXWRFLzm60rmi5hlaWhWaXdVAam8y8+q20Oq/8AARvRX3EVzr7iXn1f9j1VL+QRvRWjHNj/APk3oLub0lm7fnLCNkX+TSg/cnecs41B1iQUFcNvCKsd4ztcCXS3lTEJb3tCsCloHlJBZfJQ3i5k2no6goAWl5RIEbc4ZUC4i15k132zKgLXdpQLWts1KbnXcQpR4b9SlQa3zdartEvKTFaNr9KGOK5+ZArXD2Ezmk3mS5Rz+YmuCKZKkltZ2UxFc7mcl5eUkO+atUNPWUjl8lP+cqytRJiFxNSE5qcfnJCJ3koIJWC9qR4uaQakP1cqC3qpbvtiPqcmZK8RG7gQMVpJRtu5U1ok1H1EBc67eI8tGr4NLyoDq7xJc3X5CscKr9RA3LzJfpkTOuczz0ub/vQGUvzEtuX5ia7N89Ll/wC9AE3UxFvIgnO15uNV+NHM/KgsIhvyJXByZhTCREWvMkuIUENFujJxoHP2k12niJR1j4dCBfguwghFzR4iSkRO8oUriMndUkUYsri5UgkOXNmQWVo8JfiUgRb23iH8YoCHFHvmDxiQktabD2lgeZi/Gz81/wBRbGFzTLhhEXyLW+woi9z6CRfCzkx+MlviNlkQu5H8f10glb2ePmQ4i811n1kxDa3rDkWJDdPWHP8AXSuiNDPpLOgW5rNOhVmItzhlLR9ZA13Pq1ii4uPMP40eKAm2P6n11Va3Rl5v2iQW3N15eAf2k1xFrzEOT66oLd721lzuJMJAN1mktSAJ3mjoQ0h87QlIR5Mpa0C0vN1/XQK4ii8jh0fXUWjCa/KPB9ZTp7PH9ZDXFdx/lVBiG5o8X5VVc15Z7dCknNNvKWdTFc0B6woBzfOFKJFF8oU2o3W3D+NU2iLRZl4PrEgGkA+bk+srGui23XEOTT0qshF13F+VKPKzKJZ/rIEhQhhZeAdCaLCaTS5hyJ7cpM1a+0oeRC4eXWgURJ1zAY3Qi2ETbLhLR9ZL4wR0ZeNWC7e3HY7jQUm1zrPIJM6HqZ5BJhc3X5aW4X3n5a0Vk1zh3HnKHw/tBXcytv4z8sUjS50FO9hlwecrLctilxE8b1AOO29Arh5EhN5E5a3WIu0vQKTe2kcObkcnF2l6Rpuz2IFi8OZAk7WGlO5xJMotQKXKzIoty2cKcnO1j/8A3VV3OgHARWmGmxVuEbfF2/8AorBtFovRc5BT4vK8C7f11BX3CzjTtJtr8qPGaXiqEW/a+FVkUN2hF5caYRJtyCrN5PGgyETbZ5atu+2KsnWFegwLaDdXsAQtBVGJF+QWrOjaJGLw4VhOOA3uPdnUDmmoqzYnOMr0FZNL/vSW5nh5ae7S9NpcL0FXi83z1WRDxh5aszcfkJdNqCsS4fTRyiYKbkpZnKhWVyPpnRmQ1luVBCrIha1N2FWgMyhrbnqS4kpOa0UEEQ6kppvnKu5EoaLbmKnyFZbpei5aK0caZqUkCcqCJpKFJOQea65WAq9aYFgsFqnlQhAJm6iQgSQHWVgqtWD56CXOL6mpWagVYKwh4UGJ7O/FQMSQPiqtG/GsvdcsOwT4qtY2hcM/DL5YazMSESNA48KsHK4lU5OIOJELBtLtJh967KrESK5X3CizC0icSft/TpSXZfp9VM5A7tX0+omEbWklG+3sprs3aQNbmU8vZScHkoK5BaNt3K75Uk4IlLTMJjt7CKF5qmF9P5kXbr6ftoMT2RERbMqJ9q3g/JEJZvzLBdj5OwAEL7Fn5qF8kQlmrjO0eqpFo5buqnSOJzhQ0m2oHQOX56hykDags9ZKPD2flQ/SmQDtX0+ombp7KpFrW8v5VdvdXWQAtzjzJ7Xn2VWPD2UzizM4iQM7o+cqqnAGLTJyWL4WEQ+arYWYB5hFEXKfVL8aDENkkff7LcNxC0QokL5IxCszHM1YLsb/AMnctA+xZ+agfJEcs6Erbfp7KCRbmTDxCk1KSzW8KkMfKm43cKVxJhzIG9b8ikRtScZJxLIgVzS3hcRKRvYHE0VOW1mgRQ6/eD1vkQWDxdYlaI6VRyp3ec4kFg5PKJYztLgb/Z3ieBr7zL8QrI3Dl7K8PGY7/B1bh8UnGLzUH2Yaj7/CuHovFTpcvNXs+WsawKW/wFhU/wDZ0EfkWQjlDJl/KsUfU3kSiblLeJhKCaNwoI5kyEoC4kBlJqZyNSltyAK7LxJndlAIuHqILHOU/milViBhtT8vVSNHL1VOXzkErDdq4uwBWC6v4iWZcvVWJbSx3uAq99wI1kST2YhFFkZA+KVh+iqgFvHmRJE6g0g+KVg/9NKDfZXxNV9jx5eaRT6lXy2IeuDmsuUFyqHE7QpWCdKhAqHIC1QhMKgMltzDkVmpvaQOvkWLIOboWF7UbYuA4vDW4azZ7fYWD7XPFUvCsX4qsQfSXv0PJeLm25Mj+mTLmSCStmff43WVC+s9Sy5FyW0UzkDIUPUoIdcnSOam5kEqW6kolameSCFAi9D0PQKxYZigf8I2Bi5ZofNFZq/0lhOLzbjvAcTmmB+UUiM4bpRrS5YpozIJUMJSlQMlU2tRagVidCEApG5MNlqHOQQpHOoQgZKhNcSA8hHAhqUjJBLbVI/OQi5resgYcvZTHr7KTT2FPrIG1dtc292KP96mGInBUfmLpBrrusuc+7BD+8/Df/iI+iS9/pv/ACYvneqf8dyKmQhfsn4tP1ejp/1qwAKMQAG8IyNgAGY19lGolRxFUINOpUkc5Px8kGD85dnbHu58p+z7oCrV7cT2JCyh8FKdXiLmXztbr44I+3Tk+rofTp5u/rwYLsa7mjpidEtX8cQYkIBJ0CkHr4SjequoLYUIJaFBCBBhQmjCg2iA8IqTLeXGbsyrFvJkX5XNnnllaT9XiwQwwrAxO0vzKsSbx6ldbyZ1U252hcXUvTkPqoiue5Np0ZE5t1cS0UdOhK4mprdPMlYihaPlJSitygmKE4u0jdi1YkkJpDo5lfaLy5kCLRtyNUnaTeZBEIRh9dW2kDrMqqIi9JW3FCPOxqAJrm2ZktrQyeWrNV3ElH1tCAcy6zLxot+15+NDbezwJrizcXAgW3LyodafVFHKo09hBJtcHWXn1x3tcrH/AAEb0SXpesvNr/7HKx/wEx/01o8DZJ/kyw99y+cSzX1lhGyb/Jph77h84lmzru0gqaQj2U7bj7KT4Lskgi1dVA1vpJWW6MqbMXaJVi4X58tyCwh8aYjpJK0SuJia5/aQ4ufUKAt4A0otK2xKRE3ydCUSJ3a4EUsaO6cXAlud2krnZuHgQ64y5hQNlFpGl/N1qzl6yUi9EVALtPFxpcwu5RTZi7SRxAPZVh23OZlJK0mt4hQTfOFA+siQRMu5l84xbmqZm+1AiMIdFqCwYoxYpkJ2Wq230l8wxXD1mq9zbeEkDDajVbzJHWt4hTakEtJrkDw8xJBK1vEKl93aQGYdajVnNV6XcqZzeDMgHEKkXOb8xIRW6Mqa11vEgZxNSkLSz8WhK9BFdb6aAMrD9RMTQt+Yq+UfTVhOInc3GgqJubq6EW5bNSm5uvy0NPS8LkEWj5YpWjls1CnJzbX5U179eZBWI9TMKgsreUk1zexwI5b2OIciBRzXcX5VWTRFxcKZ1ruUdCRt7b9QoJYLu0Sqtzcgq3V5JZFDX8epBTHbCk5xumBMf9Mlr3YiIjswokTicXnEs/qr4VMqRDpgRC/syWGbFIEX3KcPNDNAL8URZ4qZq4svW1r6Ca53MOvlVBS0fenYZXcCIQzJQmxAygOj6xLUgRHdNHh4/rErm+NdfmLX9dBS0QSyHmL4D66r3UTUHCWRBW4+e5pZxTE8vF36hzqCgERZAscOQlJQic4gAbhLIX7aoLc51+ktPVUXCNrxzDp/aSlCIRawPIJMUIXZAzcyBrna83B9dV3Zb8vB9ZDYjQJgCDRP5E24Lg4hzoKx+cQ3h9dAnq6pZFZujInM4SzpSlo4jYB5S1oEaBi3LmFSICROHiEvlVm4jgbiDV+UVWUKPunDBvb+QkCXEHO38iCc7kcX40+4icB5iSX2EzhzoFES1PeIijlv1CghdaXMksdoG78ooHF32zToS3Ndfl4PrKBa22NAy8f1iSuhuzwPv6B4ott5m5EgtzdXQldDHNGgabN+jewm+/QBd9vWhib/AN8BKTdTPISlMwvjoH4UKTfjpmYH4UKCSy6MvAoFpXCAeQgo8Nzu+YA/80KrKZgapyB+FCgLS4ExCI6wSd+QG/rkPv4pSqEs53f8DN8ePrILbMtiW1qoKoyn2fAE7fhx/a7SXwhJuaVSlfwoUH0NHL1kZeBlq+TwrT221KV/ChQVVprbqrJZfsoUH025Xgho/T/Wvk8NUp/+OKdm+yhVXhylCLRrFO7c0KD7CaIu19RQLSt6y+Q69SHXVunD/wA6KQ8R0WEP+O6Xp/dQoPsYOaziSuHL4tef7Y6G1vhuncH66FHtloY3eHqd+Gig9BsMkhCLdC8v21UCL/n6nD/zQpSxfh4M2IaX+FCqHqfU5EOF2heV7ccPfw9S/wAKFV+3HDX8YaX+FQ0Hq25SYoJuVgLyyxthrViSlsL+VCvmLHWGRy4kpf4UKDw8R+N2pYPhF8FJxovnXL76VXsRzOMK3SZ7CRydEk3FK1nfOhzHCLV4fhqn17a7R/B0/KzwQKTEccsbhD2Sctj70uM7UHzkQt0KCa03ACuIiLjVd2p6BPqciUrsybUlvy3sQV26VBDbyddP5aQiIbheqC25UgkJcyknFaou1IJLluUXZfFoaWpLcWZBWTRypMtqtIiLWk9NElK3Kq3iTFYar5VojSlU26tShBWRDpUE0VJOUOLnQK4W9ZBNykxFzUriFB54JnqE48ywNa5S5Vp8qCVYNqrVmq1AtoqwSuQJNUggBcgnNTqbXINby2IYmHsf4tlho9UqPfQy8f8ASIOZbqXte3+JpwliX8FTUWKUDaRWxE27+lwYvyE1ZqMeK62MaDDPb7Fb+xLEv3hT7fY+rB+JfwVZiUWLpjGmGKeYo3pKRhw46mc0PBmIi/oEe32a1YMxEX9As1dE4zThFItZ+WqGE+32c04PxF94Vg4/nP4mYi+8LNHROM/LTDFicZ6taDChx/OOtwZiL7wrPb/UP4jYiZ9wFZpvS48vOmhR4vGeXjQYUOP5z+JOJfvAp/dCqH8RsTfeBWbb+K7Ofl/WUhHiaTPy/roMJ9v9Q04GxL94TQsf1AooCWBsSsd8QP7SzoosT44/LRvYrbTN9utBpnZljicp2HKlLQ8GV+cAanME+DBGz2SylzdCzH2/1MP3h4lD+gFNsyitnMeSzz8VXYkXPp6RWbOIRtjH5aDB/dBqf8Q8RfeBTe6DVS/eHiL7wKzbenpM/LJNvT4z8tSMH90Gp6sAYi+8Cj2/1P8AiBiIuwKzp0TMndEdccRBgnug1X/R7iXyBU+6FWMvue4iLsCs4dFLX9OlWOiZnoMCLHtZ/wBHuJfNUjj+s6dnWJS8lZ4MWLlfwodFMnPQYL7f61/o6xF5qYcf17/R1iLzVnDiyvzNFX7+KQ2npQYH7f65mHZviLzfWQO0GuO/yb4iJ/V9ZZ84nNeoGKWZ5/8A7SzWk9mGM6xT8Lz8rDwHX5wBqc0e+gtaBGTml/uWZdOP697Dh2b4i/s/WUbJCIZHFss/3jEET8YuWcdJRMzzy/lRsmEhj+v6tmmJfNU+3+vf6NMS+b6yzp58aBKIWvTciWD+32vs/wAmmIv7P1lHt9r/APo0xF/Z+ss3FznP1K4YpOtQYH7fcQ5fc0xF/Z+sm9vuJf8ARpiLy4frLO3FYQqbg8pFMF9vuJf9GmIv7P1ke33EerZpiL+z9ZZw5o5+VOJFvXIMJ9v+I3OHZpiLizw/WS+33EY2+5piXy4frLOHZ3K7KLn6i/EpSwH2/wCJcw7McReXDXy1rHGI5mi1KEezTEUIDlSF5nDaFvWWxnN7TUTTosnOQ+KFE9FqprGtlsXe7MsJRP5B+QiWWjbb1Vg+x0t7sww3D+KGJAL+aMSze1vlEpbI5cvWU+skbp6q+eWnhjzMzCEPeNelYL9NyYvFZkyXS1AELg50/Mky3c6cEC9ZWMRrUIHzJxhaUouzJrnoLHXXcSB4S4R0JRcnc95KRCx3HsIouCa9DG4+9SWRafz14+LR3uF6wP2iJ6K2KZNeUTaFiEsMUQfc3xFHAJWG2MBw2n7FrhuV/Rj3EJWjsxxF5cP1llGFI5R9n2GL80nD9Jel0ETc5+Wvj6qX+R58nJhI48xHl9zHEvlw/WTFjrEP+jTEXlw/WWaOPj0j+NWPOy9efcj+qGC+3rEIf/DHEXlw/WTe3zEP+jHEXlw/WWbOLj6yZ5bzPYlo/qMH9vuIP9GGJv7P1kFj2vf6NMRf2frLOd6YiYv4UhEWpTaP6jCRx/Wv9GmJf7P1k3t9rmnZnib+z9ZZoO9bcfkKXk52+iJaP6jCvb/XhL/JnibhyQ/WUhj+sDd7mmJr+SH6yza5zhOJ5aHRPjInlpaP6jC+nH9a/wBGmKfIh+ssK2q44q89hymjE2e4ikwgT8OLvpkBb9QsuZbtE4jvqmflrBttUWIWz4DIztn4J5+ZezRyjuLxc3sR9pdaKOZe5pim7kh+sqvdLrOX3McWeRD9ZbIjkRFnO5utJvYmV/nr6r1Nee6XWP8ARjizyIfrJvdJrP8Ao0xZ5A+stg9vz0t3H56DAPdLq/8Ao0xb5EP1ke6XV/8ARpiz7wPrLYI7zUfnqd6fGg1/7ptV/wBGmLPIH1ke6bU/9G+LPvA+sthEREOc/LUPLjiINe+6XU/9G+LPvA+sp90up/6NMYfeR9ZbCceV8RAkbs5oNfe6bU/9G+LPvA+sj3T6n/o3xYP9APrLYYxSzPNG9iZROIg157p1R/0aYs+8D6y8Cp4xnK5j3AcCPhKt0cBmonjp4BET9kctq3ERRG5z8tYRj0j8PYDJ5/4zL/poM11OJGhBe+mpWCNalTck1mgZCgrxapQKpBQjV20D6XIG0bUaFKAUanI1p9LuVBGcVJ9jMh+pMgrd85KrEOQFzkvAm6qNNvCgCHOPVTFmbzJeUkw5kCkZAPi7sy547r5x4Dw/E/2mHoLokMnVFc/d1+QjgKjlo8LQfRXt9Pl/8iLw+pwvgcgdAdMTpWXYA2a1zaPVwp1FgxGfDzx+9QR6yzDZFsJq20mLBqU8+Rwrvbpg7Ysy3TD9Zdp0ChUjCtGg0ihycCTkIQ5A1FxFxEvra/1Wv+PG+XofSbd+VjuzvZlQdltM73pQb+pRREZqoxg8bG6vCKzLo3hdGeJmVXsaRz2qwREODMvzkpynK0n34QoYRLnyoISbc/SjKNvCl1eTrWrDW8eZFxM7SNSLmN5ECtTOLVxJS9VNq7aBW2+UkzPbypxHIRPYQkjcAJGQvuEUEWiR9ZFthdZFoxQK/Ml6vCSwFrcmlSQiRdpNoPso5ubgQVQoTRASZqVrmifVTCQgwutoS2kPZ4EDFm7XGla1na1pizdrgSjo7WhAXM7PGrG8XFxpbWn1eBNa4+sgVpekm09njVcJpechwubZcIoLCId6fWXm1z9jlVd9hzHokvQ1dtebXi/varH/AAEx6KRGqdmVf2gDs8okOTwHKx5MIRbqYOqDCeO8K5qy72w7S/8AR7Tu3V4a+vZNbsyw3D/kv/8AUJZm64+utUwDw9tLb+wOlj/5uKXw9tNy+0Oj6f8AO4rPWiQuG60k1zeyKyxZgBVzaf8AxJog3fwuKr8NbT/4n0C4P4XWx9XbVYj6JJYs194a2pFlwlh3T/ndL4X2pFb7UsNf1utgutz8KGtLPqS4154V2qENuFcLf1uXqpvCu1R37GMJjd/CheqtgtFnZ4ExWk2zToS414NQ2sEP7G8Jj/5oXqpu/tq5f5kwfp/zhE9VZ+LfS0JSEXW8CXGBd+bWXf4qweN32bE9VMEztbL/ADbgz8Nieqs9aOlmZKIiI9hVYYIUXayRfrPBg/8ANRPVQUXayXwODPv8QvmrPbXXM0qpo8eolNxgrtrPHgzy4iX/AAt/HYJE8vwyzxotcLMopm3HfqSyWvt1tba4pnBn9sqCHa3vW9/4Me7IARFsGLFERAR4V8wkJeNEwzaFVhhgye1khb4VwYP9BGJWd47WNVbwf+CxlnMIhisDrL6WtHICWGvfB+1cv3w4PH/koiPBW1Yv3yYT/Aoi2E0RLQkJrTIeESsSwwDwVtU/jPhb+r4iXwVtS/jbhof/ACuItg6+0l5uVLDABoe1E7fbnh0P/KyU+A9p5Zsc0DsUgln5CLu0oLLoU2GA+17ab/Hyjj/5QSj2ubSy/f8A0sf/ACVZ763Gly+TxqrDAvavtKL/AOIsiP8A5Kq/artG/wBJEl/Uq2G7h9NQ30ONLDX/ALU9ohf/ABLlbv8AYIpfahj/AFbTg/qUVsNv03iVtmvLxpYa/wDaXjx3+VH/AOiw0e0zG2raif8AVEP1lsK92vMKVpN15UsMA9ouM9W1Ga7FLhpPaLi/MW1So6clPgrYTSe6/OlYep+X8iWGv/c+xUXvm1Stlm/cUFL7n2J9W1Gv3NySsH9tbD1drg+uq/gm8vB9ZLDXnud4jze6jiLV+5YKYtneIHtLajibN8RB/bWwfhT0g78qqIreyJfIllWYB7nNcIXFtOxT94g/tJvcyqrvGbTsU5+CD+32VnseFvfFvzOGzylWNwvHhh50sWazxHs3qEnhytx/dFxNH3UhGisPdtP2B1Wrw9mmzePPYAokccc4lkwjgRDLQThiIez2Vs7GcXdYHxOX+zJofNXmbMvFbO8Njl/SsEvlFLdpZ43uVmQOLHmKSyl7/DQOya5nt5xZq/dQ+qs/zD2SHIhzSeWoh0fXSxZgw7IoerG2MNN/hAf2+ylLZFAhZsbYzyl/nQf2uythMsu4eD6xJWi4LwzcH1xSybMB9x+WddjPGxXfwoP7fZS+47IiP7KsbEbcnhQfVWwGg3RlEsn1kxCD22ahSw137jsjvf2T42zN/wAaJfcbpRC4sSYzLL/nRbDEoercaeJLuhG0WZSHOlhr33GaM4/7t4wLMN9UL1VA7GKCWaq4pILc9UJbD1OszDr+uk5bHt4/rJYa8HYxh4re/MS5c/hSJ+0mLYphd10ziI7v4XiLYQ3WiHwpa/rilJzbeUs6WkNc+4thdriOv5Xf43jJvcWwlf8A47zN/wAdRln85FISCWZHJ28EWJoW8KEG8tyqveQ18OxbCWoK/pL/AB1G/bUe4tgzMUGtvu/z1GWwtLhDiTE5zuIvypYa89xHBP2NWy/86jeso9xjBI/uOsF16vG9ZZ3unEBEbmirWi7QOZLDAPcUwT/BtULr1SN6yb3FsD/wVUf6wjess6t1M0oJoi3Md2tLDBPcTwL/AAPNfhsb1kvuLYDd/iGP+GxvWWes5If3xV+R5aqwwL3FsBNd4B/+ajesj3GMBD+9sC/p43rLPyLs9tQ4vpHSwwP3GNn2b2twPv8AG9ZKWxjZ8P72IGr4eN6yzsG6ubWoLecH9ulhg/uN7Pv4sSun4eN6yA2P7PhzYVkcvHG9ZZtfunXs66Yot2vy/rpYYT7juz5rhwrI5uOJ6yPck2fD+9Knf2nrLNOa/SSWK7KTxY5LDDS2TbPhy4Sp3D8J6yn3JsCEduEqWOX4z1lmLizdVIQFlv4fkSww/wByvAYC72pUvyC9ZMWzDAv8T6Xm+IL1lmLrgv1cf10hcXD/AOie8hiA7MsCjlwlRy/oC9ZP7muCW24So+rPK/nLKGllv1XvUXOdf5ae8izFvc3wXm9qtHH/AJVSWzXBY5sJUT8FWTiJZb/LQ8nNzdtPeRZjPud4O04Son4Ko9oGD/4pUD8CWSOJvwmXjTEJc5JYYweAMIfxVoH4Ej2hYQd+xKgfgSyN3C9QX9Igx32j4R04VoH4EKPadhccuGKB+BCsgEeEPPVZlpvQa7kaZT6ZtnmYdOkJWTgjR4bgloG6F3ZWwSZlFiwenuj7ZMQl8RToI/KKzgSLjNJBfvaTKn++JCIudBW0W8RpSAdStJ32xITh40FRM1MRben+rzpLuNUFIh0qrlV5Oyqq5utBFrVBD1E1yXUgU2tVRDa4laSXVbpRKq3KlIm9pWarVWXKtEZVWSsuS+c1Aqrt1Kx9qS5mtAv3tK7sqxyrJyDz8qbTak0pwWBrU+YWiqnOTXcaBx4kyUXKy5A2pQPMpRqQPoSv0igeJWW5h6yDEYHitp4NyTVJIR/mJZqsKmWwtpeHomgpCYhfIs1cgURuNWJRuK5MiDmrIXkglZ6qOYfp7KLONxKxqpIRIm8KuQMOZXj9P5lTlVgu7bUBmD6ftq3NFdzfkS5Td9PqKxqBUpE0vKJWc3WSkNreqKkYVgLxWMdoUDinIMX5YazlzRcsDwqW42n45h8UCVj+as9aJWkgBuTcwpWkN3Km9D/7ILNSUrsynS4tSsEm2oAfp/MgbRaKA5kw5QIkFeUt51iVvKqY7m26V9FubtIEaRPLjEiTiOkeqo/NUD81yBiK3slrTWiQeT8iZrfp9ZV9b6eygwXZv4ir7RYHDVocXy4az4WuMR4vyLBcBNhY42kQvt8qTOys4HL53yqVGK4eNFrk9rnfT6ijS3l/KiUiI+ajKXVQ5MPnoGuy8Sm5tqjL5yN0KBxEXIFrXKHJxtQWAQkwUNJoDytXz70YAuiGAgPOr3XfT9pA2XynIbafMLVGYeyrYRXdZBgexv8AyfSY/FT8/wD9RZ4LhYPVFYLsfEfadOQh+Aq07C+UhWeancxIpAuzdYlIjc7XagW5eQRQVou5lgZQaNLeqjNcgROOZqZulSgEKS5kDxIGcKcVWP8ASKwUFiVFw5XpUDcvOvMr472g1KGOqBEXqDzcJL4qmLqbOQ/tReiiZMawN43Z5hv7k35CJev0ZW8q8DZ7/k1onLvv+oS9+G3N1V8bWfY8+Tkt19pL6ibrKBHT1V40I19pSOXsqLvSUjk7SpCxqVvEm5uJMI3OHOSlau1zUqse+5F3oqA1uVHkJhIs16PLQJ9T2OjIsI2zCJbNJwuCagl5yzq72OjjWGbYf8ltbL4ooZecvXo/sXBs2EToEsRaoEMvNQWZySRi72mSBccrD9FXtX2nqKzSp5U6VAyVCEDKcwqFNooC1LoTqeVAoiKLbGp1DiK1BWaw3aDbUMDROGrflhks1WEbSy3XtVPhrEH8YkgziLaRilBPH9/PrJUEaEdVSodc1AdVHqI0KUEcqUndtOkcwQQWXNQ4iRbpS2uBA45buZRc1LmFBE1giy9A4qdShHqoAkqlwo1oJdkVnLyqg02YkFrru0ouS9XjUOI7kFhZVi2McDUjHsKmy1aA48nITgzgQdJl0aS5Vk7keyLsmpIzrxJRjPkQN3AhQYEAAhQYQtGCAWgKHNt+YmhHc7lJSQ9fStC6m83AmHi62hDbteZFxcflrAjrTEs7eBNqc9Tc1t+TjUEJO15lol1yjL5CcXEIZ9SrJzdeVBY70hR6yVt3aFPr7RIKyy9UVGZ7uVWWtdyIJpPKzSgU8/aSCJF5KchF13EoFv2vUoUltreUdaa53aSk0RPqimcLgyZkBoDtJbtT8vGi1oZNSYmt0KkmISdrzJWlpfqQRCMVoszIcNmTUgUnNPPkVl1+fMKrtboyqy2/JmFAC7nLMq2tHXlRCa4Pe9SOPqoGLO3mFediEW4crH/ATH/TJeiWc+sK8zEf7Gq3/wAHMf8ATJIjxdkzvc0wx/wf/wDUJZjqt4hWGbK/8mWGP+AL/qEsyax48wrRBcQ8yUSdCt4VaOdz9RJLd12Vge4it4hUN+drU+LC0eIUFxFzIE5iyNHWmL30+txpXC3RlQ4SI+sgLm28CDc0yvfahwiIC+HqSuEx0ZRQW3c+YlBCTdaUiHLZmSadGRSpaO83p58wqM3nKLW6LWpxJxWszEgqJ3opiuLtJmW9lLF4eYUFRO3QcZCpiluid1UNGzgFy+eOW9ZwE1Wl8xNK69lyJESIT5m9hPuN7FZzL64UCHChNFmVAN3UUG6SV+nsquOW6Fwse5M6wOcC1oGdc0uJV5h7Cstdk4SVeUndZBAud2hQ1GYbeVT6yAt9FK0TFvWFTlF3Kpd6fGgRpCPko5etoR1eHjVnY1caD5/gndUsiYBEv+xWXFlA8vGi4Yrr0FLhbbwjoRa5tmpW+Ma3xmRTc516D53i25mlTblszEKcnNbeNqCK7XmH8aCq1pjZp1p23N6w502n4TJwIzlbxcCCsW5urrSbrT1hzpm2t5eBNa67I78qCvU7iISVRekJCiK1vZ/ISBaUXtflFAxFddxCS+ZwkLNbS/ESvAWjd8V+QlWQiMfrEXooMa2gxd1gXE8X+QRPxiqsBCUDAGGxE7xkIao2oxd1s0xVE/2d84RXqYThFCwhRIRfYoj5q3xU9jMTeZuf64pdIN5df1kzm3dUsiUd2T+1oWJfS0XGN+Yhz/XQTmuF77Sz9lL4trrNJZPrpbbMmUs4ILBgE1t+oc6ZpOcT9Jaf21W0XOszD+NJa34PL+RAzWibt/aJcP7SHERAV9pcH10WkQCyB/8AtLaI6Moln+sgm5uvLwfWUk7LzFoSnl0PuHOleLgs4TzoFH1dCGllK3MORMIi3ytf1kZSt4nZ/rqgrXRd4XL+NJburdI5/wDcnLKHV/IocLt2PN+NBBCLr+LR/rUe9C17wERTOaIF1SVZCJDuy5hQM67d9YUE4bhfpJKJA51mkg/nzJbW9V34kEGJFaL8paE4u+gJRESK5jHcf10jWjcYZeP6y0TpARfl4PrKHENpegnbdo1BnSCOciZdzoGK27q6F892WzVoVmlvW1/WQ653V1/XQVOKx2Rw6EpEPJl4PrK24Rbfldn+smIevm4/roKPIEMuT66USEhdZ5H1laPvTr9Ov6ymLrG/UOdBQXD1hyKRa7QTiFNzdU86Vpc45kCN08vB9ZN8L2/yp9WQycXH9dVk5vO38iBLR4Mv5E352j66YhJ3DelFzXFnt1oK2jm7SCHSXMKsIfg/nquK7ML/AC0EW+Vclty2W8ibLbwjcpc7j8tEqmiPBcXAqOazyF9TS1P8tI0nWqlEt8nkSvLSn5lEV1g6EFNuX5igs2hWtLnYlJ1mdBgGHvG7VsbRWZRlx+QVm1oZjWG4Mux1tCj8M+MLzVmznld1kkSV69CguImJ2l9DSk4R7SBCbyKtvErNNz7VX5aoI3hYi0k4OdrSZLb0CmI9VKaYnIuQVOtR1d2nudkMVFuVBSTuBJyr6SXzk35yJRcqzTqM1pLQlupKmci5ApCqCzfmK/Klt0oKrUWprkpcKDzLsyZVimFYJzErBa0FWCdBYJNuFMlch1yC3mUuIgaKVvkJhAUE8yOUkvKmzfT66DFK44cbYMi8RTEL5Rcs2HKsHxYW6r2D4/DU918orNhtegYVMLM4kcqZ6Cx1rksKEMIj5v8A0Ta1LbbkEjmaX09lWws1qrHi5lYMImtEw+/ignl+n1VdqcqN1FHOHMrxFotFA6HahR2OZTagkeFHMh/ZQP0/mUjB6GIwtsFeD4+jy5fISztzRWCQvFbZAL7KoRfiiLPSaqACb6fKlDIrBzWqQZC63/opcTTHqqPTb+VMWdA7h8n/ANEo3IuDMCsEtSAc15KeVQ3SzlQgHK0brOqKqbp+Ymc0eqgfm6340EV30/aQOb6ftJS0IMEwqJQtq2P4Q/CyclH85qz91xtyO/IsDpHittdeH7KokEvIiLOsz+b/ANUkG9X8qbX9P2kFm7X5FHLy/lUiW2u+n1U9z7vp7CXT2vyIDyrUFiHXfmI5RUjda8DProGBw3D6CMw2nzZE2vspHWoJmYAzkDdRQcBZgMEwjY3lbkTZrkWoH/NTQLSBVablbCtiu5vyIME2U2yOKoXxWIpr0RWci5t2dv5VgWzJ0KobQpb4qtu++Q3LPdfI78iSF2r6ftJdF3CgsvZ/KjUsUd/rI/NSC5reX8qt9f8AIgObrJbUZhTa0DW5lCj/ALU3MghWatCUVYLudAtuXxbEatCPq86bSgLSYqpm6WmR+1EvpFVtdCMeVBg2zUv8HktD+Kmo0L+0WQARWrHdnH7DJkfiqjNeksiC6GK+TrvseXJyMIkVvKIp7s3WU+g5Ai4V4EC5NqUFmVUePAloW+m5mBKwfjpgxhC7rEgcR+am/OUQCCPCCPAjQI8sWWNBNwn7HMKkAd5KpA03Jv21XLTMtPPiSs5KzQCTS3JjFZ1mqw3bpvIpWLWO6qa0rSYoC5AmQioB+10LE9qo73ZXiHqCXnLMP2uhYztMHe7N8Tj9od8i9ej+xcGY0M95QaJE4pOD6Ir0hbpXjYTIouDsNkOqnS/or2hcvtPUlChilAtqZT1UoCRE0QQShY3Wsf4Rw5H3VXxPSpONwHHF3mr26RV6ViOW77otSlajB45eO7yhzLRe5S4h66GNzI1W7tYHUGoUEQuasErBtqVsjhsuGsS/zlnKwjaoP9yKOXDWJX0lkRnUcR3pkXEqt7ani3RHJMyoDkOQ0tXElb0oJHK1WqtSRFpQOkejqprnOQAIuUqWixyA0a0ZrSegWpnIKN7FHQ7rq0iIlWVxJjzIAvfTS5BcnSBkQD03rpSHOKs6vEgB8lQhQRFlDlQM661iBzBzIucgeL5iAtDgyqSIdLEMszxMvAm1t5uBaJaPJmS2sArE93H5iQbhufl4EEGxp5FDR0szJorm2nw6FJWRc+rgQQOW1mpSWXspRL0eBWENrS4eBAurkcKnX09pSWbPqS5rkERXCIdVNx9lLp0ZFbE7GYUFLrrX5lHjPtmVNqDrFrVejs8ahRorufSnu+2Z+BIY5x6utSMISLtcapJht48paEXN15R0Jm8mktabq8I60ATnZzzcCVxeloTNJzhfm40AOTPq1oK3eL7PAm1N5h0JdOv3rjVzHPc/MOtBSLXB2tCHeKbycCsBzgK/MSUiLddlAgxRN5DdcK8/EduGq3/wsx/0yXpj4p4iHCvKxHbhetl/JY3opEeLsrMR2YYYL+Qf/wBQlmLrj7KxHZa33NMKj/Iy/wCoSzC1p9laDV20un4TISmE4QBxuMYpKBtYPKQoLc3mo1a8xKohut0iKZzj0e+oFc4Wi/Ki68ifpXzVCep9Dpkap1WclZCQgAW9mZiO0QWnah3W2yGRqHefthjx8o76DALdLIxsN06gHrKtxs1lbwLysJYzwvj2T78wpW5GrQRK7cncHWErhWQQJYo9sMHW8a0UNcZjeNyBhE3yl5mHMUUXFvhXwDPhPeDo+4mmO8TE6Mw3L2m3N5i1opR8F2R0K0c3a4F4+KMS0XBlBjVnEFSCnU2A0SjG4runKLRV9BxBS8U0OTrlEnO/KXPNKBMZXj2kH33Nt4S0JCIhIOsOhO4vSHOmbbaGkUFUeKI3FpItC+Vzn9VfRM5WlxKgYRc72lrRK6ANzuZOJCI3cJCmy3C/SsMx5tWwls1mabLYmqUeWjVMiGWCDAKK/wAlUMzJpXdXQmtG2zUqRLewAiw3mEWEMUT5eleVi/FVKwLQZzEFejHApUmQ72MAb39W3KpHrll7Kj4XtrycGYopGP8ADUnX8PRo81TZzeDCMwaVhNK1fLAxtRZzH85gmFGjliGTgDNRYLLQh9PMqHuaewnJru0sb2iY9oGy2hhWsTzMeBIFF3A7kN6TuqvTw9XpHFFBkK5SjjxabUYQx4RmDSb1VI9LR2SSvb5Q6FPV5lNzNbGIE0teGpQQjyaST3P15lF7daBSEeTUq3DmsyirWk7XaSQ3M15UBa7RqSHxCzSicnAk5aZmo5nuZUSilZp6BWDbKdruHtsUtVYuHIM8AUzxUXvsBG7p4WqhnxNAtGYtaqta6x9utY5i/H9KwTVcMU+eCamo2JJrvWVOWASEC5iXtVqpydDotVqseMEWWp0CJFj7lpFZpUj6rcvMQ51Glw8I61rXZNt6wrtimZ+Vo3fUrPybYve82AuMenULVsoR8U2zUKCW3NZqLWluzX3NWu6VtroNa2tzmzaWps14YkyJ0ybdx9QXdZbD05Ayl+JUK4vrCkc0jL7mavJu/cXEJfKK+bSZfai/ESkWRRba/iFUETidzCpKK6KZc35VVpbrYgw7a6TdmWJ+PvNv9oKyWg20Gj/cIJZ+VYrtit2aV5toFu4XlxBWWUwd1Q6VD4ZWH+JUp9BEO44WCWv6yvhCW915h1/XFVNHehkzFo+urbSF1gtEdClIuGAZX5eP6xJrii67SL8aCY5tlxEqwdFYIhAY4UDOibp3j8o/iRFEiL4fVoWj9q3dMYc2d1D2vUeQ9sWIboRS0s5sEukrRcOYuqsCi90rtPob6niDZLHhUeEQkRsiQmdpXSQ6tF1jt/p0KIu858paFr/ZTtkwztdpUaZop96z8Af01Tpk/GhzDxCvXxnj+jYOplYmTn5GPUqZA76KnHNNimPSNtqmoypxOu5dH11UWUIZW28CxDAW0ijYxw5h6cjzMjJ1itSu/Gl9+ui/ULSObmWK+7kUXbyGy0MPOACICnu+icHi3ZVo22WbkcqSIRHRld8i+jcENxWgLSI328y0DV+6Qj1raD7TtneGPbNMwnQo82cdsB2oncIoN8clmrOlyscwspKIRRSgAUyADMthkYBld0jc1DSEbuEhL+ZAZdfEKX4XrEmtd2hL5RStt52IK2+K+EtFWOIiz5i/KKUhbaXF+VWQIQxY4Q7Lm/iQVlbaT2N4PrJScFomdxEORaXwZtzqOL9slbwIVEp0CQpxxhGYA4m9P2HczVuoeJgaSzrQriYBX6SyKG+KMcuYci0ttu22VPZbiPDdDplHp054WtKNNmVhdJNtatjYo2iYawdFloFcqsrIT81AGagQYxkIxh6R0l1kHvuuu4hLJ9dQ10K3h4PrEtS7Ptv1Br2GpacxHVaXTqxNTkaVlZSXjkRRmFaTfq/q8S8LugNv1c2SYjk6VSKVTpwI8Dfkc24i+qPKg3x4t2jNwfXSOEbrMvAse2b4xh7Q8C0fEoMGNOQvHwYJ2wYgE0huWVwoTop7wzEBcOftIPltEtDLtCVwFmYeUlyzXO62rkLaIdFotKpcej9/w5UY0ZzjuaROXVcdwk0X9jykFTWwjyahQJCROJjBIS+VMOa1+YfxqshLLflb8iAyiY2ZfyIzFczN+VWC57Sfm/KqyJouytH8iBC5mIty9YU5QokXWfCtG4s2yYlpG36g4Ck+8fAk0UvvTOB436sNxXIN2v1dUsiUhdlPlyLBNo22LDOAItYo8zWO9cSQJOJFlYMzAIoRlmh3cyx3Zh3QGH8VUjDcjWa3ALGFWuKUkZUmh7JatI2qhtq0rbM3Amba5n06Fr/bFtgoex+kBFnA78rc0LJWRyvuzFyrUdPme6M2pSvRXKV3lQqbFL9LQTMYDx6dQiVyDppwuaLHpbeTyFzBK7edomyTEMtQ9qlKCakIto1GX99b0ahiDbEXTknPStVkZapU6Z38hNC6FGDWPTcKB7RysVRXZla4udVk77YgRwtt9BEAfHgI6iEPlTNL7Z5aeTH9OQS0OH8SDXuzxsWtY5j/ABtUIfktWbdLfKWEbLHFBxPH+NrExk6yzjoEvYNCSCaqibyK0nAJkkIfGgQ8SoUCQxbhMGIJoawUjwkhzjMeH/1QQ52UwQRCRaFBf0ilvXtQVkIZUW6UxGXOlIS1PQVfU5EfU5ExOS6bUCk3MKQhHKr9SpuFBU0cyPeoXjOJWNuVM5cMHmiwx+UmrUg0lq5/lttcPCu2TGGHK9Gh+16PU4gys8f7jic32vp81dBjcQNucLrDtMVgq1NYlaI5VYSMq0VE1VsFWpSEsyDyUXItzFkQ1YHBMJJRuTCJEKIOn1Ks86BtJBerFSPESf8A7UE3KTyJsqXl7KLYdj+2FQYvxVTgl8pNWeFmNqwXaQLcOQY/xE5LxfkiCs4LN1//AFQN1lLtSgbbk12UUQtERzcqHOy9ZiUbS85WQrSuRbQG1naXX6niqDgLA4H3+Vs1MQczuEeH/WqR7lesRRCPOY/jhPxborHWF06c13sL4O5ngBPbTcYVGZ8bPwN8UKMeZ28b6K6Exfjah4FpnhGvTJysm4YTwB13Sg5/p+Mca7CMUSdDxZOeHcKzhNgTHqkVwl0cK6aGLCjwoMzLHvYMUd6JhrHpyrS2IdsmxbGciFPr1S78k4UXeiBypWFytW1sL1ClVfDVNmcPRt7RChCMDSwejTclh6ouG1Okyi5OOa7iUgHhTFldrRcxDW3IMFnmwNsGGDHJHpk1C+RZ8+3srA8QuhbSMARfjSm4Xyi5Z7qu4vyKuon1lP0+VJo5/wD7q1oudzEXZ6FIa4c309hVkETdRh1lCIe10ijS0dQtV8JpRQ4HIOae5QrVQqOI8bSs9UpqaCEDhCNHcz2CJdLGRGBt4Fw1sw2qSuyHaHjMpyjzVRgx4saAyXNpAW8dwra5d2TQ2/sJrHlquo83G9XqVP7p2jycOpTUKQjjB8Tv7cty6nnLY5gOkmLhis7SJPaJtuwxiGTps1TgEoMDczJuJzsy7mmrZmN1nKVV7VbvWVirHhViJIJNFWFmb9PqJbXBDUFdmQYVC8VtuBvw+HYnpLONR/T9RYLOfpbbhh6Joj0ebhfIKzptruIfyoFbEETF/V/nVwtG36fUS83N+RGnsflUidP0/bTA11309hQ7VzN+RTp+n7aBwa4BLV/6rmDY5VahC7pzFtMmZ+PFk3TAjLmZN+pltXUHQ7eg5+b8i5R2fl3n3Y1bhfGlG/HDchHk6vdc3WpEhG56knb8yLI9FzbkB9MiYczka0w5W9VAeuKshJbkaO0gwfZ8TcWbSIRfwjLl/ZrOBIm9n8qwjBxDC2kbRYA6+8ovyiQrOG3XJIWau035EERNPq/lVeYVZy86xSXNJvN+RSJW9n8qrba7l/KrbXNQFw2jxfkS6OymtIc+n8qbXozIGHN1UrbUcyscPnIItEk1upmXjUPtz6eBSOZAxcNiXl8WmahmlAOTcaMoqRui8iDAdnBf3uVuF8RU4341kULS5Y1s8/WOKoHBVi9FZH0Fb09pfJ132PLl5G6TTa+0qharRISu6y8LilxNcS0z3WEAouwypH8VOQSW5xEXXLVHdQDvdhGJC4IsEv7RejSfdE6NMdy7tOnME1SWwXigzgUGvwu+aTMRsoRMubh6V2NOSpd51KFE+IiB/ZkuXunZKO1fuWMHztOtxbQIUSJJxdUYeiI7d/8A2Wy+5w2sdO1XBkzTanEhw8VUWFEgTkI80YegSEYn/wB16suG0tyL0ZINX9xgfjNosDWMcS9IV1F0uLpaXKuWO45dCxVtOli+NH/qEuqukRfaxeTV/d1cpoFzbeZRp16Rzpm23MyozeUvOFcvFx0G9wBieH/IyXtNt4ewvOxcLsFYkH+RxPRXp0f2tg+/ARFFwFhg/wDZ0H0VkdrVi2zUt7s0wqX8ghisqhCK+y9idCDQTUZkALsy5w7qHbBXKHN03ZzgwzDENaaMeNB99gieUR4XLpCH76AlkXGMhHKp93T+nmF3rFLdP/1Q7VUf2T5VZ9gzuJsHQKQEXHszUaxXo4b2OcGaKEMEuEeLrEsI2rdz7VdhAdG0LZLWKjAlKcQxZqnRYziCHxcw/XXaZZj4181TkYU9Sp+TmQdLR4ESFFDM8ekUjJUmCbHtp0rth2fSGJoABCn3FAnpaFojdGZvKSzKFFMvfAMWrkjuHZmLJ1raRRRP9IQCdCg6XdERq63ISyqZdsqqkscRZnqR4kjWpkSkiJYXtWuwrJlwVOV9JZpasM2qN9p3VnpUv7QUiM1jn41Ipik4gIeEUvKgkkqZBIK/Y5E43CpQgMql4qLkouQO4dKHXGL02jWi53wiBSJKJaeVNzXqbvtiCMyNaMyNaBeqmEh0mBttWPY6k61UME1uWw5MnK1uLA/Sp5SzXCJaS6ReLtKXAtKqtFwTRKfXIxx6xAgfpozPek7pJ1xakGRiSBLIoTemgn1EMJLlHQgv6NSowjqZq40zSLLw8art1btAtIdGVUlfy3286BG53Nxot5HpWjyMcgYXD52tQdpa8vGltEbmZUF/R5UE3O16daYXObfnJJqyBmUwm2ZNS0Fwjdwqwsvkpcot5UFrczSgNXaUDoLrJ9XbSho6pIFK4THlTdvUm4+qm63GgqBtmTUqxbuw97yJyFwtF+pQIEMIBF9oLAavgytFKJXXGGZW33iT9KWEJO1vdwIGhczMhJrfteQUD28paEziF+fKOhB83ew9+b04xld7y+3yVe3I1mpOTnXHq4FAkTs/FoQV2tbZkQQteVmYUzS8zgS5Xu4h0IC1wdYk1rbuFyYWl5RaEul3KSBSISeRcq8rFBf3q1v/AIWN/wBMl6pNbaekV5OLLcK17llY3opEeZst/wAmmGP+DL0iWWua8uUViOzAf8GmGC/kpeksuEbXFwitD2ud9tSCVodpMWZvMKkbhAr9SwI50JpHpFWwh3sU77BLgSffPelXOFFhU+qnCC8YEQhf9zJaOKq/Eq3dbbdJrCkCox5PZ7h529ODl6RDMXWMl1FSu5+2VUWlQafCwPR4sGFCbvZiBvYp8xEVy0B3AYjFgbSIv7pKchu6ty3ntrxtjrA9IpUXA+EjxJOTREMcAAou5Ho5RXWXKsVOeNp+xip7AdoOHscbKJOoxaVFmRCcpcs6IziHqkK3vtuOehYHlsaSONprBvgWAU0cIILhmCMXDBiDxOtWjsTd1dtqwVTPCNe2bw6PJxSYMabgkImXDcS6pkSlMf4Jo8evU2BNQatAGaiykYN7Cdm1fWUyt5JcU7Bqfjyq4ujYaxDiyewh4dEcRQoMGDdV7nFcOUW6V3tFId6fvdpL4I9Hp8eekKlFkIEWfp8DdS0ycAXS49OZpaV6MUCIjLLcKmUhoTuxiH3A6q77Kgj5yyPubhIdgeAxYF0gJecSxnuzSIdg0+JfZ8FZb3PXitguAx/2cPpEq68RsoWu0Zko3cGVPc5r9fAsAi7d9ltKnjlZ7HlHgTMqRQosE3WF0F1VzqPVoOPcNYsr9YotIqQTM/RYojOAAFZpzarlkYtEtGpcc7BtqmBcObT9qlVrGJ5GRkKtNCUnMRnNjC51rRXUOEtpeC8ezcaVwviaSqszK+NiwZd1g9PWHoVdY1GTu6lwiuQu7Xuxjs0h5vHl6QrrvLCz6Vxj3cAzUzjbAEtJm2cIfEHlZE6SFpKoch2hKwIgyMhZZ3qPorUndXj0wu5/xb0s+x/SWtPci7pkwD2NpFIAGi1kcvVWv9t2zfbdh7ZnUqjjPHMlU8PQosPfykGMREfsk0dKRiNy7FcNSuJ+5QotNnaxO0eTIJiPFnpGyLBECdauaqVT8VT2JZDFlWxJiKWwNiSa8DwsRB+u40uBNhuHSPSuwO5hlhLuf8GiYAYEEZwHr9kls+JIyng6Wke85XvOBdCg7gWgXRlaOlLd0jyc0d2NR4GF9gNEosrMRo8vIzkOFDjTF8U7cxcy3JsYHdbG8GD/ALMFak7ueO7ZNTf/ABMfRW5NkkDdbJME/wDhwpLiMxtzeLzJG26Mih3zU2VnBcORQIIh5NKw7aDtLw/syhUQq9v/AO60cpWBuQddzKnHu13BezDvMcW1U5E5wXQGSpRXj0FyrlzujNuuANokfAY4erEeZg0mo7+aPvUhZDcPFmWxjYdtGNzhYy0s+npVeYjHrDnWmy7rvY7HiQYEDEk0UaK2EP8Ac+ItxOhlcJ2E0sn1xWjysVRd1hDEMUdMhE18q5p7hOTCewZjmBFfuZqcGAbDbb0wydcuiscRRgYCxVFFj/Bkx6K5/wC4PhiOAMVGTP8AGcH/AKZKvEakx7srrMfFWJImzs8RRcK4IaUU5uaLehG6ffiluyumqHhfDmFe51xJPYcCsd7VikxpyOdUN0c4nTDbc7KtzDuwhNZAECEnMDOsK2wNgbJMZkLBDwdEOz/WKy1h+f2AKRiHAGE6DtioMbey0jURk5yCGgebl6V+k2EMUU7H+HqViGjRt7ITwu6hdOYeyS567kDDlPxN3PVSotTghFkKnHjQIr+qLS7KxjYDX5vYRthqWyjE0ZtHqMcTp0weV3Tlbyll6ydRGy0ij92zjOKXwUCYLzRFdbxXOMb8xCuRtiwnF7sTaKUTPCgTorraK1xlluHWk/yFIya7lEvkVRRSykzUJs/1oIha1mYCVA3Fn1CSgK7V1Uw529ZK0W9kvxI9YS7KKYJtpJuzeqjxx5L/AKizmTFkjJw+GE2zqrX+2sv8HczD1xZyVhf2i2TCG2CNmn8YqkmESEgz/BlnTG5p++WiSUYQNaLMv5ExNc4WZvyqQsXM4X3kJeata7d8exNm+zKsVKAZwp+PC71kz4C6c3aatitBuQMo6+Zc8d2vLRY+yuQKEFkCpkRM0D0jatjyFvcj7K5SkYTg48qsnv8AE9YikUKNMg7cy/TlIXai4l0uUePNS3jXx4JD7ycBwrXmxSoytT2RYPmZWMG5hUyXhMe26HaS13tP2I7TcbYxmanh/H8Cj0r3qFLb+ILPYuLKq5BqZ3PFXwvt+9vGHo0rJ0GPFLfyIAQ2mNwt61y8/uk9mA49qtBp9FwwBYhqpQxj4iYQjLQQtbEbm7S0/wB7Y/2abd8JYTq+PJqpnFjwY8XveaLdN6dJOXdkzvBixhB7LtfMg517nPZJI4CquIabXsMQItepU0QyeIjAv0zBMcsN2VqwfDxDOd3XUpkjDcyoRIpGdogPRDuL+ZddwDMo8Fz2b0df11+feJ8E17aR3S2J6BQJzvOcmo8QY8y9u5g9HvmXN1UieTaW1LazXNtuMQ2V7Mj3UnHIhnKodu+hhmaXxfpLe2y3ZTh7Y/QQplIDezkXdlNVE/fZkm+aPKuYtruxaa7nGbw3jvAE/PRZanEMKeM8zunV1SXVmzvH9P2n4MkMS034UWx4OqDE6MwpIe+LRFua0vxJnC5ugi/KKcnOaPEX41iG0bHkfAVB8Ly2G56um6GIykiF3WcIrBRtRxvE2b7PKriaHIBOHIjDLcmbdTV7WE61FxLhej1mLLbg6jKjHKCBuY8XLlbbht8qGM9mdVoUXZjXqLBnDEe/pwy3QXO4ehZNhfuk61Q8I0Gnhsfr04EnIwYQzIGTYzBa4Wj+2rqOmhj+KA+USVsjCbOAHMQ/OXi4erEWvYckKlHkIlOmZyERRZEzcUHU1ezLRRhTIGeTej+O1YOMth9ap8j3SeM6jUZ+BJwfGE+ZMRf7MTLcuqix7hJrSxPS+H38VxTsh2V0Ha/tZxhI1+NNDJyu+ih3oe7Iy6CW+f0GWzAjaZ1tlov79H1Vso9xFrDunKxTa9tiwSNKqUrPQRKCX6XNwh7JCt77fsJzOL8FwaZSMNyNTqsdsqM3GgCRSMPoK6IJZsq5f2k7LqBsz254TouHu/Sk5g4MU++I28LedBcS77mgubfm4/rikhzjsk2Glsr2iVKTmqVTq7QYsrDiwKvMyolFgxm5R4RWE90PSoWLO6OwfRZr9bT0rDgF/OJLrpxQrSfcI6/rWrkzaa6e7sfB8t8UUMfkFB73cp1CLh6q412aVDphjM0qeiRYTwuIVsnb1j8dnezCsVGAcAKlNAMCVZxHaXmrVe0uKWyvuqsN4slgOBTcSbuFNZby6fFkl2zxT2t90LQdncoe9o9CLfzgP+tcQp5DStQ2fRMHVrZFKTINqtaEZyaDrxLfNX6DTJQ9+d4McPotXKndARRme6c2eykIDGWgQpXdBwCurZkYm/jDe8XfiUj5rREMmr8S87FVTOg4Vr1ZhAEU5GTiR4QHlMugVXjGq1eh4enJ6i0c6xUhuhSmXfez1Vz5jjbFtZnMD4hlqlsl8HSEWTIYs2+IW5HUVyDb+xjGNQ2g7MKPiapwZWFOThxAZBytCI1Zu0eTUuUdje0japhrZdQaVQdlAVijwhiFK1F5DvhMrl0fgWtYgxHheWqGI6P4CrEV29kbvEj0E0c310GQQszuqS5Pr36c7t6jwMwQIoj5EsS6xiCRGx53OFcnyJ9/d3FGi2FuIsR/80sKrxG4tt2B61tLgUSg0+WlYVKjzkOLUaobd/LQ8trl8mxbZpUNldSxVRQgwI+HCi7+mVGKEPvk/YzCTcvEtsCIjbfbangDEix2jqcPli1YOPdnciO3XukK3XqqHfVEoR70YJ3CAubDFv8AqJdiE4mERvCELWf7lx33LM8OENsmNsNVPxVSnhiQoQc0OI5q7EIiEbXrevIa5294XkcVbJMSQJzPJwCmpU2ZC6FgXciV6PWtlsaTm4xxfBk4UKE/KEPh85Zzt7xHK4c2RYkmZmZbGmoQysAD+GIyy+SsI7knDkeh7Ke/ooMOrTkSKAat30WihFu80hN5EzSdrUtK/OgqNrVZLN34NzouH6CluGFGi3iyERX/AOoSQa92QF/enMxSzx5+YIvKWcdBD7GhYVsgH+8OQIfhY8YvlJyzfpd7Dr+2hJBNLQCQhHNYrbuBVlFu15lSSEI/T/WqGjmJlqtF/OjVa9FKyLTYxRanJ3OkJxcaCsm5rEtrlYTufyENLKT0Ck1qRvCrdaQnXoK9WQEqZK5ElIVMURix5CFxx4fpIuXzTjx3JQ7jEnrRwjtHoNXqVVxbi/wbH9r3huNKnPGHit50l5y6n2Z0isYDosrQ63iml1iTCEJSO6gxt/CHpu3bitKH9bhX24qwvHxDhOt4cmtwMtU5Uu9ZcLRgxugnDyi4tSjZnTKjSsGUSmYhCV8PU6BuIoQpnf8Ai+gvFuIbXN5lslM5hRRigBD6CCIVY0RtHUluWJVk4klulitJyTdEOVB5FrmphuzdZKgfnLBcocQkCW1HYRB0wkoc5SKCxN1UqsFA43WlxpiJViNysDOgxHaRCdgyq/at2XyEJLMYEXewIMUtQiXyisZx6O9whWwH7DiL3qPF3tIpsXilYJeag+4bbUCQ/ORpR5fkfWQWKQSi4sybKOf6dCLcv4QqsLY3t+qsjWAhwKVWiibqMdohDiXD5JWrp6uYaoeL6V3jXJCBUZCKQxWPLstasQ2kbMKHtPpQSNVfAnIV8CehB42D7PzVq+SwDt2wZA6KVh/FMCbpEL3g43SLgHhuQTt3wTs+wTgKZKn0SVk63NEMKTYbi5iu4VsPufIoxdkVHKz32IPnLAaR3OtaxRMxqrtExD3/AD5Qi3UEDIhAunLl9i3qraeyTBk9s+wSFBqczAjxoU1EiicG4W9KDNLU2hLdqT3Ou+gqRZCMUafp+2qxy9n8quHK5BgeMyKBi3Z7H/2nEhfLDWekLbeysB2iWx8GTMO7cVuCXyitgRxbHMeZV1DOudzI5eykapElIsHR2k8LOHWFVdHqpxK4NNzhQcsbDd3Ld0ZjaTiwYEUIpTQsjA7U5dW95yuUabI5fsWH6q03hPYtU8L7Zqrjg6rJRabPHEbKA7eg/wA1bkcTnDdqTryHKXdFwgkdsWCZmFBgQAIYbtyAiP1Ig8K6vjFvy3g/CiJfKtN7XtjFR2jYgw7V6dVZGT8E2xQmXX3OtatwdLhEB6d28YQj8gtRXia5tvMrPTXzXD6KcbbtaJWutcp9ZQ9K623OKDB8QuhbW8ARfjYU1A+UVnzhJnMV38wrA8YthbQdmkX+XxB+WGs6u1abVIBy9n8qZ1wD9PqI/wC1LmDXl/KgBy/T9tWiQuBzM35FFrmlkUg5ruXgQR0cVmX8q5Zlf7n92sbbQjxYY/LDuXVHTmcPFwfWWpZvYpPTm2+T2kQq3KjJwihxSkTgFvfqDxZUI8m4I7d6Y2f/ALJQ0eTN+RTFIYscyF+ZJ9XzUDtERTCXUSDapd5aBtLRTDdlRrRc5Bg+HrdsGNofx9OkovyEQrPessCp7YW2mt/bcPw/xRlnrbTFFC70UXNd1kE3rIzW9VYLB4eqKkXN85Vcws41Zb6KCfL4VLizM5lIt9IkrdKBuXNlRpt3iUW5rNRJrRFos0igsHOpcTbknkaiRbl7KC35rRQKXN5yGvJxIDX2siYRIYpkKa0StQKDA8BuGbxzC4Ko75RXu9B2uJeDgoWYgx/C/lkEvNXvdBNtHIK+VruTy5VgnddxJ1XluTjF4c68Tmday7ouFv8AYNi3jGFBL5Ii2OBGQXZyG5eRjDCspjXCNVwzPRjlZOoiMIo0LMHsXWqsMq5IyT0Yn3MBbzYXhWIR+9RYxfIS1XtqwxU9iO0OQ2x4QgtpUeKMKsSkK0XHmcPCfpLfWzrBkrs1wfJ4ZkZyPOS0sUQhjRrS+qvdqdMp9dpE/SKnLd9U2ehbiPBPWPT6q7R1FcspeLtkn3Wi5a7kCqwqxtG2hTcoBwpOehb8A1B7JOXVwfU8las2T7CKLsdqtSqFIqs9OHOQN1uZhrQF3KtpdI8PKK5aqUZ5LRRKS4s2vSku9jXqTA1zusl6eHkXEWdC8/EAjFwrXod98nE9FfaDX9tfPUoW9oFVHikInor06X7Itg+TZJFdswww77F+cSzG7TasH2MFvdmGG+UIg/IRLOBIV9l7DsQ8UvKkZqQWLkLunKTU9l213Cu2ClSxxJDew4U4wLQiBbd1hXXq+aq0qRxDSpylVeTCeps0LY8vGC0xSIqwTjqg7S6HBrmHJ+BOSccXEAH42CXTmEh0tWGbd9rdI2U4JqpTU5AKtzkAoUnKAfjXGLXEI5RFakrXcV0zwhGmsFYwqmHYMfNKPIh8oV6eEO45wzRarBquL63PYpn4TSEI1sDtOuVdsQncaYDnMOYFquKKmBjP4kjuhPC7c9GrtEuijzXJ7RhBCgBuoMIWwgAGiA8Kh+TOSjoqRXfRia3Si7Up5VqR9Miwvav+wSZLhmpcv7QVmaw3at+wCqlwlBL5IgrRmIaOqKlV5oUEvtQ+irNKwCCzKOqp1OQCLkpEjm8WgZKKPqciX6iC0cuRM7SqhIeRS4dKBrVFupGlHkIJtRzJMxJsqBcqbUgkrbrciBlAk4WvUD5SZxIGTJLkwu0vQAl1/ITOLTw8CW7LflTN6eA/LQNvbm3+Qn+mRI0udOO8y3oI7fmKC1+oghJuvKmu+2IBw8ergSD1/MT3FdfmSHFIMoRy6iBSiiNvEKd1yqzEZEEcbWqwhJpjeN2haJErgv1El03cKYbdbsyNOdtqCCEXGXVFS0XdpBeroTDdmZmQKOYCZxJWiI5NPGmtzPDUkG4LmZVgt47OHWmFzreLjVZELjyaVG9B3wGZBbdz5S1pco3AeXjXzb3JYGVM7qaUH1E4i15uNIToTLDLMkGKJFkDMnBrgyakAb2a8qYnX59KW1ujLxoJvJmFAwOdr99SjcN3CSMxdpA5Q5hJAXNMuUV42Mf2IYhH+SxPRXrnlPqivHxi72oYhL+SxPRSI83Zl/k5wqP8lL0iWWQit7IrF9mX+TvCo/yVZM23+iSQuJpEfWFKLbBszEgiaJ9lA5g63AgBIWh9yTCUPexhPIVpBy9NqXT8HkJK647MrVo4ipVRnu49271GHV5aOezvEZkyZC4W9Nwl1gL9VdfyO1nAE5TINRlsbUTvYoTnnOjCLySuX2Ylw5Q8aU86RiOmytTpsWL7zMA5hcQ8JLSEXuKNk8ec34hWBC4u9wmreqrtGX5GkO69280/atLQaBhXoOew/RYu/mqiwmnG6bRbyrtbAEIfaLhLUyQg6/ta8GJsawBCwLM4LlsPSsLD0zuyiwQcMWMXRlIomYiWbSMjK0qRk5GTAIUtJiMKEHAPQLVMpD6RK4LLG8a40oOOIuy/uuMSS2MarHlqPVXDAOYj+IATuhl1V2T1TDUsJ2h7JMF7VJMIWKqPAmY0IB3U3BtjweVyRGh+7I2pYSrGzCXw5Q67JViqVGfGKEKRj71o9HE3m0rfGx+hzWGtkWCaRPQd1OStMHewT0F03LF8D9zLsuwBWoNVp1EOan4RDuo1Rj70YJcQjlW3YpFHvJlwEkpCLhimQ8QksE9wvZfPVM5mcwNR4szNRSKKZhnLpWdeRkFKJbqLb8apsOO+5z2aYJxHtB2qS1XwxTqjLUyabKwYwOGCLsoiupsL4AwjgmLMnhrDdOpMaOQ705QGvVGHMD4awhOVWcoNKgSczVnRZyMBkW+LNqWSuG8hZpVSkozbfhNWtcZd2NFEtrOzQCPTD/6i7NEh3rbNSxXEezzCmLqlTarXaJKz0/Tg/SsaN8DcmOVZJZfwD1fRWiu6/it7nyvQytdHlxv+6LeJE8j+6ivHxLhyj4xpB0avSECo02KTiljyu6LhSMu4YP3NjR2DYJZ8QX/UJbPub5Qrz6VTKfQaRLUymScCVkJMRGFLQcoCvucJE0eJTIcwd3TFEdmFEglqqI+ivfwL3Tmyah4CwxSpzE4BOSMnDhRQCBEsJtw5VuLFGEMPYzp8GTxDR5Gpy0It7CgzIOECWM+4jsyEv2DUT7wulo1qPGke6f2TVWelpGVxO6ZmiGFCfAiCLunLc1bdP33t6FgUpsb2byM5LTUrgyiQpmAToUbcZC6NSziLFEyMnhpUy/1Hn1Wg0iubkqnR5Go7gS3XfcAYrOq5cx91NhzD1PxLsugSdEp0qE1UR3oQYAi8XDaS6sJrrmal5FXw5Q69Fk49VpVOn40iToBzIOKCTtKRlUOWDMMS0cBgYYpYmLhEwlYbg9jmXqRSIiyHpUkQlFcTCNyqEGjoy8amwxvaXbs3xg7+DJj0VovuE2+5biQx1VOHk/1CulZmBAnIUaUm4MCPLR7YsE7hMenSvPodFplDp/etKpsrIyx5oMtaLuJVbtqPaPM0n6tC17tyi7rYxjYiM/8AF2vrLOyLhDz18s9Iy1TkZmTnJYI8nHhEMWDGNwn1lMRo/uLyEdiksQnmqMYfNX0909ssiY6wnBxHR/EYqw22ZlYoA0jELmrctMkZGjSfedPk4EnJiQkMGWaIgrSJ9pPK0hvuFVbuHEvcaVWbxDtwxJVame9qU1TohRzPMcTpzLtMrRaPDnYvlplDplImZmZp9HkZOZjt3saWgDCI19ROK0XvuSUgrd7aXEobbn0ina3xhGelLnhNF5WkJGawMLXGPMSqi8vAKUooxbYYOuFNumCYvbmQa+21iXtMk4RZ4tYlYXnLYwl4qDn94hl8lq17tnaVAw83ViCQ+ctjboREA+1EPyKlJaQkbX3EQ5Eji98vZ4ssnlK3LFOIPxo61VpaN1pa/rEpSW7U+1w5F4uM8JyOPcK1XD9QNstOCN7MhaSXuA4Sawy8aOv64pCG1rD964/rEqHFuBMf4t7lyqzOEsa0SensHlFiFKzEuDtyXTqhllb08K2PWu7ZwvFlt3hLDdYqdeixfES8aVEYRl2S6S7K6FnJaBUIRyk3Ld9SZldBjAJCfsjwkvhplBo9DI49KoMjIzLR8dLSsMYvlLbDh+h4Zx0PdAYPrmNpA4U/XY/fmRwwR4SHS1d8zLIscyeHjS4FRHKJHj72IBlGEiYdrg9kUEUQbvH5RJJSBAtKC0wtMSL+YlyZsbgRS7r3GEzFgmIfpq8wIc66zIYml+rQqmxBLeDBDfE10bcC7ylgpqsjT69TJymVCCE1ITkDdRwfpy+UuOMHFWu5l2zzOH5mWmp7BNTikL4IEQ7s/e4lv1v212c65jz1DkUOh6whllc+AJfqrbBYUeFHlgjwroMUYcUb029iQCtjbrMNhpWi1mW0hyfWQTXdofRWDSndbRahPbG40pKQZqaMqjL2QQIi1LbuHIs5J4XokqT4RwpARIOAuhfS10Ldxbrez9Qle50VxPvi/lWSCu3pHEPiEvlVcJkATia4UIiHrdCQnjCtfk/ISe52vMQ/KtHKXcoUOpye0THk5PSE1KwYtoxo0AhE3xC1Lq0bRAiMMolk1dCbfxN1niXAJfIgczb9Q/KrsOS9sFFqdT7qPCsWFSp6PIQI8N0aDKkUJubMutI8Ubyse0S+S1AR4sIXPj3CJKsXFmfqHIpFJQoZFawTFw6usuYcR0Wp1DuvaPV4VNmipUAoZd97gtx73xLqS4iAyfpLIkEooi0jPKQ5EGm+6owLHxjs+78pUtDi1WizW/hbn30xc5orHu5XwFUKVT63jXEssfh6tRd1C7+ti7vKRfzrocY5iQFfm4Prqm8biOITh4PrZUHMW1LDdXqfdS4VnYVLmo9Kk4EACmAAt2DOIl0/MiPfJxBYTidn+ujfxBymbHXWfXSFFZC7PAgrcOawbeP6yw7bJCnqhsrxbJyMGPOTkeTKFCgwbiMuluVZmXX18H10rvWyIML2KU+oUPY/gymz0tElZyBIjvYMa0gJxLOCInNI+IVVyvO12hKRF6JPYgeEQ78CLI4VzJg7CGIQ7rHENemaPOwqOIzojPfBn4totJdMXDb1tCkCLjNiBopCROYCS1zhP6dCW4Hj8xN24nkKhz1tw2G1euYgDHeAo0SFiaAb4sGCbSMh1CX+v9sV4kDumtolDhQZGubMTmZ+AIjFjeMhEZcTRHUunHFmEzVnf00Nu+joOVR2d7Su6DxHJ1PaHBPDuDJMnwqdlJvTphw831eIl05LS0nTJGWp9PghAkJOEMKBBDQPQvpKLEL3wzJUi4v+xAM6iC/o0xEkd10Ck3NY9fHPFuqZPxeGVjF/ZkvsaRWi9eRiWPusK16IOmQjF5qRGPbKYW62d0QuKE5Zhb7LR3eoVjOzkBhYAoIj8R+VZM/6vnImSoiLMwEgsInCxjVaVo2+YqosWILCLUXAqAXYSEPUTiQ6X6tCHEdxAZdhFEt+1qHeggidbf5CgvpYgUuGxK9Ndl+Yl5UBa1o7tJa/89O3hPzEhIFNrVWSZwiNqCC5yJDkpEOlQYuzHl4FC0UzMtAnIW7igqJaRlJF+4AAMl9MUd6NpnC50IFJo8CVMVvaS/VQJakT3c6rNFPMc65A2pRtVixyTbmJD1Ga0dKZA4kpFVp3oLXJkjhTjxIGFSCRONwuQediOEMeg1WGWqViD5qMExd/gmgnr7zhr6p6FvZOZAtUIhH+cV4+zct7gSg8sAh+QiFFsqcLk3q/lSjrHspnDf1nIJcLu035Fdb5v5VTlVwk76fWQKI3K0VWmHiUhgzOT2pBO1qdw5kYstQz0U1pA0kvMSNWCQ5k5Fa1UNdamhC0XEgwXap4ih02ZH4KrSpectkRyGLHPgJa62tj/eJORfsWPLxfkiLPyPIXKJeaglzicXMXqqRtfy2pR/NTCWrtILHphzN4VWI6STCRNcXWQMJaiUt81qVvzUDaLh5iQWZri6yGtHzUco9VKJD27jQM4s3aTDdmS6UyBh4i5lLEnzU2m3mQYRtBbCr+z2ZLTW4Y/Ks8i++nZq81a+2rFupPCsz9i1uXLzmrYk8I9+TPWJBULtWdMHzlWLcyn1VIf/u+VWi3Vxcf1lVanH5pfjQBZbtA8f11YINLtcaLd6HA78iBIWuHhQGnsuTFmaXL+JKSVzhCJxCRfKgYW5k45mqLRy8oqBd6SCw8qYWij/tSvQYUA7vbNd+6sPxPxRBWcgXEsGnWwttGHvt9Emx+cs6bqFJKijSpEicmaTXJbn/CLBZyj6CneuL8xQNxXcSBtG0DQOIkX/Yh12sbiRmL6ftJCEmdn8qB3E3yVY4vOd8ir5ubjQP0/nQMLhFM7xtz0tru2gfeuz+VBbp6oflTesj4XJqS6bUDCVrhTagQ30kh6EGC4W/ZnjweLveKvf414mHWjtIxnD4oEuS9tjSNfN13J58pXNtTCAkVqVMK+Y5HZxcrVa3oSCRPCzISe68UFbRY0k/sW73xepVxorbr7V9tHLvyRMSsXTDj3ZVIxu+QbxbZlFXuvdzKuYgxIEe17BJRCIiHXkWSjKEqyQd4iN3ArenN2kj+fUIpxdq3molCyB108QXSM/DHVAIfNUA5gDyCrIdsKZdqhRPRXbB9kWwY1sRi/wCDCj8sWYH+0Wf5RWu9hjfc0kx4ZqaH+0WwhuX3HsMp5VKVlxigZMk16FKCWIERIlCbyEENahvEgmv0JbWoITCgkpcQoGtWH7VB/wAHdebphQ/+oKy593IsV2ni/Z3iH7h84UiMmgE6Tky4oA+irsq+aRup8gX2iH6K+tAql6HXKCIXN4kDJbna/IT/AHxKeRAjUJlDeTz0ECV2tMly6EXNtQMjUp5eFJwIH4GqEO9BLlQMlFuVNwJStQLpazSmFt4qsiarMqBvIzIExSuFyBLn8xA9o6AQ4XOsQ7o4/MTb0XWmGbgQMJDyZuNAiPJlSiXEYeQrLWufDy8CAaLTsCznUtHg89K7qKXDyZkEIy3cnGkLlNBELdGVA5DaaYS9JVERXlYgSu7S0XjxdZLl8lVOaywCcJK0XcGlYJ4+ypy+UghLN1UpubrzLQ2kGv1aEb224zyqNOvIkJxPG/KsElFuO/VwL5y4tbuBWE99rxStKwvH5kCaQv8AMTllz6B0JRGJlJ+VWE69280oFcQlozcCZw2X8WhFzmk+4ksIScGfMSlS4ScPZ4E5djSqhtLXlV5OzFvNKBe3qRb5paEzbvhMyUHNDPqVJLbuuyK8XHFuDMSf8LE9Fe1x9VeLjj9hmJP+DieikR8mze3AGFS/kqyUbhbyrHNnP7AMK/8ACisjEvRJJBite57LU/woDfmSFrs0inHMbvjUEi5oFflJBuvz5RVYkxnaRc1xA1ojrWh3E7XmUwnN16kdixw61IucFmotawIQ2tvypyInHnzCozD2ONRF6h6da0MLuM9SgvenEZ5eBTr15uNLmH4TKgknOtPUOhA6L+LQouc7qqREt7kPMgW4hdypic4yLSYpXW68qCERe4D060Bqu5tCHeKtPh0JXFvQa/OSUbYXZQWH7/bxcCry2jwloQ4czzzDrTCIu15iWAEiIXEfDoTELiz5CJK21ovy8aGkMVxBqQK1o9hNq7aVpN7JIuzcooF7eklLfmkp1dPXJDSb2UCEN13EqyloXvhBeIWq/wBZIRCNvWHOtEj40nCdjuBRpDtaEfmoISfa/VrQDrjIjPMOhVkTtfFoTMJrSflStPe/CZkARZyE+HQocOWzyFNzdb2ouzC/MgqcJDo8hFrmkxNcYuvejxj3X+QgoisGG6zLnUtErhZ/+1JE0bgPKWhU70soW5SyIBotvYxrkb2FCIxBmfj+um3EQs5nlKxMMIYV2W8dCCgiiEZkIALBU97EROi7wgIrgDKrCbp5hQWV3CcMkCjaLb2M/IroriZ1i/GlErG67hRF4hz+LJBrPbIReDMHwvja7L/iEls+P+ue0Wj64rWW1uE+LgMOKtl+KGtlERb0yveQiSpRSIWufpEsn1iRaJbsWZi0fXTDCJrS3hZhTOaTrxykpSocLXWZRJSIw3GJbgryb/OhpNAfH2iSYnPcL8wlkQUOFtoQNJIGFD97ZA+EHOSt3rRbEM3t4FDvG9odH10FLRIXCAaSe9MQ26LXDnS2kLX6OD6xJt64j5i4PriqA63tDr+ultGFdwkNhqHuhtsy8H1lLhKK2xm94PrigNWsQcJZ/rpIrmGN+Xj1dBIc0dD2/kRaRtszEPyoJbdc/Nx/XFQ20PuXH9ZLa13i3tEvkRy2ZiH5UDNd5RD8oqvS7W0S+RGUd54vKJfNTFcLesPzkENH3vhKIPypHDmFmkkzrnc0MvmpChDlv+EFAdgGXCn3oXkMELml81K/VzCWT66BJwtLgIcn1loQbRbZqHP9ZMTcwgGYSz/XU5it4h0fXVUUrWjwNyfWQAiLWs0kOf6yCJpaM3H9dKce4HcXxH11Nojoe3g+sgguEg08akhIsukuNG8FwDZm4PrqsosMRMiYwRus+sga7dWhe3j+slIfo/66HQ25wZ1EjrbWZeBBOlzD8tKV3nDnTW3iTLeRIJDmsZ1EAWZzPPSkJDl9NKRRN4DdwwhJx8HCmtK6zSgbNd89VmLrWeemtHKxBE3QCoK24B48qjN/3qPVU+agZvq51SWb89O7qJCtINOYeVyAbZ+ei5zhDNzpiK601W/S9AxFYdl6Qbs27uUkXrZElojnQLFhCUJpZC51jmPS72wFicsrZCJ+NZKJXOK4OosQ2nxSHZziQSz96iP9oKRH2YQgbjCFBhWWysP8S9ws2Szrr46KO6odKDL4iH+MV9jrbUSUrv8AvVRQhF/k505Xf9iSKRCTi9BUF1W+mgbf+9LqY/zEpZXWeQik/TOldxaedOX0eqoufQxEgm2euluEUzrT9RV2l/2IGzJSc1SRdTyFSXKaAu0ocXB56BSrRBC0ktxIItIpcuVBBJbntTKHC61BGZCGpScgrJKmJJd9AQeVpTJUwrEGGy5TlUKeqgdSLdSW4lKBlYqxVgcyLN9PlTjdb2UjrVaJNuRBcxNvWNbMP2GSwfER5iF8kQlk5Nc2y1Yvs3IYVBqsDXAqcwPyki2ZO9ZSIqu3LZw/IrH6i4XfKiDuIbkwKoW5eqrEWs5kNIfRQIjlRzILOYeZM3T2UsLLcmElIcExEPzUrh0psyAFzXK23L1UlrmptKoYbtUhb3Z9XhHTAGL8hCsuk4ox5OTMckWBDLzVj20iFvcC4khi/wDWcT8S9bD0Xf4ZoMUdUhBLzUHpO1dpOPATNIqFAk17eupFgkOaziRa1osuajleelK/VfqQWCQ5rOJDRy2XkKAbl7KHOuHIgkW5kwjp7KUbrS+nsJt784kA91w9ZWco6Wiqxzt7KYT1cLiQWCItdwuJTclHh7KOqgwHbEIjhOWj3+KqMqX9otkzju/IxX5lrnbOP+D6fLxfiosGL/aCthThDFihEsuAdfKKSCEReamEXcarERzdlWA3k4s6kDC51blLOf8A+lVbls4c6bm7WdBbdmv1Egczb8w/iS2uBK4Wu6xILLm2pm3eSKrbp6opnausSAzXdYk+u3lFVW5eqKZw2F1kDi1rusSs9cUrbWjyimF3zkGC4h8VtbwAXxozsL+zWcCTvNWE4s8VtG2bn9vmIXyw1mgmTjJ/USSlkInZmJ7XaEgu51JEWYlgscPGCm37WkHKAkm6z0E2/a1NrtGf8iXy0ztXK5AaPg8qe3kzKPzVAkWrmJBZbms1Jmjl7KUbrS5VY61w9YkEiWrrErLcvVFVtIbeqh2QkFjuLmJKV2blRpu4WoLM7rIMGo1u1bE4cVOhl8hL3jdl1rwZK3azP/baP85ZEQjvT6y+drouGVUHQ4GqGFp1KREe2jqr5tHFIuG5WPS+wJIPpF2hbVD5agTIGTz19mECI5GcLhIvxC5efUBbANfTgknSs4PGZeivZo+Tpiaj2YbfpHFeJarh6uHAgTkKOQQDyifsFlJbnmpUpYnCFjR1r8wcWR49Kx/XossZwo0CfiNMOsuuu597ouBiOBBw1iWNDCcFowox6169Vp7OtbxdBQ4o5rMxEnub2fypZyVKBfCCwh636qmHGCJ5Qr5EscovMv6A8408vc8R+IiJeizziVkg7e9lq6YecXSDDthhf3gHD4anMD5y2Jl84lrbYddhKqwtEKsTS2OJNzcK+09i4cqnmSEVzUCRektFiO2q32odxILHE1SJC5rzSO4lYgks1pmlNQ7UKVA92pSkIi7ChxCgnzli+0gHbPsSf8GXpLKOqsd2gi7AGJB/kZJEetSCdQ6UX8lh+ivtXm0EnYco5cUrDLzV9wlkQPyqN1DJjgyZUrrrUzkD25cqGKpyN79GILCbyIJuWxV727QmIkC+LHMwUWudYhzhamt4/MQH1ORK5Kzeimbpe5AOTJXERW2prtXkIAcwJswtSjlQgLr0O66CF1qLkALudF32xLoyeehpcHnoLCIm60oxSHjzIuHKGvjQLnZD8tBa4ud6cCJuvyFUJEOg/LTOISPP5aCwnONxmlcXPcpuHje7jQJXAgS5DufQgnc+VVk4S1oGzF2kXCQdZM7ifmShmt4kDOEr+VM4W59CrG3yUE28UH02lwZkjRJlgeWlFo28yZ9vwaBbbMj2pSHO4NI61YRNFzwy8CpikJE54CCBjhXZAzcaCHJZY7jQRDyZkviyZk1IBtuTRxoISaZM4daCa34DKhotP3hAarg1cabdXBYflpbSLRnSiTSuZqUqWZrWHl41eQ2nZpHWqoTeTInJrtGlBYIxCIPuqURIeXMghudzIFtnaVJTp7Cx/HtuCcT/APBkvbd6C8LHpNwPicv5GSRC7Ph/vAwqP8lFZDC0DZlJY9gASHAWGC0d6w178JwiDn6kkGIhv6oqxw5bMwqt3Xy8CCJryvtIdCAHMA2ZiRpdZlTOImZ8xaEriba/LwLRZaInkzCm4MmdVkURreroQ4hLPq4EA4bBstEkxNvyZRSi7zC0JSIghH1eBBY0Ri6PfUNHk1KsyJ3adkTCREztaECk29rMopiaRaMyLsvLwJC3gxT6w6EEi1oZNSiKTuDKKgiJvlaFVFhDCECEHHyAgsaIk0We+oERHtCWtOYk9xBw6EjScFnFoWBbQE7A0pnN67kCJbrJp4ExO3pkzUOhAWkOTSn/ADUl9lnEi5toeYgcSubocSrL5qsbEdbxKtptycSBgz9oVHL1lBDEaYiBhlvUQoEWEIDEeWbQtB97yijVozEghikOQ8vAhsV/wnkIKyF3BlTCYnoDMjdHlHeeQghiu4ewgUrfi8pIzXWadaSKJPb8xBQD83gQNuuQNWtDR0s061O6LN8xLuiG7l4EEbrSwNWtKUJw5NPGnaW9dZaSndFwBqQV7ptrG3FrSOFmvLxq1o8EDSl3Ajb4ggu1oB12vNxpbm/CZE26LMwNJZ0bhuXcataBScMUGvti/lSEREB8bfyJ9wZXWadaNweUd2IC7Wggy8aBFkKL+UVRFy3fFfkJXbgxy8uscyndG67m1ig1vtS8biHZvA0HWyL+zWxCEnOsyt+QlrnaW/237NAM/wB3xIvyCtkxRISMXhmJUpDYe9P7rx/XVQhbzt4/rI3rfGPDSSrKLDc3fA8yiD85SleULxuTVx/XSDlyXtHX9ZUb+HujccDSSN/CylGldQoPqAXE1h5uP64pHEQgRAeQdf1l8xTkIhujSOks6O+ZTKM5I2uH39UPqaQnkPMQ51Vc3XlFUFOSxHvO+adpL38VX35KNb3zTtQ/rpB9bevmIfNQRRGueZZSXxlOSgk4pmR0/uoUFOSpi0ZmRFwkL++h9ZB9XjHbu/VoSjHPMT9JL5xnJYS8ZMyuYSf30Kq8ISuXvmVeAt/XQoPubEyjzClJ2cn6SXzDUJRxl35I5hL9dD+2qCqctumlOSuX7KH9okH3br0SFDiGLkykJfKvj8JyO9d35K5vjxy9IpfCsiMJpT8q9vx4/tIPsaTW8pD8hIt3ruIhJn+9fKVXpol+v5HN8eP7a+Yq1T91/jKRE2jrH9olo+5p7rs/kV+YmsPNx/XXleHKUJN8K04rvjx/bSe2GkNdEqtOE2j8OKD0b2u5eP6xJisLXm4/rryixDQf4VpeYvh1WWJaDm8MUt9vw/1kHq6bn5R/Ei77Zn415BYlof8ADdH1fupJ7aKD/DdH0/upB7DT58o/iUEJZb8y8j20YfbdW6Pq/dSQsVYe1V6js4++kHtXiLrxVbj1HHf2V4sXFGHiG7ENH1fuoV8cXFmHyJxVuj5vspBkziEXFv0mYbn8KxqFjbDnvRVilwm/ypWe3PDP8PUsv+aVDIxIuM0rSLjWPFjPDTf8fUsf+aFHt4wx/D1L/CkGQtLU/wA1Vk7n/wD0seLHGGP4w0f8KTFjrCv8PUv7+gyG6/Pc5VtIeNY/7fcJ/wAYaX9/Slj/AAnl9sNLt+3oMkISc0XiGVQ23Wsa90TCY2liGlff0vuhYTy+2Gl+WgyUnELVX4ztisc90TCOrElL+/pfdCwl/GSleWgyTxmXsqbljZbRMIDcWJKWXbVBbSMIZfbDTvLQZQXDesJ2u+K2fVj7bFgj8sRfUW0vBxfvhpzOusR2m42w5V8IBTabW5GcnJqelRGDLG4vqRHKoxGypMWyMnD4YEPyuhW+Nd8I9WNEfFlpS5czMqlJCB2gxMedK3p505f0aS1twAqCk7nSk5utDejkQLXOJiKQWVxXalWTuA7UxN4AS2u+DRJSHkUt+6I8hLbp3aA8tLm40fU5ErvufloFJyUnDxpia3IhoitCXcCrJwpmiNqW12RAXZUnLwp82jMlyi1iBOsjNclIS1IHMgCVRNVhXEqTQeZzZU1ulV9VMKxCxTqtSCnHqIHUO1IemuyoGHKgSJztCOZODnIswuTiSRO3iRBnXAS19TBxVhyZrECUwwdRk5qfKahRgjiP6q2CLlY0rx+egw72x4zbbgaOP9MKj2x4z/iTNffxWZiGrrJhEmoMMHEeM/4kx/v4q0cR42/iMf38VmG61cyltrhQYf7Y8aFlwMf4UKf2x4404JP7+KzNt2RG6tuz/wD3RbDBxDjos2Bj/ChVntgx1l9o3/zQrMG+mmb5v/qgw4K9jof3jf8AzopvbDjzTgb/AOaFZmMIR4Lk7R4Aegwv2wY9/iN/86KBr2PdOAw/DRWbWuyBmTbrV4vKlhrutTOPa1SJ+mlgYIXfkAoT+/Rs9nUraLUNoVKoshTiwTAinJwIcB/fo3+wtg7oXZIeZDepl/KlhhHhzaCX7xoH4aKbw1tB/iTA/rAVnDRHKxK224NP5VIwnw5tEze0mB/WApvD20P+JMr/AFgKzgYQFoD/APSN0I3sBLDCRrW0T+JMr/WAo8NbRsvtJleH/GArOd1d8HnRzJYYP4c2kZvaTIj/AM6KPDO0b+Jkj+Gis6GEmuzIMD8ObSBJw4Mkfw0U3hnaT/EynfhorPG6R5RUtLMKWGDeHtpP8TKd+Gip8NbS9OD6d+Gis6EdPZTZksNV4sltpGL8OT9Gi4VpcAJoffu/RsXtDVdpe6CGWD6WRjCGF+vRv9gWrPLh9FS4hfnSwwQqvtLD959HH/nRSlVdpf8AFWj/AIaKz677YpbxKbDAvC+08f3q0f8AChQNV2nl+9Wj/horPRgFwGxNdzpYYGNV2n6cK0T8NFN4V2m/xYon4aKzpvFyipHLk4iSwwQqntQd+xiifhoo8J7UP4sUD8NFZ5+aKkfzksME8L7Ty/e3RPw0UeFdp4/vbon4aKzsRtyBpFWWloDMlhgIVPai53tbon9YCrBqe1IsuG6B/WArON0GoAy/lVgiW9awP/0llNfQqVjquYqwxUK5SqPJydHmt+Zy804jFrWtWxG6UvVYLbvlTa9GZYGaWl6W7KIGSZwiLrHoK3QCA5vnpm8QKu0rSYmtIrmIJhW3M4kzUkIREW2Kc2bUgsc25ia7LyiKr0tVgFdcgCa5xcRJ4Td03quSer+VAi0na3fkQfTa5V6W8qqhFF393vLfOV+bLxCgZrYtvF+RFpC76fVUim5R5QQYBiih4vgYxg17C4UuOBSZSsWDPG1Ub/atqpWGfwpbEbq6yGl6KiUfca8KNtWLLR8M/hSUZjawV3grDI/80tlEA6d4SgQtaxTtx/VNejW3s7VtVKwt+FJhibWP4Nwt+FLZW6FzS3ihhZU24/qV6NVz0baxurpDDX4Usg2X9OIyizgYjg06Ebh3XeJu8pZNUfeDXxYQH9OTIlxCtrFlX5ibTQ3W0nFQD9nxPSWNSceLJzITMA91GhE4TBZhtgh7rapioP5USwvozWr0yi4xdtdz13RkKqwJbDWJ4zYwtGFMmt5YhhY9gTW9w54EjyZ3fpg22r8tpWajSscIsI2xhuEwXZ3c690XBn4EHDOKY1+WFMmvLLG7f1NugJna3qk8Jl/zS+gI210Cd3nhP8KWeNb40GFBLKzhVsCZhkACPC5KxXVp3CeGtq2EJGflIEHC0cJyaKcvmisI8wrIBi7W/sPCf4US2O60+qKLXAVmZWNd7/a39h4P/CiS7/a39h4P/CiWxRy3bvKpaLrWLLDXJRdrebvbCA/05IGLtbzd7YP/AAovVWxhEXAXWQTdOpLDXZe6zFzS2D/wokrtrY5YOD2Do76L1VsZriuRFtYMNnkJYa73u10rSlsH2/byTu2t5Rg4PD+nL1VsNududMzUlhrwfdd4MH/fy9VQ7a7wYP8Av5eqtiZVPMlhrn/C9wYM+/F6q+OtU/a3WqROUyKeE4UGchFCIwjkRAPT2VtFyZLD4aZIxKfRabIxTCLGlYAwiMMpl0Zl9mpFyG22oBopbhTN6UDcNqBbtJmlEeuxWJmigVojmejrbxN9M6UhuQKm6yXy1YgVKmajUgEZkzRSlcNpoKxyBptTcqCagkBbpYjqsRqQ7iNAtvACbdXXbhQ7nhpnD9r8hBDRK2xKLR+LTu54ai0h0ZeBAzeQBNqazKIB5ap5XgrBLONiCxKIqBLiYptHgyoDmLhStdmyWpnWusTemgUM13Ep6qlIPooJusbnaoc4lPNyou+2IJEuumhERMF5+QkK0nMPMgTJwFegvYWZ55eBKTm5/MTtIhcL8qUhc/PpQQEUePVwItsafmIc7jzILrnqQVkVtp6eBM7n8xAkTM55UXC9z9KBSIS4M3AocOk/MVn3zOkylaZqVCE0tYMaryyneGnQqBcItvyq18QX9UUDb27RmTCTxa/iS6jdvMya4WdYlSVdreyvMxHIhVaDUqbFjboJ6BuN8xzPZ1L1bspcCWOJRROGWS1aNZ0rZ3julU+WpsttLAZOVEYUL+5YkTejLqX2DgvaCRAPuncX+aB9ZbCGEMInCEMbkCNwD1llhr/2j48LNtOj5f4IH1kpYHx1f/hOmv6rH1lsER1DwqS12cOtaNe+0XHDv8qM9m/gsfWS+0XG3+lGd/qsfWWxtWTUlARss4llhr32hY01bVKjl/gsfWS+0LGg/wDxUqmf+C4frLYjbbg08aCG5xcQqrDXY7O8ZkTfdUqlzv8AN8P1ke59jERu2qVXL/B8P1lsRpOyauNG65NPGpsNc+53ixxj7qlYsb/m+H+32k3ud4qEv8qlbzfwfD9ZbDaV/ZTtu7SWGt/c3xQ1xbUa/l+wofrKz3N8Sld7qlf/AAKH6y2C3kT6bg0pYa3PZviF121Gv5vsKGqvcwrw3DtLxF+Cw1sogISyNu40rbsh6taWGuS2aV5t207Ev4LDU+5pXHNLaXiXN8RDWwyEuDSm3Tu0lhrn3MKt/pLxT94hpvcyq+raRinLwQ1sIYTcoeelKELeylhrv3LaiJXbSMU5uCGm9y2oELi2i4p8iGthNJzmalYIfOSw1z7lM5lLaFiwvvaPcpmTJpY/xZ5cNbE0u5RTiN13ElhrYtk0XVjzGGV3v8NHuTRMvt5xh9/hrYwCI+SSUsxkQcKWGuPckIv37Yw+/ij3H4f8dsZ/hQrZLBdcCQBFuTSlhrn3Ig/jtjMv+aFHuPwCG7GGMy/50VsdvJ56BhC7Jp40sNcjsdlBL9luM/w0UFsfk9WLcZ/horYm6tczh1oaJFbza0sNdjsdkdWJ8Z/hopS2O04c2JMYXO/dq2K21zPPTNIiyauNVYa39x2masQ4w/rBHuN0ciur2LM38ILY1zTsMreNAjdaB5uNLFmt/cdo7bq3in+sPzUe4pQv4YxTn/hD81bIbksPUla0tbHClizW3uLUDVUsS5f4Q/NQWxTDjv1/iJjv4QL1VsfqvykKghJ2u1qWGtfcRw19mYiyO/xoXqo9xHC+qNXyu/hcvVWxhzNLeahQRCUJ177SS0hrf3FMJt/z/l/heJ+12VZ7h+E3NZW838LxP2+ytiN5NRJXeLdraJJYa3LYLgmKyJFk6xFOE4gM6uREHVttVxbDcGCX62rZXD/neJ+2tjNFzS1EQ+aqCK07AyiXyElpDXfuH4Q+w63lL/O8T9pP7h+DHN72reYf86RP21sRlwCXEWtVGINMmaRLP9YktIa+HYpgtrik63kL/OkRN7imB3XSdYzD/nSMthk44rWaiHP9cVXlLsjr+slpDX3uLYHb+sKqVpZ6hER7i2Cd7u/Bs8Vw552N+32lsMR8bkiWkQ50txC4QPKJ50sNe+4tgdjvBU1lL92xv2u0p9xTA7v8Tx2O+yo3rLPyEnbth5i1/XUXjCMvH5R1/WSw1/7jGBGu8CHl+yo37XaUe4xgLet9rzrvsqN+32lsIhLe/D5i/GkuY6/KJfIlpDAC2LYCEf2NwMv2VM+sm9xjZ9l9rEDN9mxvWWekN3w+YhS8wvyiSqwwD3GMAbp3tVgZdc1G9ZWe4tgB1uFYGZv69jess9ISEm36hVLizdUksMG9xvADf2KwMrv11G7WpN7jeABJvtVgZm/rqN6yzhunhcKCK5zOEksMF9x/ATX+1KVyu9/idrUnHY/gJzSwlKnmH3+J2dSzVpZesKUSucOlqWGF+5JgIf3pSuUS9/ieso9ybAgk0cJSuYhzxOzqWa7rSziFFp6HZdaDDPcpwH/FKV0l8J6yYtlOBco4SkcxD8J6yy8haLWZ3DnQbiLXpLOgw4dluBSH9itO8iJ6yPcwwOdo4Spw/wBAXrLLriHXq1pWlmIM5caDE/cwwSN3tVpZZfgC9ZQWzLBP8UqX94L1llbYmW/y0OIWWGXbQYr7muCSF3tSo/3gvWUe5lgptuFaP94L1llVzdflqWFwH5aqwxL3N8HfB4Yo4/8AKl6yYtn2EMpYVojP+FL1lkxPbr8tMIk8Bv8ALSwxj3PsICVuFaJ+C/nJvaBg69uGKIX/ACv5yyCLF3QbwgNa6lsL42LbJP4jGZCTwx+tYsGNd33L9A+LaPEJakGR+0DB2nCVHH/lUe0XCY5sJUTIP7iWR3ZeXjVQwIo5jNl2tB4vtHwm79itH1fuVL7ScK/xVon4EK97xn2xDC50Hi+0zCrrcK0f8CFL7TsKi8vaxR/wIV7QERDvCeghZb2US8P2oYa/i3Rx/wCSFKWE8OOcOHqOP/JQ17XMpbag8QcK4c/i9Rx/5IU3tXw+27D1Hf8A8EK9UriQWVqDyPavQNVBo/YkhVkCg0OTjhHhUSnQjhE4TCShiwvJXoNL6GlaQwrvTQMREV2tVlwoaWpLlQGW5Jd9sTZrvnqkub00AT9VqHFqQI3O+eltLKqEE7rIJw2i9KXU89K4it+egLs16UuL5iZpavTUZUCtLM/zEvWTElG4kCk51qS5OQk3WqizNWgIUuVMTgG1V8qCXcVqUmkTkIy5UCloJIJDzqYotVWtAxFdaqCc/WncJXCkaObWg81TckVmZYg1yZzVWNyYUFotagEg2p+ZBYPCpSMVqLCYSS9ZWCSIN5Cdw/OVdqsbqQMOZpKXEkc25OPKgsHI3spnXeclTNbaizi5vVVjuFUu1JmeqgsHyf8A+6kXO7X5FA3ZlKkWC7UnEnF9P2knV40zbbUDgrc3H/8ApUanKxtuRA4EWa95Kx30/wBypUt80UD3WZ012a/mStRl5Tb+VBaLvp/rQ4iPkUC11uR35FBfN/Kga4S7KbV1rVCnSaBhJDbvJFGm7l/EjS7rIGyjcDcxKNFvKotUu+cpFjrXdtHL1Uo8PZTWll5iQPzdpTmt7OdLb81DvoxA7tSb6mWxIodq6yCzVam5fKSJ3akD9ZnEltY0ur8qQia/qphLUPWWCz/vUN09VQOTsp3D53moAjHeu5vyIF26by/lRpby/lTDmbz/AJEDuF13F+RAlw6RSuJply/lVnLzfkRQK0u1+RLo15UEVrmHkIkNK8b7migZum9R5alxZryza0zSy3oC0uPyEpOa4XkmuzE9MIkKBm/dPIUD81Q665OOZAolxKzT2Uou4FZqQBDpUNJ3Zcoa7zkwjc0uVBLSduxyOEVYPF1iSw+LtKxvzRQGlvVFTdvTIslxCltd21ItEez+VA7NKZou7X5EurRmSuaLh4XKRYNot5U45tDHJHD5wih3ziQM5ugOJTa3Qk+98CfIWdB8M8NpuYvgwlbUZkeZejPN3RlyrzsNW1eMPEQoPze29QtxtdxbD+3rXfR+otod0jC3G23FvNHcK1d0F0ewvTJ5ol6P1V9ECPFgRgiwjZGHKYKhrl6lLw9XK1DOJS6VNTgDmOCDhUyVB1t3PHdHO3OGMURrMsKYNdYENoR4F0EgtMP9a/K2FgfF8IgMMN1QTHKYAuwu5v2iYzIoOGsR0Se720zMYPeV55Rd3TECKJE0uJfRaI29ZfJHhbonCrYRXNLI0VouIeF+lS0ngWi5WNFzeZKDmrANdrPKmbc29M35qLndpAvl6lVFcVnjLVfa3sKG6UE+WlTWpSG221AqZyGoQCCQhqBW3uTN4kI7aAaho6WJbcyZANHUxFuZgJiagWoC3Kli8rEETC0IJpCgrHqJsqNSXMgMqYUpcKZAII28aCzJSdpegZ/OaPLzI1fCI7BoFd10z+c/ITXcBpmm1vjEFbunn8hF3GfkJhEvt6cRIuNBUMUuM/IQ5uvzEGGTOi77YgYSzi/zFObMergSXfbFYJOLWgXe32n5ibQ1+ngRlJ19qUnN15UBltTOHVxJSRmu5kBqARYgrhai6wkeqgGtQXEPFxoJo5UeRmQBcoeegdDg89FpZmZkA0rbEFojaYs08aYh5D8tVCA8mVOQuys060AQlpDVxouPRxa0EIuyBm40czIfloBpNyRMvGggIrWHbzqpuoQDLxqSEczA8tBZ2DzcaUXfbNSG6mQ8yBHJZq40EC7gPKrSyt5RSwhuDqFrTEPJpUqO7ORcQph+cl7GpN1eJAjcnVJTa028KBbZ1UOz9VUlYZNIxG65KObRnJBNI8+sUDnDrEgVgtB3CmtaeTKKByB1SSuzlyjoQNrtYwSQNt1mpHH73nFA5gyZi0IKxEWtYGVOTftelKOXOGUk9ovacPKK0DPG6MyrzM971Kws2fUq3XANjHEgm3MwMqm11rMwotEdGVM4b7w0oEIeJmpDBa2zKpcIxXP1IFrXchICLc8rNKqt5MyaK28nhpRFtiN5kFbPFNsypdRiPKmFxCkiwBijnMWtKy39RBbq0ZiSabQDKpInk6wWkkhQhbu38SwPbm6qHC4OsSRrh8lNq7aCRydnIrPI0qu0Ru5lZbm6q0La5Ba+ogRHNzItb2EDBm7SrO4Wkd7STC4buqhzS8rQgR3OGk0OEczFLiIc7HCgi59XAggbYVrMqrcI22Zk+9ta/TwKSc3Pw6EFLrWluMpJubxCHXfmJXjx6eBAW8AXOS2tNrNOtWFmz6uD66V1ueG9vAgLR0BmbnUNFujTrUuz3hmHQlIhHWGociCWi53NxqkouljXDx6la4Sus0mkEYTtGoUDD743muvVfwWTS0v5kxNa6zShokXaIUAQiXlCXypW+K4rSTZYRkLMo/iTNF1vESCoSLMXEJIdDyaxElPwTftQqwSFziex3zUFe9ES0aSVTRIdGoVYbSgAQv8Aem/ISnU552xfyigRwe+eI0kqiaVrIGpX3EOc8vB9ZBmJE4jPMOj64oKCIc3iNJJS3Yi1kDUKtyjxWtyfWTE7e59XB9dBVb9o0lnQ0WnDYGoM6jRaeng+soKKTniYZuD66oKTRG0AZbrVYtvHxdrhK9WOJujKWj6yUmjFOKJhcQus+ugW0SdZp1pihWtLhIbDUE3dtfDy8H1lLh3rrM35UDN1CHCWdIdvbEhsUOFrXhlTOFznw86BLXdoS+VKRNhN5SFDWj2fyElJoxTJ+r8q0M652TUlaIjxWl+JMTvN/ImNzrsjvyoK3C7eDxCWT66VtrbLXfiQ4iHXl/ISbe+NcT835UCkQiwbMyRwkLRMMv5FZc3eX3DwfWUXOznn4ECWOd4tKLeTL+RWcz4mXWCMpNv8hBWTXNJgpbWt8QmItXLwIPhJ+bgQQQtK5l6UGk9zGJnENz/MQPk6ciCLcrAYkLdkwrLedBEZDcfmJnafmIFt4AVdmUVY5xZ/MTEXq5FQraJcGoUpEI3WcSZw/OSkDuPhyIEYOUuYUOHUmI+I+HQluEW3oK4pauFSLbCs4k70rtKBMttiW3MrSJIXCiQV3Aqs3aVrvWVJWi16CWjyItvUubckJ2pAvVSkPUTPSOQDh81U2u0KzLcludrVBW9RKmd10XFdeKCp4pbcrwsTeMc58RKbtL0CuHk8hQ7PkUucWtQTm60FZN0mi1l27TXZR9BJzLQpWloVfVVhO0pXkgQhJ12RDRUgkQGpK69qZqX2edAvKkPOnIh0pDQLlVHKrkpDcg8lPaqxtUisQYbbVZlVaZBY5CLVHN4tBc9MPCqRF6s5kWtchzkt3k2phQWCnHNakEXKdaCwSFycXJNCOqgvt4Pp0IVIq7m50DDan3ri8pVOtuT6moLnCPooc1hJXW+USfTdwipAPD2VY4c1mZVuud4ziVg22kgYU4tzCxVu1Jh13oDS3xavFJzJrkE2loTj03L46jFIJMyE9JLFhmJlru+Y+XjXSOOzlly0Zo4mtT2uyfToWHDNTJH78akos0Pw0dVsufyYswyqzP1FhPfUz8dHzca9uhRTiRYwkZk0XXqZY6qjnu9u5oFyptbRSkIgTiXznNN0Xrz5MkYcnd9V3OmaWW/SK+fettZm51O96R0eeufyIj6BEhTct/CqH8nDrQEXel5Rqo5oy7VVXu66ZtuvKqhEcvz1OlxLolbr1qLtKrbb+emuzEgbKmEyFU8qUiIYrWO1IPrc4+slEiYApBc25NqWC3IfFqTOtXzXK1/pLRYRC7tfkQBauVVncN3Cgs3JasUvtdozD+JMJC11mol8zuHhIkxE5/Z0IPpt5LWocJiDWaiXzDFPMXMad26Fpco5EH02jbZpFBGOazMSrddoz8CLmt5UDctittzWJNR9bgQGVAzdVilS3hRpuQSKYXKvKVqZxeagsTCVzs2pV9VGl3Kgtdb2Uwl6X5EmrtqC/OQXOaLh4UzrmlxKkiuMR5RVnN1iQG9azPqT+XpFIIttHlFOJXdolIZ3C/USBIm6+FK23sptWTUgsElLrbuFJzcitbyahFB8s85p8C8jDJNq8Yu0vYmfeLuYl4OHv8eRhHhYg4A7qGFutt2IR+5+iq9juwqq7Up42huJNvvx5VvvaXsFqG0Lb9OTxhEClR92RHp+ot/SZUPZpSpalSMEAAGuZmV5MjnGL819o2Co+z7F8zRpkDtFwLcvckbRiwvi4KHH3fec87ODrln3dibPhqdPlsYyYOMREYq5Bo9Ti0WoS1QljbGgE5JRtFkZdz9ZMUYxgYcig+ThxYJNIWAK8OFtPk49oyDecGrxcD1qW2n7N5CZEwizkKELj7K+OUoO68WQBavLLLGPJ3ZlAxjLTloyx5V6ktMw5kwIQzEsZp9EESazMavhVaJLR40IYMNkIiXbH38XOWSMOTMIW71cxJrW9lY4NdmSFgyYFb+VfWVTqEPPTekblW3Jy34va6C1Ic4Q42rHPbDHzFLgrpauR48yEIoMMXNFNuS45YvdIVPNzqCIRi9pK6xql0Dm8GVMlajV20DP0o63AlFMgXj5Uzkau2lagstbnSucTkXJi7edAOuSdvzFPlodbrQM7nUOaWdTd9sQ264zQDkKHcL1F32xAtuZDh0puwq8qCxyUkqEAQig9DUI8hAzORKzk89A5nWdtMOZzAQAjyeerWameekYOoAT2GGhAwwizDB89DbcnnpGaSYpa0HMBAhDbkPy0jOSJ98UkPICQnZWAgtbxAflo1AQ+mlEeQEM5EDCXC9KQ2uJAwtSYkA7Ol1JmkSXKgPqpneil03IuY1A7uI0hFzgVyY+vlSxbidlMUDDymCW1ucMqBs1ofz6eBADymHkK237WSTQ0jzN0J3Mynq4EARdTMoG0WvgIdc5+rgUDlC/zEEM6mVSTcthIIi4/MRmf6iBiIbyJmZAk24WJiuILwzcCBzAKA0hkypnZxsyoFosEuFHH1EFvH1kCROutuQWTtoue1mpAkKK63kJTvRvbwpB3gkDdIkp0u8ZlQWETn8xC1Fu9bfmSRYu6ygelPFDxp++ZkA75yLm54mVKJETBvuco0tEDyoHMs+fToTOISznmVbvfs+lBZvhMyBPGOAhjWNLQi1riztVvA17LhSXGOv3paJuvK/Sh/XzJSdf75pUiJO15kEXNAnttVhRSIc/Cq2kVt+VRc02vyoowlc4TPMpEmkDX6kNIXkT8yLbHAeYkEETh7KrixXRTc/SnLt5FBB19KBRJus0PLdZzyoaQlruJKQkA68qAdxGecVA8x6iUkRZr8oo+F+EzLElIrc+lBEWYeVDXG2/KSGkw+qK1RnqBuhB1VBCTrX5kzcgs4kDOutDhRc0LGnclu08qCIdWRyAtbdvMqNevMlEhaDbrUNZcQcKCXG3IeUkt3PpTDmycWtLwCzTxoJvLNvMxKHk13j8qbVaGrjVO64Q0kGdBYRG74diVxN+HypWkJZPPQTnZDzcaJNc5xGelBO+36kjSvsPLxqd0TskTNxoBxc+UdCHFxnm4PrpGxG+8mVrc6khIbmHp1oFe2G29jeBWeyTmieQuBePUY8YYEbpF8IxEhzrxRqE0X7pj6VcccpOE89GWn09JDcbbS/Elf0lc/UKxeBFno8QIcONHLMKxOp7W8IUOOcrU8cyUCctdBDxrPY5hV7Mk/JbU9kSFpcJCmePSVvKSwmm16FiGTgz1GrAVGTd79Lm79Xi4V7OGyixRmSixneKFr/9RKJY69yo57yq9vl6wpugx6biB3vZJrRiGPN+UVidZjxYcyAAbfEF6SmMbSdMkqMo3fS1rDzkKhpZgAyBolnWFTk+MjAjT05Pw5WThE4pmYNogPSPEsIhbadnMeP3mGOZXfC4WMIR8pdNhzjqW623NvFxEOdQ0m68oksLGKUeFBmYEzAjy0UhijGA3CfVJURIpta+9pDnTYPks7uGLu2R9Wv66rcQi5kcbRJJKj4iDEYD2iWdS34NgahzqHdYTt58PmJVuiCPw+VyRzr2cOtBBycWtA9zrd/qVXjOOPkTbtwuZmaWdKQ8QcQ50AW8dc/MkcXPlcmIOQ9JZ1WVpBDEOIc6CzleedGUTvO0RP5EN1M4SzqG2t6woI1NzXt+VVZvGDnb+RSZHmEOEs6iK0SDtCtDjmAS4y/GkIhITdwj+JRbnHlJSwco3HcKCc2ji1pRthOIMoi69S4Ru6pJTEcrw1CgGiRa+HOlzQnDaYi7PnSeLEdGklPi+ANQoGcQsJnVvQ4muYb+ultb9VmUUWZbOFBFzrQPy0CR6t/5arJjXeIePOjTkDUgcyJ2vhzqLi49Nj1RCnITgeACZaHqRKGXjBZqH5FQuJ2W9LnFzDSuHNZxJbdLEFji59QpSzO4lBEJXWKfFtbYgVpDx8KQreNOTSuEA4lUQ8PMga7n8tRdxpbbysSk3kQMY6WH5aEotzExBcIokOSuS2koFv2tA48LPPSk5L5CnlsQKaCIdPpoa5K0ctgoFK1JlzKXC5wsYkb0KgxNQqzBqQmoJK4msUk0ROxqrEiy/MRq/MQGa5gKvzU1pJSK5tnkIEch3D6aPpkR2/7NAOHMl5UEkLrgxAGqyJujz033tItARJW3ISkQoLNKpuEnZVOpS4WoFcRKtT1UtzUB6aQiTJcqDyAQNyXqpgWB0yVqYcyIMmSphQTcmBKJcPWTAi0qwDzpLXJh4kF7hEnJblXypopRxE9xB3sZpEIcZaUH0iVreEkC3KSxHBNDr9MnKrUa/OAUzUWulAygXQVpO6qy4eZCR0JUZbkFistJ6+dMJXOFikXvtyJhImu4blUJW5ATOu7XmoHEuurBK53azqm3MzSm+9//AKQfSIuyodaqHOFPm4M4oLxMieJArnal8/N2lYN9vZQVzt0tGhlwLE4Sy6YuhHzLEBEvJXoxPDqeTXW1/a6OzSRlpOQghHr04O9F+WDD4iWkvdn2twpEK1FnJrwU5zzlfEdVy23j/YSePcWRq+WIIcqBwhhDLnAd+pzLJ8X7ZcGbO6fM4cqHfUeclZMYAU6DKi0/Zhtc7KslZWKjz9km1+V2licjOSwSeIYQuYHvUyOoh5lt/DxEUydjQb+RchdzHhipzOO5OvBLHCptJcUU9P1R97XubUce7TNkmNYJQ8Qx5qhTJFHk3gLTh/ElzCst2rrGGV2DmHnIV8Pi4RGUWyCOY/8AcueNpfdQwJnAFEj4Rme9cSVN3fgBmk2esso2MyONscYMqtSxdiSeKDVpUoEmBhk9n4RfN1OO3dJ62tNo3dK4lq+I41BwLB72lhjlChRgDex5kuheNSu6C2m4CrISuL5PfhFu70qMDdE3U0luLZhsFpuxusTOKqliHwmEjAKKH6SaUHiLMtY90htpwvtSpFEpmHAmp6ZgTXfUWYjQBhEGlvN7KqO3LtiOpMO4jp+McMyeIKQbpOcEjYeaCXRmEuqvTgjpsysWsNgGEKnhDZpBCqgcCZqMXfjB4BW0pUYhHa83XWAvNjjGORUjuHNZxKwuGzSvngR5aZ3wwJwIpwGworLmFzNVxCJC6/N+RfRczu6iH26HtSZXiJnlQOZqC0czfp9RFpJSitHsIG4kFHg+W8JhPMMIwi3Pb5K+snJRcm5VgEyXMmaSB3dckaXXkhpCm3RaQQLcXGmusK/USGlpBLuic7sopYIkQt8YVoincTnXschpOuA8yN0bch5fyoGFzdf/AO1aLndr8iQIROyHm/In3RsyHlQFzdeVNcSbdE7IekUu6iMCw9RIFcTg7St5UowCysMlY0nZDQIWdSjcFlYaN0QnkPyEECWdWiqWxGg1/kK4QIrmO7CAtTDw9VL9Misu4PMQQLSuTDw2ZWpWEzJp4FZuonBmLgUgFrtGdS0Ru5VAiXBp4E5CTrg5ciCGiXZIU4kOazUSRpZsx3FkUjCK8eTgVC4eHqincPJqJVtN1wauBS2IPkcCD5p5xQm8o/jXjUUd1Xoy96ZhFF0cOheOUKLJx96IHe7QpFuI8QjT4R7gA75uvWpqjJzdQi98xzdcKySrzlOlqnJydXqUCTmZ62AEwbd92lkkxQShQwHLc9cNRLtHjBJyOOMITmHqgYb6K4YQH/qX5s4rocXDWI6lS44N3UUm9VfoiVBhhi+iVM5+agBI7wgAMp+zxLQPdf7OShV+QxBRpZ0tHhDvWcXTmVaXJaNXLJE/cd7RBplVmcOTkaycthci6+mKUUKejEIGTi0L8+dh2yvF1axZSqnIyxwIMCK552rq3um8L4lj4Ag1ynViak5+kwiKOEuZC8eJTmw7kqutu1u6UluhgODUvBn6ZMwqjMluTZbo1dK5Hw73XszT9h85R5w48XHML9Kyc2zPB6fhCLiHKvQ7lCh4qxLXPbzXq3VYtEk4rJWXjRyIZmN1dQivVp40ebPG6O6J7oKq4ZrkbBmEJnvWNK2zk9BuimXT8GK1FMR9tmBafLYomTxLIyFpd9xfGQwEvjB0+ytxQu5Wrsfap7aqnVaXFpBVGJPHCuIt25wj1luHuiMe0jDWy3EMnVZn9OViT71k5F/jT9nKTdIiu8uThGUYR7WN7A9tZbW6ROSNYCBAxVToQkRwbRnIfE3i6Ft6TIu/pZvxorjzuMqHOR8Y1WuDB/ubIyZSsWMeuIekV1/It7+lh+2p4qlGsmZlYVvMSVxEPZQWvqIK7yl5HuWOQq3XB2kaOqKBrvMR1lBZvJS5kDk0mI9VVCLhcPCn06EBypuZiVqOZAxJvLVYiWZgI47AQXdhDeSJ5aXsIEbcnnoJy3CoQXMCNNwIBK1MmdzoKUW5VYTUE11qCtzCRmueCsuVYlzoBo8aBIW5wTFcLXtQPMfmIG3g6mIEup5CYfu3mJeZ/mIFd1E4xRIbTgKM5Of5in6nGHkIEikOXxCLS4EokQzLd8BWuyK0nZnh5CCBHqJfISjFua9M/V4tAWtdYmInKtN5CBtTi4ktulFwkm6wIB2TqpTdlR1kcdiBBCIMzGiFkJreJW+WjS1Lm0GgHZM6YeF55UC7KyIl8tBYJEXGn0tIzVRbzKwwBPCNxGN5IGddnNFzWvPyEWkQEQGzrpsvx6BRyNIzY1MREjS7xmVHl6UAJFz5kCXOaZ1zb86rzkGdA1zeyi5tvCi7nyEgnMcXCgcrn9YVY4S8pVNz9cU+u7jQLmYPWUDluDSoEbQ1ZkNtyaUDaTbyoLi5ksURI+ypuIjs1IIucFh6lF1mfKp4G8ShtoNAMhIGyvsMrBU6zz5kmk3Bp40xNvbu8woHaVmfVrVbdLDy8angHmSi0RDqkgYnCPZFDi7bkabQDKlIbnEAZloeF1OLWqmk3Jp40CNwWBmJAj1MqKNcb3Bw60zRylndxqsRc+y9qbsBnRItJlmkkFdo0Cly8GYkrm5gDKgsaIlaGrjSkPzkOhlwIbdcAZkCFlyeegcxkPElERdkB7UEOfJe1YJFo6EC7gzCoaIk2wblIt81So3H1hVnrkqnMf1RUjmdzK0oZb2VBE3NxCpLKA6GkqzJw+SSwMLiuLmS6TyZUb10VvCSH23cK0MXXAbkvi2/BoO7XlboQ4bL9RaEAQuL4DSht1zMxClIrc4ZeBAlc14ZuBFFcN5eIUEMN2SBmQUVgueGociUiEhtMNOhEholcW4ykOdMTR0Bp1pXXZw8hKV0LOGVAwuJ9gZiHOjdCIuYGV2dKJC7OD3OyItboykORB8FYhCMjGLxebj+usZhCLezxrJ66QlT4zmaSWNC3Sx9wr04eL5+p5NFd1TtMm8E4ZptApUaJKzlaLex5kDu3PCK1rsm7k4toWEJPEdVrx07ws7vCWgwHEfsE10Qi+uS66mqFTKqQTNQoklUYwwhETmIDmDyrSu3naRtG2d1mRpWAqccKj96kUU5SS3owonTmbwrpIxZPGLnnAdcxBsN2vHSIUy/cVEZCclwPxEyPSTcq7lqO1nZ9gWu1KjVrEISE/CO6WjQCs9n5q4f2DTmE6ntXg1DHk5OxZmLF3sqZ+9Rpp3w2pdNd01sS90bC85iujSb8TUUrwC7vyX6RuHrCuMnfzdAwKnT5mhhXIU4BUeLAGc77+C3fRqWsZHazgDGeKpOi0XEnflSmSiQoUGDKlf+auGJHbJi+W2YHs8lpkxokePvWA7ft6fgeq5dXdzjsYLZhRYOIavLNxVVoQxRf+5IPTlHrdP7aY4qzy7XP3dB7RqntJx+eGKRGj+B5OOMnKymUY0bKREKyjF/cdzmGsETlVDE8rNVinQt7Hke9SGHlc0S/wBS3vI7Atn0piDoxJCps2NShRSmSmI0dsIC4ictYd0P3S1K8C1XCOFY3fk5OeKnKiB+KAdQw+JW5wl+rGe5Fx5U4lcn8ITJnHo8eQiTkADu3MQOFdTxm5XwM7ci537ljZXUKDCnMbViDHlTmpUpWnSx2kcPpzRP/suho8UhY4zfaWRXFyy82aypj3rBye9Do+srC3e9d4jMphGQgAiZ6tCjfkQ7wnvIRsYvI+greIjbuMvB9ZKcUc3iCuVhEXGbLtCoIom6cMa9o6PrIASt+AuFKRQ3W7i4kzicF+rQCN6Qjn5siCsh3sNviA//ALKwt2V1iHXNfr4FW4mtff1EAIiItsytQXihcLCuH8aa1zubg+ukik63l/IgodEK1jbWqXE7tIdd2nfKi1rVoZufqpnXA7iFK5pN5kXNtfltQMLW5+IcilxOdEPU5TcRa0vLflb8iCvxg2DkISHm+omfxH5iBIXa83Gld18iA7fFo+skIoeb5ilxaXjco8YVrI4oK9NuTqK53PzZEtz/AIR70rSb8PlQKRCQtiMy8CjxYjbpLgT3ZfH2pHF9v/8A0qSBIRynm5Eb263J1EP+6KHE7X/+kUHCP/Ym3rhz+YodwvS3NbegCPT8xJc+3InJ3Ok8tApO3Vp+YlEizEYeQnIrjz6SzpWtHXqBBDi7HUTOcgnZr1WTkSZV6nCaZpbq1K0hzPQJFLdZjzIKKV6ci4gSRRfoQDu0lJyRpOdegmtOxUI8vhUFFEbiegSdclIWk5iBfLSl1zTEKTKThQFyVwu1pbve0PFA1w3XpS4iei0f+9IQiWhAXfbEpO50wt6nbSmJZfnoKyIuM1HWemK5L1UAWvOqnFqTkSRq0K4RueaV3XTakN6UCu+jFWRXJkhcRWgKALiUIUESCssxuSK01Ug8tCVMsQcbUzhVSZBYJCmVYqwUFicLrlUpHmQWcqdyQEeciz5VYOZJqU8yC16Z6QVL0Fgm65Sk5UzizIJEtSbKlFMOZAxEmc5Vt+amG1SLHXcn/wBkCYpQ5npnE7WgfPagoo7rOq9P0/bVUzIwp4d3FuDKzjQXSdTlJ7fDLTIFui3RdZfcI/CFzEvPp9PlKZA3UpLBCDMvucgmL70Y8rVikMr28xLKekiHL1liJk2LGHhJq9GF49SwzE22jC+DsRnQajBnu/x3bjg5WmvoxhsQwltFqnTWZyNUIE/OQB3UzKRrWttJupYTt02Sz+NuiDiOgQQj1iBC3UeU1TEPoyt5uhauo+2falhCjhh/cx2QB3UI5uSIosEeEeJJSIR8ovOwZiSsbK9pEany0+ceWgT/AHrNQcozMN2Zq6n21SmHJjZ5XvbGDJOFCdJn8KEwQuht7X6q5+2Q7Ia1iXEctX8RwY8tTRi98kcxaUyWZq+rbtWsQbSsXwaLSqPUfA8jF3UJkAmxomov5v2lC5d84tL4Xj06FV6adZCJ3gMeGU0zM3Uv0omcRUWkYV8OU0N7h6Vkxiyve/xPQNrVzxiHuXpaFsdkwpssHt2kRKcim+6N7OaD2RXzdzZiyvUgjwXiag1HwJPWypxpUmwS6cwu4eleLUQt3PXFtfA+2TBu2KPP4clQnhOPKxHBGt3w9OYR5lqDbV3NmG8EYHnsRYbnKjCORMSiwZk94Jwy0i3KSw/HmyLHGyDFx17CITUWlDHKPKzcp43c+zpIV52I8f7UNrsCDh+bkJqLBInFLSkqUJ5fbCJTjhGMrRl2sbh7lbG1Vr1OquH6nMx48GRhb+VMzcQcq2DtcwnjvEtD3GDK8Ei0Wx5TKUbqlpXmbCdlMXZpQ5yZqrPDdTaMUHu3MPhW2ZchH0157f5u1cnMGxTZ3tSkYFekRxOeGThRRfBm5Uo++LiEls8sC7WRzbVJUv8Ayv8AOW1iMotpm7LYi1+RfSslqv2gbWP9K8iP/lf5yb2hbVP9LUD+q/zltAxtb9PqpnC/J9OhLDV/ue7Vv9Lsr/Vf5yksAbVv9Lsr/Va2iLU3VU2GrPc+2patrsD+q0Ds72qF/wDF2Az/AMLW1LiuTC0beFNwat9zvaeTP8LsD+qBQOzvaf8A6YIH9VitqO1ZUvzUsNYDs72ll/8AGD/6Wo9zfaUX/wAYAD/ytbVG1gifF+JAk5LDVfuYbSi/+MH/ANLFHuYbStW2D/6WK2y65wn5ilzrksNT+5btGL/4wH/VYpvcr2iZvdjj/wBXitr5it4vyKdPYSw1P7lu0Mh/yxx/6uFW+5XtEy+7HNcP+LxW1sxN4mirXDm6xpYakHZJtB1bY5r+rhVnuSbQR/8AjHPf1fDW17RHyRTuuaPE75EsNSlsmx+Qu92OokH/AIfDQOyTHpD/AJZqj/V8NbXuKFzt/KrBtK7i/IlhqX3H8eatsdUHqU+Ggtj+OP8ATNWP6vhrbfnWJj/NSw1H7kOOP9MdY/q+Go9x3Gpf/Gat/wBXw1t0S1IESc5LDUg7H8af6Zq/+BQ1Z7juNNW2mv8A4FDW1+q9Nm49KWkNS+47jM8u2mv/AIFDVgbG8Xt/y04i/Aoa2uLeDKrmtHIaXkNRe4xi7KW2nEXYkoab3G8WN/y04p/Aoa22LnOvzIc0deVLyGpPcWxR/ppxT+Cw0e4tij/TNin8FhrbvB1hTjxdZLyGofcUxRmLbNin7xDR7h+JStLbNinh/WsNbcuYfZFWfCu50vIae9w/EZW+7Tin7xDVJbCK8WbbHikv6CGtyjaN3CmIRd2hU2kOPtsnc1Y1rU5h6BRsSVHFLiITjVFsIZTmtW99kWzar7NcMnJ1zFU1WoxD7yfvUt7HCRXLZQ8TOIksUfFNZpFcdVL/ABqi56287YoWyyq02AdEOe7+gb0YwG1i3Bs+xLRto2B6VWu9gKDHH3kwcwujSsW217J5Xa/hXwZEjBK1WTi72QmzygXCXKS46h4M247Jo8zTqZJ1WFLRXfrHx8CNzDwrjp6yj2pdNbaO6Tpmy2ZOg0aTAarChb14AIiBdKysdpIx9nJ4lxOEAaVHpzo8I8pvHL2lyts77mjG2OK8FVxtCjyNNIxixzmYzo8zyrYvdHYO2kYxjyGE8IYSmouEqYMNkaDGEe/C6B637S6SlGUoxsnxcdVKbk489ORZOW3EhFjkUCWM3Mh9JWi5fpJsZxVQMY7NcPRcOQQlZamQhlZqUDNLRujM7rLGtnncxUiT2JT+F8Sy8H2w10O+o8wwXSMTo97ES5f21prY1gTa7sP2inELCs1PUGOW4nggxoe6mYemIPMOZezHK0u1wyx7atu7edvcrsqgeCKUATWLY8J990KTHp1FzLRGzvYRjvugqv7bsTzk1LUGOfjajM3RY3LBHh5l8G0PYttXxfjrEFc9qU9HCfmiOGe+HLpFUQNmHdAS0tBlIEhX4UtAFsKCFQERAeW5dJSTGMIRdwUHBNPwFQJOh0OmnJ02WzGy6MXERcS+mXtjwS5ly3sSwdtdou0emz2KoNYGgwhiDH75nN5Cy2uFdSW98h1xV27XKvezKLcXkikF3nKSa53Ml0t1tcvE+gn85QcURt12qCIRt5RRmI+sgfMTuZQ0UOyN5kZR7KCRGxvKjyFB/PUvF2fUgPIRlUZh/MQ5BLXcCCzXMQ7Pemc7gQN9TkSod6KZAWoS8yOZA1pG1ibsaVW3UxxpsyA1XJnEPGlbcgRbdegHEPGgSLLejmYakeoaCSLPnUObxqLst6Glq36B3ann5Ci7Nvj8hK0s3j0C4Ru36C0Ytuc/IQ7nPyEhHxb9F2bx6B3t1+Ykik+7feYpfd8OocX2xBSJCWWMrHO15Uolc28UDzbxAxIJurImc596h3rIIFrnFnehDhzILRYgGpSG00NsyILObd2gGciGcnno5hYhrRcIAgBzN3OnO9AjyaONM2/ICVupgeWgsEdLD8tPl+B89UCIi8hDz07eSHm40EjcWQ83GrW2hYflqhvEAeWnhZciC5pcB2ioKFnsiadahvIpLqcKAEOQ8ymELWdZDRc1mvjUDaXaQSPU0oJ1/VQ08w8KXKV2chQWajUancyQrrh5VNrrdJoHDR1yUabeFAkJeUkda3lJA5NboyimIRceTMkKwc+lFovEjDSgBER4MyVo5bMqGtZeGZAk5l4akDcdgDag235NKUv6PKjK9BNpfF5lNrAyakW703HmJAk0gvDUgLSG1mVKRDyaVRFbunEelWuaPZFA1ol8HmS2ldZlJMRFpMM3Ahw2X6iQDrTyZEO6mlVjF6+XgTEWe/h0IASuzhmS3DCCILMqYot2fVwIEsl/FoQKQtF1isJrnPDMq3EOvSrHc/CgXrHxJW26GNTarT1JXOFz9KAIm/FvclHmt0pn5yLPakF3whu8aSA86xSNt3MKGkPkkgsnZFapPA7SSTT2ExOddxJCK4CF5aUSa4SznmFDiK2/UqxhCNwgdzUxD18yBrm54mVKXXPNwIJzchpXRG5ImlAZcpn5CHlmeb7SyIabvh7VAiQlkj5EDuJ2c83AqnRGueeXgVriKL8OqmxHfD6kA4iJzzzcCVxZRM9WhFzXEcfKi9/w+ZAri4z0lkVjuc8xaFWW9IbN+rL3O8eg8muOGlRh5OBeA6608pcC9+vu8HmIvfcKxtxNbfpXr0/F8/U8nMvdJ7TceYEx1LQKLWI8nRJqVEoQAAtMujMt/YA224QxHhOlV6bxVS5OZhQofhGWjG0gidFpOHmVWPNn1D2m0XwRiCDELdERQJsPfZYuVc7TncXzIzgFKYwlYktmM5iAW88kVdSFJRadxjHlccbXp8sLy29lqnUxGTCCDX3Zm6V2rty2yjsd2ehTZGZgFi2pycGBAg5tyPRDbEiF/wCi+LZLsIwvsmnAqcOMdYrzmd9zEO2CPT8WOVeDiLuVS2oYonMTYhx5Hixo8X3kJXJD6PgxuttXKUa8nfFK0quOfanieSwpKY5KlxoVCiT24h1O1vfHRdlzN81d7bEtqcLbNhOVjzcYAxPToQytRB7f1PhG8PSK2TWcAYaq+z48CRZMAw2UCHAAIINIPYH3zrLQGCu5libMMTnUaLj6MJnAiS0UDlR8dDMWtJTjlZeate5p/uituk9i+tTmF8PTJy2HpGKUIjgm0pwtTi4V7mxfDGxTBkjJ1zFuMqdVcSEDhlGF3tKcI5biXsF3GlNKJGM8eR7i3pB3r9dH6Cql/wAdo/3gV1rJy6Ti3zRtpWEMcVA5HDuIYFRmRvKDBcLBy6hXp9MKxpAfl/WWqdl3c+ymyjEMatS2JPCZlA3W5MG/qlxLa3SI70BszNzqnDtv2s7ES3QEw9OtV3CPw+oc6gfeMgZR1/WUELtAZuNeF9JJDq8fp1qtsRrWHqFA3DkzDxqshHL89UAxLMIR9JKoYpEVwRxzKxollg6eNK3Uzz0FhbzN4/SSrv50pQrnM08aUrRcIauNBY4sxbzSlECdc8sygXZmeeguJBXvSITIXst/EmISITHQ7OqidCFo5LgUOvdlatFjSG7lchtx3uuStJrR4SSuLj4SQWWtQQC65iUbdfEKUiudZxIAWkVrHtEhvUk3gDN+VVkIFFA9YuEUb11xM03oBoiNoeem8WRNIPP+ulGKPJq0JSaVwstFAzRbkDy0EIuczVxpLdIQNTkotEdGVA5XaAy8aj6vB56VoutYldpHd+QqFhCWoNP5FBDdk89IRDqMEokPJ/8ApA3W4eNL2PPTW6mJc0PQgNOTz0nVBBFnyKkYvjfGMY1BY1tpJd6I5usrCi/CWcSUeY0Ba1o+mlGKJZWCme67P2FUQi7OiVrRbkDy1DeRRvRLWCDuzGgXlFRb9rQ9H0yIK2c4IuFBRRhcqUSIlQkhtVbbW2ddWETblU7nQVu6iYi1Ci7jVfmoFIhvRaltcF52p7vtiBSalJvGn5XpGWZzQV2lmYlIhIgEmD2GpidxmPYTO6edBUTSusXyTM9Dk4u7Jhu7K+24iu9BfFOSITkXeE9428qC4YsOLCCILMiX73apEdxCAByCLVOpaKyESFtiLRQmcKCslDR1KXJSFA1uVURRaSs+alLmQVOLTkVZOyq5oqm53VQeYLlKi1ylYhIKUqcXIHTOVabrILHIH6fzquFkVjkFifmVdrU1rnIs7NKB4ktvmuVjLkAnESSDmTibkFmlzEa0tvIgv6NA6nlYl5bFKBkw/mpButUqQ7hUj9P51FqnLcgs9ZSLmpNFvCrNXbQOOb6ftJiuypE3GgfObVjk1IzO/jEMsZOIiWRZdeZWgRNuPlVRlVzy4rsXhS85CY0DBfSyazFLAfXAVkbisLtJ3FlVbjl8aLFiCeLNBcvQkYtQCZgjFtB3BpXt7wuNMLuPzPrqZZFQwUXlFIRO8MqoOZJ7SZnTiTiBIvLmx2elWMUx1w2Ep3u6yhDEyzMBqs9i5vMj2BbcvL8aRZTvX3dZQHD2V9ItRbpuVY9LWVixs3lfkS6OygiJqi4s309he5K/U1L9PlSJ+UeIfxIo2rttTuaLkjhzdYkZib2Vge7L2UwqvU7rJkSsu1PIE12a9Vtv7X5FZwWaUEaddv8A6qy4iBpmlG3MBjcgbRcQIGFzTzq0eG/Mka3QaV5Dcw0U+keK8TuJKWbyUmZO5z2vQWZrr9RJWtteen8aUXNMeyrSG7t/kQWD28zvkS5R7P5UhZOynym3iJvyILBzdr8iUeJnEq7sxahJWNZaLDyipDhaLeymt9IlUJCBAJcxfImHL9P20Ek1vZVg8LNSrt1cX5Ewtb2VQYQ1ECZpcgpbb8iXNoUi1pNPlTandpLa7Qldw6UDNFji+nsqwhcTeyqiLiT6ncyBhy9pybl6qVtqcczub8iBhuJ3N+RF267CW7zSJWcvVFAFn7QigR+cSXU7iJMJW9lANd5KgwIbS4mKx1x9YUu91FzEoyRtGo+W1vlEovhCwDa0W/KvrcJjbwirMxaMy8XxFWefuuks9135FZCIwNwn2F9kIhc3raFNov48qfDLIh6x8WscrMeL4SMXtBorKLXGPMvhi06Vm4u9MAimvfp/8ThmjdjO/ijdvrEox4ojbGasnGiSOqWBN4Ep/wBjQ16vkReT4k2L78iE94diOhpRgaeoVlXgeR+xgR4Jksu5DiUyzRXDTSg+smuckPL1RapIreyoJ5EfZXne0NcTiN11qccyXmLiSeogZ1vZTOS5X51OYteZAPu7SngIeFQJcT+JHKJnlQS4mtI4mXgUJicWUz0o1a0Bm16kBxEehHl3OSuIRPqoGfafGrAN3lKm8itVw5kCo+qkuc5Pmy8KBkWo1I48iAzDk1IAR0glaXB56B6iA9jkTZRyGlaJaENEdGVAbsuA0CJcB+WmaPB56rEbbgQXN5IiUh66rtHNb1zQTeDz0Fgk7KBou4DVYjdk89WNuyGgLuA0O5DRdwGhtuQ/LQLc216bIThepHqGmuagjMlK0gaeZGW1O0cxIEa0bkuZLCgDAGwzJziJ5uTIAi1ExLcXAmIhF9/mIzawQAtInWIFrgcxHbBM1oueCA5fEIZbcAItZ8GlH+guQNaPAmFuVgJSaXAxNa/QgBhZLIaLXewwFOv4BAtfoQWCPUypyHkBJpdYpJrtGlBDLvg8ykRFzhZmakt5MytG0m2IAbuBI5w9lFulHqIHPX2UZSPrJCu1pidpPUgMpBquQJWh1SSvLzkDoIeEkDaezwKCdeT+FRodfcCYiKELr9KA7eUkokVl/mJ2i63WSh1wXnmQQ63PpQR259PApEsmfKSjMOc8vAgkuvq4EagaevgRbfeaHXBnzIFzDcfFoQTWt5OBSPb1JLh48qBnXZz8hDrgvPNwJbhI3GelDXFrzIB3PoS6NeVWD22KsiERdEflQM/rpnE5xPSlrz6UZS15kCC4hdflTkfX0qoi3QuvucrPgteRA9wlrzKvy9SCcJXPzJhG8M+ZAXN7CUuXiRcQ/CZUFxMiMQQTnN5lFzW8qnKTb8yFqiuaRkyy1BC4gdpIkxay5RSxWwiaXGsSrzWkB5UzdLMqWFFhxbRY+5MtCt0s4kgCJA1ml2dPqyAVygRcQeJB7SQSQlpg6uNIMJo+88WtGa0oIcWdBDdkgZuNAN1bnRxpSFuUDzcaZokOSBl41WUJ3Bp1oI0uENPGn3TrWH5aUYEMcsEBzDnRunaA8tABCyCME9Q50zbWsPLxo3V+QM3GlEbcgataDza6BFKO6IJl43Qsb3URv62j5OBZwYtBrA0knAGFkDMWtdcearhkw3kwbdRPsaPmVe6iiTSlo+rQs5Lo1Mh5eNM4RN3Mq+Q5/GYKIRSH3mPp0Esnw7CIZQ3AYuilnBek4mt5UFdd1VzyZrOmLBSVg4Wn1fyLDamETpqsZsEyDe8H11lwtykgyIcp8yY8lV5cV2DbiK26DEytyfWRuo3Bq4FnbulyTe9O6c/TwLp8hy+J/swIoMRvvN92hEICKKBMDMOhZ9vCE85sdwJCiFurY1/UTeI6ZWRQyu8RqSCwRNpwNKdziPxzWlwfXUFFttPTwLk9Kooot+A1JXA13iMrk+94j8xIUdpe/Nt4EDC37QKoIgIbtxanda4TDyFX2+XIgBYRW7hQTSG1hWodqeDM2RTbqPVwIASF1rMyqiiOkAyq5zhO/K3QjVn4kHzNNziAGOFKJXaMqvK4Wl6CoKEUIrbrlotIxykHCkc19+lHjBE4jL2uQI3OQMRET78l3ypbjZyuSk5zRA2K0hJzr82RAhFqf5irDLn8xMItFrDyoiuEjz5kCvLjO7kQOXytCgRic72pyc1zDegVzrhN3OxQRC/dvO4m5ErYhDkNG6P3xhoJ3ruzdkUWuAuzk+uluHRH1JYpGOUDVBnC3P5iDL6MS70huII7EkUi98YY86C1303aUSbrNVb2KROvAEwlEHXHLrtRJydz+QvljiQxd4T2FyK0Yu9Y1+a5WiRFbf5aCiFLQgHxbxVhCWjeeQmLNkNKXUQLx3mguuZI7ETy0dV6Ab1yVZf0is+qlLh+egQXIL+kU3aUnKQKgxDpJ6RPcItVZoEaRE0UpCOl6s1JSJouJBRFE91bnRc1OQtJ1nlpGiKBRFpJT7flpiG3Qk6rEDXcCpi9vy0xNStdwIAXcBpBEhG0DZ10N4WKSy6ECMTN4lWVpaGEq4sAYpQSIA8UTkFhdvkSF/SKSzOsUNLkWgu+2KsrUZkpE4tCBiFouFVE5P2EqCLtSUhTETFW5o5ECaUp8yHESHaRQeQ7iQCUeVM0XLEG5VKh3EpQWJlWnuQPmQlTCgm4012VSmQMKZIORSgsEtXZVguVVytEbmiizKNaB5U6CHXJnNS9VGVSLOZTqaKQFaQmI5DFArkZitQPCSsGFFK4HoAS9ZSOTnQ0mm7qqNVqC1w+d5qYeJVjc9vVTfT5EF4c3VTi7NfxL5xc3nEfyp4A+NtewbSf81B9IuFWC7nVI5XdvOm3DrezYgs05Ilqt8v/APSrbEC4gbqTCNruVAwuHjyoudrzJRH6f7kgkTbQ+nSpFu9LMKOW/hStbm0pRuu0ILR65qcotVfKQKxzicgV3pJRIcpZ1OnsKYrcvM5A4tSu9ZRd9P8AWjN5SKW+gRNTD2NRKpxFcWlxK20R8kUBcntdkh5kj7vg8yf4K00SBvtFmVMGZtiBa7OH/wCk2nRxLAW6QU8dnCo1fB2px/o0DC1uS9KThRq3bw33BqTfe0ALiK5ilILWtsVw5+0ik9OcOsmuzcqV3Em9ZAOIrR4mphJrCLmSub2XEmtIt1vgGNaIg+7yUD+naKbKYE/USr1OLiTOt7P5UBlF2tv5VZy8yB5j1NQNubhJA+kC6xI5eqKjlflaKcS+EI2g4if/ALkDCROQ5zL1XCjhMwt7CjBFDK8LhVxOK0TQL1fQTIF3GwGkRGarGLCm4BlAmYEWCVr4JiQ+agshFDikYicMm5maE/NypIUtLQHnAggJk1xgGf2FbcKkAK0StdrVKfSglzhN3VTPut4kurtIuaDeFAzia4tIp+XqgqiF1vVTOu7RIG9YlXc1xHZukw5deVNFEiExHiEUDC1xjzCnHQRHxEqhI9T9Sa7dNJ9oILd620jMbWqSaTxvuL8iQBFx58zUwla4X6lgkSyOPS5JLCMKFux3j8z/APemKBE3QRCA2NzoES59IoHaWrlQ/UlIyJnnKBcsDagJSOvqocoH321A6rhOInErG2tJDW5VooeLmjpFyYrLmHlFBdRM0nIIzXX5lAi4nX2kScpaLmGCbEgiW6tDTxoJHLztTHmMb0brky2qxpOPrLBWLna8yBcTM686exLQKRVZOmVCsSMrUpz3iUjRxGLG9nK0V6ZCQWk/KqFbi+2Wim8tBDbr0obe3mWA7eZM7IV6QRuAusoH5qCetwpxzNK0EENpo1Oeg8Cn4qgTmITpUVkKMTt0HN0esshIblRCk5aFMxpoJaAMzH99jAHjT6xK3rGgZyUsvwaLW6EW5rEBq+DRuhzMBAg7gQQ3aECttyAhuoQDy0zeJiYR5A8tBU0S0B5akYQ6YIM66bdDqAEbrUwEDcrPPTNdo89UiOpgKxltwIFbw29tM1uhS23QhtrWZedBGlT1VO6HMQKbiuQQ1S4mggRJrtCDbqegQoowiBr8qBzZ0FcLRM0X9hAXDrSj11YOX37zEtpazQK8m7t6BJ1zwTEV2fNyJh5T8xBWLRHOmcJC4o0PyEznDbG8xKJM+G8xAPFueGgSEuBD+fzExNeF4eQpUlwllMFHkIFrs6d+p4eQqSN6JCbmJndRK7nTCWlAC0iMhYgcwOPMhwuQ7hQVi5zXgIciW69xttVgZAQbSFua1AOcLhTdbiQXCqyteguy8eZQJNIM6lvC/MgHWOegV2q+8UEWfPlU3M+EyrxMZ4vouAMPRq9X5k5WmwiGERgBETunLaK0e3mzPTOu15l4GDMcYb2jUPw1hWq+EZAYu6JlpQS4SErhWRjCcQCO8e5BULRN1+pV70tL8qxPD+1fB2KsbVLBlMqUeJiGmbzfy5wSHJmaWr2FmLXWkB5UBFy2v0qqFHhTJxt2Z+KJpchKy29z8qchJutYKg7edA3CDn5U7Lrg1JMuhBWWY7DJP98zqN1yaONDeTz0DM66XdOHIeUkwiXA67jQ2IOji1oK9DWHlQXKB5uNQJEMLeRQAQEeNefiOvU/C+Hp/ENRMxpUjA38cwuLd8orR6BDa0QUiLoQNAwtWPYCxxQ9pGFwxHh7fx6aUcoQnGDdE7o5VkYi4ciA5mHpQQ3ZDzIfbk0IYPB/aKQvYzOS27rsprS0akCNtvCtAY6mZkgjc5idtrlhe0baphjZNJyE5iU5oYM9F3ULvaBvblqmYkTuDKjyEstMwJ6TlpyB7zHhb0X2k3pVjhC5BTFhCVrA4UNaOgrVYRNJz9SUYolFblMXaESUrhdYoFv2vMSdw6jDLwIK594ZuBBQV0J3iGEKCIftCtEYcIN3DMBC7QodbcYeQgrtb8AlJlheIuFXOF2cM3AldwxofkIFaI/EZkto2+IVjs7owcWRLvREgvDNwIFtzeIsaSYRDe27jOSHNzHD8hNa/PD8hBW2GI27jKrLXaMwoeJWvDyErxLWGlApWjnBGu1mlNbZ6iUyt7KBiJotzXElezLwig2kVtrSFGYrkDE4S7WRVFldflU5fGX6SUcrDQMRE5ovzCqxdl8ZlIUxuba97UAJjFc+IxyCS3jnPjpHOK4ztchpNPPl40XOuA/LVBS4r9KQi03p2tFpAflpD4oYGWrOgrFwjnj5VBOIWkcdP2I/lqtp5hgm/roKrm/D5EHF1ePTEMRzRewna14M9izD1Kr0nh6crAQK9NCJQJEz8bG9nhQey6Jq3+VOLnOeeZ2RG6J2Q+F4GjS1h+X9ZANiXjfwpCdz2p3uLIebjWuMf7ZaPs+xVRMPz0hPR5mrCO6OC1oXanLYjYgudc+9yLiuYelWju4rIggeYS+VVNaACIO0IBpC92lyXKLh5VrvaftkpGyucokpUJCempmrELdy1oeyTbnLZJBaDbbbX/60FDWRfKSlxEF7V9BWgelUkIlcSBAhDlZqVZCQiFnnqy0htZpali5tDyQKI3ZPPQVugPLQLQysQQiF1hXIARIiczz0rXaPPUiIt+AUthlwEgN0OZjWc6hv3PhzqREMtiUt2PAqEZf+9VlCEiawM3GrGu4EE3jBBW3iZ5ajdXXWgpGFnEWJvFDCjRbGQhIi/mFyJVEIj4wQdbcHH7CrhOJ+TlN6wLZTtfk9rE3XoEnRzkQpEVpHGNz/AGVn+UtDC8wkDtLUAKCFugE9vIlJvGD0FTejkRykxWkIciR2qztoEt+1oc3gTtS3dVBHkXJbRLQxNblUcr1Qg86rba3NcrN7wmlIudBWVopCIStVhWqtyBC64KvKrSPVekc5BCrImi4c/UT8yUs2tBDrXWE1Vu4TVhEqyK3WgXU56jrKfq86Pq86Cr01HkJyc4yvSIF8hKRcLB66a5x52JSJaEuSdsFY5IRahegVihMoubagU1X1kxqEC8yryqwhVXKg8pMhLpWCRJWdVV/9qbrIHQJJU7UEqwVWrMqBkyrTgiFg8SlICbsIHEScrBElR97VoxbdCLXtajmSud9ProbwqRKnp0Ita5QgeEW6iuXG1F2s1/Bm0GpRZqpTU9ISc/EhFLTJuHduXZIjcDQ1rljAeGpDEO2jHeH6nB3snUCmw5gyk4f9yDqWnz0rWqfLVKRjb2TmYW9hH/v09boWjO6XrFVosLDEenVKak/HkJbo2v6y83ZXiiobK8bTmzzEpn3hFN8hMxsv2sh5S/bXp91RAiBhegxyDLPt+UVQ3lSosSZotKikZxTiysOKR8ZdIr7GkNpLU2PanOQtgIVCRmY8CZGTgtjQTaTcq97YjU5mr7LaJMzkzHmpnxglGjG4vqEpGfhdcjdEVtmVaE7pOq1OiwMKx6fUp6TdNbou94xC/wAleh3R1YqNO2ZYbqVOqU1LTMWal3RoRtI3Q9SDdpNgDvIhgIEVr7VeInwdX+dc0Yc2YY22xUGTrmJ8bTVOljAYUrLQgInw+jUX+9YlSK5tPwdi+pbLZGvb+ZmooysCZO5g9OWILstqqo7DBpRN0JwH5WPuXz1SHEKlT4PATKBGyZgJq5xxV3OuJcJUGfxLI4/qM1XqdCKciwTcImzM0nLZ+wfGdQ2g7OY03VT3s/JxSkyjcY9I2u5lJLixDuS61UKnhzEkOoTkecOBHFvfJkTPZ6y35Aiw4peLOAepgGJLhTZHQcaYurtbwnhyqnSqbNR4h1GYC1ggRaltjEfc9YswFJ+HMGY5npypSob0paNa8ejSOlFOlco3MURWiO8JggOs8q11sR2qFtLwhMzNS3ECq0z9ec49Gpv5Vq2TlsX905jGqwJGsHRcDUomkcvrut5iLpRLpaAyZhOhGEVuZhuFWjCIbVzJirY/jrYfKHi3CWJ5qpyEi2LOSkzmb0ZrcpCsr2h429u3c8T+KKZG71mSGHvQlzaUGN0ZhSo3iQbqE87QHWaiE6LC3gm4C15hXHuDqZtE260Cm0qUqvgnD1FgbqLMmZfpmJzFqJe5tiqtfwTT8E7MpGvd5y0WF+mqo9pH7Jai4ehKqq6iGLCix91DjQCjPyBHFysK3MF7VzxUe5HjyNIOp4ex5PTlV3QxYRgfiIxcsQSWcbD65i2o0OcpuL5OPCn6YTBmYwXRofW1KRtPUlESJjbj6iBK0Fpbug9qVTwhJyGHsNHusQ1a14ZoMPl5ulEtyxZqUhR9xFnIEI7RYZiJL0ChFCJxP48i5novcjzdTpQTmIcbVSFiGOO9ihBuEPZG0SIiVWzvHWKtkW0QNnuNpw56lTjQk5szcz2feyH/ANUqp03uii+LE71RMzMCRmdxMzkCFGJtkYxEly53UlVr2Gtp+Eo9Fn5qBMlAdCADJpxOiI3Kvelu5emsTU86rijG1YLEk4G9ZB96hF06S1JVLoy+FCcXD+VWC6La/lyLnTuesVV6h42rezfEE+c4Ei7cRjuuAtLrm9IrosSLn1EsGI7Vq1UsObO8Q1WlTnetSlYG9hRrXBcvO2DYsquM9mEhV61PhOVUpqNCM7XGPQ1qw/ugtkg4vo9SxKNenpM6ZTi/Sge9RvYuaQrXvcz7JBr1DkMY+2GowDp1T/WIe9Gy7i1LSL1uiamZbuu+9u+Y4wY7R3LyaY9I8K6ZmKhT4U7Gk4k/KjMiReJeLlx/tvKvQO6RljwzG71rE1CgjAjcBGRCs+n+5ChRaTGmpvG1Yi4tiiRb5/iN96TU6keLo1pQswdVG6bCOKRgICLiM7VoTuXMcVmseHsGV6c38/RSLdRjut6CbEFY5iOcxN3R21acwTQawdMwlR3d9RoNpGzMXMX1kqp0xI1CRqZbuRn5WaMcwQY4kvr1eUuasWdyPN4QpUavYCxPVPD1OHe7mYO6N7GZpCtk7CNpZ7TcE72on/d6nEMCaDKR8yDZjRK0uFq1TXtj9Qqe26j46hV6VgS0qMN0iZ+NMgFtouW1OZcuba48SW7pPA0QTMQKFLuAD1bxqHk6ojkO9aRgEYhtAzuP2V8tQqdNpEcIVSqsrLRopC0I0cRI1zL3ZE5PUjFeEpqkTJwJkYsQ4RgeroK1etQ+5ZlsY0oMQY8xbVJzENThb8u9jaMH2co3JVMXSAjEKEEUbgK4TA3CaI5Q5aAceKYQoMIRcZm0VyvsKnq5sy201LZdU6kdRpse2AZm4Q1CQ8P+teVtsqp4429y2C8R4hiUDCUIhhPe0esXWLUpqp1nTK9SK1MnAp9YlZyNcW5gxxIvJVOL6DExHhOsUYY3epzknEhb49BdOrsrn7F/ce0+Rw4dY2a1uolW5Yd/AA5oYozPKJDlJbJw4WKqrsIrELGchHk69AkI0At9mjD0DaRKiT7dhuzmLsywZGo8SsQKsZTW974g6OX9tbAnpyVpUn35PTISssPw0Y2j5y5y7jKeGW2b4qmZkzKDJzm/K91vRDcSwDDVDrXdY7Q6xPVmqzUnhKle9S8HK3SI8xcSVHWNWqdNxRgrE3gipSs8A06MJd7RxL4PlWkO4mIo+AsTiRubUYefqrz8e9y0OCaRP1rZlW63AqstALey5xnd8Q2+MHyVZ3DszD9q+MH+8wo8OOXV6BSXEjyk6amZmBIyZzk5MhAloWaNGNor46RiOi4hIxpVYlZ4xuIIMcSLyVynR6dU+602i1qJP16NTMA0LxUKWGMMMjutHN0XF+2S9naX3LFPwLQ5nF2zTEk1J1WjgU0UvGqAkUYRuJpCSVjxHU2tSNxdpa72G7Rj2qbOZCtRz/urCLvWc+6dGr+cVsPW7hUBYUzLTM4cnCmYBTkIXFB34u8leN7c8NDVfBBYhpff+Tc99C5y4/2n0OvYh7rGsUDD1Sj06cq25gd8AbWQ+mH4zzVn+0HuO8HUfAFSnqLUqp7Z6dAKP33MxrYxBcVun2VdR01VZ6Tocsc9U5mBIyY3b6ZNor4aHiOj4lEyo9VlZ7dOd3vHEi8lcf7CNm853QtKOex/iSqTWHqA2Tk6cEdr/Z5v9So22bN5Pub8Z4SxDgWfnZWWnoogUvMRiJhAQuu1CXCpqO16hPSdIhb2oTkCVgkQwnzBtHzl9EIt6w4d0EicJ6TFc3d2lF7+2TYenmHC38/DikHB7IrdOzcnbPsKl/syGsHtxavIydTg0+bn5WFOTUAdxLHHESMunlX3zJQJGBGjzUYIEtCa6NGNoh2iXI23eEMDurdnRaCGVdz+xEaq+7Ir83F2m4YwvValNU7Bk02LHjQcv1SbELmaK3bHSUntPwTUJwJSUxVS4s4RWwd/qWTTkeVpUj3zUZmBKy0IR8dGjthfVLiXOpdydsaxphWNEwRWDi1KLLPk5sKhvSON0cUMuIl7+y7ZFiaubJqls+2vS0fvOFNQ+8ThR/G7tzmu4ehO0YJsf2kRS7ofH8nWcYB4BEYwyvfE74j6kQfe9OVdVwI8CcgBHlo0OPLRXEMaCbhMesuCcAbEcI4l7ofEmAJ4J72vU7vjcAEdsWzK4l3BhbDVOwZh6QoNIAxpsjCIYTzcTUyVseL2hIhu5SXmSmJaLOS05MwK3TostIt76jBHFsH2eItK++KO9gTgcUIh81fn3sF2UntWx3ieiz1SnpXCsnNRI9Rgyxt759iIQwxSMe2xbuq7hoO0vB2KKgdNpGJ6dOT7m7kI9x9XiX04oxthnA8WDDxDXpGmRouWDGO7yVyh3S+wHCmyvDVKxfgYJqlRpGa3UX9NERHwkJaS6FmeyLuccM7QcGSGONokzUcQ4hr8Io/jpohGCPQTRy5iVViOjKDiGkYqkQnKDUpWpyzbjlo4kzrDpX3TMeBT5aNMzUaBKy0IfGxoxiIh2iXGmz7D3uKd12GDKHORyoNRHdbmMbremG5pf7iW1O6F2V7QtruMcN4epUE4GAIRfp6YCMI3OuIhc4rf1FNe4Z6O2vZtFqfeMPGdH75It1ntd1sqzY56ny1K8LxZyV8FCO977347pvE5aFxb3MmwSg4XnIE4crT5+BJxCGbOqePd0DaW7c0lhXcdy0LH+zLH+C69GOcoMKKIwoL22nw+StlWthRC2mysLuwgmRxgHtSiwro3fv6T+rBy5m5l11TZyn4gkQnqROSs9IRbRmJc3CfscK4PqOxfBlN7q+Q2ejIR/arNDDfL78nfVhuzZsy6K2wVGmdzNsJnKfgyDElTizJS0m+PvSgkdxRHF+JbLp3VieLPsVbVMD4Ongka1ienSc4RXQTjuIOs3Kvdw1iWh4vke/qBWJGpydzzlo4kzrDmFc5bCO5TwjWsHyGKsfS0euVutQimjgxY5DChD0lbluIlVUe54xVso2s0jFOyCRiTFBik6epxzQiMEXeMG7MPSP6imsfEeT3REBvdK7KOkQeZHL9vxi6Jxnti2fYTrh0yr4qp0CfylBe5hcJNyrl/u3IU5F2n4GGnPgVKPKwwlWHdBidJW3cpLc2F+5D2ZU6jhJ12kR61WpkB76qE3NFvd6Q3NEfrEukox7fcjxbip89T65T4NQpU5AnpCO1szLR96J9oVe0c3MuRO5cGLgDbljbZyE5Hj0cRLdAZ6guEm8TV1zlLJmcS4yjUAjq5UZR7CX1UxCPooGIrjQJOzJdXaS71ou0CgsFtiCK3OBWJRuACHhQVuvSgZ1p3gmc3gVfWNuVMRDxhmQDuol+8oEhJgiYJhLngeQgDbyZUXNt3ai37XlU5n5EC5viEw8wAlb0cistf8GgB7CkxttACUN6iLWfBoLPIVevICGEPi+FA222KVH+9vJKLS8pQgm5SNhlwKkjdeNCKT3iLc/zU92pKIi0BF6khQSJXNFQ7PnUCTSbeoJxazQHMT0OcOcxT8rzR1X+QggeugYvPE8hS7U80OdmM+FBBEXGfkJSi8MbzEPIRa80znFnPyEC70sz/ADEFFISa9MRE7OfkI1WmgUYrcx+Yndz+Yh1wX5kZsxoGcJC16sdpeqxy503bQBF6SHEKG86HXdpSorsiZxaeFQobxKkmu51X1nimba29WN69ylRdLedMLrB6yW4SazUpB2kNSpKekrda0Z3Y5s2Bz5fy+XJbx6RIelrDWie7Mt2Bzg5XT8FVj5EnNmxTGNX7njFmG6pXPY9o+NpMTKYD3rNm6wF+qv0ak2RI8vGhexFgxSGJDihlMSykK5joGySV2z9yBhKhEADVYEmUenTHxMboIreqWVN3G+1udrMtN7MMWFuMVYZitgBFzRYIWkPWD0VUu7uGD7Ax/wD8ydpDeKd9JdX4qxZh/AVKOr4lqUCmSA2vjHcfKI5iXKvc7Dve7G2liXFOf9RYztSxxhbH/dMzNM2lVU6fgTC5FCGWuIZiIGkm3X/trZRtJTclP7s/ZROVPvOLM1STg5e+40C3tCNy3TWsX0OkYOmcXnM7/D0KAM13xKeNfD6dQtWhMVbSO5XxdhqNQpqZpctAOEyFFlKdEhRIJdGUhIR/aWK9xdXIWLcO7Qtl8zMd+UIIZHIGeYoZkQ+oSzbS6c2fY9w9tSoPhzDMyc1IDF3RHGAoRAXVJeDirbPgnBmNJDCVanzhVueaIgAEQg/K4tK0f3EEzEw1ibaNs5qHTuo0jNDMQwPNYTS81aW2s0qZ2n17bBtGlYxwpPDM/LwpXnua3stcm33KfotPFCp8nMzkzbLSsAosU/tYC4iWH7Odp+Gtq0jUpzDRzUeWkIowIpxgKFdyrXm13axAlu5Xg4jp8bdTNbp0OThcR+zbEavc7mrAvtA2M4elIstuqlU4Hf8ANP4jy+apr2pbZ3f2nXxrXu0jbXgfZEIQsR1L9PleMjLeNjt5uFbEEbnEDgcK4KxlV/cm7qCpYo2nYZjViiTMUik4zHQt30+9xB0k0dJJjjYb0wr3Y2y3E08FPjxpqjnHJonPB4ryhyrbW0OLh6W2d4hj4lDf4YKRdNd73Pg9LWtb2FpLGk1sF7pTDwUWjV2lUivAX6TmDgd6GBcLWi4elZftJwrHwP3KVeoEzUvCManUcYHffxw9EQW+akoxH2bN8W7NcK7FJnEuFIM9LYJkYsQooGBFF3lrmisVLu0tkBZZyqfgRL7O49pktVe54lpOckwmpCamo29CNcJ3ZWrJtrc5sy2LYOma/U8H0SLMu3UnKBKw3TEThy5ej9slVYjG6R3XGy2vVWQpkjGqhzk9FGBC/SRNd05Vt3FmIaLgWizNYxBPwJCmwM0Y8xlwiOolzn3MuxSLX69G2vYzkIctP1CKUWk0sA3UCCOmI38iwLugMeYexl3Qsjh3HM9NU/AmG7ZoIIEW+iNc2365WptxGzB7tvZoNXOVKWrAyG9b39ubes1b8w5iGkYvosnWqDPwJ6lR3bqNB9EuEloie28dzDVMOHhyPLSvgfoBowfBZCzqk1zlrruOcY0+n7SsU4Mos3HnMMTxFNSG+zB7GW3qpUdmDlbyrUfdAVjZlTKfQR2kSE1OQYs06T72ArC6OJbgKFcuSe7iISk8BgWqc+cpjHuHT9axHh7CGFwrlSnAp1BgQhacbh6RtER4uVc/T3dvbPYE2cCBTa3Hlht753LR8lT3X+E8R17ZJhWco0nNTkhTt3Fn5eDcTemGLSaPCvh2T903sUiYQpuGa9RIdFjQJfvaPBiyQxYR23FvGuVRj2jfOANo2Gdp9GOsYVqXfktCIRjwTBsWCXMKyciLj1cC0psW2N4XwhiWvYvwPjDwnhusQmjTpRpQoNzhcTtP7S3cWXOelTKI8XEuKKRg6hxq1XKkEnTYA3RjDOXCI6iXP8z3cGBIU8cOBSq3Fk3frncD5TVZ3a+FcQYhwLQZ6jyceck6TNRCn4MFxEA9OUmjpXz7NO6i2Lz+EZLDlew/DoZw4Ay0WWOnjFgH7GYnNd5SqMY1sN5YC2kYa2n0rwjhiq99QRLxoGDYsEuEhXh7TdteDtkkKCFfqUfv+OL4UjKQN7F7XCKx/YDsgwpgnEOIcVYMxYFYolVbCCUg3DL3OF3orHqxsnwRg7a1P7Rtp2MpGZCO6LJ0uZBpQi05szRTtHnU/u3cBTM8MvUKbW5GWIh/TJwXM6wroOBXKZNYe9sMrP8AfVH3BTQxoIZ4bXLlzugO6F2P412c1nD1GkIlTqsUR7zjBTxhDLROgvfN4PsLNe5zjxS7lWcKLGMmjOiL+FqSiPUDurNmnRhaLX4tVnYXSMUoASO5/TMYujhHhXmYK7r/AAJiuuBSJ4KjRY0cxCBMTcHxRl08XCtZ9xNs5odXhVvF1VkIE9OScfcSsGMDhg8RNK1y9Du56DSoVMwfVpamysCpR48SBFmIIDCI4bcpNSseIz/HXdcYCwdVY1Mp5z1dmYBEMc5SB4oC62pZxst214S2wS0bwDOR4VSgDvY8jMg2KA8Q8Qr0dl2zvDeBMD0emU6jyphFgQ4seNGlhIo0SJDEiInezxLmzZTTJbDPdn1ukUiCErIFvh3IBa3pFzWpWI6jxjjbD2zulHV8S1XvGQErbHRYxcMMdS0HC7tvBJ1DdRaVWIVNc3vvcu7TVrLa7tDw5ijujNzj2ZmhwNh0t0MpBBzyHiH/AFkttVPumu51q9DOgzlNOLSiBowfAoiIcLW3Wqqje2GsS0fGdDlq5QaqE9TZkRITDN1SHSS9N6477jbFEnAx7i3B1ImY81huahRJyTOMDSBhWuHTauwhLr5lzlEeVijEdIwhRZmtV6fCRpsARIjPMZcIjqJc+Tndt4SgTZjTsPViekxJvfBg16z7b5spkdpFKpUeuYvgYew3Sou9jhGgOGKXWXmH3R2wbA9OlqBT40CekIEIYW5p1LGKEb2BaWYf21UYxGZbMtsGFdrNPjRaDM/pyAPj5SZDdRQ7OoV5+0/blg7ZMQS1YnDmqxFuGnSgOi/Vyu4XLnjuTKlI1nugMVT1Mk+8aVNSsxFhShh7zD6StFulfJtLmKnsd7o6ZxrirDcOv0GeccnvobobdJC76gkCV7hsnD3dmYOnJ+FL1iiVCky0Szvg4JEIdZdESc9K1WRlqhT5mBNSE4IxYUYDtMVz/iHa7sM7oDDx4eqE+FFnIpD3vMTckMIpeJ08JCtu7NsDy2zzAlKoEnVQrEnLCW6m9Jj0k5JDKmu0eesXxxj3DmzmkHU8Rz8CVg/BQXuixvY0wx1LJhaUXd2XEI8y42npOFt+7qbwHXDdhujuhd7PIROHDub/ADl+qkYjLondoYX6Z/2SwxVypDv14wnN4mrfGCcZ4e2iUMKrhqfgTknlK9sWCXCQ6V6kXD2H5mkeA4lEo5Udowu9glRa1cj7HZYtlPdVVjBNPmf7gz0eJA3J3W9N0PyVVY+I39H2yUGBtUDZ2UhNFWC+GD3r6ouWwShCLyKDlEiz/WXJ4xd/3cEZ3wTvxQV1dFL9ckQALYUTrfVElMojVOHNu+F8UQMWx5SQqP8Ae3CKLHsuP2CbauXcbbbaBizbrhjGw0qowqbR9yMWXMPHxmOyitldx3CCPiXaLEiAEUC3gsPrJMYyMnF7tnDctCk5UZYdy6CADuve+FVEb7wdtYw5jXBU5jQYM1SaPJxSGOc9aQexqWpKv3Y2HhnI0Oh4VrFTk4Th74C0etaPStgd0Zgyr4t2RVKkYakIBTMKOM13tL2vHoK5orTuxbunsJ7N8JyeEsVYTOkzki0CmJeVcUwWoojtSRiN0bLtuWFdrYxpalAcnVYAPKRm/fT9jMQ8S8jaXjPAVD2lYbotfwrHqeIY5D3rNh8D7OXVlXw7P8F7MMa7VA2jYGxDKjOQt4UejQgGEP1RblzCtc7bh3/dQ4PgQwyjBQdUYor1MwnRZmr1qZCTkJUbjM/NHmXOc73Y1B6Z/o6KVhKrzkhDO6Z9JrR6V5XdX1WaxrtWwrs5lo24lijjvecjIc3ZXUNDwrQMIUOWo1IpUrLSECEMIg+OLo1FxESJcV7d9pGHNruIdns9huZiEAxRgRZaN77BLeDmXbtXqEnRaedTqMYJWQlYQlFmIx2gLVxdt3wLSMJ90PhUqRJhJydWmpWOUvByhE3guaOkVl3dpYviyczh7CRnHgUeOPfU4cHMcPoiNa3/AFJ5D0q93YOHoE2ULD2G6pWJOHaU2whEy5belbJ2W7YML7XYB+BY0eVqsCE+PIzFpAPRmIeJYBhXuqtjWCaHJ0ii0StwJOVERJkkPji6MxEtOwNoeD4ndD0HEOz+QnadTZ+LuJyUmA3byO0mt09LkU7j3QibX5eNeFjbFErgnC8/iOcA4stICJRQgg4vq2r3xivF4vWre6OjlC2MYnG+6EI+cpiMVqfdW4TgYckJ6nydRnKlPO/uWEASiwfYLUQqvA/dVYexRXpah1qjztCnJk2Qo0xdDdpH9pvsr6e5LwZTaRs5lsRxJMCqtTIi77MLoIgTWisT7tSTlDi4JqYywDUos4QnGC0jhuFoqhvLaljyT2TYVPENSk5qclt+MAQl2ud09ZevhevQMVYXo9cgQTgQanA34wYwXAtKd1pMxB2B4ehxTMjix5dz+Jq23sygbjZbgyHf/i6Hk/1oljm0jbNTdmuJaDQ5qmzU5M1ghETgtEYPsk25y+7a7tSpuyKWpUWpScec8IxygQty0RD2OJy0b3SZlObddm8rf+5P+ovT7uWOMWWwZIw7TizUQn/72inkp62I+6xocnMnBwvQajX90IlFjAHiw9nTbq6F6OGe6xwJWMMTlTrBx6ZPyI3SJg4oxdPxbVtvZ3hqmYHwvSqPRZPvWWKVh70wAXRvZzERaiXJmzfBlHxH3U2IZaZkIBSFHjzE/ClAAd0ZdBC23h1Kksti91+MnOBHnMDVSBRIpDupg7SMeK61b9oeLKVjPBUbENFmd/IzMjGIXg0g8XlJePt3KFUNjuMO+g3sGBJkUIDDIThaQ8K1r3NkU5bubKxM3iY9+NPlag1H3Pu17D+yuj4ynKsE1OVKpzI97SMuFx8zuss9hd10cjOQfbDgyekabFK2NBDxvnLxe5AwTTqrHrGLp6WCajUyL3rKgYO3MbpuImrpvHWHqfjjCFYo9clt/LFKk0zAXQSAXCQlpJT5KW0GryOKKVJ1ekT4TkhOC6FGgh9Gl9da92m7fsNbPJ7wPDgx6xiEre8ZS5hcxLVvcuYvmaDsy2llEM44UBseVg6QLpEhIvKZate7EdsOEMC1Ct4jxZSqpU8T1OK6FMS0GHFGDDzE1xWl0l5qr2G3KR3WMnAqcGUxjhWeosGPlmADJzEJXN6q3Xi7F1PwngWfxbfPU2BAGPC3Xww9OVq5s2w90rgDazgyfo8xh6t+Eui+Tm40GGRQYnWc4RV1ExRM1XuKa3CnHl3jH8HQjLMY9EQYgp7DN57uqsMU/BknXIknHKsTxRBhUgD8aAha6IXMvZhbfKVTNmVNxniaQORjT0UhgU6D77G9jULliPcs7LaMOCQxnU5CVqNVqcUhgd8QN6MtBBw2utd0pe6q2d4jxD7W6/QZDv6To8JseUghk9gnD4sdKkedF7qqsOObDZ7PeB/fd8YE7d8Tsq3Ts72l0HapQTqtDMxOATY8pG99li+cK1hRe7Jw1NykGlYxw3PUyMUIYUcIMASlmtaXi8yy7YtgzAVIk6rXsBVaPPyFTJkUDaO5JzmtzCqGyWddFwjrQThJKQ6kSoIrsh9dihxK1qUhEtCBNVoWNa/mVJRSY4tKvIeRUR7Rb6CCqARkJuVgpYQiINZqTiKBC5lWRddXNFVkPUQRcoubcBqPFo6qCsnEoTvbmVeXgQRdwGq2alY1qpIbsgPWhmkle0VDRUEgi4haKV5Jtary2svcgGkXGlua5MQuS9VAmppJbiTN4UpeUiHj5rU1qr+omWLPzJ0nMpQMnG1IpeglWCSpTILu2mclcTUIhYnER0qsSuVgIFtTjw9lKJJlKjCRGTtGZW5RaP09lVDc9WCfkIJemBKP0/nTZbh4moH+EXO2DGyPdTVuF8fFiD8sMV0OPvjlpOBgnEMj3QZ4nh0oyokUhLvkMoWtRsWV7a9mUPaDhp9PABxJTnRZM8r+KGRfkWisTbSBxxsfCj1V8LE+HpyGMWCeaNDyu7K66InWl5i5324bD6lVa0GI8JyG/jTls5KQczujLE/+6oZbVx8IdzVbopn5CXodznH3uyiTH4qciD2em5e5gXDkeFs0kMP1yTOEZQIkKPBPMHsrTlDw5ta2Nz1VpuGaUFdok1dD1iHD2lI93uqyEcOYbLKffjh8lfbt3/TOwGiTPxXeXotWG4x2c7UdpFMPEtflmz8qQwpWkQW2D05iatnY9wZXq9sIk8PS0gcWtwoUF0vzASo8Wb7MJnf7MsHxSM/1m35CatI4v/uf3U1EjsbvRgl2sq3Tswpk9RdnOHqbU5Y5WpSsIoUWCej2SWu9oOAsR1fbThvEdOpsSPR5WFDCPMPyMLUkTyboxVCKJQ69C8YTpOYheaS0l3Hky7A2IYGuFPjF/s2re1RApyBOAARCOLCiCPbFae7m/A9fwLTsTy1fppyffUeGUAz1+wROU+J+zEe5gmoUttNx5TzjNjRymN0H+6I5dQG0RPeXBcZdXoXIQ7D9o0LaNiGuUZlMjDORJqRmTO2N7JOEe0vbq1V7obEsmdJmKP3iM1bFm5eGIE3V1UOryu58gFUMe7SIVPNshNQpoYXC7pIt2sP2I7N8X4uPEkrh7GB0ONTj8fBCOQlGuIXNH6y6h2RbMoGzDDxy2+3tVnPGzUYP9WlYBj3ZJiqg4vPH+y+fhwKrHvmqdpMuXSTuFUp5U93Pu0uPITMGobUd7Ibot+MaaiFDbzOUy2E4WHu54xtT5WvSNagkQxd9KZQLhSVj3ftokn7X6tIQKPITVseMDRePZWx4ey2HhzY/VcHUZkWcjypOjHbvoymyZcXndy8QwtlMGIJ5poiLyV721LCeBMfHIULE0/Ak6rE/WEYDbHDq8q+PYNhWs4M2fHSK5Ld6zm/cIP0qnbPskLaXIyE5Tp8JHENMIilYp5THhRUmAR+582n4FeWCcbHHloF0KRjRyEjLhaVqy7YxtixBiyuT+DMYye6xDTnX5SszDE0rGZas90pJywSPRR5KOcIN0EwcMXGPRqWU7FNkVTwrV5/FmKp8JrEk85wAeR+ZyDcjbmjxCuYO6FdSNreD61Ng2m+LF/N0FcuobRuFYftL2aUzafhqNSJ49xGhE6VmQzQYnqqUtiwo4RxCZhXQZqEJQjfp6Vyd3UJDF2qYGgS368ERGzMHjLV9FHofdEYClfANJ6ZKq0qTtl5gzE2DyuuWQbMNh9chYo9vG0KfCarzt7AlHuYXM21Upj/dSwClsd7Oo55xhCL/APcQkunphxzZlmcQ/iWkO6C2ZYn2g1PCs5h6TCa8GEW/B4iWYeJbtPeCQOzjCF3Wapknxcy4SilK91tUgL4cSPzV0/0iTm+M4Vo2X2X4ngd0L7cRkw9rzfft+Lsrcq3l0tInc5LDxeFjyAM1gTEkL42QjfihktV9x7HItldVh5mzw/jhrc8/JjUKdMyMS0I8AoRH1xauacJbKdsWzKqxpHDU/Knh6LNeNvFsaH0FwlqW+Kol2rfpbuncLR/tUFdbRWlPXfGl6S0DtP2V4jxLtcw5iamQYBU2TEd+b2kHsNW8TiFFjbws5J1T4uYO52/S23faLLZHd9ektcYO2U1HF+2TGGGBxJNUCchRY0UThOEow5tPsOW+tmOzDEeE9s2J8VT0EBo9T326MDu+rltX07Xth83jGvS2L8K1XwVjCV15Rjexlu0kqsf7MRHuSa8N0TapURAfunrLKe5zwdhzCEziEaDjAMRRiaMcAlShbkuguIlhUzhfuk8USfgiq1WVlZCPbHmXi5vZW69lOzKn7JsK+B5aZCcnI/jZqb4y5VMlM46S+quV+6J/S23DZvM8W7/FGXU/SV60ftr2U1/HuNsH1mi967mkg2PvjbqdakTyYv3ZcIRnsHzf28vxkK6Xp5Q/BUm24CgQVqHujNmFc2nydBGhnK76RjiZBGNtrRW16ZCKWp8hLRzhlGhQBhFwu6BRMXMs0XefdlyEcrXbs+y1bM2g4Q2V7YMWnhKszIQsYSotCNBti9XmXj1jZJiCe2803HECNI+B4UKGJPPxv1BblV+2bYRHxxX4WMcJ1WHSsWyzb8ozHDdpJb5HjFhlX7lzHezyBM1TZ/j+ainLCRd6RTKETegXNcVqzHYptbqe1fZ1i2RxAAFW6ZKzG9jBbvh3ZZuZYrN4R7pevSJ0qoYmpcCTjhuosYI4ub05rhW1Nk+xuR2V4KqVKlpkJysVOBECamzymRi1o8q06tT9yFAOobNNpFNhXRoroQfziQq3uK6rCkRxhheZtrG/GPuT4QIhJZ53OuyaubJpPEkKtRpUvCM0JQO9jdb0cS8Xaf3PFQqeJ/bxs7rHgXE5FvYsF7YUYuIS0/61Km+61UJSjYcqtQqEbcS0CVjRYsY+qS5d7iFkzI7QpQTsiiLWf6yIVZNbFtt20EQpWPcZysKgj76EvHcR8ItFZ33PGxqtbHanifwjMys1JzzRldyd1hOuUyKubNi+w+T2l4mxbh6q4knaFWKVFLdS0HNMeMJ1rv2luKe7iuh06RnJ6oY/rEKTlYRRY5mGQejNqX14s7nOtYjqc5jbDeLIEDG3fUSOUzBtgH7PwfKXQvLqexvbvjiVCj4vxzKhh6KQjMbk3EY9Ucy6Wt3DZHc0UPCdDwnWIeDsQzVapsWcF8aYgbphNW4Dc5Y1gnBlI2d4Vk8P0UGy0rcUY80YtREsj6WrkScq1f8AS3dxU0/jRhn/AGa6axtCfg7Eg6ykI3orVVe2N1ip90LStoktPyI0qTGCBS5++/UFpLcdYlvC9Mn5ETb31AiQn8HsirlLuT4ucO4liD7n+IQLRPCvi7uRvgLBMUdM1E9IVsXue9klT2SUKsSNVn5WZOemd6Pe2gehL3Q2yCo7YqDSpOlVKVk5mnRyi/pnKfspHkqXixXutxOZ2CUSZG4IRyRF/OIrcOyAhqGyrCUzCuDvCGLw4ugrk+JMBU3Gmz72nV43SxScGBFjQdEQBHxg9UlzxStgm2bBcudFwvtIlYVCKKQwgOIQkA8TdKmPGJ+zz+6Hq8nM909gODLRgONTjl4U0zQXTGcI+St87Xq9strmJpPZ9j2T385UR3srGMGsIuGJpWoonciTkpWsK1qRxVDnKlKx++qtMzzv0zE6Ijh3fZW3NuGw+i7ZpSWiRJw6ZXqd+tajBB1vTc0h4XKpS7iva1nXu4Yp8tHmZrAuLapR6qLdxBjO3X3wbl9Pcr7UsVVfEeIdn2LpzwjM0ciiwpt7iBhNIXah+svJHYft88H+Di2ryveBDun78nN6zXLbOxTYpRdjdNmYsKZOo4hngIpqoxvRHtKZcWtL7MHB3amKhh3b0ZovNXWky+ETSDSIrnfal3Nk9irHp4xwdirwBWIsId/mG7K4Yg/X/bW3NntDrWGsI02kV6q+FqrKm2LN8flJNnizKBfEMeIvmrkXuNvFbQdqgcJEX9sS65lojYgEXMS0tsX2KT2yvF2MK5M1iBOQa6BFCgwQJwezEdclu2pHk+LuwB3uwuq8s1BPzlnWwuZGLsWwYPDJt85V7ZMARdqOAalheBPw5GNMxYZDMRgcP1OqvY2a4Wi4FwFRMNR5wJyZpwboowA0TSUuJHyc54sibru58Kx/jSh/9Ml6G3zF+LscbbqJsjote8B02OIlMTEK0jIxcREXV/UWf4g2IR65txw9tGhV2BClqc04sicAnm0dJL5tt/c7Se1irS2I6ZWzoWKpWEIjN3box6Mrm3CQqrRsmPiWH3G+zDDNMnqjiWbqNW72gFFOZqk6UIQLo6qwPuEyg7/aWMoH6WGPB3XVdavule5cxniCOEvj/apNVOggYulJQ4jow9Yl7Wz/ALmWqbMtqx4gw9jDcYSKO46XdvI0PTDLSkuKo82K4sHph93hh6J8bufRWad3Fhqdqux4KjLwji+DJ4YsdmgT1L1Ntnc5ym1PE0himmYgOh4hgC04sLWI5S63Qs02a4AmcK7PpnCWKq37aZaa3m9jTLvezzDdcpt3RkzxX7A8SyONtk+GJ6mGEU5OTGVjwX3QYnRxCse207fJHZXiGg4ZlqP4YxDViEe9gNu5HptHtEtVz3cgVWh1ycmdnO0Kaw9IR/3PGdZ7Om3Msz2V9zDTsD4oDF+J8Qx8U4qhRXQo0Z26AuK64iSsYta/7rmF0w9sWyY4gNM4kFwcHjbh8pdg9JOnuki4lpbbRsQPa3izB9cCuw6edDiuKEYO3vsFvLVt44ohHCIOTOplI8XIWzT9Ld2riqGOoY344a62ykHVWpKFsNGjbcKltL8N70JqEX6R3FwEQtzcK2wVxHZwqskrSI8VpW+SKHaS4lUQ70vGcSYbvKUh3ekSBLIlESaA9ZQ4m9lBPvWs8uTgVn1eMFWREInfwqBjk43Hq4EFrrnP1pSijZfqSOcVx6kolkv8xBecVrL/ADEu9cLnhlUPIrn6VDrc/mILHDxh5CV2e8EETsphm4FDtLwzoHErmvDMgDuzgSr7YJhK3OCAHsIK4TyFalcTdGVWafg0DeQi4iaxyXNwIUqWjaLWAqiFwt0IcWkAemagWEWkgvVjlQ0DmbbjKESty2qkho70y8YnFuUXqIufWLUds0A+74RS6/Wl0a1IldrQOJW60olwmdyQXDrN6Z48cdAP0vNG9EdZpXXZzFBEWZ5oDf8AFGO+1MWVrzS2lrMmp96WV5oEHLcadwnlNS77ol3olbegnt6Ezrkt2nSmuvzsQMRCKhIRFFRyqVG4CRmu0Cl7CLRtJUkQoox4W8EDHrptWRKVw3A5qXzVKl2UgTDxMVeq5G6cWRA3Tb0rQ3dnW7BZn/j4K3t02saCxbaRs8pW1bCMXDdaOahSEQxivlzucKqHJMni9zdFIdhGBm/wc7+0JaZ7qbZ9UMC4ppG2/B0Pogz9NmYfhODC18MQutl6V0ngzCsjgXCdKw1TnxZCmQNxCOMdxi51y9Kep8pVafOU2oSYR5CchFCjwTymPSqsONe5DxGOLe6SxniQZbvXwnJxpzvd7mPiDavNxdQMMYB7repRNpdKlo+EMRmUaFFmHbgSiZYhex9Yl0jsr7nvCWx/Es/XMOTNRKcnIW4ZMmJCEMidast2h7PMM7VqKFIxVSgmZYSLdRgtjwS4oZKrdwwyobK+53pFHOszdBwmNKhQii74J1zx5brlj3cr1zCuLI+La1hfZ1I4bkIBjAgT0uZEU2Lst2Xsryad3DeziVjwjmaxiKck4ZO70jRhET5bV0Lh+iUvC1ElKNRKdK0+lykJsOXhZR9YuZJSHIe2KtjsC7puZxtAk4kSTxDSo3V746YbfxLNO542exa33MmJBnpUIk5jQpqcHUX2vzv1Ftba3sdwztppkhJ4j76hd4k6BGlDESD2c2ZZnhqi0/CFDptFpEHdU2nQhhQgfp6ElIfnhgytTO1SkbLNjsSWiPpVbjd9Hxy/QVw/zL9G9wEtAgyksAbmAIwoV+notFatwZ3PuC9nmPJnGdFCdKqzJRLJiM6FB3mZq2g37m9TKSl0IR3oCbBAmrQlD7oDD2Ldo2JNmm0eiUumBIxSCV8I+9Ri6Ca27L7IsLoW9IouFtjGrWW1HYFgXa1OBN4hkI8CsC0PCMie7imPRpLSSRS073R2xLYrSsA1jENKjUqi16TB0rBp064ZiI7KUN3T5qnC9Xq9Q7hGvRa1vyPvWNClY0Y7jg74d32dPQspofcYbLaZUYM3NRqvWIMI/wBbzcz4s+s1bpxRg6h4qwTOYOjy3etEnIHeu5lPFbmH0XC3yVVhp3uZ8W0rAXcryGIKxG3UhJxZiKXEfjLRHm6Vq7BEan90btPmMe7Ra1TqZhKkRWU+hzE6I70hyiQlp1dPEugImwjBcfZVJ7OokGojQYEUo4EE14/edJOzZVgX6CTZSROKNiIuvOj6qRkOgZfaHgwoktAlsT0HMyFBhTQ9kRFcabaaDQ9mXdQUvEuMqVDqeCsRA6LvgdCAum0i6wZltOR7jLZfTp6WmoXh+LGlo4xRA5oW/U4rVufGeDsOY/op0bEtNgT1N0geaCXEJaSSMoxGC+07udxofhvwbgwqPut73wEfT1XLCu53xRhjHGL8TzmGtm9LotBpniIFXl3DFjeyWX5yqgdxNstgRd53ziIgC7cnNC0+XKt84dw5Q8H0YKPhymwKdTobWwoPzuZTIfYMV8QChvY4hvPSuUO7euLZ6H28vSXWhbsSAR4lgm0bZFhfasVELEYTr6TFdAOUjNfykkJVkMd20bdansQkcGTMGghPUeehQYU1MGeS0bes1fbU8L7B9rdMCrx4OFo8Gc/dYRxgRw9nNl9i7oWf4jw9Q8WYePD1apQT1HiwhhFLRv8AVlaWYS6FoeL3FOy2LHMwPEUACJ25CaFqqMo1Gqe52k5XDXdNVig4Fn5qo4PhQowRYz3QjhjqLSXsF+ou4TIst6xLZ9s3wrsupng7CtKCTCL77GO6PG6xLLIvjRaw2KZSGoNuW3Cp7FJnDc34HhzlBqMcoU1MaoXEPkr6qvh7YZtSpHhKoQcNRYM1Cd32EcYEUPJ1LP8AEeGqLjGixqNX6aFRpsUnFBjcXEJaVo4+4r2WnHMh9sUICL3kJoWh1VUZRGru5jEMO90fXqPgSpTtTwPChRnnmExEfFu/pLeheVsbk8IbS9ueMJzatPwI85KxS71kajHbCjFvCFpO4B0rsTAWAMObMKGdMwzR+9Q+FjH77Ml0aohLAsedzDs72h1qNXKvITsnUo98WLTo27eXTxO1JaIxHuiscbLcD7K63hPDkGjlVa1A71hQacEMigi5ziIbk2wOelP0JdVgS05AizMCVnCiwQO4PZImuHqrNcJ9zPsywjT5+TgUGPOHPwigFNz0Z0UBLhVuBe5/wZs+pmIZOkQapFCvypSs13zHcTeVqdZRGu+4dhEOzevRB/hFtnVXkd3LFdRcBwC1TkYr+yt/bN9mlB2V0WZpGHoM8MnHj78u+I7id0r5tpGyTDO1aBSoeIZaeMKYRRYHe8dt3TxJbuGZ0zxVKo4sP9Zy/wD0xXI+zct73b2IYuZu8/6a64hCMCBBhQwNkCEIjfpC0VgdF2SYXoO0Gfx1Jy08OIZ5zjOP4r6o6RSMuQ5tx3T6Bsm7qU6xjalBPYPr8LejGjQ3CBELXN5S/VXQM8OwGnUiNWTk8HlTYQ714NIj6o8Sy/GeC6DtBoZ0fEdHCek7iF+YC4hLSS07LdxzstgRwi97V+KA3bmNNC1LC/udcVSO0Gr4krlFwHR8O0GTdKyc9KQGx5n2dJF1VvTMxvWXyUilU/DlMlqVRpCBI02VshS8HKC+u7gzLBx33VtXhVDbPg/DGI6lHk8GeJKPe0WmXjInZW+IVV2FbLqVBqch7WoUtLQh3RwQGLHjexla72bule7tB2ZYZ2o0yDTsTSG9CAToUzBtiweqS19h7uTNleHqvBnhkKjPHCK2DPRxKE7qrbRGpO5XxZSqvt+xnWSmQk4NYhEUqEZovfGyt6q2TTO6X/wpVjAGPaVJSchCixJWBGmYIkOa0ojtPTxLLp7uetns5jgMYjJzUrUoRw4oy0oYwoAEHKvY2kbIsGbWygxcSyBnPhb39L+Kjt4XcKSlEad2/YQ2GxcBVWqwDo8niGFCEpPwWbSjROktQ6lk/ciTNTj7FoI1ONHIPCMbvXvj4lo5eVymi9yhstpE9Bnu86pPbq7czcd0Iy5hFbrhbiWgQZWBBCBJwBEYUvBBogPKKW7RYMUBig0wfmXGVaq8PYN3UJ4hqYH7W6tHKKMyAZIcTN5JLs3e6SNubQvBxfg6g49op0jEMgE5IFcLwuglxCWlIyHn1PbJs+p9DOuFjCjxZPdFFEIJ+NjexpEVzzsBlpzatt5xDtPjyxytElYpRYBxg1GTRH+YVsCV7kLZTKzgRylqpHCETtzGmrVualScnQaVLUylQYEjTZUWwpaDAaIKv/A5FrVZkcC92XGq+IY3edNmssyeVpi0SLlW99o223BOEMJ1KagYkp1RqUeAUKTlJHxsWNE6RavZ2ibMMJ7T5aWgYjkN/GlfepiCDY4D06XcKxjB3c57NcE1U6lJ0eJOTLSEe/vGiHMI8SWiNW9xN4+BjaZiGD4sUXfzrz8Y1qmUPuzZOp1mfgSNNlRhumY1sIPF2rovAWzvDmzQqr4Bgx4HhOLvY77rl8W0HY/gvabPS01iGlHFnIAtGNB8URjwk3Mlh4u2TbXPYJwFTcXYQOl1qQizm4ixguFvTcnpGONkW1vDUhU617VoszFhNjwaiDYsGJq+ssuw/gzD2GMGDhCTkAPD4iT5SZDevdxLWU53KWyuoThzPg2owN+TmQZohhB1VnaNHydMw1TO6cokLZJOR49HGPDKOcuboQD8IIkWaGs02n7uc7sLCsKxgkI/I5dA4A2b4U2aye4wzSglY0UPGzZg6PG6xL5ahstwzU8dS2NZqTjlXpUh3UZ/ivqcq2w0P3VtDnsJ7RMN7SaeG9loEWHv2fGAWUusK3xQ9uWznENMCrw8VUeVgxRdFl5k2xYJNykKyqry0nXKfM0+pywTUhNC2LBjA4TWnJruUNlceZObKlVEQMnbkJohhByiiWhMf7SpPa33QuGKhSv8Tyc5BloB5XszEtp92RhyYlalhXH8CTgT8nSpoYU5KGDhMXbwXcpLaRbEcADV6JU5bD0CVmaSQ7jvc2j9TK4dSzueGFU4EaFOSwTUGKN8GZASEx6qWGs8NY/2FYnoctU4UHBknGih4+Wm4Awo8EtQtWD4a2jUjGu2mDQ8CYMw7FwxTr5qr95ZPY1CXWt6FkM93KuyuoVA5k6DPQt6REyDNEMIOqtk4OwhQcCUgKZh6lQKdLNHemGaMXRqiFqU9aj2m8jQ5Fp/uo4u72KVtuco8FbgK236fVWPYswnSMcUY6LXZPvmmxTcUF7bujLcqiMX7ngN1sRwkAhmhF6S1F3Y0Uo8zgOAXx66TodFpuHKLJ0alSYStNkxZCgvcwesvBxns3wzj2PSo9fpvfUanE6AYR90zrcSRU1j3XdKmpzY7RI8rBdBkYsEo58A9MMblk2znbPgKLs5w8UfE9OkTk5AZWPLTMdsUCDlWzZ6TkarInT5yTgTUgULdFLxspj0LVH6FzZWU4cyWG45G4iYE6QwvJ4US0NifaFT9p/dMYPqFIeVHlp+DAlYx274QzEs07s0t7iPAEAfj4n/AFFvCLsowT4aolVHD0CBOUUR7z73NogXRxDqV+LtnmGceVCmz1fpXfkzTyIoBhHaIezxcSeSmZ0wd1FpsPRuoPork7ueBKc7o7aRMl8FAmALrdMT81dUDFbFAhAPFWDfk4ViGGtnOGcIV6q1ykUrvWq1N2/jd9ET/ZJ2XrJ4jzNvkfcbFsYc0AR+UlgWxYu9e5LqsXihT5+it04jw9TcWUOcotZlt/TZxu9gvb+pdmFfFT8E0Gj4TPCsjIBCoJDuilt+549Oa7mQcl9y5tdoez6LWKRiaNElaVUyGLAmz96CN0Zndlbu2m90LgnDWDql4GrcCrVicgFAgQZY3MIxa4v9yycdjez4cNe172qwCpW9KKPjyKKBdPDEXn0HufNmGGp4KhT8MOnIWXvuaKOIF1VX+wwnueNmlRpmx3EgVKWOFOYuEiEDtIBaQw3cLiuWE9z1jvDWy6PXsCbRKbKyE5CmnQp6elRK7KQk4cvTm6CXXZRzdcwnrCccbNMI4/iwYuJaPAmjhWhMQT3UXqkQ5vYUjAdrO3fZ7hXDzcIydArGJJzxUrBlpISGCXEVvmrztsE5Wv0K7sQycCRrE9NS5R5eXgDCEH3NaOpqzvC+xTZ3gme8IUjDYDPwicMaZjlHZ7HC5ZViqg0XG1IOlV+TCfppEJFB35CTujmFOIxfufoYwNh+CfuER33xYltW24Yg2T7SKPAjywHg+aESixmXczS/1LbdFpkjQ6VLUqmQQgSEqO6hQXuYKXEFDpWLaZ4MrUhKz0gfwMYMnMJaSSJKTB8UbQdh+KKHORa1P0SelosIjsgfpnlbqctM9yhTI8TEuMKlTIM6OFSEoUA41omTresQittD3OOysIm99rEQjc4XzRLYkjIwKVT4NNpktAkabK+9S0G0Q9lB9QiKCF2ZDXC3QkHeagsVJM0VSV1yYiE0FaNqCvmJiqJ2bQmIvOQRPQJCy3MI1OtQP9GpuLWgUivuVRETvzFZmK1Vlb4x6AUEQoJyrJ2ZAexzpSEc1isdxKssuflWhCLqJdSbtpeqaCvrGHkKeru0FcSUiLSaCu3kU+QouUcfqIDyEF/RqHDpUFdciCnypWo7ajKg8ZyZVqxYswpkqEFiEKAQMCdJyp0DJvLVaZELBcnEiFVOTjcTSRZspKzMq3qUQsEia7lTdvlVKsElKlo3F1rk6p0t7Kd30/3ILhHUlIudGnqobkdxIGERcncTbfTVKdolaTEDkLcyCIitH00Wu0KMgo1DyhaHHxvV/KQeeqm9CYGjcwOJGPpG4nM5k7Gg3h5/rqjlVwtd5yNWsu/PQJNFxX6lSmd9P9ykXA7L89Pvzbr8tfNvbnM5lY3T1RQWiVqBJVCVybTcgl1tyYXDlVV148ykCHMguK4nJbRHsqFOZA4xWk2zMrHdHIvk0aFcPKfLkWC/KTXhbYncPJqVQlq7SZw5XoGIRLKxPblszKoSuc8MyZ45stqC1wtcTFPHk0iqrRteGkU29cXlIG5rNSIWW3hS6fp+2i3UzMilvrIcJXKoSHzfypvzRQWp7WpBNxeUXyIyj2USYSEblaV1z18xNHNxNVkKLaHaRS15tz8SZ6pdpVjnFdqQWOHNwpXCVyX1Ez0DWuapHLnSDxEaHCVvZQW2aTcnEi7FyqErQLKGZNa3Pp/Kga3UrRK5rwYRJHXZ9SUS1DzIPpEtXCJIJuXkEVQRG02nwq1wkbhyEX5EDEIkTfFsf+RKY7+Bux8UZCV/AWkkDk7JJStIOyKDUmyih4qpGNq34S38ClNib94eKmYnSVpD6S3EPpERfIqyiGVpG64vxKBK3ylEY1DllzutV9tgqgbrX8KYTvcS0WjFuTPFI5S5yCx3OjNaJqt3Ch4oBguc/UrBtLeCx5OVI3Xa1Y61vKgZw5eURT6tF5pCc7tIEhzFzIowuNhDkuJRcI9lRpDgam4xHlFYlJtcYxOIQTOuc/MRJBIRHhBxEgYrgAhPSSlS0bRu+KS8Yv4RQfCPKmzE7m/IqSkSaVvEgSydpRwEPMSHNG072oJIm69KkifFOHZpQ64+sIqBIXNfqQMLsz9SYcrrEb1oufxFkS71otE9PAgsGL1CQ7TYxV725pG0LdCZxFCdZwoHIt6Sa1zh3ebIktFg2Wo5rEDCWQrFIlaZEGn8qquc6xOJWnkQMUISfZpRF5eJQ7spffYt2RyAzEA8RIHQluFljs16X3oQz5UARRRhOG63Imilun58g5EEVptfaIqo8x59KByi3a7jVgkJFacTMqvhXCZvcpGLcHvgoGgRSJhE8c2dMJEy48oqveiLLzy8Cbe8+UeBAzhHXp4EznEYvSlFJx+O4UFFJ536+BA+9dr1KHc4Z+BLDLIL9SHFY4+LQgd2p6VxOMrLRUiTtYMah2p+lAOzlYpIuFiRzLSMNKlxcetSpZmJDm5kotLy0PczjVJWcFiAHiyKsW6U3qoBo702hpTF20NdlSjeRiQGgs05DS3ZbxSl28yB7aAIevcjlF6PLRdwREDCXC9D7dbFW4hyvRvSv9/QWFFEeNiHCVt6pc3jU72Jlv5UFo8JPFN9TjNU3Znx1YR2tvQSJW5zTC3jO5J5aO2aBt6W/boUkWdJyihpNQWKMpW8SXqqRytLeIJzI7CjMgcyBreBKhpFaoa3QpUdo8CndC64PPSiJcCB6ipKxo5WIaI6EpOHQgeogYRaNwaUtoimudk0pSdpBAxN5ECORNa61Vm0WWZyQMIjpYmHKDWJRFnAmHLoQD7fg1B2k2xQ6zQgm5XoAeJ4JYREItIw1EgmiWhDuFilQIrc4Ij3QjF8PlRaNzwQ4eRWC0crBuSlmAhYmKLfnSudr1IIixxHWCBISG1DSzCYEgSszolHbamErgF6UiJudBEXHYJIBwlcR+YpIvRSiROzoEvRQO4dT8yRziaIakEV2tK665AFy8CXsGjLoTaT40UOAmHmTCI6QNVtHNxJm23B5CgDbXCChv2nVxpd04smnjQQuLJ56pKRhOywT8tIULkPy0FaWQA7aGtuY7toGaObc+eqIBOG0HN51JQi1QQ8tQMIbxYHlrRa1vwPnqshLLudXGot1QQ8tRlLID3IAh+0+epaPB56rLLkDy0NttCGgsbdkh9d6raTTs89HYBDrbgBANttBqBInNLmSdXdo8hiCCIRzJN6JRbeJNmtLUq90Ii4dKBriLnJJvSzE9TcocW66ooJcQ5X2oGKWZ53Iuc+/Mi6yHfqVC4opb1xGbOoqyi5GmdyUXC/OoKERF8PqQTvXWvPyEjm276P5CVpWF496a9zWR2CWdAj+eJ97UEV1xx3jyIJ2Xx6LtW/QBRW3PjsRvc5CcfSkLQPj2XIubbvxQBERZnkmIh+3pWlwRECN2Q0FttjXpXEVt9yUncBqC6hrRObj4VDhbrSiLhtCIi5yAMrnZkpNEUreJLFRKCIX2ggbVYIiNxKh3D1kFpE4rkpiJC2y1QOVTa7QgW3gAUtvI9GQs4KIrSymAqgWkVzEwt1MuVeXWBJjIctiCWi7RaoL+jS28cNDr9HkIFEhG6xT5Ci3SYeQgortYeQgLeRDhy2KHOHPf1EOEbn+YggmtzgkhE4dCHjFF4nYWWxK5pZ28jEFlo5mKo7IpuMCtEh5ERSie9jGa5F2kzEEFO9Ii5FYTdTEt789idAhOHlTOtuNKRcKh0RBOq1B26wTPJtxpScL89qoI8XOS3XlmtTC5VkVwOzoAiIcqrIlZdlVBQiEnP8tA5KgryMSVzFWQmOZAdVSk6qm7SgV7SVZHc1WXFoVZDdbkQGbjUFbxqbREyHOqvZ5EBdzpSIkXJCtK1aAu2lu+2IJyT5yCW9dL5alrtChEFS3fbFBk1jkzEClbcqz0KzQqnWOQD7VWmSoPFFN1kjh0ocsWtchw5VU5TzEguUgqk4tagtT/OVYJxQNzJgBqXyEIGVg2qsUyC0MyYsiqThlQSrBzJB5jT+qpBo85Nlt7Kr1NFWcxHzox9ItRp51WOXP/3J0anVnTW5ngq3qx3OgBIUW2OU5btedLmtQWC1oD9PqpkP1IdwoLRLVYgcvmqpzrRTiV13WQWark2ZLpapKKLrTbegsDhLS0UcyR2rtIdn5bVIfSmL1fxJdXW/9EC7zfyoGdqLrISuQ7r8SCxynKqbk4kTjInoLSdm5kdvmQJddFzm3oLXWtfy5Ez+dUEXOaYSJuc8v5VgtcLbk2a1+YlVaXxmZSRC3WguEtXaUiTsxqgiJp9kVc55dpyC0SF30/aQIiIg7SP5VWJcR6VY8SI+s1AajHmEUDcwusaHFm6xJdNv09lA7mwruFXau2qLXdpVxY8SEANuc5B9OZnlKzNm5VSWW7U0VYJOLtEilnrKNHZSaPhMqLntQX3CXmoEudV5kOdxoLiaQtUOaThSOdmRbz5UFrsiZzrX6lSmdkbzEguHK56NPZb8qUbhQ67rE7s9CC3MXa/IgSt7LlUJeiRK3S3lEUFmXzRTDm7X5FS67tfkTCTmNfaJF8qA0g3hIvlTFwjxCKW70RQJauYkFsIvSIkb2zsqoCaPZVnL1VIciuamc4vOVI3EBFxkaYbRQXOJSJEk++cKBcNrzzILXESLXdZI70FBRbrkFjhsSEVreVSLhYPEjdCBHzNQMVon2UwmQ3cyr1dYnIdb2SJBZCIRuLhQLRG3lVdrT42iKsEru0IrBfa65+b8iUSyE/iJIMXJ1iRp1+9KVHLK197U1xEd/CqiPxptfpFSJXXPYROVJWATiC/NFJSJWu6ySEWQnnqJBEWo8ooHdbn0piFxG43NygoEs97dKt3t1x6uBBURCLL2vNS4SECegSGwnuzJC5j0oH3rdYEmaLrVUBNzZ1aJC4+sgsIGpWiVvE0UpoHMBIH3Q2DzJGiBOQLmgMTOmtbk0oAt21pcCUxFx53tFEVw6DJKVpa0A0SIxF+ZMN2Z+ZJdpfmVolkG9ACI86XIIE88qYWtC89SHcRxMqCvetHOeXgVhRc7jMrRVZEV/jjQROfegudnv1Ksory9+zkgookXv2p2RMNzCfqQMMVzCfxKRLn0pBLJ47iTOttjaUARC3PpU2m+9I7PfpTb202nlQOetMWbtJXOLtJdWfUgCLxsGGPwpEmdksvSk4hBA5Q1G1AxZQs0otzDkagrh7KPqIGajy8yW0iyNTNcDWHmUqDRysPOjsGl15DzJhIczIiCbW62JH22vQIjqegmstegURLU/KmzcaCzfCIL+nVJK0tL1LR51Ja/f0F20DOcLr02lt6XTaZoErm3oGzazQ4ee5KRC7Wj6nGaCdGtRqQXbS2kpUsUFyqCapyEqSkR0sQ0Wocq7sqCwhaWSxqMtrEXENoKRy5NKCCEeBDWnksUNcVwAp7CCWJsrLASj1ARwIG9nkRakaXIi5rrEElm0Kx3EqhIW2pdeQEFr+oh3itCQWtdrU5R0PQM611iCLqKvRoQ7UgsddcxGq0wVQk4s4Jnc8O5SpJFzghzbXoc3KagiJtxoAi50DF570OdcJocPGrEj11G9Lj8xV73hNM7S9Epc64j08Cjeufelc57jSkRNzoLnXtVLuLO1G9FziM0DcSCIsWI2wPLT/USOFK9Ba0XKrdF5SUt5pZagSIWDmRSwh1MQ3SIKtriA2aWprj0B5aANuYgBBC21gZeNVk0dAH20pDyAoFhCRE0QBITne8hw51EVoZgDy1G6FtwB21SQ0XNiAHHnRqcwEpELrQgWpXXN8QtDFCuyAghaNoAkFund2qBut8Qgkm3iW4UETht3Ci11u4S5Rt3CBjK7QpIh0sUaNCIpN1ggHafF3I1dRLaXBmQ8c2ZA3LzJcwNfpRlQ5zL0DENypa7jTEfE+0UdV6oI0m5NOtS4hJt6gnJRc3zkDgQkNoG9qlvXSgBeUSN0PB56Bm8QGTedKQkI2geXjVbXPsbdxo3UMibufPQJuiGLcB+Wmbpv8tKUIW5PPRurcnnoGER+JPy0reQ/LStH4kPLTFAFzhAPLQBCXAflpWi3IflqtrWWAXbQ12YA8taGbyH5aa4RNKTcrA8tK1w3AFyCWtygaVnIltEdDExNdaAIGbpstS2ttS2saWlNagWK0krhK1Anq7KHjmQN7POldz5UC0NbVG9yO9BUkrhvF/mJXC735qZ1yBJ3XQG9HUaYS4T8xVi7M80FlzmgYiE9fmKsovCfmKBcIteZKHENt6CXN1+Yjtt7CH3fCI8tBDufzFDhEs5vQ4m6ySkWm9Agg17X3XesnIuJ6MuZ6LdTxQGYnCZou+2Jg5npS5gNAhOEdZN0KB/pE1z/hFAuQK3heh2q9HKlbkVAHtsJBcV6UiIR1pSIuBBNqri3Wk9GYWilImoJuUN0imErWklJrkCOIeNL/qYg0iALqWKsiVhE5KQjyPQJaoahBDc1AqRohlYmcOlLkzLQpAPIkLqJyLqJCbyLAdbdqohEi0Jx4Ur9Xi1qENEVF2VFupiTe3OsQDdTEpDa5iZ6QiJrUCtQhLmQKeVqi5RzCoJyDwkIQsWEyFLuI0Du6isFV/UTCXEgcFYJKt7cxp0DIUCbsylAzkyVyb6qCxSGRVXfNViC0eFM7UkUhcXIpDq7MqB/OTOFBaJak/zVRqarHamGgdwu+n7SYbh85V3NTPQO6xqOYkji9JWOzje9A4lb1EeWlhddA8yBrsz+2rR4X8qqcrHWoJEnKx1vVFU5reVqsdxIHy/T6ykeIuYlW7Ujl7KkPlFzL2q4s3aVTtSVxNu4fyoLdHnIuypftei0UXCWRA31Ezeuq+xpTC0iyakDB27lLm8fEk5usk0oPod18iYO2qhEXdpSNog5+X8qwXOeN3Cmu1XZVXy+MuNM65yB3XfCXKdPYS3Nu3mkVI/OQWdU2oE7XEqXNLrCSsG63qigte0THhFM67tfkSOIidzJXW8TR/Kilt2bkQzT1VXdpyFamJ3pILXjmUuLzfyqlrfJRqaIakFw8JcSfNd2kgtdcHESNJ2aUFoi7yU2pVoG5hdZBaJWp18+a1WjnQWDmcSPUVbrUw++n5KCzV1zUiVvlJH+sm6vKgnl7KtuddxKrNbzJYQE3xj8qC4SLzSTtaJ9kVVdlY3KKe7zkDOcXaL8Sbq8JF8qq09PUJNlfZwignzsoqxw+cq26eZQNvUapFrsjX5XJuNvKKpMt0OR1oirhJwuHUSCbbOsh2l6qO4buFAwmjnN9qD6XChyVl13Eluc4kFjhJDnsSiQ8CCaXUQWZ2dVLlhdlqLRRyoJtIncyZ2QuYiVQuc5WadeX8qwS4h7Iqy4XjfpFUkTdB2tFWajz++qVLNbb7iSiWTPqSgWQr9SR1tr8ipK24RBxnlTuK8RM9IpMzxIz0imHNn+FQXiV10bUgSKwn8RJRi5CHmJKJNHP8ABILXeYKR5PMX5WtQR8+kUOa8X5iFA7idn1puYdRKoSJziN1ykSJtyCwcoOyEi1KRE13ApLWgS3KzSmMtLDQQ6iByCEndpBDREWi9N98zqLefMgW5iegOD3y5yYSbrPKhwtAr8qZw6jPKgNPwjEOz3nlSkQ8ZpiIeM8yAISJ9/Ki0tepAlznmRCiuECfqQOJDY2Nq4ECWS/i0JIRNZegYpZn6UBawL7Godc0TsbcgicOfSgittMNKBXRHRhKMDBboVtrjEj1KohLenFE8xi5OJOu5kDDobxoH1kCTiDrJuDUgUXZuUlA6OogRt7KXl5UDkXooIs6ktagiJx2cKAJvAaa3ML8yObxmdK0S48ylRh7b3I1a7nI4GvSiWTOgbRc/Ii3Tv8qVzuPKjy8qpJmc8RNdlJ6rIm3XpidxmgbNdelY0taLtRmlf18yBh7aBdzpRcXGmIm5XoC6yw8qCSubaT02ZAarkXPQVr0DrJSoZSTNRmSi0itVJNaWhHYUi0kN4QQTdwaUoubcAPEUcAsRys0oHIc6jsIIeRLaT0DZtCkRuVTbrU12ZgIJyiDkaXCxVOEeAlcTW6EBqawEvkIE9ViXT8GxApQhIgIs4krOXxanU7xagkBm4EvbBHMRggS50DZBtMEEVqC5TBBEPGpUHFxpSitG40O1PRvSc16pIza0CV2dKEVpXRkO4UDb0cr0P50rudyl3Oggy1PSucLRNRntvQ61aB1xip5nmo4yeaUjuNFGbxJdVqHCZAKHoC7UCW3KoIhvIsgKbdQKAN4kxCJZgBViTNAKSy5AQQQ3NFnlqbspACW0RdZalK7KxARRtAhCB20tpfEJuXxCUm/aFSSkI6WJBbr3CZwkWhS4hJonAWiXDl8RYpdpEwUEQlc8FLhEXPDMgQmjrhoDWViCik20wRvRZnDyEFbnPGy0mod4pwmGVDucPIQR2ufxIDtoFo6wQ60L1DrkD5iboS83aUZbUC3LyoFK16VpKxo8GpK3xTizqgNIScxV7qy0PPVmm4MvOlKFdkC8kA0dQeelIeRRb8SGVSRDmYGlAjeIAy8arKE4m7kM3GrNGQFWzqIAwFwNALXBnQ0W3ACQs2QMynsAgb6nAHlpMtzA8tBN5EWiQWQFobejeNnlob9w++Ktoi/3h6CN3Ags5SYo5vFpXc8NQ7qIBzRaQAxK4nNYCbejxhmSOQS4S0BclItSYS4TypSJ2Y0DOQodqSublQM667IqycbCeh6Ybcz1SS/fEE7LeKLudLFcGZ6BHE656Zzvj1DeJ6kXZb/LQSLtL0juv1FJZtaS7UHnoG060H28qVnIfloIuRAxjaZXiq/LUEPDnUs5PPQGnIhukgRlzB56LeBAFbcQeeoK5QRC5gwb3KRuFzMnOgLmpSEi0eel3okWQGJmiPBaqFbS1AjL2k33tV2jlAOFBJZkpCTUIt1MtQUtErWJsotJiYnDmYqyaWZiCCIRG25qW7SmIRyixiW1AtygibcptPnUoK3lmSm3KmbxGq7dRoC4cqR6bMlIVoV4pnDe1K5utK8TueglfO5xXGrovXsSuLjQVuUdtSZN1qNSIL20ulqbWlNApcL0pa25E7udQV3koKiSFxJyJK5AFbakemuakQeFcmBQhYsyZRcpQCsFKDcyZA48Ss5VWLR5U1qBuYlKh1qhAwqwQ4kg2k4VOXQgs5kyVTzILAUoQpD8qcVU9OgGFzqwe2lykmubky/+qBx4u0m0KsRJ3m50zuygsYOUuJD+uq/mqzNl6qCU2q1JcpQNyplWmc1kRBc61wqcvkpOsmEhL00EuuTPVT7ey5OOZvZQNp6rUw5usSqcJ3WaiTjluDSpDDluDS5DR4OVK0SK0AYi7MwEFrOTUjsaUjW5Q0p+ViBmciUuJKTuBS21rEDiNuS9qYfnKsRuazVxqzqgsEu9ZN6rRSZvNFPqdxILBa519v8A6KStYRdZIPNwpmeqgd+nsoEnXZklzg47kCNvVD8qB7hG0NOdWW3j1RQI+clcRZeYkUYWl6SdtvZFJpdZpzqRuJ1mZA1xE3mTCPFzIEbbeEi+VNy9UUEttMR4WqdXI5Lr7SBc3suQSOVzFZ/2JS1j1RVnNzfkQA5gJmZNdmVNzcmlWam9UUDdhRCi2+ckQI29YUFolamdwhY5VamqRIiG7mQWOLq2prhFo8I50uVNzcyBxL0kOIhu4EgtEWlwoIbTHqoLexfaKsAid2nfIqx5eNA2+SgYMoEQaSNSWUxHS1Q0RHJpEU7RMmiGr8ikEW60AQNrLOJAiOblIkNa8eUUFo5THqimzH1iSam86BLUOpyAEizFzEn5WaVANEcmlTr81AarUIaTlHptQSVxdZAuInEmISFFo5VgHeirMo9lUkWdWtaXaUqWWucQakokOoD1EkHMFmokD711RQNwZ8rlLs+fSKQvejK99oqWlpf76qSbXrzKxwkwuYiQNxB1iJK5w2npJBYBWu5VJE14jkaIpHFffpFORXZ9XAgs3vEeoUOEityOJLCIh6m9QOUOqTkC5mF1kw2j2VOnsJ8omPKIoAsvVap1N5kpXCdmtAkTgJmpBJXaNanyx1pBaTHPuvQ0bM+VA4tHM8UW5b1GXjyKCcJmN4IH++ZErhvvNAxW2+MUu4jNAxZbjPSmtscZ5ku9EtZjcje6n+YgBLJfqRCJutDmi7feYmcQ5Y1jUCuyX6UxXCd+lLvbW77Sgic+9Acd4aUOuO8OFBETjvDSmd1M6A5bM35EQswZM6Bz/B5kQhaxvMgBLJ2lPA3hSDo6pIHKHLCQO30EZXipuadmlVucJtz2oHIScbuVNx++Zkpa28Qqy3Mw8yBtTb8yWFbx5iVY5rTPMrB0NepUUW2XmgT6+VHAV6HC0LzyuVJAkLc55UObrPKgrcpnlTEWe+JkQDhad5ocRPvNBEx5PPSjUZPPMgN6Op+ZJvfumZS4SJ/MgStc88yAFpDaZoc5jTNAk615oFxbm/iQDrQJ+cVHVU25uVQJeigcnXoG5BOv6iPqIGbcarCEQR3PsO0QTOEfKRa7tIGbbapEWi1igSuamG4fKQK1LdpDShpNCxFrGs0oDTcCCvK0EpCXBmTGPJlQBO4E2lzAS3DcxGrIgWALQAGZUZbUdhRcOhBaOXQltzMSjkyAoJ3ACByJgnYCHE5tiQuKxSRNtHiWix3USkXOCXyFDnMyLAzudRvOIwtRpAbMqV7cxg9Sozs94IfdnzKHtLOClxOzgqSjVn4kETdaHNLOh3CaBSitJzzR1ku9aOfSmMiEc6Adwmh1+c0ObrclhReIzUqDi3Tizo4+ylzWilHLcaBhtLqkjTcoa4naBUXOtVibW3AoIdNihtqVt2TQoDC7KzKSCdmYCCzZASkN2QEC3EWhAu1BAUCXU7akj02IEc5g2Wo16EC6/JnSuaTfEK0rHELHMSwiua+Bm0Idbnh5EDxPBBLuEwUcxHAuQ77cCXeOFrw8hA295wSkThc+zqJnNueD+olcRXPQG950judDmDncpc7WghzdZpXKbhteodaga4S4lW0WuvuQ7USButQMRJfWQItEHXWpctrFQCcUJrAQ8uAFBNIm8yXKLWAgfsBalG8WkzKo8hiOqzgQBF1FWV3xCHDZ7xlUEdrvEEgHC1zIGVyWFFCKIRBMDArk3bgXKuEIwhABjQGN4EDZbnwEz9T4HkKHXAJGCQYo8YXLQzhLLuErueBclKJc54Cmc0s4McgCK24w5rEpXawIEFFHjclIi4/MQAkPGHkKXXWpXDqPOq97xGguc71EpFqI0u9cli3DcgsHMZJbmmlt4DQ7SqSYuoaXgS5haxM1woIJ3OxQV4NYZKSEszEpi61iAyj7yflo7ETy0N6iYWtawPLQL9TgQQidzEN0kyxKWVrECtuaxBk25nnpibqAEjeSGgjdE5xKbWtYpaQ6ASkIkSALhYpdpS6m2ZECIlwMQM3hYq9TrHqzrbtLwe9oFGwtHKlIx5E6j72gr5fFqX/c0F/RpfqcioAmOowS8GRM4XOsSkRFcgUiHjSE1OSTMKBbX50vnK5zWCq82tyBdCQmpnNtFVudlQBg5VFyq+1Vk1AZSVTrjanUmI5RetFeUlWRNE1aqyFAEq/LTXaUqILq1pSaLGvQoIbdaBXFei51r0Nb1EGgUh66gnIL+kSoE1JFYfKqy6iCNCrLhVhNypEHipx4UiFiz9VSjN1EIGTjzJCyqxAJktynQgbp0JrkuYlKkN9X5qZJrUiqFyZqrcIi6IwQHWa8UscYZhFdiGnff/zUGQsTMWODjrC4/vhpX3/81T7esMl++Sl/f/zVIyJikR+csd9vWFv4w0v7+Xqqfb7hUf3yUvyy9VBkdoE3iTLGPb3hVzvbDTvLL1UDj/Co/vhp3ll6qDKUrNKxr2/4VEv2Q07yy9VWe3/CurEMj5ZeqlRk2tAiIrGSx/hVttekfO9VHuiYRy+HpHzvVSoyoEAsV90bCY5q9I/2nqpfdIwiP74ZHsbz1UqMvTboViJbT8GCbSxJIgZaPGOPzUxbS8IfxhgfeInqpUZYm0rEfdLwgP8An6B94jeqm903B2qvAX9DE9VKjLG+kmErnWWuWH+6bg7+G4f4LG9VMW0/CN/92w/BY3qpUZUUIiFpM0irbSLRm81Yh7qWDtVbAf8AlY3qo90/B2mth+CxvVUjLxNtyYhEhaLMrViHum4QyjWw7ElG9VT7p+EB/wA8ONzv1lG9VBmDchWXEpHLwrDh2n4S/hU/wKN6qf3T8JfwlE/Ao3qoMvbyQ1I23dpYh7qWE9VSj/gUb1UvuoYT+zJr+ro3qpUZiI25NP5VYVpNWEQNrOEJl5Qp+aig5pMkoxXeSvp91DCpE7vmdfyU+N6qVGXiNoO5iTW+asN903DPx1R/qyN6qn3T8L/HVXN/Bcb1UGZs6mZMJMu7Swz3T8MDrqn9VxvVR7p+Gm2nWP6rjeqgzMRcrdXWP8iwv3T8Of7Y/qiP6qj3UsOZS8Mf1RG9VYMztEXWcSYRHT1Vhg7T8OfE1v8AqiMmHafh4rdzW/6oiIpmbXF8GpHsZXLDfdNw+1u5rf8AVEZMO02gtb3tW/6oiIM2aWUWcKOazM5YZ7p9D0yFeLV/iiIlHaXQyiy0AoNYgHHLdQu+KeUIXdPMtGajbwZUbpxGgoTSbzMRqd1lgkbriYLnKHE3soK2EbuFHL1UDtHL1RTavKS9YOJRp7CCbmm7hsTCNzUuvzUCXrIAMwdYiVjhHKqxt8lNqcgcXEVysH5rkg5kWuMeVBMKKMV4syq60vLVMKHDhF2vNVg5NGpA4u7bXI40qxyuY2hUXEMGhwKDVKtPxYHfjKc1oQ+gm3OLoUjKdXbQJNu6xLEPbtU9Oz3FP9j6yPbnVf8AR7iXhzwfWWjLyc1vK35VaVxdoVh3tzq5ZdnWJfLgj85A4xrWb3PcRff4PrLRmLrg7SBydlYcOMa1p2dV/L8fB9ZN7ca7/o6r/wCFS3rKRmJB81Nc53MsO9t9f/0dVv8ADZf1ke2zEenZ1WPw2W9ZBmLi1KVhxYqxP/o3qn9YS3rJixZionu2bz39aS3rIMtuIgLmViwz21Ysc4dnU1m/hSCgcUYu/wBHU1/W8FBmY5rgQ53XWCz2McWycnMzUfZ1H72lYRRYv914OXo5VFIxxiquUqTqsjs6jlJzkIYsIzq8ESb08rVlRnp5OygXD5qxD2zY1/0dN/8AOoPqpfbHjUv3gB/XUP1UqMyIhy35k0Irgvialh3thxrmLAcD+uof/tpvbDjj+IcqLf8Ab0P/ANtKjLn29lS70RFYcVexx/EaR7deH/20w17HX8RqcPXrw/8AtrRmrrjF+YhFSN0Vr80VYWNcx/YXtJo+b+Hv/wAaBrm0EScODKJ269/+NBmglkJ/EoEm6/glhx1raIA24Pw6AN/h781L4X2kEJiOEsNaf89F6qDNHPf2VY5xXaiWFeFdpB/vSwtm/hovVR4T2lWNwlhbN/C8T1UGaudm4kcBE+5ywrD2LMQx8Z+1rEdBp1OjFTolRgRpGdKO8egmkJOWYk6xr3tQWWtDPlSuz58opia51+VVkI3u3hBaKwXWlbeCUicR3nmVYl18ysHMDn50AJZ7zzqRItUY184zgQ7fHv4AuV8KKRCBEZifAaCd6MKE5+USLIiEQkIEMYwcLmGFyZ1oEUZG9b8NeKCAIRFu+0qSIuPTwIdnF6CJz2mCAdnvBDiJ9+YkF1wVluowQL2wzI4C8WVyAc/RmSiTSCwEDARWEXEhxWEN2ZA6HJSFo2hlFAwkWkNKYrvJVZcPK1NxlwtQMRtfxtFEUs9h6VJCTjv4UFeRt4kAVxHnzJnETBvzJXaifmUiTmXnmQQOcM+ZNCIWhn1JRyheepQJZGmeUkAOgnnlJO4WheeVDrQJ+ngQ4ePMKBiISteeVBFbGHfHYKUiEX36UOzuPzEBvSvv4UCTX36kxE59/Clc03EepACQ8Z3EjeiVwmodcDTdcgYtwX6kEucQE/iQLrL0okLgbzJgK0OqSAEvRUaewpdbadjUXNt4UCkeceVMThegrvJQWY1Khle1M0nZNSCa4+sge3mVJMI3A7iQOgWcSUWtbfmTZmOQKzkNLmygmHQLENt7KAbZkQQu0Jbht5UEPIgCFuhMYle0HXIuIjsStz2IBouyIawkNuuDz0wiXAgR2TInEeHhSiORDS4NKAtIWoPmYghJtrMqC1kTEBx+95kFdbYjToS9VgqVJG4bd2l5iMMqm5uhFrdCCbnZwQ4Se4wQJDfeGVKRC3OCBusaUYoiWfiQUVvwwZkzudUlXblKN5ibMAXodzpRLiNAEQu9+S5iznmTO50pF6SlQHMBPNQV119wqXXOIzzJR0C/iQNpMr0trlLnMzkoIHE69AN81Q3JYGVDbsiUbswAgCGJfkStLUxDRLgypm9RApCXIlzDnDKmItViURyZEECVx3ghwkTvEZlNwfF5VDnXWK0h48cNSJN1h5CgSbrDMje3N3wIK96TjLfAQdRBRftysKLbdGAQ6iV3OgN7a3feYlIuKN5iZ1rSPzEjnMv0oIdc16HXZ8yCJpOekMhc3M1Azic55qt2l+tNpz6UIFe4Wv0oHeDmTNyJSsG3UqA0ncSgt2QWseoJQIj5TkA0ieVl+VDbm+LFzkXEThZlQRXOeAoFIbWvDrqsXERuZbcrCJtr4aURua8BtzoFuHWAqH84JyIRi7sTC4kXcYIE3vOGfgVe9EhAd8D+orH6t8CLeMM3AgCK4C3wDbwJdWcH9RM64GnxKqLFLMR3rQb3nh5eBLFjuyn5iCileW+SuBvvx5eBAwlbnSuzk/zEzm/DP7CUuugZ3OqyISRF4XqEE5QMnncjRrUE4rr0vGge5tqXrZBU5UaUSM2VLamK25iVUAh09lDdPIlikTXdpYhi+tYghYow9QcPzlOkTn4EaPFjTcrv7Q5UGX/UysBHsdHCCwbeYyEm+3aiWWf4l/OS7zGX8dKJ/Uv5yqqtqbO7uEBUEF2UFge/xjqxjQP6k/OTFHxfmLGdEL/yH85Km1Nm/wBRv6gCab6mX2AWCDM4tzDjOiD/AOQ/nJCjYvyjjOkdiifnJVW1Nn38yPql+0GVa/3+L/450f8AqQfWR3zi/TjOkf1KPrJU2ps916EultiwTfYx042pf9Qj6yTvnGLrsbUv+oR9ZNs2ps9I7f1AU8z3LAu+cXt/ZtS/6k/OUd84v/jtT/6hH1kqbU2fOEszErh0msGgR8Yx44QxxrS7ib/iEf2+0vNw5UMf4jnMQwCxVR4AUmfKTeFIEt97GrMqqmUaNl71wtfmSFFISzrFvA+PBt9u1LH/AMlH1lPgXHH8dqX/AFKPrKUsmIi42pXDqNyxfwRjof37Uv8AqUfWQVIx013t2p39Sj6yDJyIWpXCSxcqRjj+O1O7FFH1kvgrG2rG1O/qUfWQZOoIm61jPgrGxW+3aR/qUfWS+Bcbfx2p39Sj6yVGRocWVY14Hxt/HaS/qUfWUeB8akbfbzTv6lFKjJnOQRW51jHgXGv8eZL+pYfrKPBGNG/s2kf6lH1kGSEp7Cw6tS2NqZQ6lUIWM5Eu84BR2HSId/sC5e/QZ6LU6HTZyaZ3zHgQ4pMtu6RWj7i5QVbeJWXJCRBUpC0bUzdJKvmYgi1V6rQRaRXJuVBWQllEEFZmBBOa4QUZcqBeViOVBChApKtWEq4rkFZ8SZL0tScyqbXj9ZMxK9OoUnmUqOZSgbqpkqZSLEJUILFHKgFKCQTDaNyUW5VCAmWnKxgsuEgWOYKhSftalnycqTYsQXnAEiWR9P1ALqksWwd/iWPC+KmiBHLLLtZKPRI/Ycj94FOMGn/wbK9fcCqEP1K3m3ZPq3cn9gSv3kUbuRH9wSv3gV84lnFO63Qnsb8n0ezK6ZOVHqAKYemT+w5X7yKoEuFCexvvq9mWa3vOVt+1ijeyw5ZOB94FfNbmTaURuyX76Bm72gfexVm+lsowYFv2sV8vLrRmQ3ZPtGYhDaMGB5Aqe/IXCH3sV8eVOROFqG7JjGLI0KFizBMyyGzvohOwf2xWaFOwt6YiEPyBWB46JszhKPwVMfmrNo5eNN3ESK3ZvpGcD7R5AphnwykzyBXm7q7har3CWtSndm+8ZwHaPIFR4R6BFwgD+oK+NzLkamkhuzfb38N/vZ5fgxTeEIZE1kDyBXwf638yl3RZ4zIns3fm+3wja4dx5Apu+nlcEDyF8brm8X/opd1NRIzdm9AagLgcAZuBMNQ1WZV5fskPBl/Kr/Yc8bETuzff4RIeBNCqJFMwRIAuLzeheeJauIiJPC99Ds/jT2VuzYlstnO9afiSEO7tq0QvlWddNRMQtBoLXWzuyoYzhFpqL1m3T0fVd2k9iWWb7/CcR1hxFPhWNmI4i831VZqT2N2b0fCsTjiJ/C0QspxF5RF/q5kOt/U0qDfm9PwnF1HEQdWiDaUfUxfA7/UoH/dxEhvzeoNTiO9+iKfC0Qfhoi8wuH2NLVY64/qakN+b0xrEQiz6kQqxFIc/EvMzauIkzrbjyA1G783pjVT7axHaNHOLSaVEM8tTgrIhtzbvN+RYxtFb7WHcM5BLzkdMWW82ekWrtKt1ui0UOdCDqj6KjVdxLHuOTXNszIc27rElErbesh2ceVA3qKzX2lXqProEmM7RILHausjL2f8A1S5huTa+0gkszeYRVgn5zlWLs2u5GUewgsH5qceKxJ9XzlI8ViCwuVM0Se5KVqstzIJbc0eJYUJFC20wSe3e4diD/aLNHcKwicH/AAxUcvjaJMj8hKJcUsuiz5CRo7/NzWa+NfJMN3piXEkdc4eMiXyJZpWeeWWb7hqMSwmcWtHhGIxzPgl5xdNtukU5w84s4RUfIyF5Pviz5+cIIGfiOyZyL8S+L2bu1+RA9OQuUiW/IyJvN9ozxZi4CJWd/HwAVq88gaJiPxSbj5iH8SfIyl32R58iE4ZAGYRYlGdiCLWw835F8oxHHaFhERfIj2bA6pKPk5C77oU8Y3M4lPfkUXtCHaviHoz8rRVg9F59ZPk5FXPV4pTmHq2Ba5OINnVJfDstIi2aYS/4CH85fbbFp9Sh8UCJ6JLy9kUXe7KcJF/I/wAkQl9TTytj7nfEy/qpnO40DaWtSI9dd1huS80F28tinlFO8loUm8ZprSJpGd5IuK4j1IHK5+VyBhEQEG2tcho7q7hQ7TyoJ1/UFAxCPHlAVJA4j64oK4jLmEUC0ooDxRUDQoAnFAi+NJMIi6CRcyqF1jrsxJ9IOtbCQYLHt25UrU7DEx/1lnDrdeRYPPW7cKIXFh2YH+0FZvF1j1RSQtLMY36UpELs55vyJXZ3GeZMJuZf8KRICFFcVxnmTWkIOM9SWEWQt9xEjeiMIL22oCEQwIW732UeBMUVxe/ZRSu+3aOBM4by3wIGt49KHWneGlLvSvETUkTrXhmagaKROzgodcd4XKLi1hmUiREQNYtAJHmsU3PBrGJR4rEbppATAt/9VgYCIiDJcmu0qrsZRQQXXBpQNrDqqXW9UUjWv6qCuE0EkOcuVXFbdfc1VcdmoU+YruJAOc9xnmTOdcJ6kC0ic/Ul3ouz6kDOcQOM8yBK4HGlGPkJ6IREQg02hdoQPCPJfpJRCO3PpQJE2DfkEkCQlrdagZzRB0bSocN5b74JQRE1u+sagvejF97RQMRWn47hUlFc90ZVFHuMSjAxoposW43GGcUFrs5PDMKVziz6lEUivafwopRInWn8KgdxEwhOxygSKy/USN7kvDMqxLJeGYkDieS/M5SJcJ6UsKzcuz3I1N5SQOLW59KWKTS7Kj1ExERZfikA5pHenK1/ZSRcxjflFS5r+ypUbV21iFT2jScjiGpUOWw9X6nP04xKOcjKiUIPZ5iLoWXuuPrLBcMD/hK2hF9tl/RVpX+6NE1YGxhm+xR9ZL7o0UcuA8Yav3LD9ZZWM8ZF8J76gZwjIG7zMSOG/FifuiR7P7xsYfgsP1ke6JHsEcB4wL/lYf8A7iygZ4rPfNSYZ4iEHAeUkPkwYt7okzl9oGMMv2LD9ZT7okzqwHjD7xD/APcWSd/RCY0IjGpu/CvJmlD5MGNe6DNEP7AMWfgsP/3FBbQZl37A8WfeIf8A7iyYpyKQ5NIoKeieOaERD5MGMltBmf4h4s+8Q/WR7oM1qwBizP8AEQ/WWTeEd68huuTd/wAQCyfCqlfJixaFtBmS/eBiz7xD9ZR7ok2H7wMWfeIf/uLKoU7Ess1EgZ+IxowUPkxYPVdrstQ+8/CGDMUwO/Iu4gPlYd8ThzL7y2iTmnAGLPvEH/3F422CYiF7nul1dH0VsaanyGOYiFjeNDfixP3Qp4v3gYp+8w//AHEvt/ncvtAxTn+Jh/8AuLLin4mYQs51SU/EvcAZhQ+VFjHugzjv2B4p+8Q/WQOP5z+IeKfvEH/3Fk/f5cEPMl8IRdIQ83Gs9op+TBjPuiT2X2h4p+8Qf/cR7oM81vtAxT94h+ssl7/iuayGxSM+XBDyp7RPkwYuW0Gcd+wPFP3iD6yb3QZ5zvaBiz7xD/8AcWRd+kImXi7hFMU7Ed8GntE+TBjHt/nB/eHiwf6GH/7iX2/z2nAeLPvMP1llHf5DwDcl7+iN7RJ7RV8mDGvdBnP4h4p+8w/WTDtBnMvtGxZ95h+ssk7/ADbdwq2FUSGKDU7U78GDSO12FVZyfgSeD8UxY1Oj7qaDcQ7C4cy+73QZrTgPFP3iH6y8zZ9NF7Y9pZ5v7tj/ANMVnnfxEVoWOTtVvxYp7f5n+I2LMjPeIfrKPb/NfxGxSP8AQQ/WWT99ETOsSXvwm2hmFO1m/BjHugzWYsDYp+8Q/wD3EDj+Pm9oeKfvEP1lkpThtduUd+RPidadpvxYx7oMyP7w8U/eIfrJvdBmW3YDxSNvxEP1lkvfkR3vQCjv4nNYHlp2t34MYPaDH1YGxT+Cw/8A3EpbQzG72jYp/BYf/uLKyn4haAypO/zzMBb2s34MY90SKX7xsU/gsP1ke6JHIXe0nFP4FD/9xZR38eoAzJe/y5EZvxYv7oxl+8zFP4LD/wDcVMfanLSJS3f2G8RScGPHGB3zMSQiIEZNFxOWXeEYnGCxLapMGWE4IvzVaSH+2FFRyxmzeK4TMHhbbkUOE7iME8yRFHMHtuJVOt9+0qXUzhLXq4FS7n4tCsIiaZCarImjn1NyIIKLa555OBVndc88yseXHp4FW4Wued4igYeXeJcwn1U3WNI0jHsoJImlkSNYPlCmcJkYcrkFn7SoV3Nt4Uzm3WJWIiubo0oG8jUk8hPblsVdzQHsoDleFqHC5zwtdoQRC43H5iHC7OGb8qCCLS8LlBkOqM3sfXSBFdrDyExlnJ4ZRQLvbgdGb2EoRyMTcbQ6iCInZ/MUETRPx2ZA+9utPKXAqiIW3Rj8hS4ne/a+BR2zzcC0K8cxGdvImGKJMET8xK+zOk3okQEJn5CB3c5+QgiEdZ+QqxiutIzTHl1oAibmekd11Jcz1BOIW+MQM+74RLa25KROeXKmERF7kAY6mOBBNC0UuWEdmlLpyOVJNmHIjmQzkSgVlv09hAdAu6GksJqpO2qUcfiqPGi+cs46Hew2zOsGnb9rID8RQi/GSqKopJubxeZJx5CQ5G9u0Z13fShExcVirf1Ez9L0pW3LQ2a6zK5VkXOCZokxzEokI6wQQROseCNJtPMqYtThQpkIAmDyFyv3vCfmIsarTSjlzpncR8ygot3koIdxGmzKpM/nRC6UL9OSzeMfSVezP9cYwmfja7MXr6KWO9qsnD4oorz9k5bzD9Si9HwtWnS/tFym8mpbBcXG1Duy5ILnNealwutfaoeYhEOl6UkEOe80xD10FRCWp6ru51b5ajyxQVKCFWcyrIeJAoiWZRbpUlwpGjlHz0AQilaLbU2gy4UrUHgY6LcYHxJFy/pOIPy2r7MPQtxh6lQPipUR81eVtIIfc+rzdUIR+WIK9yT8VJy33IfRWoXkTRclPIm5VUXKgCSlk7aa1yU3NQVELrbLkrm6ATa0pF1ECs6ihN5CrLlQBRcnMlQTeRBIFt1KCzqc2ZICCsncAJOwmStVqeSp1qELm0KxqrVgoGQlQguFGlKJJlIZTbxpeqmIkEqMoIepQMA+QsWwn73WIeVs4RfKsn6PzVjGHPFVHEML7eKOWXg93KhKmVvCP+9M5KN1ysFqMMp6yUEzuJBZyptSqTtQOhqURf1E3WQWCpdb56gPmILm6qDEdpDoVIpUcfgKjBb/ADrOJhu8MeZYPtLJ2E3fFTkGL5yzEycwuQS+VGy4mdwpXEL3HZapTu59SxyAxeypc256QSttN9ibt5kdDu0vQ6/OhwuByMvXFHMwkjS3qgjlfqSi7UfESNWiV13F+RM63svVQp3F6IotZ+amIvGgXMqxcRAXaVep3L+VBiWDPFYsxzC+3jF+VZpo7LFheHA3W0HG0ItQQVmYk/NqL8iNkYczfp9RS5ubhckcReSmLOjEFlamc76fWUDcWdONqBgzXKePyVD3WvUiY6VzYZ11p6kolq5UOtAeG5Glr26UQs5eqKbUq3XdpM4m28KC0S4lj+0ARLB84Q6YsH/qL37stmkV4eNwdgqt8rS85HqwcmYy10CCXEA+ip63MvnkSdTJAuKAJeavo4xHqrH0Etz9Vql1/I5LyoHK5Awla7rEmaWXkVfqtTWu7SC/l4iSj6yR1rusmJrUDjaPZVma1JapEvnIGfqTZRPlFV5Pp9dW8qBrbxVg+e5UjmPrJg+agY1h1W8VtbwkXxtOnx+QRJZi3qaVhWI7dp+Ay4oE/C/s1kuIyEi8a7mcqf2ux+VWxc59VVdP6sTsr4OTk8UziPCHCn1HzEoBzwHmUA6ztEoYYXZusgsvZal0dlM667WQqGrPhTLmEUOaQFzEl4C5iVY6ONhIGBws5YSs4+qKqIivdwiKe6/mIR+RBbbe0LyIUw6C5lWOjrF+JMOV3KSD6ZMHQpkf5LE9FY9sY/yV4VEtMCIH9sSyOQ/dI/am/KsY2NW7NKIJfBHMj8kzEX2NL9b0YmfucR51HbVbuvqTDoInr1OpidxpxJwtI1VzPvTOyIHcWaGoFzTv0qR4kEVvWtQN2+FN66V2dHNmvQWCXjbtRKBtIC6xJA0crk3q/lQMMW3+iUllMeERFQWVvCCktenKCDCanbtrwwXFR50fkIVmxF4074l0VYXWrds+CSL4WQqI/I1ZiMUSjg4zzJIWuF2fMREiEY2X8RqsStC/iUjFaIX3jCQSJEIhflhKCIShN3zbRUkVp36RQRi04YmGlAxax32kUpETjF4ZhTETnk8M6HFZkuJAxcLwY5MNxOIwzJRJ5BkuIkQnEwrNSBx0ZNREoEtNmVDbQyZUNJzmBlQSOVrAyphHkVenI1RcInZwigYmMMhDKKUhEtGlL1Q4RVsXqdtAHr5WocN9mpRFG7Ol1WnqagtcJD2kEXnJOUj1KRbqPUgYSGxx6kwk0gF9irEhcF7UCWRpoAWkzx3EmhFaF+lMJCI3GGXgS6c4ZbkAJEOsMqYS54eVLl1gxqCJrysyILD13hlUERX5MoqIsXOViWKOfJpQWRbhNzHuFKdxHkzCiLa/JmFKROysZvUDOJrrMyUScVphmTcos99SwtBCAe+oGHReGYkXeJyakCVwCwMxIhHdBGx9yBhywReBWklG5mTKSWFaIDykmHODme9IASGy91qcnFaPxSq02590rLhhG63xVyBYpE6M7QIp4t2+v4UE4d8XKKCJ2+HqqVGMrzvscKwbDf8AlI2it0lL+is4MieY8wrBsMF/hI2i/dZf0VaZMnFrnfbUDoaeolAk2Ln+FUDFKwSO/ekj5Kv4m/iTARNBr8pJYUV25ET1EiET2NPSSCwStARe/dEq+qZ+9KBJwgQnpJK52Y/gkYcmiJiLxtFJHdujG8gcLkxWva/3oVJF7849Io0pE1+fOKHDwfCpC+G6wqWueV/vqpzMXihAhDUSBHITEE3Kw8yBzA4ImYkawPax75s5Hiro+ithzDSjHZpWutqxfpnZsLG/3b+atiTfvx9UkdPFWQj8SGVLFEQIxZ21DB4PgkNEhOzIIo5gunPYBXIHp6OAH71KZZ7L3CmbnbBDMjA/JYGpKJuZkG1SMIXXhqVUK4gbwkKNWPddZlUOLkSDlbZlTE68vF5EYb2c5CYPcjleGZV3X9lBOzWZkFjsl/EnlvfLuFILbOurJYvHhfmR0YHs7/x1tFIf4b//AKYrORb7BisE2cn+nsflxVuJ6IrOBIfYPsrJNksFrteZVQtDuZSWtvEKge3aS1hShOu5VWUK4y4mqwQ9ElWV2jQgZriNwak26uBwBmJVxddnCm7GpAM6mVLx5NKYbmNANSQrhazSgty5mZlSJcTBuTRdZEzSlPNoG5GCHwvDKsc2nkJYapQjk8LSH/UXvwSu0ahXgbSLqHQhsuq0l+KIj06Vnkd3fMYXgNxKh2QSMFbMkO/jE8MzlUWbOGZS9yCJ3wznDwIIrs+oSUv0v0kKqKLz+QgYSyX8SV1vZQ5pZzzJSik7PxIAiz38KBaJHzEldxG1wqC1tNAFd5KUicJiOlqGNuE8zksKE3yVQa3emKDut5UrSIc+a9NaOXOgUiIbtFqHZLwzJXOHPpUE4vNQHN4tHM8NKCInZwVZEW6c9AC4CzhmTCTtelDi4wRlteFxIFIm670rhHX5iCJ+vMoc24jsJq0NvPt3mKHWmW+PNwKHFpNAk57jNAOcTXn5CHaXnagopaTSlmzmgQv6RTcXGSYiaOu5LdleeZBHlpeXxiblvVbS1PQDYmkEFdoNMQ6r8yra5A2rI1I5wtLOSchb5qVtzeEkSbmYgS068qi7gUW6kAWXsrCI5O2r1uJ8VR4Lf51m+Uu0sEK7aNioviqTLiqiqAC4tFqHW6Ezm60O4WL0vpQGUuJK5oteCHW3MSjFcWdatAkTbT8xOJFxoErWvvSiXCaIVRZaGUXexLj6ituEc6Ctuel6ptRZn6nqMwtUmocgVuRKjMVqLiG59yIfbRv8bycTgJ3yL4tjY/3jhF+NnJiL8sQl9dIIRqAdSJ6JL59jYt2b0QvjQiF8sQlym8mdnGctaUreNNxlfck1GN6h5gThypcyUW8CbmYgX6nOkIS0vQQ3a0NFANLNelJ3OmaOpQtFZOypW6sqbNcxV70kDcvjFW3hQTmuUWggxPabFbgWfH42al4XyxBWSwhbCghwwhFYrtNEiw1IQvj6nLwvOWVlnRBmj20hcIoItSXV1kBdlJVG4i6qfS4VWgS4bSMCS3O0J0gk7MgUrsqgkxEy1K5AF2EuVH1EpXDwoFK5VWtTFmzqFaiGoQTdKHNQeShKhc2mTJUwoGTJUIGTJcqYbVIcSFD1CZAyl6RMgnpNYvSLcTYhh8sP8ayfp9JYtKeKxtUh4pXe+iiMv4e84VKS5qcVb54ESViB8xMjEZlYMAyygkWiMT0Oe2l7czw7Ar01TpaVkxEjlzKwugXWjzIuMbN+FAMRyeeoY3N11qX9DmcIXRcd4i8j85bXgQu85aDLFGOLuoQi88x+xqJEyit9VM4vmpbnJsqMMJau0mVfL2UznXIMW2kC7BNS5d36SyuWLewJaI/NCh/iFY7jod7gmtj9q3vyEK9ekRN7RabE4pWH+MUV4vudqejo1oEuI0CSxK0RHjR6qqEi471aRC7PlJGHASMmikixIEtF3ceclIR8Bm0lg22HHUfAWAJyap8YBqs4QysqfAXTmL+YVr/B/c7SmJsOSdcxXiar9FbqIb+w8g9OVY6QxdtpN/F0E0CLQKT/ALFo7ZTXKxgraTM7NcQVHv6Tj3ScxF4muhl1Syreh2Fd1kTKNE9XUSXmLroHhTZiPTpWsS3T2UELiPrfkQ64O0SnTbwoMRpnitq+IRH4WQhxVmHSVp9X8qw2F4razOD8fTBb/Msy6Glm4kTNPrpdbuLMmdp7SB/NRSRa3PpX0P08yr9ZPDJ0UL/p0oFinClJY5mbmYcCWG440Y2iqKfUabV3jTalKThiOSWMSXPU3SJrbptmqtGrE/OyuEqEJfpeEbXttt5iJG1bY1SNltBDFmDKlVZOfkYovCNGcJ+zluU1dNqLo87ib09VQJaiXj4MxDFxVg6iVqOEMZmagOi9botIl64ZOysceKco59KsIisF/KoUCV13WWJP05ukl5uMBdg6tiPxDl6XS1vSvixKIxcNVuH/ACUhR3wc3q0Mt/QKUXFKw16WZeNhCK7CtEL+SivX09lY+mNPZcnIc/ZFQVwN6oodq5nIDVcgS4uslDizWkguHlagcMp9VNqbxE1L635EwaPKQM+13WTubbypB4eVWeuKB/jOsKcbi7TlUJXO6yYMnZQTo7Ks4x7KTjHqipyxe0gs1rCsUW7QdnsTimpiF/YkszHQXKsKxlbjPZuX8uiB/ZksGRRR8eaqu9nrErZlwx3c6qH2fZXwcnJ4pnG1hEpK0TEuFQGTspiLOXMKhgJxdohFQOgi4iSZi8okw7uBC75jmEKWgCUWLGPKA8SDycT4qoeB6GFXr853rJmW6HURl08Ir75SblKnTJOoyJ72QnIQxYR8vSuQtr9Qqu1ulV7HoGcLBOHY8OnUyCf7pLpJpEuotnMUYmzLCR/yOH+Jd82n2oxdKdrJyuLtNTCNwdYlXCzARcREmErQLlcvKgwlaDviiJTkAx1iH5Umluhoq3V/Sig+ynXTJgL2EsV2MNLZ3JuPLPTg/JGJZVSf14HXJYhsVL+8JvDU5/8A6i+to/rejE2CLrHcLk2XntSOJtx5RUua92tq9jqsfcZJ8qqyj2lY4y16kHn4hr1PwrhyfrtVjbqm04d7HMLrVqb9F3soZ/jiaf8A8KS3LOS0pUZONJz0tAmpOODYsGMDhMeYV48LAGBZaFGix8H0AZaAJRYpnJDYPRqVRr5DWULuttlcUwAKrPEZEI/rUv21uqEYRYUtFA7Io70er05Vypg7D1E7ofatOVyBQZKmbOMKHuoEvKQBhd/RnO8YQ5uJdWkQlFaxoCI2JKIHWh1SRlf1UujsqwiuN3KpEuG93EKHCWUz99R6ygSyfdSQYVXv8sGzouKVqvois1hE0s/EawjEtu1bZpE+0VMX/wBC5ZuVuv4Jy0iBii3PDtFDrTJ4WC1Lc07w96TE4BO8LmipDEXvzWaUEVxi8MwqsnOMbLiFqa6ywLouhaHz8D96jMxwBmJJCyhYAuIkwiXiWgGpA8IhsaAakNcwWBlJIItECYGUiU25mfBILBEt00gC0eNMQtfY60dariiN7g0oPWWXKgCFpGLOFOQ3GLFDhMjz3GKZ3poKy1iPEnuaZP1JMxdpMJEwL2oAScTi4k4naDj1JBcQ8NxKRIXAgYSEmErHc/EqhIgEHGGRQTrHMyoGdpsRCcQZwe1QEUW2syqG6mBlQMItNtmVM21tmVK12gMqGk07AYKCwuZloIIbDsDSqyHPYCsbEIYxMB7hQKUL34hAEELnkwMwpornGIgBaSQIle0NS0BC64gD31BAMVjQ+FQ2/JqTiIuCyze3LAgiQsJge+kgXCxoBmUwhEiBwaiUCN8Gx1xIFhEIjBsdmQIjvYMRnESBbZZxJoVzCHhJADo6pJbnB9yVgtaDQ0pSFogRfFIARt/okXNP7kmErjH7Ug/ej0thIFi6xE9Ipo92+F+UhRFEnRuqKmK1sbsoIMr41+oVg2GP8pW0L7rL+is5MmmfWWDYWJ20jaEX22X9FaSZO67P8KiFmC/4Ukuo/uqBIhICeFsUkfG6lhE3ctPKRKITWwWnlcphF+tnGGYkQiL9LdpGAWkMFp6SVTh3X9ErYTmwRHhJYzWtpeB8NVCNTa1iqRkZ+BCEYstGO4PZuuVKqyUj6XNf8EKIp9BDGIjdaKw2W2w7OpyOEpAxtS4szHEYUIAO4yJZtF6OmERi/ShWSqKLn6bhSazETPMKtikzfNPSKqIhEj6woxY5pNF5eNUDcwb/AH0k3HfliqoYu9y3AMW1FsF2rWTezr/x35q2DF/XN11hLX21EnVLZuP+3fmrYcX9chZ8Ytb4qOxmhJt0JWs08aBuABHhJTpaw/eljCkJNjWcKYxuOzKSiKLXiLytFSY3RrNQoKt30b17MxIHpuCzUSiZjSlPlo05PRoErJwCdFjTJtEFhNM21bNarVQp8njCnFOFFIRCMbR8okTSbN4Qk4HBDykluIWizKrtxEhbkiACAhJpgeceIVW20LNKMGky5RSl8NksJNp+D96SxSsOzhRg1dpXSxfpmW66pinunlluVknbMwR+2o6MC2ZOOLjkuKuxvxCKzkitz6XLBdlZ24zL/wDkEx81ZqccYW5Ert6LbFUmyWxbnkPKoLM0eJSTfLEUpEJEflKWIFosIn2uVYXABMPKrbXOIDsJIMJzBEMzkCkHJmAVI9HS3JqFeFijHWE8EiA4jxDI06MQ2wTN0XyRX1YZxPQcZyZzOHKxI1OCGbvY7g6w5kbWb1G8mtK23IrGtuZlJDbgs1IxUdw5Ayqs3D0GTAfamu0hlBL0lyQ8iMTDtIGszLHtod0jhmFx1iVHzl7/AEu3rbMwrxMeD43B4cVdl0enSMzil40ysuSmV2cEOdwZUpETXWaSUvcHW5wfcKR2Tx2kkxEIvJ4WkqyK7OCBt6N7j4Ugldn1KXE47wtBBGQ68zUCO3rHHxCltK57kzneUq4pFCgNF5GVqoGrqqwhtSkSNHaQLzDwIJzPg9KY2tt5klqCPmotF42XCjXoSO02akDcbjBBGPGGpK5w2syodxMQL20xRefU5K607wUFHaN0YBQTveI+LQkGLb79lT73P44M3AkHRfxCtA7U/Wi7K9K5utG9EdeUkAJC3OfkJSIeMyaSHC20zQ7U80DObrMkjhK4jNScXUT0vl8KCdTr0NtDOoHLc/iUM1cyAzCaUfnJrsrD4UpNHyXIkW5WaWpCCHf2ST5c3ElhN4OIFQbV2m/Ki3LxKvS7Na5M67qkgDdC6Xs4ciwSXb7oOPy4AlIXmrPR/VYLLnCtf00hi4y2kReaUH5BFIqxcltzUvbBMRDeT2qseEl6X1TPHjSdvSnc4c9iYRIiaNxvyLQCAXnEjbqDCF8UzygPRmJYDgTa1TtoOKq3Q6ZImMtToRRRnjP34XNyrzMY1Cc2jYxk9leHpk4UsRCVdqMvll4fRcUNyw/ueqZLUzaRtElpF/echA3ELq9ERRJ5rdzfuYXFqXg40xjTsC0GNWajdogQQzRi4RXvTM9J0qRmahPTO4kJYSixYx6BXN+MJWa2rYSxZtHqe/lcP0mEMtQJF+ct4IlGVKy5P1bywTiocbYQkMQw5M5MJw4gd7vcxi9suF5isK2JiULY7hUcroUSL5zVm5E24jNIqiXtml8tDkry1Ga1S6CW6hzkUXvgSsaL8gkrtlcLdbPsNjxSol8q+CYi7ikV6KWinTHlbtexs+hFAwFhiH/IIforjN4s3Jk5ZdaXLxoue69K0srIilwL9TnXj4qxRSME0ONWK9Od6ycLLxRi4RHiXrE3MtT7XNk9Y2n4lwsPTOSo4Vp8QSnJeLEuL2SuaKDFIvdW03e7+BgysFRHfr47beLh85bowPjWh7RqD4YoMaJFlnFCII1sWCXCS+7FGLMJ4OwvOS1XnKdK0eVlSgDKeLIvqZYe7WiO5Jo1SlpPFteiS0eWolRjj3qB2v8AYLMI9W1BsjaRtfwzsyIJae385W44ugU6XuLtcK15TO6no4zkEcR4YrFClohN74MCIe05Y3CmpPB3dUzNTx2HQMnFEvB03GDxAF0+9l9b6izLunNoeGa7s8OiwZ+BWK9UI495wYXjYgF0FmFvEg3PCmYE5ACPKmEWWji6FGDKY6UNHgWL7L6LPYc2c4epFVP+6sCAJRQPNB9nT2VlBCkQEqjUlcPoqCuWjEdohfpPDEP42sQS+QSWWHmWJY98bVcDQOKol+KGssRBSFVlxK0szVUSBMyV7cyYiJyrJ3GgZ3OqwTaErhyoIIhclcmO4WpSy50ClxPSk1Dm61DuI0FdyqLiFWkTlWXCRt6itRHXJcqfISh1yDyB4U1yhTzLm1Kcc6USUoGQlTIGf2kJRVikMKd9mdVJkD/e0wilt1I1oJPIsa6R3WPfu8mX4lk3T72sXnSIccU0uKViImf4e2gSKzl/9UOTK3zlyFWJWqxGJDOC5/nME7Q6rtaxDU6CHTR5ecP/ABjMZG9AttXQAZg66wGg7XhPaNPYSxDLQKScI2ycyZ2xuFzrblXR0xMJq8ntS2TQAxHFrwV2mwv11BuJg9OohJblwxiOUxjhqTr0mDYMe04PBE6MwrxtqmJaPQcBV4ZypSu+nJUpWBBAxikcTp5RXh7BJGbp+zCWGZA4W/miiwn64bWuRU+LZIu1JjNyW5qNNpqXEzuJCPqJhuzGg8rFULe4XrAcUqX4k2FYu9wvRCf+5R/Evoq472i1WG936VifjFedgeK7BNEL7Q1FeL3xIW9lNbxpXXNUrEndzo7aXTn+nSrLUGku6chf3k0eIOQajd5JLcuH/G4Vw2XFTpcvNWB7asMR8WbN6lCk7pyRijPwg42OcPko2N7SKRiXAtNlpqqyMnVaZC71iwZg2k0MpLXb/wCtgu2IvB+2vBM5DtjRYUMSMP8AVE9VdEzwj37GEdRLm7E85C2kd0LQZSkRgmpCj7sYsYLh+pdEIV0XMkJRjIT4k6py8YgczR1EpEm+ckFN1btKxzP6v5Uw5usX5EuZnA5yi75yDEY/itrNNL42mF+JZh0Wi0uFYfV/EbT8Nl8bJxISzLpzdYvyImaczx6optWdKJ/OJFzc+n8qKO70fyq0bcp32ikdp7KaFFbFAiyZkExSiwoUaJAghviAm2NeWl3aXK+1KS2rzcnKz+O5YJ7DErHGPMS9MMWgPR8Y1ZrI7SKns+2xVKkY0rE17WKj+s5mN71BHpykP/qs32jbWME0jB1Y9ivSVROclYkCBJyxuKMR23cq10jaHc9/AtfoeJsHU2ew5B71pUINx3ofwJdGkl72voWoO5moc9RdncaPPAcIKjM72BBPM3oHN2lt4SLNyl+Nc3PJyA8SHE21lqXlE+EVZqt4ljms6S6jHL5quO9odVD+SxC81XdDhEL0s4O9kZ8P5GXoo74uavA5b3B1EL+SrICtWNbO4olgeldVZK71lj6YEi1cSLlW61pcKZBZxpvWVbid2nfIgSydVyBxt84k3qJfzU3r/kQNq6xphLIXaVbmkBdYkw2j2UFmnsKHOLyVBOJ4qRQN841Z+cq+DquTaey1AN0s4ViOOyIcS4Ai8NYEflFZg24xWGbRCbN4Ji/FV+D+MUGTTn65NfKZDCECLq/Kr562ZjL5ja3qtXwc/J4pryttJKWbtklFrbeNNpBc2E6BcK0jt0xidaq9N2V0mpQJCNVSHwtPGbQl4PRpd+VbxLL5K13izYTgTHFdjVutSE9FqMe2KcGaKEJ9ldtPKMZWk2DGdvB4Qonc+zmF8NVWnRZaRmJcYEKXjiRH7BXF/Os52PVimz2zfCUpLVKVjzkCTdFl4JuihdqFaf2wbAMAYP2YVuv0WQnoVSkd3ujjTRRB+qTcqzbufdnmGaLguiYup8nNBXp6TIY8Y45EJ+yXCvVqKzx2Xbk2/wBbSKchFp9UUsQRv42CKCuIyvY5fMQNR57iEU9zgJ55vyJOAstxEnh5QJ+kiVIfdSS/TcHqkSxLY74rBs+HxVWnx/tFllOtmwLhhCKxXZM4aHiSF8ViKcHzhX1NH9b14me8bU2Ymv1JXemmEshP4l7HVYOXOmFxa9LlVp7Ce4n9VqCRJaM7rbHszg7Zt4FkTbUsREMAWZtz0ZvKW8en8xcqbe4UfFHdNYApHecePTZPvfegx0P6pXKsZ/q33siwLC2c7N6DQAg7qZGAMea54x3XLMRFsV3ZX0TjSmTbaDib1ehUiPnLBLiyigSuNqh3OpHResFgkLs/MlcVl/EgbUP9FBhOLP8AKNs0iPzFPj8ssSziLrF+UWrB8Yn/AH+7MYn8vmx+WWJZ1F99NwQ8wrRWVwnk0pizN5hVZNLgzJhEnWhqWBmCTHAF0VAwhEgJgZiQIuECZxElhDkJmlAw6LNJKYQ5LNKjmZoSkLRczLCcgsZyZYSgh9+ssYKLvHCzSKIoiRGJAY5UDRW32cKCuIy5mo1Rhv8AfRSlaX9KgszH/SpiuZ91VYjkHmJELJB6xIGFpM6xIHKCURaIF1lYQ+89UiQLAsZ2kwi1ljbXJYQuF3Lam47PgvyoJ03My61YQ6R4UruSxqUsp2ZRFaGa0feQK1MQk6NZoS6mkHCgmuOw8yBiufYq7XGLFYQiQnYk3YC8mHcSByhOE7NSbK+zUlN2Zh3EgRttA8yBt04smYku64g1KwScQZ86raLQhxH5yQA5gaGpMIiRALNRItcDXohWsWBhuIGhmd2Etw7loGy5EIcg36lMIslh2oIERcFkS1yrhNaAkGklZCaTCI2tEkCReSKBxygJZBFJEcJH9yTCOnhhJSJxG34pAzRJ+louQV2+bphCli3DGaekVLSdGFmkUEEReOLqp4tpRncopCtKN2VbFaQxiHlQJ0jfGd8aKwbDH+UraEP2+X9FZz0i43fbRWCYb/ylbQh+2y/orSTKNX9KoG5g2e+otInfbUDCKwrPfUfJINxQRFmYlEL9zdYkQCcUGzUSIThKC1mpHNfTg3k5JjwuXImyjCeEdq+1TazirHsKSmaJLTG6gHOx90IRN413krrVsycpGhyxw4UzHlYwwjPQXSJCK5twP3F0n/dKLjnEc7OBMlEjwpGlmUOE7p1EWolcXoxSi2bR9g+xmb6Bn8P4fpE4ct4wYsnNFF3RDqzLZMzEvNx/BCuMtrWzmc7lSvYfxzgGtz3RRZuLuI8jMG4h4hLSQkuyBnodSk5OpwLYM9IQZoA64u+ckjLHyNFJu+aekUsUvfnHwqSP34vtQpYvwzuEVjmCMfHC9gOFMLRt+2pYpP3zT1inIic1/wAKg19tRb4X2Zt/h35q2JG9+15iWudqN1X2Z3/vg+atiRv1y5/wpI3xJCEbM9okgSyEw/elEIroLT4ksInDBb8USOZiHPzQkEIuOzhTOcNxnlS6T6goty7t9izm1bbhhjZHKzJytNhGMWeN+f2RcReT+oti447lbZpV8Iz9No2H/BlVloUTvWowjI4hxAFw7zi9n9ta+G7u9zdw2feV1YJjvZ92QDIvNXXi9Euxzz3IONp7FGzmcoNTjHFnMNzRQAM827O5vZJb2ARHpAWaSXLvcZE7Eu0gh95Ka7OYl1GAiEQHcZColycs/Im6ERCz4JBCJPFmkUWiyzMJJdIF9qUuJooXGNmlWwh/TgEz4UVVHuE3BpFWy366DrCi2A7KwHvbFpf/AMimlmowhcEXWwhWEbKf8X4qL/8Akk0s5HMDslyqXJshFyuLhUEQ39UUznD2WoJojn+CtUsBZ+0vNxDUZmh4crFSp8scefk5WNFlYIXEcRtor0Czxh6t6eE4Ste9yDmrYDsCpeOaVOYz2mUeeqFbqceJupSouhCEPibmWKbSMKU7YT3Q2DIuBuk5GWrJQd/ThiOEHk0h4m9ZdNbR6DjHEdDgyeEMSeAqrvyKLNxgc+HwrlSRhYh7n7bDI1zahSwxDBq7oUtXDN+6L4yHzdH7Yq7PTGd3adThDCnIwgGq1VC12TUrZkRO8bgiiMUT4x6cqo47MpCoeYjXDaF9yp3QtCwMqtNrvedSQBaQCQIAh4maV4eOidPYJH/bsH0SXtC1uReHjf8AxvgYWf54h+iSPVpuTM9ejMSQiJujKm1dUi/GpIRIQGxjSFS9iIpOfeGlUi4bnhmTHaJlYqopCVpGFyBt7peFyWK0hz8KLdIAq23dlULLb73XI3rrdCUmi8h1NQRDx5SQGYW8SUmu8lQLhG7SgizoHaWXXcqvVUuuaR6nKRER69yBebxaOVgIEbWpRLxtzBuFAA0RbZlSk4h0ParBG5oszKt3UykgLmteGZKJlxhlTFbaJhpJQ6604eZaFc0TaYXIcTvfkOJrXhl4EFFtz6RJACdrX5HJSJuu+0k4u3tx6lBFa1/EKCsiaR3naf5UC7jNLFileT9Ikmdc555vNQKTc191ybrPzKMzBeeoUpFad/D+JBJcJPykkc0bX5XKzVrzpW23HxCgLQLtflQ14h2hS/OBGoy5nIkubrtTNaXaQA3W9RKLmuZpQMNpeUqnE3nanLqIF3nNVA6PfgIWZhWvaPdW9oUXiqIwvkFbChjc6xa8oBFFjY8icVb+akXTFzfRyjkRzdpM7qJbm/B5F6X0x/qesF2vbQYmznBh1CU/xrPFuJU9MEtRfzLPHDf5S+SepkjVYAQqnISM9BHKE3AczsrUSj2tN7INq+y3ZlQoMOPWJ6arcyXfNRm9x77EIcvE0Vh+xHaXhfDeMMYTVZnI8MK4QjJmAOeXSWpdEwMKYZEne1uiWiRfrIeFag2A4NhU+ZxnHrWG4EI++oZSff0rkG73ty51eakrPg234+pdYxnIYGqNRiU/CsmUOPVIwQ/GTBZmjyt/UV21HbTs7rOyupYXwvGmhMhhwpWXOA0QHoW7Jqh0OoTJzM9QaXOTJZo0aVEiPtLXW3DCtPmdmU5LUPCtO8KlNQW+DpJsX6jnZdK2pKMqrNh+OsOVnBtAwvTpmPFrFKk4pTInDsb0xHZlswuLlWM7PaDI0HBOG2UeVkax3hDGajBAbHMuGISyZ3EZqou8Bb9sVJf0isdaaS5ypb4a9F3WEcVReCnRPx2rMsKwtxhiiQ2ZZOH6IrBMXk3AOLv+AIfOFbDpELdUOmhwy0P8QrhN4c77WtFt6NPwiDJ3Gl7BqXBBZgzryxxbQ4GKAw54VgDiFu9GU+F4l6Fw5r1ojbXgDE9Mx1StqWC4Pf0/JkPfUiy4Gi20dQ9I/qoMoxx3NGDse1OsVWPGqMjXqnF3pzYRnQgidI/F8KxTuYccVgZ7EOBK/MnOQaAMQoEbUAg5w+b9RfFE7o7G1Ykzp1H2YzsCtzMLcQox7whAunU0lmGwHZTNYCkalWsSHv8AE9d99hCbu9ofTxFqIlo1ThqlVTuqMeVuoYjqUSVwzQrYUpBC5pE0RH/evQ2wdzxRtneH/bbgmpT0jOUcocUgmTc/2StIS0l0KiRpmNu5qxnWI9Moh4kwlVi+Bd1hy3CQr68VY82h7dKcGFaLgqPQpGaiD35NzbsvRcObSKeQ3HsrxjOY/wBm9BxDU/8AGUcSgRT4yAmu7Sywi5F5GFcKymB8K0fDkjG3sGnQB8cYe/RMxF5S9cg8tZEDrrdP/qlaWpBWpbeCzMtGIYqHe4swNDL4+NF+QVlupyxXEfjdo2DIXDAmovy2rKWkNqIK0RypUzkrXEgVyQs1yZyRAgtQ65MRFxpXW58qCFWnLiSIDMLRSO51BEhAhFzqq7UpNIROVqBFcGpyU9aYSbralK4bkHlqPnKHKXrm06kEie7UglMKQEwuagf2edNalQpDJhS8xJkDj11KQEz0BE/UWN1ho4qw3E+6CSyQ/wBS5Y3iTxdXw9E/lTUTP8PYykblKgvfTTjxK3zjZsykS9ZJykmcjD6FjOM9nmHsfSwQqxLGEzAFsKbg2xAWTC0STo1quldzxgylT0GaixqjPMyQZnKtrPhjCAIQBCgiLRAMoCqmW51Zyj1UJSlIE1M4cz0vVUoxZluQ7T2VFqlAse+BMjxQog+aSxzZ3FEsGU0SPJvB+Qlk8K8m8qxPZv8AsVZ8VORh85FeLLhc7Pp/Kp5R4mqHJXEIufluWJWiWTtF8iZ1zlV1eBvyp8yMPDsJw6VrmvbB8AYlqRz8enR5WZi5gkY27Ey4mrYua7tKPZHNyrCM6MfwjgPD2A5ONLUKQCB0xc0YzdFPtLIOhB9KZCUrpcpEizcKjzVK0WDlagiuajMTiQ3JfzI1iGIibtAwTHLUUYVmkRwkfIsJxmO6xNgmIP2YQrN43vp362rGy4o4xE+EUZiz5i/IgSvcR8yLmh1VqVgkVhFzEpEuE8opOMeYRTDn7SNeXiPC1DxjTzp1ekIE5B0PzB1S0rFqVsK2c0aegzkvh8DjBomY5EKz32P9QJrmt9jKDVlmXmd9u7YAgI2gGUEa2id+VLqPJcSBz9oiUJP9PkSjaKQbbuVW8vZRh+n81OV0KNwEJD5qq6W6eJfTAa5ughJHfFzeJs0L+8yQEtMWIPnLKsqw7ZoX96rfipqIPnLMdXaWPpjV0dcUjisbxOVo+saQx08qB3eim/7FWPCKs1BzEgHXdpONvnKoeLlJWEOdA2m3hUl6RIzEfMQoG5liBhygXMSccvZSDYIdVM3P5KCRy9VoqwLbeIlWmE8hFzEgsuzLCNpfipHDcX4qtyhfKSzXT2VhO1m3DlNP4qrSX/UQZRVf15GXw71vSvvqrRnj6y+IW+yvh5uTxTTCG27mVrS1BoVVo3cqe11tq4oWFdmVQu3twOcSfV20CXzkBHhwo8nGlo8tAjy0XNBjA4T7KZowIW4hBuoMIWiEG0QFFvkqTHTzILMxNeeYUot84lDtQ9ZM4vNULAk0g6pJ+nI0vihSiVp9VN02dB9kUH3U66bAeIhFYrsq/W+MB/8A5PN+iKyanF+nQH7asX2X2xsbQ+HEUYvlhiS+po/rejEzwSyX8RJhJodWEqxK0Oqmyv6or3OpuPqJ3Xt5mpNXaFOLi8pA1zusar99j7xgCfGwXN6ycfge0pAm+StD5hAlDrUfV81F17VgHFlE8qYXDbYlzKeZBIuTxRblYSS0mKGkV3Egw3GduONl3PWIw/8AyxLNLiJzAzLB8dW4v2XEz/PcT/oks3bcFmpJCWkUULNSB0WWXKMujiSwsoWHlQOLbCZpIkaQs0qLSHIeVSQjmHhEUDE1ptflEUHrG/SlIrj7KCK479QoLLb/AHzMKc8zSOxwqHZ7/hUOuB3xqB9Tr/fVQLiY43HvSTiTtyXERKIV25LrIHFxCHWJEJ3ieUSRCt3LtIkSSF71B6qCQFzPuREgSIYVwfBKRy3fFIErcnwTUDt5LGpiDOQhpFVkTXiQHaIqxotjNfpQBfDeJ4UELgNwHpUxcp5xURW358wrRaXEIHmFKdxG173ItMXX5lANzPzEgkeoeZNaVt9xJeC87iQ4YpAJG25A0NvOxyB4ntuTA2zx2skokLQF+okC8A35lZCK6CRGaV9sG/iSiQugkJ6UDNyC82JYTfEi/iVg6BfpQ4rCfpQLCK4GnpJMLbLzyoHQ3hUuyX6VgRnopREife0BhKwootz6VS4T8W+zdIPpcRPs+CVRZo1nwQpvF6T+CSk0t8Q8IggsitcYlwilIScbc4iKI7fHN5UsX3o+NAFaMYiDUKsiiIjGQQuIxsualijcfWagkmj0mOt4rBsN/wCUraF93l/RWbxhaZ/dVg2Gf8pmP3fHy/orSXkygQ4dUdBDDFlmWKSQeFlm/QeYOsSPkq4XwIs+FJPAG6DZqJRCu3Om4ksBzINnEg+Sryk5U8NT8nTJnvOqzUnGGVmPiYzbS8pc5bHu6W6cEDU8IbZJmoy1bkokQIE9Ggv6TDp0kX+rSS6bgODvZtrXLzK/hjDuJ+9ir2HqVUzhQmgc3AEiAesqjKPkuEv2ctbb9oMv3S1Ywzs92dQZqeloEffzdQOG2H/2gK61gU+HSqfJ0yEe9g06QgwH8YgLV8tFodGw1Ld7UOjyNJgxYV4SkAYTyX2ue/qpKTZz/VBXibdUISRFPP1RSk0X/chTZt9wEIqXMvx3MQpii3m7SSIuWN1halitEoxcwoMC2o/452bt/h0vRWw43v8Aafw5LXu1Iv7vbN2/w6XorP5gi75Mft5Kmy4oAiEoN+YiSwroQO5koFcDT1EmEveSfmciSi4hB2uEmc7tQk0InMv0kqxIuP4JGuW+6IkKtsu2xYc2w0iWjTMgZCM8wHMJrSEuFw/qLNMe91zs69p9Vj4an5qo1uowihwJHvUg3JGLXF/uW8JnphRpaZgRwCPLRYQjFgxgcJjzCsck9n+CKZPBUJHB9ElZyAQxYUYJIXAXEK6Wj5O27Hya67lDAtRwLsyjT1ZgnAqVfnO+mGDYoQxFou62Zbr6A8aAk/OTE0xGKOUbeGZm4VV0ZwJ+UlMnKUrzEISdBEsl16jly+KUwsoXnmUNcYCOdpKWAvesnwSmEPj/ACUPt6wolffwbyoMA2TF/cjE5f8A8im/SWeC53aWC7Kf8R4kbqxBNeks66WiXaVS5NkUSyN5kri81A2kAlxEkEys7QqWLd6TjdkaKxXahh6oYv2d4kpVIjR4FYKEJSrDbvi6Lmu5lk+m7hUiZOO/mQc4bB+6SwzQcGQcLY/np2l4goxlC3swBHvYfMXEKxbbZjuV7o7EuE8FYBlpqoQpCOUWLUDBsP6ubsiOpdK17AODsVzPfVewxS5+cy76NAu81fdh/DtDwvJ96UGjytMgkROCWBr+0ulou27Hk9RvesjJywm/vWThwH8bBaoErjIbmtUBmAeVK60yvLxS5uJi99yGSVrdBvclHhv0pSuuYZXIDoEWe8tXi4zHe17AY/7TEv7Ml7UMbrg0kvDxZ+ynZ7/x5figkterSs1ESHNxKBG0CYGpDS4FXmJrNSh7EaewvniwiijoFq+kYRNuANSqZbaAXCqA0heNiLh1gjM9wBpSlm0ZkDFrHlVZa/KSkVruUkG5wdVAxXMFJ8F1huUuFzrFA5jHrIArhOzhUjaWTUkIvOFM0byZwoBqXM/JlEkxCLms1flVdrsjbSQMXpEkEbgyMc1TF19UTRc5tlpIIcVmTKlJwlo0knEcmTMQpNPwd8JaFFw5zC4kCWQXhlJyZ1rhML2qv3os4ZmILCijmGMGklWXvrX5SQ54uEwy/kUEVrng+0kC5hAX5hJAxQivEY2kUzmxQaergQ0RFgmAudkQDhAs55kC1oC89QozDcekVBE0nP1flRKOYTPKhwuufmcltsEdLhSlcPZQWDawr9Qpcw85B+RKVpa+JAjdk4hVALxV1+kkZWORmG0Mw/kSE0h8lAxFuhcl4ys0kpLM0uL8qHZOq1BbLj4yCNlsXR/rWssKkR0vE8X4+sxvxEtmyjd/BbxCS1dg4v72awZaq7NN/nJIumLm9NxFcRgmc1V2iLRUL0vppuIrmJnOyo3ouuULRHVNNFmYsW2JGiReukOK60UO50QO2odEhE4IxifGCR3EmcPGtakiL4QzekLtpiIiK4/MSuIbXoFco0Ap1OelLifqQeJjghHZ5ifmCXH5YwraUMShS0GHoEWrVmOhdgOpQvj5yShf2wranSThDqiuE+Tw5woLNrR1Xqcw61LgQuHM4mqsSigR2GJiOdWEWoesq4ULdZbv/wC6C4pqZILjNUtG/Ohw5SC8lKCBM4Q+LMxUd8x4rxim4HOQXUVa0Lm0IIWvQTswhmQ1g5OVBU65xBYg0zcliqaJEgxOplvdq1K+0UQiH74ssJYnHF21k/5LR4fnkSyoj4kQFUVqd3EhlyCo0ppyFI9AvMjqqCuSoAitzqoszk6UmtQVpHFlemLrpSarUUuVIVtr03bvSoFzKCyqX86HadCDyWo1OSiSflXNp0JVLuJAztKlQNqa77Wga7jUIRzIGTClFMSkGpXKlycEDFdcsXxpb00qP8VNCPyrKussXx2IjSIMX4qOJIS/D3Yotjm3SlFNHFsW7hcqRvuVvmSWCSZyj/sU5kYYU/WVQpvTRp36npnc6R1ym1rnoxYXKgSuaRpSLI00ou1GCC52pSLVUUURzGCYY8PjzIPogF48BfqWIbO/FUiqwNcCoxvxkssge/hytWK4FcMfFUD4qokXyorxZYWXzflRmJqV+kesle3zvxrHFcJOZ2iU5R7DknL2VOa3m/IjoZzrdeVMNxdpKI5C6xIG0eqjFgJ1V1eqrHXIJ5VOpIjl4UaZysuS5tas0ufpQYZj8t1UMHxC01P5qzaOTY8blcSwXaWLZGgxfiqnB/Gs8mR/TJ8yMKOVr9LUzbu0q3XOfqQ7V2kSsAshFzEjL5KW5p5H5VY3TzNQT1WcKnV20ocRZMynKLuVAandYkdVHsaeygfGl2lzDZlI+io1+cp0dlAxZenqq+Vc5Vazbyq+TuiQesjpi5se2aW0ifh8NRjD5yy4FiGz62BiEPiqjEWX6eqj6psvkJtShF2YlgYbrk3qpRt7Io6fhOygG8Ks1dYkurtoHKBdpAwkJFk4iU6Oyky28qceEtTUDcfZTc3MlEru0mDIHVJAwjkJTpbypCyJy5eVA3GPVWE7YP2HAfDUZUvkiCs2tcHXWE7W/wBgU5E+KjwYv9oK0kyuq/rl3WXwh+r2V9lT99cXCvi6BcfSvhZuTxS5GUjdmQOd3OpDLcuKE8Hvj0+Ueyk09hSI2+SguK5SPEozEleLUUYrfJR6qC13pmv8oVDQ7Pfwq3pzO4iVV2o9SkXWdokH0yPv8EusSxjZxbV9okPhrf5YIrJZG2PB6qxjAluKNpUMf4Wg/wDRFfV0f1u2JsDSfVFGo+uoPMfXU83Mvc7hzyDrJx0dokgaPKTZWdUlgkczuVM1rx4RUE4d8PCIoJ1/ZFA7s/kphzO5ko/OQOizUgdxER9dTpCxVwiIWExMOXJpQM3JYhpDaztpew1Be+uF+VaMK2g24j2YxOGu/lhks2i2kBCB2rB9oNtX2exOGuw/xwyWdRbCueskE1ZNLkWtu3mVK+5BNIWiaBnddMRZxv0qvMWdWEVx3tQSVxZ9QoHM1+pEIiJ7j1JoRFZfqQM52sC8aqxInQeYiRC0N4iVkLR1CQLCL3kesSaE5odUlWGjlEkwkTerCQWwmt/olAt3VvxSgnDl+KUnlP7kKBSEhEx+1CmLKbuEURfeo3VFEfXfwoHjlfGJ8TSmit8dfqFLFIvHOPUKsiuImvzxRQQROffqUb1xZ/hUzueH76pFw5TD338i0Q4XNI/hVDtRRspJhIiKCTwLxpJoFxQRI/hSRJd77zfqQJOYRHY4lz1gjuixpuLaxh3GJ/pCFUY0KVqjHbkXWjEHhXQcCKEWBJzMCNAjy0cXwo0G4THlV5MMsXJGLLCfFYMUXQXRlYJCRQRfxKuE4SASYTxK9AucGT3pQ6iEThC8MpJRdY5mVM7I4w96TCROD7ksAJELBfpVcci3R8bVYQtK1lsJNx+z8UtFJNcA8IocWXlcm1n9yQ1z4mjdLAFa8i+KRFzdYU0UnCY6N0KUhzk/hQMRE4xflFBEI74i4RSxSaUYeqgm39kUFkdpFGLqquKPvzeVBfDcpClil78gsK7fFxkIoiuJ7eJV2+ObxCmi6+ssDfC28blgmGf8puP3fHwfRWbiQvMftqwfDf8AlKx4342D6KrpxJMlER/tUDoK/wB9JAkJZ/jSQIiLC+2o+SWEI+JEdRErIeSD2lUPwPXJTAaW57SBoWSD2kOtluqSrhDdBcfEvlKBFizMGKQeJhC2FxO6cxIPsHQJfFfkTCOSz4JV3WfciVgl41ugYSCtzt99yFqtLX1RSW32fBJuN3CqFce0TdpamImiYjxClj5Yw9VQ26NZlIUGC7UneHtm4/7bL0VsCYd3zGye/kte7T3e2PZo7+Gy9FbAmB/TMYvt5I2XEAROAhZmJJC+BdzJ4Tf7VSFpBktIkSrHMBdZMLm5w96TQnFueqSrzMv0o0DkzhcLEhERP6iZxboB5VJcp6UYUt5ffqHyUjxArj1JyImmSWK5xiV1yIS+1ubxqkXWdYkhRfGuI9SYSJ0G/M5FlJoiHVV8sXj7uFfNCvY5XQPfQRkGB7IrsOVsy1VuaL+0WbGRXlzCsH2SXYVqpcVWm/8AqEs3ijnIVUlyOOftJebrKdXbUjaXaJSwglkv0ocIvv0pQ96DqkphOa3lQMRWnfwpBcJZ9Sl2e9qiKRaT1IwCTSAnpSIhZnSuEc0bKgScwt9YTkagm7s2vSkQ70HP8aVqkiAd8TzyqCLPn0oF6PfegWHnXjYn/Zns6hF9lTH/AESXudHvoFf76vFxF+zrZ6PDHm/xQSWvVpWXC1twGlaTjJnCgW7oHAeVEVrchqHsA5nM1KhpboBYCuFuVh2kl7GolQrJ2YmZUsUSaeTMKZolcQJuZmkUCC51ufKlhlEaA62ojxRgCZEFglcxEAhKFBiDrcgHCY9ZqGt8pKRC0C5UEYkLsyAF1g9YUunsfkTCIiQDzIhQsg8pICKNxkPKSCEnNZY5BC6EcQdQpSLUzhQAQtLNKCFomLAyiS+Gtx4sjRalNwmb6BCiGL8rmuWsdkO3Gm45lpOkVxkjiE4RCEU7YUz1eElcccq2cpZYwlVt6LmazKSqEckOy21WxYURxiQaRJK0oRG0AtJS6qG22suFMTmusK4STCLhawNSruIfg8v5EFlwk2z30lQ4ifDJjGq0iudZpJKQt4M7USN7nv0iSi52fVn/AN6lxNC8GNIUOHM+HlEkC3ZX8QqCIieT7yEfxJyK5xHY78qUeF/EKCCK7PqFK7n4hQTmufpTEQ3l1SVCsXEFz8qLc1+lNcJO4LUmnPpQS0ct+ZQINEM+X8iktZdVA26NX5UCNzkzSmaJXDxIaNlnEKUiZ5KC2W99hkXN+JavwbdgYIo/Dz8aL/aEtnQyHew/ppWsMDW7PaOPHMTH/UJVF0xc3ou8tTc5GhxKfIXd9AlwKXKSdlsSCtA5gqt3EasJLcRZ0AOXOCHaXoEkrnkgCLS9DuE9ah3OldzrWm/7UrrXKXuzGpJrUHhYzIvavLwvja3IekS2sYtNvAZCtWYsHe0rDcP7KrsuPkCRLaEWL404nG0lwlyeHKlzhtSkTeNjvyqBst4UpCTddwtsUuAy8aNHOlFoja9n0zJrudaEzG69Q0nZE7fuirWAJ2kEFfoRd1rkpDyLQtvAlJBDa5CCMyr1piHSgbCcgw6GW82o14h006VhfOWV9Ik01iVJu2i4wL4rvcf7NZX0gLlvTkmacqqKEMW0k5ftJVjFQwIcIGhYGaxFyt43KCagr0JLcysVJIB3QouUas6HIE+alLK3sqVBEgpdxKOZDm60K1DMqyttTWkocKDxrnqy5V8ysyrm0yErUyCQTilQgs5kClTIGFMlQJKRZlQlTILesscxsIxMPTLtJCXnL3+qvDxjC3+GqlDeYuhZwzIPYhQSjwoJcQirRkiK5YjTMHRJmlSEX21YiECgDZvx9VX+0eLqxbiL7+Kpy2Isn7zJMEkTVi3tCLVirEX38fVTjgX/APluIvv6e6diLJhkyyqRkyWMe0Uf4z4i/Ck3tAhF++fEX4UnarYgycZXT8xOMmSxb2gwv4yYi/DUe59Aze2HEX4aSe8TagysZMmtR3jE+1rFvc+l/wCMNf8Aw0ke55Kfw3X/AMNJSbUGUDIE55HDA1b3gWq5Yj7nMmX+e6/+Gqfc3p5DdWMRf1gSr3NuDL+8ogkBMbcsRwdLxPbNjaAz4eGSC2ZU0S/xxX/6xJY3Q8BU+PjbEkjEqVbZAhQ4rwnScfs8Se5twbT8HFpTeDi0hDWI+5lSsxVKv/1hER7mlIEf1/iIv/MIintbsRZh3gWZnPYgZCII3cP5ViHuZ0YSb3/X/wCsIiPc1opZZ+v/ANYRE7WbUGZd4xHGIAfCm7xLSDXLDfcyoWqZrf8AWMRN7mdA+yK3/WMRDagzDvGIOjmVneMTKsLHZhh746t/1jEU+5hh746sXf7RiIbUGZ94Ep7wIsywwdmGHC11j+sIif3LMNajqn9YRPWTtNuDNPBpN50d5RNNqw4dl2GOCol/5hE9ZN7lmF2+81H+sInrJ2m3B8u1eVL2tQTH4Kfgln5lsCLK3PfDyiWflWn9omznDlKwlMzMCBNb4YsPPOxCt6S5iWUDsuwlFhSx95z10KH+7YnD1kNqDNO8+IwytR3n1PvgrEfcswm8B8Gxy687E9ZA7LMI5vBs1ld+vYnrKTagzDvXnh3FxoGA258Py1iHuWYQH/NsfLrnYnrILZZhBzfA52l9lRPWVG1BmG4HK+Bl4xTFKgNo7vyxWIjsswcJW0c/wqJ6yb3McHaqJpd+uonrIbUGWlBASzw8zs4o73gEPv0B92sVi/uW4M/gHT9lRPWU+5bg51uHg+/xPWUq2oMo73hfHQPv4pmQBzRpXyxWLe5bg537HoH3+J6yPcywTlLD0C77fE9ZDagykQgfHQOL38VZA6ZeFFAu+YFv28Vi3uYYKH97cr5cT1k/uYYMf+xiRzcZeshtQJgAhKZxVDhmBtqOi79VZmHz1g+z6RlaVV8WyMjLBKy0KcEhghlC1ZoNvpLHU2gE/wA1I3Sn9ZA3TrTfPJyrfk7RIQA6OUSTF81K23yRRaWXiQWZkQrbi4kvMmdw6QQOOUC5SJNpNV5RbwqzUaBScUVonY5WjcQNUD+cgbR6o/lQWDo6iw3a4I+5tXi+KhQy+SIKzFmlYjtXHe7NsTw+KB5qEntzk9Ix9yQ1KRyw/hx4R5l8nf0iJXVKRzfHj6yxv3LcEjJycUqCBHFgQzI9/E4R5lHuaYMZ+x6AznMvWXyNRWzyz5MlGp02z+6sj+FCjwrTRf8A3Vkfv4rHB2ZYKb+x6Bbzl6yf3NMEZfa3K+WXrLz9qGQeF6V/DEj9/FHhukDmrdOEP+KFY+OzfBn8WJXPzesmHZzguz+9ined6ydp2Pd9sFE/hql/hQqPbFQWt8PUv8KFeMOznB+b2sU7zvWTe5/g/wDixSvvZJ2nY9f2yYfH/P1L/ChQOKcOmX7IaX+FCvNHZ9hH+LFK8hN7QMI/xVpX3tO07H3+2rD1n93qX+FCgcY4che+Yho+X7KFfIOAsI5varSvvCccD4VEj/vVpVv2hO0fVCxnhcYt+JKVw+/rHcG4xwzK4u2hRYmIacEtHn5eLAMztPxdzVkMDBmEyigPtYpdxfYorwsH4Mw1Hx/tClToNOKDKxZPdAcAWgPTDJzV9LR1q9GJlhbQcJCV2J6Xm+PR7pGDv4z07y/zVbCwThcf3sUf8FFP7TMNCNuG6Xl+xRXtdXy+6RgwRD++enZeMvVVRbT8HZRxPThtbeZeqvT9qGHLy9r1H/BRTDhPD/8AFuj5vsUUHm+6lge/++qnXN4vVTe6pgf+M9Ozc3qr1farQf4vUfM39ZCmHCtBsL2vUv8ABYaztHjFtZwL/GeRzO1eql913AoiDsTyPneqvdHDVDaDaDS9X7lFSOHqKIh/cGnZXfrUVo8D3YMBBmxPK+QXqpfdiwBpxPAy8BLJhodIaf8AcenWj9ij6qs8C0gXtpUiLf5LDQYmW2fAA/vkDyCRF204AvdiQPvBLLhpVNcY+DZH8Fh+qm8FU7RISI3fYo+qssNV4s2jYVxVV8DSdFrHfU4OIJeLuWENrSErluGP7+d+pa/2kS0CWgYMiQJaVhH7Z5BxhAESa4uFbAjk6Od+ovSUyCPFudDb86H3IQMJXZ0rXEmFw6AQLsxICETR6ycSyZEg8KkebhWhoWUFYNou5VXaIuHIIo0dlA2n+iTE1p9VKVgmXKmLX1RWCSt33VFEX4YiPhSEReOdyimInb4eYUDRSuO/UKcspi/OYilLNouiigSISyAQb1AzicZfbUxdj31K37n76hpEywL4q0Disay6KrBIhKCPMRJRc6CTAzJxH3mwMxICE5sEiZmIk8sPjZbJmIlTCH3kSDiJWSg+NlrOJIc0ZuD858adI9GNcTiX8IxvSWcbKNt9Y2ZRIMlFfUcMGXjZE80H2dUMtPVWE45+pjzFQ/7RjrwP1P21+v66aGfFWT8jj1M8GTrKL9H8JYopGOKLBq+H5yHNSe6ISg/CwS4Yg6V6oBkcHwS/PDBeNqxgKtBWKDM7iZAGFBO6FGHp0kK7K2WbY6RtPgd7CAU7EMKB42nGefmh8Qr89qtDPB/6v0ml1kM3RsdoiQCQB70maTv6JVkJOPeB8EmIfGnZ8EK+e9pitIyZ8Eli3EeT3oUrBbGJl+6TRR9+syiKoBDafVSRdfVFSQse4OFEW2LG7KwM8fHdUURR9+Gx6CNpRhHS1NFc8yZqEUAVpRh6qri3FGbpaiK8t8WtzUsXWTL3LVLCIXRife4UhXjGHmTxeLmEUpFuijdZYkN8UbeIURYr3/dWpbtWdwqfnRVgHZ/uqwbDH+UrHn3WD6KziENzSz725a9odVp8jtNxzDnJ+VlXxYJeOMRtbzKvEZfC+BL7eRKwdHKRL4oFZoQ2+HqcTi+OFNArNCEIIxMQ03MX7qFHz/jSWwvgeUiTCQicFuQnL5RrNA8SRV6nD/zQpZavUARlh8PU54u+GGxDYk+wHNBuoSSjbueARJfONeoXiR9sNOtd+6hTeGqA0B8PU7KX7qFDYku0gP2okE6EQfcrV8vhyhOAvbDTmDC+yhTeHKETHV6ne9fZQobEl/sWmTPgkvs2mPEKp8M0IYTfD1O96+yhTxa3QSeQ1uR96H4cVR8aSYvR03tBNE6M9nCqYtZoPjm16nZR/dQoKr0Mn/3bp2n91Ch8aTCdqAj7Zdmg/wC2C9FbBmP10dnwpXrW20uqUiLijZ0UKqyMUIVWIyMI4kwW6lsSPXKCUeMXhunF43RNCjJYJGY4Ws+FTezks1KoavQhu8NyObJ30OVJ4Wodg+G6bnv/AE0KN+NJcHRk7SrHo6R3I8QklGr0MRARrdOzF+6hUDV6H4l1bp2r91Ch8aS32Csbnal9jpHyVHhShkwhrFOy/ZQpfClHLLWKbaP2UKHxpLy6Oknwy5UexnLmVRVKj/wrTsv2UKTwlRye2sU5gt/dQofGksd0EV3EoHoJwO40g1Cj/wAMU7MP7qFN4So/8NyOb7KH9tD40jCVwF1lZKe+h1CVHf8ASbHViRzfZQq2TnaUMeC2q07V+6hQ2JMB2Q/sMnCK51Rnf+us6O0TdyrA9jc/TvaOYHUpUT8IzpMOOI/DEs7KdpRif92JHL8eKyRLBIDrIrrlNo+UkKbpl/8AdWRL/mhR33TP4Vkc/wBlCtNiRhuHJmclc0QHlQMalDlqUjn+yhSjGkGt8JSP38fWQ2JI9kry5VWPSTjdGAm8itKNT/4Sp2X7KH1lG8p9/wDdWSy/Hj6yJ2JqyPp3oCPEm9noHXxI3lPd/jWS+/j6yYYki5xVWSzfHihsTUv6W57GsQ/pvv0irBKT/heS1fDj6yB7zIT/ALqyWX48fWQ2Jo6CESz8K8XEH+UPAA/bZ0/7Fe+6TJ/sVWV0/Dj6yx2uR4EfabgkYUzAimIzpEwxL4Na9eDHRmLtV77kpEJPHxmRRqAX62qLbB5S/Esd0xRc8r8wpSa9zDK5EUhzcrkpNcZcwkgUWiwGcSMsJ3KmtErtMVJcQhZxIKyhDuowxQc5pkmGFDFgiDQEksVw+Smi5TLmEkAELIPWFVjCtMRPMKtaQxW8ygbWO5hQBNvZyqSJkW08pJG259KrIs8TqoE3VvWcHyJt6JQms+Acz/crRcJa2b1I1whZpIXoPAxhHhjhCvNyBAdf1VwNJ9D5OByLvXaDbgLEh/yAjXBEHp8SHRyCvvelQvjk+B6pP2yuh9lfdCRKcMtQ8YnvZNm6gVTVB4RicvMukwKFMywTMsYRZaPCGLCjAbhPqr86Ojp6B6fqrY+y/a/VdnUcJYg7+oMVwxZQzuDmh8KzW+neWNWh9T9+zK7Rtdbu83Go3TdAahXhYer9FxtTAq9IMJqWiwhcD7gLUJDpIV6kyMeETYABmcviyj7PuwktKETcgZUFrawspL5N/FhCG/lgzNIwVgzUAvF2Pbr/ANSkXi4eC0vypWtEMmoEZnkAQyykrGt4MyJVEWqzK5QRMffqd8qGkVtmoUhE4TyXD+RA2oB5iFVk5reIfyKzKbsuUkv5yoBHnafCSUhuuPKTUcvEJCoItRdZSDtu0pcwu5XILW7i/KlyMFUGtFmppJsrBzNcKr6t2VNa4+ByCuKRQpaMZaYET8QrS2EMf4RlsG0qnztb3EzAKIcUO9SK7pJbkqBCNIqpZWysb/pksa2ZScAtnOGyiycqRlJi4zgC7NxKlRlRinugYJL98kP8FJT7fcGl++SH+Ckto95ybv1nKj/QCl7xlspScr94FVd135NXe6Bgof3yB+CxEDtCwUP75AL/AJUltHvGW+w5Ef6AfVR3jLapaR+8D6qbhuyas9v+CtWIQ/BSR7f8G5hxDD/BSW0e8ZYbu85H7wPqqO9JbTLSP3gfVS5utWljzBv8Yg/BSS+3/B/8ZYf4LEW0osnLZu85Isv7lh+qgJOWK3vaVG74gfVSxutXe3vBurEkP8FJN7fcGt/ZDD/BYi2d3lK/Y0r94H1VBU+TH9zSuXRKiqsbrWHt+wf/ABkh/gsRL7e8H6sSQ/wWItod5Sf2NKsze8D6qr8Hyv2NK/gopY3Wm8UY/wAKxY+DIUKthFCBWO+oviCFg7shWcRdruB3G2vWfcCXzY7k5OLizAEsMnKsjx5hwbgRf7EPUs17xkyHeFJyvF+tR9VQ5SYh7ruCf4b/ALAkvuwYLdbW/wCwJZj4MkRNvecrm+xR9VL3nKfY0r+Cj6qJYd7ruCv4e/sCR7r2Cf4bN/3AllpSMr9jQPvA+qo7xk9UnK/eBQYf7reDi/z2dv2gke67gzVWP7AlmHg+Tc0ZOV+8D6qXwfIt/WcqJ/cB9VBiHut4KL/PH9gSPdZwZm8Mf2BLLDp8rm7zgF/QD6qri0+TsHvOVH+gH1UGJ+63grL4b/sCR7rODC/zx/YEsp8GQHO72gM+4Cn7zlR/ccD7wKDE/dZwX/DH9gSB2s4LdbWw+8Ess7zlR/ccr94FAyMpvQ/ScAv6AUGE4FqsjXq9jOq0+Nv5OPNQ4QnlewRWbEsSwPCEanjOIAMA6tEay0VlvVQkUlBcSlJ9HohWUVua3hToSHkQQVxKsrU+QkhZkFagi4TTdVQgh5Hc9K9BcyTLagpJBZUyUlaiuUdZQmQePqTdZL1kLm04t1AgbhcORQmQWISZUcyCzNmTDckTu4lIkU31VWKZyCxMlQgsXm14d7Q6kP2gvxL0l8VVDe0+cEfii9FAuHi3uHqUQ/ECvWcK8HCEV2Gqb1S/ES9xyCRTNzoFMgEyVT/2oGDL8Gm6vVVY8StQMgVGXKoQO1uhSo5lCkEV2lYpTPFbUq99tp0MvRWWFlaSw6ERQtqTvj6SqGbItSuQpDO1dpNa1w8Kr5VZ1eJA+nzU3vp8Ti/IqxJDrez+VBYNwuZzEmH5v5UikczuZA9rTEeVNqScHlKXNZ9P1UDP1JrhG3Sq+r1UzkGJ7T4TsD1hoZREvOWU0qKMelU2IWqVhl5qxzH8Le4HrcNmaB+Ql6uHIpRcNUeLxScP0UHrNaPZTdHqqoXZU92oOZYH1W8SfmIOIlXkHqIO3LyigdtrmZRTN08rVDvOJAE7ziWi20bRUwsweUqhJogXK5MJCNvVFBZ6v5U9rMiX1moG5hcSKWCLu0aIuW3mJLCtFRFyn1EGJ4XJmMcWhxFDPzVlp6/JWGUFw7QcTjxQoJeaszc67mJYLNbuIkolkRp7ChA3qp/+xR6yBLyEDdbiQNohq1JQK1yOMeFAzWj2U3/YlP8ANQVxdpBcOjrqBLUkuT5R7DUDDzcKlL6ycSaTiQO5xdpYttJF2AcSD/I4hLKBLISxzHYb3BGIR/2dE9Fb0T1fXLFvaLR4v8ggl8sMUwftdRfHS4pFhSgkJ5pCX9FfZ0Zu0xfF1HJ5cvM3G5GbykolcHWQOgS5l5nMwZQ7SIQ2h1UrbeypQMWuxWN9JLmLtJbSYXWQWCKBFo5Egld2U93kigYWpuNyVO4XdpBbLt34F9tXg4UdC2pbRR4oUgXmkvbh++B5S8HD5N2s4/dqkKcXpCvo6Pi9OBm+l3Kn0n2VUPDw2qzlXvd1nH11LbusSrEvSVg6O0gBaTOsgNDeAkol7z1STaOygNLuVMWu88qCJr74loi5MRZ+yKCLie4+GxWWmRtNtyUyaR36kziLKepYDjv1IG4g6yA0ZNSW5wFY9rkGE7Ui/uZhUy04kp3/AFFnke6ZMbNXpLAdqw/3vUEuGu04v/mRWdTQ+PjExaFESboVmm5j0rWjkyilbnQWNF1wIEdTMqUuJiHWZEDZkCLSdyoHKi4eNA7RbcGlA83VUXJxJrxQBBaachtMi4lDiG3nQebkJYArt91kzSb2kuq7icnaLusSAbddqioESEgEQD31DeTUSBF25FmpAwjvdy4PhSQN25s1EiE0ig8zkaoIiDbSQNAEf0tZlclgXbmzSSaE10Gw8pJRtGD9yJA8EWnBJh2iSeXt3Nh2wicqIZNY5/vRJ4J5Lz96Ww/KJ8H537Q/8ouLB/2hF/KKxz9tZRtL6WbScZf+IRPRFYn+2v3Gn4RfiM/Jb09PsdP1FfLzMSVjhHl40SBMwrgjAbSBfN0dPs9KOnp9jpNVOEJ9sk4sk8ffB1tsj7o6WqwQcP448RPt3UCr6Y3CMThLmXQccW77g3QkJhrX5jjE6el3s/VW6NlG32rYE/uVWTj1XDBCwYL3RZPmhlw8q/P630qndifpdF6rDJ2ZHZsUmjG6gqT+G7K8+lVymYopnheizgTkhHEWmGjlIdJL745N756wtXxfx+X10xRumR4RFEVpb7sqIrf0yXMIqCzTOq8VgaLmjNBuVEQs/WFEVpb6+xwoiiTYzeIUBHK6N91TRSuNt3jRSllNwGPjciUhuNwZoq1RuMvtqCG43fG2oFzj5oqLv7VYkdj4VLc0OWKoG5lnwqYiFt2TerQ4iVnG4lj09gfDVanu/KnRJWanIsVm+PM1e+NrB5kQtHWQYqOzfCBMdhunXE3IXrIHZvhBwCOGKdmK9n5yyyEJNDlIrEsDLB5XLLDFIWzbCJkA+1unceQlI7OcIFuSLDcjq0EsnhXbmziTSzh3OR7SWjFB2aYQIoIlhunXDwEpHZpgyz+9unZX5FlDXDBbrAkCLgAeUkGMe5vg6wfa3Tnt4CUDs0wcWXDdOyuyfnLKIUURIB+1KRK1osyrLDFvc2wdut57W6dldkJVls3wY03YbkX7p2QvWWWfBGPKq4pWm3PuksMZLZvhARMhw9I2t0EnLZphARP+9uR06FkcUvfuDdOVhXb7mEVqmKxdmmDC/e3IkYla8FPuaYMze16RzcCyt2cnpXXH1hRLE/c0wc79jcjmZkJHuaYOsH2vSubmWWFFcRt4kcF7rkGJjs0wcQgXtelcxcXrI9zLCFn97crq4vWWWaQHmJKBe8j1llhivuYYOaBe1uVy83rJPcwwh/FuVyc3rLLRL3keUkolk+5JYYn7mGDCt9rcrl4y9ZQWy3Bl/wDe9A8svWWW6+qKMsU+qtGJe5bgx37HpXyy9ZL7leDv4vSubjL1ll5a+VGntLLDDvcrwcRf4hlWdcvWSDstwZZ/e9K6tZess0G7ykkK0gbxMVWGGQtk2CYXi4WG5WEDCKwyEfSR7leDhB3gGBl4y9ZZiNzNGZKQ2/0SmwxAtleDnG3D0C0R1xPWR7lODs3gGBmbniessvO14j8UJIilaZdVVYYgWynB38Xg+/xPWS+5ThBwD7XoF/28vWWYkRFFOw7SFqBui25HJYYZ7lODs3gEMvx8T1lJbKcHfwIGV3v8T1lmQ6BYepHY0ktGElsmwdf/AHEDT8PE9ZHuU4QvbRwzfHxPWWbELhjCzSKQtZM1Cgwr3JMJWf3HDNojxPWS+5ThFv8AioNXw8RZuQ+N0ZkrWkFgahQYX7k2Dm3U3S/38l91FwBhrDlTOpU2QCFPwhaMYzImD05syyTdOtsypIpOeQsuESQOZeNO/LFFRa7PqJLFK4yfmaSHE609SBXOHPoIUpFnz5RTPIWDvnOcKVwtC/NC/IgYic8i4hSmLSb9tIURYrt8Qm7xQkgvfzdkcKCprigxCA7XIK4f6IVY5hNL41LCEiHJpJAFa8i4hJUwnRYtwWb8m8nsqy7dG3ULk0UmvicwkgWE5oO5hVZk2EZfavyK4bSbwxVXmY7hIUDETnkJ6hJGWL/SqonNa/R+RMUW6M7lJBiu0qL/AIO8Q/8ABxx+RcGy4+JHqiu69q5brZ1ign/BRB+UVwmHvMLqr9H6R9b8z6v9vRYpydKRC+u+MyPB+LqvgqrBUqRM7qNliwT96jDwkK6/2c7U6NtLkYwQmSNehQhKLImf1tUPiFcP9Ps9HSvolZmYk48GalYxwJqF71Ggm0gXztZoI5u6PJ9jReoyxdk36HxQIfgfhRVJycCOQb2TAgAia/8A1rS2yrugZbEbKLi8wlaqIiMCohbCmfY4uElvGLC3ZGPSB6SX5vJinilWT9FiywzRtB8JSNrIHiN7wf6lbAgFCgBDiHvYwiJb409rmiDbkwjaFmkhXNZCtu4C/KgcwWcQoLKdmZpfIpzEdmoUFQ3eSlIucNJJiFoh1ku79BAw9dLl1ouFNd56oIWVKWZyYeY1CBGi4CTdZD0O0oPMxLF3GGqxEHTJxif2V8WAoQwMD0GFwyot8lWY2i/3j4nL/Z0b8SfCYtwrRHapOCXmoPZbpJN2EuZVt85BYQ8YZSRkHIqyJouIOFNbqDUgM7226kNaXaS3OycqVpCLmIGFxaA1Co05AyvQVryYl3okTrGDaqDl1AzJNfmou5MiUBIvSQFuYWZfyJXFqQLhtst1ofp7KDCcWNi7SNnsL4jv2L2ekRWaDlAcqwbEJb3azhKHw0mai/IQrNopEROFnEgbTn0/kRrTOaIXhmXz3WD2UDEVyHXBfY1BESQi51oHC5K4SJKRaXpRJBYkK5DudIgZI9D0rrkQOqrpYv0zB6wqlzhVkAvGtHPm+RBguzu6Wr0X42rTX4oizFYZswESw1GifHzkxF/tCWYiSAPQ1VO08SciSoIu6yCFBCKQiZagpddxIQ5yECqGIEs7kOcgrdakJPzKolagSrcrFWWZAajLiU5kCDkpWqEvGFMjMhyxZkyVMgEyFNyBsyG22qEIGTCo0qVIYeJMq02oCQXKmOLoEYeISTD6KbMTUHg4JJ2HJYR0lEHzl78Jx5gasawPdSIwcM1GWTiKCwXKewjKpLWgm7SjqpS4UDmQWNdo5U4i3RqSCna3roDmTDxKEyCRa5WalS9NcLEBqcsQnvFbT6IQ/DyBD6SzG3KSwytO90TCR8QxISDNMwoUcynmQMOW7rI6oIaV6YcyB26VKrFyfS0eFAzPWR80UDCLg5UzeK25SAeEg5UZtGpLqDykC1uTSgcW2WJh+aktvsToPHxZC3uF62PDKxEYMLe4Ow8RfYo/iV9eHf0GpQhu3sCJ6K8zZ3F3uBaIXDCIfkJBlANEQJh5UMt7LUqs9ZA2rtqbSt5nJBK7Wpd6CBhJo+ch/opbXG3lFWDCIrtDkE2uMSfpFNmJ3M75EC4GEXMShzbuEUDiVrteZNl7IpeUuUU2Yutagn/tVhXCfMSqHQSng6rkUxKleK2l1jgKThxVmOnqj+VYZLW7TZkeKmCsztLyliS23irHXXHmNKGYOunEiH00DOyEot8kVFwi5M15IovGrNXWJDSEncRIHQ7rIG5u0jT2UulM7hQFunIrFDXHbxJut1kACB0IBNlEyQHqLycVwhi4SxCH8gieivY0npDUvPrQjHoFVKGYEEWVjNYbhyoSeRhst7grDZcUnB9FehDLIXWXj4ILe7PsJRP5BD+cvW6LR7C+NqvsePLzA/NUttNwaVFqbV215nNIi14sbcrNfaVY5+0mEsnaQSPN1lIELeqmCXjRdETKlKEQ5uFAFk7KCcD3JExF6SBh+crrcypdcDuZAm4HFwoL4PvkFY/R7dr+MOAqTJl/aEveguGI1eBSxZtkxCPxtCly+SIS+loeL04GdfCuJHrKBuK7jT2tDtL3O4hCT89itHN2XKobbk2nsoLPVUkWfqiqyJ3mpoptE4pGAg5pGdo+cgYnE93EKcs3E8nKiFHhR/epmBFu+BMS9FWZSBzLiJBa7qZkQnNDtKoSMmEIWXJxyhZpWCwXEIOZlQ0cxBpSuJuTSgm32WNWjB9rYtwnJllbWKcX/wAyKzyc9/jLAtsRCOB3cNTp3/8A0itgTgvmYw63NQUNzlemJoibnrw8PYvw/i+PVYFFqoTk5TIu6nJa4YsEui3KWYeZe1p6xoGaJE0UzfSSiRMcOokC6y9AyZKLmg5PmZwIDOLUFcxvEoES6zb04tQA8KURTN1IE7gQAiLruJMLiIOUkOEWIEnEHVQLC3pEBROaxXQXFue0o0gL1MMvqg01qZfhjM9tHwZSJ45GexPTpWcge+wTO4PZXze6zgAf34UvKWtcX7WQHo2q4sHpALZwf+mKw7p6Q6NAfe19vF6RGcbWfFyer9I/11i7/wDdd2eix2MKcNrc6Pdi2eCP7M5G0WrgD2Ojhh/e0F09HBDXX+Gj+yP5np+rv73YtnY/vzp3vTb0nTtn2dg9mM6dlaN64A6en2f1BBT9S+0PITp6J0/ZE/Wen6sj2g1CUquPsUz1PmQmZCaniKBGDKY23LG+lN0/tNSEvtQhSNXxcvX36+5kI6daOnWqck9OtP7PsXc6rQjPf2ZlgHaRXdnFTOdocyyDFtjyEa6BMjzDxcy7W2d7UKLtRpkzHpR7iqwm99U6MfjYPMPEK/Pt3SHSf1V91LrE5RqhBqFOmY8nPwDdCjQYjSBfJ1vp0c3dHk+7ofU5YuzI/SeK4SmesKAtKZv+FFaR2T90PJYyhBRcVHAp2ISIRhTeWBOeqS3dFE4RRhL40V+byYZ4pVk/RYssJxtE0UffnZ96KWLljX/DiiKQlvuaOjSbjsGKK5rBNPfCL2b1BNIWv+FtSkXP8OmIvG580daEbc552x86cczuKKgYpcdm9RCLI740kALWgN/vpKGiTPut6kSESBp/CkqoUUhZe7xpIHEhFjvjSUQs0EuOKlhNLc36iTCQ+Jv+FJBMsXvLuIk0IhbBdzJIBD4ki4iTQnfpbtLAsAXFBHrJoQuGD2ksK4YLeZLCb+lmmdokgcYfvIiGkl51XrlNw5SvCdYnIEnTYELxszGyh7JWr0IBWyxcpLHMZ4Ww9jPCMzS8US01Ho+4KPHCXMocQN3daQpEa2xZtxj0PbRgbCVKh0eew3X5OHFOe3+R7neMc0fYYttUjEtDxKU5DotVkaj3j4qP3sbtyXRpX5kzuBJyr0jFOLcK0WoFgakTYwN7Mm6KA9Ppex+3wrvPue8J4IoeA5Gu4Kk52WCvywlNd9xyIt50Wl+qukokW0xLej/RJooi4/uSLSI7PgksXK77UoBFc0ysZuhsVsV3juqKSKNp/chSkRXu4RQUDFilHnIWULe31VeThezd5hTFmOzhSk5p2ahQNc0ysEHIcwnCepKRNe340UpRXEf3XOgbe5HHZvUDFcUEi4iSi0SDJ761K4XQfupIPhnMQ0Whz1NgVisSMidRIoUAJiO3fFyrVGzfbdM4n2jY2w5XAp0jSsNwokUZ447bejiLKSbumsMYJquAI2I8WwaiUzSoESFTjkYxD448ruXrLiii4JOhzeDavjql1SVwZiSKzviUPxsaH0E0ubsq4x7R+mdMqMnV6fJ1KnTgTkhOQHQpiDcMYV9ZNv6i8XCeE6PgXD0hQcPQThUeVhEUDfGREfs3OIl7RE14/ahJQA9fZQWWMLNQpSLOXKKWKQ338KCS19ZAC1nWVZRc+q9HB91QELMAlzIEXMGJa4SQ5xwW8RKscsHtIGIbecoSYicMZvCKR2R2TdKXOgOf8EKAIivv4V8tQqcnSpaNOVCcgScnCiiJRox7ofq8xL6iL36/hWFbWsGYVxvg+cl8YzM7AokgXfhRpE2xA9j5XKh4UfazNwO6CpWzEaVAKTnIRRfCO/cTd2US3Stk0qp0+rwO+afOQJyDCKJAI5aOJCBdGm1fl500GpQ6bNYplYNUi4Slp/vEau/xjeF3E3sr9CNimCsIYOwVBmcHTlRnKbXyGc302bic1vZWyiNhwrYTWHdCSxRdCMhC9oohANmf3okO8U2/3pQGiN8d4nUKXLmC/epTuGMTNIkiJaR2WOEnqgglumExznClhXQgcAC6ErSAXATMsVVC4dyJBxCKAL3o/uQl8iYtZCYZhJUi4oAWOdC/IjNCMmfBCSBic64w99b8qraQlBcYfCCmikQkZWZhJDfG6LYqBIReKz/BfkRFK0+qJJh0D1hS2tD7gSBouaMP20UtvkxVMUhvJ+kSUE0Y8aIPEJIPlnKnI0qUCZqM5AlZYRISjRjaILzCxthQsuJ6Pl+ylr7uliHo2XRwK79OCN/WXITYT/eQ8hfU0vp2/jtZ8vUeodMM69X6AFjbCrj/AL56XeQl7+rPbnhdwNxJSmDF+PFfnwcMG5Yar3EL4mH97Xp/hv8AZ5v5np+r9BwxfhqxuIaVq+HFBYtw439klKy/ZQr8+9xC+JDyEu4hfEh5Cr+G/wBj+Z6fq7P2t4moszs4xLClKxIx40WELQgxxvXF42CPQmKFC6bhggHYR0r6Ok0uxGr5et1G/OwQhC9rxBCEIGDdnD3cQFunZZt7nMJjBpGJd/PUFowhmXuiy3rCtK/q9KnozfUXj1OmhnjWT2abWTwS7X6Hys1J1ORg1CmzITUhHaUKNBO0/ZVjLskTOuIdnm06tbOJkypp7+mx/f5EztPmHhJdgYQxtRcf0o6lRJlzW7+XP32CWpwr81qtHLA/TafVQzPd4BYaC96OzSoa0jz5kcFh5mryPUMwnYkIbg6yZoiLUpZsiBW2g0FFw6E7WFkSdYFQgrS7SkRyCluQ5pW8VqAtIXCzsIyqsRLfu4nCSkvekGN7QS/vAxIQ6pOIPyr16HCKFQaOOVsnDH5BXgbUCIdneJy+0D+OIIrKKf4qnycPhhCPmig+m3V1kp8Iod85KRO16UA1yUhdm4UwiWWG96+aWnJachGUCZCPuiKERwTEmFwk1FLi4i6yBt0KREopBDEDeQqqLHlYBMizkqJkLmHHES9JUkzRLMCrLqK9pDcXWH+dIQ8WQcz0BlzBkJI/kVcKZlY/ioUzIxYzckGaEi9JWtK9wG8GkgCG1vKlcTXMh8SCzNYoJtgs5UGEVC7bPR/tFEiefEWZjZb2VhUd0XbPMl8Vh+D5W8Wa6js5kkGISzWJSLOVnEhvJDS5xuQGRg+LSdtBEq4sWFAtjzMCE744xFaGIiLWldqegSGODoEaBFDjAxJQ0iQIoemixYUMmRJyVhHwHHESQ4mgQm4CysyoK3qUyQjEbUC2ucrIBbot5wiSrItL1889F3FPnzE8srEL5BJEMT2ZD/eTTS+N3hfKRLLyyuvWM7OxKFgejjldAElk3W8tFk5UpXZkzhLLkSkVqIVDFEiOHrHMqydmVyry2oFSozWoJBPMqzTqLUEKnVbq0J8yjWaBeYVXFG1WKs7haSBVBpitS5kHkIchCxZkIchBYhKmQMhCEEgpSplIe5T1VWmEuJBYKZKjlFBj+DBb4bhcM5+VZOxYvhe2q4khfbYZeksmG1BZyqXXJBJSgBUR5mFIwI0zHNsGALi6vRcSdy+Or0qBXKVOU2ZjGMtOQihRTg5m9PCg0vTcf7TNpE3PR8DyErJ0WWitGLMHn8pezhfaliWi4vg4R2hyAQpyOQ7ieg6/Zy9YVl0v7XtimBThlGnSo8CO7JvIhkdulafHEcrtw2s0eLKxgplKpgWnNm2LGu0ig6UaUIm6xTOaKJn38+tk/wByTrdZBYpcRE1KJDxo9NiBgzrDsS+KxZgyLwR4norMR/NWGY48VOYYjjpqLUGak7KoEbjcrItsU+sSrUhsqb6iM1qBagYlq3GdK2xzOIJmLhecpcKgk3cBGMRLKtpcye7KqsNBVWBt2oFFnKxUK9RJaTkYW9invxd1R5ulZhsPrmLcS4XnKriaNvwjxf0mbGvHV2ViW0+Zj7TdptH2fSMYyo8mQx6jwu6Mzuqt7wIUCWgQZaWDdS0IRhQgDQPRaKSUty+aKYeHiJVjbcXWJM63sqUmElNwj2UhF5tqsc61B8lQH+584P2gh81Y9swJ2BaaPCUT0llBC6BGEeEvRWJbKSIsEgPDOTA+cgzR/OmH5qXSm5UE8vZSR4sVwBABxkWc8oD85WCod5qDHccYzgbO8IzlenA76jQAbCDLvo3TaK07QcK7Ydq1Hg4qjYqgUKTnLpaUgg0d3xWrONv1DnMQ7M6lAp8E48aVKDNMDWIXEvo2I7UsMVrZ3R6eVblZOfpkLcR4MybbejKSoixnZztGxRhzHHueY/ZHmY9snPcfDdqElvWKLXwy4msXIG13HtMxHtkoM9h6c38GjlBgd8h70cToiOt/3Lr2OREQRSzxQGKXW6Ukow5usX5FH/elt81SXD2VKVgk3Nwpyyt7KQdfWTXODrOQYnl2nweanF+Ill46C7SwyPbtLoJcUhG9JZhl8lYH0dlNd6Kr7CvEXE0tRIKpuPCkZSNNzczAgS0LNGjG0WrGMQ1ynVzBeJxo1VlZw4UhGMu9I4kQW8q0ntMGe2zbcJPZ9Cn48DDdKB01uTz6iL5qybGXc44cptAnJzB0zNUesScCJFCNvybGHoG4YnWFXU8XrdzHMx5rZPB38aPHMZqJfFNxLbkdsCVjR4phCgwhuMzaILSvcrx3bMJnlnCWO7V5mq7W9sVN2aSM5HlaDJiMWe3Jtfa4i/myqaqk3lI44wrU5oJSTxDS48zFtEAjCvf3RDFblWl653MeBypUaWosGap1ShD4ie37iMuji/3q3udccVDEuGqrQa1GiFVcNkMAYxnccPpt/Eg2BjjEsnhqgz+9rErTqlFlYxSu+NpGXQOlYNsO2ny1T2cwY+LsTyPhvvyMJd8RxGK21q9zaZsxwzjeViT9ck48zM0+VibgwjkLLVpnufNi2C8e7O41VxDITUzUhn4kDfBNENvQIttTxIuo5GelqnJhOSMyEeWij4qNBuFfYVxW6iXlUOg03C9IlqRSpbcSErlB7i5l6G93Q7wbWuLzViWjdq2Javj3HEnskwnOd7b3xtbnoPwMPM13V/VW26fhqTwvhPwLT395ychEhDvjcR25i/3rRHcrn4cxHtCxJPeNqseKzff7yb81dHRXFLTgF8QXorVMP2ftLZrhguGTEfOJezbevA2dXbNaDywogfJEJe+PpGvi6zk8uTkb1lI3kDlA6OuSA0dVeZxMOjqPXw1uvSmFcPVKvT362p0AorOMtI/zr7unJ2VqjunJnphbHalCE272agj5y64cdslRg2D8HY92/wApGxdXMWR6FRYhEEjLyltvV4V7OCY+Ntle0uWwZWZmdr+GKj71NsKLufZyk7T/AKxXi4Arm1zHmEqbIYECVoGFqLCGVhTEw10xE6M2ZZJhPa9jPBeNoOCtqMGAXfhNgVELf1cpOG0hcvfki9E29YsLdRW8JF+JJwKYokMUx4XJdHYXzXnQ1ogmzI+aKUh9VSLgzdpeFJW7aKqPFh2H/wBRe7D98HrLwIVm2gy+Nw+X4oi+joeMnpwM51XJhyqu0sytH5q97ufT2FLUga1bqQSIFFit4iEVypiyFiHuhdvMzs+Ktx6VhWmARFBg2vYN1uoiXVUIXRQ6y4+2z1cR2/SB7JIM9Fx/C8VP96A6AZdHL+XSrxj7trexYtgdBlsdYHxJUYEaTiiMeDMx3Put/wC1dMYHxD7c8GYexDEg7qNUZXel1tS4/wBsUztiqstR4m1ilxxwrAjiUUKcAgJ3aiHKX1l2JhCtUDEODqJPYXtoPeowpWD8SPRa0uYVOQewGXsqw7hczLCVWkyF+VSRjfzNWCzK/qp4vwzclqqIs/MnMnPv1CsGCbZ2+0CMXDUZL/rCtiTJfpmML/hVrvbSTtm84X8vlS/thWwponRj6yrpxHOe3fC8fZ7PS217Bwd61KRmhGrQYNozMHp1EPm9K3thrEcnjPDVHxDTT/SdRHeiHAWoeyvix1TIVawFiSRmQCLBiyExYf8AqEiFaa7i+qzM9spnJOOZnBp094rkeN3nJLjYi6FEiaHaSi5oIHKDtSfT2FgR9vI1WXWdVV6W8tqsLP2UDWiKnWkK1/KmIrjQPkzJW3Z2ozJiK5AXZhNMOgn5kpEWlNfeOhqCQLUJqem0zv0pQMiL4PKjpc7RkYq6flE+LgbbHbtbxl/xg/8ATFYUKzjbVbtext/xg/8ATFYJ0fqr9pp/qi/FZvtMlQhd3mCEIVNR0qUJUDIQhGdQhCEDesm9ZVpvWUiz2Oj2bunpzrf+yLuh5nCwQKLirfz9E3o7qezR5TrcQrn8s/bVgn0CzU42AGo149XpseWPvkfS0eonhn7RfpXJzktU5EJ6nzMCckJqKJQpiDcJirrr8nv60R3OWA8X4VkTqVXn4khR5xu6op3EZfGF8Wt75Hu1R1+PyRrKr9fileNkf++puc6z39KOe0LN+m3RcHw6wAucH3dEJxCGT39QI3BZ8OohOJhM+HQEIisd8alhOcGT38k4u8S4M0UlEBo7kvt5CsCw/gfupIhfua/4Uk0K/ciz4UkQsssX20loUPgW8RJoTWy3WIUSxO72LmJLA/cxWMdEWAgOLvYX8SIA2wRfpJNCL9bD1lXAK2WL7otUaAVsEn6SRALdFBITPKSIWWWdwkiFF/W33IkSolpGTgSJ06FISsKmzUKJvZQIAjCN+Zw8ytgQoUtAloECDuoMKAwQgg0Q6oigSduSI/giTOczmgEgIVwuv94Q11xaoSWFlBp/AKxzh/oFgCDP9ySl8NZpFDhv+4JTyn9yWhoot33K1MQi6ZcGoVWRC2Zz5RQRC2MWu1ARRK9oahUELSMWNZFFEVrYxX2kKDzRvuooJ4PuqVpWWfCqREb3fGqbRIOAY6CqPKy09A70nJaBNScVwxYMYHCfWFURaZT5yWkJOZpsjFlpEnSsE4Atli6MpQx0kK+sfgbPhSUwnEUHJmJZYNpg8wkq3OH+iRAIi3OTKSkXNAftTVoXMMZ2TdJYo2xuqKY/ev6BVxScJ/ckBFL34ctwpiFpnyxRSx9ZDpaSIpC6NwCQoGtErQyxUojcFmokxFnb8akcO9D7qgiEPvIs4k3wTeKESBzQS5yBRCuIB5SQGYTb8UKWOMOLAmQisKDFEXgYOE/ZQLmgLPgiQReKP7kKDyouF6CWGo2GvBUiOHiiiRU7ceI4sq9OWhQpMYMCAAQJaATYUGCDRAWqyKNsbsqCdCfksiigBtKC09RCkFzQv+CJWOIS9+D31KJe8iRhmiCgrJpQutA/IoJvjs+USRCK0L/giQ51r3OgICKNxleXjRStuaw7Yv5U0UhvJ55RJEWJcZX++iSoViOQWcQpREmtZ8B+RWWhFAb7Yv5Uo27kWRNQoEiiN5fahJRFc4yZqE02YQszQiFKWU2h8EP4kBlL+l/KpF1jtThSxbSjdYS+VDWlkyxfyoFG8WlqhF+JEUvOhCQoEboPaFIWUPuX5CQaj7psm7NI/wD4jB/GuQy98XW/dPxXbNxb8LMy5Lkfo/VX6j0r6Yvynqn3dAlQhfS6vlhCP1UK2hCEIBCEIBCEIFTJUOUB+kvZ6V6dCxBU8MVKDUaPOHJzkLWGseEuVeX9X2fZTex09KnJijONZO2PJPHO0HZezPbVStoAd4zn9zsSAF0seWNxFDL5q2MVtsR6/PSX6Ygx4O53nfL/ABW699dyrtrZhNYuiYVD24gAzjR3B/DnD+2cy/La7SxwS7X6nRareh7yZg1LFbmEE5XE56Rwk+814XtLpyKCHiBSQjmEzUFlVBREmuZkVZZnECsK3jQQoFaWniTNtbzpbmtSkJA9vEJIMO2pXbPqrD+N3cL+0FZhAtloP3KH6Kw/asW6wTGb/CMqPyxFmZCxgj1UB1TbclEReDtLhTaez+RK663iEkHMm0TukMTxaZVaZRcE1GnWlCi1SYCITByuG1qybuSYX+CmqzhXRo9WiER/7ltvaRU48LZvioRmTYMnEFj/AK4rWPckwm7FJaIz32ozXzVXVS3ukdpdRwFhem0yg21uuxyhQpgM0EctvWcvAo3ceUefpUAcQ12rxMSTgOizAGO6CJ0i4RaX1lvKp4Xo2JYstHqdNlajMyo+I3wOIOqsJ2qbd6Bs3hHT5SZ8LYqJu4p0pcwukfhCH0UGuO5vxViGl4vxJsyrkwdQCmOKTincQEGl3CQr6dq1cxJtP2owtk2EpzvOQlg3tTm4ObLdcPDl6BXv9zZs5qtBnKvjjFgGGIa+VsE80vD6RIndbpWgtmVaxvU9o2MKdgsIECt190KPUYv7hggVxD/vQbTxn3I8Kh0GNUcF1Kse2SR8bC3x2xvVJbc2WzmJahgKjli6QjydegCUrF31pGzKRf7xWlMY4F2v7MKL7a6dtBmq7BpzYs5KRTIha5uUswrdmzfH4bSMEyGIRDdTMW2aghlCN0WkiWUstdyqsiLMzhJOTXXaSVZaB6woMLkS3u2TELvgqXKj8riWat5FhFI8btbx5FHTAkB/s3LNi4k68gpW5QUlalikEL3y25qCG1zEHyVWoFQ6LVauMHe+DpWJHEOP2BXMOzDZvPd0PArGMsX4hndzCnClYEpLm0XNdm0iuma5PUimYeqs5iEwhUQYBDNc49OkebpXJezCa2kSM9XpnZDTZ6LhWPNE2DPAJQ+XMXRd9dq1T3KvSKh3Oe1vD1PoVYjzlBru73spMG60yb5X1lt3ugNoM3s+oMtTqGYHiGuR+9pbkHptcPM5aQwtW5yJt5hRNsMvOwMQF0iEgBwxCWgxMo28P1iXo90rXZunbaMMHKyvf0zTJaH3nL5hjROkrbesq8kswpvcjy09St/iyt1iPieaF0WMB2wS7Wb2F9uw2mY7wdPV3CWJpaaj0GT8bTqjGuhfU0wy4S4dK+GPsr23VyUjVSc2iHK16P40KXCiEMIC6bt3wivT2F7Vqxi/wrhXFUExxDRc0XLvh6CbcPEJKO4bfSNdmRo0KCIuRahWTl51ei97YercUvgpOMXmr0xXg42ijAwTiQ/5HEFAuCoG4wdRIWsZUfxr2l51BHcUOlDwysP8Qr0nXIspWqsm8as0tVNzWohOXWlzJiaWZLl7KCssyh2lSq0AoYmcTUcqCs1BKdLVFulBSgUJVagSqyq1VE1Ql5VuZMlTCsWZCVMgZMlFS9BKEJkAp1pQSmpFzhdnUoEkOuQMJIylaj6qYbmcyDHKHbirEMMdW7JZIOXOsbkSbjipF8bKiXyNWTDagZ2l6bQ56XQpQO7Uvmqc8VPpk5ODLb/cQii7nK/2NK+m7jUldmQeBs3xtT9pdB8IwJMIRworYspGbFZwrWXdJ4apVPoshX5WTCRrYzgj3zB8UUYenl5V9VS2LVemVyZq2z7Eh0U5x2/lzy/VutSSOxGtVyuS1R2g4nOsd6+9S4ZVQ2vhycj1PC9Em5m6ZiycMi5y4l6SURGFCCHCAIQDaIBlAejSrRyuUiE/ToUKTQLlWF7RPFSNHj/EVGH+NZtmWGbS/wBjQRPip+CXzUGaxS8aZcylQ74R7XXI6qkMOdS5Q4sr1OZAwlc16+aoVOHSKfOVGLcEnCKKX8wr6R4l59cpnhqg1Kmb7cd/QCgb7g9nUtGmO5pkzqEfFWLZzxs5NFuhPmMnF5q310E4LjyisN2YYCHZvho6KM+E9vY+9KMAN05VmPT+otkSOXXQ7zi/IkdaHlI+aCkWjcVx8/ZTCXoqocvZardaCYWbstWF7K7cOT8L4qoxh85ZpAMd6BcywnZl4qBiGHoGpxCQZwgS8vMhzR7CB1izlQWP1Jko8Kl3rIPir1chYcos/VY8E48GThFHKDBzGPQtUUfZZsu2400MT02nRJWNFMhjy8tEaQFzD/rW5SESBhABAQtID/1rSlY7mqmxqrMzOHMR1DD0GOTostLn4p3KqGGbS8OUGW2kYJwFhCTgD3jFGLOBLXFvHai6q6mnG78xHINorXOzLYtQdmseNUBmY9Tr0e0p6Y0dVbD1O5nKZKN5tyB0N1ERIC25nESjLbyIlYJWgRarkxWj1R/Kq9LS4RFWOdm4kUw+q+K2g4YIdUKNCWZjdF7TVhle/Zng8+KLGFZgMXdEHK5YkQJmBHmY0KFGgRY0AnRYIG4g6wq0SITAiziK1NgLY3EwTtEquLIlejzQTgxN1LG53jOL/ctrtHKSDnOmRwwJ3UMaLUvFS1ahEMKMdo+MG1dBYvnJSg4frE9U4wSsmMnE8cf+sW28Sw/afsrpm0+nwYUzGOTqsr+tZsAuDlLlWE0rueKhU4ssOPMc1Gu02T94pwGTe05X/seNTdyc6LgCqwuGfcvInJkdn3dRwanUzbIV2AQwpk8oPFvmktsbLdnMpsvpVSp8tUo88E5H374wNYOkVftC2b0XaXSgkauBwjgXQJiD77BLpUq8mYzhQqVLHUJyNupCVFxRjytXOvcywjrmI8f4lGC2mzk02EfGXSSf9DbXKmIU2tbSqpHw2JfrS4ib0ZRW8sL4apWDqHJ0Oiy24kIBdoy4i5kH1VeGUekVWHDzlCIR8laa7kubhlgKsU4T/TMColFODqb02/NW8CESYtGVTucfYrU/UsLYvqGHJaeJ0eWhXZriaXChFvVpCV1rfMQIwyExLUJD8qw7Z9s7lNn0nPw4VbqNWnJy6LNzx3dkVmGQlg517md2GsZ4/wALzniJlxFCgnr9iI70SXSRZY3BcPmrSG1TBNVouJZPaVhWDvalTv1/KB+6Yeoh4rVtHB2Madj+gy1apTxlo7hKFGBpQYnRmElo8DZqX+Dymjwx5gfkjEsh6G2N6yxzZn+wODD+KnJ0f7RZD0lb2V8fWcnlyn09lWKlxCrBIi8peRxBlwrBdteHIuLNleIafKg+ZERjwg+53LOszOsiEbS6zl0x5KysNb9zZiikVrZdRKPLTkAarTCIY8sZtLNm5lrvuiqpLYs2lYGwvQY0OerErF8f3vduSIspF1blmOI+5wwXiOpRqnLRqjRZmPfFCRPxZ9lZNs/2QYU2axDm6TLR49YIWFUZs3RLuHhXs3McbSi7W8meTA7owHMYwm9roVfH1UcbuVGpvMvnuJtfaVgXH21UOjrqwCyddBZDzB1ljnSTds0hzYdjfiiL3hPJyiS8GZJu2Ggl8bh+b9ISX0dD5PTiZ0I5+qmG21mUUajQWRe93OmtdcCW3S/MmG4u0gsgEMKPBPhJxLk7ZPiOmbH+6MxzAxbG8GeGCiDLTkYLWmThJ3CXEurejQsexns8wntBloMLE1EgT24yHlihyuG5q2Iw7ugtqeC6Tsur1P6a9Iz05VJXveBKS8TeEZO/1aVR3MOHp7D2xam+EAOHGnopTQQj0Q+nL5S+nDnc47LsLz3fkth7vqZhE4e+45RRDsra8ePvS5BaIs+akpBOO9BddCm4mN4lIHcJ6lYLndpUi6zruVwmQsyaiQYHtm/yY1guGLBL5I4rYM0XjAHXctf7ZrdleIS4Rhn/AG4rYTd7MweaF+VX4pYJtfxVAwTspxJVYu7tk4kCEBnniRLRFYf3KuDo+E9jchHmrZysRYk+z7XlhrycVYJxLtz2iBTsQSEei7NMMRXMP32qROjUPKXmit9thQoQQoEHdS0KEMKFBDKA9GUVsuNSIyj1RU3NPqpYtu+6oqSK0x6qhQuJ5FbamJzjJ/Kli6/JTnr64oHK56Ysxqvj6ye0vKQDs/WVmo7FXmO4HXKdWTUgcrnuZmTDboVbfTTDxEgdrdCr6R5FG9Fri3hXJ+hpG3Q5V0RPi4M22f5Yca800P8A0xWB9H1elZztvmYA7YMYiRgPszEP/pisDGalujp+rGBfs9NPptRfi8sOvXIZCTvqW+OD5Ed9S3x6636OW11P7KPZR3xL/HKHw+jWl+htZEpSUiQl+opcrcipkqZU0eshCEAmH9VH6vSs12dbLq/tNqQStHgbqUhE2aqMb3qW9YuVccueOGNpO+DBPPKsGNUai1Cv1aWpVJk4k/Upo2wpaD87hFdh7I9glN2f9EGr144FTxPvbdUCT5R4i5lm2zvZth/ZlTAk6VLOn4sVs1UY3vsYutpHlWUwxHoIPu6/Maz1CWftjxfp9LoIYe6RopOuK501cabW3ijpRabBL49OJDYX29fNfUQOUCZfvyTC0dzx79LC0D9vQJOECL7KJEphaBIMscmpBbvYNh+/kiE2wvtpJoRZHfGkgIXwJM+HJEJpDBcFm9JVwiGwSfdHVkAPedPjSWCsWiMsRB8KSxTEeOBw5WqVRoVEnqnPzkKJNCEpoHoJtyy2ELylvupLBY5EG2nDf/hMb/qEtDQtoNQAYI+0Ov2u0CgNolQZBEcDV9gmWhZMc7HhTMsIxojHkq4E/HMpbx0TMS8ctZGMquW7Bj8LaDUnQS9odbtdoSjtEqAiG7wHWxa7Qshhz8feyxb6JnJRLTsz+lr4mrWnzom7Fj8LaDULC9odfsEtCX3Rp4SgwxwNW7BJtgrIoE/Mfpa873a1ECdmShQXHY0lHzYm7F4A7RKg2CI4GrdokGQU47RKhZ/eNX/em5BXuS07FHci/MJEpgT8w2WcbvFEnzYm7F4A7Q58WD7Rq/703IKj3RZ5n7Ca/lbkFZBAn47YN/wBIGfmWg6N8At+djN2LHfdGni/eTW/euAVB7RpwX/3k1/3puRZH3/MtDx2aAp7/mWuGN8Aq+dE3YsMq+14aHJhM1DCVfgQYpQ4AmYDm6cq9CLtHnL3YJxFcIusXkbZZyPFwZICUYz/ALsSXpLYNTqMx47xzfFCnzom6xEtpMzFe7BOIrm6B/aRF2jzN/8AeZiK4hLIsniz0y2Z/TJ5BVceem2zP6ZPSnzsad1jJbSYt7sGYizOyCm90kye7B+IvfXZFk0eoTQlGbMnaQpotQmxIx75O2KKfOxG6xf3SSFn95+IrSd7wlHac1n959fzfELKPCcfe+/GXjeNHhCaIgHfH7+nzsRusYHaW0Qbg+v2u+AUwtpzWf3n4itd8AsmGozNl5++kOdEKox/0s6MeYtafOxG6xn3TRIW+1Kv5W+8JS2nwz/erX/em+8LJoFSmSGC44mUtaIVUmSGC6NE96JZ87Grdgxf3TILT/vVxFcLfeUpbT4LYxFhWv5bvE/WWVeEplvv0S6A7OmhVSZ/TPjojO9SLzU+ZjN2DC6ftnplZlu+5HD1fjwSLOEDV0L6vdPgOd7WMRZ3+8rytjc7Hh7MpZsY/fYhf2hLOiqkw+M2NEtIUlrIm7BjhbUpQc2GMRZiL9aqPdSlbP728RC13wCyUqpMwiPx0S2LxqfCkyJWxonvpJ87GbsGLjtSkRZ/e9XshfuVR7qkiy3D1e96b+tVk8Cox/E+OiZiRCqMw2DDefvRDnT5mM3WJ+6lTxAx8CV7K2+VVxbVaeT20Stg5v7lJZN4WmGhfE9441TFqcw02mfvQknzMZusdPatTNVHrY3O/WqX3V6Q4C8FVi0nfrUlk0WozI74h5SVhVOaEjd8aP41XzMZusVHatRxZ/c2sWu/cqUdqlHsdTa3lIf1kSyrwpMiQfdWJIdUmXQd4eohJb8zGbsWLltbobLpOsZG/rVejQ9oNGxLUI1NlO/oE5uN+yZld08egmuFewFUmWBeAOEvxLF40cou1amkWcsOl/1F2x5o5eKozuzcorSO88wklcQl1Yv5UR3NMX6RJBldGaeoSXZZWj4keaIKQbhD7kQpopNIGnli/lSwPgb3XEKCsmtOz4ISURSaR9YSVo+9AP2ohf8A7kE0h60IS+RApiLv6X8qWEA+JEg4hRFseT8rSTFbFAvtqDSHdO2YAkHao8MPkXKsX9ToXUfdTRAHBVBEja2fISeuWIkeF09HR7BB5a/T+m/TF+W9R6f5ZIQk30P40PKQUaGPwoeWvpf0+X7dToUdMWEWsPLSvh8cPy1V+jadUoUPDSblKlPsZCELoBCEqASoTdHsfq9K5tN7C9jDeGavi6pBTKLLb+ZPNwweYiWX7Ntj1Y2gxIM10hEk6C4nTx2v9jTD4l1rhfCVGwZSgplGkAl4LRcfwsYuIiXy9b6jHH2432dD6fKXfNhmzPYvSMAgE5OHDqdeufMnlg/cx+ctmcBEfKoISc6x6RokxwBaS/P5MkpytJ9+EIwjWKOhzjhvvzI1OehxGQFraSUycOdc1giGwX6lURDuj6qcszn8ygbbS0WqgEToRt4XfIq3XB9P1Uw5esJOSuFvZQMQpCcQtHULU8fiHlJLa619pflQYXtZuwmEPXFqMl+KIs4jk4nQ+UvNWD7Tf8WYbD42twYSzZtzeMfyIFbxcSjgHsqS/OUE4fK/Kgw7a3H3GyvFsR/7jH0li/ctQhldhtEP4yajF5y2XV6LT8Q0iZpFVlt/TZod1Hgva8esvmw5h+lYToMtQ6LLd7UqE7dQXuuLmJBqbuh9qE9QPBuCcOT8CTrFYJs1PGbe9oZk3NpX3bNsG7KNmcGDMliOj1PEhi6PU5uMJFvOnhdlWS4s2QYHxxV41Zr9E78qUURdG76IX+xyivG/Q37KR+p0YViW/wAtiKhs6i4soeIZkxplbkaicARKKEtHcwVyxs3qFO2Ld0Piqj16McjIVFwSc3GytInQ3cpOXQGDtmWENn0eZi4bpXeMaZ8VFPfkTx7Stxts+wvtGloMDE1KCcOAJDCjAe6igPWFBiu3TaphjDWz6t0+FWJWo1KsQIknAl5SOMXPqJqp7nbCtQwnsrpsCogYTNRixJpmoB6cokvpwv3PuzbCdQCoydEiTU5CacIp43CBdVbLixyim4jQVpCK5w8SZxWNSQrmIMKwv/lB2hRdYzkGF8kNZqsGwSTsVbRYvFVvyCKzki1J15BYsIYomJP7CX5qsVaDWHdD0icqux+qwpGCcU5WPDjxQDNu+jMSbYDj3Ck9suolKhVKSk5mmQNxNS8yYwrnZrszlsuETfRYtX1zuetm2IJ45yPRI8rGMnF3pHbCPs6UqNZbd6zTNqm1HCeGcLxvCMzTIvj5uXBwhc4ruEV93dHQBwntWwHjaKBxaPAiwRimAfEl84VufB2z7DOAIB9GHKUEscUSE42aKY9ZezWKZTa9T5mmVeTCckI+aDGC3rdZVYUxdpGEhpB4lLElOKm3Rff/ABvVbmctC9zxLTmJcdY1x6UucClTjoEAz+FIojrf9wrL4Xcy7NIU3v8AwbPEAk7cnNW+stpSMjKUqnwafT5YJWQgWwpeDlBT7eIYRISyak1yEo5si1AuYsY2jEQ4AxDzQh/HEEVk5cLFie0j9g8/DLVHl4XyxBQZFIjupGWhjkGEPoq3rKuABDAguztb8ibmWBTUKcyUmjaxxitEJXCVqbNcSq1IIJKpt1Ita1BCVRmyqUEGkLmTJSQV3OUdhSlQQ5qrLiUqHoPITIddxIG20VizJkqEFijmUJhcgsQlUAgdCFNqkG9aPEacSLMSVCCxNcl85MKDHGCOOutJkslWMTPiscU0vjYBQlk3VDlQOpG1KIpgQMPEnHMq0yCxAtzCl6qZAyGo5kXcCBnOQKMoqeVAOt7KxLaN+w6fLhKCXnLLljGP4W9wdVXaYQl5woMllT/S0sQ6oUP0VbzLz6RF3tDpUUgzSsMvNX3NzqQz1CFL0DMuzoa5QKbKqDC1HqpR4WJmuIOZSGMbmoSiHEhrRuQOP5yHai6ykcijdZ+W1BIkQkHKKxHAXiqhjCBw1H8qy8s/aWIYMIYWLMbQv5UMVBmtxlcpHi7SUbezcpHlzoHdq5STco8KVt3aalAtXEguU3alU/UWklYNo9lYHE/nEj1Erhyo5eJAwiN4v5U2b6fWSiTh7REjKYFw3LRY9xXKbbCHrJLvJFEW63sopieKi3GIcHxeGaiD8orNS99PlWD42tqGG4o6aiI+as2L38y4iJEnzFbxCgbvKclHR5ShzbeEVgdzfSTP9FVk0U6KW8beqhyrd5xIEnecgsapdd5ygeLlRy8iBxy9UUZRMeFLnI2pvnGgZryMh1J+txKoSuVkLR2kE5vOUSctClmBLQYEACJzIINu6VIa+qm+Fb1UGBbOHDgychl8FU50f7RZEYLHdn/+I69C4a3Neksi6dA86+VrOTy5QXzk2Vir4Ew2rxOKwdDuZHNyKvTbwpnZ0DNVir1dtS53lIGd6abN5SrEtKBzASCwSydpA5OygcreVGk+ogn9vzV4dSFu2DCvAdHnB9Fe7b7LuqvDrJN2sYJicUjPwvNFe/Q+TtgZw64+srBL0lXc4L7EwZAX0XqWiQohE4QJ6QXIDRqtQW9XhTFxEq36uVNcWZAxF1EE5xpeZNm0eQgbMfWJLcRAKBIi0NNyBBpAgYXPUjosSagLK1Dmj2UGFbYhH3JsVN0yol/aCs+K4QIfiB/GIrB9rYO2U4wH+QfOElmUInQIJfyWH6IoLYsUi1nlURfFP5UpXPHsoIrj7KBootf2UFrLmQRXH1hQebtIAiz9YVJXEY8yTmLUSYdHWQPmLtIzCDrrkgleF+pOJDZ1kDCWnQ5OLS5bkkLMBP1EmHMF6BhJtzzzKW3BekcJbl56laJFFY0+JACV2dAxRYBPTQhJwXhqSjczIg+KLRKRMxTjx6VIxY0UiIjjSsMiPtEKPAVG/gelfgsP1V9Y9DmdpWCBWDyq92f7OW1D9XxwqRSbB8FUof8AkofqphplMd/imlM/4WH6q+kRuBHs9JMLJat3Z/sbUFHgymNAvBVLzfYsP1U40ynOD+5VOzfYsP1VbC6bQhpoYl0mFmQlvTLP35InihR+f21wRh7U8VQwAIQDNZABo5Vhf7aznbIP+FXFX/ED6Kwf9tfs8H1RfjM32dUpUIXdyN7Cfp6OjoBxJpSXjTU1Bl5eDEmJmKbYUGCDiMuVdVbH+5vg0kpPEGOIO/n3b2BSM0KDzRuIuVeHVa2OCP8Ab6Gk0Es399WuNkGwCp47iydVroR6dhYi6sec+58I8y7DodKpmGaVJ0yjSYSMhLRSbBg/O4iX1jFcMGHoAmilhA0YI8y/L6jV5M8u5+o0+lhhhWJhc4PuqaF4oQ+7pRESZ91JJAFowb3eNXleg4u3oO+NQJOY4/h0QiLeweaKlhE4oJfbSWghE1n3VEK1l/w5IhCRBBEfjSRCK0C+2kgB+BEvjyTQiKy/4Ul8NPhDJjJwhM4vjScZ5l9kO2LLfdSQXQi95Icm9JVwIv62a/30kgkXiR0FHJEBw7m/4UlgmBFEe9hfZvSWCzP+WnDf/hkb0iWawCaMs740nrCY5f4acMF/smN6S0ZFGumpb7qSqgE3vP7qScibMQXHZvSVMDNLX6yXwc32SfP6nhZpbrkiEX627SWV6SMoLuIkSxu7zLrLks0AmlJt5kQM0t1CUQMstf8AGJYBC6TLlJBMC4pOzLCJqJb9zCz4IlEt+4+rEUwP3GXKSBYHR4qDZmhErA6Okhg/ciSQG7qW+5EiE1stzQiQTCDJ9wTDkuCzcKqFkg/cCUjcAfcEGEbYP2IUof8Aa0l6S2FOe+xvuArXu127CVH5qnJektgTxePPmlVUuMRVHO2MX2oUky4e+eBokoi5TszQBUR/hm590KxAj5pnm3aI93fn3WGiL8MXKKWORCMyRcqBo+aMXDFFBEXH8OljlfMuYxwkiP8ADD9tFAFbuW5xjpgzAP20kF6MdRq/p0CQvgXcRCiWyyw8pIhZ4P3UkQ7igjzEKAFpQoP3IkC0YEb/AIOJ6KWEQ+J6pKYX62NwfuON6JLegwvZAP8Agxpo8YxP+os2i3dEZvCKwfZB/kvoPNCjf9Qlmxk6Cf3AVU+XUTHIv0zfqEkxZjv+FFJF+G6okiKRDvsmYVABLxoX5YqWEfvPWIUFmNvxo/jQ5pAInljkgWF8D9yIUnwQD9oVsIv1tfqJVwPgb9JCgiO7gzQBJMTRfZY0SSjcIX/BEltIbX+9OWhitI7LN6JKPhcmWOqorXTLX5RJWE1xlDfmEkEwxJ8sLG3RF4sGE7avIf8A+vkP9oS9jpIoROZEYMdq8eVt2vSY8NEb8pRF9DQ8nbEzR1oZLoCki8VGdwiSYR955hIUg3C1maEvpvUIrhKMT4eYSSiW6i9WL+VEUSITLjEUpEQkeTMJIGhExg6HklErYLbvFEKXlL41WDbFg9YhQURSd24Qpytf1RJDXEDeEhUZoX9F+RB8lXoVKr8AIVXpsCegworhCZBwgXTqXj9OzTBfTmwrSszfeFknsOf1XI5S4lcc0odsZOUsUJ8osYLZrgrVhWlXgXwCSLsywVpwlR8rveFlBH0j5RKPq2OyCLVXyMv7Gxi/VihbNcEON2EqUzSyAgdmuCHfsVpzHfELKS9ksyGlvTT5GX9jYxfq587obBeGqBgeTnKTQ5WRnCnBhb2CDVzV0fU6PYXVfdPl/eHIjw1EfRXK/sN6V+m9OlKWHuflvUI0zSqrQmQvovn+4+r0dKjp9kv1VPs/VXtYWwtVcZ1IKdRpY5mZPMeiCPERLnlyxhG0nbHjnklWDx4YFFjBChhEixotogFxGXKK6H2W9zz0mQVfGcExAGlApb8/NE9VbE2abH6Ns6AJw+jv6vEJCcyYWwS+1rYYlvLnmvzur9Rll7cb9BofTdvuymhBDgQAgQIO6gwvegC0Q6qBFrLMyMxG1/ESlufVcvlvrELo5EzdTENdo4kpCMUWkGYVgOxqS3WCyHqFQQuyv0kli5nAGUnKgNYOjL+RDiG6zK5A6HaSJLc0BZmcKAIiEuqSBtIAflIh+VJ76PZ/Ini63cpIEEnW8QtSudl1C75FLm9klVCImwdGYUGIbSCd7T4Y6q7Bi/JDJZ0RePbwkSwHH5OquA4HFUYhfJDJZ0Vz+YRJBFzQHrCqyIt6EMQ99hO+RWEREThVbRdbxEgMryIOEkW8GpA6BLhJEK4XMzCgUnDlB2lR2L2oIbjIeUlHrKhDm3dUkRRudzChrRBoWJSy2hpQAJfO0pidpBJ1QaggiLSd5JoTijh1kheSrZYS3oNQYFs7Ios5jOP8bW4w/Jas4cOpYLstbFpmIY4/D1udIfvizgVUuQYrtarLiTESVYE3pKeZ6nqpXcKAyklz2pc1pJidx6UC8yUiHT1kxO40hCXGiAlt1IuYqyJAzlim0i7C8GEPwtRlR/tFlcQrTLtLENoJCUjQYHFWII+kSDKmi4yTWtu6qViMywVcooJ2ZPlSNWisi0qNNygkII5RVbFZ1UuZBCj/ALkE5yhAJSQgrUFajTnU9VKgqIhJFwvJFvkqEHluQoyqXLFmTXcCVCBrkyUUCgdzhTqtTlQOhQ0SyoYKkOpfyJEyCwVY29ypTPtuNBjlVtxZhuJzRFk6xjEJDCrGHopZBjkKyfUgZMoEhQ8UDNFSJJVLhQNlT6blWKZyBk1qUSTWoGUcylBNd1kAvBxnCKLhWtj/ACUvxL3fOXmYhhb+g1IP5LE9FAYYLe4XohDk71hj8i9fp0LHMDxXYMo5P+CIfOWQuFuflUhgRpahwZX8qXe86C1udCqGLamKOI5jQWimVThypnIHLX5Ka1K4S1pXCKC0fSUu1dpV72xMRjx8qBnW9n8qw/D3itoOM4Q8MEvlWWOHzvyLEqKQjtPxIPxsnDIkGbFd2rUC11uolW4QzGmEh48qBxbm7SlzBtVdvGmLxpNE0FtrE/VVTxbceYkwkOZA7rrusmHrqreg3spnFf5qCxSVyQSHyk4lcgYXO7SnPm4nJHptORBh+OvFQqJF+KqMMvlWal751XfjWGbRBLwLJxfip+X9JZiTRimPEQoAsvZTFmPsiqhhDCFgnHi3PfGNxNTjxFkzLFLLSIOsgrh8oko+iLkaex+VBYOV3K5Tx8oOScvZTft9oUDtc9yZzsyrHP2knjNIWXIPpzn1kw6FSOUBVg5Oygn1VZxqksvmqwSK8eZBY5uhPD9/DrKp+rmRCK4CRLCcA2ymLYfxVdmPxiK97oIRYvDwNAOLFx5DEDZ4YIvlhivcOTikDigxHgNq+VrOTz5UaW8qC4S4U5SswehP3tG4Na8dXEnWTDddzKQlZjo0JglY3RoSoRAaFaMCK3IjcRODSlRXp7CkbRPlFW97H/qycaNwf1/7QUqF9m/spvZ6b28QqDhdN94ZuMUCBDmOBn4xW1kJL568Ot/5UdnpcQzo/wBmvd6B+3QNXw4+svArpQ/dF2bkUaBmm3Xj8WvboY8npwM7dkUjy8K+XfwPsmVy/Hj6yt38D7Jlcvx4+svou63NmTMVHfkqNvfkr9/H1kpTkrf+nJX8KH1kH2Wk+xNxrz/CdPH93yv4UPrI8J05ziqUr+FD6yD0ObQoEhH4wrl5/hqlaqrI9uaFMNepTneGKcP/ADQoPvEhJhKwdC8osQ0YSurdOE/+KFHtlov8PUv8KFB6ubXpRdx6V5BYooI/5+pf4UKYcWYeb/j6l/hQoPG2rXbMMW/8BEWWS0V1Mky+0Qf+mKwTaXiWgTOznFUtCrdLixotOjCMEJoSIybpWaUpxUWjlxSsEv7MUH1ETno5udSTit0OS6+sSJS53lKwSuC/W5Vi3ziTDYweYkUBIS16k0ImsvykSQYXvJDzJwzB2kDQvgUwFaHaVcIrYI8IkmFzQLlQPCc7PpcxWCWQrFWJO8kk0LQTNKBrrBHhJOJE60IeVVcFnwSGi3+iQWi5wWaUDblCxqgcnZQ4XXcKAda0g0qRJuUEpN8kUzha7lQGYeymFvmqpw3jePinJ+rwoLBLxrRCwBcrYZCOVUC0TMhenErrj0p0ZP8ADgjbTbtZxV92h+gsD9n6q2Btub7rmLfY+Oh+itf/AKi/bYJf4ovw2b7Opun2enp/1r28J4RrGNq3Bo9Elt/OHnP4KCPFELSsr2XbHq1tMmd9CPvHDwu3tUP/AFaYY6iXZuC8I0XZ9RYNKocsEvBAfGmfvsyXTqiEvna31GOPtx8n09F6ZLL3zYtsn2K0XZhCgzxH4RxIQlvZ4wtg+zphjpFbL6YriBypEysVgXiDl+cyZJZZWk/SQhGEKxEC0Q6yIWgeclAl4oEo2iF/MpWcSbuesSIAl4l2onJIREW5h67kQyeIdZA8JxDLdckojdBHmJEK3cjwuUQrhg9YkDwiieJdxIhZA+6kiA0tyI8SaF8D1iQJCK6C3URIgCJd7Oyb0kQL2FzEohNbBHmJBMD9zWfCkiBb3sX20kQPgS5iSwfgeuSCuABDFk/upLCZn/LXhgf9kxvSWdQsssRaSJYLOD/hpw3/AODxvSQZJEbvoJfbSXywP3M740l9HT+uoPWJUQhulvupL8/m+yT5/U0tklvupIgdDe9usSBH9Zj9tiORA/cxM1EuKywP3GXMSiFd3tfxKZbLLFzEpgZpZvEQLqgst+43cymW/cf9IKxyLj7DMjjim4Jj1UPbPHcQygA4A9kSJpFpJZFCdvZYesslGUOQaBaMt1YirhfuN2oScrIDv0mOhhJYH7j5QJYswXDBb8USUR95/wCHIE0DNLO4SSwyJkH7kSDCNqxf3qUTmq0r6Sz2a9//AOVWAbUbsM4e/wDGJX0ln80Pj7fiFU+MTwfOVwt/kqCbwfAItsv+AS/+wuaBH+G5oQpo4/rmzMIkiKQ38e4FBXPLigCugWPeMyLOFNFcPfPKQpZuLLSknMzs9MhKycKEJRZmMbYQdpa/Hb5ssmZs5PoxfBKZikI+8Ex3RzJHFOXFtGwiER333UUtwkbdMdWTQeIjRQMIsGLuyhHBNwmPEJKuOIj3y0PhRJGGIScHLHJEK1hcMUkRSY9ufeilcI/f0Cwh95LhIhQ5ssf/AAsx6JKYTgMB+2klL9ZxuWVmP+mSyIwzZALtmGHhLVCjekszH9r7gsO2Qf5MMMdWN6SzGHcMEftRLcnKTZnbn+4CqpkvfuqJJhuH+g/IlO4jLigLGGiu8d2UpOEj+7pCuEy1tFPuiinGhwwcbhWgHMA/b0sJ3iR5iWMVfaZgOg1GNT6jjClys5CK6C9zO0NqyKmTcnV5GDUqVOSs/IRYtszLG4fzVtJR5BxMmwRI8zhUQroQX54RAmhC4gdpIhVYu/S3VIVgIrS15oX5EpZTLlEkB70Al8USjoK3PeUJaLCb7Ma88wmvFly/wvRi+KpMP8ZEvY6f1TcekSXiyX+VmpEOmmS/zl79Dyk7YmciQ2N4iagRF0HqkKV1zRM/fUZSBp6l9N6kCGQS+KJVxRfCyaBTZWZ7XfjSjoIs7SQBeKI3AjVdpJDuTQkLNG5mkgkbfO/GrBa0OqVirEhEj5SUOu6pIGhF4gHhe25KRCV3VSkJZeyl4yQWETi6pKtzfKRlQ51vEga7SF6AzKuK4br3qBO1qDSvdTFusFUqFrOfEvNJcs9K6b7qaK7DFBb8LNO+Ry5k6en6i/U+mfRF+T9R+2Rej/WlLp6Ojo9npV8OWKLFgwoQRIsaKTIUELiMl0Vsu7nXo6ClqvjQHm50Kkaf6b1V21OtjgijTaGeaTXOzbY9WcfdPfsR9PoI3FMmF5j9rFdaYZwzSMHUrwZQ5YJWDa49UbmIl6kHxEOCAAEIIULdCAWiA8KmK4nkyHxL85qNXLPLufpdLpYYY9pnERXRtTUotcF6krfKFI4heVlpLyPUYi58wpYsURE777SQPKzMQouLMelAZYp36vypdOc8zVEUiJ7jzCJKCtEyfqElSRpAb8pKorhd4y4RNMThK48pflS5WdchQHH2STW/2v5UjuIzuFiC5X3iP4kEwhEbSDUQpHOICyuEhQRDe3icgs3Vi/lQLa1o6hf8iHN8ZwkJJRHJD6wprSEOogxDGd2L9nocNRjF/ZrMRygOsXCSwnF8cPbxgPeRghB+mI74xtHLxEsvi1CniRtn6dmd+uh9ZBe5zMlw3JXCWvhXzeEJGz+6Ujm+yhR39T8o1KnfhQ+sgvtcfWcmysvXx9/Sbbp+Ry/ZQ+sgp6ULJUpHT+6h9ZB9LhIQ7Qqsi8tUd/So2+EpHN9lQ/WQM5K5Rn5H8Kh+sqFrs/lJnCPlKjvmWEW9+Sv4UPrJTmZbTOSv4UPrIPp6qq1dlVd8wC/d8r+FQ/WUb+WHNPyv38fWQXWkr5H9chpuXx7+W+zJX7/D9ZTAnJWATinJVgiXw4+sgwTZF+w5/wAbPzRf2hLPbhtYsC2RHChYFkHzMATixYkW+OI/qxC5lnBR5YbRmZX8Kh+shI6gXKkpmAf7plfwqH6yjfwMwzMr9/H1kDkKUFHfUv8AZMr9/H1lXv4GqZlfv4+stF/KpXy99QPsmV+/j6yN/A0zMr9/H1kFzVBFxGqt/C+yZX7+KBiwnARTMr9/FAzi40rrfXSFHhfHSv38Uu9hl+6ZX7+KAIiykbtKxPHV0fB8LiqLvIhkssePx0r9+FYliqKEXEuCZYYwEffUaKwDEtIoMsdz8ynLrVQ6B4bU5Zc4PyrEEJrUrkE7UlWgIudVpitFI7nQHWSgpUdVBBElRmVZEWVAz7UEZakKskDabVWp6yhAhNK1RpahBEg8lMPElTZVizIQhqAcmQhAyd6RTagdCjWpUgTKAzqEFiZKmQYhj/v6HJ02LTQgFODNC3fZfqpyj7QXG6Tog9tX42d4Mlog/BTQkspLN1rkGI73H32HQPLJNvcf5RlqIsrbxJhHiQYm7aD9h0BT/hD+JoKy9ilBh7NoPxNAU/3/APxNEWXgLtakRIUGI/4QdPgDyEN2iavAA9hZf21Y11yDDG7QXWxqB5CsbtD+OoPkLLSQPElhiLdoLffqIP8AQKiPDx+UtM7yZojN0WQLsqzd3mpSFwmPKQ/KKWGssDjjiLhWm95z9HhS3jAHfQHfqEsj722g/wAJUT7wjZldhMB+Kjxh85yy8rh81FMQ722gu/xlRB/oEFI7QdVVon3hZf8AORmuUpYgMntBHLVaB+Cpu8doOqt0T8FWXjajrKhiHg/aCX+fqIP/ACqXwZtB/jDR/wAFWYm7SDlZpuQYZ4Kx+OXENL/BRTjTMf6sSUv8FWYimcpGGeCse6sT0sf+VR4Kx239ltO/BVmaPzUGGFRcetcWLad+CrGoFMxfC2jTMAcSSozkWQcUbvW0xW2iy9pYdaO1mQ+204vxIDwHjn+OEr+BJvAeOC/fnK/gQrMnk0HdZRkZ1UGG+AMafxzgfgQphw9jUv37Q/wIVmY+iKducRBuhBhvtaxpm9vIfgoo9rmMdWOW9SVWZZidzNVjehBhftaxj/Hky/5UVPtaxfqxzE/BRWZimJrciDCvavi7VjyP+Cim9qGLM3t8mh/oBWZ5RUuuaPEgw32p4oImjjye/BRR7UMUaseT33gVmmbykDwig1bi/Dlcp9ICZnMYTU9BhTUF0sYNHMtsOcwuIXeasO2jN9qc5ylBL+0WWiboQF9qH8YopYJN8lA5eqKUspt5RUm0n8xLErMr/JSlw8zVAk4usSkdHlIG+cab/vVYlbd1kO9FFLBJrOVyZukuFLximcgZWaWqv1k4kgnOTuZWDl6ziSWuC/iUuRJtKITvNQWe5LlQankMGS2I8T45mZmpVGWCBUYYjBlI7R97zL7fcypGqt1/tzS9fCjRxXtCh/yyXLyoa9vpESIOkgcvnayVZOWWTDvctpBf51rf4aSPcrof8JVsv+dJZp7AjlBqYekWgvFuScrMKHZXQM3flb/DST+5Th/7Jrf4aSzD2WD2FY9lqzckWYSWyvDmqNWPw0ke5ThjUdU/DSWbfzKPq/WTckWYd7k2F3f50/DSTe5ThPVBqPbnYizH+dN7A2F7Kq8kXYaGybCJfuao/hpJvcmwhl7wnvw0lmA9HRYrPY6fNTekXYZ7kmD+nNTZr8KJeLXdl2E5bGOA5aHITXe09NRoUUDmiy7sls/oK3srHcWGzGWzcv8AaZD8sMl7NDklKXc64pD3GME/wVH/AAolb7j+CR/zPHL/AJqIs2+omfqX0LPQwv3H8E/wJE+/RFPuSYH/AIE/tyWaOESuVgk1juNaMJ9ybBP8Ah9/JSOynBP8XoF3HHJZqLc3aRwEpUwwdleCYtw4egeWSsHZTgfMWG5Xzll4JivHJoQYj7lOCf4sSvlkrB2V4JHLhuR8slldrbQTcaDE/cwwSN3tYkfOVnuZYMH97Ej5yypNyoNa4/2c4Rk8BYnm5bDFOhRoEhGiwjDQXQNpLPqGRRcPUQ9fecH/AKa8nH/+T7FQ/wCzpj0V6GGi/vTw8RfwdB/6aoesqerxJhLISPO1KUmhNs7SgbWOVQxXMsarRbZ1UUm7VpUsyN5kn1PNUwi9BAwtFhDwJhERFzNKXR2UzrXFpFA/KPCmJo3DpFIBtHspiK3soJt/sk3/ALSUiaUa/Smi/DX6RQMRCIxnfFII7TLW1KZe/CR6UXCJtN2VAxfDC/Sh2e/SgvhuqmIrow9VAcZEeURU5SMeUVET3qN2VJZYxdVAxETTdpFN0u3kTgYqSt3ysIs/ZW9Dq4T26+wO1/FvT0/HQf8ApLPtkXc3TVdCWxBjMDk6QXjYFOyxZnh3nCK3ZJ7JaHC2hVvGtVDwjPzRw+9YUb3qT9gWubqJbDjxSiPdpERX0c3qMqbeN8nTemwhkvkRClZaTk4MpKS0CBJysIRgQYINEB5UOtu4U3H2Upa+yvmvrGhOFnVRCtK48ooLWh2ci4UA60OqnHQRaRUCZCXZSiRX9VBLRsdwqBygI6UNE7YnAl0gI8CCxzhDtJbXQe0qiIhihDHI25S5zGoLITfEkmliEiDtKiEXvMTW1PCJrOVA0BxDBEs7iSwiug9YksAi8T2lZAyQe0gIRC2W7SWFmg3tuJA5YIphKHCY7iJAQitlhHSRLB5kv8NOGOajxvSWaCXvPKSwmc/y1YY/8HjekgyAv1xLFzEqYA2y3WJXEXjpbmIl88InCHKS/P5vsk+f1AubLDzElgF4qTEs4kSaEXvJcRESITS3LjzESkWS4Wy3WJYdtM2iy2ynB51coW/rE0ZQKZKZiixunLbyrMAmZaRkTm5yNuJOTGJHinwQwuJc17PsZYW2nbUJnaJjXElMp1OocUpWg0mbiXdJdHwxD2vqcy9Gmw27pLgw3BuCqzgrumtn0LEk4cziCsQBqc8/4GJE3lv8wiuyYeaW65Ll/GmNsOT3db4Kr0PENOi0eWkYQx54D8VBLxlpEumZKoSlVkZOeps5AnJCORFCmINwmPKu2u8Vy4pgOApYusmgWjLOD4xLAG2W5XJoAuGWIg4l4nEQGuli4RJLCFvezuEk0K0pYeISSwnCMnZpJYMK2ok7DmGx/wBty6zyN7+DviiWA7Uf2PYZ/wDHZdZ5M+/j1SWy4xb4KhF25H7Qi2wftCIX7mIg+CJKNzPuRLmwzv8AoJSvfzwkNbCBvxSaFcYEWuEug5526eEtqO2LDGyKUnDk6VuhnKiYm1/sjvHF1R/UWdV7YvsWrlBnML08KBLVLdDCgTEvNfpmDE6NXN/rXP20GkVrFXdVVjD1NqUSmTlWbKnN5SCX3YkTf94ittYk7j3BnRRar4AqNXlsQysrv4E3GmXdBxOi67rL7HbjjGNnp4M02OYKxRs6wHM4cxRNwJmNJx3Se5NxBB6dJf8AotgRAH9Ml1VpTuX9o1YxxgGt0jEEaJM1TDcUZYJgzcRwydaXE1q3XGyRm6xFfJ1Ea5JWcZclccb4xFn3oquLaR/dRVsUXCfZVUW4Y2m4VCFgkGr49J0tGRnL8sKY/wCmSlziMcrYqSYtp8+X2qN/0ySPIYnsfAvcuwr1InpLL4Zfra/iFYjskJuy7DDeAvSWXCTSg9YluTlJsywiLxPVIUokLQ+5NTCTBDlcqhIfEt+KJYw1pCf3Ja92+4gqeFtkeIKjSDMZw93LlFDNBhnmJbAB1nPAIVg+2bHVOwBs0qU3U5AKqFThDIQpGN71GLpuu5RXXTx/yRVBiGw3ue9n+I9mtHrNVo512pVPxseZ3xND2fg7cvsLDdicAsB90XizBdAjRo+FXxHwTNwwWla4uLoyrx9nHc97UpjCZ1CnYth4Uk54O/IFLONEvE8uXKvW7nusxtl20at7NsXUWHLYnqsX2Bq28cZl0XCJFqHp/aX1MnTtl/dnodQHaRiIZIqrFtgs1F+NTFIRixhym5KTXW6Yq+O8ZR96BwcSUXNg9UhRlYPCSNMEVqgA/V7K8aS/yqV7/wAJlV7JZQIeEl4lOu2pV4v9jyvor36HydsTOYpOIy5hJQ7iPKSUS4sjRTZX5F9N6g53YJLqASPKhxamIEidozIAiERC/SkdDK5KJFY5KLr0BaJGSYdbuNKPMjNbrcgBLUxK621A28yjl4UElxKCtU6WlwqDJ3MggSL3ssjlNtjUpWv7KrduiDTcKDQ/dSF7FEwxD6MnfET8S0RhfBtZxtVeimUOT38b4U/goI8REuqdqGzWPtHPD0sU+ErISccjmjD31vTpFZxh7D1KwrR4NKo0sErJwndYy4iJfUx6/awxjF8mfp/TNmlObENmuyCibPZXvrpDv6vHCHezx6OWGOlbBi3RXXv3qrE84v0picevS5fOyZJTlaT6eKEYRrEwNG1jrkrbcjbEpHnc+0kagdvMylYIeSxvnJiueTOEkotzE8riFGYgHiFAxZsmUhJLcJZAtJJaQ5NLvkUxTEn2cJII4Bs1CqydyXD+RNFaDyZlIWoG0gsykgItzy4hEvkRFcL28QkqxG0LMzhU9YM0L8ipIud1Yvm9KUSyC/UQoJxCZDwiSeLmMh4hJBQI258wtTEQk/mESTiTbS0l+VIDhYPWFAE3emXCQklcI6/hfyo0Xahu/mQTiE+qJINe42oNOxLtBwTTKvLd9SYyc6ZQct3Q1q9Edk2DtNBDyyUVAnbVqCQ/AU6NF+WIKzRwuPlJBhXuU4Q00QPLJSWyTCA5qIHlksrvijBbaBWxeJWboRFovQYh7k2DBe2gwy/pyVZbJsGfwCA/05LM3qUGE+5Ngz+BIf38kvuSYM/gf+2JZuV1xcSVw5mNQYT7k2DC/wAz/wBuSPckwZ/A9/3clmnVTMVDBy2TYMH/ADP/AG5JfcmwZ/A5/hRLNyuJKSDCvcmwUX+au3vyURdk2DIEtMxSpR+KgRC9/L9oSWZauRfHWopQKDW4pfBScYv7MkGrtm+zLCtQ2fYenJyQjxZmPAdFPflxLJ/cmwZ/A5l/TkvQ2bwhlsAYehcMnD/GKyYytt1IML9ybBn8DmP9OSX3JsIllpsf7+SzVyrInCflLRhPuSYOIv8AE8f8KJL7kmDv4Hj/AIUSzgiESPU1KPvrUGF+5JhAQtpR9uaJVlspwdqpR/fyWWS08E8JkIRBaRQr/wDUrxuRDCi2VYRbbRzL/miSe5RhH+Cj/CiWa+z0XuSkPQ5ZZrDfcswn/BJ/hRKv3LMJ/wAEx/wolmmUvNQRCI3K7jC/crwn/Bsf8KJeUeE6RhrH+EolMkzgHHgTBxXmRfqN4lscrhWJVct7tGw834CnRi+WIKljK7h0Iu0go7CUh66AS9ZBOEUIEIrrtSCISFKeZLzEgjKNqEOtUcyCCtuSlxJusl6NCBcqqyZk5KHoFuaoTJUAqyuVir6qDy0JULFrEzORViSZyCxApUILGoG21VqxSGTKsVYgEKB4UzhJBKsFVimFB4GMx/vejfdYfpLIRaUIC4hH0V4uLBEsOT/KLvkXp00n0+TL7QPooPszJgUIQMhJ85NcWbUSB0yVCBrrG5EzUqiK0RMitagtStQ5yZAI1IFKYOUjE9mhtotSgM96n4n41mHAsNwGTYuJ4XDVCWYWlcgn5qZiLfKJAi4LusgdQ13aJKJWgXDcmBAzXXIG0QQWuxGYkDdVSlQgs+ojMVypViBujQsOnPFbS8PFrKQjCsvWIVe3aNg+Lxb4fSRTNdLeVqltyQdDjzIdkLgRK35xJh+c5UjaLeEVNzTcf06UF48XaRlHspcrx7KbMgnSY8Nqa0rRPNaq/WTcDuYkDfONMPEXWVQuVrkDaQS9vSmd81KIte43XeasGObRBdhCqkWkR9JZDIk6Rk4nFCh+ivBx0LsIVj7kvXoZEVDppF9iig+7g6yOAi6yXKLuEUwfNQMLh7IphLzRSjr8lK1vaagsLWn9dirG7qESZ+pBZm8pA3XKvMIO6yH+aKC0S1ErHt7Kod6KcshtQP6qllzuyqxb56sBBcWtRqakBM7ISDDMO244x5D5pWL5q9npIdK8WjeK2iY2Hik5IvSXsdK+ZruTz5Tv9BP6iqIrTTf714nFY4r+yg/2+uld56YNHloB9wddM/3tLcYB2kATPIegbp+DTAeQuRL/ALuBBW+QgZwubyqzL5Iqp2clOYu01SLT/VdwkvAxlbiDZ1FLTW2/LDJe84vOWP43/X2z0+HEEP8AGJL26Hk7YubPhuy8Sa7Sq7XdoiQJZLF9N6jDcQWWKwXWKsWtDqqzTk0oDL5KlvoJNKcytMi7KA+aKdIesuqjMgutvao40juFO700Fjrm8yZpOcqU0ItKDx8cC7AWKh4qdMeiSbB3jcHYYLip0v8A9MUuKmxMIYhH+QTH/TJU4FN2AsJROKmQfRFb4j3oVog5TpUfU81D9XKsSguLlTjb5KCL0UDlzoo2YW8qnMJu4VBOIk3GKAyP6qkitPmtSETgd6acicJ2ILHO3xcopiLP1RVfRrQVpGTMxILCEnGVjLVMUWjGs4VVFzG4NQimOLnFmZBbH+GEg4UsUSbG7KgrhjN4kpZY3WFA5274uqrIoiRRh6qqIxLfF1VJay8ZcQoGi5Y1moRRFj2xt3fcI9RBEJb7mIVWMIYW+KGDTIhdzoPoIffrOFQWWNZwqCdC33WFMRCyMPEQoIIR8dzNVh5T7KqIiLfdlPFK2N1hQBCIkZEmJvjrEsUhvLQ5RFJgxuygfK8eqmLWJKsvhkWujFotQWE5x9VNbe7hVdov7KYiz8ooFNo2lwpSFiYmtjO0pXOeRBeggrbiBHAoIuLhU8buFBHVDSj3ogcmEha7hFQLtXCgBFpALFMK0YJcpJCyohOG7hQAkX6WIrWiX415VTnK9LTMmFKo8jPSxCRR40zUO9igk7SO76XL1SG4C5Sei10EiBBI3QoJLCZwv8NeG+DwJG9JZrlEFhM5/lmw3/4JG9JaMgiCyPB5XKqFbuSLiJWzAiUcB6yoFrYNnEvzuf7JPBM0ASHciJ6iSQB/WxPykSmBbuYfMSaEYkMs3I4lzYI0tAqdPOnzkEI8nOQokCKGV49NpLWELuaNlHigiYZiezl/XRLaYkToI63EqRL3lvMu2PNLFxbdyXibY5g2m90zhLCUvRY44WqEnCizUvvCIXdO8cTtORdW0GjU7C9GpVFpUHcU2RdCgQTuIBc7Mvq6OkjICJjxcIGy5Q7Jx3Lpm1EssYtuJZww5Yi0uTQitlnHxJYBN3LuZMJlYRHlcuKVUAveXcymAVss7SZKIHvUHTeSkcsG/USDCtqP+JcKjxVuCs9i++gRaHLAdqLfBmFf/HYKz6L76A9ZJeLfBTCtGD2kQs0HqkKLfEuNKOaCRHxIxA+9A4PgiUgMQGfclARRLc84kpH4EuEUHOe3yjVzA21PD22Og0o6hJwIEOHU4Q3MIR3dzbmkOpe1Xu7AwVM0Of6cOSFXmcQzkDdQJQ5a0C6RaV2r2FvUIzIW70FCafVXwQKTSJGP33KUSlwJwh9+CVES8peuOohKMdzxdLtVdzZs1qeAsGVifrsKJLVrEMUY5Sh5oMPoc13MTluGJr6oqDikZHEK625Fzj6q8uTJuytJzTFIYrxHIQiSqiuvLqo0m7hFBXPHlcsBHuI3cQpJ8/7n1IiyDAif9Mk5Zj7K+WqE2kVjklYheaSyPIYvsscOy3DHV+cszLNDLnWIbLG+5lhsSBzYTllxZu2tycpLlyEIrg6yWEItgjruUW2dZLC9EliCwicV3CQrT/dOYHqWNtmcCLSIRx5uixe+TlxzFD1N6q3ELWhZxIgRYkLckPCumHJtysdGnMG91Xs+iYRpUKuzk9SK1IycOVmZIpUovQZQxa4S5lhmDo0zt07oX3QJGQjyOFqIIkMxM62i2GPWLMt/z2EsMVWP3zPYbpceZb78cqLl6wiMKVCBAgwIEtCG2Wgg0fJFer5EY223Sx5gt7FOIJ8yr1Z0OJp9VKXXXjc0u50vQQ+y69BEOYj1I3vPlQQRCULXkJePRSdtRxD/AOEyvor1gaQ7teNRLtpmJ+WTlR81fR0Pk9GBm+lTaQ5MyVwtuOxNbmX0XoK145EDcTWWKHJXC1vOgUXFaQNbch1qW3g5UDoHKgn1UpEIlapdksclMS06hQFznJhyt5kWk8uUVFovIbdSA1dtVj6QtTFm7SAG4OsSBevqhJm/NQLbOqQpWuG7OQ/kQWW39ZK13YJKXjROJyiiK0XtDhIVoBJrC13CjSF+kkxWkdmUhzqp112kkEllMuKElKKV9+kSUi5wdoUpOIYLdUL8iBibvTabmkJfKgiISa/X+VQTjy6oTkkUiIjazSSAhZQEeYUC0rRfcLfkQ4himQnqFG9bcR5SJBVFuEx4oTvkQRZ28pJtIC/K4UuZl+lA1oPs1flSjaTeErkrhJ+e4fyIi5jLJlJUkcFmkhS6Ws0oK0jzlcgbeyTUBFaQmTMwih2frCSgbrSeOYVHB1UDZeySMjB7KgiJuu8UXFdzIMMjuLa3Jh8Vh8i/tFmWZ5WLDR/ywGXxFHEfliEsyyvQQMJr/KTFwl9PZSmXFwoIkBqzpesgiESO9K9AdZQWjlQRC3tIHKCAbyIuS70XGKcW6lQQuVLzWJi4RNV2tyIGbe1eNjEtxg7E8Qv4OmB80l64/nLG9o0XcbO8WlwyES//AH2oLcHDusHUQeGQh+iveJw9TMvNoMAYWHqUHDKw/RXpf9qEilmaoUENpuVfGTL1qDC5I5w86bUl6yLVk4ScKAtZflLzU2bQjNdxIgjvVSlmzpiLhVfVWCUhE3jRcKVw8bkB0Ns5Fikz43agEPho9vlOWU9GXpWLD43alUm/uWmS4/K4lXVsWVOFrUrkOSrGFSplOVBSaDTXElzIESpiJKgNNqVHKo1IIJJlVjuFVkSCEJlU7UggrkpWpsqV1wIPMEkdVQhYBWJRQizZUyVCCy1DuFHMj01IZS9IrEEiRKUqZAKwVWncKDzcRi6h1IS+KJWUEnUOmkXxSmpiMWlT48UIvRXzYVJ2HpB3xTfkJB7ooRxkpLOgMqMqlT/regHphJxWr46pVJChUubqlSmN3Iyg72IS1FB7oCpVSGc1QsAVGcpsIm987wr+bKg3ZmS2lmWK7Pto1I2jU+NFk/0rUoHv8pGzBzLLNTUB1UWuQ5CBvZ50rXZkw8SUlgxTBjhr+LYXDODF+VZeJE1YZhciDGeLYXFu4qzHlWyFjkXX+SgUNd6SkPcSXznEgFIlpJBIlcm62RadxHtrrUjjisYXw5g3w0dMEXGBk5rRd5xJpPaptBnp6WgR9mhysGKQiUYzKwenUqqpuC7Tam9NKTXKRUpT6akcoKG2o+agnSCw3FnisVYMi/yqIPyrMic1YZji2r4SMtNR+agzchbFMeygh09lMV0c+sl5i66BhIifZrUj6RJOjR1U2XNpFA4k5hc6Z1ri6yraTeqtebVdrUDZ4cnSKdTfCuJ6h7xL6Q6yDZI8XKhpaQWhajtL2wYSleir4hwnTjogkJTAQmkUEeZuVbjwhiqm46w5LVymWwY5NIDzQYnRmEkqPY428qZ3pJR0F1kCTPSQMLSLtKxU8HKmI+FB4+MbsL1UR+xSX1YcJ2H6UX8lhqrEY72g1WH/ACWJ6KXBxb3CdEItUAUHtF+ajjLmal1AKkSWCXOu5kzrgVejsprhHsoLAy9UXItG4uFVlrHspj1+SgYdfVVha0uYe2gLteYkDuuPrJvWVYuTCWTykFglcCkXEIeUkyh1RTXakD8vKmaPmNUKCdlQYbTybtNxVD4qZKF8hL3IlpH1l4coLdq1VH42iQfxRF7kS7yl8/XPPlJ6ysG1hKt+rtqwQydRfPcU8qm1vYUeqrIQb2K1AoARWjwJzAryIGWsWhMR48xptK2kzmBMBTkCjyFP/XM8fTeYjmIi+avhxZH2l7DemQrlQxP7ZqIUVkeDF0ezyr0fGk6UdD/CJoiolp6Uq9MkKpJ3y09CGKPJ7OlWauua87msD56Zju0T0gNsd10w/qIGbqWPY8LdBgaJw12V/Havf6TYzqLHNoYiNOwrFHTW5IvOXr0PJ2xc2worRin2kOHzVMyHjYw9ZVCO6FonEX03qW+qm+aCV2dMgYrn8qYrrUtoifXWFbTdrNF2UychM1eQnpzvyKQiEoH1uIlQzghIWCWrKCMou5lxxStsFV2n90Pg+cZHp1KhTQwpWReXvbSuL/euy49scx0OJSFud20wZe0q+ARTDoRJh0Jh0JQzoysRTz8Ri7C9bhiGaTmP+mS8/ABO2d4SLipkEvNXp1oHUGqj/I43/TJeLs3u2aYPLR4MhrfEZRc1oqCLhU+qoJpPWJWaUFrSZXpiRRiDPwIyvsUegpIvmoGK8TdnQTb0pcPMmykbeNA1re0nJovdxKvmE9Sa57ftqBiJw8NwqC19dQ7iPUp9ZBJFnbxI7fwqLc321Ak776gsImvv+FUkLrvtqS7L9tUiTo4Q+Zz0DOz6XRUzs5fbUhRW5vjUOyWakEutPjcmJxPv1ClLW341HH91QQ5j/uq+jNvusqG5/uqsHKY/bUAXvRjwmKCyxiLiVZa/uqYmkJ9ZAxfDOPUKItoxusgic/TcKaP8N1hQKRe/N4hTEXv1+pQdu+HmFRF8UUYuZBJ/DO4VBFndyoPPG7KaLmjCgUvhuoKUjzjypiL34uqpaN5cooIJwi0uEUENxt0igrd8XVRFaQxr9KA0u5UpCLnPsEUxELT6qVrRPqoGdxcKUsvZRFdlRmQFos4GrB54mbZsMN/gSN6SzhzidyrB6j/liwx/4JG9JZEZBMe+wi5SVMJolBFmkl9E1bH6eqvnG0gEuFfAzfa+ecMsHlUQnCDS5lIua3lUCWTmFchMLNBIgSQLdyScSHVnalhFDEQ42roGhi0QsSC58FMPwLuZAkLQKGfEgkWjuSJEALYIlzJBaQgnzECwJAywdKl1odpJCAbCF9qsHM3MCgYPtPup2FXfw7BWdxSLeuyuuWCbUf1hhLmrsFZ7F99tBy6S4xFXByqRK4CUNHyVFxEBDzIJERFhFkuSiTdyPEKCuSwtAlpQNkIHI6cgdVVl704k1zfpmQK23sqzm5Eolq5UOu7KBRdf1RUEXioxDwqd6I2kGUVAkJCgIpETy4l8lcL+4dbLhk4hf2a+srhttXn16zD+IS/kMb0VkR42y63Zvhv/AIUVlfS4fY6yxXZx/k5w8P8AI4KyaITot2RbPlJsuYIhSi0c1yCzc6Bc27iWMDRLjS2iIEh+p6HPY48y0HAKZtqXNmNQ4orOYEEk5uTS5Q12ZP4v7ZlSaVorIc6HE0MiLS0IZxBlJBa50VxMYvBw6Ldo2MC4YUqHa3a92E13aavGw3/lGxzxjFlR/s19HQvTiZkVwu4nJRy59KbS0eZKGUOovou4PLbwqvSZCaYnEzJaKCItTMokgUrSz5SUC4X9ZTFcT+VpIIs7eIUA5zOslG0Q7SCcJdUlAi1nA4kA3i1ih1sYh4XJYVzB6wohDa3iEhQBOvLqkmKLqE7BISQVw9aF+RVkRbq7hEkAOb+l/KrIQtIC5iFKVjy6pJiJrxf8KgrHJBHWQkKLYog3OUJMO83rX5SIflS6gHmIVoiKQ3lyiSUhuOzK0kQswDktIfkRmBz80JAzeEMsX8qhrSCxrSIUjnQjvzQvyIik0YxcLSQA2sFnEKPggFmYWoIhEneMtJyQWixz7CIflRKeNoZwFQTnGVmUSUwhF0EWcQpRyhZmEhQBWv5Sd8qBtIBszpCuuZmH8ibSZCHMiiwnCzJqFLwC9zrVYQjeTEryAwcGpUkokW66w/kSaTJ/CQpxFpBktNqLiYPK1AETX9ZyQS80kF6Qoc70kCwubqoK5nMm7aXMgxCW/wAruIW/BUmV/GRLMbr+BYZRS3u1TFp8MhKwvkElmIkTmlkyoAtBDxIt1oJo25kmlBPL2Vb3tM5igmvhnp6FTKfP1CKbYMrAiRSPg9gVzDsuwltP2r4cmcSS20uqUyUizkSBAg74if7HVJV7DqsoEeELigmIc4KsRIsupaowZspx3hzEktUartKnarIQBLeyhuaflEvl297VK1g6LR8K4UBmJ60YtmT+BHptFul3SWrSpG4e9YubcmocS58qew3aXSMPzlZgbUKjFrsnAKciy28Ldn7FxCJOWZbBtpc5tNwVGj1YA8N0mP3rHjBDtjC20ut9dUNnk1U22ESYi4khESBnCsP2qE3ZlifnlW/LEFZdmIyFnEsM2sk3ZzVQ+Njy8L5Ygp0GUSYtkZMeGVh/iFfSRJYVgwR1jaockeINTUqd1vWSam8SA3REwRBW96xd0ZDLHlctN7XdpFelsS03Z7geD/fJPXRZk/gR6fRtu6SWM4q2V7T8J0GNiCnbSJ6rTkiG/jyl1/E27pctHQerJzIGFEImjBNYJgDab7YNl3txr0nuI0nCjd+AANeUPU3/AFrVuGZfaTt03+JejFJ4cw9vShSsGX1exy/OQdElCKAVwNSELhtBc+YexVjPZJtQkMHYsqvhqiVhpwJjMTTyxB/9RXQ8dsKKYjpQUtao0tUsQLbONEI1OILFidMHe7RsVReGFLwv7NZWQ6RWKUEt7jbG0QdM1BhD/NDWLZQ1qUkx8qQuVagtyLi1oNLlQBDwpCJTckQBZW8KrTJUAQpSVnMlQJxpE5cKohRd7CAiDdch6ED/ADUjmqxVkgVDhzEhK5qDzUIU9VYIU2qE9yCRUNUJkWYXJkrUyCespQKZSBTzKEyCS5ko8QgmDOoQRHF0tMjxCS8XBxOw9JlwkQecvcL3o+qvBwT/AIoOHwzURBkokSZVjlViBlHW6qhTzIMP2m4Hj7QcP+CIU5Dk/HjFI8zx6NK9eNiTDezWj0inVSqStMghCEYYfGsG61TirFVMwZTPCFV3/ezxheJBzPZyqqq4Qwvj+TptSqcgFTlt06AZ229KDVmyKTi4h2l4qxfTJPcYbikQvy3dPLzZlvbVdwrnackfcd2vUeVoMzH8CVgROLImdoD0k1v/ANl0ZMwt1MmInY5JBLlF2lRq66lSLHKuLktUuUkqGHUgtxtGxIPFJwS9FZjc61YhJ+K2nzn2+nCXyLMdSSDJhynx5VXzJrVIfjd9PYUQiHeg7I78iW1BAAjebQbd/Og5iwPtSlcHbQ8d1CBTajWKjU45QpeXlLrRLMXkrZ2Gu6FplVqsGkYhpVRoE5HLxRzHvXa1LLNncXBMz4SnMIQZUY0KLupo4INigXauWH90rTJGcwBM1eZgh3/Jx4O4javq5hVchtsrbfQ1pVi+zmei1DZ9hiLMn47vMYRHqMejiWT2kpDdZNptS8CBItJoJFYbtGJsCgxdY1OGsyWG7TbaLIRfiqjBJBnEdu/PlIkuX0UsX30y4kQicgsbnHspnOSqesgYS84lgg7Lhj7WJbaDHqTtwPipHcfWFrnLO+VYNtT2nwNmtMlpaUljnsSVMN1IygekSD2tpuLKZg/BlVnKrMwx76lYkKFB1Rohi1oisB7mqkT1I2cxos2G6Cemt/A5x6Ba5fHh7YVXMWVeDizapPx5yfJpwqSHvcHhEtPZFb0iQocKEEOFBhwoMJowgC0QHoVCnIPVH8qGteptLNqJLm8pQHdn6ya0vKSwtAphtYtHx1O6mTgcUCJ6K8vAUV2DqPflhEK9mZbuJkftReivB2fF/edIO0lEDzkGT+qjjS8Y8SMxLA7nPLman9ZVuHz0Db6RILYWjmJAk5hdpJC0cqGl5qBxyg5MCr+aKs/7UEpuNQ71UfOJA5D6qs1dtUi0iDrJg0ILE4Zg66rEnZusrBJBhcMm7Vpn7bQnfJEXtRBF92i5eLGEYW1mW5qFG/FEXuRvfTXz9c8+UuXyFLs7UqfV/MvnuJ7Sf2VbCMhmHDneqHekrZOKO/CKOR6qI5jx1iKX2O7bI1UwlMwKnUaiP6epm7KJuS6dNq8baltUrW0mPQaBiWjnhHD3fL45mBER8ziHTwrKtgXRTKftjx30Vw4A1uJFiBJxp7N75pdxCtq90dHpMtsnrEOuHK98m3vMIxui7x2YdS+paMZVelmMjAkZai0qWpUYI9KhQB71jBcJi3MnhE9a92BhOBsfo5TjxccQoD/i+krVsEC9jqNXy8ke555rBP3tSPzFHwabL2FLAeUuosa2j/seo5cNYkv+oKyU9YrGdpx/3oSZcNWlT/tBXr0PJ2xc2x5n9cxh50o6+Yk05+uYw/bSSi3zl9N6jijMLuZILbNdykcoF1iQWW5S1Eliy0KOQb2DDi/dgEvSVjsiOBBzRtRGHJ91Ns0iBBCEBQpewAbqLhXTkxZMxusS5i20luu6W2XRPtUv/wBRdOzTe+YxEeolsuR4kHMCkScIFoS9XgTrBLuFDidclc8nFwps1vKgonhfTKkP8liD5pLHNmBCWzLB5cNOh+kSyeZukZ/mgRPRWKbK/wDJhhLlkBH+0JUMsyvTFrQRXdpHGSlJizGSnjUOzjzKSRSS19ZSObOlJS7k1IH+qh1ruZKA7oQFib/vQMI5BstJSN13Mktdkdem5kCnvSjwWm0Bi386tEiaFmYlFuXmUC2zrIG4LNSgbdGYlFthcJKRuIOsgkbWfdU0IRYZ6yipRzAPMSBbY7iQM3JZ8KmG/tRVWN25LmVg5oLeNBLhs+6pvWVQk5g/bUwi5g/bUDNyfdUO0/bVAk4XF8agWiPWioLC5dUVqS5puz71DsjfjUEX/VQTFPP91FMVwnEZ8KKQiFp/dbVBETefeoGJxlG6wpopOGM7O4UuV9/wqgveo3NFEUFsW3fFzCliiP6Z6yWL8MXCQighF0z91FAsW/vmzhFM5wxncooil+uSfqFRFIR3w9VBbFa2MPVciKXv3VFVmTijFwtUR80bqCgWORNMQzttUkRXuztFVAV8yLDE2XK4ha/lEUEk3en1UrYmYmZVMXOfNCFSTbx4RQBOzcqwqpizbJhv/wAEjeks1IR81YJiyLPUraNh6tBR6jUZCFTIkrF7xASIC6S5i6EGSTRezH/olUETxoOO9q8SLjUiYRYJxKTQ4IfrI9upasDYi+8Q/WXy8mjlOVnl2nt+yRRQ5UkLoyNPMJEvIHGrWf3jYmy/EQ/WTDjVrP7xsTEwfiIfrLl8GRtPXGIVg8qIfS4gceleIOMyFjsDYltEvgIfrKRxrk/vGxLw+8w/WVfBkbT2RPxQE/iQJ9IsHlXjjjXpsdgbEtv2iH6ygcZAJA3BOJbftA+snwchtTe1CMBYLtNqHNYXsZXLxhxuRfvJxLa74CH6yBxr0Cz+8zFNn8lH1k+DI2pvXhRRbmsTAeRvRmXhjjWENo4MxSz/AIUfWTe3cBhAPtMxLb/JR9ZPgyNqbw9qRfpHBP8A/sEP0VnccvG3cy1tjyszOIZbDASOD8TPp1WGcj76V+D6OG5ZaWPIEc3e1LFOZ361H1l0lo5dptPTHpyFyq32GCArwhxvBHNg/FP4KPrKfbvJ/wAVcU/go+sufwZG09v2XWjcq94ID1l4o45kbP72MSid37iH1ke3SRLNhjFH4EPrLfg5Dae17Le0gomnlXj+3mQaAlhjFP4F+cl9vVKH97eKXt+wvzlnwZG09gOl3kkSPZ4eFeL7eaULG4exKLRb+stPlKDx5S2g7D2KbR/g/wDOT4Mjae4XQRPLlVbnQuyvI9vNKPNQcS3D/B/5yj280oi/xDiULW/4v/OW/ByG09gukhE+yvPxD0Nw1iHlp0b0SXzHjykZSomJX/8Ah5esvOxBjWlTOHK3LQKJiXvmakI0KE+nlm6RbxLI6GVjafVs8t2e4bLR3jB9FZCXQ5YNgrFdPpGCaJTqhR8Rd+SsqMKKAU8rC6NLl7nt/oLv8VYi/q4lUtHKUiWJ7h9Drkrrsi8P2/UAnupWJf6riI9vtAzDSsRZ3f4viLPg5Dae17L2ZFZ7DSDlXgljvD2YqbXh/wDK4iD2gYcc7vOvZv4LiJ8HIbT3hiMICUbx25vDKS8IMfYcHNJ1v+r4igdoeGRIC72rFtv+K4iz4eQ2pPaGJqfmFBHpfpXhjtAw4RN3Nb/quIj2/YbFjgqgtt/xXE9VPh5Dam9wunOL9IqsukRffzLxR2gYXMQIjqj2/wAFxvVVpY+wuWuqZf4Lieqnw8htSesREIG3OvMw2P8AhGx+XDHlf+mKpLaLhVpiUzVX89PiftdlUYNqUKr4lxzU5Tf97TMeXOEcaAUJ/sCIuaS9mlwyxcnXFFn7RcDX5krchMykScnCJlmutSE4SMSP4UV7XUttnaSi4mFykmG1g5vGkKUWiIdoUCC5tuqEgsp9VMLR3Is4hVYEJCEP7USBiIr+ylinaY84oK4f6JKQ2m3gEkDFo4HJYVxB1iTE68uqSCtePMgB+B7QpRcYhzC35EwkI5TyxfypRuLPlikKAa4btQoLW7hEkPERDtCoEhJhcQkPyIHLMZdUkhNEjbkc5QLSHJmG5RFutAM0Jy0KLh4HjFTCRWDZaRClJo75ocJJ4rbyZlJyCqE7dAL9JCmISIQF7nQrv5kriEnMyki6yzWQoIInPv0ilPKZP4STCLhgjxOFVi4c2oUSZzbhM7ScgjaTX2OQ603cKV1pk/S5FAcwCJ8Qpc1vKQq1ztfMkc20TsEkSQREhbxD+RRcTM6sysEj1EKUSaTSNAhZrQvc5Didw3KSuufoaoJvb0KgoiXkpexoTFrK9NyigrE+IMyIrso28SYuZDSIkGGYeH/CNjk/iosuP9msz0mL1h2FfG422hROKagj8kMVl4lyII1IJ3YT6rkjmsIkGD7Yo85C2U4ngUyTjzk5OQtwISwERfVK4rVqjZ/gHbd04FkJCm1unYUpct42VkTh+PjEWoib03dPMtp7YNolR2ZYTlq1TqaE94/dR3mQ7kezxLM8HYopmOMKyeI6fOQDlo8J0Xx4+JidGYS6qrxGk9m+13GFK2hhs42kwYPhIrJWeY0jLTltIS/aJeb3WfgOR9rdThVTvTHlOiiUrLADiOGJWu4Wl+pxLysUVKW2m91HRImHj38nRN2U1Nwbh8Xm9VLi+ck6Z3YUnN4ljBCppFDiwo0371734srubzkU+PFm33azFwHOSVRwSdMCYlRl49XGViATenMTdPsraXc90zC9P2ZS0XDdS8IRpqK6omdhBMcJDw/WWzsT1Oi0HD1SqVYn5XwPHgRN6EYxiwo3sjlEdTlz33IlMjBQMX1AYJwqbNTUOFAPSfsCTmp4ps6HJ3BqS6cnKlzC7iQ4SegLtQcqwnaz+wwIHx8/Kj/aCs2K0T1LB9qguoNEAvha3Kj5xEkRm5uYoK3oQY+M6tqr6PfLlMUpuDskrZYXTkF2RzVV85Wy0UYUyBHxOVMcd4ex7XqftuxbNUOleHcVVM4khIb7LBuuLsiKz7E2LNu2z6nQ69VINInqbCaUwEvBHxQ8zfSXlbKQk8C90TiqmV6NAgTMcYgScxGtFxlvLSLiFbu2t4jpWE9nNei1WNALvyViSsCC+6NEMbW/7lvktbQcR0fbDgUKiUH+5tQHdTUpF0F0ZoZNXj4srkXZVh+lSuFMIHU5belDGXl7RgjxLUGAZ7FOy3uco1fp0GAcxOTm/CFGBzIPTa5b82eYultoOE6VXJONA30SEITQAbdzEHMLdKyI50wLiKX2p7b4NVxxN+CqrThbTqSYEIu6MouL63nLqAvfTdxrmzbzEkcVbYsGSdAZNVuAUMZw5bN9SI64h1dArpeP7+ZcyqXIUlltSFmbrTakpOWIKJXZ1ieFfG17G0UdVTIfkWXQnETSWIYHJx4ki/H1aMXyE1YtllqRTdlIwSLUIelLlTpLfKQQqy4kzkIE0qEI5UEOcTSRpUEPEoIkEKtSQqMqCOVIXCmcqyQGZIabSkQfEPEoUPTCSwQnalNQgZT1VCEWZMJahSpkDCmcq1YpDKdCr6qYs2dA6l6hCCR4lj+DrYFSh/FThLIOBY7hdo1CvQ/t7kGTod0JVY5AJhVf1U/Mg8nFGF5HGNBnKNUHjBmhz8BaSWraNTdsOAJPwRSINOrtHhF4iNGNpAPTpa7oJbqzCjmSw1HhPZXiOp4xDFe0SZgHOSv61kYJiQh7GXLpW4yJxJNWS9DnIITampVI2qQ/WSkodyZUGtGI5dpdN/lVOIfkWYDasPqHitoOGD4oEYfSWXrZCxH/AGJUwqQ2b6fWQ0YtxA4CSp/moNM1TZTiTDWKY2IdnVRgSZznjZqRm/e3O0/71RNbMtou0aoSZbQKvTpWiyZu70kdZdVbtItPZTdXiYqsCFAgScCWlJYACWgQhhCH+5F3mozdolVPTkOny3fMcLORSPp43KVVCiw4sIIjM1ybp0IozFh20/8AYnGbpmoJD5SzBYttGhOwZUvtW7LzkGVuGLuSHhE/NQ70FRJlvZOTLigQz81XiiVg8PC1NbqSimFAZvKWn8e7JMUYqx/LYqo9ep1OjSsKGMDfAREBBqytW4hzO4XElEreylhp72gbZIubadI+QXqrOcB4fxbhyHPjinE8GuHFaUDdAQ7nizLKbtWkUFlMUsLBygRBpcmy9kUEQkJ+Sj5ywBNamF16gSHVxJhJxN8laEj+9GPELVjWzkv71YIlojxB85ZPa4OssW2d24cMeGcjekgypDsiModVLa01gsc3yUXXtzpRKxpakzs7UDO5+VMKrHzyNycfzkFmZ/MSBJxgXMoHQoD5qBh0dZxIHQl+aKbK/wCn6qCVY4vNSptJ9kUDJhIr+VLmI+s1WD85Bh0/btXonNR5ofkJe5Mfrg+svDqdu1DCpcUhOivain403cS8OtefKgbvKTcHOajmQPFyL5riYS9n/ep/3pfVU/UyoMHx1siw5tBmwqM0EeRrAgP6ekbSPhdpJY1IdzRhnoqUvO16t1utbm4ZaZjC0+tqW3Bberuldd6UVXMW7GEEKBBCFLQhbCggDRAdIqtmdSaPjOuuSQ9N+qHWNI5WC32A6yBun9vrrFtp37At4Wmoypf24rJxyj1iWMbUP8nE+XBNS5/JEFevQ8nTFzbImf1yd+oiUJ5r39UiDiX03sWQiyIGOTgGLaGlL6iYfmIJBok8c7VZ81IOUy5VHGgxfEOzfDWKMUUrE9Tk48WsUcR71jBNEIh7BOG3UsuikUUjiRNSrbnTXOMuFA117UOz9VKVxI19pqCzWak1RFIhyg4yi+bqV5DcaAi3QJx3xRD5qxDZITtleFf+Fb/aEsxzwj5lhOyL/JhhjlGJ/wBYkGaFxJiuE+slEtPMgSdl1Egb10xFcHWS6XDxIt85BKe1zuZVvQJecSC0SQ7JwOSCWS/UmIm3Ddd1UEj85M5jECRWaUXPBqBRLISsdkclF1iNIOQWOyE+xViWRyB0Cm4EDDoLmQJFYPMohZgHlJM1rBQELQ3URJhcW5EeIlUOgeZMLXQXIHhOIQ6yHFC3JaBilkRCsYXMl3QxWDxOQWCXvI8yrdkcHwqIVwwRG5hKwRHxJDdcRIKytEC+2oLeOD7q1KIkwLMpJrtwBFn3pIDetzBfvUjm/fUOIhyX71TFG5vM9BYREQmP21BE1/3UVWJFZ91URSLdO+2oL4rh3xcwpSImxi5hRFImxnfGpY5CIxhG7xooLI5WzN+YhRH/AHTfqFVFHh+OEja4hsVpD+ubLHCSBopfrzsquL8MRHpFNEyxuyli/DD1UCzJEXfJP4VdHzzPVFVxc0ZvCgiF0Ys5tFARyJplwiKCcImT9KIvww8okmi5oztUIUAZXHD+1Kd6WZ+SEgsxl9qUC0BNvxSBic5z/gkrolhD8UgiFruKEjSBCdgwkF4kTmv+CSwopAyJyqqBFdCgmXxWtTCJrHcKCyEN0HPcKWEbmDmsRCJ0WD1SSQh8aF+kkDwiImdVLCIrNVpKIRNKDfmEkQitAuUkDjFJ4cACgSLxIjnaSSF70DjzCSthENhcQkgHFZ1UCUQtyL7MySEV0EeUlMIoYs6pIAd54kXphIrHcJIhNGFBLlJLCG2CXE5A0IolhFwoEis5hJEIvebHZlVAtZ2kDQo5R4QRBucpdEsIj0kogNFgjqEkok5juFA4kVgvSQop7pz7N0XlJRLJ1UDazqkgbenx6Uu8Oy/T+RAk0g5hQGUOogsIic0js3SUjLj0CqyLIX2pGb70gscYwmkbnCN6V0SE+88opnuF3EKrMnCZcqAdFF7j4SSxSJsYiOxBCV4/alBOIY1l5QhQTFKJeQnZaoOKToxPiMcKUspjyiSUrRjcAtQWERC9xtAT/Kq3Z3GeZEUiLfO5UR3CMYX8KoMJO48zSQ60CJ+ZqCJr78hCiK29x/CuQKPwLgzEQphd4mziSlaQXubFSi2xx6moAS95szCT0OyWZh85EJoxYI3scQpBiNGW3fEQoGeRCYkAC4EE4cwA8g4ECQkUHqkKBa0CvuhIFikQiY9Uk0Urpkh5SVZXCH3JIVwmI/FIGiu8cI8Qkldp4YqCcQnzCKDK2MQhkagHNJ3DFVYk1hcxCmj543WEkZSdwxfyoFE/eR4nCiFob8USXKXViqyE6zrEgQuF+YVEW4D5hEkQG+J7QqIVwh1SH5EA647+EkEWfrCSOrwoG548rkDObryxUuoOUi/GlISJ5DwuTFrbxCS0MJZL+IVQLSGDzCQqScJdpDiEmiYWxWkgTN5P5FJE67L4pAudBEcjiFRc4HHlFqBosUWxhHlJKVrx5hSjcTX6UuZhPzD+RErBK60DtJyLbBZqVRHnv0qXgWs2ZkDDawWcQphG3JpaqnDlflMU5Wi2/NagNNwAThSkVrWaUC0cuQSSCJEWRA0UidkzXJT+clAh1AholaxA/rJMuvIghGyzMhpZlQOO9LcT70XaUZUBy60QhcQcxIIiv5blML30PuooMLwTdiHHkTiqxQvkhiswLlWHYAcU5jOKWquxvRWX9bqoAiTcvOgeEtQpfgm8iCuckZSp0+Zp9QlgnJCatiy0YHCYrTM/3K2CYswRyNVr1OlohXSktGcPZct2FxcVyqLPzoMfwHs+w5s3ppydAkNwcX32ZjXRY3WJU482cYZ2nSEGXxFLGUaXhtgTcubY8H2eEvmksnJubhJK0IWjKTVQ0hA7lfBgmBTlbr09JwrhlosYWrctMkZOiyMGn0+WCTkJURGFLhlAV9IiI6L8qhBOXLpL8qrIkxEV/MKX/uQQJc+klhm0t0WBhKF8bW4f4oZLMSLOsPx//jfAELiqxF/ZoMxi5mkfCQqCIUZcyC7CILypXCJNzNzAhoiLRRpaR5kWwraLsnwztMhwZirQZqBPwAZCnpS2IHW4liFK7m3CkCbl5iq1itVoIF8KUm43i3cy3Ep5UFMeWlZmTjSMWTgRZAoW6KWZa3K1aemu5rwqc3FjUyt16khGJxS8tG8X2VufKqSt1oMLwLsswvs1301SoMeaqkdwxajNm6O3l4VmhpGuigSkmigCJopEIzLRbJi6cgiWohWC7OXRaHMxS+Fn5gv7RZzAtivHTcsK2bj/AHoSxcUWMXnEsGWlbmSERcCOZGfKC1BStLqqCTKvSgHNVYE4UxcQ3L5IstvYoFDt1dckH0OuQ5ViJZkwIJInG5IXEjqqECkgkOVaAJK5BEhAqVMSVB56ZICOssDPUoQgZCVCCxNlzJVOlFnQ5L060dOtSLEyVMgh6YFCZBJG0Vj1DtxDXoXVL5V75XLwaf4rGNVAtUCGfyIMjQhGW29AyZKm7aAHiJOCRHWQOCGiI2goVikCEKMvZQMCHcSCa7soJyDEcQthYxwfF4osQVmGUlh2M7a1hiOOmcIflWaRffzQVimUDzKeYkDO1CrHKtH1EUYWuUibkiVpOcLH5UF4k3NpFNl5uuqxIie7VamIrncSJNrUqM13EgeLtIoz1jG0EXYOrY8UL5yydmol4eM4AxcJ1gf5KRIl99Fj72kUoh1SsP8AEK+8bfSXjYTIouE6IX8lFeqaC0THSmSdVPmJA3KSEo5AItVybMgbN5anU7KBJBHzU+nqggYStDykDzdZLp6oJi4dGVAO4kCO6u5UNe/yU3l3G1Aw2xfJWK4AtplVhfFVGMPyksoYO/AmXkSxXA9vthAsg1OIgytTcfMlc1hdpD1gkc1qZ2TqpOqmzeQgj1VZl8lRpU9VAyZyXMm4Osgfj5rUZn8xNSjbaSBJBZaV3MgSJwN4koaPKRlF3CKCyWFogObUXOnEsnlIG3NpFA5bdIoMSrNu0bAxDqhTo+avXje+u5V5GIibjzAcT7fMD8sNevMOGKa8Wt4vPlR0kQlyMQfDyJcyC5uJfMcVhnwp33m5UqXkWbjtQXO6Ez3k5VCXpqQQOmbqSC42KREgu4wQA3JhtYlD5qs0dhAdP6rljW0z/JlWOXc/9QVkZ/qrwNpV2zLEnLCH8RCvTo+Tpi5tgRS8aBco+ioFVjdCg80KH6Iphym5fVewxXkZcKd6Mz+si69A2V6Dymi7Nzo9dA7kO9JKgXF5SBnOTNS6moFBYPzkyUcwJh0IJhXPHicsH2Pl/g0w91pgfkjEszkY8KKTYZgRjm5Fh2x8W7N6P93mv+sSoZmBFqNWDoSDoJA5gFSGEisRpcoHQh2SxyB7iYgSIiyJRHJxoEsiBhcJATEzRJglelHQi0WcooL+AtaUXEIDEzpR0O0qOBA/BYgWix2dI24GqR+agstzJhbYlVbsl6CxxDlTQicxK/nQKBspAgbiB2lV2uAuUlYOh2dAw5QHrKRc2C02pLbE46BQJAEhigrStICLiVUK3c9pDicBFnuQNCImwXcRKBG0HPZvUkK0YIlzJRi2gRHqQWCRboHnmipbd0Alc6LcmcO6AvtqVzYQO4iQNa0G/GqsnOCGQeJ3rkwkRC4uJA8X21ApE0Y0PWUVDv8AqigRaQE91yYnNMy+N/IgeLljOzkQqSt3xFxCq4peKjFr3qYicJu40DRyujdYVJ5ZnspHOGM7I4VWRGW+5WoLyJu+coIhEZlusRVMURilGiEZ2+SropD47kaKB4lu+HlFD3PHihKojumSHhcnIro33JyAik55fak29eLi1QlXFK4y0bpNc3+gQDrmln3SsEnE0shwlV1vinKXOICH4q1BZCLIP2oiTQrmEy/dEqxzAX2gk0JwmBF8USBRd4n7kmhCfiSIG+KJEmQOg9UlzDtNntvktjysQsIyFUi4bd+lTl4AkLe0tiOoYQmPe1mgkgiToIcpLjXw73UOUabW/wAFhrLNmFY7oGPtBoMLFkhVBw2UVs4cxAER3bbnNSqbOn4X7m5nKYTmwW8JJRH3keslgRf1sRcyxRoF4wRI+JA/A38SWB+5i6yaEXvPaQEIroN+kksIrZbtIF36WHmJLCIvEt4iFA0JzoKIHwIcxJYBE6C3iUQjItz1iQPCIRKC7mSwv3NzOFRAJ/e3aVYlF3AFCujDvN0HM23zkFsC7vYusmgObBHrLjb2590fLFGhSdBrASwx4m6ZTxbmU+6D3SsL/MlY/q8VtR2LCcW5dzKRcQwftoktNdz/AIn2qV6r1sdokhPQJCBAh96nNyowvGdJXN7K3LLfAjzEsCj8CWhqaFo5hJEC0oPWJJCJwy3aFA1xMdkIUW6tUJUwCLxIldmQPwJdZBYN/ahJSLr3QkQouRzLhIUsL4F2oSQHHwFCRFIiGMLM0IVA2a80IlGYf6JA0VrY1jTKEKiL8NZpFefU48eWpk5NyYb+cGTiFADM8ujKuRR267dS/exPE23/ABWSuMR2WW8HfODO1RF3hb53KuN/d524DmwxNf1QS3NsDx/jbHQ4nHGlHOR71hQSlXypQCP2SuzJKI3EXw33USUk4SPSAxRJLHH37sojkP6Z6wkKwQUUnNI8sVAtsceWKlij78XMKrLWPCQ/jQMJD4nkikKWERNg8pEKYfRiqCK5vDHQELLLCWpwpYRZC4oRChzSAiPLFalhWlBvZcQoFEnC3ihJY472AYDacWArIWWDfxClhXMLlagCueXEIl8iiILt92SUjcy/MLVDnD1oX5EERXDvuySQSzkXE5NFISeX2oSSxREn9USQWETc2iKlhWkA6BIlXFyn2SQThKMXMJILhaLB6wqscoN4SFFwv5Td8qUbWO0xUDaQ+5Ia61maE5EInM5SJKJWwb+IVoiLlczMIkou8d2VA2iBcpCqxiuYJHeUJBYWtvE5KThG0MsXzUO672ikitaYolbcOUAtJV3WN5lDnvLxjBuQ7O0MpIAcweShu9Y49KOZmpyUS1s1NQFuV+YEsJsIDETaGZiYbLmJQzIGikXHq0IK0s+pMLlXdqQK4cxG1DxC56UhcRjYRphIiG63kVCHAKk8utLc8yI1BEQ3ZUE2t4Ugk4UEZX8aG+sgbMrYDimQFVZU8m4ZyWIdMVBhOzRpU/EMT42rTBfISzEhbl03LDNlouw5PxOOpzv/AFFmeYeyga68i0khxD8Xbn/nVbh4NCaLl61yAdkEs+VKXjWJizH1kuXLxIIzD2UpNccTjamLhHOl0hx5VQlw3+Uo19pK4m5MyrK7roAiHTpUDy9VSX5ygibrQGYeBYVjMXYvwBC+3zBfIKzO56w7FF20jAY8MKdi+iKDMSuI26kFxJHXNTogjichrRcKC9JQizPaKTMgiFV70cwoHSRSemuzKsiaJoJcSV3aRzIuQDmpbdKVCAKLuoEyXDCiF5pLFdnIiOB6O7UJF8pL3qrH3FFqsXhk4heaS8rBkDdYQokPhlRQe9mUKHkqiuWoSROI1CNKVAqVT1kfOQQkEkxqvtoIcXbRapzXJLtKASodxJUCpkpElQS9LlUpDyIPh1qUIWBlFqlRmQOlU5k3zkEJhVaZFrEuVCYVIZMqw5k/WQNcnVam1A6x0bcdH9tlfyLIbl4FXpFYKry1ToxyrwhFCIJn/WgyRxJliYjjTT4H6jCVjcacFEHsEgyhM4dSxduNC+Go/wB4JLuMZ6Y1H+8EgyhyZYnusbD8NR/vCcIWOC+Gon3gkGUudcrFiQwMdfZ9E+8ErNxjn7Mo/wB5QZShYwMDHX2fR/vCXcY4/hKifgpIMqem4CWJlLY4/hKjl/QJu9scfwrR/vCmoqx02EOHopfBVOGXyrMYpeNcsBquHMXVqFBhTlVpbIEUYosgauhemULGxFbWKX+CqhlZEKkWrE+9sbfwxS/vKbvPGuqt0sf+VSoylyLVi3eONdVepf4Kp7xxt/GCnfgqlTKxTD+csT8H401Yhp34EjwfjP8AjJI/gqDLBtLqo+p5qxXwfjP+Mkj+Cp/BWM/4zyI/8qgyrj5RVluUliPg3GJZsVQPwIUFSsWl++qB+BCgywoo3+SvNxC2Ph6sQyDNKxPRXj+B8WDmxUH4EKqj4exROQDhRcW+JiiQF+lRy9KD0cDxd7gygl9o/Isgc5YVTMJ4gpUjBkZPFRjLQBt/Sol+qvu8C4q/jaZf8kKDKRyt7SbSsS8C4nzFjCP+Cim8DYm/jhH/AAUUGVZitDSma1Yn4GxKWbGEf8FFMNDxC5vtzmvwUUSyv2HiYpmOtYsU9r9f/jhNfeBTe16vCP7M577wKFWWiOQWNuQLiYXaWI+1yvZfbnPfeBVntcrwjdjaeH+gFBlgiTsliYRKyw1h/tXrg/vzqJdgUvtVq5E4sZ1jsNRTMmkJAV9orFMIeKqGKoRaZ93mqn2oVXTjCseavWw9hyHQRnHTk1PTM5FdFjTGZEvZy28qUrX3piuelLiWBnXNU+skG30kwkNhIHcXnISQiLe3dZO3Vwigs6yFXlG3hQWscqCyFEIoTiBvImyP6qr3sMRcVuURVnGgnL2BTFc9K9MJauZBYROeXZTlr5iFVOcLtDk/TnDrIMXxNdjHAZD/AAjEhf2ZL349OmjimQwV5tew1TcTQJaHUN++Vi7+AcEyhEBcpCvJ9zajfZNY/DSXLNh3eSJRuyXwfOF8Cl8HzdnieZY77mdD1TNY/DSTDs2ov2TVPw2J6y8/w4p2mReD5pwFudTiTDT5mzxORYz7mNDIrpmqfhsT1lYOzGg/HVH8Niesnw4m0yHvGZFljUwyMcRCwMqxz3L8PF/CP4bE9ZT7l+Hv5aTf5VE9ZPhxNpkneMXky8aO84+k4flrHR2X4aF47maL/monrI9y/DLbpaaLrzUT1k+HE2mR95xftflim7yi6jgeWKxwdluGPsaP+FRFZ7lWFfsCOX/NRE+HE2Hv96nffA8sVj+0oBHZpieGcaA8oFt4qfcvwm7/ABaf38vWTe5XhOKLSpTgLjjkS648EcSo4mWSceFFkZM++YF0CDrH4sU+/hDmmZUP6YViXuZYV/go/v5J/c0wn/BX9uS9DqyzvqB9mSuf48Ud8y32ZK/fxWK+5lhXVRw8ske5lhFof3HDyyQZUM5Kap+V+/im7+kfs+V+/CsX9zTCYs/uIHlkp9zfCYl/iGB5yDJfCcjY6pSNv28UeE6dYRVWncX66FY4OznCX8CQE/ud4Ta7wJKoPe8L0qz+6tO4v10KPDlIHNWKcP8AzQrw/c+wr/Akr5CsHAGFdVBlfIQewFco2bwxTvwoVB1yikLYlbpwh/xQrzPaBhP+AZHyFHtFwqI/4hkfIQevAxHQYFpVuliH/FCsY2OxRPZvTSG4O+p1v34l6g4HwvqoMjaPAvak5OWp8qErKQQlZOEFsELRD2UH1C2wh4VGViW52fSjL5KkM4bCUiI2NScZcqMvZQWIHQ3hJHW4LUeqgkW+amEisclHK7lTDxcqBhJ49lykeukhFaBZgJDhLRpQNchxCzqo4Eo6C5UFsLQoyChzcvCpEkBaRJcrHXGpErgbwuUCVzUDC7zUCUMWCWdA2qHDYgtEsiODmVIlkEkwlkLhEkDCTosHtKgRIoriPyFeJDYqxFsIBQM64Gphc8CQ7IkhZIKCRyg3iUjmD7qSXLFAlNrQEuIkB9XzlGnrEq964ALW5MRCIu171A5G23XvUFbCu+NSaW696gtfWQPpMiubFTF71G5SVEUiaY8ytLLG5iFA0V36ZEc7kRytmeVqIpe/FzClit/TLtTUFhjbMjlaIpWk2MfVSucMyXVciKRDvrNIigui2hGH7Uliucf3IUpXDG5hFEXKY/amoGJzjbk3VycrSD7kkPMZaN01Nm+9CgHi7+iTiVwD9qVV2nJuECXvPHuEFo5oLviksK4YN+kksImjB+5EmgEJFBHlJA0taUsIn8ES5h2obV9uFBx5WKbhWTmyw9AIe9TCl70Wt4l05CIh72KzKSmXm48IZMRPicqTJxqO2fujvsCe/qhZjsr2qbdK1tDw9TcTSE0GHpqK2aM6fuh3beJdOQpyZdJiMbM7e3ll5VMCZjxSgkUaIV5ZzQI0d7LFzEqt6IwoJXlcSeW/czuIlEAnRYPLFUqED9zO1ESmEXvJcxCohNdBv+FJA/A3/CkgBt3Lc7iSwM8t91JMNzBI8sVRC0F9vQTCL3n7qSIRD4kWaiVY2s5I6aHaQfd0EwHCUEvtpCkEogwgiQgcY7xvWbamHQRaYqYfFMbpioOQI/dGbfoUeNCh0fxMKKQD/cUsvQSr/RJ7fm/4kBn/AIQS7G75iiwRM/fWElGcmRIGxojN61b2jS2wHaptC2g1WvQMdU3vaWk4EMpU+8txd0ld1luaWFpQXcRIKOZWxDNgxUOLN9tatBCc2W+6kiELe9usQpRyhyxyTF8D91UioSbuRzZlMD4HtJBK4Bf8KSUbRAvtqAEiEYLQceVNCJ255XIgXbkizjFJLAa2CPMSB4TS3N/EKmE4mN4WquE0RDrEKUYrRliZ8K0VQ+epTMzTKLOTUnB3s5KycSLCDM8ujKK5P/RbbXRG7D0rwfrKIuvoBbgoLQ4hQMcx3ORhW5B9VaOQ/wBF7tZG4sMSv4FEW4tg22DFW1mFiQsUUqBInThhjK7mAUJ/sudmW2IceKQA8IFztAphiFZkFw3MBvooFdxH8ElNpCfHunJhuIC+1Eq3OIBH4pYAiEt9zCKUiG8uUVAi4eF0LQmIiii4tUJAE0BjdkkpFnLmEmIK55PzCqoo+/EJ/BIHijaYs1CSVvjXDpJWRfhhfpEksW3faspIAuo1sXOq4RFCZ1iFOXw3XFLFIRiRuUnIHhOEQHmIFR8LBhEFhiQ2KzU7nSuESBukkCiIiUFpu8UTkw3M+5JRGHCIOs1KNpAPM1A2k+YUHc8uVLC0O5kOGzqtQNpjFoYJJCFpRivvaSNIdVHqoAiIRMmalLiEuFpKoi9FEVokbbrVoYiiDktaSLh9FBZbQQ3hDUgUSEYQF2SSiWQn5lBdTUlF1iJK/n5U1uk9KYczkt2rjQKRiI50ptbamcQlchpZhQBcQoz5k3WMGKEEW3qto6g1JopDx5kETbiPSghoiWTKlusEgTakpELjVCWlY0LNamKI2NDLalIhcfLcghQS4iF3L+RRpcQaVUXoko9ZAERXtX0QG7+3lVAtHKHWTwiGwh4SQYZspb7Tnb6AJlORiJ5j+3EJZm0dMaBm+PFYZ7luE/4KbvXETI5DclHZbhUv82nl+PJBmrRG3fQNXw4oGFkvDyxWGe5bhX+DY/F7+SUtmGFb/wC5p/f4nrIMzKEWqNA+/ik3RZt9Ay8YrDvcwwuL/wC5p/fyS+5lhPTTT+/l6yoZmUJz74Hlil3ROtYX9OKwz3MsKiLvBsfM39dEj3MsK2F3hH/Ci9ZBmYwiDMYP64pd0WncZuMVhvuZYVK3vOPd/KiR7mWGfsOP9/L1kGYtub4vyxQUImhk8sVhXuZYX+wI/wB+L1ke5phof3HH+/xEGZjAicnlisOrwkW1HDAEzxVJmCz6umIKUdmmGs3ecf8AConrKv3LcM73e94R981j++id6SDNSGJfku5xRuj1GHlisO9zTD32HHH/AJovWSFs3w9m7zj/AIUSDNChHxh5YpN1ELg8tYZ7m+HvsaO//ii9ZL7mtA+xpoOpNEgzMoETyedHesXgWGe5vQfiZ78KL1kvub0EdE9+FRPWQZjuojlG6ifX88Vh/ub0PMyd/ConrKPc3oI/AzX4UXrIMx3EXg88Ubg+Dz1hhbN6CWYJr8Kiesl9zegiVvf34UXrIMzKWi6QS97ReDz1hhbN6CX2d+FF6yPc2oP8t/Ci9ZB7mKh72whiGIQNbIRvRSYcHdYepQ/yWH6K8SLs0w/FHdxAniArSA5omrK4QQ4UCDChWwYQiIhy9CIT1lCm1I7iWhtLVWTUyrIkWVQaCJV6EQlQWdHMpQKjlJDkupAFcq2aUxJXOQKSjrKVBXCgDSJlWSD40IQsWEyVMiAhSxQgE/Ml0KEWsFMQ3JB4lKkN1kyEZkDi1Sq3cSZBIKxwkq3puVA3bTi7Uq07uFBLWqdKhDiK5AJm86HIUg5RTNRpQgZRzPcp03JW87UDNUt0ozZUxoFtb1U6j5ylBNqlQLm3KRQM1QRN7RWquKLmFlarCc21FJFpXCrByuVTdSfUbdVqBrRUkLGdVRaVrFNrnIJFTle1HKhtzkBoPsimK5/kpcrPKQP5ywWCXDqTZu0q8uvKKBaI67RQPmJqG5CUXCVqYrkSkeFNmFyrTZtaAa19isyvVIqzNdzILbcwpRESiu8lQJZEDbrQP8KfMSYRd2iSB8xS5pdUUAJXB1k29yEOTMltheSg4pNNukWoJHQgMwKejWlLl6qA5uEUzRG3hFDicfBpQXF2UDCIiRxNeVPxqrMQDzJxuHtIGTCqooRCFsI4YnzpoROEGoJcSsHQSrG30lZc3sIGG1naSjFh98hC1tKKQcqNSa0fJQOJXByqx2QuVyrEkZnoHHh4RTOJvEldnUucSCcvkqzWYlwqv5ybjJBY4hJpACLmm1KXzkOHz0D2k9vEgm3ioEha5+pQLcv0BFJ1dtW8fWVY6BTDYwusgCIR5XErR5lVqgkrHOF3WUibXAgfRS3Czyk3zUEjoUj81FvmI9VBaI+il0hpU+qhA+hLx9VDnJi1kgXWmHL1RSZlBOv0oLrU2VU5XjypiJtxILOsgm+YlKLDF7gcmJ14oJ5uRGUTHW0VBa0EJNNBLs/VR2NKQ9bk5ZT6qA+r5qYjz8qVBZTJBZqMkEI36bUvGPCjp1oGEWPEk4tzEelQ4ryQVonfpQUyY7qA1m6c5ocAr6Sa3spRtHOmLhHhQGvsprdXClLX1Ew+iKBRLTyptTUOb5KHoG9VqUSubrIUC3MOdqZojbraggW2KCFwgObMi7UlImi5jkA5tyshWsdqVYiJM4FYOdADmDlU3WNUDyggdAoHfaDbkgk1jfoSnSAkkysGHpQAuaBdZDnQoKB0CyxyYRyEPEgURyX60omNnWRwdZAZO0gYXFa/4VKQ3NH41AucHMSLQzcSAGKREBPzRUsecgQJndRZkBOOTYQHrJWEWfrCgiJxjzC16B4ok2M/iQwh3zjzNsQTd2eT31RFd45ulrUCk10bzlfH+GEtTbFXHzRm6moixXPEeFA0UhHvm9ptFDiIjEvis6rEvfnZ2q4rX3haKCrcQxfC4hd2k4jb/RJhMXGP2pKRFxu8UgYRyfcLko/AkT/etCIRZPuSUXCUHdn8EQoLoVwwfuRJYTd7LDxQiSwiug3/AASURbub9JNQWQMsm7hJEIRLvZvMlEiLvYn8SaWit72LmQEL9z9YkQhH9LDzklhWjBH7aSaFbuSL41A8LLLND4UlELLBIc+9JRlGDyxXKIQiIweWK1AQtBF8elhO0n8OhxNtzjHQTRG349AFbl+NTXDb9vVUWL41rD99T2k8h+PQHGXDHTOsMeGOqojvHN+PTkWcsrYooFLX93VnL9tVZa28Qkmi/DX/AAooB0Rx8Ax86Usxi/LFRFu75bpioL4brICK7x33UUxFaf3dEUmDMlzCSSOQiMzxiQoJi2vEbfGiouv1eNSxM0brClij42Z5SFAxCWbhjoK0jH7apK0Y3WFJFcMWN1hQBO06YqCJuv4VLFc47LN6KCsKNyxRVBoTRitI8sdBXEHLFSlbvuWK5BOvLhiuQDrurFRCzQeWKQocWricmfdo99QKA+8lwmSaAIjuS5yFLkHP8KgbezFQQNoyxMdmFLCH9bEXMKN7c1+UkQiEbiM/fUALmQWheIkiETSg2NtIVWJDZquai2zlJAw3DBHiEhQOh2qEkgC0gbncnhXbmIPMgrATbnzQkOO+/wCCUW+JDicKBu3PVIUARRCe7hQTvHX6RQJZBZpagNHMKAilaZDdlVZE97tRCSaFFcIcBCjUYjk3SBYrXG7TFElZFFpn1nKmLeLS4UxELT6qALxT+sl3rWO0k1RFK0y0ILXy3rQXCxuglXdY7mVhZjLhuSi1oFmQAigc/YSkTWddqbeiJNQK1mvMKOC/S5GW4uJF3J20FWUbjem5uJyW4RAiVjvLRJSbm0JbcyW4rXph0ONApNvs1PTajsRaocPGgkhblDUlIivsQWXOoNuo9KCCdmZeJNTO81VOHMlc596oXuyOSXEWi5K7OXMKQmuttaSB7jDso9VK3hRwN4moBpEJ9VyS7M/mTu9VIJZOq1AxZs+pyGjx6krXW5nigh3rxsuG1A7R8kkjsmkMqLzGxmkkRSIX+UgBEbB7KXS0eqgtfWcj10BmEOqlO65mlNl7KqLQJdVACTgNvCJJiStGzgR6jVQkrRUXCTUaesJKvek67hQNaJAh2S9KRai4UOQTaoc5BEod5qCCLTxKCHOQpnKu7SgCJ6rLlURXboyhsfpU57usgOZTpSpXIGcI5lWmzZkuXKgHJM2ZBEN5INAaTsRFtuFLakIhHMgl6glOW1QTUCuSlwoc61B+ktC5VBOJDhS8aIKaUiTGq7nIHSo0pSQCUkJLnXIJSqbkpcSCEIScooJSkpyqEHwpkqZYsyEKLkEoQhAJkqZSBMlTIGQjKSYUAhwocJI1IGUvUIcgnWmba0sjUv8A3J0DZbUJHphJtyBsylQJChyB+sh/nJHNUiSkWClGEW9cUZwNyanI5UyBhtQOa5+VLmtTIJtFM4RScvEpHl1Io6gSdlRdmHOgXAICglTrUqDQNzKXNSXuUoGEvNVjlTyimcgsc1K4hE/NTZsqVyB+UuqpIrlW64NSYCawmAgcSz6U11/MquDyk70DOu6xNTDcqxikPMAo3o5X5VgsHKBIeSVzGcqHC7IgcVIu8xIpInIk7vRVnKqnIcTkElFEiMQuPKmGK7fQy6qQXDcWcrlI6C7SC23VqNDbe2kEm9m5MJZC4UDb0XAPESByJRMuq0UC4S6ooHBtnWS6Q8pRcJW8KfL5KBoWbnTCTWJPVU9GtAzisHlQIiL28KUvVTfOIUDZniOTKpJ3zUridbkEkwoGH1VY7OqfnJh0cHGgfTdnTCY+ckDR2lIi1jvIQWeumePGkHQpF1jkFo3M6yBJxBzKoS9FWOES5BFBI5QRpBQ4RtHSKkXD2RQM4kC0cqUrRNM+1AwuFjU7rHMVRZT6qcuFSG5eEWoEREWjpUZsqkyERMiQOmVVovcrNRopIkmUFrJT85A2k3ITWuPyUIF02pi1klzI5uZBYSNJpeMuIk2l3MgjVdrTFlO9pqHF5yl13aQBayTpLfOQGTtIGKKN5EaAJ1xZ1WIwxFohqT+sgcizuUKfXQ4SuZqQPdegnC/rJNNwak1rj6yCSEhI0xZo1irzCY63Ji1tQWELXiKC1qtz39ZMRNf1kFha0FaqyTFrJA5FafKm4x5VWQ5+ygvhizIJtF5cIqSIfNUFr6qnM9ACQubra7sqwcnZVbm3cqbUHMKA0hzCgXWFyodq5UZ4QCgNIEgEb1oW3G20FWJDYJRnGNxILhyg5AtQ+0CHUq4BeKAkFjsnHmFQoyMvTDlAuFA1tiBER8XmBQLnASh1rudBW0R85A/FjqNWNyCmuFhDqJBSXLpJN1eJDRHKepK1vlIDo96PrJizW6SFDSF48yYrX9ZBWXwzVY4IryVZFnFW5d8I8qCYpEQxiY1vGpL32MXKojkXjuAlJD40xflFBES15cqCIYAmRcKCJomPKgiGLcN1qCYR+Nd9qQLmt5VDxIgvzQkEQgQX2MQPCK4CL4pEIbpYeUlWJtIOqpEsnVageEPvJcIEiFllkQm+JSwiEu9u0gIDmwS5yRAyS3WQIN3IjxIhZgHK+KSBoDrNPjUtzYI8MVMJNIPupKPgv6VBDiJ9/wAKgS/66jMJ9b8qgrSP7qgC6+WKni6/uqW3dRvuqWKXv3KQoGiuHfCJ/Coil+uRfe4URbu+esKUhF0brCgkntN9xucSgitmXcQkiLEd3yTOFNHIiGNZwkgUgtjcxipImjGh5wtJJHP37qimInFG6okgaLaUyI8pJY9vfLeHzlJE7fdUVEUrY3VFA0V36ZdkJpKuPcUbqoikREcPQ1BFaZfahJUGjl78I6hFLFK2N2Upay+1IiuijGETaZwhQMRWxhLlVcVz5kiN2UlJERCZF8UJIikTo3NCFSIikTpl2S1TFt3wlypYtxG74pwpYpWxuPdKg0chbGEuVETNGbypSdFE+qJJstxGGXQgeKWezUKQi/XJM1KSu3zuFIVwm3hQMWY+sJKYpe/dZySKWfqiiKQk8hziLkDRfhi5hJVk4X8pORFK0252qCJ2+LlFBMV4vay0nXqHEJHykgxFxtA1EVrjs4UDPZa/KSNOfKSqLWQphJ2+EdJIC1wE/KSBtEC5iTFc/rKsiIn2akDALSAeZKF5Qe0KCaDyHOJClb6aAH4HUjMwh4GpSaJNHSam4bR0kggSGx2oWqMw9ZD7XFdcmuyoFzC3iTZ2dVK7P1kQhHMS0VlCCKPjAdlsVglxIuIbuqlGK7KgGecqyEXGXDlVmkEvbQDs/lKhold9Pqq4nETg89K7UJ6UC60pRRabQfcmJpWvzJTNuvMiQ6IJGLLEzS8lLnHW9qCiiPaQRFcp4Os1QTSI3ZCaoJt5MQNcPBwpLm3JS3d7UxEIvIgykgX6qURd12IY0uqSPWVAIiLKdjfyKLShGRZyFOPok1VjaIEziFBJZj6oklIniY9UlN1jmcKgXNDqoAm38DhJHzSSkRF2h/IleRDbqH8iBrXAXMgWtu4kpa+bKgiHqoAcweSgdHkqCK0+NFvYcgUo4wh3kS0GpyIgzBmVBEMVgkDrn3oF1jrgFBY7ztaCcWjmSubczUq7R6jlQYi9ZFovUDdapzZkA/SocLeqo9VJd5SCzShopdCUhcPnIJUE0hRdxo5R40AOZpZGqq5O7Two6yBOMUo2k7KmfqS5rX8qAIkrkzha7spSFyAb5qUuEUzRLtJHoAicLSVbiyvDhTFypCQSWW5RmUFypFoZzkpHwofpS9hAIJzc6MuVKRW9VBEUlXc31ExNQRF5SBRJyOV6W4j6yjKgOqhMRJXIgvzkpFnahTcggkqCUAghI7UrNCrdcggkpWoJDmCg+NCEyxYU5VCi5A6EIUgUjaoQgZMlQgZMlQgZCEIGTKtNcgnrJ1WmzZUD5iUpB4U2UW8KCVLnWqFH/agdMq04uUiRQKEIGR1U1yVAwlarFWObOpF1jkFjhagbsupQOhfBXKgdIotSqEsG9mZWVKLCBjnl0ZbUHn4jx7hrCccIFXqoQJkvgQuLyVGGtoOF8WRzlqZWAixh+BjeKI+q5c1bKdmc1tRxZOz2LDqMCWGEUeObGlGLp0uLKKv2y7PJHZLX6PEoc/NMmoRFuZg3RIJdGoS4SVKdaRQISaQKta6pW1KWpGzDD2J8TQZ6L30JQosaXB36hNEidxLJsC46oO0aWmY9FjRx7199gzFpAPE3hUjIRdwKmp1ORodMjVCpzISsnC+GjG3srXxbd8HeHPA0t4RnJzf96juYDhMstvKtX90F7Y8VY2lqHJyc0dKkxhgJgBFC3h6v5lVRtcdu+zw4oQvDEcXE1+4JvlLYUtOS1Qk4M3IzMCak4uWNBuE1pOpdzLhmlYImZkpydgViVkyjnNmdu86Bc1uVqxfuY8Rz8etTlI6TiHTIsrvyg3NCJxCpHS3V6qNRt6qHeslhaG9pYG/7EuUUCRD6SNYO03ILONAZusqxcLHdZWC6zqoGElIk5QpubbpBEgbUwIK3yUWjaga4OwCYSIsyr1pgQNlt4VLnPHsqHE5Q700AReqouv7IpuZQOcOsgYsxqx7iPntVYl5yBLIgs4+sm9b8iUbWeUgiJlum5BPziVg6HaiSKRb5KBubmRcTC5koaHaRTObcgBIhFWiTrhVQfNQTd07gQWcykStSle8UEQ3uQWeqhrSPqpXEL+ZFxILOMeVWFrVbnZdRJ7nXakEk2/S1T1V80tPQJwpmFCjBFOAQjFAMwFzcK+pBB6+RWOzkq/nEm5eZA/GocTkol6SkUFiYnEXXJKJW28SYeJSMM2m7VMP7LaZBj1M9/PzXvEjBzHzFwitJS3dhHFnAdhWR72dcyOW9byuLMvv2qbCMW7S9psatDGgDQYpw4AvjtihB6MzRWabXahspw9s5rGHj8D9+Scr3rAkYMAd+EboG3mzalY2DgnG1H2g0PwnRTsE2x5aN77LFzcv1lkJFdbxLlTuQaPXZufr1Tg7yBT+9dxvjAt2cbT1vYJenC7o7FmF8de1/GdNkYUtJx91NbmA0m/GCSxTprzXklmpyWkZOZnJ6ZCVk4AkUWMeUB6FoXbT3SYYMrknScGd5VONuhix5kw3o35RHmX37S5XaFizYGEOPIBHxJVpqGUWUpwNZL9Okh/KsjEYnijuv4UCpnLYaoMrNSEK3vmec6NzCIrJdm/dNUzFlQlqbiCQCmRo5NhTEuboDuZ2VN3MOx7pwvRalVsUYf3demY+4gQZ6AJFBg9HCP+taK7pOWosjtdqUDDwQIQFAg78JTKEx2dSpNnd0WEUKKAlncq9LSXnYc344Vw2M4/vkZCGMXfZnN1L7zy2qFGEtKYTsAedJbYSkUFuYgHmUWuAuZA23IEm7l1xoAdHXTKvSHKmuQMpBIFzHZEwuJiB3XBfqSiTvKUhmBRwILHN67kOaQcxJRc4EDlBqBg+cmz9okvB1kcHWQMXDzKcz+soHP2lPrIDN2iVhaxVTW9RylufrILCK0+slIs6YycXaSlrFA1whGdntapLIblBFnSnaMYkDk68eVMREPUEbUhuHfbu47U8UhJ7UEcvKpDL2VBHn6qBtLsoIu81NbvQIQDKo1O5EZruVA4xXEAkGlDrgFira0gLgFEJrgQWcHsJh0ClER8TypgtIO0gBIe25A3EHWSjoFA2s6yBnCQuy3IzM4xNKLcvMhzWcAkgYsreZBZXcyCFxHzElik3LxIGLeCSYvfTSnm7SYtZCgXjQeU0sUh85BDnJBZFJpRksV7o0SGx7RzpTz9lEUXEfVQWcfVuSvua/MKXLbmtQIbouuKCzUDuBR5trkmbyUDczqoGEhIQ5xJAfA9UlWIsKDDELLuZWAIkxyBRit3LjQIRBjgZHY1ohwcyBESEBIEQi38IBEDY4hJAw5YI8xKRzARcSSEO6GCI5IRa1Zp6pIDeu7MVSRZ3aSUCOceGKoK0TdncgSKW7it4oudBCMLfdZWNzjzCSCa2MOt4oF0xuaKKItpRuBwkiKRDCjN5UsX4ZvCgUmtjNfcSYs8bsklIvfh12piue7hQI4mzLuEVMV148opiaRHzDalikIiZEdgwnPQEcnb4eIEEV5t1CKXMLtBQk2jsoGcN7fikvG3IUJIN13EKcuIeHIgLjff8ABKBcRBzQkXNBwNcKkHDdmcKoQ51uhqVun7V+ROLhEBHhaoC5hcqAHIH3JKxw9aEgLigloYlAt6zmcgZw+Yl4OYUDlglmzChrmDxIAm2Cz4JGppB8ElFroPaTDaztIACJ3WFKJF5tyYcwOSwtDUBdm4oSM1vFCSi1uTlUCOSziQTm7QprTJr9KS0bhDlQNpNYgLjtfmDP/uSjc9x5sqaE4GcwkqZEJmFAgw5mNDjxrhKMxr+ygsF94lqFyUs9uoRTEJFuW/QUrisIc5OQM0bxFBay5UOuAeIWpRc5pIILMZMzXIbnJSJ3chI0hfpQHGligJF5ybN5KQUA4nGQo+CMtbkukEpCWUcmpAxEjS4tKG+igiF3ZWj4anFGFYWTNYvPkyEI4FCNxlxr1ZmW78hNfeOtRJyMKRAwhm48zzQfQ63WguoltaYv0qHCT2ne1xoDKwmalXlK4NSaKJOtPKghzl20C3e+MQTrPJQwb26UEI38Y3IEcbrT5UwkTgycKrZdbxOJM0RICve5AC7L2UwtYF+ZyrImlkvcjIQCzKSJL28yCJw9YECRDci6wWamoCKV3I1yUiFpk8OJMD2B5KRmQrOFUJcIvzqItpGQ8pIIrQ4ysQN11l4+cgCaJW6T/KlyldpJLd5QpiuIy4hQBdTUly8rS/KgicR33kLlBa73WvQA2/U4bUo6PJUlmPylDhEjvy3IAblWTiYXK1NaObiSlb1BJBFyMynKzlJI1qBuXtILX5SOVKNohyqgxcqUrbtCHWpenQgNC87EOI6VhCixqzWpncScDJxRi4RFei4sy0xt+2c4z2kTlHhUIJU6VIwisjR2vidOpqDHKh3W8hDm4gSGFAiyvQXizjTTYhj1VtTZvtboG02EcCTCJIViALosjMHc3ihlqFefQcK7Mtm+Bwo+KINEGZGVdP8AfBiUzGiGPlf7mrnLYNTI8/trpUxRYUfwRJzUSLFPgldIkkuI7TY0jFihaI2jd0BiXZzi6co8/hWnRZMD3sCYuEo0Hi4XLK8f7cqHhXBVHr9L3M9NVgd7KyxnkHVvG/WWDZrSI8jlq7aRt1w9s9jnIiHhatjmgwTbCg8pEowLtKxVjHA9exNFw3AkwgQCKmblxFMxOgeHhWlti2zCcxdj2NPYvok8VNloUScIJ6AQjMxunK52YVv+wzqh91dQ52eCDWcPHJyBfuuUjbxhcwrectOS1Qk5aoSMYI8nNC6FGg5TFc891BhDC+HafQahSqXK06qx4pQiCXtGNB4iH/Us07moo5bJ5bevKD3/ABtw/h5eVOo2rmzKXcSMyXqoH5VQ9M4tKRqCM1vEj5qlFpIFc8UqZVl9AWgRaSFGVApFpRcJIel0tJAvMghFAkxQRIgEoJrnKEua1AOQo0qUCO4kpEnK25IWbOgOsq3p0hC5AOcqnKwspi9KgFWSZVnltQUoQhYsyEIQCZKpuzIJQhCkCfqotQNqCUOQhAJkJUDJkqEDJtSVCBxJM8kii69BapFyr6qdAKXE4EvVTApDO0qEqYMtyB7lKXlTIGzWo5RSiSYSQMRFpTi28iNrdelI4it4V5uIaaVaoc/THt78lYkB/AXSKB8Swp6r4Vrcnh+cAalFgEMCNBjjYWm4Vx9jTCOL8NVOTqmNoEephFMR74OO4T+1kWlexs+x1UtiWLZmTr8tHKCLoU1LHmP2MpCvV2xbcKTj2kSdGo0nHhQQjjHixpjMZdGURFUpvrCFVoO03AoQIMgAU0IXeEenZmW6f/RcqYtpVa2QYzqVJptRiQoMWEW7jAdxy52tJbw2YP2SbK6liGveIOf8bClztL7WPaWm8HYVrG3LGtSmpmZ3AkJRY8wdwh8XDFIpk2z3NWzeWGmHjGc3cWNFIoEqHxPEXWW/YtTlJb9LFOSsKM7IccRJcj7NcdVDZFjGcoGITbJ73cTkH0Ygr19v2F5qWr0HHlMid+UKehQyKYlzduonRlIh4elYpke2HZhtAxRiGqz1Mn4kehxREhpxzRC/2Bytyrwe5xxnT6LVzw1N00IE5UyIe/jO7edHwZL3JTurKdL4fg990ePFrcKA0jCMO6OJ0WuWu9h+HKnjHH8GuFBbTZOaKcmpjS7M0Vo6+ijuorWZVAkKmKW9imQ6iSFl51Ae3toLWPZQ5Aus8pAcfkpuNvVSC6zyk4fnIGLm4mofw8SAtY7hcgXWCgYTc8eIlIZEmXs3JneggkS9JWCeTykiZEoDKmI2ioSFdmyILVPV4Uo5FKAtHsim1HyiozdpTmu4j/IgZ1xpsryHqqtpFaOciRmtLiQWaj8lTbektIncRJh0ddBJFn8lNpPyUgtzDcb1I6B7SCwvzUuZRbZ1lI3Mb20DXecmEtXMlHQgSHMgszKR6mpIPMpHroLBK4Eg3XCbQEiFOlC0Tbagx6r4cnoteg1yhzkrIThQtxOb4C8dD6Cty6llDrkrtXKo9VBYnHMDusqu3pTIJEms6rk8K1nlJHNFpaU7vQQMLrE0IXEA9ZJ5ylxAThtaKkYNH23YQpmKPa/NzkeFVRjjAINxa7rLDtp/cw0rFNRr2IoFampOtxxKaEDAShGXQOX+dYjt52M1WZrftywvLHNRooj35KQffQLoyxB4v9axKe267WZ7Dx4cGTmnlA3BRgp5d8t6zfOVj2O5b2kVeRxRLYOjxjKiTzh3OmDE6NQrLe7ApFBgYbo9Yixtxife7iVAP3TB1O5ej9peb3PuyCo4MiRsf4rgx5XvOBE7zpzHRz9kbiIfyLX9foOOdvu1UDnqPVKZIRz3UIpmAQw5SVHrfUchJ8Hc3UvDM9tWpXTig2y0JxyYH72cxp3naX6AxSaUaJFMIAQhIopnaID0Zlxrtv2FdOE5um1vAlNmokgAQ4EzKS7iihE6Phh1Xftr3sT7RsZ4r2FRqL0YerwYnKKMrNH3lEEpmD0asvD+qgo2ud09PTlRPC+zmHEM4hbjwiAOiRi6dMIV9uxTuZZmRqEHFWPwdMiW/hUvMW8zOjF81aMwTStomA6sFVoeE63CqUISGFMnSyikDuFw5lsKLtN7oCOLik8RE7WdL/NT/wAEXZMeKRRTiEqeDqrHsCTlVqGBcPTWIAjjW4sm6c3wNLeO1CsgG67LaoUd3oo47EnMPCh1zUDoGKPmqB4UursILeVDmss0pfVQ5AwlkVe6/TIR81qstFMJW9lAwkNnlqXZCSXDdyoc4gHlQOJNYgSaztJR5eFWDczVqQAlkFMJZFXdYTMqIWgiBBaJOY1MGjrKoSKxMNu5QOJW9pHRo6yRuTmJN85BOl3CSbjbxKv1lN2njQOVxdpBFaaS68h4kE3tuQORZ0E4XtQd4mPMKIpOe1AxF6IqeMeVIV2+7KCLP1UDP59KBbYI8KUvmoc0mlkaIvQONpdUFIZoOdAk4uqCByg3hQWjlaqxdZzJRyA5QIiQAJILR0IhaL3XKiEIwitNrk4uJBcGXtKtzBPrKIXDxElIm263ILSd1UpFaZcJKUtrW8KBya0x6qV+6E+ylLKYqSK00FrXPhlpVZE56N7vRMuVQVxdnzkEkJEJiPCi5vZSjxJuBBYPElEsnVRa2DZpuSi6ztIGHQ09KYR4UogVgjwoh6O0gYdBJRaJAJZAJLuiaDc6ZpOcXEgB0ER6k5Obaag9HWTNdCMi03PPh6MyCHOBvESR1plzrV9X7pPZlQamcjHr0eajQiuOUlSiwvKWbYMxjh7H9K7+wxVYFRgwvfQyxYPWHMtqPcyiZROK5VwitMeEl5mL8UUPBNIOp4jqsCnSBE0X5jLhEdS17TO6Z2Y1ipwZGDXo8A45NGNMQN1C8paNtRWlvnKHe/F1U8WETTiCcMgK4TDKY8qRwiJ9RApCMXfDeIIIRJ48tyZ1p8bVXF3pD4s90bdYO/UUgK2LkzCmPKfUVlz3CGYVXFEhtINKBGutLIUJFtgxbg3CkcwdVqXUDeFUGG6L/RIG7clykoF1jdSkbWEpANog0NKNC8XFGL8P4HpkGpYjqsCQlrmvuI+qOpYnhzb3syxHU5anSOJwGcikyEExAKEJ9rKqGw7rC6ykbhgu4SFWFAiQLYnElF1jkANrCHqklG3cj1lIlk66BHyAJBXC96Ah4iRDIiELMpflTWt6pIGETXMNjkFcICEYPA5NlIG8SY2t6pJbb+VADo66LhYXM1K7OXMguogBdY3iQLgt5mrwsXY1w1gWWgxcS1WBTgjm4QO4jHibmavPwrtRwTjeo+D6BiSSnJzMMtlI+q5Bltws6xKB0X6lMUWk1mUnJI8WHLS0zMxzCFLQBIosY8oD0akDdU9SrhE4QJeLg7FVJxrQ41Roc+E5LQIu4KN9s6F7WXKxiAtEQ5U3AXCSnm4UhHnHKgLR+MtS6uqSbXyGmtvLhQV2tDrIcGZlj02Z4ilJuniyIPmm5zvSTOOxxivGHEhDllg8tejXXHTZlyw8Okb1cYu+HHGfJkHtqIbe8w8tHtqb+4/PWJ1yuUrDUiE9WKlAkZYiaJxtZcIr7oTI8CDHhGBQYojFhHy9OpVSLvswe97Zx1SfnpfbOP2P568MbntXnS1epU9XJyiylSgR6rLDvYsuGYB6MzkpFOzFm8lXu/JyDAGC0D1vXpANzeJYnQXFVQHrLLWs6TUyi8uSNZIaJEBdlK67JxOTEXpJC4ctylIusHlIUsIWk5gXC16BIXO5lU0u+d5vjIGjC3PBmJyC20hAftSrIi8oWqXwx64kocI28zUEiRF5KgiyFxCktaHA5qBygLOJAOJvZStLSasc0g8lVMcztCgkidvr9Kgtd/CXyI4LEXWcw50AVomXaSxW3t0mKYXRYQFxCo09YUSQrHiR/CpuMuEkE5hjxCqyI72npVBrR64khwj2SQTryI8wpHOI9LhEkEuawmZSuQJXA7RagiEn38JJePykDcFme1JqDmsRl7KV13aQNzFa61K4m9YWoJo2lp/9Uh2v4BJBNxZmXIzDaotBGXsoC68hPMKLXOehzbR0qvVdkQMTr/NSlrQTrEvWz5UDE0fSSl1FGrrJlQkFidY2qYMw5iD2vVGsRIFYEocLdbgm35bllJEudO6T2SVGsVH250CWjzgRYQjPy0K6JBIPhBHhSIzfaf3OkDabiONW4FbOTqsWFDhQgOAJQvqDq5VozYjtBq+znHw0CKYFTahOFJzkEAH3zotEhLMvtp/dL7Q6ZRAofecAo0KBuAmzp5b8Bbw8XMvZ2FbG6n4dg45xnKnJ0qnOnYUKZ99mInTdvCH9VvRmTr/sRbU7p/D1HqGzeZqFTjQ4FSpkUe8I2oy6SuhrkLAlEpVdxnh6mV6cOTpU1Msixvm/zlatjbSMS4j264/k6VSZCdhUre7iQAwIRAdUYvSXqbadgkPBVEo9Ww2E1NQYEMYFRY4om+0xBTrGvaOvIVPlqfCgysnLbiTgDuoUENA9GUVqHa73QtMwLvqVTz8J1sc1/ipYubiLlWG4f211YtiVbhzUtPBjCmDDlYUY5UvHQzJrusIrnSlTs9SazK1fwOc9Glou9ZPS0SLDMubiSPEbWw1s0xjtyrXtkxZOR5OlRS9+jA0jHhhjpFdU0ykSNBpUnTKZB3EhJwt1CD0ly2fdQbSv4NkRAdAUwhFb62U4vq+NcESdYrgQ4c/FixAIQDdWin/spmZFc5/06EvVR1lC1JDUOz3oLQSVzlgZVkj6qUkDOValtyXQtA5qCy8iW4rUEWdAoKVBXEocgZVoJwpXIgJUOuBqEASCaockQSRCShQ7iS8qB0houcozIFRyigyuclLKgHKtMkykCCpCFHWWLSmSocgZS65QmQCEKcykQmFKhBYhKm5kA1CEIBDkO1ChBYjlSirNKAFMltJMghiLlKEEAmcQ2qVHKpEpkqnQgm7MmFKKYUDfNTKtAoLbjRmt4iQPMpEW9hB5Vewnh7FggFco8rPNJwmeYO0vNpGy7BNBmwnqdhuSGZArDO5nlLJUzyEUU+KuUGkYqgBArtNgVGCBvAI2VNRaDSsOSxy1FpsCnQYpOIJYGvX2XJuqg8Wr4Ow5iOZ77q9BkZ6ZIWb6MFzeherI0yTp1MCnQJOANNhC0ZbMLe0rbR7KY0GIR9k2BIsc45YVp2+K7JasrkZOWpkmEnT5OBJyY5YMsDRVnVNNzIIL5qm1QKj/ALlghM25pKC4uZA3IGL81TmEy7KjlUigY9aYmk/gyqsc1yBzAgZNlelFMgZMqxLIm02ok/Mmc8mqsfRTCXmoGEbk3B5SRJde5BYP5yYfRSiQj5Kb/tQTwcqBERZyih1x+SoIXPQS4WgXKm5uEUhuJ/kqSzGgYbWdVWOaXZVfTrQevsoLHeaKHXXaRVZOLLbcKcriMuJA1xW8qBEhFvCozPU8fWagdTptS25uym5uZBZaodcagblFrnEZk5BYh2ceqlzIzEgtcN7lYRXmPZVXrJh+cijk0bUcopBy3cSf5yCzMRodn7Krdw8SlSGIrvJV2/ib04hG4+NUabtRJ9XaQWkVxxHmR86u38QXi+xfJm8pWAbvKQWwvFEcQffrRVu/jk9saIPbXzj5VyrjwIce432lotQfWUzF+OO3nRv4rjdGPM3OSpcOYuJFov6yCwiIiO9KevgRrSlcNuokDERC9Be+HypS89DhJ7eJA3NyoyddK8VYaAdxApdbcoJ1/wA9FuUeJBbx9VK4rxLhSOtPjTcd6B7XW8Ca0S52pC1qbhI0DDzcKs9VU3Xt4U1wvddaOdA79I8KNQNSkQ5n6VZrcPCgYdDdQoDQ5ViV3ZTCRNuQPC0dYkw5gSDbFAlPA1ACKkdHWSiXvKW5gdpBYHz1DrT6ygRcMEeIksIhii7mQW70XGPNnTFrbqJVeumcTTdxIHPNGHWgiG9ppSIfHdZKTS3xMc1ooGImiZDktRFIcwnpUEIkR9UVJNEzEeFA1w+SrB0dVVlaJjyph4uVACWTqohFcHaUDo6ikdBciA4B6yUCIhBudyB0EWdAaEFhE0e0qz8aNptuzoEXMdxIy+UgBc0xiG49R5UxEN7eIUF76fWFF1/WFA2V7lBZjEsih1xt4kFYUbqoGLWPCKCzGPaQQk2MI8KCK4+qglzit4VAlkLNmSllBvCgSL9LDyoHbaBP6yHDZwCohOEbgSwnEQNyNagbgap4B5kC6wkaA6yAFpQmj1UsAnWk+3KfGrBtFvCSLmnwOQLkHqktc90B7YIuymqy2F5aamqlORYcruZcHFu+nMtjZX9ZWworXuMBDMRnaID0ZlsRrjY3sbw9hDZ9Spap4ekY9bnIDqjFm4DopxD0u0tHStNYJpUtgHuw42HsJ20SeEgmpYLocEekXEPZJZdjbug6lWq0eE9k0hNVitt3EWeAPEQbswu9Illew3YpF2bx5/EeIZ/wnjOpiW/jPcMEenSJai+uSvxGrsYyY7a+6tk8JTj4uHsOi6LL5XjDuifKtu7WNi2F8Z4ArcjI0SRlZyQgRI8hGl4AwygkAubbpatW7O4nRA7t3GYxT3Rx4E0EJ+t0MV0xUZmHJ0isRY5tAZCM4z6q2XbIaS7k7GMfFWx85GcjHFnKPNFKvO7xfSLhFbpMsg8ty5s7iiEXtHxbEyhFn4bV0uJZB5GrnIHW4UuYQ5RzoEtRcKwLbBg6v47wGdIw1UgkalFjiW+jRyhCY9GlwrRjXdUVOq0PZIc3T5mPJxin4cIjgm21ZB3Pc3UKzsXwnNTszEmpyOMYijRjcXvnEuS9qmxnaDgLCcOr4lr0rUaV30MLcwZ2JFJ3TqaS9LZ9sI2kYswLSq5QcSSMnR57eFAl407EhEHsE0rRtzK5R7UxdzbooTHA1UjbFguWO7OaHU8L4Aw3Ra5OBNViRhFCmooGUUTLpJw3FmtWQkOTlJQow6C5k8C4gEdRNSl19SJYSGP2lI5Y8DwNtPdVVilYgDvrD2GYURko+0xh5RL/AHl+qs+2+bF8I1TZjW6pSqPI0ysUWB35LRpGHu3+wQuEvY9JYTsFAoHdPbSJWL+uWTNnVJb52qF3tsrxyf8AsyJ81d+vI8WN9z3iybxrsbw9PTx72ckyiScWMWY92TRIuytjH+pbxrSXcjwihbEZYyyRajMN/mat2GIkBwyvBc5EjOaLi4lJOvEuK5I20+VqYshtWA7zjkRxBu9Fcq7YMa4mofdGUqi0+szsCmnFp36WA/FX5rVk22LZXtPxZjiNUsJ1uVlaOUCGIgc7umF0DdauZsXYQxjTdpcHDNanAj4qixZeFCmO+iIXH72W80+wrjFL9KZyWiwo8yLNRekvjK14rlXDmx3bZRcX0qcqNegHJyc4JTTKu549BXaV1VOEMWKZD1lzkopEQvdu00Ah768ZkVAQgdGJnvouJPqt4Vo5l2U4Ai7WdpGLcVbQqVNR5aRjkMnLTYEMIyc0bSzCI6UndVbLsMYMw1SsbYZloNCrcrPjCZJ+KGMOYSERyl0Ld20jazh7ZbIhFrUbf1KL7xS4N0U/VFaYk8GY27onEdNr+NJPwFgmRJ0nTspRuzm+rxEtHQuEarHxLhGg1ebDdTk5KwzihzfnLS21yvTe0ytzmznCs5upCmQIk5iGohlAQFwwRJZbt62qQ9leDpaBTdxArdTDvWRA7Rlh6LSidlY5g6Ls+2b7La3SoGOaJUcQ1OViR5+ZCaEimYxjlHlFIkidyKIjsfqpdH8NxvRFbutLtLQHcmYmoUps3maHGrdPhViarEYoUicdsUx6RFpCK6DNwndwtWCm7sEKYiEiaWoVWI3B1SRdYT9KDXGPdvmEdm2Izw/V5OoxZwYEOORwWkLTFwrGv0XOzwhb3hWPIFG1mv7FJXGpymPKJHnMQwoEN0UJWIXi22jaWlYZ7Y+5e1YemvwWN6y2o2DQ+6fwLiOtSFKlpasDMz0UYAmcAWgXT2luKOJDEjCWkb1zjhWudzrM4oo8Cg0SPArEWaHvWMcrGsiadS6Oi+NJz8zvKSQ8yvC2mRiLhWHxY8tJwIs5ORocCQlYW9jxjygPQstrZEVK6Rh8ornDaHXJTaBjGT2cwaxK0yiyJb+tT0xGGFvi6Pgx4mrpj4vTjl2tabW6hWdoNDDHccOmTwsE8NOpUseaKPRcURdVU4W0Kjwx+wIPorS3dKVHD/Rs+w3SqHU6dEk5OoCAy8nGE9zD6AzWrbEfFtBoeBwr8eflZqQp0hBEu9zd4xtsO3V0qlY+14m0jHEfBlPlpCkBv8W139K06CGYC6bd4S1bsNoU1h7bJieQqEz3zUpOnxQmovHE6SuWVbIOmn1etxdpeKK3SgrE9FZIyJzQukYPRblLKvE2aVWnHtz2hTMSpSUKDFgFuoxxxETu0kibdzoShk+qhY3xRGssK1/ZJYpQXeFwEviiWTiJETuIVzk5ZuRS19klBE3faspIuaDdQqpjiDqqXNbFIg30PQxyrii0j7JKBvEHcKBJ2XUP5EEn8M7OVyU3X9klLhi9oNarIbT5hQOTr77xJySK4Rz6kg5TG8nDcpJrXcQoEZccQjvElJZD6yknE8tzpUlc9uchciSaXFpNNa5onqUE4X9lIThe1nEgCG4OUkCQiwi4mocQv8pMRE0/KQEJpCAsypWiLEE6+/K0kpHn8pUDSDg5UgiTgsTETiPVcq7h97PKQoGHLcGW1Hpsapyk3M0kmvPlJAxXM5hSutbxAltHskota1BJZesKUrhPqqCIcqP+1A2ZVxYoiJ9V4JcogTMpNQ7Sga0hdltcxK7OlbxJiuYgONQRalHWU3ODyVQkiEXkoclzJXcWdqB3DqVgxSgEZD5iocN6EH0lMxYsfexGFGyvYLlWUeIRATzfxqhyCLOpH0lORS98jGq9+cP3s26VS1+ZBZmqhb3zFJhEakp6PZe1VcbkhOcgvKei2E/zFUUUy/MVZW2ki7yUARaUpFwo5lVlu4SQMlJDmkgiutQBKsiUuUIJc3sqsuZSoJxMcgUXEoUuuS8q0SSVyErkASBFRaoK5EJ0pFOpQgFGhBEq3oAs6lQ9QgCJK5CVAElzJtTlWSCXJEIQVoQi5YtFrU6XSmQRmtTpVIIJUApUApEoQhBPVUqCuRrQOKEopstqAQKM2ZCBkyVMgZCVMgZCQeFNmQSp09VL1VKkOChCgn2EORA6nlS5lKBkcqjlUuQMrOXiVfzUPyFwoLFGckiZFG1dtS9Q5HGOhAym6xJqT9VADwqUqm0bkDXaUXZkOtUoI5kNEUfOQ9YITCWflUO85AIGJuYVLhbbkSQnETeZMDm+M1ESCXFmTOz8qXV2k2bykDNz+SpL81Q5zB7RouQSWU9SdIJEmEuygZudJFjwxIBIDuUuyEiFxeYgYSISu4vLTZrlWRNigWXSasy6ESkSuAeJNp7Si5rU2lBI6OZLpC/UlTZeyKAF1nMSBG0Osjl4RQ9l3KgYfMcRJhzB1ko2sHhBGUW8qBgc1z3OUiXpJCK3qimFtnKKC3mRwdZK63sqfVQOCYeVVuydVNvREbjvQMOjyk6TL2UCRCgluRWDlBVuTaOK1A3AiFclFMNvkopYGYFMIsgpcpdlAl6KCyEVodolMLICqdyaVYJeipDiVoOzkmAsjciotErs7U29axvCgfeiLCiWuTD40gdbqZypQ8q1MJZOO4kDWkzVcmzKsNHVJHBwZkFo5QJGXykjicHlIG1iCxI223iUaQcgSewkDjcPaTC0fKVYk4cmpM7IgZtrSuuTNz9ZV6Wodw8SCwrYRkm1HzKn4UyTZniR6mvQWk6/lagrd83Sld6akiaJ8bkDlrchvQgrXpbmmTz4kFnTr6qnVbwKCLOXVQRe/dUUFo2vLlSwjcLmRITB1pN/cefLnTOz8qCxQJ3B1UjvG9lOJD5IoAbRAuslhaHcyn4nqJbiiwUDjazrJRc1vESmHkDtKBLIgs9dBEPnJXOZxuTOu7SBSaMVz8xJhISEz0El+CdzIa14kGoUFmXfJyEb9Nqqi605FnQFpv6qNVuqEgtbuFDid/RIGaPWaKB0DwpRL0UCTWFxQkDBng9UkQtDUsUXDBFNAK2CJcyAhZgv1L5p6PFk5Pew5Y5o977zBzN4l9IZYPWRpAeZAoxRIN4wxc2w8yDEXG7iRpcXEmK55czUBpjcpJomY26hSk7x3ArIvwzuC1ARc59VDrj6qUSuMi4UZYt3xTkBa4Oqgbdzne1HRo6qBcRQR0NQMIe8i+9QLRIO0gSLxOT83oUC2zgcSAG2EHWUu8U7mUtIRDlJKReXvbkEk0fKUkNruZRFuy8ShzoThN1yBord6ZcK1J3StXxDJ7OfBmGqbNTk5W4+4inKAREEPoFxZeJbcil785NvYkAnCbTFbEcr7M9qlQ2YYTlqLTNi1e75G+aniAt5MxOIrVtHAW3KvYxxPJ0ec2d1eky0dzp6ZAt3B6zh6FtoqhNk8t8bG8anvyIXvsY2MyPSUhznt4wJibDu0aibWMEyJzszLNGfkoWYyHU3UJD+qvPx1t1xXtLw1M4Vwvs6rcnUqj4iPMxYZNgj05tNvaXSwxSFhCbDMXPA2qwYpFrPxvB85LDBdjOzyJswwBIUCOw6kUUpqcMDcO8P1VnA6OUVWOgeymhE4QWhhdYSRzWN4k4/ApHNIBzXKRr7bTs5nNqWBfAEjPwJOZ78GaE5hxD9Tqr2dl2E4+ANm9BwvMzMOZmadvBixYOU/ZJ1rllLreqSH3t5ltgc3MoISvHmRpMuZQROI+ssE5iNuglAk0j6yRlptTkWfsoOaNouG8V7I9twbVcLUuaq9HqBPqctL3ED7YgkI3NLN0L5No22TEG2Sg+07BOD63JnVou6nI02BCO74XZRH666jGLEgXQzal3pE8cuqy25XYY1s7wTA2d4Ao+F4RvOThPjxgynGO4mrJbnH1UOIsxozeS5YDlQXpCq36uVAE5glc4SQFxFbwLQePdhGIMVbaZPG0pUqVCpsCLKxdzGMt62Hmtat/WkwuVVNESBZYXx4pRY8Y9BESqES3vZRkK56h3vJssuctE5vIXzT1TCkU+cqUQDihJwIkdgBcfsDlX0iVoODU1EI2kBDa1BxJgTaRSpbHFexpjbB9brtYmiEqcyVIoUtdwly/qLchd1xSNWDMSl/QLfnf0UR5Hpe/I8Ue1yrbDEMS4MwptWptHna7RN+G63sAI1pQX6SWB4l7n3ZtJ4Xrc1KYbbMwpOIcIwMnAQ8K3M480S7xqBIx8pTYc3dy9s1w1PYMlsTVOi/wB88rUYm6mYzhIPYyk1dIuErj5kHFIruZqUcrftq0KJCUICHUgdBMypIscRfvDai4depyDDMWbHsDY2q/havUHvyoxRGEUXfkNvRlyrwS7nPZh/FUBaX2US2mRk43KtxHvh5lthruj7Cdn9Aq8jU6bhvdT8pHdCi99RCYXE1bIIiK4krivHmFKWvrrB51bdCp4EOmKK0zU9ieBK1UJyo1KlR4s/MxSixTCaIXkXKtxYkNsjGbkeKxUitjOuaS643rwRjOLmvbpsuwrgrDlBnKBTY8CcnKiUCL48or4fQPCty0zZPg6m4XnKLLU2P4NqsKDFmg35OMugXZtKzPekAmPpgJJSIiuJW67TXEDuednEUwdR5sQIm/rolqrAWynC2ItpOOKNUZaOUhRx/SYbwhL3xtxarV04ZZ25HKo+kWnYDy1gAiR9YkTLG9ugkPf8ER+CEYQ9XoFqyNowi4b7Vi2HydUDLlcskIhIIxFktJcpPHn5LnWgWgSVOUuqSIpteXMKi0n8qlIG3c9YlDiIgdpNSZCRG7SlJoCZdpACJCQO4m/Ki5oCR8QoIrjsyk5LFIiExIG3OQLwX8QpRaO57QIyv4HqHNy6SQGbc9pGkBHJlUlrLhJIZFe3SVqJA6B7KUSGzzkxEdgw7WklaTjcy0kDDczqoEiaHVSOISaOk05k3W1pKgpZgHiFJwWZhamIhzPyKvmQMlEvOFA2s5cyqG4gIjabmoLyK023pScZG3UKX3ouqSQXCTiOzKxA7c/NcouIjJKJNYOgUZS81AZrXpXOI/KQJC7zUoE3KgYizilK70k1zg8lLaLOPKgVvxfWUE1M7SWu1GZnVaghtxoKwjUCRN7KCK0FQXjJNaKULeuSUiF1vAgn0FFpCo6yhziNyBmkgbbkZrR0pBK00FrnJHC640ObaqyaT+BAwk7l0qFFr/OVVwkZEGq3qoLS5kpddQ5Dm3CgHElIuJHmKsnCgC9JKmuG5IVqCVBpeASRyoAuokLLapdpSu4lokkZUrkIAlX1kxWpSQT56Ui4gyqeskyoArVCEqBkqEpETsgECIBIUOHSoQLqzo5UKLUEJSTcqXlFAqg0ampcguQQhCMyxZlHVUKLnIHQhCCRJShCkCEKbUEJ7Uim1BKnmSJkDdVCVMgYOVMq9NqZ9yBhTJUIBMKEIGUZfRUKcqkNcpSqRagYcwINQp1O0IC1WXKvqo6yCUw/OSphagsFKlViCeVTm65KvLmuamRSRNynl4ktoprdKCbrHIzCoU8qB0KLnJTQNcpSFrFMV13krAw8SNCXX2k6CNN3Cm4B4U307KXS4uJBNw+SmG3spc2bUSbN2iQDhG4Xk0Uxc2lLcSa0ruJA2VQJNHqqM3aJTmtHUSCS1u4FYlUfOJA3GJdRKIkNz3BlTZkZkSOZM7ORJcyYbUDf9qC1pc/XTDoaiklrIUE6/wAlAjpUCeTrIHLX5KCLzrVWLiuLUTmKzgbxIkFlNMWslXzcREm+caCwnNMVJa+NRwdZBOb2kE23oJt6kfnqNRkXEgu1JFGbykrvOJBYTr2py/NSCSbMIdZBIl6qZKhBYX5qC1peMU31PORRybl5RTEbRMuyk9ZDlImLrEeqm0n1FHH11HG7iQWlrIeFMReaKQitNBE1/ZQPlLqijNdyqPjuyoLKaBso9hWZc3C5VEWcR6vaT6j1ttQBGVnVQJcXCjm5UcvKgfg8pMOgVUPNwIdaG7QWiORSOhUwhutVgkLQEs6B+txJIRC0IaHuZ1kA0hCxBI3dpMNtqBIRIEsLKDjdcgu0nzEpLKfWSDxFqJMOjrIJ4xTEWcUpFnLQJJnOE26kATmmXVVha+qqyO0xTEVpigYh9FFpWjwuRrjFyp3XRh4RFArmkHVSjoEuElPqqNfZQTqAusiEN0HjUjeweVQJXQeUSQTCuZ2kOax2okQCEjBqBii8IfM5BYeUw5kE1piXEKCLUXEi4Rb9tQKVzxTxXFviekdn6yIpNGMXC1Axay5URY8MSO9ulViBQimSLI0REExQhcbusgtG3mtQIuAOqouIuypFxEA8qCR0dRTCb4ntIHMCWFduUDCL9z1krh85MOgeZKObtWoGHN2kpZD+6pn5C0OSEefrIJLxpRiE0xERP4DalIbo3AiKNsblagaKLSjDyoMrncqIhFvTLlyIz2lwoGAcgjwpYRuZ1Uwlk6qWEOTqIFhO8TYmdaAkGokCfvPaFNCK0HcSBStYI5HJjzH91SucIO+NSlrLnQM4vHO4kx5oyrik3fFzK6J8MgImSN2URdfUSxWiRhxC4UpZjL7UgboyH1U1tkMtQpXZB4hQLSigXKgYWkQdVqmEXvJdZUDcwBtc5WAQ7qCL3ZkDwnOBwJYXvUHrEgSGxp6lI6B5kEiRWZMyBy28Sq3ud3xqYia8uZA3G3iSlkNvEhw39Zyri2jGdyoLC8URiWlLrjJjzRkrnCbs7UDFa8uVLny2pXcR6UO9FBYWsi4VWHLwKx1wEXCq4ROYqFg3EGpwIG4QdwpRL3ntKB+B7SCtsTewXG3ekViaFcUHnXznHASDe5xyvTQiydZyC6E8mNyC5KJWgXCRJrbOsq3WnZqQWaO0q7uPWmtb2lWZW9UkAVo3HqQTry4SUEIk8y4hUkRQt9wOFAEOkuNEVoibjPMgiK9yiL8N1UElr5UE3xw8woLXzKNZ9VARSEd9qucgitjJSijmI7G3JrmnzQkCxbt9ZmFKRNf1RJNm7QqvNrzCgaK4n9VyYvmuVTshP0qRIbB5UDFcRt1CKUiJplypQy28KkRcwSPQSDzMSWU/rtWJ3A8i4VncSWgTkKCEcHAxfD4GpthFJ5hVxk748kYRYp28yVxXlyrLAo1MYBd7ZudSNEp7g/SeZ2tVuO/yYsQIrrjQ5w9lZaNEpxM/S2ZQFEpv2Mm4n5MXkYfL9PGWfxCyXS0bQIV8kpTJaWihEhA0ycK+qFkDltXN5ckryMXmNSEO9HrC75EDovc9HxPaFEgtZciUnE/mFKJZNVzVAkPiR4XIHdad+aEKQidbxD5yiEVwCQaWqHDYgYm6tQpSISFo8KUYriAczbS5OFyBMmgiQXlOFJlFo5CG1SDrOsgXWcyBSEShGI8KgrnkKYXWcGVK4RY4+VAxay5RSlraGlDSJgkq/GCTXtNUAmlcIZ0EWceK5HjHXG7Sgc4dVqBi1t6yrIy9Ek2Vjkg6PJQOW8aZeLZmURHaUotaDjzWocJeigLr+W5BWlb1lW0fNam4OZAhZj3eTMo1WnY5yYmkwWZ1GlADw8zkpEPnOUuEmNSCNvWFAzWoNruqluLMhyBXNLqpvqISFnVBw5Uqh3nI+cgC4UpDq4UHFHUq3OQMRdpqLsyXUZcqBJA3WSiTRUOQgkrWIzZkjuJDm2igXqoErUE1re0lcSAclU8w9YUEXrIB1yUhFHGqyJBKh6CtUFagMz+NVlwqzKqyWg+qhzSahCAzCo1KFGVBBJVJqEAkuRrQ9AEVyhCVAaUuZMSrRALhRysUEQiV2pK9BKi0coKEIEBBFwo6qUuJBKEIWLCjqqVIZEEpdTUyjLcgbMhilJapDDxKUIQCEIQSClKn6qALKgXKEIGTfVSpnDlQH1UwoS5UFiNKX5qOZAyEIG1AyFHVUqQKeqlyknQSRZ1Cj1EamoHU6g5kuVNxiga5S5zHWuSP+6KUDZs3EgbiBKmJAcHlJkvzUORRx4VI6EqOrptQOCdV6kyATJMvZTZVglRlYpUmgkU3ptSFcLdGVPbpQKBNK5WZUjScZdlTmF3YQMJNYRaVYLfNcqzcw0xa/JQAk1nKpHQ7rKMz3dVGlvZQMOhRmFpKSymiKOfsoHBQozEajjQMmSaEzEB6iMoAL3NFGhLmeKCzrcKl3DpFRai1A13mqRcPkpeNTlI/JQT9XzUwaEpa/JTdOtAagd1lYOguVV6TTZHt4WoJHQKYScQJePqtUtESMuEUDjoSsRcObI1GXsCgbUCYNDkolqUolYIuYkEXEHoJmjf1UDw8rUUkWph0Ely5dIphFhIGHRzEmEshDxOVYkLuymG1SGh5Q6yhrreZQ7J5SIWUBLSKBurxKbdWpA2kBWIHMA9YkDF6RJ+NIPjSBSgmKTXp4pDeqmjp1EmIhvLiNA5FcfZQThUE2/mJEVpP6yBydfyikLN1RU8ZdVKTXGXnoLAdYJcLkz7eyqycL1YWY28KBiIiig3SpE8jcjVVFPdXX9QEOawS4fOQWQiJwKCIYQuUBo6qBygOdBblYPCSa5wKoTIRARUuaIcZILg+eh3luQLXAl4B5kD2k/rKGuE+a1KJRCigENjNR8ycR08yCwMh9ZBFdG5WpRK0x5kRSc+xAxFaYqbr+UUjs7UEgYRydVLC0N4UxcPKgeXhQA/A8bUQtBcxKRzA7hUQswOQPCuECLUSM331II3QSVsLR1kCn70Y8yIouKNwPGxBOv62RDbj6yAK7fFrFMTCimOYxG5KQ+/NVhOEY3IKAtvIc5CgtGloo4+oi/KW796QOJXB1UDduRHU5JlEC+1KYDiKDxiKCYRO3PMjg6yiH8CpusEuJBAlb2hUE0d8RcTUcvMmInCf3VAE4ijKSJ2+LlFBXFGQRe/O4UDFaR9VK0XNLJukRbiPquT6v6JBAleFmhAkNiUffZYdDUXfpbtICFmgjzKBuYPMSkXbqD1k2YAIuJArvOJBE4Tbkck5dD1LhaZc2RBYX7pdyoI7YxEiK10Z3KmJo753CgrIvGm3O1MN3kpSde74pM67soFLPB5hL8SbgLiFKJC6CT8w28hIEXM6pIGh/AohaB4iJKOSC3iJIBETHcSC2AToQFzJnebFVQja7mT6e2gUiz9ZBNHfD1UFcUbrIi54ztLUEEOcVJZozuFBDnLiFMWc+YUFZCOUdQoG4bs5Cg/JaKYffQ5hQHLxQiUCN0HqtRCJpQXcJKuEbhgkPMgtHMHPaqCInS0MTsiuHtK11sFvEgcoFzWqhEIojQdncQpRJzEea0khWxTLmQTFESG8LBLIlgDuoW75k0UrYzrTclL4YeZBY7P1kpEN4klIvfh15lBNvdwoHL4Yu0oLKbtNyUmuPmFBE4TEbXCgYnEMbskldcYjwpRIvKBKJCRAOsh/IgsdeZPsIUWxSu4UtzAEgQDvE9VqAd5BCgW2DxClhE7c9pMLhIG57kCi0hARCxpKBaW50mQqRcIgI8RKBcLEECRNg8ykXWNz3CohWsHhJQJkJWnlJANtgu6qmFoJRpz5S/KlyD1TQMJk0ECWTrNVd49RyCIWmPCViBnE3tNTDlAi0kqYpMf1nJorRegPmk1BOzCzNkNBW74h5SURbX+UglzSUesoKwjUOJ0bkaSCWkI9UlFzrtJI+OdykKCIRKNzAiTZT6pJS5eJyUi8UZcQiSUm+ObwuWqMVj79dqrik0c+pTFuI3ZGu+RBay5XIK8ryHSSCFr+snLWXELlVFuIxIMwj+JEl3QQosaJDAB3pOIw1piIRtE9VqM2UNKQiJ3WFyCSbe3iUkQiLi0kgSddxA5BOi5WXCgrcLja/MlJrW8yscRXcQqu4mcw2qgzmEY6BSCIjaANapuLtD+RGYesCCCK092DjcpIvGnyo1H1WqG+cggya/y0xW+UkzdoUu9cLX5kDabuNKVujLclzWoK56BshdRK4kNuaj5yBTuuHSoQYj5QpSaXaFBYKru89NmSuHzEA5vlIS5iUOVCHCb26VDRdcmc7tJcz+ZAWil4OUlYPMqy5tSBSERyqFNxdpKLS1oJIbVHMpclcgZ4jmSv0oStEtfMgbrJSLiS5n+ahrvSQD8gpeBSV4n5SXmQHAgnJS/OUIGSN51KQSIhcgnMjMhyCWiskqsLWlQLaSEyXKgh1qROV1yhAl2VLcmLNyJSbqNBKVCXTagnlUJXcKHNyoguVCbUlQQ7ToSJyckQCQiTaEruFBKr6qsScyCUKOqpWOoamQlyignTbYpbyIQiTJfTTJVIFAknSoGQhCATJUyCXKEqZAyLbHZEIQN1kdZCEDIQjmQA8SZL1UwoGUO0pRFop1IjMgFKZAISqHcSCzlUqLVCBhK5CVOVqCRQ7Iq0450D5mI6vWQhqKCZ3DxOSoQMKYSGwuJLlemQS3iTqrmU6kDesp6dCMmUEabVga1NzJFPntQMOftKRS5StQgf/vT8Dusq8pGhBYJOYpzM5knMm7GVAyBaRARZ7mpcvkqcnZFAfOR84kdZHB1UEk6wR4lNyObhTC1wdVABdrQ7I1Lo7KOrwoGEnoErmoFo+SgWj5KAEt6Lk1zrdRot1cKUPmoLBu7SkbhDmJQOhQNhASBnecSbSfMSXgdpuQJILCJ3aJGkx5krcjrdSUSJwN0ZkFpcybjUDoQPDxIJ4+ZSoHhR1eJAz0ztOvSq7r0ZbRyOQWRCFpxNCnmYkbxJnZyyoHQ7iUFamLWgl2fqpvVVIuv5iTZnkJuDLYpF1rXFaAi5KO7IQiQzdBIXCfGq4ojHhRoRgBAQtID1qzILQBgCIixBMC0nJnZB7SQiKFo0prsqBwdYhw2cGpI64OqpFxCDkDCRWcxJnFZ1kokNiUWkQF4wkFji8okxkTYw8yrFtjeJN6DkDFrbxqd7nSE7j1XPRZFF43AWU0FpNv6rUOzkKXK/rILW1BY5pXBpR6jUpEgSIx6qB9QDyqwSyKsebhTNaTi4UDBlDtJYXlcSBtZ1UCOQWILREmg3iQJZOBygbWdZyXTb1kFot85Gk9KUcvWJAk63iJBG9K9WkTSPgtVZWvbxCmL4ZAzmxT6rUZi6gpS+G4CyphzGPCP5UFmsOqlEveeYUC5wXtBqkMwO4SQSLbCzW+apH4EX6s6WFYIcwqdMEeZBDre2pbcY/bUrrg6ylzfKQMTS33WTRbn9VKQ+/dYUxX75AEREUblBBRXC8dUL8iCcRRuBqC9EbUCwIpRyaQNtVgl7yXKiFaQcwpYQ+8hykgaEQkEEeFKJCUWCL9REiBazrIhA3Nk3qBnOG63xqUrd8P21DfFN+2oIroxfbUDHmjEPKmMf1yPKKXTGLmFMROKMXKggSuN3Cmt3ofcksUmkY8qi6zqoLRL3kuVLCJwwSRCtiwR0EJJIR3QS6yCRIR3Jcyl5N/pUN956yNN3GgguHmcpLWKUm39dNF+GIeVBMVvjh6qCcQxnMyuSRx/XPMIoitIo3VQW5icXCkEchcYpRIiIOqgStgjrIUBC+B6pEmuDvYesKgSugqBa2C7OLkDCeTrKBtF321JaMK341AtIT+6oLSJrx+2qCt33WVcUmlGdxJytGMPaQQfw3ZRFLxsbqpiFxRiy2qv4W7OQuQLmMyLOI2mrd6RFvPtSS7zUwk4gdwoC5ocwoEisIuEhSuL9LWWCmhW7lyCqKPvJMdyGphCULclwkmHMBfbSSuERD7qqDcHWaldabeLIocPjuASTm2+/ISBYrfHcpJIpWt5nJopE6NDZYQuf81LFIReT+FBMUxdG5WkjTG5rkj3CfG1NlDka1AsUrjbwimcRCbbTYlEeEHOFA5gIeFqAEoh3favOSEVwC+9qnxYMszpLRIONA0LRfpIeulhC7cm++5Ll3Lc4uQJCOjUgYcoOQ4RYRHmIkvBYfvqURESOIOdyCwWiQcpNYgfRipcu+6yMr+UkDCQiJ8Ykgsx8xIJ3ji6pJXF45AE0RPlJKToT3XNJNFcImPH/AOiUtfVcgIpe/NQXwygnFCPdG2MQ2vURY4QoToptCKOvL9RBZxjyiSUvhuq4Ugk4gJ+YUag5htQBOv6rlLrjHiFJmYOtqUS955rUFzivJ+lK70RSiQ2c1qODyUFmZ7vhRVZE5l+YFWLRYXZTW+SgYeXUKUbiDqkkHQRcTUcHKTez0oJgOGEDrnKR0abWqshFwEWcbBTZS7S0AjaDuZK4rHW6Uwm1nKX5VUTcz9SB961nkpeAuyltvHhJSTRFohYJIko2sIsmVKJE5p9k+NDmvcF7kFa/rIDKxp8qW0SDlTEXEHMguIeJyAG1nKSNIcrhQetLc6MXaFUEFtjtNqkLSdzI5nqSFwG21ArhzcKB0EINSxSzpbhfegbLmDUl+agvejSlrb1kD+slIisbpJFqUtaBnENyhxAQCWlRzciVw3jyCgLhK5iCyAlIhJ7nqCaRG1UJ6yS4WEnUZxQGpViTmIIvOQROtQHsaeFSkIrkvMgYibco1OJBXJXdKBiLUlzEjlLUgiQHoIc1KV2bhTZu0graQkm0g7SlcXlIJpeSghxOUZdaCUlcgVxCldb1bVKh4taxAvWRoQ7TrR85AdZIJJrkvV6yBnXKssyZVtWhkZUqCQQ5qRMSQiQM9K621SkNBKUiU6EmpAOQhKgUkZUIRA5UPHSouVdwoGIkr1KTlQMVyW1Q5KIk43G7hQDkrkznXJWoHtcjmTZVCx1Moy5kCKB5UDpUyECpkIRIUZUcqlSBCjmUoJejqpeqpQTrTZUrvNTZUECmFKgXDlQWcqEo5rkyAQOVCZAyEr9SEDCo5VKNKBkJUEgl6MyjLoTKQykM6UeJBoJQof5Yp0E8qhT1VKAcjMlJPcgjMgT865NyoyoGG65mZDy0qve3W6UziEuyijaeQk+ZVZeymFok1Ba9L85AJ0EaXZXEmelBOsCoU5VCBkxXW8RIRwIGc5Ga5KLuDKKYSaPVBA1pZdSOPmShoQJXB2iQO60+a1MWtvEkHKFnESng8pBJWv8AJUFwodk57lPAgktZCjjdkSCVocBEnzCHWQA+qm6NaW5reZGYUEqSO01CjMgs43alPH1UlxF2kzneUgnM8RziCPVTZRMeZRdeI9VBMIRHxY5BFMNtvCKXSaYrhMUDXCQdVELR1UERX+QjK8eVBItcBEiFoUOuPqqWlp0C5A4ZQ66gRaweIkXD5KjlegkS1FqJWW5eJVjazUmHQgHNuVkLK0ko3MUwrmIGEuHUSUYUOEJwwBoPdYmG5nWQJauZA3H1kaD7KgdCjm51IZt5kJ8qci8UYjpFJaRcVyYizoBxdtqfX2UnGY9VMOY+ZBN1nVTDoSlr5RRbl5EDDlDquTCThgkWe5VjaV3Cm4OUUDNGLC3RZIrgL+dVy0KHAgQYEIGQYQ7qF1ei1NCc6D1SQOWD1iQP6yHZxYjOzrKRu8pBJZTVh/DCIZWqu7KPEmuabkFh/MStc/qsQWtHxxdVBaLsz9KSEIiINBupKItE222uUuEfJagaEReJLQmG4Q7SXgbbamhZgQONzHcSi51qBc0Go0IGzZbrkFlPrNQJFmyqPgjHmQBNv5WpmtI+Zr1DnCY8yknOPmQDs5cqIu8+CMHt4FF16cM13CgsFrwHhFLChC0G6kojcHVTQiJsHqoCE3xLeMkrrT6ysEiEYI5biVem3iQWkQkJ9ZMR3Rusqhy3aiQWQ3cSCspmH4QmZRh74YQxSPT9XSr7d7G5hUERb2Z6oqOMuVBZrB2kUC50FvASQnEz7knAiLcu4UCQhH9LFzKRF25Eg1IhXDLD1kC6zlIiQAtyl8aoMSIYzs5EoG4Qdncm0H1kDOtmS4iFBF78Q8KRtsy5OQ+/dVA0WK0zL7V+VSItKCJfFJI9wmJZGqx3jQ+5XIAPfZbtJR+B5XIhXFBIQ4kDmg9YkAPwIjxI6vEi3xPWS+ugI+UyHO5WRcsz2VXFd453EORNFL9clyigU/huqKUgzt1A5MQ+/cwijLd9qQMNxA7UKWFduXJhzweqq4UW2CQsLMgYf3MI6CVQu3sEh0kQsRCcJAWYCTtuMi+NQNy8JpSaMKMPMKLb79SIvwxdokDE4d87Pam1RncKWLmjN5UOz9VA2bfaHClIbnD8UlIhdbwoEhdBL7UQoAS8aHVQJEyD1SFNCb4lyBIWwS5kAPwJKuE5oF9tTOug8AkSW4RbzOQBObdpJRF96b8M5yC1iOkkFrJUJK0YxDxKCHOpijcfVUOtPqoGi3CZcoquKOcWOtSiTmCZ/BIuaA8qBsxdlopgywRLhJVtcQEPCjgdagQYpWOA9Qp4TvEklEhaHWaoFtnXQMDrC5krRcB6xJqCaA2/Gqshz8cIhJA3M/Ujlfe7OiKItMdGZEVpCbuVAE1p33iVyC/dJdVFrjEtQiSUrhu1CgYvZ8d2UsXKbT0ItvdqH8ibm4gQINwmJah/IpbvSc83tdyohEW9DgIFEIveeqQoCLFH+ySi0mCWqEmH9zF1hSuYQFwuFABoLiFNCISY64LhS35uElXc0BHQaAIibBHsqwfgR4UERecqyIR3w8JILHNIOUkt1hDpJK7O265ygiaJoHcIsdpL8qr5h4nqSLOJcqriucfsaWkgsO0nFoJKQteOVpJSFwm3hcg3OMuVaDKJ8pCrCIby5lTFzNHhcgrhaWoUDEOdvWRFyxh7SqzM5hQ+1pHmFA8Vw753WQ4CExhsuuUZsxuMgSk2KIFmtRJmiTy4gUlr6qoGFCsJmV2RMAl4ntD8iAK1/MgnER9VK3J5KA0N6qAtPtCmLhfpaqnNYQgZA5qWFFtuC8VQtFrQvc4VGVg8QoEi85Lc5xBY5qAtTOGxLpDrJdHaQFrnElH81No7SUhIXlwkgOw5QKghu3j27pDSF/WcggXWESB0eSlcN/KhAaQdkypRz3akFr8pKWU0Ei6wkvAmdaYpc1vaQGkBS6gQRNJBXPVAJpdkkhErEnY5kCETi6qnL2VJZWiCMpN5UAq+DrJi1pSJnaFAZSSN1JzNyVzvJQDh8lBEWVLq6ym7ykByoLiSudmUIJtHsphLzSVZOK5V5u0guItXCq/moc7tKPVQTlYQqFBekkc5ARC8U4Qv0qqFFLVYmIvPSk4VodCjMlMXZkEkZJHXIa1BWoGG1LpNqhCASoImi1KZtQNalIvIS5SagkDauFKRWpSUZkQHaUr0pO0oc1Az0iZCASO1IuUIFaKa1V/VTZrkCkDdaEESVB9CEqFjqZQ9Qp6yA5U6rTIJ6yLdKhMgh6lKp0uUpShKhBIKUIQCEKTQSpHmR1VCBrdKZKPKhA2VMk1KMooLEJXOTIBMhDXWoAVLeJQ1SIuIB4kBa1yUSJN1kcqkOpuVdwp0EiLmKFIItQSptS5buFT6qBsqEqZouQA6HJtKUkIGRm8pCYcyAzWlrTWk8iC8iSjb5KB0O4EUdzu0i69qB4UDxLAwimt1JQQ11xIH1eaoK27WgeJib5qAtvUpOZO5AZnoJCbrIAxzkKOPyUcHMSNNuonIGyifVU3CfVUCNjS4lOa7iQHzRUtU8fMlLK5BDW9QRRlEOVMQlf5KiLr7IoJ0qPmpI8zKy0U4UWclYUYQyHHESVXf1P8A4Skfv4oPp4HJh0KmFMyseLu4U5KxYxDaARxIj7KvaTjQAJh0caG+agtaBhHI3rIhOJjtVyhvFpFMPLpQRc1SOjmUjo6ihrSDlQN6ybT20okNg9pMNhB5SAtLLxIInP6woG5g6yJfFUKrT6RLBHqU5Ak4MWK0TmDaJkg+8tY8VqCte7hXyStTp89TDqMtOQIshCuizIGO6AejmVVPr1Ir2+GlVWVnjhNKL3sbmIPQTkXoqpxER8GVWlrQMNw8NqB4taXo1qwuVBWW83VrH86sHQRJdTkwtQSI5EC5rkCSBJwgpDDmDrIuiiAibbnLzK1iGi4aloMzXKlAp0GKTRONrJW0WtUrEMj35SJ8J6TEm76Dlcg9AObjRpNvElEnXFa4kw5WoGJxb7rKT1tRm6hEo03cSCbnH1RQ1t3KgiESPjIk0Us/koG1dhAjks0+ci5xloS2eSKBhJrFIiIsUDo6iIVpQS0IJESIQ5iTZRdzJRtGCgbxAeYkFhXCfWQQiT+sjT20G3NzIGK4THlSuuPqoikN68PFmL6HgmRgzmIJ/vODHLcCbHPJBkIld1BVmoOVeHhXFVGxtSjqdBnO+pMSKE9jSAujlXsDcTtDUDaoKYdAlkSjd2UW2IGhfOTCQ9hyW0WCgRcgYtbeNKRWnxqtziPg0piEopGIoLCzm1S53krXVZ224Hw/iGaoFQqsSFUpeOMAw3FrlsUvFEYoLBLOXKiBezqqjxjrGbkhu/NTjmDqoGDLB6ybgdxEqx+BUDczrESC0R9JKWUx50CdoEed1yDJvlILCzxuuKgiH9M9VGYow6148DEtDnpnvOWr1OjzkfxQy8GaEopl0cqD2v8A2kQrSg9VVOISN3CntEruFBMK3ckphZYLuJQPwJdZS22D5SCLSEOsSriwHC7fGIOyK21uTUgm5R0kKAJt4cKCteWa1LFa2N1k0W3fdVyBorvMQOYB+1JornGRcKrHQTNKoWCQ+J1Pc1LCt3PWJAldB4xcqxLxUFvESkWQhGwuZKOWN91alcLg6yCJr+tagmOTreYSVpldGLlVMXMbUxE/fdVBYRCRdlLlLJmFBWl1hSuaQdVAC1wCPCkhDaHaTwiaUFEIvFQesgIWjrIYLTLmtRpdzfkSERNjfdUFbiLfN4vparY5D44X3kS8yq16i0OOyp1iRkY0XxohMRxEjHoX2QI8OZgBMy0YI8GKO9hRgNwmPTwkqH0nccYh0i1GtuW1IRNimI6hVE9PQKfIzNQmXjLSsrEjxTzE0BcSD6BJxBDHhR8SPKS17gDbXg7aLWgpFCmZuJPhCKL46A0W9ZZ/CcIwXXaXoHE7QLmSDoLhJEIhs6yCLn+FUi0nDlPUkIhF5cJJiIfHdZVxbhMRVBiyxuZqNRu0iiJc/qpeMi+KQMWseRLwc0JDi81qBd4kn6SQJqDqtyKYWUPJRCEosWCL85NWuJnbvgWTxR7Wok/NDVYU13qQbi3eZUGxhJsILHXJRKI0LL3panOSlHhBEqE5Kyob1oHMmI+kmkY8pU5bvmRnIE1B3rXwTcLuygNLi0mmiiQkfWWvqhttwLI4omcMzNVjjVQmu9TAIBN3nWWwY47qLGEs6AildGsytJVlcMbykxa+YXJc7xHhQBFvXiWoUric3kWIY22n4V2fTktLYjnzlZmcgb2EAQHW9C+uoY/w1TMGSeMZmpGNBjiIwpgIBF+ryrRkji3oONzhRdY5Y7grHGG9oMpMzWHp+JMhJxd1FeBCwiXvwriDrLA4jkItSHM3N6iE0WdZLFIWhykgkXOAtbkmkHHqIUz7W6xNLxkOQSQLpaXEgm36mxU0VrYxEYDBHMZm0QVcLdR99EhRoEVubcmJeigYmtMc1zmJid45YhirafhDBNQOn4grYSM4cIYogwiJvT1VlUtHgVCTgz0qYRZOcgDHhGGsem4UFsdrjLtJYoiRRm25VBXHyFCFTqDmFEgicWTMKqi3F1hVgkTgbwkKUbmdVhIotzncQobb2UzbQaeZwqsbhgj1kDZhDmFKJuECJ9wkgXOBQLoQg/SS0TweSjg8kEaT5SUFlt0k5Aojk8lONzBHSRKMot4SclJ17c+ZEpHl4lA5QFTuiF9+pBCREfVEkCNt7SLtOknJic0xfzJSzG47GiSCoXDCPrIPewhzuMSc/wD3p7SeL8wotPtCgjLboEnIJ1/lKc3aFI5wt1tVBuPlQWsddpKsfStTDaXZQK0Rf2SR0a0WtAkw3MLsoK3PE26hRmuQQo7CBEpDpHUrB0IJw28yCu1vZVerrCrPmpdQDwkgPnKLsoqYrguHiQYNQJrTC0meSjlSKhNzPNS9OhMWU9Sr6yBncWlI5yljnqCagUSyI4EETkcaBcuZKXzkyUru0gCtS5bSuUllbxJSu7X/AKIGc0uqlc0eqlEhii4dQpidq1IB3mpS9EkvLxCpQMkIS8lQKG+QSAJ2ZQVoqUpLQXNdwqrL2U7r2pByoASFudGcUNZlSIGUaEpcSBLSgZ2pV8yOUtKi1AyEmQlDm5UAl+oj6qEB9RK8dKhxaUryQNalO61HVUIhA8yHqUnWQShK25KgZCUkaUEM51CVCAUllUuVaD6EJUyx1CZKhAJlGVSgEIQgZRlUKNakOo9nkUJkSEKLtSlAIQhAJ7nNSvUoBMo9NQgZCbSDkvWQN7HImStTcyARmJM1KNrEDiN7RUd+SLjhlUpETG0gOahiwua5SJebcuRseycKFtBxUDLxn4n47kqOt+/qcP8AnWnfhsP1lA1Cm6arTvwqH6y4n3ELgho72gfEgSVHbHhOmaqxTvw2H6yPC1K/hinfhUP1lxNuoQ/Aw1O4gcAJUdseE6RqrdO/CofrI8K0Uc1bpf4VD9ZcT7iBwI73gfEglR214aoumt0v8Nh+sl8L0fVXqXm+zYfrLifdQC0Ke9oHACDtcaxRdVeo/wCGw/WR4coeqvUf8NH1lxRuoHxIKRhQAyhDQdqFXsP6sQ0f8NFHh7D4j+yGlfhQritsLgBK2FmZDQdqFiPD38YaWP8AzQpvbLhzN7YaP+FCuLWgOUA8hDIHBDQdpe2jDhZsQ0cf+dFL7asND++Sj/hQri/2YXAjxWkA8hTUdoe2zDGrElHH/mhR7ccJtuxVR/woVxfZwQ01nAlR2cOM8J/xqo/4Um9vGEBzYqo/39cX+L1ApcDUqOz/AG8YOb+y2j/f1V7fcGfxto/3781caCMPUntVVHZPug4OH99tH4c/5qPdCwTmLFtL8svVXG29RvRU1HZI7RMDjb7baX5Zeqo90bA4/vtpfll6q413opnpUdle6RgfMWLaX5Zeql903AosIcVU63requN3WoeXGlVOyPdNwLZ/fVTvO9VKW0/AUJhFiqnW/dPVXHIlxZ0O50qOxPdWwA4P76pG3kieqo91bAAl+yqR8iJ6q48cSHlxpUdg+6zgD+NUD7xE9VHurYAcBe2eBmd7xE9Vcfb3pQRcRpUfbtnxDKV7aVWKhSp85qQit3Ua4R5l8sDB0OPKwYpYzpcLeiJbowjODlJorFqw0ambeESUwq5NQhCGLGCrS2zstptEwZjylV6o4zp0eUkzLehBgxiL6ot1Cuiy207OxzYn/wDko3qrjCmVWZnCMYtoNXnT09FqE8ECHaDmisqO3S24bNXfsqC7+RRvVTltp2eCP7JD/Ao3qriuLRWwjbGcYgkoNQdF72PrClR2kO3DZuRN9sn/AMlE9VMW3LZu5vh6OR8lPiLhuPFIZyNDh8S9iWpRQooRSjdhTUdmFtu2eNtrc8X/AJfESlty2eiPjaxPDa39ZRFyOUUl5tVk5mcYMMw3I8fEqqOxfd+2ZD/nua/AoicdvOzkrgqVRi2tsp5Li05GnwIDo8bxy+akRSGeCGOQxyJUs7d93fZ4P+cqpb/s8vWWne6K2kYVxthWiSNBmZqLOSc4UWLvpUoVvSPES1SJEK8rENsnB+6pUbs2aY9whTNjdVwnXJyoycaoxYnjpeS34gPT2l9GyisbMNlk/PzsLE1bqffkAYTPBG7Z7GrMtEUqKRUiZHrL5sPH0d8m650K5Czs6F3QuznKMzWCP/gvzlYXdD4AhC6IdbZ/wX5y4rhRfB9TaVoD6K+rEMyIlBhAz41TUdlD3RWzyKPi/D5O4JIf/cVZd0js9hEYxI1Yf/wQ/wDuLjqPF6afRYIQwYcVefJjIFCOJNRmxuBKlnbI90ZgCL734bL/AJIR+cj9ELgXTBr+X7FH/wBxcRxJqHLTe8k4zgWVCfQUIIg5CB6VLOsv0RWBWu7zr5f8rD/9xUxe6V2fQLYsGvi7+Sw//cXJ85MFKyMaLrFeBSJYJ6ZMouQby5ySpZvHugtsGFdo2GqPT6AFR75lZrekc3BERa3lLpXubCNr2HMB7PTpFTkKjHmYs4Ud8oAkLenrF0Lnar0yFJiEWBkKwgNfTTJncUONEzNK1VUdeR+6awPAtKQr49iH6ymW7p/A8U2wqbX4vDZB9ZcYyfecUjiThn66JwpQYoHJmpqO0ovdOYLgXHSsRW8kH1lUXdTYFEXeCq//AGI/OXIc9H75oMGLrdcqKRJjOb6JFuAUqOwoXdTYJLLR6/8A2PrKou6qwPCePgev/wBj6y42qEIZacOGPL+NevHpUCFIvhh45rnpUdcwu6hwhMwnBRK+QH9xSx+6hwhLZ8PVsXc8FchYcikcWNC0McxfLFjlUKmwsjiEeqlR2D+ivwZlGg1vK33+CvqDun8NGO8DDdYY37KgrkuZpUsMtGKGBiYjxr5MPThlFOWPhSo69/RP4c/i3VLf5VDTD3UOHhuHCtYt/lUP1Vy2/py+MQ4kqWdRfoocPjaOFaxb/Kofqr54/dY4albSwrVPwqH6q5gnJopORjR9YivBpEsE9HjRIt7PSSpZ1uPdbYXj2+1iqX8c7D9Va02/bZ6btGw5SpGRoM1IHAmt6UaYmhi6dLRWopyijHZuPFKqtbyFSoIRTeYlnVRiN17FNvlI2ZYF8Bz9Emp+MU1EjkcGaEP1esK2HB7r3D0cmw8K1G62+dhj81cm0WRgTMKNFjg65ogvhqcIZGeMAyWmlSTsr9FVRRF3tPnbR/hCH/7a+T9F/h537Ep4v/MB/wDbXKlenoowpaEJ++i4l8MrOU2FAAY4RIp6kqOwIHdaUWP71g+aJv8AtQf/AG00Xur6RAF0TB80ID/tAf8A21xzLTkOWqD4GQibfwr6cQzMTvzcaBF3ypUs6x/RhYfG32nzV3+0B/8AbV8DutqRFJ4YPmiu/hAf/bXLsClSu4ATguMhzn/rVMjS5iRj73fODgU1LPsxxiiFiXafVcR9596hNVEZrvd7mew21y6hqHdcUiB42LgyOP8A5oP/ALa43qsVtXmSzNiqCnCqdQApk7C9FVUdfS3dcU+ZeUDBkcg/8QH/ANtEfuvaZJlfgyO//wAU/wDxrm36knAMYYNARWL0rp6ajUPH3OFxKalnWo92TTIpNh4MN/8A4h/+NfaXdWyPv44JO0bWVT/8a5QrFPgwpE4sIGmPAiizkSLJzMIvghcKVLOpJbuwqfORd1CwTHI//FG//wBNXx+64kZYQOLgxoO/hQs33tcj4cif3VDqkvQxGX9zwLgiqqlnTsXuv5EpYzLBniTcP+MNXSLfi1zhs8xoGDto1KxVHk++YMnHiRzlnte91rv9Tl8NDAY9MMYlwb0l41MuqsECuDelYg7BHutpaZ8bDwY4Ct/xgXqpY/dcQIEI4kTBIW/7QL1VzhaI7sAaCUh3sM4ZahalR0dA7r2BOE2FgzKOuqF6qrj92NKy0XdRMGA8f9oF/wC2uT6HMdMtVwhHkJwr5pmLEnJmcjjpJxKalnYH6LiGUDe+0wGCLv8AGheqvj/RjQoo24JAgG7/ABgXqrlmLUB9rgA+9zV9VDlnU8yL4e3sqqjqOT7sCBOEYwsGQ7bi/ugXqquZ7sSBLRThFgkHhm/ugXqrlKhzJS1T3UTU4V88cinI85MjkH0VNR17F7rbdQO+SwZAY1/+MCy+SvmHuy4BCcQcE+9Dd/dAvVXK8eo9JYeggJ3kW6+RfbQ4HQdMjEXw7hSpZ09K92FDmSbCwZAPdf7QL9vsqqP3YwScVpYJB8LgqBequVaDH72qrDyXCX8y+WOUScKcj6BzKqlnXpd1s2Fv/aTAYN3+NInqqmB3YQzxNh4JgW3f4wL1VyzM1MouHoMMT1N+RfZh6FupE4pfCqajqf8ARXmUNo4Mgf1gXqrzf0ZsK/8AvMgduoF6q5+Is6w+mCMzUIMI7gIiSo6u/RoSzrcEh/WBeqrS7suVgEBe0yAVuioF6q5er8tCgQIJQgabmp6HJwosmcWLBAnEqqOoZbuxpacihDDBIP0/3RL1VZM91wMrCCKeD4AgP+0C9VcjkW4qoQxyDFFZBWoUsTIszGOEApVVnRH6NCWG32kwP6wL1V9kt3YkKceI4MlX/wDiET1VyyNXpsKBuoUscUxHOetfLQ4v904IjqclU2Z1tw2pQNruIZCpDR/BgSsDcM35RX+z2ehbV2fd1RAw5hCiYcDB4TUamSYwijd+kO+bqa21c44jhdECZgiAMt0L2qbCCFIwYog0ygXJKJZ0lC7s2TInFgkP6wL1Usz3XdOqsnOSMTAe9lo8rEhRQ8KF730i0vg1yXT4Hf0zBgZQNZP3jLSMCNEhA090SVLNqbOdreBMC1rwlhvZpNQJ84BQnxq1Ei29PKUNqz0e7Jp8KLuiwM03a6oX/trlPDUUu/GlwL68Ryws777JJUs6ome6/lJNgxcDf/VC/wDbS/ov5UpY4/tDaGZ/hAvVXIssJ1GeghFjGQN83oWS1Mm0yZEcgipqOkP0ZtNiwjIsE/8A1Av/AG1I92bTYtvtGO7/AGoQ/wD9NcqUGAMzHMjBwQgyKquDDlp5sIGgQusVVLOsYvdm0q+GWBj4f8af/jV0r3X9PnHlCwTlFt9U/wDxrl+BTJUqeBFBvKE568vDkyRVCCPEJJUs6vi92JTIUXdFgmO8bf8AGn/419Jd1tKQh/YMYsv/AMaf/jXIVTL+7R/dRWUThfpaZL7USVHSUj3YVKizMEYeCZojhE7/ABp/+Nc0VfFvfO1aNioZBrqsM93o/wCsWVy8HDhPqHZVBF/dw/u6VG6+6A26yO1mlSFNk8PR6ZGkZwo5HGmhivHpFrbR6F6OxTuiabswwX7WJnC01UY8WfKZGYCdGEP1dLW9PStK4jhQxEDELyK5Ph6BDiyIRSAHuK9KjbVX2k7L6hjOZxHH2e1vw3FnBmiZWvFbzq7tbQnO7CosCZMYuCZ55Xf4wH1VyBFi72uf06+nEZFCnoJD8UlR1iXdk4ezFgmeL/zQf/bTyfde0GZJsPBM8/g8ID/7a5bkafLFJwSig4yuM140UvBlVMIRmyEY+T0pUbQ7oLaZLbUq9RJ2VpJ0wJGRKWZGjjFfdmtHoWZU/bVhOZ2L0fA2KMH1Sak5MRdGlKgMN5CTrbbVobEpfpmW+5OX0z0VuHoLbcqVHQGzLbngDZ5J1KWwzgatjBnIolHObqkOJcPDastj917hyTJh4Mqj8zAqEMvmrk6gxd1IzkXhJfDTx8ITzot2oudKlnXULuxMKl+8+qD152H6q+79FXQCH9h9U4n+EYPqrlCcpEKOHiPFGrYEnFhU85aJMttzpUs6ci92BhMSaWFawR8k1B9VTC7r3CsW0cK1gf8AmoK5PgFTJEjI4xxz6i82emgizJxYANgkKVLOoNpvdI4exZgWvYcgYeqkrOVGAIwo0aPDIQ9ghJxNuWstgm1mmbJ6tXpisyNQnoNRkxgB0SkYQYXQQ5nrCKnAhFSt+QeOGELTXwUOWhTJRiihvWiKVG8tpm0TZTtKrXhWsYexfJz4SwwP0vNSzWjqWy6V3TWDqfSqbT5XCuIu9pGVhwIT48s5oC0VyBiEmzIAOmEvRq8zElqZLQ4fwoCPmpUdVF3W2CYRN9rdftt9/gp4HdY4MnCCHCw3X36QOPBXJdIp8KPLb+Lc5fHVYQ0ycAoBt1DyIOxovdVYQlhfFw9XhD7vBVP6LbAkIXFQcRM68Fcm1yKUelS0QtTSVVFpkKcgHFi9UUqOuYXdaYFixWQ8PYiE+vBV4907g8v3t4izccH1lxbUIXRIzxgOkhNZj7PSV3EKVS6hLuosGQgMjw3iIQzZ4PrKuF3U+BYpNCiYiLtwfWXMg9N1yxOoS50yedCNrrhSo7Hi91JgOBFbFpWJhueQeJ9ZN+ip2f8A8D4iF3JD9Zce0yV6Z6Pv4t4Dm6y+qvQeiFAgxw02klR2APdOYHii4aPiJhZbIfrL5i7qbAAvEqbiK633iH6y5Mp9TIKQcQvgHCvOoMIos8cdlg+l0pVTsf8ARVbPNUhX/vEP1lH6KjZyQm2Tr9wt94h+suTJmn0+EJx44HzXrwYUIpuPuoQZkqO2IHdMYAii6FIYiL+gh+sn/RI4F+wK/wDeYfrLk6Whd7QAhQ9GtXuag6sHujsCZik6+P8Ayo+spHujMBCz9LV+3+Sj6y5QcoypUdX/AKIrAWmDX/wIfWUj3RWANQV8f+S/OXJ7i0pnESVHVv6IfADnf3b/AAIR/wD6ice6HwBmLw3+BD6y5NtRaqqOsf0Quz4tdb/AvzlP6IPZ8Q2xq3/V/wCcuTbVNyVHWJ7ftnznFGrf9X/nKC2/bPj/AHTW/wCr/wA5cnPRvXIOsvd+wA1vfNY/q/8AOUe75s81TlY/q8vWXJz0Oag6z93nZ59mVj+qy9ZR7vOzvVUqr/V5esuS3pnCg6y93nZ2Qn+n6p/V5esg9u+zks0/VLv9nl6y5Neh6DrH3d9nf8K1H+r4iktuuzx1tVnv6vJcmvRvedB1j7uWzt3+OJ4f/L4iPdy2c/wrPf1fEXJm9FM61B1h7uWzvVW57+r4iktt2zkstYnvwKIuSiikjekSDrX3a9nf8MTw/wDl8RQO27Zz/D01/V8RclOU73pQdZ+7Xs7H/Pcf8CiI92vZy7/H0f8Aq6IuTHo3vOaDrP3Z9nOnEMf8CiJR2z7Of4wmP/JRPVXJjiTOag6x92XZz/GSJ+BRvVR7smzvTiT/AOSjequTd7wpyikg6v8Adk2eDcOJP/ko3qpfdi2eN/ZJ/wDJRvVXJ296VIxS40HWA7YtnuX2yH+BRvVX10XaRg7EdSg0qkVvvypR3FCg96xBt6BcVxCuRd67Wth7Ch3u1aml8VJzRf2aSHTpeikJBxXElfatClyqfTUO85KgCSGrLStVPKKAejmQ9BN8lAvzlKHEhyAJVpiJKRciAQTRHqqsottqhzkARakr0FltSggdCRzbVKITyqEheUpQBIRpVZE61AW2cqUiJMSVBOpIpc5QgFD1CEH0EmuzJdLkyx1DkIHMhAJknKpyoGQhCAUDnUOTIBTlSsTqRAKUIRIQhQVwtJBYPEoFI1o2gm5UDcqlKmQHVQjmQgHJriSphQCsVaYUC9DhNcq7VIW42n4t5poS+WGJLqorOm1cx7aYW42qVj7bAl4vyw1UUsFdc1NpSpuZGFJCLiihAhAcWMVogAOI/JWb0/Y7j2pwgiw6JuALKE3HGEXkoMKc1D3Cs1qOxvHtPgHFiUEI4BolpoSLyVhEcYsjMnJzktHlZwc0GZBpIGFCVwoQM5CVCBkJUzm2oBqEJSMW3WggbUhQMUSym5fRJyczUJyWkZQN7OTRDChBxl0oKEy9rEeB8TYOgS0evUc5GWmi3UIzMSuzaV4aBkISosKxyyqi7Lca4lpEGsUyib+mxXbqMceGL2ZrSJYhCIYou4kFqEqOZA2ZGpyVDkDIQlQCZCUkDIclRyoGQgUIMarn+MT6qyCREe84NmhUTlMhTkV8Qze1q+qFC3UIIYnlQPyrF4sIqZU94QWCThWUaVRMy0KcFsVBVFqcsMA4kONoyal5VBgEU9vdEIV9ngGWc7fGvrgRJaF4iFaH01IMfiiXhU/uqy4juNeeVKlosc497yJy+1ALwa9FMY4QxyNXvL7KHhOPjivU2gyO4GcnibCOZMhELXKRjECWpkCAEeL421y+GkE+oQVsTHuxSp7MItNGuRpGa8I7zdd6GRMIMznD0LF4VKlIUUIsJ4mOS9Uh968vEP6xD7qK9F2lJNS0OchBDi5M1iLeZSLqZM9pfJhwi78PmhL3IEjAloRwoWQkktT5aTi7yEB8OdEPNxDA95jj1SXnwt5UJ6CMS4y9HoWUxYUOPCMIgOAlkezfZhFx/XpymUqclZCNAlSmimJtxW9BCLRb1kGH1qWiTMs0Lt1f2V49PKRa2bC/jWyMdYMm8AYlOgT05KzkYYEOPvpcCEWnpuuWHx6RKxycQN6ilTzpmLT9/u5aWCK5ZCIthBD4V88nT5aTJ8IL+NfQ9UlVOQt/JxoQ6lj9InBp0yYxbQLNyLKF8U1Iy0zdEC/jBB5VXqsCcgBCgG65xK2mQu+aRMwOI16A0qThC3cu66tgQIUsLYQNcgxqnlAgR4wTwfmL65mep4sGBLBFNexM0+WmidFC/jBECmScAnQ4N/Pcg+GotGigLAhXCTEYcduJlepFgBHExig4CUQIECWfuga9FscrX+Mz6sNZHM/4uP7kqo8nLR4u8iwXGrzESHdssMWoPBw0TZw/uSpjwotMqG8ILHuFe/AkZaWuhQYYmVr00WAEeFu4oOBB589XpYpaNDhPeSqw5LFvTjlkG35V9w0iRzFB89bX2RbH/dZgVgvD3gfwdHgwBAJXe754kXF0Na1TIadma4cKcOEIQ2CTV7hZl8eNsLnQ9oNYoUI++gpU0UAptjd97Gpq+oiWiqcgd+ScaBxCscpk94KmY0OZA2Fm5FlDmqmPJwJn38HLR41QrhRSghJv9dPV3jSIO/PxzhcvWgSMtLE6FBAT408WFCmbY4OBB5uHi/SMb7qvMxCX90D+5CslhQggWwgaGZVxZOBHJ0WCBGg86tScSPLQY8MHbofNXySNQk4EoARZZxjyOesjtG0cnAvnKnycUnFLA9EPKk5wp6eZAk4AwXcFwJcQycQooTI3AVpAvehQoUAWwghiHIp0tJB4stiOAMsG9A98I6MqikR5qemd5EOJuRXo+DpP7GBfSIiI7uGDQHQCDFav/jWZdqMV91cpQyzI8AGgINJZnQcAYjxfCmZyg4YmqtBgRd1FjSwC0CzNuJebOQIstFmZWcljhTMAihR4J5gLotISUreVRagM9KnAineIt64rx4W9oc84wcHzV0HsU2G0jajSqxUpysT1MORnIcqISkCGT/ZF1zlrLEdGhUrENYoxH31Bp01EgCZg17NSRJMTqtchTkscCEGbMZr7KHJxIEsZnacexnKvtGnykInDBB4L6nKkMOk4pUyoAcUPeiJwL6arVRqAhDhA0BuJZDFloEcnRYMMj40DAlhFgwYbEHn4c/WJj9tXhwopU+p7yIHvR5FlwjDhC2GDURYEKKTokECPnBAstODOQAjiDQJWuUDChwoTIYNDkVceLFhQjKBB3sbgUrY5XoHe09vB+FuX2YelhjycyXxtq+ko89FzUoC7aYZmoQhaNNAQ66oYqTven6mrOZWEMtAgwh+CtXmb2aE3eCoHlqwpyo/YAeWg8iuD3nUN4Nu9F49ZfZQ4AlTJwiD3+35F9JR56LnpQF1zTd81AQaNNAQ66DFrvetbmrOpaF3tAgwh0ivK3s453g2B5at78qf2BD8tEPHrUIpOpmQW70XCvsocmMenzPHHJq+kotQi++U2ATeM0wzNRhDbIAIddBiouaEDmazmWW1GOVIpgbo8rQvXzCU8JO8GwH53pij1CKLSpoF20WspFQi1AZkorPFLxKKX914PaXswo9QhPbTYAuzMNKMWeG4abAHtoFxN+sYJD8arsPF/cztElOPUItsSmwCAeM0DM1ARaNNAQ5DRDxZn/HR/dxX1Yo3gzgHexvnL7nTzneCoBHxvTRYtSii2JTQIOuhZ8sKuU+FLAIQbxHzl5tDJtSgu5l7I99QstKgD21IxZwS3g0qAJ8b0Hy4ohFv4MRljWvX1UWphMwAk2G+FAK/T9RWRY9QiiYlTQJ3Oq4RzcInDSoAH10HlYc/xmHUWUTN0nG6pLzBKchE4KbAE+N6uKcqOqQDy0HjYaIRnjv8AgkVWcOpzgQIFwaesvVGLPDkpUAe2qxKehE6HSoA9Q0HlT0jFpUUIgHZpPmXrx54J6hzMR97bk0WZqUUWxKaBdtKMWeF4jSoF2a9B82FyH9OdUV8+JT/TjvtS9GFFqEJ7KaAu50RYs5FJx0oCPnNB6EC2nwfuHzVjGHC/umHVJez3zUGtGmgzrpBizkIvF0oB7aDy65COFUzissK4V9cXEIx5M4UOCYxiFpGvqix5yKLYlKAg66SF3zAy0cBdzot8OHibUz6qoIh8OH93XrjHnBJ0OlAPUNLvZpz/AAUD8z3oJxGJd7QYg5BJfPQarAhDBkyC8iK//evu7+nspU2H5aoEjEnQ6PDE+N6IeQTfDn9OvqxK3v4PuS3lsp2HltNw54cihUYEbvyJK/pYILXA25x3aloOuFEizxjEBu6dC+QmuRb0ZGuQoEsEKZA3jyL4BfV6mcRjXE4uQehffC3sWBB3lHCK0RF5m1XwI8zLC2FR2hyGiHw4lL9MwfuS+ipl/cGCPVVsePHjk6LRwIx51JR5mLCYVKcHXQU0Ed7IzMP40mrzZGOVIqHjwsuEl68KLMwPeqa3qGmixYscWxaO7rmg+aerwxRAJR4nqNPOd9DQ3RH74icXVRCI4BOhUdp9dXlUJzVTT8tB5VMmZGAMbvoAIyO2xfLU5mFHmTiQrQaz5F67RzFRPPQREWajoPsngIqK3W0V4lIqEORIxiPJzWsXqjUI4i3wabOuvnMQzeBEHxYh/wAYGPKK9WuSxzNPgsuOE0vNVUeL35dFo7jbnVo1ObEf8Wx/LQfDTK1Ak5bcRQO0rWL56hHKrznigsyh6y+6KMKOT4lHN62hsp2QRdoNKnKjLRpqRCVnO82QZXfjldcTuhBrGuDuKfLQhNzGivooP+LALmJFRiFCnJyTiyBx+848SA/LkJuVVQJ4pYWQ6VHEEHmV/wDxqfZXtT1QKRhQSEHOXzRY8OPF3p0oyNEeZ75EN7So5NQfbJ1PfyxzMUAhNJY/vY9aqFv/AGCvR3ojA3Xgo9y7ImhTm4HxVNOE7gQefJzMSlTjYuTKXrLIpmEMzLHDH4UbV5UeZGaJ0WlRyNKVaGREIQyZiA2i80Hj70oUKMHlAsopULvOng4L8xLGITo8febkyBzyYsi8JkQmJSEdhLR4VQqMSeiu+BHKC9SRnqfIwGicR5ZjYqmyv8FR0F3iP+bY6D24EeHMwt7DyOVq+OnkHezYcE4ACWQ19L1gbMpSPQ4cxIsz0PTbiZ3ATPeE73sQuGN3tE3beJzWqvSZCiA9NlWzaRsIrVcwLLYvh16lwpOPIRJ/vQ4MTegIOtcNrrVquBH3sIInELvlQfQkeoU5bVq0oWT7Ptn1V2l1qcpVImZGVOTle+opzbmt6Sa0W+yvlxxg6oYAxLGoNTmZWamRgQ4++lHbpp9ZB4JqUpJLUFj0WpEIGQlTII6ylCVA3AhJcnQKhyEqBkJUIGQlTIBKhCICEJUAmS2pkBqatm9z5A3u0g4hfAUmaL0RWslt7uc4Q+2qvRdcKnfliCskuLoC3Skik25ibVdxIyrRW5wdZSpFw26EZbuFBCS0lDkII6ym4hQlc25ApWo6yUkIByVTc1qhAqltyU0r0AV0UxQaC4uBRciDIQlQRyqEZkIFzJkJUAq1LkdZAWqEhETnWM4NSHoHSoQi30IJ7bUJhWKGpCMqEAhCEDIQhBHVUWplAIJQhCkCZKmQCFDnEg0SLb0zuHUoUBmQSnzJEyBkKGqEDISozC1Ayb6qXqptSAIiITFc17dRZtJOJ8bTpcvktXSmVc790DC3WNqVE4qSP/UJCTWKgitcnSELoRhxCQqh0xsiwnTME4ODEtSABqU5A76izJg4paDpEVh1a7oyoTU4Y0GjysKT0xp5xEfM0cq2lLQIGOtlsnIycy0JymDKv+JLoFrS7QrlmtYSr+Eopy1Yo81AOF8MAOgHzCQ6VI2pSO6HrEKZ/uvR6dNServR0Ils+r0HDW2TCEGZEPfXbiYMGx5aN0afpmXIsKZhE9p3rPsD7VqvgCUnJOTk5WegzUUY7JsysLo4WoMIjy0enzkzT5wGzknFKBFDm6PWSr0MQ1qLiOvVKszMGBAmZ6LvSCDlDSsu2ZbLZraDMnMzZxJPD0qTYsYM0YuGH/6kg18UUIWY0wxRi5TXTU5Q9j+ByCmVOWpffI5gmQKPH7TcqrHAGy3aJIxva8ErKzIu8dTnQoof0ZZhSw5qQsgxtgmp4CqoSM4e/k47ilZsAaMYfmkKx1ULF7eDpaWnsX4egTkEI8tFn4YxYJ5THp4l4S3JsmgbOYFKgzdfjSo4qGc8Rvo8QSbptG3MpkPS7oPCtBw9SKPN0ijyMiZVGJAI5YGkYtyrUmEIrcVUGLwzkH0l1VtBk8JRaVLFjM4Hg2FHeJzBkI7zp6q5vxH7XpbaQBYROAVBGPJbg4JkQut3mbmQbf7p6F7OGqbEH4KpiPywyXNG8Acy7D2qYJm9oknIUaWjbgPCIx48bgh9A3N5ljA03YxgT+5U5Gpc5OCXjTmAKZiu6OLSKRklzMMUSy3px6OhwES6gmdm2zzaNRTm6LLSMC5kKbpfimF9sH5pLmqp0yaoNVn6RUGd+SMXdEzKfCQ/7xSw2tgnblAwZhWTocWgnOHAKIQxgmhHPyrTEtC3Qt5iL5bl0TsW2d4SxPgmDPVqiQJ6fKfiQN9GMsukbSXP89CGWnqlLQgslZyNAAOXoiEIiileXMqBnoBG3fAukcJ7GMNYOoIYjx0cCPMwoQx4sGYP9LS3s5RbqJfX7omx2KyH4KkWZX+CBb6KWHNQ3DajlXQmNNi2HsR0M69gUIEtMlCKLCgyhulpn2Mwt0kudoEXei5UL/qIQq4nvRoAosNzXg9TFjwoQuI2rp+mbMMOVzZXIQpPD1OGvT1MaM8YXBG6fhCJy+aSo2yzZBDl5CqxoE9iHdD31Fiwe+YjurlhipsOZ4UeFH96NyeLF3Q3LrP2q7O9q1GOZlJORIIVvfEoG4jyxcwrE8ObJMJ7O6ZGrWPJyRnJlxbjvn3gB6MrYeoksOcRqEs5oxgX1jcusaLjjZfiqcg0aVg0ojmrRgzFLGAJ8ok1ai217LZPAsWTrVFA4VHnI5QIso9wy0TMLeUksNVqmLHhQPfDavUodBnsUVym0Wn/AK8noowB5PZzF2RXTpYV2b7D6QE5UoITU+VozM2G/jzJfax0pYcl9/QC+GX0wiEhAhuXSw7cNntQihAm8PGMEvho1PhkIdZfLtE2LYfq+Go2I8GQYECcGB35C70PxE5D6BcQt0k1LDm6PFEYRvNvXXXcWFKRe54eMtAfFw7nYOboFc/7JMQ4VodemaliqQCepsWQIYUE5XvnxnSQkNq6qp9UotSwVBqkvJ/3sRJMo4y5QW+JFzh3fzUlJThSTjjFgQWm42ivp75hOaUYH9dbP2s42wLi+mUGHg6lBIxpWLEix4wU4ZZ8PpFojbmW19nOFaZWti0mEOiUqPVZqVmIQxo0rDKK5xNJxJZLleLMw4WY717WE8SxcK16Qr8qECLM04nCEbKfsi25dKUWmbPNhFIk5Srzkj4eiwh76mI0DfxzLpHSP1WitSxavR8Y90HJ1KTAJyiTk/BaEaA0Y3sQ2k4SQeBtG2qVLal4KGoS1OgeDN5ujlHa+JywgpyWgEYRIwCuhe6YotKpVPwrEp1KkZAynJiERykAYTxblJuZTsBxfQ5kYODqxR6XFnLip03MyUMiPUUEiIc31iQc/iThcN6YiaLiW1tuWzQcI1Xw9SpbdUGeitjwQyykb5sM/SVOw3Zz7dsRnV6lBdQaOQlflmZjTD5h6M3Sg1PCnoEUmw4wEvoW/O6KxjSpZmDqPIU4Zk2xanMwZWGJQdQwRIRtLV0rQWpBK3H3MpN2gz48VMjfiIVpvMtudzYbdp4c1OmvRFT1Hxd0iUOFtQOKRtCLTpf8Tlq6EMeOLoUnPRQ4wlYhD6K7AxbhDCcjiE9oOM40CLJycrDlZWWjA4d50OubqL6wrwoXdP0OHHCBCoNUhSDmgYNG3i3apjl0YokRjrHMCsXWW0HAVA2qYS8PUaCBVWLAKPIVGCDSjex8HEHV2rlyKMce9d+VtiWasixQhDvDNoDxq2FAmo47yBIT0WDxwZWIQ+U1dH7JNi1HotBDF+NYMCLMxYXfUKDN+8SMHSRDqiEvQqHdR0aRjnLUigz05IQhaMYI4ywn1RQct78d7uitjDmAwaXkq5dbyc9s+2/UqNCmZAxqUrCdFCMAwpuW+2Q4g5hFcw42whOYAxROUGcjd9brxsCZAG76D05S6310HgHHBzfmJ4cXfxQhQgOLGi5Qgg4j6oiuqu5cIYWzmpEQAX92IjngN/i01NhYJ7nqmBM1eNv8SVOLEjkctA3sdvSWUfi4fR5yWHLEzBmJOPuZuTmpWMYvGDMwChEY8TSVRRYcK41n+2/aJI7RsVSFZpsGojLSdOGTLvsBEjLeOtaXStzbNNk1B2d4cPFmNAlSqQwO+opzAOhSI9OURHVESxFzNAotcnIQR5Wg1SPLFcJhJRCE/NXwb8RjnCiAcKMOYDBpeSS6cnu6qlRmd3SMNzUWQHLGjTW4I/6McqyaRj4D7oOhzITcg2pSojvQNozcn7OWJDiDmFyWHIah69fF+FZzAuJZ+gVCNvzlWlCmGNGZg9OWIvHVBl0p3JJD3njMdYx5UvNiLmldG9ygTYGORHP+lS9JTJUWmdqnTuNrOL4IvI49RJgBcR+yI5RXwlg7FQwt6WEq/uR1+D4nqrqDEFYwZsYqdSxNUJPwji3EMUo8KCACUUIeUREi97Hm1LHKZ3V4lPQfCuHo8rIETSjS07vYsH2dTSzImLmgY4xSMcpjaQHaQdZOupu6HwHTq9hCNjCnQYHhSnCM13xBt75lTzO4uJcsQIUeoR5aUlP1zNRYcCF1jJqBoTo8fcQIJx5krtzBAiLyRXulgLGMKFv4mD6/uWvf3kTV1nOy+F+5qwQEcKa6ctgPH9c1GY6Ru8YWnzRFauHuqq9vX+1iR3PB37Ec3rKbDQEcilo/es1BOVmR+BmQ3ReSShdnycXCvdD4O3szINNxSsXfAO/lIzbWxB8py4vnIB0qPOSsc3HIxYkAj42KrBXuihCB8WNFK0ABxH2RWUwtm+Oo47wMGV8gLKfeRLpTZphOg7G9lp4xqsnv6xFlRnJyMAOigJ+9wYfCsCme6tr8zHjRJbD1OGWIrQjTUQibzaVNhoiek5uiz3eNTk5qRnPiZuAUIvOVZLs3DVaw53RmFalT6nSt1MwGjHlzPelLezliQYmZcd1yizWF8Q1igThumaZHKVI+P2MpdoVUR8iaEJxYoBCA4saKTQgwQcRlwiKVelhyrlh7EdHrAQd+dOmoc0MEza9mlyodQ9yzIz1KwrWIdQkJ6RdWIZCExAKEXvea5c546otXlsY4wnJmj1GFIeFpgu+zlS3TemITS3jWrr/ZXtSmdrcjVahM00KccjPw4DAmijibxdqHoWltre3yeqtPxhgAqDAhQSmikO+++iyw4jnbtrfqtXOKmV9yP+xLGHLU5cvNXPWNYEec2pYqkZGWjzk/FqcbdS8sBRYp9kV0B3JMVuFcbf8AiMv/ANNe1ibG2EdgcefGnyB1HGFfixJ+PpIHla6JmEfrCKJlyc5Fstx7CgHMngmt7kRcR7jT1XLEN7404RAcKNCsiwTBpAXMJLpPDndVRyq8sNeokCBIRSaUxImToPM0sy9XuocE06ewgGL5WCHhWnFD3szB/dMufFxcXQlhy5AgR5mZgy0tLR5mZjk2FBgg4jLhERVlTp9QoZQRqtNnqdvcvfcqUJ/scLsyy/YtFKFtgwS0/wDOI+iS6yxxQ6CVeg44xjMgVKwzCid6wY3jR3hlmIdRfWFOsu4cbe0XFw0GNiCLhiqQqDAhb2LPRoDYQQ+K65eA61xLoHaN3ScjjHCuJKDJ4enmVOBuIU3MzQiweLd/NWNbAdkkDaDUI1ZrQOw9SYowhl/s6Y4S5ej9viVWGu8PYVxHi8X4foNUqcFzd9LQC3TuF2VX1zAuMcNQO+a1hWsSMH444DhDrEPsrpHaJ3RUjgyZPDWFabAno0j4qKZnupGW9jTDhjmJeLhDuoe+aqEtiijwJWTjkMLvuRMmwfZtcUMtKkczwo8OLCCJCNwFrBSK6L7pHZJT6PInjagywSpwiEanLywNhRoZ5YwjpJ36q0bhPDU5jjEtNw9TLZmeL374mH0XRIhdUVQ8yny03VZ4JGmSc1PT5fuaXgFFLzVlEXZJtGhSu/iYGre5zPYPoiTl1BWK5hHub8IycnT5Dfz80LYUtBNsebLozRI0TM1y1fJ91fiXvoIsfD1LKW1QYJxBit6ykaAN0COctHgnAmYWaDGAhIOsJJ3Ls2q4cwn3R2AgqctB71qt0KFNmDZmTmOj4Mi1D81cXxYEzT5mckZ6DupyTilAjweCIBNJUHSihyYCtcqHpS2GsQT1M8JyeHqxNU1pF33LSRRYDQzE7lVeHMOVrGM53rh6jz1TmRuIJYLQ6xZRXYmw+Vi1XueKDTAjHC78lZ+VeGh8Qhc1Y9WNrODthsnJ4Hw9R49TmaZCEZrvYxhQgjNuKJE1RPr8K52HLVaodTw1VZmkVqQj06qyzTiy0bMD8uVU0+mT1cngp9KkJqoz5ZYMpA3pfmrNMRz1Q24bWQOmU3vGcrpQZUYL97uRhjdEIuFty6YqtTwn3OOBZaBIye9jR4u6hAFseoxugbokSJw+aKqUirmP3EdprXjgyeZ14bvJcsOqEjPUWoHT6vITVOnx+BmwISW6y7qbF/fJxfA9A3LnblhObw7x3nLclFquEe6TwPOQKjJ7qNJkMKagndHkYnT73EhxMzVNhxlJyczUJyDKyMtHmpyOTYUtLA6KZcIir6rQa1Q9yVXolRp2/JsLvuVKE8ujM1y9Celqnspx+cCOZlP4bn4ccYwW76H0E4S7Qrq3ulZEcVbHzrMpGOP3nFl6tAvt3Z2l5pKrDjEyGELitAV7XtQxR0yffw4Vr/ee63/fPeUTdbtrnOblXm0ylRcR1Om0eADo1TmocqPbK7zV+j0KcgQJzwPvrIEAYRS7/wBz+9ubwpKQ/NkYoxReNwEvvplDq9aKMNIo9Rqe4bve9IBRWezlc1VVWix8OVysUWOG6jUyciSpBy9BW+aute5XkRw1syrGI5o90FTmok4Rgbf0vAFo9nOSSkOSJmWmafMxpOelo8nOQLYstMA2KBcwkvtw9hyuYsj97Yeok9VjG0u9IDhDtZV7mF6ZH2ybVghzkYx9sU/GnJo9W56HRCEeZot6F0xtP2pSexSkUSg4eokDfT8AilYOWWgwwtuEcxJYczzOx/aNIwjizOCaowbi3LYpeSJOWGDFbFOEYHCjQjaUGMDSDrCS39Su6txPJzkE6nQaPNSHwoSgFAi9knLOtv2BaRj/AGZe6DRQgd/ycqM/CmLRKZl+nNDicRD8xByUhIJWuTqhH1WppaFGnpkJOTlpqcnCyy0sBRYp9kVXHIxhHus52j1um0V2zLUqi9zZstCpxJDez+4h7+ZD3+em4mneaRFSVcs+5JtGaBjgOtsIXZB9Fyxir0ypYcnAk61Sp6mTJZQm4BQn9XSt2xe6qxeUXejRKIMHSBhEIm9Zy3LgDHFD284TmZOsUoCOVIZWoyMbxogJ5YkEiuH0hQcSCvuk6HWKhLd8yNEqk5JuIe+JaViRYX1M1wj+0rMVYe9qGL69h4o29Ckz5QBM8xjp81dcdzcUeLsKgwAjRx385OwrOfxfzkHHdMlpuuTneNIkJqozhfAykAopfmrIZ7ZpjqmS0aZnME1+BLQryPcOYPZW/K5tSwnsDkzwZgujhUalK2zkZ7R3mreRBuiROraKt2d90qOJcTSdDr1HgUw6iW6lZuUjkQhE0jEEvr8SWHKkKPDivbnyknyroLuo8BU+lTlHxfTpbcRp6L3nU2A0TiNdDJvFp6VqvZbgCJtNxjLUgoxwKVAHvqozAZgg9GkeYytQY1SqZU69HOBR6VPVOMOcJSAUVnWJfXVcL4jw9C39Yw3WKdLDnjTEqQwu0S69xntSwvsRp8hQaVSt7P7h0KlyniBCHpiRonN2iWA0Xur4cWcCBiPDECFR4tsU5SOUVg9PFDO0h+upayzuTi/wYQYgnYVbnW+TDXHMLNFb8bE/6hL9C8EUGgYckv72TDwDPTRVOBuTdCDeDdu+W3KvzygO8b91if8AUJVHiyXJ9BEjMoSRYowIRmWkSJUG3vjAAQMo0W0QAHEfVFZNC2bY6mZYI8DBNfKDFFwn3qQvXSGy3B1F2SbNPbnV5AJqtxZDwnORmCUWDD6fe4cN1o2/qrC4/dY1+LMmcphWljLfBBMx4hRW8xDapsNCVCTnKLOd51WQmqdOfEzcAoRecqV2jhXEuHu6RwhP0+p0RszJ+KmpSN40pZ/vcaDEzZlx3iqhzOB69W6DUD3sajzUSAUYNY9GUvJQfDHmQgC6Ibfnr3JHBWLanACZkcH1+PLF8MEkQj5y6M2N7KaNgfC4YzxZBhlWCgd+EczcNOg6RES+EJeLV+64nCnP7i4bgd4DrqMciI+Zo5UsOe6rJVHD0UIVZpU9TDLL33AKE/quXybxdh7Ptr+H9s4xsNYhokAakUIoveMz4+BNw+jNuyzCXR5S552ybMoezDEsGBInHi4eqYlHkDjZoPsZoJFqb+0SWSwV6W5GtSqYFECLEnI/e0nBjzkz8TLAUUvNWS7O8CzO0bFktQYEY4Es0o85MhduYPRmIebpy9C6rrmL8E7AaNLU2Tpu6mYsB0CnSgDv5kej4SNE/wBZaiUrcaVCRqVIF9SptRk4Ja5mViQh8ohXVnck/sJqUTRFrsQf7EV5Uj3VtIqscJPEeGI8rSotsWM8ZkQHmhlmFbdwHhGi4MgRunDpgdEqc54TgBCN0IHi3xfL0qeo4NqH+OqwXFPzH/UJfJHiw4ULeRDbpV1TjjDqFVilf+nJj/qEupNluyTD+AMNe23GYQCqoQO+opzAOhU6HpEYfxi6dRzVLYdxDPQAjy2G63HglcJwZKIQn5q82cGPT5k5Wek5qTmfiZuAUIvOXSdR7rPp75MaZh6PFkBynMTpQiPmaI2rLsL48wbt5pUzR6rSv7pQBKPFpc9cTcpRIMYbi9jzVNkuPvYSF0XWrL9qWz6Y2ZYs8FFGiTVKnIXfVOmTzHD1Qy5hyr7NkmzCZ2n1yNDixokCg0xpT8YPfT9nLBh8xeaKqwwWBvJyP3tLQY81G+JlgKKXmq2ekZmnwgiVCmzUmBa5uVIR8ohXXGJtpGBdh4+1yg0QItVARdIyLR3P3aMVzl5tD7prD2IZzwZiWiR6dLTnit9MGM5A+rpiOyipspynCY0ChsYXAm6q3zt52LU7DlKPF2FZYJWTgN7/AKdB963Z/DQ+X64rUGCcKx8e4vo+HJWMcI54vGxg+BggLoheSlh4UKKUzM97QAOPM/EwQIi8kV9keRqcjDOLM0qqQII5o0aViCIdpq64xLjHCHc+Uym0ij4edOTkLewoMEBGLGHot3kaMV31SWNUzurJGcnIMCs4empOQi2xYwTW/EOtDLMKDmCFHGOLhNwciZdH7fNk1KiYVjY9wvJwIRyow4853oDYE5Ln8I3K4XadK5uEtSoPoXzT0eBAgRhM2m0mr6FsLZFtIpGzKoYhnqvR49TCelYcKFuQhlufYJxZ/roOgo85uu5nMSjWDhYR+UVxlCmYEWWbDOGTR0dVd61XE8jTcCxsVzMgZUqFIw54pEAF27PS3KuWtsm0Sh7RCo8Wi0c6YFOhRhi76BDhb5/UUxG98JFuO54ppcOG4hD/ADuXG0tMhuoMMbozRsC4vNXa+F6Kda2I0Giwo24jT1EhwBjZmPdpWIFjvZtsPLwBQaac5UpVox40oAkTtW8jFq5Ryp04jl2JH6IAujwY8AOONAIR85WCT7hXYuDtreGNqkWZocWQPvndFFKnVGAJDGh9GZpZVz3tn2fQNn2MQh00DGg1aFv5MPiS+Eh9Uf2kjIq8PA+0iobMKhP1GmBIlMz0AZUu+wcLegnWr5sY44nNoleOvTwSozJQhgMlLYVgra3cwSMrOVfGffchKzRwpOXb3xAGKz2SLK72WrDtu8CWgbW63DlJaBKywwJfxMEBhD73wig13FIYQuI1WMfeiBQ4JkHIBF81dCbFNkVImcPBjXF0sEcI8IpqVl5j3iWgh8NEHV7K9yP3TWHpOKcCmUGozUhCthRgCDAE+qPClhzBv4e93b2xuA7ST6V1xTJnAXdB0qchTNNAZ+BaYGAwpuW9nLEEhzLl7FmE57A+KKlh6pPKNIxWjGy76H03CX84qoyHlIVbkLQyqizcLeboTdGzMBZzsw2aTm0urmJGcCgyBj31MBmMunLDHmW+6vizZ5sRGDRqfSgKfEbpaUgDFigPT8ZELUssOSe+YcK6L4p3x1vpK9wttXU1K24YFxfMhSK1Su9Qmi3Q+EZWHFhH7PMOVa+2ybGJbCEnGxLhoDhUqETZyRzbkenLEh8qWGmopCNxKqHMwo/vRhFWSYCloU9tBwrLRYIRZaLUYYlBO4THmXTmPdkmHsWVCmxZmDI0yiUmLGiz5ywDAKND6cokQ2iKWHHJVCWEmlGB6uhTkKKTYZgS6bgbXdluE4Xgqi004sGBa+Up4kJ9oriWTzmGsD7ZMNBNy0tKkEdwwJ6XgDAjy0Tmbw/tiSWHITkKyep81RarP0qetnJGOUCL1uhZ/sk2RRdpEc6lUTiSuG4RlCHc++zcTozCPCPR+2S0azKelhJpRgemhTkCOTYcYF1RUMX7MtlpeB5GQgRZmETIsGUkhjkH3SIXs3J6fVdmm2TfUiLTZXv8RcMGNKjLRzHihkKyw5bSrMdpuzmLs3rEEAmTmqJPu7zmD98AujNDic3RxLDLtS1BkJUIGW6+5shCVTxhMl8FJwR+UlpJb47meF4rG0XR+lR9IlklxbnLNajrJQUrQjnXKHaSTlluSvQISFNrrVCAItQqtxJkpIEhERC0waY5gzKU9yRBObmSkXCmuSmgrenSZbU6II9Qo5lIoC3KltQWVK5AyX6iEIsJUxJSQIVpJsyhBIEijc4tKLiFMahAmhHKh6CFB9aEulMsUE1yVHVQNqchyEIJ5VKVMgjlR1kGpQCEKNCCVA8KlT1VIMxZGo1qEyJCgEuZSgZMlQgZHLrUZlCCxKlU6EBmJOJWpRUuQTquWhe6MhD4fwxH4pCIPkxHLey0p3R8J/Rg8+IpgfRQk00ptBIkJzXKkM1wPtNrOBTMJXdzVNik6LKRuLlLSt1U/ugMLzktu54J6Rc1wRoG9heasIxRsKlqLgyZxDSq3PT8zClRmu9o0AWmNpENvKtMwo4xxCIB2FlUrdWxJHZxjqwYNAnjLgbCi/V+RYzifucaXFh72gTMelTLXCEwe/gH85c8FAhlov41uXYfjOqjiGDhqZnDj02chRChBGN25IBda5BqOqyM9QZycp1RltxPypNKD6JCWoS/aXVUnHDZ9smCalgb3jTu+v6QxzF2lrPujKfAGew9UIcFsaagRoEUw1iFw/ItlYsH2x7HZ8ZHxpzVEhtZrIBy+ag5QdEmYpzMyZxZmP42KZ5jLpuXo0OtTeHKnLVeRM4UzKlvXhrHo0l1l5MtH38AD4hcrSJon1UHUe1umwMX7MpmpQ4LDhSsOpyvIWYhXLAxRIQIdS64q7qfsfjDHBpwMP7og/3w1yJJi2WgjwiKC/WvspkXcVCTicEeH6Qr4ldLEQxYJcJCXnKuo6Y7ocd7s+jRB01GXL5VzTLRdxHgxOGKJfIQrpzbu2LspnzHilYvnCuXN7nLl/IpHYO1yvTeHMCV6oyJtmd1DhCfA9orj2XEh6M7zPXxrqjbO6Z2TVgy+IlYpeauWQJoJFLc3c8VCLCxLVZN/wClo8hv2fbAK1eFt/gDA2l70c85ToMUut0EQq7YDFbj0x+NkJgfRJfT3Qw/36USKWqmN+SMipNkdz1FdgxuiFViIfJFc7VMu88Y1uJ8RWJguz0RnLe/c+TJe1qqwtYz4+itI4zhFCx/iqAAOMqtGEQD/WSDqjHFDldreB5mBTp9stPFDmoExmYQaS/9VzjWtk2OKDHPeUQ5yWH90SJ70fJzKqmVfHGzlkUAqlHlosVohMQPFHE4Wks4pXdGVUSCFVaJKzgao0se6LzlIwug7UsVbOZWNTJUIcrv4u93NRlSc7lWERY5TMeZmorN9HilFJlou6SdaK60oOJsJ7YKVOU+PIb04Qujyk2FwDxCXqrmfHWFwwPjGq0GBG3stAIYsAzzbs8olzdCoeHpaghcLUrkziaqHYmAKgUpskolQH36VkYhD2HLjsZmPUIkaoTZ72ZmiKLFM8xl0kus9m7Y+xiQgFc6QnYXpLkWnkPecF3aXOKm9O5sitxDiGE/32nCTOboiLyu6HqEzNY/k6eRuk5OQhxRg8BGVyt7nMi9vs/CfmpkT8RCvk7ooW7S5OIPwtMg/iIkS1zJxSgTktEE74UUSE/9xLqDugIXfOyufIfgosrH+Ulyq4hIOU11btp/TOySt/8ACypfIQoOasJ4qmsGV6Wr0iEA5yVcULvm4fqi25e9WqrjbbTUJao+BI893rC3ULvSDuoX1SdmJfTsYwXI4xxmyqhvabTpUpwpb44ui2GJcrv1VuXapti9z6ZlqDSKbAiz5QN6b7YEEenK0RRTT0jsP2gzn+Z5WV/4iaEfRXSeDMKzODsCS1Bm5kJmNKwozjg5XdLiaLtIrmuZ2646mbRqoSYfySVEfS9lb52KTM9U9nMhN1KNHmpmcjzBb6ZNxRhdmQcfyJNkwHhcxdgYFLe7DabD/wBkzEL/AKi5Bkx8Q0tMWIPnEuu9lpDM7HaVC+1TULziVDkCRtkYPVFdjbCov+C2iRCu3HfRM6hLjmT/AFsHa/ES642DE7ZbBhcMedH5RU9Ry3U61OYjrE/WqgbpycjxC6gutHqivY2fRd1j3DZ/y+GsVhOA40PhixB84l7uDCbjHD3LPwfSVJi333UI/wB7mHonxVYjD8sNc5wIsSBFgx4EY4UaE0hMLSAujUuk+6hF2DqaX+2/yw1zOO8JkOGBxY0UhGEAZjLpyipU63wLi+nbW8GTNKqoQ4tVhQN1UZc/hh6bRjD1vNJGI69SNhWzmTp9MB8yDoUhBPNGjaohdXN0pNn2EpHY/gWcqdZMBqRQu+qjM8HDBH0esra5SKHtw2dwY8mbYxCUWTjHmk5jo0l/6oORosePOR40zMxjjzMciixYx5jLp1ITz0jOUioTNMqUscrPyZbqPBPQXql+0qhVJO65bU7nWKI7VJb/AICcH+zWqLWLZfc/k3atSuaBMD/ZqZDKu6hqcfw5hWkEf6ThSZTTOOJ0k13krR4kxbm7qEf77MNxeKnEPyRFphUOsO5/qEtJ7LZApyZCBLDUZuE+MdoZVzThekQqxjqlUaJbBj1jdF9z3hF+NdK9zcyPs5ZFAIoeFJhwGDhyiudMPT0Kh7RpCeisGDI10i6g9ERSOpdt2Gq/jbDEah4cOVhHHnB76CZj7odyGUfKWiP0Oe0EcvgTsTv5q3ht5q9aoODDquHJ+PLRpacGLHjQWl+lz1E7SucR2xY704qnv7P1UiNn7NNjePcHY4pVcmfA/ecB0KaCDOuI4fSPDqT91RSghDg+ql7946TLqtcK13Q9om0vEtck6LSMSVGPUpwmwg8WI/UzERNtFPtUp+0SlDR4GPaqE4EciKTghNQ4rC6MxWj0INw9y4QxcHVWEWTwx+WGufdo1Xma9tExPOThvMZwoA8kMLRFb37lmK3DVe5anDL5Ya0BjMd1jrFQ8NRjekqHo7LaRArW0vCVPmQApY5wYpAetly6a24YQr+0aiy1Ioc5IwIIzm/mjmzaJ+x72Nq5i2aVWHQ9omG6hFNsGFOCJGfCdq6I7oCp4hw9hqWrFDqU9J96zjZw5Yx97PKXlKVeLVv6GfHA/wCcsO/f4nqrNtlexjGeBcZydamalR4sgMKJAmoMscRxwzHmHSVy017q2OCH9mFY+/j6q9PDmKtpeNq9BodGxVUYs/FEovjpoRhAPRqIm2iiWcd1bTxhVfCVSynFgTEqXOIEJD6S0G5ZvtUo+OKDUKJJ44rAVGZKAUeVAJrf7mG5paehrlhHSqChnXRncpFdjYde6lfSJc5hnW/+5ZikM9jOH/JZf/qKepFg236eOobYK8MXJJwpeBCDSA9ENa5itKAa2Bt3hN2yYqbxQS+WGK1/F96MlQ7M6RGe7nKWddvcOk7q3LjKkz0SRGTnAjbqNAbFGNwF0al2bQvG9zzTRL+Lcb5y5l2GYckcWbQcM02oA+QESmosHM/di4RLtKYnkySRwTtS2uy0tPT0aai0qEToExWppsL6uYoY5iWU0/uUsRzj+/sVU6AA65SViRfS9hZl3QG1StYKCiUqgn3rOVMIkUpswcUGH0WiMMeJc21PF+I60/wjiGqTTrr5ohHzfYQdl7J8D0rZ5TTpFPrHhUzmhizkUzH3zK1o5bVxViyA7FGJ4Gjv6YHzl053LNMjwMHT9QjwTGDUam6AZ6x6Ba7ylzVjMt1jPE48NTjfjJIjq/ZptEw1tIwLJ4Yqpyoz4yoyc5IzZtGZHoFroZF9BWC4h7leC4zoGJI8iBHbKVGDv4Yf0g3LXOPdh+Jdn2GgxDU5yjzkg6G4JEyKKAnlK4cvMvBoe0HFuHGBTMSVGBBhZYL96Pkn7KDIq5sd2jYHgRpqBLHOS3wsxQ5onN6OKGPsE1az35TkU5mJGOPGilccYyIjLmdcuqtim2Ss44rkbD1cCBFnxgd9QJ6WDdEfsFcJCtP90HQ5Og7WakMjB3UGegQZyKAZQiHm8rMqiNcKQSKQVDqPuTidhrEglqqcH/prQG0H/KTjP/xaY9Jb57kuKI0XEI/7Rgl/ZrQ20SzaZjMf9rTHpLnEk3z3Jn7HMbDxT8l6JLSm1+ciT21rGcWKe93U4MAX6BARFq3R3Jxf3DxmP8vkPRJaP2n/AOVHG3B4TieiKqJLkxGoNKTmXcJLtTakAzPc/VIv/wCOy8X5BFcVTxfpON1SXaePS3vc+VL/AP1iCXminkS4uZdjtu1nAx/7Rh+it091pUZmFSMNU0D/AEnNT8xFihxkGVaR2Pk7algP/j4PorcXdbD+lMEmOqcmvRU+R14ubugrF23sNkxpWxbDYywNjTUrEjkZ/HRHNLsriL9q1dqbBqnLYh2O0qRE/HScCNTo/IVzfSSQ1lC7kLEDXRMYSu+ikUUz8HxCu6buJEXuQK1MwjhFjCVJ3+y4nrLSU9PYhoNTn6NUKlVIE/TopQIod+xP2i62VUxcR1eELirFUfwBOxHGXDmQdw1rC85LbFqrRaqfhGZlaPGgRYwAQibBtK65aD7kSnw5nEOJKhED9MwKZBgQj4N4V3or4a/saxrQcBzOKqvjMIEtCkxjxacceZKLflh5muLKvq7lCtQJHFlbpEW2NVpESlfukMnEPkknieTYe03YNVdp+LPDspieBJycKBDlYUucqUVghmL+cliI9yPWcpYwgf1XE9ZeP3ScCr0HHstU4E5PQKVWJUd1uZqJCHfQ7YgkIk12pakGuVX+GKp+GxPWQdj7G9klX2VjWIUzWwqctPFDiiAQChMiBbqXMG3enhTds+MIEIN0BTQx/Lhi4v517mzLZbi/apT5yoSeJ49Ok4EUYEKNNzUYu+S1NaWla5xLInTMR1inx6kFTjSc0UqU8BkQxmW2kV3KqiPOBSlUu85U12v3PU0UnsPwxHh54Az5D/NEJcTQZqJPFMzkczKNNRYkWKZ6y6SJdn7AS/wEUTlgVH0iXE9PL9KgPOXpEucWyb37lKWhR9pdVnIuenUmIULrGTfRXz91DWos9tQlqaRxAlqZTobQ5juIlX3MFXgU/alGk45gPhinRIEIzP4TouEV9vdU4ej0/GlHxGz9IVaTGVfwRoentCqTJpHo/UW6u5UnI8LaRVZOEZjBnKTEKKHMBWktJ9H6jl0N3KGHJmPV8SYoY2WhQBpkDnidJOifIpkqLHO6fgQx2pS0UQh/pyjwSi8/sOH0VufY3PQtoOwaWosye9jSsKYokf8AmEt36QLQvdD1+DXtrM5DlDdBpMnBkH83Rm85Zb3KGISkcVV7D0SM2DUYAz8APt0G0vKFVJMWK9zPQYtQ2s03fg72uwo01F+6dHiofnLb8DHvfPdWzNIhRv0hFpfgezXGAd76T1kuzfCELA+Ntp1eKCECTj1EYsI8viQh70ruFy46lsWTMDF4YzEzGZGreE3hm98d6KkbF7pqilRdp8zPSzy8PycOOIfbujxRD5S3LtPijsw7nyDQZY91MxZOXo8LrHdGL017e1/BkDGuI9nVRhQd/LSNW38Xh71Md75O8Fal7rHEpT2KqJhyHb4OgFOR/ukTL8goNVbN8X+53jag4jCW38GnEQRYPHDMd3EbzN/UXWtTpGzvb5RZPdT/AH5uCdCODH3U9J+zpaXorlLZvs5ntqVfmaLT6rI06ZgSpTj5kCITECaQi1fNjrBlS2a4xOhzk4EeZGBDmoU9KOhDGHp4dVpWoNw17uS6jKmZUXFoHd7zVpUg84FqLF+AsX7OxCFiGQjyshF8UMzLxyiyx+zpcOV3CS9Gh7YseYaKD3jieaiy0L9zTfj4R+Vd5y6qwnWpbbFsiOp1WmwIUtVpWahR5YDcLobhcPDxdCWHDakF8VOilFlgIj0/kX1mugIpAMLeRDaAi562th3ZRtK2lU2WmJmZjwKPFaUCNXJqJ47hIYObtLGNk1AlcUbTcK0qeB0gUcosUOMYYuauhe6O2kV7B1KoMnRpnvGcrRxCizwe+hDh2jDhuyqZDF5TuR54WFVcZgAfySSb6ZLZ+ynAWHtm8KpSNFrB1WpRY8Mp6McYSIByiLQtFcaVCuVOoDvKhWKjNf8AEzUQvnLoruUqRMyuGq9WIkFknU5yGMA+MYeYuq5SppjbDdtgxyX+0y+aum+5jis2PyDtM1NRfkIiXL+1gnbXcbF/tMvmrp3ubCbsdpv3WcL0k6pjxcbFMnOTk5NxTdGjx4kUjPX7JEvQoMUhxHQSHP4Rly7W8FeJLZTLmL0l69B/ZDQf+Pl/+oKqRF1n3V7YuzeCQ/w3L+jEXkdydTIULCtbqcP9cz1WGVI+CHDEbfKJeh3VRN2fQR/27B9GIvI7lWrgWFcQ0gT/AE5J1MZ9n2uII3eUKzxGhNpFaj17aJiqemTcff8AEgDyQwJoj5qxrNmWWbXaBHwrtUxPIxwYE1HKoyp8cGNdb2lhkeKMCEZlaAqh2Z3MlQjTmyWQgRjd4OnJyBC5IfRcI+cuMoBZ79RekS7a2CYamsJ7MqVAngZOTnfFRKCeYN5lEuyuJZYnQndb0iWdOJ5Ll88eEMWAYFqFquSCJRYsGEJgJxYownnlD2Sa4lQ7N2W7RsObTcEyeHKvGkRqsKTGnT9Omz3QzMPoFolD4vZHzlg+Ie5LAXxcPYkjycEnbqXqMDej1d4K1ftG2G4h2ZUwKrValRJ6TGOMB8icR0H2cpXD0WrwcPbSMY4XIPBGJ6jAgjbuTPewvJP2VzGR1fY7tLwJCjVCBJx48nlizdDnSy9HFDEugrViWFYftpxnh6Wmo0SP4RqcEIsaMbiP2CdcRdVdLbD9tNVx1U6lRa5LQCqsCAM1CnpYGvHKQkPEtZbUpOlYH7oqQnJYNxTSnJKpxwDKBRLYjfSQbR7qOtR6ZgKTp8CNugq1W3UUOOHDFzVyYWVvEur+6opEWo4FCelQ3oUWojHi/c4lrlybaQpEexhOpzNFxjhielo26mYFTl2n/vJpD/OJLpvur5aFF2dSccg8dJ1iHuuQTEhJc97K8PRcWbSsN0+F7zKxxn5o+CDDu/GVq3b3Vdchjh+iUN/jpycKcPkhwxaPlESeRJzI8VPSotG1KK6IdPdydSAGi4krBB46cn4cmJ/awF3pEtH7UsQzOJdpGJ56Z0zRSsIOCHDtEVvXuV6rCLCGJKa/9MydTGaZ9riQ83lCtGbW6HHw5tPxVJx4LQjzhTkDngxLhUxWxEmkNy6/7mioTNQ2ZScpFMy7xn5iVhckP3wRXHpEMKEZFkBdk9z3RprDWzCQ7+gnCmZ6LGqbDzBDMS3fmpIcw7OaVCxDtSw3To4AUGarBRYr8piBEfzVvjuo8Qx5bCtEpkI2hWpyJHmg44cMXD5y0XskqsKkbVsJT0z7yNRiQiPKzeOEblunuqKLMlhrD1Xhg6Wpk1ElZrk3mUuq5PIc1dZZVswqsei7TcJTcA2n34MAucYlpCsTda0lnmxGhliHapQYTP0tTiKox+QQy+ckhuDuqpGEWF8MTZB46TqcSAJ/a+kbhWVdz5TCoeySjzMAP05U95OFlviXDD7KwXuo6uHeeGKCRgcyUeJPxQ4B6bR8pZ1sNmSq+x/DYQD8dAgRpDqROgiakv8Aoaanu5u2iT0/OVCanKAUzNRSixTOaJxl0lqtXzF3MuP4otKNh0gK39dF6qxmJtU2iSc1MycfGFYhTMnFKBFgmY2F0F1VMXbFj2BCM4mMKiwbtPqoRdXUijVWW2SHQcQgEeflaJGk4+5Nwn7EMm3eQuSti2L5PA+OKDWanbIbqJJx43xIxBbvP5i/VWw5mW25wMIRsTTOIY8Cid599Rd9Owxi7np0lDbmLhWssGYAxBtBjz8LD8tKxTkYQxYvfE0MK0+sg6m2l7LabtdkabUpWq7iZlRbK1SU8fCOD03NIfOWjKr3OePKYMbvPwXWoI5dzH3UUx6prDN/i3ZbiGfpECpTVHqUnFHfwZSO6B9UXCXCThWdUXujsZ08g8KhJVqDqCMG6i9kh1IMKquKMcUGW9qtaqVfkZbdbjwXPG2EcPhFw3D2liq7LxLDo+1/ZFOVA4MQJaPTolRlTig6LKRIYkVvaFq4vlou/gARahEkiL3Kmctk5kuVWKqcuk4w8QqmuydoBbjufKkJacPyQ/K1cczMT9Jxm8JLsHa0W42I1WF/suSH5Grjme/Wcz1SSPFvk7VhVOJhzYfLVOFbGk8NwyhdbpFori+XduRdcZC8j5uldf4zbK9z/OQyzjQpeF8oiuQIXvIpHinybB2H27XcKt+NjCfV3ZLYHdT3Fgkiztm1gewgd7tgw2PD3wXyQ1nXdSE+cwZD4YUx6SR5EuKO5e/X2NS44UpC9JYBttijM7V8VO0lDhfJDFbI7l6F4jGcXXv5QfNWq9sUf/Cli0uGcEfNEVMfIdIbH69R8a7L5CjP/TMjIeDKjKPbFAcrh5ekbuglqKvdzVX6fHP2v1WRqMs5sKXmHQI/VdlWFV7ZzjjAEsFcqdKj0qDCKGAzcGaFwEeXKvZpW3fHdMEIcWqwKnLD8DPQB9IbkiPE7xx/smqB1UabUaPGaUApsAGPCMet9UV4VexLUMX1DwvVZw5yfigIlGPh6MuVdQ7Mts8ttBmZmizNN7xqsKVKPuQ8bAmR6MzeH2FpPbrhGQwjtBZSoIQJOqyYz3e4WjBidJNJv+/MqiNcWpYpNhGXDcm+clii6BGHW0moh1/spk4GBdj8hPEF/ecSrRecjuu7LFyRM1WZrk5M1OcN0zPRSjxet03Lruij7Y9hVNlpHxpzWHdwLOIBJ3nC1cbyxOloJMba1THitfH8fCMCyEuwsATxYv2N00qj485qmRIEd+tjh9Fi44jluoRkIOPSC7EoMD3O9jEsM54o6dSSKL90MXN8olvkOZ9k0L/CRg+GOmf9By3b3S2I48jh+m0qVNoVOaiFFPjhhlHylqDYtAKLtUwlDL42JF7W7Iln3dNEPs4LH7VNl5y2PIk0cNsJoroHuYo5eDMYCJ2d+S5D1ukblz05dD9zLA/uHiQh1VGD6KmQ1Ntg3kfafi3dZ48/uh63S0V09PUqoYT2b+A8Ky29qsrIjKwAC18Tpa4ncWdctbQY4+6JXpkskKsCRHy9EQV1LtTrdTw/gqsVqinDCckxhxwM4O8Hdlmt6q3yHNnuN7Rr/wC9gyMs5nNQ7/OX1UzZNtLpVTkKlAwxHCNJxxjiYTUMmewV2rhVobecdELu/KcQf8EPrKyFt6x6UWDAhRpGLGjxRhQgCSuMunKIrRtvb9Jw6hstnJwwacnOSseFxAXSTSFcrlwram0HFG1SPhw6fjOld40ecjwxecqMJ8QLhFwktVLUJBSodaoQNmW/e5uHdUPGEUtU1KwvkGItA3LoXuc2nhPEJjqqYj8kNZJcW13lwIH81Ok0LQFwqCSlxIQTzKCtFVu7KOZAEYubwoJLqch1vVQS1K5qHoa67hRCEqm0ciXMgi7MjSmSFwoJc25KhCA6yruFNbqQ1AIStTIsOSkpuS9ZBCjq6lCl6BcqlCjlQLaIqUJkF31UyrEnJnNWKMjMlGKPAmQNqRlFyVqbS1Aygc6RMgZKo5kXNQMahRzKWkgEOFKhyB3CXaR5ylCkT1lKS5ydEo6qlCVAyFD1KAQhCAQhTmJBC093RouomGIvxU/GD5YYrcGVat7oOA7A1Nj64VWH8YkhJz69MLfKSKeVUOidi20SRqFGg4XqcYBn5MWwDjZY0Hh63QvGxf3PEWFHjTeE5wBgxSd4Om7Wez8XE4estI2l1x4FmND2rYvoMAJaVrBxYI5Qmw3qmo9MdhGOCJpBSx5zmltjZ3snk8BEdYqE+E5Ut0Q98ZYUsPTma7661XF29Y2ii0ZmnQucJVYniPGNexZ/jeqzU1BL4HLC8kUGTbW8eymMcQy0KmG6m0wShQj+OidOYhWfbDdoMmUjBwzUo26nIREcmcbKY9OaGufBEYVqkXCQENp8aoboxf3P9WGqxpvCsaVjyc0ZF3pMHuig+zdaWVqME7Aa4ValpvEpyMCQgEMXvaXPexY3saeFYbSNreNaLJ96QKrvYI5QmYAxWdpTU9sGNqrAOWOsbgCzd6QBhF5SkbF2/Y6hd5+1WTjAUzHijFnGfAw+jLD/AJ1oO5vOoa4jIrjLMZ3EasVCDyp3NypNClB1xV6RD2l7Mgk5OZCEFRk4JDGY4QiBpLtLmnHWBans+nJaTqsaVixpqAUcTlsv1LVRQ8Y4hw5AOBRqrNScGLcQQcvnKitYhrOJZmDHrFSjz0aFC3QHG0D06RUjpraRAOZ2N1gyA2FSZcns+s1coDcIL2pnFmIZ6n+D5uvVGPIM3Xehx/FN4WrxWCg2XsGIvdIkxHVAmB81e33R0pEgVrCsWIEQd7JzA3hwxBJalp9QmqVMhM0+ZjyszCuGNBNpB2k1TrVVrkUItVqU1PRoVonMG5goN9dziJzNKxCEMDJk1BLzVqTaNvJPalieINsaFUd+L+LpESXh0yvVWijGGmVKek97773vH3T/AGOJfPMzkzPTMabnJmPHmYtxRoxuI+sSDquZGnbdcDmJzhhOFu4sUANxS0wGpvCtPxe56xpAjnDhTNHjgJME9+Q29Va8pVXqFFnIM5TpyPJzI64JrLoW2fHUKFu/Dx9c4AkSDdezTZzD2ZSdSrNaqsApyLAbHMLYEGHmK4sxLnraDiWBjPHFVrkqDZOO2FA+5wxaJfzr5MR4sr2LC/uzVZqeAdBm2F5IrxkiBP1UuhGtUOudjcKLM7LaaO5Mg/TEKwPruXIMmLYBjzF+Il6kCtVWTgbiVqs9KwRdZBmiEfq8or4IVotFTEbd7nUSLaJ4sHOkJjJ2Ud0nLHCx1RDigYupw+kS1VLTkzJxd5KRo8CNlfBMhLyhUTMzNzxAc5OTU0Y2iczGKKzykFZZnLrjaXLRZnYtWIrDZ4MgkXmrkVfXHqc9HhbiPPz0WCVm5OaIhb0crkGbbG8Zy2DsXhHnjbTZ6F3rNHwezlLsktzbT9j8PaNNS1cpM+ECpbrdd8e+QI0PS5v1lyz1V7VMxfiGhwNxTK3UZOCVzIMe1yVU29SO5qGVjnOYsxJAGlQLiCWDdP6xGts4Lxfh7EcScpWFwhjJ0dsCAAZTh8UPiFcg1fEdcxCIQ6rWJ6egjomY7h8lfJJz01Ty3krMx4EbK+CbS81BmO0vZbUNmE5JlMz8CalqnFjFAYBDFAei64e0t37BqvLVfA8GiiYd/wBOixnQX3HDO5wrmGcqE9U5kI9Qn5qcjCLROYjkTBSwpyLLE6BGjwI3HBNpeUKJbR2m7Dw2b4c8OS1bOZlos4MAZSNAaQDELi1ewtt9z1COZ2cgI/wjMCX84rlWZnp6eEBnJ+amgG8QmY5EqN/FEWBGjgDnMCOQ+iSmoWOO6nJ8eGajf9Ql6eGiIcUUeIP2ZB9JeSINtTi4ScKodUd0/CEMBwcj/DEEhYYk8WrEO542YFVZ7251MA72k4radBjGI76JlKJ2f2loSK+KXjDMuuZErN6ZiEN8dg5WGQsRTcvdB7RPDlaDCdNjOptOiunIwH79McPVD0l4WyLaR7Ra4ycP+4NRbCmvtJaYn837fKtZCIjaKtFKpdP7ddlYYlpUbFVIjSp1inQN7FAI4tnJfou4swjd0Ll4ScLkpwhLMHpJkDcq2JsIijC2rUEyMBDxzjM2j72S1ymzIN3d1Du4uIcKxIUaBFDvWN7yYl8IPCtJlaKpaIk4FYg6m7mqcgQsCzkKLOSsAxqZNCNHES+rDHiXNWIRh+2XEMMTAg8IxrwuHNpXmEIENwOagRGHaNqmo6X2W7W6RXKHBwvi04EKMMDvUY0z71OQ8rYhaSSzfcs0iPHfTMQ1GTkDuCDuIcyPZicK5ucwV9Q1WegQt1Cn5qEAjkCOQiHnJUdVUHCuA9g0jGqVQqrqlHFkWbmDEo5j8XBhjlcucdomNpvaNiqNXI4HAk4Q7iTlH+8w/WJYzFIo8XexTOLG4zNxecgTIVQ6P7mCek5Og4nhzk/KyplPy5CEzHGE8W3NctH4/KGW0bFpQjhxYJVGI04JuE+0seiiEcbgQIiItFKhmiumtnO1+h4qoPtZxwcCFGKF3rvpj3ibh8xaSXMuVO9KjpWa7l7DU1HOLTsQ1STkyuhQQOHHEOqRFlWQU2Fs+2A0WcLv8CqUf30zMY89N8tuUVyZv48IWhMxxDgAyb6S+bcAROLOWtT7D3sZ4vqGP8UTmIaiG6jTTRhS73DBh9GWGvBElYlVCQJbx7mer02kVfE51GflZGDHk4YwjmY4whMuiJpctG/VRaQ3ABde5TKJFnu22clahtexDMyMzAmpOKMFsaWNwn7EPiWCZhNKMIRyg1WCKodYYcxZh+T2CycpM16lwp+FQo0ApQ5od7vOkiaLVzHgDFE5gWvUSvSIOjSLXBxj0i0h/nXj7gCuIA8hWsSo7GqUtgDbzQ5Z04BHCJwsjjAm5QunTcsRi7EdluB2VPFGIY89JwssvMzQiJl1QuJczk4tCXdC5xApqOt8GbfsPVfEszRYEEKLQYUKGFMjRvFCZdGkuH/UtXbfsAYYw5F8OUisb+pV2fiFHlAmocWEA9I3ELbsy07mExY9V97AJOhg3qAlR09s32v4exVhCDhLGcaBCnBgd4Pm/eJ6Hpu0l0Jovcz4KmYoRZHEM9KyxE7cwZqHFEB5SK5cxtLgd2ErS5w6hkKodd0yBsu2B0+ZmYU+EepTVpHv9/PTI9GkW2iuXcY4snMe4qquI6gG6jT0W2X0wYfRaI/zCvDGAI3MzJ2kghRchpKxhcCDdPc2bQaRg6q1imVyZCRlqnu4sCbPKEQLWlwuHUsn2xYX2VxaDiHFUtVZEsVRQ3sDvSoe/RrfgxzLm1vJERuBdbB8xKjfncz4xoGGpPFUKvVuRphzUeSKF32bXsc5q1RtGqEnVdomLZ6nzMOakJqfIoEaDlMW5ljW6If+xNui0gg+accUtGEb3CutMX7QcITWw2ZpULE9Li1gsOw4HegH43edAjb1lykUKJwKxpENweYgyHZlUJSkbQcGT09MhKycnPwYseMeUBbqW1u6YxjhrFUnhWFQa9I1ONLTkxFihKGRMHpG1y0Jui4DTEJFcxAoLPNle0+e2ZVeNEGD3zRJ9vfkoGb6mWJD5hWBsLgTMLgiJUdaVekbIttpBVYtSgDUmiBTITXekz1YglmRSMBbIdlc4FemarAmpmBdCOenRmSAuWGOpcklLCROKC7sIGA0nADewlRtnbdtnibTYsGkUqDHgYblYu/I43vs5G4iHSPR+0K1tSKrOUGqydVpkbcT8nFGLAjcBdC+EhiOcxDYnAaDrOnbVMBbYsOeAcYhKyM/Fa6Xm7YW8+MgxtJLzw2FbIZGJv5mtugwrtzGrQ7o/JuJcvbqIQtYq+8x1S0PyFNR01j/AG/Yfw5hw8MbOwCLG3W4GbghupaTHpzbviJcxwoW6Fr3ddWEMTgNDC4FQhCfdFwJd0XAaodTbFtpGDMPbG5CkVnE8jI1WBCnROUjOdeRN0rlCRFsDtF6S+sRiDbel3R8CmMRbJz0zTJ6WnpGNuJyVijFhRuAuhdY4e2wYF2s4eCg42CVk5+K3fy03bAjF0fCQYmlcl7qIWhBQohC1KlnUcXuf9kUIt6VbPciTmeGh3TeHiT4v25YSwBhcKBs+CVjz8Id1C72D9LSfs6nF74S5V72H4nzExDE4EBvTixY0eKe9jRyI4pnmMunUvewFiX2nY9w9Xi95k5rx/3E/FxPWXg7ouA0bguBKjrbaztiwiWz3E8rhzE8jPVWehd6wIMFzmxCbELL+0K5E3X6W3WhrVbuojdaGmWhKjrPZFtkwn7n1EkcR4qlZGqyY95xYMy5xwwylbyrmrHuJTxnj/EOICN0Gemi3H3Hoth+avDGEY6DUbouCIlR6+EcVT2BcVU3ENPDexpMidBe3fQ+m0h/nFdW1CqbJtvVIlvCc5KhOSwuhb6N3pNy5dOYRLUK46YXAl3RFmg5UqOpoXc/7K6ZFCZnsQ9+Swl7zM1eHChGPM25edtW214epmE42DsAHAII8LvUpuUBsCWh6hh8RdK5oKA79zeYmGFE4EqFhQhhC0U6dsTgRui4FQ+zD1enMJ4hpVep368pkcY4hx+xmHtCuuouI9mm3fC4StQmZWEfv5yk3G72mZGJ9rL6OXHO6PgS97OzwXdhTUdNRdluxHA5QarWax39BhZZaYqG/eX3MMy9LCvdGYfq+Lo1HOWgUDCowBhUyLGBvjOgvhG2wxL9pcpjA3ROCC1G6iG+w0qN6d0LhrAssUbFFDr0OcxJWKmJzUvBnRiwwhtuJo5blmWwbaJg7D2y2Qp1XxPTpGpQu/XS8YyEge5unUuVxliHLB8xWCJjleKVCyNPi7gOsXpL7qRu5OvUSZjnDhS0CflyimeUB6IgkRL4Wn9sRuiK1hquo6a7pDHGF8WYJlpOg4hp1TnPDEOOUGWO7dtiXLRWBcY1PZziiWr1PCHHaO6mpYztmYPTmH53QsabEHjTNicBqa9tR2NUIuzDugKRBGZmYHfkqNoRo3e09KezpEizCsa9ynZDstjhXq5WDqO4ugS83OjH8Z0cMMMxdZctbre++QXJggCNwwWpUdm4H24YcxVI1ipVesU6ixu+o0KTkZg2xdz0DaRcxLi2Tk4sKWBwai9JPuiLRem8YOZ6oV5UkWEMWEcPiVrC4IiN0fAg6q2e7W8K7RsGQcKY4OVhVXcd6xwnrYE2I2jEhxNJNXwxe5cwZFI4knieqQJYrhghNQIogPKRLmIoT7Sgu64KRhDpAx5HkpHXUnF2abAaZOd7TIR6lHESIAj98zc4XRlFw2iK5axZiGcxxXqrXKqEPvmok4gDKA6RH/cK8rdCNwg1DSQdL7JNutGqtDg4XxxGgQJyFC7zGbmw/S09ByticJNXoTPcvYHno5zcjXp6Rk4twy8vOwYsIOqRE5crEJFaxAwmC0QNnBclR15T/c07nymTIwpze1KOLYrI+/nJn2Mo22iK5jxxjOoY/wATTNcqYNjRfFQpcMstD6Moj/6rHxgbojaF6ndF20qI5lKGlwKG8ipDJ9nePZ3ZvioK1LQe+paLC71nJT7Jg9PzujN0Lp+tYewB3QFIlpyWqQRZmVHxUzBjjCnJYen4OIJZmrjm5Jumxd4LxMtYWl5qmq3UYbBNnez8vDmKMSR5yWlroUGejQxhO6OKGF0TqrNsGbVKPjimV6oRJ+nUyDAjxoErLTM0MKKcHoh2k0uJcUbpxAUQDI+M3F6SrKWCKTyggR84JUIIlFhZzE3EQmGgnWkutNnW1rDm0rDpYZxbElZerR4He0zLzdsCeHTEEuLl4lym0khQnPcDklEdPx+5OocWOZU/FVUlZMsssyHFZ/SES92R6dnfc/0OZhhOBFqszdFAI+/m5sujKJNyiuSBixxHdhMzQhwb+J6yS4SNoXlr1JUe5i/FE9jbEc/XqlbMzWWCGWDD6Moj/uWY7GNq3uc1CZp9TAzw3UYonHODcUnE+MEeH64rWTelLcJOJB1pijY3g7a7Oe2ijVs5WZnG7+bpzYsKZ5ihllJfHSO56wZgmc8MV+vHUwk2xYQVHdwIAexxCJXLlmAUSWJ0tGjwHfEmUL0U0U4kcnRzjxfuxkXpIN1bcNs8pjOWPDVAMzo+9GLNT2Xvkgyw4Y/Fj5ywfZXj0NneMQqU4BxaPNQu9Z+CFxbvpJwl2SWE6kJUddY12T4V2yHAxBSq9u54oAwu/pFsUIw9GXeQ+LoWJ0zuU5bfuqWKp6alhzQZaVGA/tFlFc6SczHp5GUrMx5Uy+xo5QvRX1x61UpkWx6rUYocBzUQh9JB0RtU2kUHBmDvaThONAizkWV7zLvc3DJwdTi4iXM4thC0UwtEWiDQQqBmVcyJRYBiOchTJkHaMp4C2ybMIMtCnwCTnJODAmggxhGPLRA0tL6xCuXdsuApTZzWvBEjVY9RApDfkcZrgLpLLasOEd0RnD8UZZjAyH0UZiMiuM+M3ekpjEdf7VChDsKn93MypH4MlREAjCRZR0uXIA5WlpUDAhjlBT1lQ2Z3Pgb3bFRyIwFknNFeYjp5llvdRuGuYPhvhm2TjFYYlq5VoMhGLmT2jlSI6Q7luBvaLjCI8BMp+CN5iP6kPmWl9q/6Z2jYwcbd7OFeHVWKFCEi3jL01poSda4JxRRdtmADodZjAVVKVGVqMpli7wMsaHxezmtWBTncr1kY5+D8Th3tp77ki3vaatEC6FFCLCM4UaFljQTaQdUhXvDjbFUIWjiesM4DmiU1U6RwTsyw9sWhxsQ1mt72pFAKEU3M+KEB6cww4eYi6VzxtJxmeP8AFUzV2HCkxEYEqB5gg9H/AN8y8CoVOcq8UItQnJqcjDl75jkTPKXyFxPVRTICSBJCguJahvXYDtPkaCIYVrMbvWCUcotOm43vQF05oZf7y/UWQYx7myFWqvM1fDlY8HQZyKUWLLxoBR4DunMUMhXNToZC07l7FPxViCkQNxTa9VJOCPwMGaJqyq2+8J9zjAw1UArmJ6wFRgyJb8ZcIG6hO6MpE70VjG3LalK4l/vcosbfyEIt7OTAZYxdGWGPL0LVFTxHXK0LKjWKjOQeCNHIhXl2iICNoINh7CoBR9rdBb8EMYv7NZd3T8IoVYwrALTIRi85aNuc4DMTHKYG30UxR4kX3wzI+MzIre0kQvKunO5ek4pYQrcWEDjKsCPyCK5jYnhTM3AFsCZjwgc5kGOQ3dkklEevjPx+L8SDE1T8ZwcvSS33sd2jU3FVDg4Tr0YPCUCB3myZNoz0HS0uJq5qMrzIrnXEoTqN7VXuYJ7v4xoteCFIfBQajALehyuHMsnwRsbpGzKKeI8SVWBOT0qLoUWMG7lpbiIRK4i+stCS2PcVSMAJaWxPWBgwhaId9LzKrWKnXCCJV6lPT26y98xyIfJyoM02v7SC2iVmWgSZxBoNMtlX/DRNUT/7KrYvhOlYz2hBTavJ9+SHeEaLuXkIu6GiOVYB0l9REOPFgG+BGjwja18EyEvq9VJJbg2+YFoGB4uFRodH8Hd/Qpgo/jyJ7CFuZagTR48zMsGPMx4+6c3fRyis9nhckImLWJXRvc+C3AFSia4tWjfihiK5vzLpXYNC3WzeCfxtRmi9EVkltku4VF3kpRJvXagiHVkWgQSV2oUIBBKCt9FLcgHORmyoypcqIFqCLSNyW7SCPnIFucpy3KWkghJqCUqW5DeFArkJ28IKECpUxJbiQDBzJlWRJ7UWhQVqlQ0kCIUZUOttQQou0ozWothXaEEW5lBcqkyuyKRFBziPdNYtHNSqB+C/nL6P0TWKtVHoH3gvWWliK1RlFYN1D3TmKBzUSgF/QF6yP0TmJSzUSg+QXrLSzkOQbsHun8Qt/wAQ0AuxE9ZMPdP1/Vh6if2nrLSLtJaUIN4/ona5/Fiif2nrKf0UNYG0sMUQvvi0WXEKHIpvYe6jq5Fbhai+VEU/ooat+3hWj+XEWiXXORc5Bvoe6jqP7eEqP9+iKP0U08JfsPpf3+ItCoudcg38PdRz38T6X9/iJf0U04P7z6X9/iLQrkrrkG/P0VE5/E+nffiTB3VEz/E+RL/miWgcqZBv/wDRSzLbsGSP4USj9FNFH958r+FEtADamdxIN/D3UcXMOD5W7+VErP0UZ5iwZK/hRLntwqCillQdC/op4n8T4H4USP0Uxl+8+B+FEue3OUuQdBj3Ux/xPgfhRJv0UMQv3nwLf5US54ddbchyDocu6jitBuD4H4USP0UJ5iwZA/DSXPREXGo3p6jsQdED3UvTqwhAf/xSxfaJt09vWHPA/ThyHI/pmHH3oTTsnKtPPLNypesjHsFXrv1t56PDxfYweWvHQjHslXon2N56Tw8X2N568kkIPY8PEOaWDy03h7p+xg8teKhB6/h4/saH5aPD8TN3sC8jUhB7BYhL7GDy1Hh4/saH5a8hrkcyD1vbCX2ND8tT7YIn2MHlryPqJdKD2fD5/YwI9sJfYwLxkIPZ9sJ6ZYPLQWIYpfuYPLXjJuqg9fw8f2ND8tHh6Lqlg8teQj6qD1/Dx5tyCjw9F+JhryXIQer4ej/Ew0w16P8AYwLyEIPX8Px/iYCbw/H+JgLxkdVB6/h6P8TDR4emfiYC8hGlB6/h+P8AEwEeHpn4mAvKcKVB6vh+Z4ICPD8zwQF5X1UyD0/DkzqgwEeHprggLzEIPV8PTXBAS+HJr4mAvKTIPT8OTfBAR4cm/tC8xCD0/Dk19o8hHhqa+0eQvKQg9Pw1Nfa/ITeHJzjh+QvK+qm0tQej4cnnfAeQjw5OcnkLzuVCD0fDc9xh5Cjw5PcYeQvPQg+/w5O8YeQm8Nz3GHkLzkCg9Hw5UOMPIS+Gp744PIXwIQff4ansoxg8hT4cqHx3mLz0IPv8NVAvhvMR4Xnvjg8hfAlcg9HwvPfHB5CnwvPfZPmLzrlKD0PC899k+Yl8NT32UvhQiH2+F5747zFPhee+yfRXwo6qD7vC9Q+yUeF6h9kxF8KEH2+F6h9mGo8MT32Sa+NGVB93hWofZJ+ajwrPaZk18KEH2eFZ77JNN4VnizThr4eVCD7PCc5pnIiCqc9pnDXxoQfZ4SnvsyIjwlPfZkdfGhB9XhOc+yY6PCE59kx/LXyodcg+rwhOfZMfy0eE5z7MjeWvl6qOZB9XhCc+zI/lpvCM59mR/LXx9VCD6vCc59mRvLR4QnPsyP5a+dCD6O/pz7Mj+Wl7+nPsyP5a+dCD7O/pr7Jj+Wl7+mvsmP5a+UVNyD6Snpr7Jj+Wl7+m/smP5a+dCD6e/pr7Mj+Wjvya+yY/lr5kyC7vya+zI/lqe/Jkv3TH8tUOSoPp78mvsmP5ajvyZ1TMfy1SlQfT35M/ZMfy0d+TP2TH8tUJSQfR35H+yY/lo76mfsmP5apQgv76j/HR/vinvyO336P5a+VMgu75j/Hx/LJR3zHL4aP5ZKpCC3vqP8cf3xHfMf46P5ZKjMp1ILu+Y+qNH8skd9R/jj++KpRmQWd8x/jo/lpu+Y/x0fyyVSVFr9/H+OieWjvqP8cf3xVJUQv75j/HR/LUd9Rfjo/lqlMgt75j/HR/LR31H+yY/lqpC0Xb+P8AGxPLJRv4/wBkx/LJUIyrBbv4vxp+Wjfxfjo/lqrVamQW7+P8dH++El38f46P5ZKpMgfvqP8AZMTy0wzMX46P5aqQgt75jl8NH8skb6L8cflkqkIH75j/AB0fy03fUb7Jj+WSoR1kF+/j/HR/LS98x/jj8tIhBaM5Hd78flqe+Yv2TH8tUpUH0d9TP2TH8tR3zM/ZMf74qEIL++Zn7Jj/AHxHfkf7Jj+WqEy0W9+TI/umP5aO/Jr7Jj+WqEIL+/Zn7Jj+Wp7+mPsmP5a+dM1Bf35M/ZMfy0d/TI/umP5a+ZMgt7+mvsyP5aO+5n7Jj+WqklqD6u/Jn7Jj+Wp7+mvsmP5a+VBIPqGemfsmP5aCnpr7Jj+WvlchB9Xf059mR/LUd/TX2ZH8tfMmQXd/Tf2TH8tHf039kx/LXzoQfV4QnPsyP5aXwhN/Zkfy186EH1eEJx368j+Wo8ITmqZj+WqEqD6PCM59kx/LTeE5wv3ZH8tfKhB9XhOc+zI3lo8Kzn2ZHXyihB9nhGc+yTR4SmvsmP5a+NCD7PCc19kx0eE5z7JiL4+VCD7PCs79mR1PhWofZhr4kIPs8Kzn2YaPCs59kmvhTIPs8Kzn2YaPCs99kmvjQg+zwrPfZJpvCs99kmvhUWoPt8Kz32SaPCs9pmTXxoQfd4VnPsk1PhWc+yYnmr4EIPu8Kzw/uk1Phec+yV8CEW+3wvOfZKnwvPfZPor4UIPu8MTmXvk/ITeGp747zF5qZB93hqe+O8xHhqofHeYvhQg+/wAMznx3mCp8NTnx3mLzUyIff4anNUbzFPhqc+O8xeehB6A1yeH4aH5Cnw1OFmPzF5yEHp+Gp744PIS+F5zUYeQvOdao1IPQ8MznGHkI8Nz3H5i+BKg9DwzOfHB5CPDU58cHkLz0IPS8OTmow8hHhqaHWHkLzUZkHo+HJrSYeQjw5O8YeQvOQg9Hw5O8YeQp8NTvJ5C89+lBZUH3+HJ77X5Cjw1PFrDyF8Ki1B6R1ecyvDyFn2ENu+JsGYeg0Ony1LiycCLEiicxKuJx3FctYP1IQbs/RP4xbdJ0D8FUfomsZjd3nQfwVaVG1SSDc5d05jT7GoP4Kp/ROYzL9x0T8FWlC1p3INzl3TWND/c1B/BUfoncafYdA/AlphyV/Oi25y7pXGmqDRC/5JH6JXGn2HRPwVaZdwmod0ohuQu6Rxof7jon4Kl/RIY1+Jon4EtQGTrUjkG4P0SeNviaJ+BJv0SeNh0UT8CWnyRqtNBuAu6TxwWiifgSr/RI44/2P+BLUVzs6Oqg21+iPxxx0f8AAlP6JHHmnwP+BCtSZkEbVq22/wBEZjvNvqX+BCoLujseDljUv8CFalcSHPzLBtb9EZj37Jp34EKX9EVj1368p34EK1ZbpUaUG0/0Q+PW/wCMpH8ChpS7oPHv7VVlR/5KGtWt4VFqDaJd0Hj39qsQPwKGo/RA4+b9StQfwKGtYO6UINl+75j8h/x8H4LDUe73tA/h7/5WGta3akyDYnu67QT/AHwn94h+qqy24Y/1YkP7xD9Va71OJGXKgVyZyXSmWAcjKjMhAJsyXrIQCEcqMqAcm03JesgUA5DnI6tqEA69yEIyoBCMtqOstAjSmS9VAIQhAI5UakIBxNQlJMgW1qZKhAyUkaUIGQlTIBBaHIQgVyEyBtWAS26kIQMj6iVCBkupCFoNKZKhYGQlQgZCVMWZAOQlQgZCEIBCEIBCVMgMxI+ohCAQhCAQhCAQhCBnISqxAqXlTJUDJUIQMhKhAfVQKEIBTaoQgOVMlQgEyUXJkAhqFGpBCZGm5LaxAcyZKhEGUalCEDISoagEyOslQN1kJUyAQoHMnQKhBFahAISoQMjlSpkAhCEAhCEAgUKLkEoSo6yBx4lKHIIkCoQhAIQhAISqdSCUISoGQhCAQhCATKtM5BPMpSoc5aBCELAIQhAIchC0CEIQS3iNqhCEAhCOVAyVTaoQCEIQCEqZAP0pUIQMhCVAyZVoQMhCVAyZKhyAQhyEAhK5MgEIQgEIQgEIQgHWoS5kIGQjKhAIQ5DkAhRcpQCEqZBFqkmpUIGQlTIBCEqBkJUIGQ1CBQCEORyoBCVMgVCZCAQlQgZKhCATJdSEAmSozIGQhHVQCEJUDdZKjrI5kAm6qVCAQjzUIGQlRpQCEIQCGoTIFQ1NzKLUENJMly3IQGlDhJKmuJAIQjrIDqo+ohCAQhKgbVajmR9VCAEUE1rkIQTqUuSuQgZL060OHUhAIchCAU3KBQgbLlSoQgnUoQjVaizJUOQSAyo0oTIB1qEv1Et2VBY4UrktyEA5MlRblJA2lyHJUyAQSOqhAupF2ZHnoy5VgEIRqQMl6yEIB3CmSkjUgZCEvVQMlQzUhA31UpcqEIBN9VK1DWoGSpUyBkvWQjm4kDaUqLUOWgLiQhyEAhCEAjUo5lKAQi1CA6qH2mSOqi5YBFyEIBHWRmQgZKjUhAIQhyATJeVCARcKEIBHVQ4kIBCEIGchKhAIQ5CAQhGlAJkqCQCZLchyBusj6qXmQgZH1UqEDISoQMjMKVCA6qZKhAJkqEDIS3IQMhCVAJnJeshAzkIS6UDISuQgZCEIBCVMgEISuQMhKhAyEOSoGQhKgZCVMiAhKmRYQ/ShKgblQhCAQhCAQhCICNKEIBCEIBCEIsISpkAhCMqICEIQCEOQgEIQgEIQgEIQgEZkIQCEIQCEIQHKhCEAmSoQCMyELQIQhAISocKCxKlTIBCELAIQhaBCENcgEOSpkAhKm5kAjShCAyoRmtQgEIQgEyVKgZCNKVAyHIQgEIQgEIQ5ArkyVCBsqEqEDISpkAhK5CBkJUaUDIQlQNquQlRmQMhCVAyEqEDISpkAj6iOVDkAhCXqoGQjKlQMhKhFmSpkqIMhKhFmR6CVCBkJUcyIMhKm6yBUyVFupAyVCEDIS9VCAQhHzkA1pNQi3ShAZkI6qVAyZxJUIBCEIBFqEdVAJrdSVCATegl6qEDI6qVCBkuq5CEDISkhAyEqH6UAjqoc1KgsQlTIsIy3JUIBMlQgZHVS8qEBmQSOsjqoBFqLtKHID5qEdVGpAdZCVM5AO4kcqFA8yCUI5kqwNpQlTZkA/UlzIJCBhyo0oQKAQ5KpdpQSWZGpRzI+aglCjzlLkBbqQhKgYUqLVPMghCGotQT1lCOYU2lAqECjMgEI7aFoEJmoJAO8hKhCATJUywBJUyECqesjrKEE9ZQ5S3sqMqBkqEXIBDhTNahg6kCotyoQ1AITIQKmRypWoBNajKjMgLUWqOVRqQFulMhCAtQhqCtQCHc6EIBKhqZAJUJhFAIRblSoG7aEJRQMhDUIDqoQhAIQhAIQhAIQhqARyoahAIQhAI5UIyoByEIQCEItQCEIQCOqhCAQhCAQhCAQjShAIQhAIQhAIRqRagEIQgHITJUAmFLblQgCQhCAQhCAQhCATJUIBGVCEAhMhAqEIQCEIQCZKjMgEyVCBkqZCBUJkIgqZKhAJkqZaBCVCwCEIQCEIQCEcyMqAQhM20C4loXMhAkKCQCEIQCEJvqoBKhCwCEIQFqEIQCEIWhtSVCVYGQlTIBCEIBHKhC0CEIQCNVqNSEAhFqEAhCEAhHKlQMhCVBYlR1UIBCEqBkItQgEIRagEIQgEIfpRagEISosyEqZAIclFN1kAhKmQKmSoQCbMl0oQMi5CVAyNSW1CIMl1ITIBCEqBkIuRzCgVMlyocgZLpQhAyEZkrkDJUOQ4UDI6qEuVAwoSimQKmQlQT1VFqEyAy3IQlQMhGVK5AJtSVMiyqXcKhKgszIS5kFdaKBkJbeNMgEJdSbrIByLsqVybUgEpEmzJSagEIzIzWoBCNTVBNFA7kKtS9A3MjmUNtUWoP/Z)"
      ],
      "metadata": {
        "id": "Cy0A0qsd3SKG"
      }
    },
    {
      "cell_type": "code",
      "source": [
        "mat1.shape, mat2.shape #the shape is (5, 3) and (5, 3), but we need to make it (5, 3) and (3, 5)"
      ],
      "metadata": {
        "id": "9JvlOXdT3XJb",
        "outputId": "07f028d7-fe0d-4422-9128-7033dbfc5e03",
        "colab": {
          "base_uri": "https://localhost:8080/"
        }
      },
      "execution_count": 208,
      "outputs": [
        {
          "output_type": "execute_result",
          "data": {
            "text/plain": [
              "((5, 3), (5, 3))"
            ]
          },
          "metadata": {},
          "execution_count": 208
        }
      ]
    },
    {
      "cell_type": "markdown",
      "source": [
        "###We can transpose:"
      ],
      "metadata": {
        "id": "5XgQcaQb30Qm"
      }
    },
    {
      "cell_type": "code",
      "source": [
        "mat1.T"
      ],
      "metadata": {
        "id": "TmFEPvay3u3W",
        "outputId": "9e495323-4520-48d6-ea2d-da5b37424588",
        "colab": {
          "base_uri": "https://localhost:8080/"
        }
      },
      "execution_count": 209,
      "outputs": [
        {
          "output_type": "execute_result",
          "data": {
            "text/plain": [
              "array([[5, 3, 3, 4, 8],\n",
              "       [0, 7, 5, 7, 8],\n",
              "       [3, 9, 2, 6, 1]])"
            ]
          },
          "metadata": {},
          "execution_count": 209
        }
      ]
    },
    {
      "cell_type": "code",
      "source": [
        "mat1.T.shape, mat2.shape"
      ],
      "metadata": {
        "id": "EaRIckxH36O3",
        "outputId": "f537f3f2-b584-4ec7-b30a-e0c1819ca41b",
        "colab": {
          "base_uri": "https://localhost:8080/"
        }
      },
      "execution_count": 211,
      "outputs": [
        {
          "output_type": "execute_result",
          "data": {
            "text/plain": [
              "((3, 5), (5, 3))"
            ]
          },
          "metadata": {},
          "execution_count": 211
        }
      ]
    },
    {
      "cell_type": "code",
      "source": [
        "mat3 = np.dot(mat1, mat2.T)\n",
        "mat3"
      ],
      "metadata": {
        "id": "Gn8FUQrC38Y_",
        "outputId": "33481b75-92bb-412c-bde3-382ae19bf0bc",
        "colab": {
          "base_uri": "https://localhost:8080/"
        }
      },
      "execution_count": 213,
      "outputs": [
        {
          "output_type": "execute_result",
          "data": {
            "text/plain": [
              "array([[ 51,  55,  72,  20,  15],\n",
              "       [130,  76, 164,  33,  44],\n",
              "       [ 67,  39,  85,  27,  34],\n",
              "       [115,  69, 146,  37,  47],\n",
              "       [111,  77, 145,  56,  64]])"
            ]
          },
          "metadata": {},
          "execution_count": 213
        }
      ]
    },
    {
      "cell_type": "code",
      "source": [
        "mat3.shape"
      ],
      "metadata": {
        "id": "akiRIOKh4IKq",
        "outputId": "1737aed1-87f3-47a1-ab82-151cd06b504d",
        "colab": {
          "base_uri": "https://localhost:8080/"
        }
      },
      "execution_count": 214,
      "outputs": [
        {
          "output_type": "execute_result",
          "data": {
            "text/plain": [
              "(5, 5)"
            ]
          },
          "metadata": {},
          "execution_count": 214
        }
      ]
    },
    {
      "cell_type": "code",
      "execution_count": 215,
      "metadata": {
        "colab": {
          "base_uri": "https://localhost:8080/"
        },
        "id": "C_EhGVQOF_iK",
        "outputId": "5ffb00f6-1546-4981-8d70-e8ea7b8a7da0"
      },
      "outputs": [
        {
          "output_type": "execute_result",
          "data": {
            "text/plain": [
              "array([[5, 0, 3],\n",
              "       [3, 7, 9],\n",
              "       [3, 5, 2],\n",
              "       [4, 7, 6]])"
            ]
          },
          "metadata": {},
          "execution_count": 215
        }
      ],
      "source": [
        "np.random.seed(0)\n",
        "mat3 = np.random.randint(10, size=(4,3))\n",
        "mat4 = np.random.randint(10, size=(4,3))\n",
        "mat3"
      ]
    },
    {
      "cell_type": "code",
      "execution_count": 216,
      "metadata": {
        "colab": {
          "base_uri": "https://localhost:8080/"
        },
        "id": "RGdjLLGOF_iK",
        "outputId": "e8009dee-7e91-48f0-9116-647099c5abee"
      },
      "outputs": [
        {
          "output_type": "execute_result",
          "data": {
            "text/plain": [
              "array([[8, 8, 1],\n",
              "       [6, 7, 7],\n",
              "       [8, 1, 5],\n",
              "       [9, 8, 9]])"
            ]
          },
          "metadata": {},
          "execution_count": 216
        }
      ],
      "source": [
        "mat4"
      ]
    },
    {
      "cell_type": "code",
      "execution_count": 218,
      "metadata": {
        "colab": {
          "base_uri": "https://localhost:8080/"
        },
        "id": "3oZp28DWF_iK",
        "outputId": "dd84477f-e108-45b4-f1fd-aee3d40bb623"
      },
      "outputs": [
        {
          "output_type": "execute_result",
          "data": {
            "text/plain": [
              "array([[ 43,  51,  55,  72],\n",
              "       [ 89, 130,  76, 164],\n",
              "       [ 66,  67,  39,  85],\n",
              "       [ 94, 115,  69, 146]])"
            ]
          },
          "metadata": {},
          "execution_count": 218
        }
      ],
      "source": [
        "np.dot(mat3, mat4.T)"
      ]
    },
    {
      "cell_type": "code",
      "execution_count": 219,
      "metadata": {
        "colab": {
          "base_uri": "https://localhost:8080/"
        },
        "id": "sd8ZkC2oF_iK",
        "outputId": "4d6b9e2d-30c8-4f01-b4ae-d993a7e04916"
      },
      "outputs": [
        {
          "output_type": "execute_result",
          "data": {
            "text/plain": [
              "(3, 4)"
            ]
          },
          "metadata": {},
          "execution_count": 219
        }
      ],
      "source": [
        "mat3.T.shape"
      ]
    },
    {
      "cell_type": "code",
      "execution_count": 220,
      "metadata": {
        "colab": {
          "base_uri": "https://localhost:8080/"
        },
        "id": "xPv07ykvF_iK",
        "outputId": "4cddb9ba-d6b5-47e2-a943-6a86e83f70b6"
      },
      "outputs": [
        {
          "output_type": "execute_result",
          "data": {
            "text/plain": [
              "array([[118,  96,  77],\n",
              "       [145, 110, 137],\n",
              "       [148, 137, 130]])"
            ]
          },
          "metadata": {},
          "execution_count": 220
        }
      ],
      "source": [
        "# Dot product\n",
        "np.dot(mat3.T, mat4)"
      ]
    },
    {
      "cell_type": "code",
      "execution_count": 222,
      "metadata": {
        "colab": {
          "base_uri": "https://localhost:8080/"
        },
        "id": "Qd0YJN5SF_iK",
        "outputId": "ea94ca2d-bf6a-416d-b04f-4ebdecabe911"
      },
      "outputs": [
        {
          "output_type": "execute_result",
          "data": {
            "text/plain": [
              "array([[40,  0,  3],\n",
              "       [18, 49, 63],\n",
              "       [24,  5, 10],\n",
              "       [36, 56, 54]])"
            ]
          },
          "metadata": {},
          "execution_count": 222
        }
      ],
      "source": [
        "# Element-wise multiplication, also known as Hadamard product\n",
        "mat3 * mat4"
      ]
    },
    {
      "cell_type": "markdown",
      "metadata": {
        "id": "kMXc_GM4F_iK"
      },
      "source": [
        "#**Dot product practical example, (Nut butter sales):**"
      ]
    },
    {
      "cell_type": "code",
      "execution_count": 224,
      "metadata": {
        "colab": {
          "base_uri": "https://localhost:8080/"
        },
        "id": "49LP011fF_iK",
        "outputId": "d0acf901-039f-4995-9ff0-a75927a08b32"
      },
      "outputs": [
        {
          "output_type": "execute_result",
          "data": {
            "text/plain": [
              "array([[12, 15,  0],\n",
              "       [ 3,  3,  7],\n",
              "       [ 9, 19, 18],\n",
              "       [ 4,  6, 12],\n",
              "       [ 1,  6,  7]])"
            ]
          },
          "metadata": {},
          "execution_count": 224
        }
      ],
      "source": [
        "np.random.seed(0)\n",
        "#Number of jars sold\n",
        "sales_amounts = np.random.randint(20, size=(5, 3))\n",
        "sales_amounts"
      ]
    },
    {
      "cell_type": "code",
      "execution_count": 225,
      "metadata": {
        "colab": {
          "base_uri": "https://localhost:8080/",
          "height": 206
        },
        "id": "JtNrNxDAF_iK",
        "outputId": "18707adf-5609-405b-8aae-5751708fbdee"
      },
      "outputs": [
        {
          "output_type": "execute_result",
          "data": {
            "text/plain": [
              "       Almond butter  Peanut butter  Cashew butter\n",
              "Mon               12             15              0\n",
              "Tues               3              3              7\n",
              "Wed                9             19             18\n",
              "Thurs              4              6             12\n",
              "Fri                1              6              7"
            ],
            "text/html": [
              "\n",
              "  <div id=\"df-2f80128f-8ef4-4e24-a4dc-528c2f66a199\">\n",
              "    <div class=\"colab-df-container\">\n",
              "      <div>\n",
              "<style scoped>\n",
              "    .dataframe tbody tr th:only-of-type {\n",
              "        vertical-align: middle;\n",
              "    }\n",
              "\n",
              "    .dataframe tbody tr th {\n",
              "        vertical-align: top;\n",
              "    }\n",
              "\n",
              "    .dataframe thead th {\n",
              "        text-align: right;\n",
              "    }\n",
              "</style>\n",
              "<table border=\"1\" class=\"dataframe\">\n",
              "  <thead>\n",
              "    <tr style=\"text-align: right;\">\n",
              "      <th></th>\n",
              "      <th>Almond butter</th>\n",
              "      <th>Peanut butter</th>\n",
              "      <th>Cashew butter</th>\n",
              "    </tr>\n",
              "  </thead>\n",
              "  <tbody>\n",
              "    <tr>\n",
              "      <th>Mon</th>\n",
              "      <td>12</td>\n",
              "      <td>15</td>\n",
              "      <td>0</td>\n",
              "    </tr>\n",
              "    <tr>\n",
              "      <th>Tues</th>\n",
              "      <td>3</td>\n",
              "      <td>3</td>\n",
              "      <td>7</td>\n",
              "    </tr>\n",
              "    <tr>\n",
              "      <th>Wed</th>\n",
              "      <td>9</td>\n",
              "      <td>19</td>\n",
              "      <td>18</td>\n",
              "    </tr>\n",
              "    <tr>\n",
              "      <th>Thurs</th>\n",
              "      <td>4</td>\n",
              "      <td>6</td>\n",
              "      <td>12</td>\n",
              "    </tr>\n",
              "    <tr>\n",
              "      <th>Fri</th>\n",
              "      <td>1</td>\n",
              "      <td>6</td>\n",
              "      <td>7</td>\n",
              "    </tr>\n",
              "  </tbody>\n",
              "</table>\n",
              "</div>\n",
              "      <button class=\"colab-df-convert\" onclick=\"convertToInteractive('df-2f80128f-8ef4-4e24-a4dc-528c2f66a199')\"\n",
              "              title=\"Convert this dataframe to an interactive table.\"\n",
              "              style=\"display:none;\">\n",
              "        \n",
              "  <svg xmlns=\"http://www.w3.org/2000/svg\" height=\"24px\"viewBox=\"0 0 24 24\"\n",
              "       width=\"24px\">\n",
              "    <path d=\"M0 0h24v24H0V0z\" fill=\"none\"/>\n",
              "    <path d=\"M18.56 5.44l.94 2.06.94-2.06 2.06-.94-2.06-.94-.94-2.06-.94 2.06-2.06.94zm-11 1L8.5 8.5l.94-2.06 2.06-.94-2.06-.94L8.5 2.5l-.94 2.06-2.06.94zm10 10l.94 2.06.94-2.06 2.06-.94-2.06-.94-.94-2.06-.94 2.06-2.06.94z\"/><path d=\"M17.41 7.96l-1.37-1.37c-.4-.4-.92-.59-1.43-.59-.52 0-1.04.2-1.43.59L10.3 9.45l-7.72 7.72c-.78.78-.78 2.05 0 2.83L4 21.41c.39.39.9.59 1.41.59.51 0 1.02-.2 1.41-.59l7.78-7.78 2.81-2.81c.8-.78.8-2.07 0-2.86zM5.41 20L4 18.59l7.72-7.72 1.47 1.35L5.41 20z\"/>\n",
              "  </svg>\n",
              "      </button>\n",
              "      \n",
              "  <style>\n",
              "    .colab-df-container {\n",
              "      display:flex;\n",
              "      flex-wrap:wrap;\n",
              "      gap: 12px;\n",
              "    }\n",
              "\n",
              "    .colab-df-convert {\n",
              "      background-color: #E8F0FE;\n",
              "      border: none;\n",
              "      border-radius: 50%;\n",
              "      cursor: pointer;\n",
              "      display: none;\n",
              "      fill: #1967D2;\n",
              "      height: 32px;\n",
              "      padding: 0 0 0 0;\n",
              "      width: 32px;\n",
              "    }\n",
              "\n",
              "    .colab-df-convert:hover {\n",
              "      background-color: #E2EBFA;\n",
              "      box-shadow: 0px 1px 2px rgba(60, 64, 67, 0.3), 0px 1px 3px 1px rgba(60, 64, 67, 0.15);\n",
              "      fill: #174EA6;\n",
              "    }\n",
              "\n",
              "    [theme=dark] .colab-df-convert {\n",
              "      background-color: #3B4455;\n",
              "      fill: #D2E3FC;\n",
              "    }\n",
              "\n",
              "    [theme=dark] .colab-df-convert:hover {\n",
              "      background-color: #434B5C;\n",
              "      box-shadow: 0px 1px 3px 1px rgba(0, 0, 0, 0.15);\n",
              "      filter: drop-shadow(0px 1px 2px rgba(0, 0, 0, 0.3));\n",
              "      fill: #FFFFFF;\n",
              "    }\n",
              "  </style>\n",
              "\n",
              "      <script>\n",
              "        const buttonEl =\n",
              "          document.querySelector('#df-2f80128f-8ef4-4e24-a4dc-528c2f66a199 button.colab-df-convert');\n",
              "        buttonEl.style.display =\n",
              "          google.colab.kernel.accessAllowed ? 'block' : 'none';\n",
              "\n",
              "        async function convertToInteractive(key) {\n",
              "          const element = document.querySelector('#df-2f80128f-8ef4-4e24-a4dc-528c2f66a199');\n",
              "          const dataTable =\n",
              "            await google.colab.kernel.invokeFunction('convertToInteractive',\n",
              "                                                     [key], {});\n",
              "          if (!dataTable) return;\n",
              "\n",
              "          const docLinkHtml = 'Like what you see? Visit the ' +\n",
              "            '<a target=\"_blank\" href=https://colab.research.google.com/notebooks/data_table.ipynb>data table notebook</a>'\n",
              "            + ' to learn more about interactive tables.';\n",
              "          element.innerHTML = '';\n",
              "          dataTable['output_type'] = 'display_data';\n",
              "          await google.colab.output.renderOutput(dataTable, element);\n",
              "          const docLink = document.createElement('div');\n",
              "          docLink.innerHTML = docLinkHtml;\n",
              "          element.appendChild(docLink);\n",
              "        }\n",
              "      </script>\n",
              "    </div>\n",
              "  </div>\n",
              "  "
            ]
          },
          "metadata": {},
          "execution_count": 225
        }
      ],
      "source": [
        "weekly_sales = pd.DataFrame(sales_amounts,\n",
        "                            index=[\"Mon\", \"Tues\", \"Wed\", \"Thurs\", \"Fri\"],\n",
        "                            columns=[\"Almond butter\", \"Peanut butter\", \"Cashew butter\"])\n",
        "weekly_sales"
      ]
    },
    {
      "cell_type": "code",
      "execution_count": 227,
      "metadata": {
        "colab": {
          "base_uri": "https://localhost:8080/"
        },
        "id": "ONmuo0UnF_iL",
        "outputId": "e1979ec1-8a20-44c3-9ba7-e663020f784b"
      },
      "outputs": [
        {
          "output_type": "execute_result",
          "data": {
            "text/plain": [
              "array([10,  8, 12])"
            ]
          },
          "metadata": {},
          "execution_count": 227
        }
      ],
      "source": [
        "#Create prices array\n",
        "prices = np.array([10, 8, 12])\n",
        "prices"
      ]
    },
    {
      "cell_type": "code",
      "source": [
        "prices.shape #this is 3 rows and 1 column\n"
      ],
      "metadata": {
        "id": "D7qHOxdw5tqN",
        "outputId": "5d7ad946-2e62-4fa4-c330-63fb56d25747",
        "colab": {
          "base_uri": "https://localhost:8080/"
        }
      },
      "execution_count": 233,
      "outputs": [
        {
          "output_type": "execute_result",
          "data": {
            "text/plain": [
              "(3,)"
            ]
          },
          "metadata": {},
          "execution_count": 233
        }
      ]
    },
    {
      "cell_type": "code",
      "source": [
        "pd.DataFrame(prices, index=[\"Price\"], columns=[\"Almond butter\", \"Peanut butter\", \"Cashew butter\"])"
      ],
      "metadata": {
        "id": "06imZuv96SsN",
        "outputId": "b1c2cb39-820d-48e5-e0f2-16bab59b4e09",
        "colab": {
          "base_uri": "https://localhost:8080/",
          "height": 311
        }
      },
      "execution_count": 237,
      "outputs": [
        {
          "output_type": "error",
          "ename": "ValueError",
          "evalue": "ignored",
          "traceback": [
            "\u001b[0;31m---------------------------------------------------------------------------\u001b[0m",
            "\u001b[0;31mValueError\u001b[0m                                Traceback (most recent call last)",
            "\u001b[0;32m<ipython-input-237-c45f06633e95>\u001b[0m in \u001b[0;36m<module>\u001b[0;34m\u001b[0m\n\u001b[0;32m----> 1\u001b[0;31m \u001b[0mpd\u001b[0m\u001b[0;34m.\u001b[0m\u001b[0mDataFrame\u001b[0m\u001b[0;34m(\u001b[0m\u001b[0mprices\u001b[0m\u001b[0;34m,\u001b[0m \u001b[0mindex\u001b[0m\u001b[0;34m=\u001b[0m\u001b[0;34m[\u001b[0m\u001b[0;34m\"Price\"\u001b[0m\u001b[0;34m]\u001b[0m\u001b[0;34m,\u001b[0m \u001b[0mcolumns\u001b[0m\u001b[0;34m=\u001b[0m\u001b[0;34m[\u001b[0m\u001b[0;34m\"Almond butter\"\u001b[0m\u001b[0;34m,\u001b[0m \u001b[0;34m\"Peanut butter\"\u001b[0m\u001b[0;34m,\u001b[0m \u001b[0;34m\"Cashew butter\"\u001b[0m\u001b[0;34m]\u001b[0m\u001b[0;34m)\u001b[0m\u001b[0;34m\u001b[0m\u001b[0;34m\u001b[0m\u001b[0m\n\u001b[0m",
            "\u001b[0;32m/usr/local/lib/python3.8/dist-packages/pandas/core/frame.py\u001b[0m in \u001b[0;36m__init__\u001b[0;34m(self, data, index, columns, dtype, copy)\u001b[0m\n\u001b[1;32m    670\u001b[0m                 )\n\u001b[1;32m    671\u001b[0m             \u001b[0;32melse\u001b[0m\u001b[0;34m:\u001b[0m\u001b[0;34m\u001b[0m\u001b[0;34m\u001b[0m\u001b[0m\n\u001b[0;32m--> 672\u001b[0;31m                 mgr = ndarray_to_mgr(\n\u001b[0m\u001b[1;32m    673\u001b[0m                     \u001b[0mdata\u001b[0m\u001b[0;34m,\u001b[0m\u001b[0;34m\u001b[0m\u001b[0;34m\u001b[0m\u001b[0m\n\u001b[1;32m    674\u001b[0m                     \u001b[0mindex\u001b[0m\u001b[0;34m,\u001b[0m\u001b[0;34m\u001b[0m\u001b[0;34m\u001b[0m\u001b[0m\n",
            "\u001b[0;32m/usr/local/lib/python3.8/dist-packages/pandas/core/internals/construction.py\u001b[0m in \u001b[0;36mndarray_to_mgr\u001b[0;34m(values, index, columns, dtype, copy, typ)\u001b[0m\n\u001b[1;32m    322\u001b[0m     )\n\u001b[1;32m    323\u001b[0m \u001b[0;34m\u001b[0m\u001b[0m\n\u001b[0;32m--> 324\u001b[0;31m     \u001b[0m_check_values_indices_shape_match\u001b[0m\u001b[0;34m(\u001b[0m\u001b[0mvalues\u001b[0m\u001b[0;34m,\u001b[0m \u001b[0mindex\u001b[0m\u001b[0;34m,\u001b[0m \u001b[0mcolumns\u001b[0m\u001b[0;34m)\u001b[0m\u001b[0;34m\u001b[0m\u001b[0;34m\u001b[0m\u001b[0m\n\u001b[0m\u001b[1;32m    325\u001b[0m \u001b[0;34m\u001b[0m\u001b[0m\n\u001b[1;32m    326\u001b[0m     \u001b[0;32mif\u001b[0m \u001b[0mtyp\u001b[0m \u001b[0;34m==\u001b[0m \u001b[0;34m\"array\"\u001b[0m\u001b[0;34m:\u001b[0m\u001b[0;34m\u001b[0m\u001b[0;34m\u001b[0m\u001b[0m\n",
            "\u001b[0;32m/usr/local/lib/python3.8/dist-packages/pandas/core/internals/construction.py\u001b[0m in \u001b[0;36m_check_values_indices_shape_match\u001b[0;34m(values, index, columns)\u001b[0m\n\u001b[1;32m    391\u001b[0m         \u001b[0mpassed\u001b[0m \u001b[0;34m=\u001b[0m \u001b[0mvalues\u001b[0m\u001b[0;34m.\u001b[0m\u001b[0mshape\u001b[0m\u001b[0;34m\u001b[0m\u001b[0;34m\u001b[0m\u001b[0m\n\u001b[1;32m    392\u001b[0m         \u001b[0mimplied\u001b[0m \u001b[0;34m=\u001b[0m \u001b[0;34m(\u001b[0m\u001b[0mlen\u001b[0m\u001b[0;34m(\u001b[0m\u001b[0mindex\u001b[0m\u001b[0;34m)\u001b[0m\u001b[0;34m,\u001b[0m \u001b[0mlen\u001b[0m\u001b[0;34m(\u001b[0m\u001b[0mcolumns\u001b[0m\u001b[0;34m)\u001b[0m\u001b[0;34m)\u001b[0m\u001b[0;34m\u001b[0m\u001b[0;34m\u001b[0m\u001b[0m\n\u001b[0;32m--> 393\u001b[0;31m         \u001b[0;32mraise\u001b[0m \u001b[0mValueError\u001b[0m\u001b[0;34m(\u001b[0m\u001b[0;34mf\"Shape of passed values is {passed}, indices imply {implied}\"\u001b[0m\u001b[0;34m)\u001b[0m\u001b[0;34m\u001b[0m\u001b[0;34m\u001b[0m\u001b[0m\n\u001b[0m\u001b[1;32m    394\u001b[0m \u001b[0;34m\u001b[0m\u001b[0m\n\u001b[1;32m    395\u001b[0m \u001b[0;34m\u001b[0m\u001b[0m\n",
            "\u001b[0;31mValueError\u001b[0m: Shape of passed values is (3, 1), indices imply (1, 3)"
          ]
        }
      ]
    },
    {
      "cell_type": "markdown",
      "source": [
        "##**But Pandas is expecting 3 columns and 1 row !!!!!!**\n",
        "##**Thus we have to reshape it**"
      ],
      "metadata": {
        "id": "2AZzvj5f6BNZ"
      }
    },
    {
      "cell_type": "code",
      "execution_count": 238,
      "metadata": {
        "colab": {
          "base_uri": "https://localhost:8080/"
        },
        "id": "fqJH3QYZF_iL",
        "outputId": "b64297c9-77af-45b3-bd2d-dac6c6e34399"
      },
      "outputs": [
        {
          "output_type": "execute_result",
          "data": {
            "text/plain": [
              "(1, 3)"
            ]
          },
          "metadata": {},
          "execution_count": 238
        }
      ],
      "source": [
        "butter_prices = pd.DataFrame(prices.reshape(1, 3),\n",
        "                             index=[\"Price\"],\n",
        "                             columns=[\"Almond butter\", \"Peanut butter\", \"Cashew butter\"])\n",
        "butter_prices.shape"
      ]
    },
    {
      "cell_type": "code",
      "source": [
        "butter_prices"
      ],
      "metadata": {
        "id": "Ya4iexVX5jB0",
        "outputId": "60d4b3f8-0a80-4088-e520-62fa8b8a3240",
        "colab": {
          "base_uri": "https://localhost:8080/",
          "height": 81
        }
      },
      "execution_count": 239,
      "outputs": [
        {
          "output_type": "execute_result",
          "data": {
            "text/plain": [
              "       Almond butter  Peanut butter  Cashew butter\n",
              "Price             10              8             12"
            ],
            "text/html": [
              "\n",
              "  <div id=\"df-1ca8cfb8-1a41-4286-8ade-d88d8e59fbe0\">\n",
              "    <div class=\"colab-df-container\">\n",
              "      <div>\n",
              "<style scoped>\n",
              "    .dataframe tbody tr th:only-of-type {\n",
              "        vertical-align: middle;\n",
              "    }\n",
              "\n",
              "    .dataframe tbody tr th {\n",
              "        vertical-align: top;\n",
              "    }\n",
              "\n",
              "    .dataframe thead th {\n",
              "        text-align: right;\n",
              "    }\n",
              "</style>\n",
              "<table border=\"1\" class=\"dataframe\">\n",
              "  <thead>\n",
              "    <tr style=\"text-align: right;\">\n",
              "      <th></th>\n",
              "      <th>Almond butter</th>\n",
              "      <th>Peanut butter</th>\n",
              "      <th>Cashew butter</th>\n",
              "    </tr>\n",
              "  </thead>\n",
              "  <tbody>\n",
              "    <tr>\n",
              "      <th>Price</th>\n",
              "      <td>10</td>\n",
              "      <td>8</td>\n",
              "      <td>12</td>\n",
              "    </tr>\n",
              "  </tbody>\n",
              "</table>\n",
              "</div>\n",
              "      <button class=\"colab-df-convert\" onclick=\"convertToInteractive('df-1ca8cfb8-1a41-4286-8ade-d88d8e59fbe0')\"\n",
              "              title=\"Convert this dataframe to an interactive table.\"\n",
              "              style=\"display:none;\">\n",
              "        \n",
              "  <svg xmlns=\"http://www.w3.org/2000/svg\" height=\"24px\"viewBox=\"0 0 24 24\"\n",
              "       width=\"24px\">\n",
              "    <path d=\"M0 0h24v24H0V0z\" fill=\"none\"/>\n",
              "    <path d=\"M18.56 5.44l.94 2.06.94-2.06 2.06-.94-2.06-.94-.94-2.06-.94 2.06-2.06.94zm-11 1L8.5 8.5l.94-2.06 2.06-.94-2.06-.94L8.5 2.5l-.94 2.06-2.06.94zm10 10l.94 2.06.94-2.06 2.06-.94-2.06-.94-.94-2.06-.94 2.06-2.06.94z\"/><path d=\"M17.41 7.96l-1.37-1.37c-.4-.4-.92-.59-1.43-.59-.52 0-1.04.2-1.43.59L10.3 9.45l-7.72 7.72c-.78.78-.78 2.05 0 2.83L4 21.41c.39.39.9.59 1.41.59.51 0 1.02-.2 1.41-.59l7.78-7.78 2.81-2.81c.8-.78.8-2.07 0-2.86zM5.41 20L4 18.59l7.72-7.72 1.47 1.35L5.41 20z\"/>\n",
              "  </svg>\n",
              "      </button>\n",
              "      \n",
              "  <style>\n",
              "    .colab-df-container {\n",
              "      display:flex;\n",
              "      flex-wrap:wrap;\n",
              "      gap: 12px;\n",
              "    }\n",
              "\n",
              "    .colab-df-convert {\n",
              "      background-color: #E8F0FE;\n",
              "      border: none;\n",
              "      border-radius: 50%;\n",
              "      cursor: pointer;\n",
              "      display: none;\n",
              "      fill: #1967D2;\n",
              "      height: 32px;\n",
              "      padding: 0 0 0 0;\n",
              "      width: 32px;\n",
              "    }\n",
              "\n",
              "    .colab-df-convert:hover {\n",
              "      background-color: #E2EBFA;\n",
              "      box-shadow: 0px 1px 2px rgba(60, 64, 67, 0.3), 0px 1px 3px 1px rgba(60, 64, 67, 0.15);\n",
              "      fill: #174EA6;\n",
              "    }\n",
              "\n",
              "    [theme=dark] .colab-df-convert {\n",
              "      background-color: #3B4455;\n",
              "      fill: #D2E3FC;\n",
              "    }\n",
              "\n",
              "    [theme=dark] .colab-df-convert:hover {\n",
              "      background-color: #434B5C;\n",
              "      box-shadow: 0px 1px 3px 1px rgba(0, 0, 0, 0.15);\n",
              "      filter: drop-shadow(0px 1px 2px rgba(0, 0, 0, 0.3));\n",
              "      fill: #FFFFFF;\n",
              "    }\n",
              "  </style>\n",
              "\n",
              "      <script>\n",
              "        const buttonEl =\n",
              "          document.querySelector('#df-1ca8cfb8-1a41-4286-8ade-d88d8e59fbe0 button.colab-df-convert');\n",
              "        buttonEl.style.display =\n",
              "          google.colab.kernel.accessAllowed ? 'block' : 'none';\n",
              "\n",
              "        async function convertToInteractive(key) {\n",
              "          const element = document.querySelector('#df-1ca8cfb8-1a41-4286-8ade-d88d8e59fbe0');\n",
              "          const dataTable =\n",
              "            await google.colab.kernel.invokeFunction('convertToInteractive',\n",
              "                                                     [key], {});\n",
              "          if (!dataTable) return;\n",
              "\n",
              "          const docLinkHtml = 'Like what you see? Visit the ' +\n",
              "            '<a target=\"_blank\" href=https://colab.research.google.com/notebooks/data_table.ipynb>data table notebook</a>'\n",
              "            + ' to learn more about interactive tables.';\n",
              "          element.innerHTML = '';\n",
              "          dataTable['output_type'] = 'display_data';\n",
              "          await google.colab.output.renderOutput(dataTable, element);\n",
              "          const docLink = document.createElement('div');\n",
              "          docLink.innerHTML = docLinkHtml;\n",
              "          element.appendChild(docLink);\n",
              "        }\n",
              "      </script>\n",
              "    </div>\n",
              "  </div>\n",
              "  "
            ]
          },
          "metadata": {},
          "execution_count": 239
        }
      ]
    },
    {
      "cell_type": "code",
      "execution_count": 240,
      "metadata": {
        "colab": {
          "base_uri": "https://localhost:8080/"
        },
        "id": "OVpDxHVHF_iL",
        "outputId": "372c325d-9d56-4dc9-8d6b-3c12becfde64"
      },
      "outputs": [
        {
          "output_type": "execute_result",
          "data": {
            "text/plain": [
              "(5, 3)"
            ]
          },
          "metadata": {},
          "execution_count": 240
        }
      ],
      "source": [
        "weekly_sales.shape"
      ]
    },
    {
      "cell_type": "code",
      "source": [
        "sales_amounts.shape, prices.shape"
      ],
      "metadata": {
        "id": "f_XzsgSD6xXS",
        "outputId": "49e71e0a-49e1-4c46-af95-e392c863f19c",
        "colab": {
          "base_uri": "https://localhost:8080/"
        }
      },
      "execution_count": 242,
      "outputs": [
        {
          "output_type": "execute_result",
          "data": {
            "text/plain": [
              "((5, 3), (3,))"
            ]
          },
          "metadata": {},
          "execution_count": 242
        }
      ]
    },
    {
      "cell_type": "code",
      "execution_count": 241,
      "metadata": {
        "colab": {
          "base_uri": "https://localhost:8080/",
          "height": 201
        },
        "id": "bFRj4N-HF_iL",
        "outputId": "356e31e6-7e99-4e13-a9cd-6323df31b42e"
      },
      "outputs": [
        {
          "output_type": "error",
          "ename": "ValueError",
          "evalue": "ignored",
          "traceback": [
            "\u001b[0;31m---------------------------------------------------------------------------\u001b[0m",
            "\u001b[0;31mValueError\u001b[0m                                Traceback (most recent call last)",
            "\u001b[0;32m<ipython-input-241-66432e0cb3ac>\u001b[0m in \u001b[0;36m<module>\u001b[0;34m\u001b[0m\n\u001b[1;32m      1\u001b[0m \u001b[0;31m# Find the total amount of sales for a whole day\u001b[0m\u001b[0;34m\u001b[0m\u001b[0;34m\u001b[0m\u001b[0;34m\u001b[0m\u001b[0m\n\u001b[0;32m----> 2\u001b[0;31m \u001b[0mtotal_sales\u001b[0m \u001b[0;34m=\u001b[0m \u001b[0mprices\u001b[0m\u001b[0;34m.\u001b[0m\u001b[0mdot\u001b[0m\u001b[0;34m(\u001b[0m\u001b[0msales_amounts\u001b[0m\u001b[0;34m)\u001b[0m\u001b[0;34m\u001b[0m\u001b[0;34m\u001b[0m\u001b[0m\n\u001b[0m\u001b[1;32m      3\u001b[0m \u001b[0mtotal_sales\u001b[0m\u001b[0;34m\u001b[0m\u001b[0;34m\u001b[0m\u001b[0m\n",
            "\u001b[0;31mValueError\u001b[0m: shapes (3,) and (5,3) not aligned: 3 (dim 0) != 5 (dim 0)"
          ]
        }
      ],
      "source": [
        "# Find the total amount of sales for a whole day\n",
        "total_sales = prices.dot(sales_amounts)\n",
        "total_sales"
      ]
    },
    {
      "cell_type": "markdown",
      "metadata": {
        "id": "rR5Pq9cTF_iL"
      },
      "source": [
        "##**The shapes aren't aligned, we need the middle two numbers to be the same.**\n",
        "##**We need to transpose**"
      ]
    },
    {
      "cell_type": "code",
      "execution_count": 243,
      "metadata": {
        "colab": {
          "base_uri": "https://localhost:8080/"
        },
        "id": "s98aZ3vNF_iL",
        "outputId": "392f7c55-72f4-4117-91f8-91b9cc7870a7"
      },
      "outputs": [
        {
          "output_type": "execute_result",
          "data": {
            "text/plain": [
              "array([10,  8, 12])"
            ]
          },
          "metadata": {},
          "execution_count": 243
        }
      ],
      "source": [
        "prices"
      ]
    },
    {
      "cell_type": "code",
      "source": [
        "sales_amounts.T"
      ],
      "metadata": {
        "id": "NZ2qaDaW7Isw",
        "outputId": "269ba6f2-872d-4877-e08d-9b8ea113793e",
        "colab": {
          "base_uri": "https://localhost:8080/"
        }
      },
      "execution_count": 246,
      "outputs": [
        {
          "output_type": "execute_result",
          "data": {
            "text/plain": [
              "array([[12,  3,  9,  4,  1],\n",
              "       [15,  3, 19,  6,  6],\n",
              "       [ 0,  7, 18, 12,  7]])"
            ]
          },
          "metadata": {},
          "execution_count": 246
        }
      ]
    },
    {
      "cell_type": "code",
      "source": [
        "prices.shape, sales_amounts.shape"
      ],
      "metadata": {
        "id": "3bKpO6La7pu6",
        "outputId": "9c5697df-0d84-4bb6-9520-d60834684993",
        "colab": {
          "base_uri": "https://localhost:8080/"
        }
      },
      "execution_count": 251,
      "outputs": [
        {
          "output_type": "execute_result",
          "data": {
            "text/plain": [
              "((3,), (5, 3))"
            ]
          },
          "metadata": {},
          "execution_count": 251
        }
      ]
    },
    {
      "cell_type": "code",
      "execution_count": 252,
      "metadata": {
        "colab": {
          "base_uri": "https://localhost:8080/"
        },
        "id": "Y5S7xAF3F_iL",
        "outputId": "66a540d6-6f3e-4cbe-8295-978adfc75f03"
      },
      "outputs": [
        {
          "output_type": "execute_result",
          "data": {
            "text/plain": [
              "(3, 5)"
            ]
          },
          "metadata": {},
          "execution_count": 252
        }
      ],
      "source": [
        "sales_amounts.T.shape"
      ]
    },
    {
      "cell_type": "code",
      "execution_count": 253,
      "metadata": {
        "colab": {
          "base_uri": "https://localhost:8080/"
        },
        "id": "h5mcEf78F_iL",
        "outputId": "a99e8e7d-7bd7-4a0c-ab8d-019a399a8a2d"
      },
      "outputs": [
        {
          "output_type": "execute_result",
          "data": {
            "text/plain": [
              "array([240, 138, 458, 232, 142])"
            ]
          },
          "metadata": {},
          "execution_count": 253
        }
      ],
      "source": [
        "# To make the middle numbers the same, we can transpose\n",
        "total_sales = prices.dot(sales_amounts.T)\n",
        "total_sales"
      ]
    },
    {
      "cell_type": "code",
      "execution_count": 247,
      "metadata": {
        "colab": {
          "base_uri": "https://localhost:8080/"
        },
        "id": "_oT_d1fQF_iL",
        "outputId": "a21aaab0-dde6-4562-ca51-994d627655f7"
      },
      "outputs": [
        {
          "output_type": "execute_result",
          "data": {
            "text/plain": [
              "((1, 3), (5, 3))"
            ]
          },
          "metadata": {},
          "execution_count": 247
        }
      ],
      "source": [
        "butter_prices.shape, weekly_sales.shape"
      ]
    },
    {
      "cell_type": "code",
      "execution_count": 248,
      "metadata": {
        "colab": {
          "base_uri": "https://localhost:8080/",
          "height": 81
        },
        "id": "P2-xJSnOF_iL",
        "outputId": "42c6942f-7bb6-429e-d63f-b44beaf1ae7e"
      },
      "outputs": [
        {
          "output_type": "execute_result",
          "data": {
            "text/plain": [
              "       Mon  Tues  Wed  Thurs  Fri\n",
              "Price  240   138  458    232  142"
            ],
            "text/html": [
              "\n",
              "  <div id=\"df-0a06d81d-3f02-4727-bc99-4b137c18e2fa\">\n",
              "    <div class=\"colab-df-container\">\n",
              "      <div>\n",
              "<style scoped>\n",
              "    .dataframe tbody tr th:only-of-type {\n",
              "        vertical-align: middle;\n",
              "    }\n",
              "\n",
              "    .dataframe tbody tr th {\n",
              "        vertical-align: top;\n",
              "    }\n",
              "\n",
              "    .dataframe thead th {\n",
              "        text-align: right;\n",
              "    }\n",
              "</style>\n",
              "<table border=\"1\" class=\"dataframe\">\n",
              "  <thead>\n",
              "    <tr style=\"text-align: right;\">\n",
              "      <th></th>\n",
              "      <th>Mon</th>\n",
              "      <th>Tues</th>\n",
              "      <th>Wed</th>\n",
              "      <th>Thurs</th>\n",
              "      <th>Fri</th>\n",
              "    </tr>\n",
              "  </thead>\n",
              "  <tbody>\n",
              "    <tr>\n",
              "      <th>Price</th>\n",
              "      <td>240</td>\n",
              "      <td>138</td>\n",
              "      <td>458</td>\n",
              "      <td>232</td>\n",
              "      <td>142</td>\n",
              "    </tr>\n",
              "  </tbody>\n",
              "</table>\n",
              "</div>\n",
              "      <button class=\"colab-df-convert\" onclick=\"convertToInteractive('df-0a06d81d-3f02-4727-bc99-4b137c18e2fa')\"\n",
              "              title=\"Convert this dataframe to an interactive table.\"\n",
              "              style=\"display:none;\">\n",
              "        \n",
              "  <svg xmlns=\"http://www.w3.org/2000/svg\" height=\"24px\"viewBox=\"0 0 24 24\"\n",
              "       width=\"24px\">\n",
              "    <path d=\"M0 0h24v24H0V0z\" fill=\"none\"/>\n",
              "    <path d=\"M18.56 5.44l.94 2.06.94-2.06 2.06-.94-2.06-.94-.94-2.06-.94 2.06-2.06.94zm-11 1L8.5 8.5l.94-2.06 2.06-.94-2.06-.94L8.5 2.5l-.94 2.06-2.06.94zm10 10l.94 2.06.94-2.06 2.06-.94-2.06-.94-.94-2.06-.94 2.06-2.06.94z\"/><path d=\"M17.41 7.96l-1.37-1.37c-.4-.4-.92-.59-1.43-.59-.52 0-1.04.2-1.43.59L10.3 9.45l-7.72 7.72c-.78.78-.78 2.05 0 2.83L4 21.41c.39.39.9.59 1.41.59.51 0 1.02-.2 1.41-.59l7.78-7.78 2.81-2.81c.8-.78.8-2.07 0-2.86zM5.41 20L4 18.59l7.72-7.72 1.47 1.35L5.41 20z\"/>\n",
              "  </svg>\n",
              "      </button>\n",
              "      \n",
              "  <style>\n",
              "    .colab-df-container {\n",
              "      display:flex;\n",
              "      flex-wrap:wrap;\n",
              "      gap: 12px;\n",
              "    }\n",
              "\n",
              "    .colab-df-convert {\n",
              "      background-color: #E8F0FE;\n",
              "      border: none;\n",
              "      border-radius: 50%;\n",
              "      cursor: pointer;\n",
              "      display: none;\n",
              "      fill: #1967D2;\n",
              "      height: 32px;\n",
              "      padding: 0 0 0 0;\n",
              "      width: 32px;\n",
              "    }\n",
              "\n",
              "    .colab-df-convert:hover {\n",
              "      background-color: #E2EBFA;\n",
              "      box-shadow: 0px 1px 2px rgba(60, 64, 67, 0.3), 0px 1px 3px 1px rgba(60, 64, 67, 0.15);\n",
              "      fill: #174EA6;\n",
              "    }\n",
              "\n",
              "    [theme=dark] .colab-df-convert {\n",
              "      background-color: #3B4455;\n",
              "      fill: #D2E3FC;\n",
              "    }\n",
              "\n",
              "    [theme=dark] .colab-df-convert:hover {\n",
              "      background-color: #434B5C;\n",
              "      box-shadow: 0px 1px 3px 1px rgba(0, 0, 0, 0.15);\n",
              "      filter: drop-shadow(0px 1px 2px rgba(0, 0, 0, 0.3));\n",
              "      fill: #FFFFFF;\n",
              "    }\n",
              "  </style>\n",
              "\n",
              "      <script>\n",
              "        const buttonEl =\n",
              "          document.querySelector('#df-0a06d81d-3f02-4727-bc99-4b137c18e2fa button.colab-df-convert');\n",
              "        buttonEl.style.display =\n",
              "          google.colab.kernel.accessAllowed ? 'block' : 'none';\n",
              "\n",
              "        async function convertToInteractive(key) {\n",
              "          const element = document.querySelector('#df-0a06d81d-3f02-4727-bc99-4b137c18e2fa');\n",
              "          const dataTable =\n",
              "            await google.colab.kernel.invokeFunction('convertToInteractive',\n",
              "                                                     [key], {});\n",
              "          if (!dataTable) return;\n",
              "\n",
              "          const docLinkHtml = 'Like what you see? Visit the ' +\n",
              "            '<a target=\"_blank\" href=https://colab.research.google.com/notebooks/data_table.ipynb>data table notebook</a>'\n",
              "            + ' to learn more about interactive tables.';\n",
              "          element.innerHTML = '';\n",
              "          dataTable['output_type'] = 'display_data';\n",
              "          await google.colab.output.renderOutput(dataTable, element);\n",
              "          const docLink = document.createElement('div');\n",
              "          docLink.innerHTML = docLinkHtml;\n",
              "          element.appendChild(docLink);\n",
              "        }\n",
              "      </script>\n",
              "    </div>\n",
              "  </div>\n",
              "  "
            ]
          },
          "metadata": {},
          "execution_count": 248
        }
      ],
      "source": [
        "daily_sales = butter_prices.dot(weekly_sales.T)\n",
        "daily_sales"
      ]
    },
    {
      "cell_type": "code",
      "source": [
        "weekly_sales"
      ],
      "metadata": {
        "id": "YBfFR1hH8HyW",
        "outputId": "c8d2b5a4-8dfe-49ec-8343-d3fbc64f5be1",
        "colab": {
          "base_uri": "https://localhost:8080/",
          "height": 206
        }
      },
      "execution_count": 254,
      "outputs": [
        {
          "output_type": "execute_result",
          "data": {
            "text/plain": [
              "       Almond butter  Peanut butter  Cashew butter  Total\n",
              "Mon               12             15              0    240\n",
              "Tues               3              3              7    138\n",
              "Wed                9             19             18    458\n",
              "Thurs              4              6             12    232\n",
              "Fri                1              6              7    142"
            ],
            "text/html": [
              "\n",
              "  <div id=\"df-a17423f6-9aaf-4dc3-965b-4302cf0b1c55\">\n",
              "    <div class=\"colab-df-container\">\n",
              "      <div>\n",
              "<style scoped>\n",
              "    .dataframe tbody tr th:only-of-type {\n",
              "        vertical-align: middle;\n",
              "    }\n",
              "\n",
              "    .dataframe tbody tr th {\n",
              "        vertical-align: top;\n",
              "    }\n",
              "\n",
              "    .dataframe thead th {\n",
              "        text-align: right;\n",
              "    }\n",
              "</style>\n",
              "<table border=\"1\" class=\"dataframe\">\n",
              "  <thead>\n",
              "    <tr style=\"text-align: right;\">\n",
              "      <th></th>\n",
              "      <th>Almond butter</th>\n",
              "      <th>Peanut butter</th>\n",
              "      <th>Cashew butter</th>\n",
              "      <th>Total</th>\n",
              "    </tr>\n",
              "  </thead>\n",
              "  <tbody>\n",
              "    <tr>\n",
              "      <th>Mon</th>\n",
              "      <td>12</td>\n",
              "      <td>15</td>\n",
              "      <td>0</td>\n",
              "      <td>240</td>\n",
              "    </tr>\n",
              "    <tr>\n",
              "      <th>Tues</th>\n",
              "      <td>3</td>\n",
              "      <td>3</td>\n",
              "      <td>7</td>\n",
              "      <td>138</td>\n",
              "    </tr>\n",
              "    <tr>\n",
              "      <th>Wed</th>\n",
              "      <td>9</td>\n",
              "      <td>19</td>\n",
              "      <td>18</td>\n",
              "      <td>458</td>\n",
              "    </tr>\n",
              "    <tr>\n",
              "      <th>Thurs</th>\n",
              "      <td>4</td>\n",
              "      <td>6</td>\n",
              "      <td>12</td>\n",
              "      <td>232</td>\n",
              "    </tr>\n",
              "    <tr>\n",
              "      <th>Fri</th>\n",
              "      <td>1</td>\n",
              "      <td>6</td>\n",
              "      <td>7</td>\n",
              "      <td>142</td>\n",
              "    </tr>\n",
              "  </tbody>\n",
              "</table>\n",
              "</div>\n",
              "      <button class=\"colab-df-convert\" onclick=\"convertToInteractive('df-a17423f6-9aaf-4dc3-965b-4302cf0b1c55')\"\n",
              "              title=\"Convert this dataframe to an interactive table.\"\n",
              "              style=\"display:none;\">\n",
              "        \n",
              "  <svg xmlns=\"http://www.w3.org/2000/svg\" height=\"24px\"viewBox=\"0 0 24 24\"\n",
              "       width=\"24px\">\n",
              "    <path d=\"M0 0h24v24H0V0z\" fill=\"none\"/>\n",
              "    <path d=\"M18.56 5.44l.94 2.06.94-2.06 2.06-.94-2.06-.94-.94-2.06-.94 2.06-2.06.94zm-11 1L8.5 8.5l.94-2.06 2.06-.94-2.06-.94L8.5 2.5l-.94 2.06-2.06.94zm10 10l.94 2.06.94-2.06 2.06-.94-2.06-.94-.94-2.06-.94 2.06-2.06.94z\"/><path d=\"M17.41 7.96l-1.37-1.37c-.4-.4-.92-.59-1.43-.59-.52 0-1.04.2-1.43.59L10.3 9.45l-7.72 7.72c-.78.78-.78 2.05 0 2.83L4 21.41c.39.39.9.59 1.41.59.51 0 1.02-.2 1.41-.59l7.78-7.78 2.81-2.81c.8-.78.8-2.07 0-2.86zM5.41 20L4 18.59l7.72-7.72 1.47 1.35L5.41 20z\"/>\n",
              "  </svg>\n",
              "      </button>\n",
              "      \n",
              "  <style>\n",
              "    .colab-df-container {\n",
              "      display:flex;\n",
              "      flex-wrap:wrap;\n",
              "      gap: 12px;\n",
              "    }\n",
              "\n",
              "    .colab-df-convert {\n",
              "      background-color: #E8F0FE;\n",
              "      border: none;\n",
              "      border-radius: 50%;\n",
              "      cursor: pointer;\n",
              "      display: none;\n",
              "      fill: #1967D2;\n",
              "      height: 32px;\n",
              "      padding: 0 0 0 0;\n",
              "      width: 32px;\n",
              "    }\n",
              "\n",
              "    .colab-df-convert:hover {\n",
              "      background-color: #E2EBFA;\n",
              "      box-shadow: 0px 1px 2px rgba(60, 64, 67, 0.3), 0px 1px 3px 1px rgba(60, 64, 67, 0.15);\n",
              "      fill: #174EA6;\n",
              "    }\n",
              "\n",
              "    [theme=dark] .colab-df-convert {\n",
              "      background-color: #3B4455;\n",
              "      fill: #D2E3FC;\n",
              "    }\n",
              "\n",
              "    [theme=dark] .colab-df-convert:hover {\n",
              "      background-color: #434B5C;\n",
              "      box-shadow: 0px 1px 3px 1px rgba(0, 0, 0, 0.15);\n",
              "      filter: drop-shadow(0px 1px 2px rgba(0, 0, 0, 0.3));\n",
              "      fill: #FFFFFF;\n",
              "    }\n",
              "  </style>\n",
              "\n",
              "      <script>\n",
              "        const buttonEl =\n",
              "          document.querySelector('#df-a17423f6-9aaf-4dc3-965b-4302cf0b1c55 button.colab-df-convert');\n",
              "        buttonEl.style.display =\n",
              "          google.colab.kernel.accessAllowed ? 'block' : 'none';\n",
              "\n",
              "        async function convertToInteractive(key) {\n",
              "          const element = document.querySelector('#df-a17423f6-9aaf-4dc3-965b-4302cf0b1c55');\n",
              "          const dataTable =\n",
              "            await google.colab.kernel.invokeFunction('convertToInteractive',\n",
              "                                                     [key], {});\n",
              "          if (!dataTable) return;\n",
              "\n",
              "          const docLinkHtml = 'Like what you see? Visit the ' +\n",
              "            '<a target=\"_blank\" href=https://colab.research.google.com/notebooks/data_table.ipynb>data table notebook</a>'\n",
              "            + ' to learn more about interactive tables.';\n",
              "          element.innerHTML = '';\n",
              "          dataTable['output_type'] = 'display_data';\n",
              "          await google.colab.output.renderOutput(dataTable, element);\n",
              "          const docLink = document.createElement('div');\n",
              "          docLink.innerHTML = docLinkHtml;\n",
              "          element.appendChild(docLink);\n",
              "        }\n",
              "      </script>\n",
              "    </div>\n",
              "  </div>\n",
              "  "
            ]
          },
          "metadata": {},
          "execution_count": 254
        }
      ]
    },
    {
      "cell_type": "code",
      "source": [
        "daily_sales"
      ],
      "metadata": {
        "id": "Uq7G_2Yz8L8e",
        "outputId": "fe5e1295-9284-43bd-cdd0-33185337ea15",
        "colab": {
          "base_uri": "https://localhost:8080/",
          "height": 81
        }
      },
      "execution_count": 255,
      "outputs": [
        {
          "output_type": "execute_result",
          "data": {
            "text/plain": [
              "       Mon  Tues  Wed  Thurs  Fri\n",
              "Price  240   138  458    232  142"
            ],
            "text/html": [
              "\n",
              "  <div id=\"df-7b5f4bb1-6ebb-498e-978b-4f03d4e597b0\">\n",
              "    <div class=\"colab-df-container\">\n",
              "      <div>\n",
              "<style scoped>\n",
              "    .dataframe tbody tr th:only-of-type {\n",
              "        vertical-align: middle;\n",
              "    }\n",
              "\n",
              "    .dataframe tbody tr th {\n",
              "        vertical-align: top;\n",
              "    }\n",
              "\n",
              "    .dataframe thead th {\n",
              "        text-align: right;\n",
              "    }\n",
              "</style>\n",
              "<table border=\"1\" class=\"dataframe\">\n",
              "  <thead>\n",
              "    <tr style=\"text-align: right;\">\n",
              "      <th></th>\n",
              "      <th>Mon</th>\n",
              "      <th>Tues</th>\n",
              "      <th>Wed</th>\n",
              "      <th>Thurs</th>\n",
              "      <th>Fri</th>\n",
              "    </tr>\n",
              "  </thead>\n",
              "  <tbody>\n",
              "    <tr>\n",
              "      <th>Price</th>\n",
              "      <td>240</td>\n",
              "      <td>138</td>\n",
              "      <td>458</td>\n",
              "      <td>232</td>\n",
              "      <td>142</td>\n",
              "    </tr>\n",
              "  </tbody>\n",
              "</table>\n",
              "</div>\n",
              "      <button class=\"colab-df-convert\" onclick=\"convertToInteractive('df-7b5f4bb1-6ebb-498e-978b-4f03d4e597b0')\"\n",
              "              title=\"Convert this dataframe to an interactive table.\"\n",
              "              style=\"display:none;\">\n",
              "        \n",
              "  <svg xmlns=\"http://www.w3.org/2000/svg\" height=\"24px\"viewBox=\"0 0 24 24\"\n",
              "       width=\"24px\">\n",
              "    <path d=\"M0 0h24v24H0V0z\" fill=\"none\"/>\n",
              "    <path d=\"M18.56 5.44l.94 2.06.94-2.06 2.06-.94-2.06-.94-.94-2.06-.94 2.06-2.06.94zm-11 1L8.5 8.5l.94-2.06 2.06-.94-2.06-.94L8.5 2.5l-.94 2.06-2.06.94zm10 10l.94 2.06.94-2.06 2.06-.94-2.06-.94-.94-2.06-.94 2.06-2.06.94z\"/><path d=\"M17.41 7.96l-1.37-1.37c-.4-.4-.92-.59-1.43-.59-.52 0-1.04.2-1.43.59L10.3 9.45l-7.72 7.72c-.78.78-.78 2.05 0 2.83L4 21.41c.39.39.9.59 1.41.59.51 0 1.02-.2 1.41-.59l7.78-7.78 2.81-2.81c.8-.78.8-2.07 0-2.86zM5.41 20L4 18.59l7.72-7.72 1.47 1.35L5.41 20z\"/>\n",
              "  </svg>\n",
              "      </button>\n",
              "      \n",
              "  <style>\n",
              "    .colab-df-container {\n",
              "      display:flex;\n",
              "      flex-wrap:wrap;\n",
              "      gap: 12px;\n",
              "    }\n",
              "\n",
              "    .colab-df-convert {\n",
              "      background-color: #E8F0FE;\n",
              "      border: none;\n",
              "      border-radius: 50%;\n",
              "      cursor: pointer;\n",
              "      display: none;\n",
              "      fill: #1967D2;\n",
              "      height: 32px;\n",
              "      padding: 0 0 0 0;\n",
              "      width: 32px;\n",
              "    }\n",
              "\n",
              "    .colab-df-convert:hover {\n",
              "      background-color: #E2EBFA;\n",
              "      box-shadow: 0px 1px 2px rgba(60, 64, 67, 0.3), 0px 1px 3px 1px rgba(60, 64, 67, 0.15);\n",
              "      fill: #174EA6;\n",
              "    }\n",
              "\n",
              "    [theme=dark] .colab-df-convert {\n",
              "      background-color: #3B4455;\n",
              "      fill: #D2E3FC;\n",
              "    }\n",
              "\n",
              "    [theme=dark] .colab-df-convert:hover {\n",
              "      background-color: #434B5C;\n",
              "      box-shadow: 0px 1px 3px 1px rgba(0, 0, 0, 0.15);\n",
              "      filter: drop-shadow(0px 1px 2px rgba(0, 0, 0, 0.3));\n",
              "      fill: #FFFFFF;\n",
              "    }\n",
              "  </style>\n",
              "\n",
              "      <script>\n",
              "        const buttonEl =\n",
              "          document.querySelector('#df-7b5f4bb1-6ebb-498e-978b-4f03d4e597b0 button.colab-df-convert');\n",
              "        buttonEl.style.display =\n",
              "          google.colab.kernel.accessAllowed ? 'block' : 'none';\n",
              "\n",
              "        async function convertToInteractive(key) {\n",
              "          const element = document.querySelector('#df-7b5f4bb1-6ebb-498e-978b-4f03d4e597b0');\n",
              "          const dataTable =\n",
              "            await google.colab.kernel.invokeFunction('convertToInteractive',\n",
              "                                                     [key], {});\n",
              "          if (!dataTable) return;\n",
              "\n",
              "          const docLinkHtml = 'Like what you see? Visit the ' +\n",
              "            '<a target=\"_blank\" href=https://colab.research.google.com/notebooks/data_table.ipynb>data table notebook</a>'\n",
              "            + ' to learn more about interactive tables.';\n",
              "          element.innerHTML = '';\n",
              "          dataTable['output_type'] = 'display_data';\n",
              "          await google.colab.output.renderOutput(dataTable, element);\n",
              "          const docLink = document.createElement('div');\n",
              "          docLink.innerHTML = docLinkHtml;\n",
              "          element.appendChild(docLink);\n",
              "        }\n",
              "      </script>\n",
              "    </div>\n",
              "  </div>\n",
              "  "
            ]
          },
          "metadata": {},
          "execution_count": 255
        }
      ]
    },
    {
      "cell_type": "code",
      "execution_count": 256,
      "metadata": {
        "colab": {
          "base_uri": "https://localhost:8080/",
          "height": 346
        },
        "id": "CkTWR7jnF_iL",
        "outputId": "fda90678-7e6e-43c6-ba7b-f73f93c802b6"
      },
      "outputs": [
        {
          "output_type": "error",
          "ename": "ValueError",
          "evalue": "ignored",
          "traceback": [
            "\u001b[0;31m---------------------------------------------------------------------------\u001b[0m",
            "\u001b[0;31mValueError\u001b[0m                                Traceback (most recent call last)",
            "\u001b[0;32m<ipython-input-256-d83a0e05ff92>\u001b[0m in \u001b[0;36m<module>\u001b[0;34m\u001b[0m\n\u001b[1;32m      1\u001b[0m \u001b[0;31m# Need to transpose again\u001b[0m\u001b[0;34m\u001b[0m\u001b[0;34m\u001b[0m\u001b[0;34m\u001b[0m\u001b[0m\n\u001b[0;32m----> 2\u001b[0;31m \u001b[0mweekly_sales\u001b[0m\u001b[0;34m[\u001b[0m\u001b[0;34m\"Total\"\u001b[0m\u001b[0;34m]\u001b[0m \u001b[0;34m=\u001b[0m \u001b[0mdaily_sales\u001b[0m\u001b[0;34m\u001b[0m\u001b[0;34m\u001b[0m\u001b[0m\n\u001b[0m\u001b[1;32m      3\u001b[0m \u001b[0mweekly_sales\u001b[0m\u001b[0;34m\u001b[0m\u001b[0;34m\u001b[0m\u001b[0m\n",
            "\u001b[0;32m/usr/local/lib/python3.8/dist-packages/pandas/core/frame.py\u001b[0m in \u001b[0;36m__setitem__\u001b[0;34m(self, key, value)\u001b[0m\n\u001b[1;32m   3600\u001b[0m             \u001b[0mself\u001b[0m\u001b[0;34m.\u001b[0m\u001b[0m_setitem_array\u001b[0m\u001b[0;34m(\u001b[0m\u001b[0mkey\u001b[0m\u001b[0;34m,\u001b[0m \u001b[0mvalue\u001b[0m\u001b[0;34m)\u001b[0m\u001b[0;34m\u001b[0m\u001b[0;34m\u001b[0m\u001b[0m\n\u001b[1;32m   3601\u001b[0m         \u001b[0;32melif\u001b[0m \u001b[0misinstance\u001b[0m\u001b[0;34m(\u001b[0m\u001b[0mvalue\u001b[0m\u001b[0;34m,\u001b[0m \u001b[0mDataFrame\u001b[0m\u001b[0;34m)\u001b[0m\u001b[0;34m:\u001b[0m\u001b[0;34m\u001b[0m\u001b[0;34m\u001b[0m\u001b[0m\n\u001b[0;32m-> 3602\u001b[0;31m             \u001b[0mself\u001b[0m\u001b[0;34m.\u001b[0m\u001b[0m_set_item_frame_value\u001b[0m\u001b[0;34m(\u001b[0m\u001b[0mkey\u001b[0m\u001b[0;34m,\u001b[0m \u001b[0mvalue\u001b[0m\u001b[0;34m)\u001b[0m\u001b[0;34m\u001b[0m\u001b[0;34m\u001b[0m\u001b[0m\n\u001b[0m\u001b[1;32m   3603\u001b[0m         elif (\n\u001b[1;32m   3604\u001b[0m             \u001b[0mis_list_like\u001b[0m\u001b[0;34m(\u001b[0m\u001b[0mvalue\u001b[0m\u001b[0;34m)\u001b[0m\u001b[0;34m\u001b[0m\u001b[0;34m\u001b[0m\u001b[0m\n",
            "\u001b[0;32m/usr/local/lib/python3.8/dist-packages/pandas/core/frame.py\u001b[0m in \u001b[0;36m_set_item_frame_value\u001b[0;34m(self, key, value)\u001b[0m\n\u001b[1;32m   3727\u001b[0m             \u001b[0mlen_cols\u001b[0m \u001b[0;34m=\u001b[0m \u001b[0;36m1\u001b[0m \u001b[0;32mif\u001b[0m \u001b[0mis_scalar\u001b[0m\u001b[0;34m(\u001b[0m\u001b[0mcols\u001b[0m\u001b[0;34m)\u001b[0m \u001b[0;32melse\u001b[0m \u001b[0mlen\u001b[0m\u001b[0;34m(\u001b[0m\u001b[0mcols\u001b[0m\u001b[0;34m)\u001b[0m\u001b[0;34m\u001b[0m\u001b[0;34m\u001b[0m\u001b[0m\n\u001b[1;32m   3728\u001b[0m             \u001b[0;32mif\u001b[0m \u001b[0mlen_cols\u001b[0m \u001b[0;34m!=\u001b[0m \u001b[0mlen\u001b[0m\u001b[0;34m(\u001b[0m\u001b[0mvalue\u001b[0m\u001b[0;34m.\u001b[0m\u001b[0mcolumns\u001b[0m\u001b[0;34m)\u001b[0m\u001b[0;34m:\u001b[0m\u001b[0;34m\u001b[0m\u001b[0;34m\u001b[0m\u001b[0m\n\u001b[0;32m-> 3729\u001b[0;31m                 \u001b[0;32mraise\u001b[0m \u001b[0mValueError\u001b[0m\u001b[0;34m(\u001b[0m\u001b[0;34m\"Columns must be same length as key\"\u001b[0m\u001b[0;34m)\u001b[0m\u001b[0;34m\u001b[0m\u001b[0;34m\u001b[0m\u001b[0m\n\u001b[0m\u001b[1;32m   3730\u001b[0m \u001b[0;34m\u001b[0m\u001b[0m\n\u001b[1;32m   3731\u001b[0m             \u001b[0;31m# align right-hand-side columns if self.columns\u001b[0m\u001b[0;34m\u001b[0m\u001b[0;34m\u001b[0m\u001b[0;34m\u001b[0m\u001b[0m\n",
            "\u001b[0;31mValueError\u001b[0m: Columns must be same length as key"
          ]
        }
      ],
      "source": [
        "weekly_sales[\"Total\"] = daily_sales\n",
        "weekly_sales"
      ]
    },
    {
      "cell_type": "code",
      "source": [
        "# Need to transpose again\n",
        "weekly_sales[\"Total\"] = daily_sales.T\n",
        "weekly_sales"
      ],
      "metadata": {
        "id": "Ojcz2uX78VoX",
        "outputId": "01094ff9-354a-4c1a-a8dd-be3861c027a8",
        "colab": {
          "base_uri": "https://localhost:8080/",
          "height": 206
        }
      },
      "execution_count": 258,
      "outputs": [
        {
          "output_type": "execute_result",
          "data": {
            "text/plain": [
              "       Almond butter  Peanut butter  Cashew butter  Total\n",
              "Mon               12             15              0    240\n",
              "Tues               3              3              7    138\n",
              "Wed                9             19             18    458\n",
              "Thurs              4              6             12    232\n",
              "Fri                1              6              7    142"
            ],
            "text/html": [
              "\n",
              "  <div id=\"df-645d1075-c1b3-4cab-85df-4fd362ae5cf5\">\n",
              "    <div class=\"colab-df-container\">\n",
              "      <div>\n",
              "<style scoped>\n",
              "    .dataframe tbody tr th:only-of-type {\n",
              "        vertical-align: middle;\n",
              "    }\n",
              "\n",
              "    .dataframe tbody tr th {\n",
              "        vertical-align: top;\n",
              "    }\n",
              "\n",
              "    .dataframe thead th {\n",
              "        text-align: right;\n",
              "    }\n",
              "</style>\n",
              "<table border=\"1\" class=\"dataframe\">\n",
              "  <thead>\n",
              "    <tr style=\"text-align: right;\">\n",
              "      <th></th>\n",
              "      <th>Almond butter</th>\n",
              "      <th>Peanut butter</th>\n",
              "      <th>Cashew butter</th>\n",
              "      <th>Total</th>\n",
              "    </tr>\n",
              "  </thead>\n",
              "  <tbody>\n",
              "    <tr>\n",
              "      <th>Mon</th>\n",
              "      <td>12</td>\n",
              "      <td>15</td>\n",
              "      <td>0</td>\n",
              "      <td>240</td>\n",
              "    </tr>\n",
              "    <tr>\n",
              "      <th>Tues</th>\n",
              "      <td>3</td>\n",
              "      <td>3</td>\n",
              "      <td>7</td>\n",
              "      <td>138</td>\n",
              "    </tr>\n",
              "    <tr>\n",
              "      <th>Wed</th>\n",
              "      <td>9</td>\n",
              "      <td>19</td>\n",
              "      <td>18</td>\n",
              "      <td>458</td>\n",
              "    </tr>\n",
              "    <tr>\n",
              "      <th>Thurs</th>\n",
              "      <td>4</td>\n",
              "      <td>6</td>\n",
              "      <td>12</td>\n",
              "      <td>232</td>\n",
              "    </tr>\n",
              "    <tr>\n",
              "      <th>Fri</th>\n",
              "      <td>1</td>\n",
              "      <td>6</td>\n",
              "      <td>7</td>\n",
              "      <td>142</td>\n",
              "    </tr>\n",
              "  </tbody>\n",
              "</table>\n",
              "</div>\n",
              "      <button class=\"colab-df-convert\" onclick=\"convertToInteractive('df-645d1075-c1b3-4cab-85df-4fd362ae5cf5')\"\n",
              "              title=\"Convert this dataframe to an interactive table.\"\n",
              "              style=\"display:none;\">\n",
              "        \n",
              "  <svg xmlns=\"http://www.w3.org/2000/svg\" height=\"24px\"viewBox=\"0 0 24 24\"\n",
              "       width=\"24px\">\n",
              "    <path d=\"M0 0h24v24H0V0z\" fill=\"none\"/>\n",
              "    <path d=\"M18.56 5.44l.94 2.06.94-2.06 2.06-.94-2.06-.94-.94-2.06-.94 2.06-2.06.94zm-11 1L8.5 8.5l.94-2.06 2.06-.94-2.06-.94L8.5 2.5l-.94 2.06-2.06.94zm10 10l.94 2.06.94-2.06 2.06-.94-2.06-.94-.94-2.06-.94 2.06-2.06.94z\"/><path d=\"M17.41 7.96l-1.37-1.37c-.4-.4-.92-.59-1.43-.59-.52 0-1.04.2-1.43.59L10.3 9.45l-7.72 7.72c-.78.78-.78 2.05 0 2.83L4 21.41c.39.39.9.59 1.41.59.51 0 1.02-.2 1.41-.59l7.78-7.78 2.81-2.81c.8-.78.8-2.07 0-2.86zM5.41 20L4 18.59l7.72-7.72 1.47 1.35L5.41 20z\"/>\n",
              "  </svg>\n",
              "      </button>\n",
              "      \n",
              "  <style>\n",
              "    .colab-df-container {\n",
              "      display:flex;\n",
              "      flex-wrap:wrap;\n",
              "      gap: 12px;\n",
              "    }\n",
              "\n",
              "    .colab-df-convert {\n",
              "      background-color: #E8F0FE;\n",
              "      border: none;\n",
              "      border-radius: 50%;\n",
              "      cursor: pointer;\n",
              "      display: none;\n",
              "      fill: #1967D2;\n",
              "      height: 32px;\n",
              "      padding: 0 0 0 0;\n",
              "      width: 32px;\n",
              "    }\n",
              "\n",
              "    .colab-df-convert:hover {\n",
              "      background-color: #E2EBFA;\n",
              "      box-shadow: 0px 1px 2px rgba(60, 64, 67, 0.3), 0px 1px 3px 1px rgba(60, 64, 67, 0.15);\n",
              "      fill: #174EA6;\n",
              "    }\n",
              "\n",
              "    [theme=dark] .colab-df-convert {\n",
              "      background-color: #3B4455;\n",
              "      fill: #D2E3FC;\n",
              "    }\n",
              "\n",
              "    [theme=dark] .colab-df-convert:hover {\n",
              "      background-color: #434B5C;\n",
              "      box-shadow: 0px 1px 3px 1px rgba(0, 0, 0, 0.15);\n",
              "      filter: drop-shadow(0px 1px 2px rgba(0, 0, 0, 0.3));\n",
              "      fill: #FFFFFF;\n",
              "    }\n",
              "  </style>\n",
              "\n",
              "      <script>\n",
              "        const buttonEl =\n",
              "          document.querySelector('#df-645d1075-c1b3-4cab-85df-4fd362ae5cf5 button.colab-df-convert');\n",
              "        buttonEl.style.display =\n",
              "          google.colab.kernel.accessAllowed ? 'block' : 'none';\n",
              "\n",
              "        async function convertToInteractive(key) {\n",
              "          const element = document.querySelector('#df-645d1075-c1b3-4cab-85df-4fd362ae5cf5');\n",
              "          const dataTable =\n",
              "            await google.colab.kernel.invokeFunction('convertToInteractive',\n",
              "                                                     [key], {});\n",
              "          if (!dataTable) return;\n",
              "\n",
              "          const docLinkHtml = 'Like what you see? Visit the ' +\n",
              "            '<a target=\"_blank\" href=https://colab.research.google.com/notebooks/data_table.ipynb>data table notebook</a>'\n",
              "            + ' to learn more about interactive tables.';\n",
              "          element.innerHTML = '';\n",
              "          dataTable['output_type'] = 'display_data';\n",
              "          await google.colab.output.renderOutput(dataTable, element);\n",
              "          const docLink = document.createElement('div');\n",
              "          docLink.innerHTML = docLinkHtml;\n",
              "          element.appendChild(docLink);\n",
              "        }\n",
              "      </script>\n",
              "    </div>\n",
              "  </div>\n",
              "  "
            ]
          },
          "metadata": {},
          "execution_count": 258
        }
      ]
    },
    {
      "cell_type": "markdown",
      "metadata": {
        "id": "exlsQAfJF_iL"
      },
      "source": [
        "###**Comparison operators:**"
      ]
    },
    {
      "cell_type": "code",
      "execution_count": 259,
      "metadata": {
        "colab": {
          "base_uri": "https://localhost:8080/"
        },
        "id": "lfkQdQyiF_iL",
        "outputId": "f8aca529-67ed-451d-e536-27d513c61fb9"
      },
      "outputs": [
        {
          "output_type": "execute_result",
          "data": {
            "text/plain": [
              "array([1, 2, 3])"
            ]
          },
          "metadata": {},
          "execution_count": 259
        }
      ],
      "source": [
        "a1"
      ]
    },
    {
      "cell_type": "code",
      "execution_count": 260,
      "metadata": {
        "colab": {
          "base_uri": "https://localhost:8080/"
        },
        "id": "kxsTWiyxF_iL",
        "outputId": "9481f865-1664-491f-c8a9-a87de3b7eea3"
      },
      "outputs": [
        {
          "output_type": "execute_result",
          "data": {
            "text/plain": [
              "array([[1. , 2. , 3.3],\n",
              "       [4. , 5. , 6.5]])"
            ]
          },
          "metadata": {},
          "execution_count": 260
        }
      ],
      "source": [
        "a2"
      ]
    },
    {
      "cell_type": "code",
      "execution_count": 261,
      "metadata": {
        "colab": {
          "base_uri": "https://localhost:8080/"
        },
        "id": "wEnl8Q9rF_iL",
        "outputId": "b0089887-92a5-4000-d33d-baf40a10247f"
      },
      "outputs": [
        {
          "output_type": "execute_result",
          "data": {
            "text/plain": [
              "array([[False, False, False],\n",
              "       [False, False, False]])"
            ]
          },
          "metadata": {},
          "execution_count": 261
        }
      ],
      "source": [
        "#Tells us whether each element in a1 is greater than each element in a2\n",
        "a1 > a2"
      ]
    },
    {
      "cell_type": "code",
      "execution_count": 263,
      "metadata": {
        "colab": {
          "base_uri": "https://localhost:8080/"
        },
        "id": "NMo40taYF_iL",
        "outputId": "8a1b2999-702b-415e-81cb-82f01456e3b4"
      },
      "outputs": [
        {
          "output_type": "execute_result",
          "data": {
            "text/plain": [
              "array([[ True,  True, False],\n",
              "       [False, False, False]])"
            ]
          },
          "metadata": {},
          "execution_count": 263
        }
      ],
      "source": [
        "##Tells us whether each element in a1 is greater than or equal to each element in a2\n",
        "a1 >= a2"
      ]
    },
    {
      "cell_type": "code",
      "source": [
        "bool_array = a1 >= a2\n",
        "bool_array"
      ],
      "metadata": {
        "id": "cxbPH0qKIkJE",
        "outputId": "4c30d9ff-e25a-4c16-c559-b1793da63515",
        "colab": {
          "base_uri": "https://localhost:8080/"
        }
      },
      "execution_count": 265,
      "outputs": [
        {
          "output_type": "execute_result",
          "data": {
            "text/plain": [
              "array([[ True,  True, False],\n",
              "       [False, False, False]])"
            ]
          },
          "metadata": {},
          "execution_count": 265
        }
      ]
    },
    {
      "cell_type": "code",
      "source": [
        "type(bool_array), bool_array.dtype"
      ],
      "metadata": {
        "id": "lbukzG8eIsGx",
        "outputId": "6da11b14-1a23-45ff-c5e9-90a74b5f3eea",
        "colab": {
          "base_uri": "https://localhost:8080/"
        }
      },
      "execution_count": 266,
      "outputs": [
        {
          "output_type": "execute_result",
          "data": {
            "text/plain": [
              "(numpy.ndarray, dtype('bool'))"
            ]
          },
          "metadata": {},
          "execution_count": 266
        }
      ]
    },
    {
      "cell_type": "code",
      "execution_count": 267,
      "metadata": {
        "colab": {
          "base_uri": "https://localhost:8080/"
        },
        "id": "vXmpnbFXF_iL",
        "outputId": "956cb4e7-1b60-43ab-d904-0bdbf93d1204"
      },
      "outputs": [
        {
          "output_type": "execute_result",
          "data": {
            "text/plain": [
              "array([False, False, False])"
            ]
          },
          "metadata": {},
          "execution_count": 267
        }
      ],
      "source": [
        "a1 > 5"
      ]
    },
    {
      "cell_type": "code",
      "source": [
        "a1 < 5"
      ],
      "metadata": {
        "id": "Z4_-9_ZyI7lc",
        "outputId": "855ebc23-0b46-478a-98b7-2d83010f5a08",
        "colab": {
          "base_uri": "https://localhost:8080/"
        }
      },
      "execution_count": 268,
      "outputs": [
        {
          "output_type": "execute_result",
          "data": {
            "text/plain": [
              "array([ True,  True,  True])"
            ]
          },
          "metadata": {},
          "execution_count": 268
        }
      ]
    },
    {
      "cell_type": "code",
      "execution_count": 269,
      "metadata": {
        "colab": {
          "base_uri": "https://localhost:8080/"
        },
        "id": "aa_YuxNBF_iL",
        "outputId": "c7134bc1-fe84-4d1d-d261-5e1f461c2b71"
      },
      "outputs": [
        {
          "output_type": "execute_result",
          "data": {
            "text/plain": [
              "array([ True,  True,  True])"
            ]
          },
          "metadata": {},
          "execution_count": 269
        }
      ],
      "source": [
        "a1 == a1"
      ]
    },
    {
      "cell_type": "code",
      "execution_count": 270,
      "metadata": {
        "colab": {
          "base_uri": "https://localhost:8080/"
        },
        "id": "I14veG6OF_iL",
        "outputId": "1eb47b8a-ecb6-4a56-9dbd-6d0b069081d6"
      },
      "outputs": [
        {
          "output_type": "execute_result",
          "data": {
            "text/plain": [
              "array([[ True,  True, False],\n",
              "       [False, False, False]])"
            ]
          },
          "metadata": {},
          "execution_count": 270
        }
      ],
      "source": [
        "a1 == a2"
      ]
    },
    {
      "cell_type": "markdown",
      "metadata": {
        "id": "LIB_5ZPVF_iL"
      },
      "source": [
        "##**5. Sorting arrays:**\n",
        "\n",
        "* `np.sort()`\n",
        "* `np.argsort()`\n",
        "* `np.argmax()`\n",
        "* `np.argmin()`"
      ]
    },
    {
      "cell_type": "code",
      "execution_count": 275,
      "metadata": {
        "colab": {
          "base_uri": "https://localhost:8080/"
        },
        "id": "gx51dnWNF_iL",
        "outputId": "4b0d80fd-5a76-414d-f072-590fc311a09d"
      },
      "outputs": [
        {
          "output_type": "execute_result",
          "data": {
            "text/plain": [
              "array([[7, 2, 0, 0, 4],\n",
              "       [5, 5, 6, 8, 4],\n",
              "       [1, 4, 9, 8, 1]])"
            ]
          },
          "metadata": {},
          "execution_count": 275
        }
      ],
      "source": [
        "random_array = np.random.randint(10, size=(3, 5)) #highest int is 10 and matrix is 3 by 5 in size\n",
        "random_array"
      ]
    },
    {
      "cell_type": "code",
      "source": [
        "random_array.shape"
      ],
      "metadata": {
        "id": "Prevb_KHJod1",
        "outputId": "70e3574a-40db-4c77-8554-a9be1e240624",
        "colab": {
          "base_uri": "https://localhost:8080/"
        }
      },
      "execution_count": 276,
      "outputs": [
        {
          "output_type": "execute_result",
          "data": {
            "text/plain": [
              "(3, 5)"
            ]
          },
          "metadata": {},
          "execution_count": 276
        }
      ]
    },
    {
      "cell_type": "code",
      "execution_count": 277,
      "metadata": {
        "colab": {
          "base_uri": "https://localhost:8080/"
        },
        "id": "_bx-RAGVF_iM",
        "outputId": "f65c9558-1e93-459e-fd88-9ee748b63596"
      },
      "outputs": [
        {
          "output_type": "execute_result",
          "data": {
            "text/plain": [
              "array([[0, 0, 2, 4, 7],\n",
              "       [4, 5, 5, 6, 8],\n",
              "       [1, 1, 4, 8, 9]])"
            ]
          },
          "metadata": {},
          "execution_count": 277
        }
      ],
      "source": [
        "#Sorts rows in ascending order:\n",
        "np.sort(random_array)"
      ]
    },
    {
      "cell_type": "code",
      "source": [
        "random_array"
      ],
      "metadata": {
        "id": "Pc75l5QaKhin",
        "outputId": "5d08f071-4bfd-433d-87c6-5ca21ee8482d",
        "colab": {
          "base_uri": "https://localhost:8080/"
        }
      },
      "execution_count": 281,
      "outputs": [
        {
          "output_type": "execute_result",
          "data": {
            "text/plain": [
              "array([[7, 2, 0, 0, 4],\n",
              "       [5, 5, 6, 8, 4],\n",
              "       [1, 4, 9, 8, 1]])"
            ]
          },
          "metadata": {},
          "execution_count": 281
        }
      ]
    },
    {
      "cell_type": "code",
      "execution_count": 282,
      "metadata": {
        "colab": {
          "base_uri": "https://localhost:8080/"
        },
        "id": "xGva62UWF_iM",
        "outputId": "5ab2bd4b-1345-4c06-fff4-ad33c3a141e5"
      },
      "outputs": [
        {
          "output_type": "execute_result",
          "data": {
            "text/plain": [
              "array([[2, 3, 1, 4, 0],\n",
              "       [4, 0, 1, 2, 3],\n",
              "       [0, 4, 1, 3, 2]])"
            ]
          },
          "metadata": {},
          "execution_count": 282
        }
      ],
      "source": [
        "#Sorts the indexes i.e.\n",
        "# [7, 2, 0, 0, 4]\n",
        "# turn it to [-1, 0, 3, 4]\n",
        "np.argsort(random_array)"
      ]
    },
    {
      "cell_type": "code",
      "execution_count": 283,
      "metadata": {
        "colab": {
          "base_uri": "https://localhost:8080/"
        },
        "id": "9KIVyWYjF_iM",
        "outputId": "e3db8769-29ed-4dce-9a18-03a255f412b5"
      },
      "outputs": [
        {
          "output_type": "execute_result",
          "data": {
            "text/plain": [
              "array([1, 2, 3])"
            ]
          },
          "metadata": {},
          "execution_count": 283
        }
      ],
      "source": [
        "a1"
      ]
    },
    {
      "cell_type": "code",
      "execution_count": 284,
      "metadata": {
        "colab": {
          "base_uri": "https://localhost:8080/"
        },
        "id": "hsLzGrJUF_iM",
        "outputId": "99fc11db-a321-4df9-d818-a1711c88a1f5"
      },
      "outputs": [
        {
          "output_type": "execute_result",
          "data": {
            "text/plain": [
              "array([0, 1, 2])"
            ]
          },
          "metadata": {},
          "execution_count": 284
        }
      ],
      "source": [
        "# Return the indices that would sort an array\n",
        "np.argsort(a1)"
      ]
    },
    {
      "cell_type": "markdown",
      "source": [
        "##**Index with min numnber:**"
      ],
      "metadata": {
        "id": "nvmAuprVL0P8"
      }
    },
    {
      "cell_type": "code",
      "execution_count": null,
      "metadata": {
        "id": "dpeJ7wuKF_iM"
      },
      "outputs": [],
      "source": [
        "# No axis\n",
        "np.argmin(a1)"
      ]
    },
    {
      "cell_type": "code",
      "execution_count": 285,
      "metadata": {
        "colab": {
          "base_uri": "https://localhost:8080/"
        },
        "id": "u77oxkKBF_iM",
        "outputId": "9b127e8f-45c8-4b12-da4d-b81fa3c75c0c"
      },
      "outputs": [
        {
          "output_type": "execute_result",
          "data": {
            "text/plain": [
              "array([[7, 2, 0, 0, 4],\n",
              "       [5, 5, 6, 8, 4],\n",
              "       [1, 4, 9, 8, 1]])"
            ]
          },
          "metadata": {},
          "execution_count": 285
        }
      ],
      "source": [
        "random_array"
      ]
    },
    {
      "cell_type": "code",
      "source": [
        "np.argmax(random_array)"
      ],
      "metadata": {
        "id": "CRmZFv-aL8at",
        "outputId": "c9ba5dc3-02f6-439c-a5a4-81a33ac2b359",
        "colab": {
          "base_uri": "https://localhost:8080/"
        }
      },
      "execution_count": 287,
      "outputs": [
        {
          "output_type": "execute_result",
          "data": {
            "text/plain": [
              "12"
            ]
          },
          "metadata": {},
          "execution_count": 287
        }
      ]
    },
    {
      "cell_type": "code",
      "execution_count": 289,
      "metadata": {
        "colab": {
          "base_uri": "https://localhost:8080/"
        },
        "id": "vfQ0UhrbF_iM",
        "outputId": "8da824e1-52dd-4a58-a57c-4ba9de71dc1a"
      },
      "outputs": [
        {
          "output_type": "execute_result",
          "data": {
            "text/plain": [
              "array([0, 3, 2])"
            ]
          },
          "metadata": {},
          "execution_count": 289
        }
      ],
      "source": [
        "# Down the vertical\n",
        "np.argmax(random_array, axis=1)\n",
        "#position 0 is highest number in row 0\n",
        "#position 3 is highest number in row 1\n",
        "#position 2 is highest number in row 2\n"
      ]
    },
    {
      "cell_type": "code",
      "execution_count": 288,
      "metadata": {
        "colab": {
          "base_uri": "https://localhost:8080/"
        },
        "id": "yWKYAR8CF_iM",
        "outputId": "d14846c6-8fab-4f2a-9e3b-7aa83d338912"
      },
      "outputs": [
        {
          "output_type": "execute_result",
          "data": {
            "text/plain": [
              "array([2, 0, 0, 0, 2])"
            ]
          },
          "metadata": {},
          "execution_count": 288
        }
      ],
      "source": [
        "# Across the horizontal\n",
        "np.argmin(random_array, axis=0)"
      ]
    },
    {
      "cell_type": "markdown",
      "metadata": {
        "id": "28TmpL_eF_iM"
      },
      "source": [
        "## 6. Use case\n",
        "\n",
        "Turning an image of a panda into numbers.\n",
        "\n",
        "<img src=\"https://github.com/mrdbourke/zero-to-mastery-ml/blob/master/images/numpy-panda.png?raw=1\" alt=\"photo of a panda waving\" />"
      ]
    },
    {
      "cell_type": "markdown",
      "source": [
        "#**Tapping into an image:**"
      ],
      "metadata": {
        "id": "0nqUqD1sMfjM"
      }
    },
    {
      "cell_type": "code",
      "execution_count": 294,
      "metadata": {
        "colab": {
          "base_uri": "https://localhost:8080/"
        },
        "id": "yne0f2-GF_iM",
        "outputId": "5db59d23-dd35-4c10-e303-917232cb0c7b"
      },
      "outputs": [
        {
          "output_type": "stream",
          "name": "stdout",
          "text": [
            "<class 'numpy.ndarray'>\n"
          ]
        }
      ],
      "source": [
        "#imread means Image Read\n",
        "from matplotlib.image import imread\n",
        "\n",
        "panda = imread('panda.png')\n",
        "print(type(panda))"
      ]
    },
    {
      "cell_type": "code",
      "execution_count": 295,
      "metadata": {
        "colab": {
          "base_uri": "https://localhost:8080/"
        },
        "id": "ahdmaN79F_iM",
        "outputId": "ae1ba91c-44fd-4b4c-e9bf-6c9c519a2e75"
      },
      "outputs": [
        {
          "output_type": "execute_result",
          "data": {
            "text/plain": [
              "(2330, 3500, 3)"
            ]
          },
          "metadata": {},
          "execution_count": 295
        }
      ],
      "source": [
        "panda.shape"
      ]
    },
    {
      "cell_type": "code",
      "source": [
        "panda.size"
      ],
      "metadata": {
        "id": "TXRIOmbUNQw1",
        "outputId": "e8c5624d-55da-4642-861c-7413cb91b833",
        "colab": {
          "base_uri": "https://localhost:8080/"
        }
      },
      "execution_count": 297,
      "outputs": [
        {
          "output_type": "execute_result",
          "data": {
            "text/plain": [
              "24465000"
            ]
          },
          "metadata": {},
          "execution_count": 297
        }
      ]
    },
    {
      "cell_type": "code",
      "source": [
        "panda.ndim"
      ],
      "metadata": {
        "id": "FuezwfukNSy1",
        "outputId": "d8b17ebe-75fa-4b5b-e182-20b04cc1cd1e",
        "colab": {
          "base_uri": "https://localhost:8080/"
        }
      },
      "execution_count": 298,
      "outputs": [
        {
          "output_type": "execute_result",
          "data": {
            "text/plain": [
              "3"
            ]
          },
          "metadata": {},
          "execution_count": 298
        }
      ]
    },
    {
      "cell_type": "code",
      "execution_count": 300,
      "metadata": {
        "colab": {
          "base_uri": "https://localhost:8080/"
        },
        "id": "JTVnx1sOF_iM",
        "outputId": "8d3f4fb9-1ac3-48dd-d197-1a9266174261"
      },
      "outputs": [
        {
          "output_type": "execute_result",
          "data": {
            "text/plain": [
              "array([[[0.05490196, 0.10588235, 0.06666667],\n",
              "        [0.05490196, 0.10588235, 0.06666667],\n",
              "        [0.05490196, 0.10588235, 0.06666667],\n",
              "        ...,\n",
              "        [0.16470589, 0.12941177, 0.09411765],\n",
              "        [0.16470589, 0.12941177, 0.09411765],\n",
              "        [0.16470589, 0.12941177, 0.09411765]],\n",
              "\n",
              "       [[0.05490196, 0.10588235, 0.06666667],\n",
              "        [0.05490196, 0.10588235, 0.06666667],\n",
              "        [0.05490196, 0.10588235, 0.06666667],\n",
              "        ...,\n",
              "        [0.16470589, 0.12941177, 0.09411765],\n",
              "        [0.16470589, 0.12941177, 0.09411765],\n",
              "        [0.16470589, 0.12941177, 0.09411765]],\n",
              "\n",
              "       [[0.05490196, 0.10588235, 0.06666667],\n",
              "        [0.05490196, 0.10588235, 0.06666667],\n",
              "        [0.05490196, 0.10588235, 0.06666667],\n",
              "        ...,\n",
              "        [0.16470589, 0.12941177, 0.09411765],\n",
              "        [0.16470589, 0.12941177, 0.09411765],\n",
              "        [0.16470589, 0.12941177, 0.09411765]],\n",
              "\n",
              "       [[0.05490196, 0.10588235, 0.06666667],\n",
              "        [0.05490196, 0.10588235, 0.06666667],\n",
              "        [0.05490196, 0.10588235, 0.06666667],\n",
              "        ...,\n",
              "        [0.16862746, 0.13333334, 0.09803922],\n",
              "        [0.16862746, 0.13333334, 0.09803922],\n",
              "        [0.16862746, 0.13333334, 0.09803922]],\n",
              "\n",
              "       [[0.05490196, 0.10588235, 0.06666667],\n",
              "        [0.05490196, 0.10588235, 0.06666667],\n",
              "        [0.05490196, 0.10588235, 0.06666667],\n",
              "        ...,\n",
              "        [0.16862746, 0.13333334, 0.09803922],\n",
              "        [0.16862746, 0.13333334, 0.09803922],\n",
              "        [0.16862746, 0.13333334, 0.09803922]]], dtype=float32)"
            ]
          },
          "metadata": {},
          "execution_count": 300
        }
      ],
      "source": [
        "panda[:5] #Gives all of the pixel values, which has color RGB values"
      ]
    },
    {
      "cell_type": "markdown",
      "metadata": {
        "id": "nEUy6WLFF_iM"
      },
      "source": [
        "<img src=\"https://github.com/mrdbourke/zero-to-mastery-ml/blob/master/images/numpy-car-photo.png?raw=1\" alt=\"photo of a car\"/>"
      ]
    },
    {
      "cell_type": "code",
      "execution_count": 301,
      "metadata": {
        "colab": {
          "base_uri": "https://localhost:8080/"
        },
        "id": "XRs3W5YzF_iM",
        "outputId": "d7c0cd4a-cb5a-42ac-d1e8-22b456617293"
      },
      "outputs": [
        {
          "output_type": "execute_result",
          "data": {
            "text/plain": [
              "(431, 575, 4)"
            ]
          },
          "metadata": {},
          "execution_count": 301
        }
      ],
      "source": [
        "car = imread(\"car-photo.png\")\n",
        "car.shape"
      ]
    },
    {
      "cell_type": "code",
      "source": [
        "print(type(car))"
      ],
      "metadata": {
        "id": "mosgrFAqNjgt",
        "outputId": "5424e0bf-1427-480e-f05c-0ec58480110a",
        "colab": {
          "base_uri": "https://localhost:8080/"
        }
      },
      "execution_count": 303,
      "outputs": [
        {
          "output_type": "stream",
          "name": "stdout",
          "text": [
            "<class 'numpy.ndarray'>\n"
          ]
        }
      ]
    },
    {
      "cell_type": "code",
      "execution_count": 302,
      "metadata": {
        "colab": {
          "base_uri": "https://localhost:8080/"
        },
        "id": "zrKDCFQnF_iM",
        "outputId": "026947a4-c5f6-4ae6-96b1-c6a61abd9d26"
      },
      "outputs": [
        {
          "output_type": "execute_result",
          "data": {
            "text/plain": [
              "(431, 575, 3)"
            ]
          },
          "metadata": {},
          "execution_count": 302
        }
      ],
      "source": [
        "car[:,:,:3].shape"
      ]
    },
    {
      "cell_type": "markdown",
      "metadata": {
        "id": "fzXS1k6FF_iM"
      },
      "source": [
        "<img src=\"https://github.com/mrdbourke/zero-to-mastery-ml/blob/master/images/numpy-dog-photo.png?raw=1\" alt=\"photo a dog\"/>"
      ]
    },
    {
      "cell_type": "code",
      "execution_count": 304,
      "metadata": {
        "colab": {
          "base_uri": "https://localhost:8080/"
        },
        "id": "RjXkpD2nF_iM",
        "outputId": "1f7c8a54-1100-4dce-b209-0d98ed512ec7"
      },
      "outputs": [
        {
          "output_type": "execute_result",
          "data": {
            "text/plain": [
              "(432, 575, 4)"
            ]
          },
          "metadata": {},
          "execution_count": 304
        }
      ],
      "source": [
        "dog = imread(\"dog-photo.png\")\n",
        "dog.shape"
      ]
    },
    {
      "cell_type": "code",
      "execution_count": 306,
      "metadata": {
        "colab": {
          "base_uri": "https://localhost:8080/"
        },
        "id": "9vzeYtPsF_iM",
        "outputId": "3d5e9113-7456-4a64-c58d-5f27adb6a6ff"
      },
      "outputs": [
        {
          "output_type": "execute_result",
          "data": {
            "text/plain": [
              "array([[[0.70980394, 0.80784315, 0.88235295, 1.        ],\n",
              "        [0.72156864, 0.8117647 , 0.8862745 , 1.        ],\n",
              "        [0.7411765 , 0.8156863 , 0.8862745 , 1.        ],\n",
              "        ...,\n",
              "        [0.49803922, 0.6862745 , 0.8392157 , 1.        ],\n",
              "        [0.49411765, 0.68235296, 0.8392157 , 1.        ],\n",
              "        [0.49411765, 0.68235296, 0.8352941 , 1.        ]]], dtype=float32)"
            ]
          },
          "metadata": {},
          "execution_count": 306
        }
      ],
      "source": [
        "dog[:1]"
      ]
    },
    {
      "cell_type": "code",
      "source": [
        "print(type(dog))"
      ],
      "metadata": {
        "id": "AIdwl41WNpFo",
        "outputId": "c8b051d9-c92f-4ef1-a13e-c2578a61547a",
        "colab": {
          "base_uri": "https://localhost:8080/"
        }
      },
      "execution_count": 307,
      "outputs": [
        {
          "output_type": "stream",
          "name": "stdout",
          "text": [
            "<class 'numpy.ndarray'>\n"
          ]
        }
      ]
    },
    {
      "cell_type": "code",
      "source": [],
      "metadata": {
        "id": "R1XXQ34fNwiv"
      },
      "execution_count": null,
      "outputs": []
    }
  ],
  "metadata": {
    "kernelspec": {
      "display_name": "Python 3",
      "language": "python",
      "name": "python3"
    },
    "language_info": {
      "codemirror_mode": {
        "name": "ipython",
        "version": 3
      },
      "file_extension": ".py",
      "mimetype": "text/x-python",
      "name": "python",
      "nbconvert_exporter": "python",
      "pygments_lexer": "ipython3",
      "version": "3.8.3"
    },
    "colab": {
      "provenance": []
    }
  },
  "nbformat": 4,
  "nbformat_minor": 0
}